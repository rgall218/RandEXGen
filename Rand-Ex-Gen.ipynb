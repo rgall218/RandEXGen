{
 "cells": [
  {
   "cell_type": "code",
   "execution_count": 1,
   "id": "5f9c6c80-747d-4124-a027-903301bc755b",
   "metadata": {},
   "outputs": [],
   "source": [
    "import ipywidgets as wt\n",
    "import pandas as pd\n",
    "import time\n",
    "import sys\n",
    "from IPython.display import display\n",
    "from IPython.display import clear_output"
   ]
  },
  {
   "cell_type": "code",
   "execution_count": 2,
   "id": "3affb38a-83b6-4ca5-986b-cc2d74713e7e",
   "metadata": {},
   "outputs": [],
   "source": [
    "def create_expanded_button(description, button_style):\n",
    "    return wt.Button(description=description, button_style=button_style, layout=wt.Layout(height='120px', width='100px'))\n"
   ]
  },
  {
   "cell_type": "code",
   "execution_count": 3,
   "id": "8004149a-6955-482b-890f-80ecea43eca7",
   "metadata": {},
   "outputs": [],
   "source": [
    "def create_close_button(description, button_style):\n",
    "    return wt.Button(description=description, button_style=button_style, layout=wt.Layout(height='55px', width='55px'))\n"
   ]
  },
  {
   "cell_type": "code",
   "execution_count": 4,
   "id": "b9800f96-1d3c-4572-af79-b5460fb43a7e",
   "metadata": {},
   "outputs": [],
   "source": [
    "def create_photo_button(description, button_style):\n",
    "    return wt.Button(description=description, button_style=button_style, layout=wt.Layout(height='55px', width='80px'))\n"
   ]
  },
  {
   "cell_type": "code",
   "execution_count": 5,
   "id": "08b9231f",
   "metadata": {},
   "outputs": [],
   "source": [
    "def create_description_button(description, button_style, tooltip):\n",
    "    return wt.Button(description=description, button_style=button_style, icon = 'comment', tooltip=tooltip, layout=wt.Layout(height='55px', width='120px'))\n"
   ]
  },
  {
   "cell_type": "code",
   "execution_count": 6,
   "id": "2a6f99fd-dc87-4ef4-968e-eab88eeb05ff",
   "metadata": {},
   "outputs": [],
   "source": [
    "def create_expanded_radiobutton(list,descript):\n",
    "    return wt.RadioButtons(\n",
    "        options= list,\n",
    "        description=descript,\n",
    "        disabled=False\n",
    ")"
   ]
  },
  {
   "cell_type": "code",
   "execution_count": 7,
   "id": "a5343544-f32a-4506-ac76-3c3cf5347bba",
   "metadata": {},
   "outputs": [],
   "source": [
    "def create_expanded_dropdown(opt, val, descript):\n",
    "    return wt.Dropdown(\n",
    "    options=opt,\n",
    "    value=val,\n",
    "    description=descript,\n",
    ")"
   ]
  },
  {
   "cell_type": "code",
   "execution_count": 8,
   "id": "4d4bffb1-dbdc-4287-be48-3ae0acc5c807",
   "metadata": {},
   "outputs": [],
   "source": [
    "\n",
    "def create_expanded_checkbox(descript, val): \n",
    "     return wt.Checkbox(\n",
    "        value= val,\n",
    "        description= descript,\n",
    "        disabled=False,\n",
    "        indent=False,\n",
    "        layout=wt.Layout(width='120px', height='40px')\n",
    "     )"
   ]
  },
  {
   "cell_type": "code",
   "execution_count": 9,
   "id": "f8d6b4ee-6af4-4ce7-b627-17ff7bf19119",
   "metadata": {},
   "outputs": [],
   "source": [
    "def Equipment(b):\n",
    "    output.clear_output()\n",
    "    box_layout1 = wt.Layout(display='flex',flex_flow='row',align_items='stretch', justify_content= 'space-around',width='23%')\n",
    "    ti=(Equip_Title, equipcl)\n",
    "    titlers = wt.Box(children=ti, layout=box_layout1)\n",
    "    op =wt.VBox([titlers, Equip_Menu])\n",
    "    with output:\n",
    "        display(op)\n",
    "    #output.append_display_data (Equip_Title)\n",
    "    #output.append_display_data (Equip_Menu)"
   ]
  },
  {
   "cell_type": "code",
   "execution_count": 10,
   "id": "41e41d4d-8d38-4699-9950-282ef08f0f8b",
   "metadata": {},
   "outputs": [],
   "source": [
    "def SampleSize(b):\n",
    "    output.clear_output()\n",
    "    with output:\n",
    "        display (SS_Title ,SS_Menu)"
   ]
  },
  {
   "cell_type": "code",
   "execution_count": 11,
   "id": "6c980b5b-767f-4afb-a5b0-4cb4b7367a8f",
   "metadata": {},
   "outputs": [],
   "source": [
    "def BodyArea(b):\n",
    "    output.clear_output()\n",
    "    with output:\n",
    "        display(BA_Title, BA_Menu)"
   ]
  },
  {
   "cell_type": "code",
   "execution_count": 12,
   "id": "2f9a1a16-fd50-4e08-b63b-789609b9ebdc",
   "metadata": {},
   "outputs": [],
   "source": [
    "def ExCat(b):\n",
    "    output.clear_output()\n",
    "    box_layout1 = wt.Layout(display='flex',flex_flow='row',align_items='stretch', justify_content= 'space-around',width='23%')\n",
    "    ti=(EC_Title, ecatcl)\n",
    "    titlers = wt.Box(children=ti, layout=box_layout1)\n",
    "    op =wt.VBox([titlers, EC_Menu])\n",
    "    with output:\n",
    "        display(op)\n",
    "    "
   ]
  },
  {
   "cell_type": "code",
   "execution_count": 13,
   "id": "60459c2b-f7d3-4d01-820b-e610b6095013",
   "metadata": {},
   "outputs": [],
   "source": [
    "def Execute(b):\n",
    "\n",
    "    global Final_Out\n",
    "    global dfsub\n",
    "    \n",
    "    box_layout = wt.Layout(display='flex',flex_flow='row', align_items='stretch', justify_content= 'space-around', width='60%')\n",
    "\n",
    "    box_layout1 = wt.Layout(display='flex',flex_flow='row',align_items='stretch', justify_content= 'space-around',width='23%')\n",
    "  \n",
    "    upper_sampled = core_sampled = lower_sampled =pd.Series()\n",
    "    if ((bacb[0].value==True) and (not dfsub.empty)):\n",
    "        upper_sampled=dfsub['name'].loc[(dfsub['bodyArea'] =='Upper Body') & (dfsub['active']=='Y') ].sample(ssize.value)\n",
    "    if ((bacb[1].value == True) and (not dfsub.empty)):\n",
    "        core_sampled=dfsub['name'].loc[(dfsub['bodyArea'] =='Core') & (dfsub['active']=='Y')].sample(ssize.value)\n",
    "    if ((bacb[2].value ==True) and (not dfsub.empty)):\n",
    "        lower_sampled=dfsub['name'].loc[(dfsub['bodyArea'] =='Lower Body') & (dfsub['active']=='Y') ].sample(ssize.value)\n",
    "        \n",
    "        \n",
    "   \n",
    "    \n",
    "   \n",
    "    Title=[[upper_title], [core_title], [lower_title]]\n",
    "    \n",
    "    idxub=0 \n",
    "    desbtnub=0\n",
    "    nameub = 0\n",
    "    ubdataav =False\n",
    "\n",
    "    idxcr=0\n",
    "    desbtncr=0\n",
    "    namecr=0\n",
    "    crdataav=False\n",
    "\n",
    "    idxlb=0\n",
    "    desbtnlb=0\n",
    "    namelb=0\n",
    "    lbdataav=False\n",
    "    \n",
    "    if len(upper_sampled) != 0:\n",
    "        idxub =upper_sampled.index\n",
    "        desbtnub=([create_description_button('Instruction','', str(x)) for (x) in idxub.values])\n",
    "        nameub=upper_sampled.tolist()\n",
    "        ubdataav=True\n",
    "        \n",
    "    if len (core_sampled !=0):\n",
    "        idxcr=core_sampled.index\n",
    "        desbtncr=([create_description_button('Instruction','', str(x)) for (x) in idxcr.values])\n",
    "        namecr=core_sampled.to_list()\n",
    "        crdataav=True\n",
    "        \n",
    "    if len(lower_sampled !=0):\n",
    "        idxlb =lower_sampled.index\n",
    "        desbtnlb=([create_description_button('Instruction','',str(x)) for (x) in idxlb.values])\n",
    "        lbdataav=True\n",
    "        namelb=lower_sampled.to_list()\n",
    "    upperbdy=[nameub,desbtnub,idxub]\n",
    "    corebdy=[namecr,desbtncr,idxcr]\n",
    "    lowerbdy=[namelb,desbtnlb,idxlb]\n",
    "    bdyarea= [upperbdy, corebdy, lowerbdy]\n",
    "    dataav=[ubdataav,crdataav, lbdataav] \n",
    "    \n",
    "    op1=[]\n",
    "    op2=[]\n",
    "    opf=[]\n",
    "    boxf=[]\n",
    "    name=[] \n",
    "    btn=[]\n",
    "    for i in range(len(bdyarea)):\n",
    "        \n",
    "        if dataav[i] ==False:\n",
    "            \n",
    "            continue\n",
    "            \n",
    "        name=[]\n",
    "        btn=[]                      \n",
    "        leftbox=rightbox=[]\n",
    "        box1=[]\n",
    "        box2=[]\n",
    "        boxes=[box1, box2]\n",
    "        op1 =wt.HBox(Title[i]) \n",
    "        name+=bdyarea[i][0]\n",
    "        btn+=bdyarea[i][1]\n",
    "        \n",
    "        for ix in range(len(name)):\n",
    "            ex=wt.HTML(str(name[ix]))\n",
    "\n",
    "            if ix & 1:\n",
    "                box2+= [ex]\n",
    "                box2+=[btn[ix]]\n",
    "            else:\n",
    "                box1+= [ex]\n",
    "                box1+=[btn[ix]]\n",
    "\n",
    "            leftbox=wt.VBox([item for item in box1])\n",
    "            rightbox=wt.VBox([item for item in box2])\n",
    " \n",
    "                    \n",
    "        op2 =wt.Box(children=[leftbox, rightbox], layout=box_layout )\n",
    "        opf=wt.VBox([op1,op2])           \n",
    "        boxf+=([opf])\n",
    "    title=(Res_Title, rsltcl)\n",
    "    titlers = wt.Box(children=title, layout=box_layout1)\n",
    "    F_Out=(wt.VBox([item for item in boxf]))\n",
    "    if ((upper_sampled.empty) and (core_sampled.empty) and (lower_sampled.empty)):\n",
    "        rs= wt.HTML(\"<h3>No Results</h3>\")\n",
    "        F_Out=wt.VBox([rs])\n",
    "    \n",
    "    Final_Out = wt.VBox([titlers,F_Out])\n",
    "    \n",
    "    with output:\n",
    "        display(Final_Out)\n",
    "   \n",
    "    \n",
    "    if ubdataav is True:\n",
    "        for x in range(len(desbtnub)):\n",
    "            desbtnub[x].on_click(Get_Description)\n",
    "      \n",
    "    if crdataav is True:   \n",
    "        for x in range(len(desbtncr)):\n",
    "            desbtncr[x].on_click(Get_Description)\n",
    "    if lbdataav is True:\n",
    "        for x in range(len(desbtnlb)):\n",
    "            desbtnlb[x].on_click(Get_Description)\n",
    "    \n",
    "            \n",
    "\n",
    "   "
   ]
  },
  {
   "cell_type": "code",
   "execution_count": 14,
   "id": "0e9a5c78-2fb9-4405-9252-1356c3925088",
   "metadata": {},
   "outputs": [],
   "source": [
    "def Get_Description(b):\n",
    "\n",
    "    box_layout1 = wt.Layout(display='flex',flex_flow='row',align_items='stretch', justify_content= 'space-around',width='60%')\n",
    "    \n",
    "    global output\n",
    "    \n",
    "    output.clear_output()\n",
    "    tp=b.tooltip\n",
    "    tp1=int(tp)\n",
    "    ex=dfsub.loc[tp1]\n",
    "    t = ex['instructions']\n",
    "    n= ex['name']\n",
    "    im=ex['images']\n",
    "    im2=(im.strip(\"[]\"))\n",
    "    im3=(im2.strip(\"'\"))\n",
    "    im4=(im3.replace(\"'\", \"\"))\n",
    "    im5=(im4.replace(\" \", \"\"))\n",
    "    im6=(im5.split(\",\"))\n",
    "          \n",
    "    y=('<h3>'+ t + '</h3>')\n",
    "    o=wt.HTML(y)\n",
    "    na=('<h2>'+ n + '</h2>')\n",
    "    nam=wt.HTML(na)\n",
    "    ti=(nam, descl)\n",
    "    titlers = wt.Box(children=ti, layout=box_layout1)\n",
    "    txt=wt.VBox([titlers, o])\n",
    "\n",
    "\n",
    "\n",
    "    \n",
    "    Path='exercises/'\n",
    "    file = open(Path + str(im6[0]), \"rb\")\n",
    "    image1 = file.read()\n",
    "    \n",
    "    file1 = open( Path + str(im6[1]), \"rb\")\n",
    "    image2 = file1.read()\n",
    "\n",
    "    I1=wt.Image(\n",
    "        value=image1,\n",
    "        format='jpg',\n",
    "        width=300,\n",
    "        height=400,\n",
    "    )\n",
    "\n",
    "    I2=wt.Image(\n",
    "        value=image2,\n",
    "        format='jpg',\n",
    "        width=300,\n",
    "        height=400,\n",
    "    )\n",
    "\n",
    "    photo= wt.HBox([I1, I2])\n",
    "    with output:\n",
    "        display(txt, photo)"
   ]
  },
  {
   "cell_type": "code",
   "execution_count": 15,
   "id": "1bb607b9-d5f3-4c1e-9f81-fb030f45f8fc",
   "metadata": {},
   "outputs": [],
   "source": [
    "def Eq_Clear(b):\n",
    "    output.clear_output()\n",
    "    \n",
    "    box_layout1 = wt.Layout(display='flex',flex_flow='row',align_items='stretch', justify_content= 'space-around',width='23%')\n",
    "\n",
    "    for i in range(len(equipcb)):\n",
    "        equipcb[i].value =False\n",
    "    ti=(Equip_Title, equipcl)\n",
    "    titlers = wt.Box(children=ti, layout=box_layout1)\n",
    "    op =wt.VBox([titlers, Equip_Menu])\n",
    "    with output:\n",
    "        display(op)"
   ]
  },
  {
   "cell_type": "code",
   "execution_count": 16,
   "id": "efb8fc18-a582-4dc3-a6af-236eb07d4acb",
   "metadata": {},
   "outputs": [],
   "source": [
    "def Ecat_Clear(b):\n",
    "    output.clear_output()\n",
    "    \n",
    "    box_layout1 = wt.Layout(display='flex',flex_flow='row',align_items='stretch', justify_content= 'space-around',width='23%')\n",
    "\n",
    "    for i in range(len(ecatcb)):\n",
    "        ecatcb[i].value =False\n",
    "    ti=(EC_Title, ecatcl)\n",
    "    titlers = wt.Box(children=ti, layout=box_layout1)\n",
    "    op =wt.VBox([titlers, EC_Menu])\n",
    "    with output:\n",
    "        display(op)"
   ]
  },
  {
   "cell_type": "code",
   "execution_count": 17,
   "id": "f9e6e7f4-a506-42ce-bc16-599e1e061fa2",
   "metadata": {},
   "outputs": [],
   "source": [
    "def Close(b):\n",
    "    output.clear_output()\n",
    "\n"
   ]
  },
  {
   "cell_type": "code",
   "execution_count": 18,
   "id": "d7e22564-5909-4882-8196-b799e03e89f3",
   "metadata": {},
   "outputs": [],
   "source": [
    "def Spec_Close(b):\n",
    "    global dfsub\n",
    "    equipmask=[equipcb[i].value for i in range(len(equipcb))]\n",
    "    ecatmask=[ecatcb[i].value for i in range(len(ecatcb))]\n",
    "    equipav=equip[equipmask]\n",
    "    ecav=ecat[ecatmask]\n",
    "    dfsub=df[df['equipment'].isin(equipav) & df['category'].isin(ecav)]\n",
    "    \n",
    "    output.clear_output()\n",
    "    "
   ]
  },
  {
   "cell_type": "code",
   "execution_count": 19,
   "id": "c55f957a-7cef-42ca-a58e-8d22ce7a1210",
   "metadata": {},
   "outputs": [],
   "source": [
    "def Des_Close(b):\n",
    "    output.clear_output()\n",
    "    with output:\n",
    "        display(Final_Out)"
   ]
  },
  {
   "cell_type": "code",
   "execution_count": 20,
   "id": "674022d2-ce3a-49fc-a67b-53b341424195",
   "metadata": {},
   "outputs": [],
   "source": [
    "\n",
    "\n",
    "Main_Title=wt.HTML(value= \"<h1>Random Excercise Generator</h1>\")\n"
   ]
  },
  {
   "cell_type": "code",
   "execution_count": 21,
   "id": "6e07f703-d229-40fa-9c91-399e541ce593",
   "metadata": {},
   "outputs": [],
   "source": [
    "\n",
    "\n",
    "item=wt.HTML(value= \"<h2>Equipment List</h2>\")\n",
    "Equip_Title=wt.HBox([item])\n"
   ]
  },
  {
   "cell_type": "code",
   "execution_count": 22,
   "id": "131852cf-ef69-4b2b-a88c-73e32cc46a7e",
   "metadata": {},
   "outputs": [],
   "source": [
    "item=wt.HTML(value= '<h5>\"Close Tab to Exit\"</h5>')\n",
    "Exit_Title=wt.HBox([item])"
   ]
  },
  {
   "cell_type": "code",
   "execution_count": 23,
   "id": "32d73cc0-637a-4cb4-97c6-55ff94ccf009",
   "metadata": {},
   "outputs": [],
   "source": [
    "\n",
    "\n",
    "item=wt.HTML(value= \"<h2>Sample Size</h2>\")\n",
    "SS_Title=wt.HBox([item])\n"
   ]
  },
  {
   "cell_type": "code",
   "execution_count": 24,
   "id": "9c3ef384-8567-4087-a682-78ca349ccac8",
   "metadata": {},
   "outputs": [],
   "source": [
    "\n",
    "\n",
    "item=wt.HTML(value= \"<h2>Body Area</h2>\")\n",
    "BA_Title=wt.HBox([item])\n"
   ]
  },
  {
   "cell_type": "code",
   "execution_count": 25,
   "id": "4c931a81-dccd-402f-82d8-3e0cb189ad75",
   "metadata": {},
   "outputs": [],
   "source": [
    "\n",
    "\n",
    "item=wt.HTML(value= \"<h2>Exercise Category</h2>\")\n",
    "EC_Title=wt.HBox([item])\n"
   ]
  },
  {
   "cell_type": "code",
   "execution_count": 26,
   "id": "a3b5a9af-a136-45f2-b24b-a5c0a3b143dd",
   "metadata": {},
   "outputs": [],
   "source": [
    "item=wt.HTML(value= \"<h1>Results</h1>\")\n",
    "Res_Title=wt.HBox([item])"
   ]
  },
  {
   "cell_type": "code",
   "execution_count": 27,
   "id": "395d2af4-e03d-42ff-bb7c-8b481ac23c29",
   "metadata": {},
   "outputs": [],
   "source": [
    "item=wt.HTML(value= \"<h3>Upper Body</h3>\")\n",
    "upper_title=wt.HBox([item])"
   ]
  },
  {
   "cell_type": "code",
   "execution_count": 28,
   "id": "addf6d7c",
   "metadata": {},
   "outputs": [],
   "source": [
    "item=wt.HTML(value= \"<h3>Core</h3>\")\n",
    "core_title=wt.HBox([item])"
   ]
  },
  {
   "cell_type": "code",
   "execution_count": 29,
   "id": "4fa2f5aa",
   "metadata": {},
   "outputs": [],
   "source": [
    "item=wt.HTML(value= \"<h3>Lower_Body</h3>\")\n",
    "lower_title=wt.HBox([item])"
   ]
  },
  {
   "cell_type": "code",
   "execution_count": 30,
   "id": "f0474c52-8505-42e3-9734-68cf8a7d084d",
   "metadata": {},
   "outputs": [],
   "source": [
    "\n",
    "output = wt.Output()\n",
    "\n",
    "Final_Out=[]"
   ]
  },
  {
   "cell_type": "code",
   "execution_count": 31,
   "id": "331b4211-f5e2-4e34-b437-ecdf5489d57a",
   "metadata": {},
   "outputs": [],
   "source": [
    "schema=pd.read_csv('schema.csv',index_col=0)"
   ]
  },
  {
   "cell_type": "code",
   "execution_count": 32,
   "id": "6f0cc3cf-2495-4dfc-b29c-6f2b90613d25",
   "metadata": {},
   "outputs": [],
   "source": [
    "df =pd.read_csv('exercises-clean.csv')\n",
    "dfsub=df\n"
   ]
  },
  {
   "cell_type": "code",
   "execution_count": 33,
   "id": "63502771-bafb-4176-a73c-ff6c65ec77b5",
   "metadata": {},
   "outputs": [],
   "source": [
    "\n",
    "equip=schema.loc['equipment'].dropna()\n",
    "equip1=pd.DataFrame(equip).transpose()\n",
    "ecat=schema.loc['category'].dropna()\n"
   ]
  },
  {
   "cell_type": "code",
   "execution_count": 34,
   "id": "5886c64d-9d4d-4ee2-81ea-dad36be57a58",
   "metadata": {},
   "outputs": [],
   "source": [
    "equipcb= ([create_expanded_checkbox(descript,True) for descript in equip])\n",
    "ecatcb= ([create_expanded_checkbox(descript,True) for descript in ecat])\n",
    "equipclar=create_close_button('Clear', '')\n",
    "ecatclar=create_close_button('Clear', '')\n",
    "equipcl= create_close_button('Close', '')\n",
    "ecatcl= create_close_button('Close','')\n",
    "rsltcl= create_close_button('Close', '')\n",
    "descl=create_close_button('Close', '')\n",
    "desbtn=([create_description_button('Instruction','', str(x)) for x in range (2)])\n",
    "picbtn=create_photo_button('Photo', '')"
   ]
  },
  {
   "cell_type": "code",
   "execution_count": 35,
   "id": "8bb1aeb6-e4ff-4244-8575-f9b385aad10c",
   "metadata": {},
   "outputs": [],
   "source": [
    "\n",
    "bdyarea=['upperBody', 'Core', 'lowerBody']"
   ]
  },
  {
   "cell_type": "code",
   "execution_count": 36,
   "id": "0c80a30f-07b6-434d-9481-df93c086541d",
   "metadata": {},
   "outputs": [],
   "source": [
    "box1=[]\n",
    "box2=[]\n",
    "box3 =[]\n",
    "boxes = [box1,box2,box3]\n",
    "x=0\n",
    "for item in equipcb:\n",
    "    boxes[x].append(item)\n",
    "    x=x+1\n",
    "    if x==3:\n",
    "        x=0\n",
    "\n",
    "    "
   ]
  },
  {
   "cell_type": "code",
   "execution_count": 37,
   "id": "dd69d9af-611a-4dd2-a71a-b7df90818fa0",
   "metadata": {},
   "outputs": [],
   "source": [
    "grid = wt.GridspecLayout(5, 5, height='200px') \n",
    "eq= create_expanded_button('Equipment', '')\n",
    "ru = create_expanded_button('Run', '')\n",
    "leftbox=wt.VBox([eq, ru])\n",
    "ss= create_expanded_button('Sample Size', '')\n",
    "middlebox=wt.VBox([ss])\n",
    "ba= create_expanded_button('Body Area', '')\n",
    "rightbox =wt.VBox([ba])\n",
    "ec= create_expanded_button('Ex Category', '')\n",
    "qu= create_expanded_button('Exit', '')\n",
    "Farright=wt.VBox([ec, Exit_Title])\n",
    "Main_Menu =wt.HBox([leftbox, middlebox, rightbox, Farright])\n"
   ]
  },
  {
   "cell_type": "code",
   "execution_count": 38,
   "id": "f8e83f64-4063-4317-b5f2-96edeab3bcba",
   "metadata": {},
   "outputs": [],
   "source": [
    "leftbox =wt.VBox([descript for descript in box1])\n",
    "middlebox = wt.VBox([descript for descript in box2])\n",
    "item1 =([descript for descript in box3])\n",
    "rightbox=wt.VBox([descript for descript in box3])\n",
    "bottombox =wt.HBox([equipclar])\n",
    "Equip_Menu=wt.HBox([leftbox, middlebox, rightbox, bottombox])"
   ]
  },
  {
   "cell_type": "code",
   "execution_count": 39,
   "id": "d5353156-e3dd-43ca-9e0c-0741b18fa00a",
   "metadata": {},
   "outputs": [],
   "source": [
    "box1=[]\n",
    "box2=[]\n",
    "boxes = [box1,box2]\n",
    "x=0\n",
    "for item in ecatcb:\n",
    "    boxes[x].append(item)\n",
    "    x=x+1\n",
    "    if x==2:\n",
    "        x=0\n",
    "\n",
    "    "
   ]
  },
  {
   "cell_type": "code",
   "execution_count": 40,
   "id": "002208ea-b537-471f-af22-9e001356100c",
   "metadata": {},
   "outputs": [],
   "source": [
    "leftbox =wt.VBox([descript for descript in box1])\n",
    "rightbox=wt.VBox([descript for descript in box2])\n",
    "\n",
    "EC_Menu = wt.HBox([leftbox, rightbox,ecatclar])\n",
    "  "
   ]
  },
  {
   "cell_type": "code",
   "execution_count": 41,
   "id": "1af06150-33cb-424d-9a32-18f14c5e34a7",
   "metadata": {},
   "outputs": [],
   "source": [
    "opt=[('One', 1), ('Two', 2), ('Three', 3),('Four', 4),('Five', 5)]\n",
    "val=2\n",
    "descript=''\n",
    "box_layout = wt.Layout(display='flex',\n",
    "                    flex_flow='row', \n",
    "                    align_items='stretch', \n",
    "                    justify_content= 'space-around',\n",
    "                    width='50%')\n",
    "\n",
    "ssize= create_expanded_dropdown(opt, val, descript)\n",
    "sscl= create_close_button('Close','')\n",
    "items =[ssize, sscl]\n",
    "boxv = wt.Box(children=items, layout=box_layout)\n",
    "SS_Menu=wt.HBox([boxv])\n",
    "\n"
   ]
  },
  {
   "cell_type": "code",
   "execution_count": 42,
   "id": "51c755c0-aa3a-4089-bc3e-fd44b42ffc8f",
   "metadata": {},
   "outputs": [],
   "source": [
    "bacb= ([create_expanded_checkbox(descript,True) for descript in bdyarea])\n",
    "leftbox =wt.VBox([descript for descript in bacb])\n",
    "bacl= create_close_button('Close','')\n",
    "BA_Menu=wt.HBox([leftbox, bacl])\n",
    "#BA_Menu"
   ]
  },
  {
   "cell_type": "code",
   "execution_count": 43,
   "id": "7055d82c-b29a-4507-91d2-d4cb84712493",
   "metadata": {},
   "outputs": [
    {
     "data": {
      "application/vnd.jupyter.widget-view+json": {
       "model_id": "132e232d918c40f6829a60093c445206",
       "version_major": 2,
       "version_minor": 0
      },
      "text/plain": [
       "HTML(value='<h1>Random Excercise Generator</h1>')"
      ]
     },
     "metadata": {},
     "output_type": "display_data"
    },
    {
     "data": {
      "application/vnd.jupyter.widget-view+json": {
       "model_id": "7cc22bea1e6c4f5fb2ab38c9637d9e2f",
       "version_major": 2,
       "version_minor": 0
      },
      "text/plain": [
       "HBox(children=(VBox(children=(Button(description='Equipment', layout=Layout(height='120px', width='100px'), st…"
      ]
     },
     "metadata": {},
     "output_type": "display_data"
    },
    {
     "data": {
      "application/vnd.jupyter.widget-view+json": {
       "model_id": "92de24ae3e054e1eb0cc3ad2466ad8ba",
       "version_major": 2,
       "version_minor": 0
      },
      "text/plain": [
       "Output()"
      ]
     },
     "metadata": {},
     "output_type": "display_data"
    }
   ],
   "source": [
    "\n",
    "\n",
    "display(Main_Title, Main_Menu,output)\n",
    "\n",
    "    "
   ]
  },
  {
   "cell_type": "code",
   "execution_count": 44,
   "id": "dabcb7c7-3ef7-4a3f-a1c0-d851a78e6638",
   "metadata": {},
   "outputs": [],
   "source": [
    "eq.on_click(Equipment)"
   ]
  },
  {
   "cell_type": "code",
   "execution_count": 45,
   "id": "edb5f22f-883d-4d04-a8f4-d92d3a1e57d4",
   "metadata": {},
   "outputs": [],
   "source": [
    "equipclar.on_click(Eq_Clear)"
   ]
  },
  {
   "cell_type": "code",
   "execution_count": 46,
   "id": "a80b873c-8823-402a-bf9f-3a0e26b9b6e0",
   "metadata": {},
   "outputs": [],
   "source": [
    "ss.on_click(SampleSize)"
   ]
  },
  {
   "cell_type": "code",
   "execution_count": 47,
   "id": "8bf19980-6be0-4b3d-84f8-39724806c805",
   "metadata": {},
   "outputs": [],
   "source": [
    "ba.on_click(BodyArea)"
   ]
  },
  {
   "cell_type": "code",
   "execution_count": 48,
   "id": "6a1a34bf-2ab5-47c9-80ab-aab085804663",
   "metadata": {},
   "outputs": [],
   "source": [
    "ec.on_click(ExCat)"
   ]
  },
  {
   "cell_type": "code",
   "execution_count": 49,
   "id": "068a4a50-9504-4a8f-a81f-6d61a6728242",
   "metadata": {},
   "outputs": [],
   "source": [
    "ecatclar.on_click(Ecat_Clear)"
   ]
  },
  {
   "cell_type": "code",
   "execution_count": 50,
   "id": "9ea33ffc-4962-4bf4-9ee2-14809a846479",
   "metadata": {},
   "outputs": [],
   "source": [
    "ru.on_click(Execute)"
   ]
  },
  {
   "cell_type": "code",
   "execution_count": 51,
   "id": "c286e233-5d2e-419c-8e60-50dff435fd5f",
   "metadata": {
    "editable": true,
    "slideshow": {
     "slide_type": ""
    },
    "tags": []
   },
   "outputs": [],
   "source": [
    "equipcl.on_click(Spec_Close)"
   ]
  },
  {
   "cell_type": "code",
   "execution_count": 52,
   "id": "1991cb26-7cf5-4f96-a424-2648d609e9ee",
   "metadata": {},
   "outputs": [],
   "source": [
    "sscl.on_click(Close)"
   ]
  },
  {
   "cell_type": "code",
   "execution_count": 53,
   "id": "cb40a7d3-df4a-4c85-99b9-6fb1b21da1bb",
   "metadata": {},
   "outputs": [],
   "source": [
    "bacl.on_click(Close)"
   ]
  },
  {
   "cell_type": "code",
   "execution_count": 54,
   "id": "326f067d-bab1-4f08-9682-e8dc1254517f",
   "metadata": {},
   "outputs": [],
   "source": [
    "rsltcl.on_click(Close)"
   ]
  },
  {
   "cell_type": "code",
   "execution_count": 55,
   "id": "8ed08dfd-d353-47a8-910b-974dcbfead0b",
   "metadata": {},
   "outputs": [],
   "source": [
    "ecatcl.on_click(Spec_Close)"
   ]
  },
  {
   "cell_type": "code",
   "execution_count": 56,
   "id": "9d83e309-034a-4f44-81dd-aa1ed0b136a2",
   "metadata": {},
   "outputs": [],
   "source": [
    "descl.on_click(Des_Close)"
   ]
  },
  {
   "cell_type": "code",
   "execution_count": 57,
   "id": "d9468060-8556-493e-9cec-5c9d84f4a75b",
   "metadata": {},
   "outputs": [],
   "source": [
    "for x in range(2):\n",
    "    desbtn[x].on_click(Get_Description)"
   ]
  },
  {
   "cell_type": "code",
   "execution_count": null,
   "id": "bf85e10d-dd20-4540-9fb5-2707e44e54c5",
   "metadata": {},
   "outputs": [],
   "source": []
  }
 ],
 "metadata": {
  "kernelspec": {
   "display_name": "Python 3 (ipykernel)",
   "language": "python",
   "name": "python3"
  },
  "language_info": {
   "codemirror_mode": {
    "name": "ipython",
    "version": 3
   },
   "file_extension": ".py",
   "mimetype": "text/x-python",
   "name": "python",
   "nbconvert_exporter": "python",
   "pygments_lexer": "ipython3",
   "version": "3.8.2"
  },
  "widgets": {
   "application/vnd.jupyter.widget-state+json": {
    "state": {
     "00e6346f6cb64b5c8b616a118c8b68dd": {
      "model_module": "@jupyter-widgets/controls",
      "model_module_version": "2.0.0",
      "model_name": "HBoxModel",
      "state": {
       "children": [
        "IPY_MODEL_12e870cd2dea4b52a9a46d7e6ff79260"
       ],
       "layout": "IPY_MODEL_24d03121a24e4902b4b1f84d6cc2aa22"
      }
     },
     "017fa3bd8b8c4c8ca080260157f66779": {
      "model_module": "@jupyter-widgets/controls",
      "model_module_version": "2.0.0",
      "model_name": "CheckboxStyleModel",
      "state": {
       "description_width": ""
      }
     },
     "019111b987494feabb068f8e9254a639": {
      "model_module": "@jupyter-widgets/controls",
      "model_module_version": "2.0.0",
      "model_name": "VBoxModel",
      "state": {
       "children": [
        "IPY_MODEL_4ce8535d1ce34870b2612ca4d2d7e601",
        "IPY_MODEL_9ca43d89f4034674badeed1c7e5ddad7",
        "IPY_MODEL_62baf40b83d549229ab62d938aa5c2b6"
       ],
       "layout": "IPY_MODEL_188b4bead2af489a94b5571614f068a9"
      }
     },
     "01970919115f47efb4ea2736c843c676": {
      "model_module": "@jupyter-widgets/controls",
      "model_module_version": "2.0.0",
      "model_name": "CheckboxModel",
      "state": {
       "description": "foam roll",
       "disabled": false,
       "indent": false,
       "layout": "IPY_MODEL_03d068637b4c44929bd1b1f7ec4622bd",
       "style": "IPY_MODEL_324b1343adca4da98f73df355a8a1cca",
       "value": true
      }
     },
     "023464a4d54646f5bf21fe08ca12e741": {
      "model_module": "@jupyter-widgets/controls",
      "model_module_version": "2.0.0",
      "model_name": "HTMLStyleModel",
      "state": {
       "description_width": "",
       "font_size": null,
       "text_color": null
      }
     },
     "03d068637b4c44929bd1b1f7ec4622bd": {
      "model_module": "@jupyter-widgets/base",
      "model_module_version": "2.0.0",
      "model_name": "LayoutModel",
      "state": {
       "height": "40px",
       "width": "120px"
      }
     },
     "0435f33674ec479da13de50bc4cd7c39": {
      "model_module": "@jupyter-widgets/controls",
      "model_module_version": "2.0.0",
      "model_name": "BoxModel",
      "state": {
       "children": [
        "IPY_MODEL_7f5ae84c0a244654a150c207394c96f2",
        "IPY_MODEL_7b56bf8dc3c3421a86e395d572c5f2a3"
       ],
       "layout": "IPY_MODEL_6181344aede644d29b9216ef054171a0"
      }
     },
     "0442383370c64d2fb350b584c0eb8aef": {
      "model_module": "@jupyter-widgets/controls",
      "model_module_version": "2.0.0",
      "model_name": "CheckboxStyleModel",
      "state": {
       "description_width": ""
      }
     },
     "04617a7a8c9d4d50a3715d9979924702": {
      "model_module": "@jupyter-widgets/base",
      "model_module_version": "2.0.0",
      "model_name": "LayoutModel",
      "state": {}
     },
     "05ca07fc89f3400f946af968846fa693": {
      "model_module": "@jupyter-widgets/base",
      "model_module_version": "2.0.0",
      "model_name": "LayoutModel",
      "state": {}
     },
     "06b2105ef91e4eb7966934828989702e": {
      "model_module": "@jupyter-widgets/controls",
      "model_module_version": "2.0.0",
      "model_name": "CheckboxModel",
      "state": {
       "description": "olympic weightlifting",
       "disabled": false,
       "indent": false,
       "layout": "IPY_MODEL_a89f8632f06f4f62943665d4bd587e3d",
       "style": "IPY_MODEL_e43b553ffa3c46398fa296d0ef506c36",
       "value": true
      }
     },
     "07680e6444184d5f97bb493b248eb106": {
      "model_module": "@jupyter-widgets/base",
      "model_module_version": "2.0.0",
      "model_name": "LayoutModel",
      "state": {
       "height": "40px",
       "width": "120px"
      }
     },
     "07838654ea9a4f19af3d7623eacf4363": {
      "model_module": "@jupyter-widgets/controls",
      "model_module_version": "2.0.0",
      "model_name": "HTMLModel",
      "state": {
       "layout": "IPY_MODEL_5a4640a419e74c38b91c226e67049d49",
       "style": "IPY_MODEL_b18f46ed50844990985207e6fac82818",
       "value": "Seated Cable Rows"
      }
     },
     "07d67638542e408ead67e76af0e2b84f": {
      "model_module": "@jupyter-widgets/controls",
      "model_module_version": "2.0.0",
      "model_name": "HBoxModel",
      "state": {
       "children": [
        "IPY_MODEL_a50ae99c7c39416886ebc8f5cfcb4867"
       ],
       "layout": "IPY_MODEL_d49c88335a684fc8bdf5223775633f9d"
      }
     },
     "083343c5d8fe449289e190e31fe9ea01": {
      "model_module": "@jupyter-widgets/base",
      "model_module_version": "2.0.0",
      "model_name": "LayoutModel",
      "state": {
       "align_items": "stretch",
       "display": "flex",
       "flex_flow": "row",
       "justify_content": "space-around",
       "width": "23%"
      }
     },
     "089e21b8739c4e92bf24e5971bc9305d": {
      "model_module": "@jupyter-widgets/base",
      "model_module_version": "2.0.0",
      "model_name": "LayoutModel",
      "state": {}
     },
     "08d1b09fd7694bbba857a58125ac0dce": {
      "model_module": "@jupyter-widgets/controls",
      "model_module_version": "2.0.0",
      "model_name": "VBoxModel",
      "state": {
       "children": [
        "IPY_MODEL_f9eedeb2514741f7ba3b617690f2a078",
        "IPY_MODEL_78092729c1a24c429b2a348998d3e8cc"
       ],
       "layout": "IPY_MODEL_e1721dd8ec504d0c91d093dc459dbbf4"
      }
     },
     "09d51f7190074916a0a6b35bd680ab45": {
      "model_module": "@jupyter-widgets/controls",
      "model_module_version": "2.0.0",
      "model_name": "HTMLStyleModel",
      "state": {
       "description_width": "",
       "font_size": null,
       "text_color": null
      }
     },
     "09dc1986576049efa0520a3a2d4f98af": {
      "model_module": "@jupyter-widgets/controls",
      "model_module_version": "2.0.0",
      "model_name": "BoxModel",
      "state": {
       "children": [
        "IPY_MODEL_b0c97090da8b4923979a6fbe4e6440f9",
        "IPY_MODEL_9c16f9598e0b4df793a78c6781df21c1"
       ],
       "layout": "IPY_MODEL_9d6363aad8f24cc6b057e95944e5608a"
      }
     },
     "0aa18ccb96ca48b0bdca8d56fb3bf937": {
      "model_module": "@jupyter-widgets/controls",
      "model_module_version": "2.0.0",
      "model_name": "HTMLStyleModel",
      "state": {
       "description_width": "",
       "font_size": null,
       "text_color": null
      }
     },
     "0af09dd0151c47df8e7b97577deb7a5b": {
      "model_module": "@jupyter-widgets/controls",
      "model_module_version": "2.0.0",
      "model_name": "HTMLModel",
      "state": {
       "layout": "IPY_MODEL_d59b8647b3a84687a0a8bffa6b0a13e1",
       "style": "IPY_MODEL_7a683764866444c7a8ea54d1fff07795",
       "value": "<h5>\"Close Tab to Exit\"</h5>"
      }
     },
     "0b50229059c84a8e93f7a1e2b16dd6ad": {
      "model_module": "@jupyter-widgets/controls",
      "model_module_version": "2.0.0",
      "model_name": "HBoxModel",
      "state": {
       "children": [
        "IPY_MODEL_cee1f19d71b347168458a9bdf87f63ab"
       ],
       "layout": "IPY_MODEL_d8c614c48eee43fe89253cbae4b5e9bc"
      }
     },
     "0fbacb9e24994dd38c077140d732144e": {
      "model_module": "@jupyter-widgets/base",
      "model_module_version": "2.0.0",
      "model_name": "LayoutModel",
      "state": {}
     },
     "0ffa7f9c48674526bca013c2e1a3e31d": {
      "model_module": "@jupyter-widgets/controls",
      "model_module_version": "2.0.0",
      "model_name": "ButtonStyleModel",
      "state": {
       "font_family": null,
       "font_size": null,
       "font_style": null,
       "font_variant": null,
       "font_weight": null,
       "text_color": null,
       "text_decoration": null
      }
     },
     "10ee23515c6c49afa7b71c585144d2c2": {
      "model_module": "@jupyter-widgets/controls",
      "model_module_version": "2.0.0",
      "model_name": "CheckboxModel",
      "state": {
       "description": "strength",
       "disabled": false,
       "indent": false,
       "layout": "IPY_MODEL_5848ddc5f0c7481e8f08486e7d843307",
       "style": "IPY_MODEL_2962cde8cbdd4fcdba16227bf385fb81",
       "value": true
      }
     },
     "1133b2cd4b3642038e8a26b88af178ab": {
      "model_module": "@jupyter-widgets/base",
      "model_module_version": "2.0.0",
      "model_name": "LayoutModel",
      "state": {
       "height": "55px",
       "width": "120px"
      }
     },
     "118dd31c2b8843e2a63c02d62f4434d0": {
      "model_module": "@jupyter-widgets/controls",
      "model_module_version": "2.0.0",
      "model_name": "HBoxModel",
      "state": {
       "children": [
        "IPY_MODEL_d65f5824acdb4a83a055450a5a759016"
       ],
       "layout": "IPY_MODEL_570b4aa25fd349f786d184a5eea83ffb"
      }
     },
     "12bffb07b9af44c589c324456740ce6c": {
      "model_module": "@jupyter-widgets/controls",
      "model_module_version": "2.0.0",
      "model_name": "ButtonModel",
      "state": {
       "description": "Exit",
       "layout": "IPY_MODEL_3a497c1ae91b40e0b5dd3241b790a8af",
       "style": "IPY_MODEL_c998f1b7332b4c2ba4a31bfb60513ceb",
       "tooltip": null
      }
     },
     "12e870cd2dea4b52a9a46d7e6ff79260": {
      "model_module": "@jupyter-widgets/controls",
      "model_module_version": "2.0.0",
      "model_name": "HTMLModel",
      "state": {
       "layout": "IPY_MODEL_837a37ba3b904b608a73cd481564c2d0",
       "style": "IPY_MODEL_c6911d52811b4c379f1eb067a38b8573",
       "value": "<h2>Body Area</h2>"
      }
     },
     "132e232d918c40f6829a60093c445206": {
      "model_module": "@jupyter-widgets/controls",
      "model_module_version": "2.0.0",
      "model_name": "HTMLModel",
      "state": {
       "layout": "IPY_MODEL_7be2d4bf4e384c168b93823244f8f325",
       "style": "IPY_MODEL_f564fe72db634d02a5f859267ac9ef84",
       "value": "<h1>Random Excercise Generator</h1>"
      }
     },
     "1358a5a10fec48e7b3a252746892e4f1": {
      "model_module": "@jupyter-widgets/base",
      "model_module_version": "2.0.0",
      "model_name": "LayoutModel",
      "state": {
       "height": "55px",
       "width": "120px"
      }
     },
     "13c5527d895e42b998cf73b3543398d9": {
      "model_module": "@jupyter-widgets/controls",
      "model_module_version": "2.0.0",
      "model_name": "CheckboxModel",
      "state": {
       "description": "machine",
       "disabled": false,
       "indent": false,
       "layout": "IPY_MODEL_6634275b86c14325ba4c1cbb9a43bf94",
       "style": "IPY_MODEL_0442383370c64d2fb350b584c0eb8aef",
       "value": true
      }
     },
     "15f7e6699c964b0db916901a98c6ec59": {
      "model_module": "@jupyter-widgets/base",
      "model_module_version": "2.0.0",
      "model_name": "LayoutModel",
      "state": {}
     },
     "17a29020974f4dd189655095172e8984": {
      "model_module": "@jupyter-widgets/controls",
      "model_module_version": "2.0.0",
      "model_name": "CheckboxStyleModel",
      "state": {
       "description_width": ""
      }
     },
     "188b4bead2af489a94b5571614f068a9": {
      "model_module": "@jupyter-widgets/base",
      "model_module_version": "2.0.0",
      "model_name": "LayoutModel",
      "state": {}
     },
     "19c1b57538bc46c09af3188f7aa0aea9": {
      "model_module": "@jupyter-widgets/base",
      "model_module_version": "2.0.0",
      "model_name": "LayoutModel",
      "state": {
       "height": "55px",
       "width": "120px"
      }
     },
     "1bd2a62d3ed64c409c7a8466abeef5b7": {
      "model_module": "@jupyter-widgets/base",
      "model_module_version": "2.0.0",
      "model_name": "LayoutModel",
      "state": {}
     },
     "1ce80856d1e04f0bad1f2afc9cd4ec6c": {
      "model_module": "@jupyter-widgets/controls",
      "model_module_version": "2.0.0",
      "model_name": "HBoxModel",
      "state": {
       "children": [
        "IPY_MODEL_118dd31c2b8843e2a63c02d62f4434d0"
       ],
       "layout": "IPY_MODEL_f0d140dab27b4f9cb05f51b3f1eded55"
      }
     },
     "1d00bb478f01411e933f17da9935b598": {
      "model_module": "@jupyter-widgets/controls",
      "model_module_version": "2.0.0",
      "model_name": "ButtonModel",
      "state": {
       "description": "Close",
       "layout": "IPY_MODEL_29ea2c19c380409092d78e9dec88388b",
       "style": "IPY_MODEL_1d84c7a1f06e43488ee0a38b8a6e8457",
       "tooltip": null
      }
     },
     "1d84c7a1f06e43488ee0a38b8a6e8457": {
      "model_module": "@jupyter-widgets/controls",
      "model_module_version": "2.0.0",
      "model_name": "ButtonStyleModel",
      "state": {
       "font_family": null,
       "font_size": null,
       "font_style": null,
       "font_variant": null,
       "font_weight": null,
       "text_color": null,
       "text_decoration": null
      }
     },
     "1f7d066979154a6d9cb6752d86239535": {
      "model_module": "@jupyter-widgets/controls",
      "model_module_version": "2.0.0",
      "model_name": "ButtonStyleModel",
      "state": {
       "font_family": null,
       "font_size": null,
       "font_style": null,
       "font_variant": null,
       "font_weight": null,
       "text_color": null,
       "text_decoration": null
      }
     },
     "1f998f0e6f1748ebb2bc077da4e3a941": {
      "model_module": "@jupyter-widgets/controls",
      "model_module_version": "2.0.0",
      "model_name": "ButtonModel",
      "state": {
       "description": "Instruction",
       "icon": "comment",
       "layout": "IPY_MODEL_1133b2cd4b3642038e8a26b88af178ab",
       "style": "IPY_MODEL_5482995d3f8049b296b4642bd202ac8a",
       "tooltip": "625"
      }
     },
     "235fb234e2a742f7954069d809b86f45": {
      "model_module": "@jupyter-widgets/base",
      "model_module_version": "2.0.0",
      "model_name": "LayoutModel",
      "state": {}
     },
     "239ad6dc38424201aed72ad55e5068a5": {
      "model_module": "@jupyter-widgets/base",
      "model_module_version": "2.0.0",
      "model_name": "LayoutModel",
      "state": {}
     },
     "23a6eab0dd9142f8b9ce45ebe14de737": {
      "model_module": "@jupyter-widgets/controls",
      "model_module_version": "2.0.0",
      "model_name": "VBoxModel",
      "state": {
       "children": [
        "IPY_MODEL_90a6d8db020e4e0ab7a878949972b6e5",
        "IPY_MODEL_7b07088c359d486ab7cc8601e92d66b1"
       ],
       "layout": "IPY_MODEL_60f1b73fc9d14ca5a7fce0a9382cf2b8"
      }
     },
     "247f410ffa88460f8600fdac39eec319": {
      "model_module": "@jupyter-widgets/base",
      "model_module_version": "2.0.0",
      "model_name": "LayoutModel",
      "state": {}
     },
     "24d03121a24e4902b4b1f84d6cc2aa22": {
      "model_module": "@jupyter-widgets/base",
      "model_module_version": "2.0.0",
      "model_name": "LayoutModel",
      "state": {}
     },
     "2533748abf424cf180d5e580481d6b7a": {
      "model_module": "@jupyter-widgets/controls",
      "model_module_version": "2.0.0",
      "model_name": "HTMLStyleModel",
      "state": {
       "description_width": "",
       "font_size": null,
       "text_color": null
      }
     },
     "256a17c0fef84d5eafc555f8ac9dd67d": {
      "model_module": "@jupyter-widgets/controls",
      "model_module_version": "2.0.0",
      "model_name": "ButtonModel",
      "state": {
       "description": "Sample Size",
       "layout": "IPY_MODEL_a9ff490579bb4f1fbf30bc5e0b4ce2ee",
       "style": "IPY_MODEL_aea992e3e4a9435082fffc3c649d137a",
       "tooltip": null
      }
     },
     "2570aaf4b4034455aba203b0039a9a84": {
      "model_module": "@jupyter-widgets/controls",
      "model_module_version": "2.0.0",
      "model_name": "ButtonStyleModel",
      "state": {
       "font_family": null,
       "font_size": null,
       "font_style": null,
       "font_variant": null,
       "font_weight": null,
       "text_color": null,
       "text_decoration": null
      }
     },
     "26b95aad7d204b7891d90bc0e4dd5bf2": {
      "model_module": "@jupyter-widgets/controls",
      "model_module_version": "2.0.0",
      "model_name": "VBoxModel",
      "state": {
       "children": [
        "IPY_MODEL_c3976ada3697435ab8ac4fcb0ea9fb20",
        "IPY_MODEL_4374730ad80446b2b2eb0383a9927a17"
       ],
       "layout": "IPY_MODEL_235fb234e2a742f7954069d809b86f45"
      }
     },
     "293640df44334ac2a31107206426f120": {
      "model_module": "@jupyter-widgets/controls",
      "model_module_version": "2.0.0",
      "model_name": "HTMLModel",
      "state": {
       "layout": "IPY_MODEL_35c29380d28a420ea1aeedb92d6e0172",
       "style": "IPY_MODEL_023464a4d54646f5bf21fe08ca12e741",
       "value": "<h3>Upper Body</h3>"
      }
     },
     "2962cde8cbdd4fcdba16227bf385fb81": {
      "model_module": "@jupyter-widgets/controls",
      "model_module_version": "2.0.0",
      "model_name": "CheckboxStyleModel",
      "state": {
       "description_width": ""
      }
     },
     "29915e2b40a74aa09016fca134baa796": {
      "model_module": "@jupyter-widgets/controls",
      "model_module_version": "2.0.0",
      "model_name": "HBoxModel",
      "state": {
       "children": [
        "IPY_MODEL_0435f33674ec479da13de50bc4cd7c39"
       ],
       "layout": "IPY_MODEL_ba6d90c77ec44e13bd06d78a40d0960d"
      }
     },
     "29ea2c19c380409092d78e9dec88388b": {
      "model_module": "@jupyter-widgets/base",
      "model_module_version": "2.0.0",
      "model_name": "LayoutModel",
      "state": {
       "height": "55px",
       "width": "55px"
      }
     },
     "3016b10cdfbf46918196a8af55387b4f": {
      "model_module": "@jupyter-widgets/controls",
      "model_module_version": "2.0.0",
      "model_name": "ButtonStyleModel",
      "state": {
       "font_family": null,
       "font_size": null,
       "font_style": null,
       "font_variant": null,
       "font_weight": null,
       "text_color": null,
       "text_decoration": null
      }
     },
     "3138fc7b4af14bb68c7335c7c5e69a87": {
      "model_module": "@jupyter-widgets/controls",
      "model_module_version": "2.0.0",
      "model_name": "HTMLModel",
      "state": {
       "layout": "IPY_MODEL_239ad6dc38424201aed72ad55e5068a5",
       "style": "IPY_MODEL_686d62271ce145fa9d7609da7d1fae93",
       "value": "Push Press - Behind the Neck"
      }
     },
     "324b1343adca4da98f73df355a8a1cca": {
      "model_module": "@jupyter-widgets/controls",
      "model_module_version": "2.0.0",
      "model_name": "CheckboxStyleModel",
      "state": {
       "description_width": ""
      }
     },
     "326683c0f5954a2695db4d079c236f0f": {
      "model_module": "@jupyter-widgets/controls",
      "model_module_version": "2.0.0",
      "model_name": "DescriptionStyleModel",
      "state": {
       "description_width": ""
      }
     },
     "32ead129dcbc4815a8bee2776b0dc6f0": {
      "model_module": "@jupyter-widgets/controls",
      "model_module_version": "2.0.0",
      "model_name": "VBoxModel",
      "state": {
       "children": [
        "IPY_MODEL_c3976ada3697435ab8ac4fcb0ea9fb20",
        "IPY_MODEL_4374730ad80446b2b2eb0383a9927a17"
       ],
       "layout": "IPY_MODEL_e5d24a41e9054e3fb12504a60ea2b7b7"
      }
     },
     "3307e2f9cd5e4edc906995a30091bed1": {
      "model_module": "@jupyter-widgets/controls",
      "model_module_version": "2.0.0",
      "model_name": "ButtonStyleModel",
      "state": {
       "font_family": null,
       "font_size": null,
       "font_style": null,
       "font_variant": null,
       "font_weight": null,
       "text_color": null,
       "text_decoration": null
      }
     },
     "330b4ef722734dd7becf6f6d531e8b08": {
      "model_module": "@jupyter-widgets/base",
      "model_module_version": "2.0.0",
      "model_name": "LayoutModel",
      "state": {}
     },
     "33a88ad4f8e2479e9c87d3635d81d92b": {
      "model_module": "@jupyter-widgets/base",
      "model_module_version": "2.0.0",
      "model_name": "LayoutModel",
      "state": {}
     },
     "34d873fd99224471bea813a59022669a": {
      "model_module": "@jupyter-widgets/controls",
      "model_module_version": "2.0.0",
      "model_name": "VBoxModel",
      "state": {
       "children": [
        "IPY_MODEL_07838654ea9a4f19af3d7623eacf4363",
        "IPY_MODEL_1f998f0e6f1748ebb2bc077da4e3a941"
       ],
       "layout": "IPY_MODEL_d2419243a6194fdc9f033a07064bc3a8"
      }
     },
     "35c29380d28a420ea1aeedb92d6e0172": {
      "model_module": "@jupyter-widgets/base",
      "model_module_version": "2.0.0",
      "model_name": "LayoutModel",
      "state": {}
     },
     "3670da6dfc0341a7ae356cb3c5954385": {
      "model_module": "@jupyter-widgets/base",
      "model_module_version": "2.0.0",
      "model_name": "LayoutModel",
      "state": {}
     },
     "3696d498e294442aa836270852844019": {
      "model_module": "@jupyter-widgets/controls",
      "model_module_version": "2.0.0",
      "model_name": "VBoxModel",
      "state": {
       "children": [
        "IPY_MODEL_e56ef945e6604cf09ca157c441f5e68f",
        "IPY_MODEL_9cfb4bb3e2fe47f78f92393aa47069a3"
       ],
       "layout": "IPY_MODEL_aee9fcf26e5b4141a99cdcfb4cd0a80f"
      }
     },
     "378f3138c00440978ae3ffe6ab0f9f1d": {
      "model_module": "@jupyter-widgets/base",
      "model_module_version": "2.0.0",
      "model_name": "LayoutModel",
      "state": {}
     },
     "38229a3699db4d9f9bad1f6379a66680": {
      "model_module": "@jupyter-widgets/controls",
      "model_module_version": "2.0.0",
      "model_name": "VBoxModel",
      "state": {
       "children": [
        "IPY_MODEL_0b50229059c84a8e93f7a1e2b16dd6ad",
        "IPY_MODEL_48b27e46bcb14fc4a534fc7af98f8836"
       ],
       "layout": "IPY_MODEL_d9505c3de84c48b49f35c4be678ac70b"
      }
     },
     "3893715506f348dfb5cf12d4f35472ba": {
      "model_module": "@jupyter-widgets/base",
      "model_module_version": "2.0.0",
      "model_name": "LayoutModel",
      "state": {
       "height": "55px",
       "width": "55px"
      }
     },
     "38c04b196feb4187906cc478cffcf543": {
      "model_module": "@jupyter-widgets/controls",
      "model_module_version": "2.0.0",
      "model_name": "ButtonModel",
      "state": {
       "description": "Close",
       "layout": "IPY_MODEL_74ffa2146fb948efaf67a223555b22ab",
       "style": "IPY_MODEL_4b1b112fa0ff4bb7bcd926e80116e3a2",
       "tooltip": null
      }
     },
     "38ebe9849cb3436f9bcb43c51f4bba32": {
      "model_module": "@jupyter-widgets/controls",
      "model_module_version": "2.0.0",
      "model_name": "CheckboxStyleModel",
      "state": {
       "description_width": ""
      }
     },
     "3940e87231824c0a8790ce143b06d483": {
      "model_module": "@jupyter-widgets/controls",
      "model_module_version": "2.0.0",
      "model_name": "ButtonStyleModel",
      "state": {
       "font_family": null,
       "font_size": null,
       "font_style": null,
       "font_variant": null,
       "font_weight": null,
       "text_color": null,
       "text_decoration": null
      }
     },
     "398a73d863a04815810698da1627afea": {
      "model_module": "@jupyter-widgets/controls",
      "model_module_version": "2.0.0",
      "model_name": "HBoxModel",
      "state": {
       "children": [
        "IPY_MODEL_a6515207588d4f91ace38f21473c0d7d"
       ],
       "layout": "IPY_MODEL_51813b7f8b1845e9aef2ea43df9cde20"
      }
     },
     "3a497c1ae91b40e0b5dd3241b790a8af": {
      "model_module": "@jupyter-widgets/base",
      "model_module_version": "2.0.0",
      "model_name": "LayoutModel",
      "state": {
       "height": "120px",
       "width": "100px"
      }
     },
     "3a742d6f92614f9586924027facd8e44": {
      "model_module": "@jupyter-widgets/controls",
      "model_module_version": "2.0.0",
      "model_name": "ButtonStyleModel",
      "state": {
       "font_family": null,
       "font_size": null,
       "font_style": null,
       "font_variant": null,
       "font_weight": null,
       "text_color": null,
       "text_decoration": null
      }
     },
     "3af7668ed916454781a60279282ca99a": {
      "model_module": "@jupyter-widgets/controls",
      "model_module_version": "2.0.0",
      "model_name": "ButtonStyleModel",
      "state": {
       "font_family": null,
       "font_size": null,
       "font_style": null,
       "font_variant": null,
       "font_weight": null,
       "text_color": null,
       "text_decoration": null
      }
     },
     "3c436d9d4765460fa16384344a62c924": {
      "model_module": "@jupyter-widgets/base",
      "model_module_version": "2.0.0",
      "model_name": "LayoutModel",
      "state": {
       "height": "55px",
       "width": "80px"
      }
     },
     "3fa45a6dc3e14e8490da21b9a7feaee0": {
      "model_module": "@jupyter-widgets/controls",
      "model_module_version": "2.0.0",
      "model_name": "CheckboxStyleModel",
      "state": {
       "description_width": ""
      }
     },
     "3fcb8a4ffc4a493292d6ef069f43a6e1": {
      "model_module": "@jupyter-widgets/base",
      "model_module_version": "2.0.0",
      "model_name": "LayoutModel",
      "state": {}
     },
     "4170ef6bdf1b4cde858d2d8627f2e539": {
      "model_module": "@jupyter-widgets/controls",
      "model_module_version": "2.0.0",
      "model_name": "ButtonStyleModel",
      "state": {
       "font_family": null,
       "font_size": null,
       "font_style": null,
       "font_variant": null,
       "font_weight": null,
       "text_color": null,
       "text_decoration": null
      }
     },
     "4260a6b8f8cc4451999490b7fe148508": {
      "model_module": "@jupyter-widgets/controls",
      "model_module_version": "2.0.0",
      "model_name": "VBoxModel",
      "state": {
       "children": [
        "IPY_MODEL_1ce80856d1e04f0bad1f2afc9cd4ec6c",
        "IPY_MODEL_dc52c99358864ab7afb0a7bae19ecd9d"
       ],
       "layout": "IPY_MODEL_e4f5a50083624980aae0bc3cacb57c71"
      }
     },
     "42f59fcfb8154e0182134fc6b32332fe": {
      "model_module": "@jupyter-widgets/base",
      "model_module_version": "2.0.0",
      "model_name": "LayoutModel",
      "state": {
       "height": "120px",
       "width": "100px"
      }
     },
     "4374730ad80446b2b2eb0383a9927a17": {
      "model_module": "@jupyter-widgets/controls",
      "model_module_version": "2.0.0",
      "model_name": "ButtonModel",
      "state": {
       "description": "Instruction",
       "icon": "comment",
       "layout": "IPY_MODEL_d7a98ca968b94b36ab88e73a62dd2dd3",
       "style": "IPY_MODEL_1f7d066979154a6d9cb6752d86239535",
       "tooltip": "687"
      }
     },
     "46d0a2b0550445358873a69abade4a7a": {
      "model_module": "@jupyter-widgets/controls",
      "model_module_version": "2.0.0",
      "model_name": "HTMLModel",
      "state": {
       "layout": "IPY_MODEL_d231acef3c5a4d769e3db0d779c8738e",
       "style": "IPY_MODEL_2533748abf424cf180d5e580481d6b7a",
       "value": "<h3>Lower_Body</h3>"
      }
     },
     "476fbb58de104b929c1066d9c9eed024": {
      "model_module": "@jupyter-widgets/base",
      "model_module_version": "2.0.0",
      "model_name": "LayoutModel",
      "state": {
       "height": "55px",
       "width": "55px"
      }
     },
     "48b27e46bcb14fc4a534fc7af98f8836": {
      "model_module": "@jupyter-widgets/controls",
      "model_module_version": "2.0.0",
      "model_name": "BoxModel",
      "state": {
       "children": [
        "IPY_MODEL_26b95aad7d204b7891d90bc0e4dd5bf2",
        "IPY_MODEL_3696d498e294442aa836270852844019"
       ],
       "layout": "IPY_MODEL_9d6363aad8f24cc6b057e95944e5608a"
      }
     },
     "492e3a162bce45cfae859dcc15f7e32c": {
      "model_module": "@jupyter-widgets/base",
      "model_module_version": "2.0.0",
      "model_name": "LayoutModel",
      "state": {}
     },
     "49818fee61784ced8d855ef05c4d4389": {
      "model_module": "@jupyter-widgets/controls",
      "model_module_version": "2.0.0",
      "model_name": "VBoxModel",
      "state": {
       "children": [
        "IPY_MODEL_10ee23515c6c49afa7b71c585144d2c2",
        "IPY_MODEL_60dc1db713324190909cb0f60c969a05",
        "IPY_MODEL_87fadcde2c924743bafc4d3cbf9adddf"
       ],
       "layout": "IPY_MODEL_3fcb8a4ffc4a493292d6ef069f43a6e1"
      }
     },
     "49adf636432d43a387a3cc3458f62500": {
      "model_module": "@jupyter-widgets/controls",
      "model_module_version": "2.0.0",
      "model_name": "CheckboxModel",
      "state": {
       "description": "dumbbell",
       "disabled": false,
       "indent": false,
       "layout": "IPY_MODEL_ab29f7b81823454dbfc586d7565dfdf0",
       "style": "IPY_MODEL_8a096ce876bb49e594706e3b112f0582",
       "value": true
      }
     },
     "4b1b112fa0ff4bb7bcd926e80116e3a2": {
      "model_module": "@jupyter-widgets/controls",
      "model_module_version": "2.0.0",
      "model_name": "ButtonStyleModel",
      "state": {
       "font_family": null,
       "font_size": null,
       "font_style": null,
       "font_variant": null,
       "font_weight": null,
       "text_color": null,
       "text_decoration": null
      }
     },
     "4ce8535d1ce34870b2612ca4d2d7e601": {
      "model_module": "@jupyter-widgets/controls",
      "model_module_version": "2.0.0",
      "model_name": "CheckboxModel",
      "state": {
       "description": "upperBody",
       "disabled": false,
       "indent": false,
       "layout": "IPY_MODEL_a16fe8dd100c4553af55e5104c7a2df8",
       "style": "IPY_MODEL_dbae08244f1348a7bc0ede57e1b1bd59",
       "value": true
      }
     },
     "4cec9fd2caa342aab0ccd942b7e94419": {
      "model_module": "@jupyter-widgets/base",
      "model_module_version": "2.0.0",
      "model_name": "LayoutModel",
      "state": {}
     },
     "4cecdb20268f4955b9c454cb010533b9": {
      "model_module": "@jupyter-widgets/controls",
      "model_module_version": "2.0.0",
      "model_name": "HTMLStyleModel",
      "state": {
       "description_width": "",
       "font_size": null,
       "text_color": null
      }
     },
     "4d3b2cc797ab4f8789ec106f2c89a2fc": {
      "model_module": "@jupyter-widgets/controls",
      "model_module_version": "2.0.0",
      "model_name": "HTMLStyleModel",
      "state": {
       "description_width": "",
       "font_size": null,
       "text_color": null
      }
     },
     "4deebc7e7b494108be2d7c432cdd7113": {
      "model_module": "@jupyter-widgets/controls",
      "model_module_version": "2.0.0",
      "model_name": "VBoxModel",
      "state": {
       "children": [
        "IPY_MODEL_e8cce55e2b224f14bd2ade67511bac50",
        "IPY_MODEL_f2fb570d160d49789bdc2c406d21b3da",
        "IPY_MODEL_b2691595ee9148428aa3a3845cba4513",
        "IPY_MODEL_b1beed96c38c42d58af672260ddb8b07"
       ],
       "layout": "IPY_MODEL_90911d8a44ad424c8b623db335a8024a"
      }
     },
     "51813b7f8b1845e9aef2ea43df9cde20": {
      "model_module": "@jupyter-widgets/base",
      "model_module_version": "2.0.0",
      "model_name": "LayoutModel",
      "state": {}
     },
     "52c75ae23f2144f28c1a0a68cf372754": {
      "model_module": "@jupyter-widgets/controls",
      "model_module_version": "2.0.0",
      "model_name": "VBoxModel",
      "state": {
       "children": [
        "IPY_MODEL_c7d3d6d7a9cd46a78cc06fbf78fa3327",
        "IPY_MODEL_6dfb81bc74b647358b72f7f9fe262851"
       ],
       "layout": "IPY_MODEL_33a88ad4f8e2479e9c87d3635d81d92b"
      }
     },
     "5482995d3f8049b296b4642bd202ac8a": {
      "model_module": "@jupyter-widgets/controls",
      "model_module_version": "2.0.0",
      "model_name": "ButtonStyleModel",
      "state": {
       "font_family": null,
       "font_size": null,
       "font_style": null,
       "font_variant": null,
       "font_weight": null,
       "text_color": null,
       "text_decoration": null
      }
     },
     "5586154be834436697a9cee1b986f644": {
      "model_module": "@jupyter-widgets/base",
      "model_module_version": "2.0.0",
      "model_name": "LayoutModel",
      "state": {
       "height": "55px",
       "width": "55px"
      }
     },
     "55d8826bee8943abb33e7f7558b9ac31": {
      "model_module": "@jupyter-widgets/base",
      "model_module_version": "2.0.0",
      "model_name": "LayoutModel",
      "state": {}
     },
     "55e9fc14e9c546cfb7213aec7997bfdb": {
      "model_module": "@jupyter-widgets/base",
      "model_module_version": "2.0.0",
      "model_name": "LayoutModel",
      "state": {}
     },
     "570b4aa25fd349f786d184a5eea83ffb": {
      "model_module": "@jupyter-widgets/base",
      "model_module_version": "2.0.0",
      "model_name": "LayoutModel",
      "state": {}
     },
     "57ecfc95d6134ad599b957cbfbb12581": {
      "model_module": "@jupyter-widgets/controls",
      "model_module_version": "2.0.0",
      "model_name": "ButtonStyleModel",
      "state": {
       "font_family": null,
       "font_size": null,
       "font_style": null,
       "font_variant": null,
       "font_weight": null,
       "text_color": null,
       "text_decoration": null
      }
     },
     "58242dc65ac246c2a4a8dac79f165a08": {
      "model_module": "@jupyter-widgets/base",
      "model_module_version": "2.0.0",
      "model_name": "LayoutModel",
      "state": {
       "height": "40px",
       "width": "120px"
      }
     },
     "5848ddc5f0c7481e8f08486e7d843307": {
      "model_module": "@jupyter-widgets/base",
      "model_module_version": "2.0.0",
      "model_name": "LayoutModel",
      "state": {
       "height": "40px",
       "width": "120px"
      }
     },
     "5a4640a419e74c38b91c226e67049d49": {
      "model_module": "@jupyter-widgets/base",
      "model_module_version": "2.0.0",
      "model_name": "LayoutModel",
      "state": {}
     },
     "5aaea56237774c83b7de50d4a0f5d651": {
      "model_module": "@jupyter-widgets/base",
      "model_module_version": "2.0.0",
      "model_name": "LayoutModel",
      "state": {}
     },
     "5bc100b1313d4b8d86a167743c48d2ed": {
      "model_module": "@jupyter-widgets/base",
      "model_module_version": "2.0.0",
      "model_name": "LayoutModel",
      "state": {
       "height": "40px",
       "width": "120px"
      }
     },
     "5c6e1fc5f0444b8eabc119ef8c6f8b7c": {
      "model_module": "@jupyter-widgets/controls",
      "model_module_version": "2.0.0",
      "model_name": "VBoxModel",
      "state": {
       "children": [
        "IPY_MODEL_c5f4a2cd2f064da984e92f01be9b6976",
        "IPY_MODEL_fa814f9f4cae4f40a302a6e509626bcb",
        "IPY_MODEL_06b2105ef91e4eb7966934828989702e",
        "IPY_MODEL_90c00c26f1e046d2a625f2aab5f0bea7"
       ],
       "layout": "IPY_MODEL_bea6b1f610d44c3ab070b4a9f772a741"
      }
     },
     "5ec678067c7540f3aeb9ad66f916add5": {
      "model_module": "@jupyter-widgets/controls",
      "model_module_version": "2.0.0",
      "model_name": "ButtonModel",
      "state": {
       "description": "Instruction",
       "icon": "comment",
       "layout": "IPY_MODEL_f9ff4dc98c9047069c37143bb6d60b25",
       "style": "IPY_MODEL_f7c659bbc67141e890d883d849654538",
       "tooltip": "0"
      }
     },
     "5fa2e369256c4e25a965041601b905b6": {
      "model_module": "@jupyter-widgets/base",
      "model_module_version": "2.0.0",
      "model_name": "LayoutModel",
      "state": {}
     },
     "60dc1db713324190909cb0f60c969a05": {
      "model_module": "@jupyter-widgets/controls",
      "model_module_version": "2.0.0",
      "model_name": "CheckboxModel",
      "state": {
       "description": "cardio",
       "disabled": false,
       "indent": false,
       "layout": "IPY_MODEL_07680e6444184d5f97bb493b248eb106",
       "style": "IPY_MODEL_78ce0cd68abb40b9be20f6d140dc763d",
       "value": true
      }
     },
     "60f1b73fc9d14ca5a7fce0a9382cf2b8": {
      "model_module": "@jupyter-widgets/base",
      "model_module_version": "2.0.0",
      "model_name": "LayoutModel",
      "state": {}
     },
     "6181344aede644d29b9216ef054171a0": {
      "model_module": "@jupyter-widgets/base",
      "model_module_version": "2.0.0",
      "model_name": "LayoutModel",
      "state": {
       "align_items": "stretch",
       "display": "flex",
       "flex_flow": "row",
       "justify_content": "space-around",
       "width": "50%"
      }
     },
     "61a6611081784716ae6bccf154b90dda": {
      "model_module": "@jupyter-widgets/controls",
      "model_module_version": "2.0.0",
      "model_name": "ButtonStyleModel",
      "state": {
       "font_family": null,
       "font_size": null,
       "font_style": null,
       "font_variant": null,
       "font_weight": null,
       "text_color": null,
       "text_decoration": null
      }
     },
     "62baf40b83d549229ab62d938aa5c2b6": {
      "model_module": "@jupyter-widgets/controls",
      "model_module_version": "2.0.0",
      "model_name": "CheckboxModel",
      "state": {
       "description": "lowerBody",
       "disabled": false,
       "indent": false,
       "layout": "IPY_MODEL_71581ad867324098919d0c2cea84c3e4",
       "style": "IPY_MODEL_cd3ff8074fdc4db0b860953e6abba051",
       "value": true
      }
     },
     "6634275b86c14325ba4c1cbb9a43bf94": {
      "model_module": "@jupyter-widgets/base",
      "model_module_version": "2.0.0",
      "model_name": "LayoutModel",
      "state": {
       "height": "40px",
       "width": "120px"
      }
     },
     "67a0a6baeec64c60b14a19069b438f27": {
      "model_module": "@jupyter-widgets/base",
      "model_module_version": "2.0.0",
      "model_name": "LayoutModel",
      "state": {
       "height": "40px",
       "width": "120px"
      }
     },
     "67b14167cbca4dc1a2d3d3676c215cee": {
      "model_module": "@jupyter-widgets/base",
      "model_module_version": "2.0.0",
      "model_name": "LayoutModel",
      "state": {
       "height": "55px",
       "width": "55px"
      }
     },
     "686d62271ce145fa9d7609da7d1fae93": {
      "model_module": "@jupyter-widgets/controls",
      "model_module_version": "2.0.0",
      "model_name": "HTMLStyleModel",
      "state": {
       "description_width": "",
       "font_size": null,
       "text_color": null
      }
     },
     "6c64580b6b8d4f55a046c4d41195d58d": {
      "model_module": "@jupyter-widgets/controls",
      "model_module_version": "2.0.0",
      "model_name": "ButtonModel",
      "state": {
       "description": "Close",
       "layout": "IPY_MODEL_476fbb58de104b929c1066d9c9eed024",
       "style": "IPY_MODEL_db58d36be6bd4faea619675def491454",
       "tooltip": null
      }
     },
     "6dfaa5c2730f490aa26439caafc1789e": {
      "model_module": "@jupyter-widgets/controls",
      "model_module_version": "2.0.0",
      "model_name": "ButtonModel",
      "state": {
       "description": "Clear",
       "layout": "IPY_MODEL_f360a767ee814016a968d42a3c307cbd",
       "style": "IPY_MODEL_3a742d6f92614f9586924027facd8e44",
       "tooltip": null
      }
     },
     "6dfb81bc74b647358b72f7f9fe262851": {
      "model_module": "@jupyter-widgets/controls",
      "model_module_version": "2.0.0",
      "model_name": "VBoxModel",
      "state": {
       "children": [
        "IPY_MODEL_b66a0fd4f1644e7699025e3569f29021",
        "IPY_MODEL_4260a6b8f8cc4451999490b7fe148508",
        "IPY_MODEL_38229a3699db4d9f9bad1f6379a66680"
       ],
       "layout": "IPY_MODEL_5aaea56237774c83b7de50d4a0f5d651"
      }
     },
     "6eaa5d4da45940b5a9a68b20959cfd96": {
      "model_module": "@jupyter-widgets/controls",
      "model_module_version": "2.0.0",
      "model_name": "CheckboxModel",
      "state": {
       "description": "other",
       "disabled": false,
       "indent": false,
       "layout": "IPY_MODEL_cafc0b58ed0f41978c0029ea867ece70",
       "style": "IPY_MODEL_17a29020974f4dd189655095172e8984",
       "value": true
      }
     },
     "6f7611fa3ff74fb3ab87a9f336489c1c": {
      "model_module": "@jupyter-widgets/controls",
      "model_module_version": "2.0.0",
      "model_name": "VBoxModel",
      "state": {
       "children": [
        "IPY_MODEL_49adf636432d43a387a3cc3458f62500",
        "IPY_MODEL_ef96e06eef95481ca6561d1808a74bdd",
        "IPY_MODEL_13c5527d895e42b998cf73b3543398d9",
        "IPY_MODEL_dde4a7a93c79418babc145d7b54e4610"
       ],
       "layout": "IPY_MODEL_330b4ef722734dd7becf6f6d531e8b08"
      }
     },
     "6fd70843bdd54b0bb7e240b1ba64f4fb": {
      "model_module": "@jupyter-widgets/controls",
      "model_module_version": "2.0.0",
      "model_name": "HTMLModel",
      "state": {
       "layout": "IPY_MODEL_04617a7a8c9d4d50a3715d9979924702",
       "style": "IPY_MODEL_f927b212323b46f69542246c9acc4336",
       "value": "<h2>Sample Size</h2>"
      }
     },
     "70663bd4774e41c08e2fe29abe316745": {
      "model_module": "@jupyter-widgets/base",
      "model_module_version": "2.0.0",
      "model_name": "LayoutModel",
      "state": {
       "height": "40px",
       "width": "120px"
      }
     },
     "70b1e003435443948e197555dcca6fd2": {
      "model_module": "@jupyter-widgets/base",
      "model_module_version": "2.0.0",
      "model_name": "LayoutModel",
      "state": {}
     },
     "71581ad867324098919d0c2cea84c3e4": {
      "model_module": "@jupyter-widgets/base",
      "model_module_version": "2.0.0",
      "model_name": "LayoutModel",
      "state": {
       "height": "40px",
       "width": "120px"
      }
     },
     "729d00434c884a1caf9779f685b2e89a": {
      "model_module": "@jupyter-widgets/base",
      "model_module_version": "2.0.0",
      "model_name": "LayoutModel",
      "state": {
       "height": "40px",
       "width": "120px"
      }
     },
     "72ddc3ad62694ab692510f4795456d88": {
      "model_module": "@jupyter-widgets/controls",
      "model_module_version": "2.0.0",
      "model_name": "CheckboxStyleModel",
      "state": {
       "description_width": ""
      }
     },
     "74674b7364a040978e827e2650f543ff": {
      "model_module": "@jupyter-widgets/controls",
      "model_module_version": "2.0.0",
      "model_name": "HBoxModel",
      "state": {
       "children": [
        "IPY_MODEL_4deebc7e7b494108be2d7c432cdd7113",
        "IPY_MODEL_6f7611fa3ff74fb3ab87a9f336489c1c",
        "IPY_MODEL_888da187ad704015b40c6dacb00674d5",
        "IPY_MODEL_c079fd4e36834d6284cb195d9fef9b73"
       ],
       "layout": "IPY_MODEL_8ffa4b206254482197be332a73df596c"
      }
     },
     "74ffa2146fb948efaf67a223555b22ab": {
      "model_module": "@jupyter-widgets/base",
      "model_module_version": "2.0.0",
      "model_name": "LayoutModel",
      "state": {
       "height": "55px",
       "width": "55px"
      }
     },
     "7799d6941d034487bb43413af303f19d": {
      "model_module": "@jupyter-widgets/controls",
      "model_module_version": "2.0.0",
      "model_name": "CheckboxModel",
      "state": {
       "description": "barbell",
       "disabled": false,
       "indent": false,
       "layout": "IPY_MODEL_cf0dfb86dc9546129791eb5aace1139d",
       "style": "IPY_MODEL_a9a62f2642224f5f9de525b5d31500b2",
       "value": true
      }
     },
     "77acebdf99c34546bc112fb0dbf08d55": {
      "model_module": "@jupyter-widgets/controls",
      "model_module_version": "2.0.0",
      "model_name": "VBoxModel",
      "state": {
       "layout": "IPY_MODEL_ab8dd3b472ec43afbeb643a22aa72c78"
      }
     },
     "78092729c1a24c429b2a348998d3e8cc": {
      "model_module": "@jupyter-widgets/controls",
      "model_module_version": "2.0.0",
      "model_name": "ButtonModel",
      "state": {
       "description": "Instruction",
       "icon": "comment",
       "layout": "IPY_MODEL_918291366b1c4ef38f222384c1ea85fc",
       "style": "IPY_MODEL_3016b10cdfbf46918196a8af55387b4f",
       "tooltip": "296"
      }
     },
     "78ce0cd68abb40b9be20f6d140dc763d": {
      "model_module": "@jupyter-widgets/controls",
      "model_module_version": "2.0.0",
      "model_name": "CheckboxStyleModel",
      "state": {
       "description_width": ""
      }
     },
     "7a683764866444c7a8ea54d1fff07795": {
      "model_module": "@jupyter-widgets/controls",
      "model_module_version": "2.0.0",
      "model_name": "HTMLStyleModel",
      "state": {
       "description_width": "",
       "font_size": null,
       "text_color": null
      }
     },
     "7ac254be58fa4f6a929c4af581a8cbf2": {
      "model_module": "@jupyter-widgets/controls",
      "model_module_version": "2.0.0",
      "model_name": "HTMLModel",
      "state": {
       "layout": "IPY_MODEL_e18db3b8db3d42ad9de454327bebc92c",
       "style": "IPY_MODEL_ec16512a6aac44c69f20cc8e0c6feafc",
       "value": "<h2>Equipment List</h2>"
      }
     },
     "7b07088c359d486ab7cc8601e92d66b1": {
      "model_module": "@jupyter-widgets/controls",
      "model_module_version": "2.0.0",
      "model_name": "HBoxModel",
      "state": {
       "children": [
        "IPY_MODEL_0af09dd0151c47df8e7b97577deb7a5b"
       ],
       "layout": "IPY_MODEL_70b1e003435443948e197555dcca6fd2"
      }
     },
     "7b56bf8dc3c3421a86e395d572c5f2a3": {
      "model_module": "@jupyter-widgets/controls",
      "model_module_version": "2.0.0",
      "model_name": "ButtonModel",
      "state": {
       "description": "Close",
       "layout": "IPY_MODEL_67b14167cbca4dc1a2d3d3676c215cee",
       "style": "IPY_MODEL_3307e2f9cd5e4edc906995a30091bed1",
       "tooltip": null
      }
     },
     "7be2d4bf4e384c168b93823244f8f325": {
      "model_module": "@jupyter-widgets/base",
      "model_module_version": "2.0.0",
      "model_name": "LayoutModel",
      "state": {}
     },
     "7cc22bea1e6c4f5fb2ab38c9637d9e2f": {
      "model_module": "@jupyter-widgets/controls",
      "model_module_version": "2.0.0",
      "model_name": "HBoxModel",
      "state": {
       "children": [
        "IPY_MODEL_b27a3adcb9934e1891f9c031cf595097",
        "IPY_MODEL_f644b9b8e4f7494994f76e4ad67cc214",
        "IPY_MODEL_7eb3b7a269d747eba0fac1fb1b79d3ba",
        "IPY_MODEL_23a6eab0dd9142f8b9ce45ebe14de737"
       ],
       "layout": "IPY_MODEL_a4647820d602457e94fc7e3d7bcb3959"
      }
     },
     "7dcbcd9d4b3f4a4ba1205dbfb20588c6": {
      "model_module": "@jupyter-widgets/controls",
      "model_module_version": "2.0.0",
      "model_name": "CheckboxStyleModel",
      "state": {
       "description_width": ""
      }
     },
     "7eb3b7a269d747eba0fac1fb1b79d3ba": {
      "model_module": "@jupyter-widgets/controls",
      "model_module_version": "2.0.0",
      "model_name": "VBoxModel",
      "state": {
       "children": [
        "IPY_MODEL_9562c8bd67fb4eb8949a2645539ada91"
       ],
       "layout": "IPY_MODEL_92beb52f29f348c89b062143f6f03d25"
      }
     },
     "7f5ae84c0a244654a150c207394c96f2": {
      "model_module": "@jupyter-widgets/controls",
      "model_module_version": "2.0.0",
      "model_name": "DropdownModel",
      "state": {
       "_options_labels": [
        "One",
        "Two",
        "Three",
        "Four",
        "Five"
       ],
       "index": 1,
       "layout": "IPY_MODEL_15f7e6699c964b0db916901a98c6ec59",
       "style": "IPY_MODEL_326683c0f5954a2695db4d079c236f0f"
      }
     },
     "7f8b4822afd34b8f9bcfacc90f875e3e": {
      "model_module": "@jupyter-widgets/base",
      "model_module_version": "2.0.0",
      "model_name": "LayoutModel",
      "state": {}
     },
     "8160d9825cf84e9bad0b2bd2043373e6": {
      "model_module": "@jupyter-widgets/controls",
      "model_module_version": "2.0.0",
      "model_name": "HTMLModel",
      "state": {
       "layout": "IPY_MODEL_e56743c689644029bc5cf9015e2e24df",
       "style": "IPY_MODEL_dacaa253cceb4250b99ba831b1b081b9",
       "value": "<h1>Results</h1>"
      }
     },
     "81c05f350f2645a79707982ca9c48e92": {
      "model_module": "@jupyter-widgets/base",
      "model_module_version": "2.0.0",
      "model_name": "LayoutModel",
      "state": {
       "height": "120px",
       "width": "100px"
      }
     },
     "837a37ba3b904b608a73cd481564c2d0": {
      "model_module": "@jupyter-widgets/base",
      "model_module_version": "2.0.0",
      "model_name": "LayoutModel",
      "state": {}
     },
     "83e813d721d7401695a1af0a04aa0408": {
      "model_module": "@jupyter-widgets/base",
      "model_module_version": "2.0.0",
      "model_name": "LayoutModel",
      "state": {
       "height": "40px",
       "width": "120px"
      }
     },
     "85506ed5588f40e6b8bc9242f0d0ed94": {
      "model_module": "@jupyter-widgets/controls",
      "model_module_version": "2.0.0",
      "model_name": "ButtonModel",
      "state": {
       "description": "Close",
       "layout": "IPY_MODEL_5586154be834436697a9cee1b986f644",
       "style": "IPY_MODEL_2570aaf4b4034455aba203b0039a9a84",
       "tooltip": null
      }
     },
     "87f1b4e08d694ba3a2b9e79328b0565e": {
      "model_module": "@jupyter-widgets/controls",
      "model_module_version": "2.0.0",
      "model_name": "ButtonModel",
      "state": {
       "description": "Instruction",
       "icon": "comment",
       "layout": "IPY_MODEL_f698bb7a92ee440aaf4ed8fcb0eb0ede",
       "style": "IPY_MODEL_c5289178c65f4ea69ad9eecaa725fcac",
       "tooltip": "565"
      }
     },
     "87fadcde2c924743bafc4d3cbf9adddf": {
      "model_module": "@jupyter-widgets/controls",
      "model_module_version": "2.0.0",
      "model_name": "CheckboxModel",
      "state": {
       "description": "strongman",
       "disabled": false,
       "indent": false,
       "layout": "IPY_MODEL_9d49e9045f5f4e1f8c91302699f6384c",
       "style": "IPY_MODEL_96c4bfef5f0f42818631f0ccb83c9e66",
       "value": true
      }
     },
     "888da187ad704015b40c6dacb00674d5": {
      "model_module": "@jupyter-widgets/controls",
      "model_module_version": "2.0.0",
      "model_name": "VBoxModel",
      "state": {
       "children": [
        "IPY_MODEL_a5689d29c3e9423a87953b6c640860b7",
        "IPY_MODEL_01970919115f47efb4ea2736c843c676",
        "IPY_MODEL_7799d6941d034487bb43413af303f19d",
        "IPY_MODEL_6eaa5d4da45940b5a9a68b20959cfd96"
       ],
       "layout": "IPY_MODEL_4cec9fd2caa342aab0ccd942b7e94419"
      }
     },
     "8a096ce876bb49e594706e3b112f0582": {
      "model_module": "@jupyter-widgets/controls",
      "model_module_version": "2.0.0",
      "model_name": "CheckboxStyleModel",
      "state": {
       "description_width": ""
      }
     },
     "8ce26d708a024a46978709a167d587b2": {
      "model_module": "@jupyter-widgets/controls",
      "model_module_version": "2.0.0",
      "model_name": "HBoxModel",
      "state": {
       "children": [
        "IPY_MODEL_6fd70843bdd54b0bb7e240b1ba64f4fb"
       ],
       "layout": "IPY_MODEL_bebf7e66654f4bb1b40c774d8888d811"
      }
     },
     "8f5c729ebe5e48a687278d9519cf51ab": {
      "model_module": "@jupyter-widgets/base",
      "model_module_version": "2.0.0",
      "model_name": "LayoutModel",
      "state": {}
     },
     "8ffa4b206254482197be332a73df596c": {
      "model_module": "@jupyter-widgets/base",
      "model_module_version": "2.0.0",
      "model_name": "LayoutModel",
      "state": {}
     },
     "90911d8a44ad424c8b623db335a8024a": {
      "model_module": "@jupyter-widgets/base",
      "model_module_version": "2.0.0",
      "model_name": "LayoutModel",
      "state": {}
     },
     "90a6d8db020e4e0ab7a878949972b6e5": {
      "model_module": "@jupyter-widgets/controls",
      "model_module_version": "2.0.0",
      "model_name": "ButtonModel",
      "state": {
       "description": "Ex Category",
       "layout": "IPY_MODEL_81c05f350f2645a79707982ca9c48e92",
       "style": "IPY_MODEL_57ecfc95d6134ad599b957cbfbb12581",
       "tooltip": null
      }
     },
     "90c00c26f1e046d2a625f2aab5f0bea7": {
      "model_module": "@jupyter-widgets/controls",
      "model_module_version": "2.0.0",
      "model_name": "CheckboxModel",
      "state": {
       "description": "plyometrics",
       "disabled": false,
       "indent": false,
       "layout": "IPY_MODEL_ca193f7b2fb14534a3b00e6fbe466c75",
       "style": "IPY_MODEL_b8fccfa7775a4eb3bd326d2d988c0bf8",
       "value": true
      }
     },
     "90c49e85adb24f118ca765495236c5cf": {
      "model_module": "@jupyter-widgets/base",
      "model_module_version": "2.0.0",
      "model_name": "LayoutModel",
      "state": {}
     },
     "918291366b1c4ef38f222384c1ea85fc": {
      "model_module": "@jupyter-widgets/base",
      "model_module_version": "2.0.0",
      "model_name": "LayoutModel",
      "state": {
       "height": "55px",
       "width": "120px"
      }
     },
     "91a6b8327fcd43d580c218188e13e1ba": {
      "model_module": "@jupyter-widgets/base",
      "model_module_version": "2.0.0",
      "model_name": "LayoutModel",
      "state": {
       "height": "55px",
       "width": "55px"
      }
     },
     "92beb52f29f348c89b062143f6f03d25": {
      "model_module": "@jupyter-widgets/base",
      "model_module_version": "2.0.0",
      "model_name": "LayoutModel",
      "state": {}
     },
     "92de24ae3e054e1eb0cc3ad2466ad8ba": {
      "model_module": "@jupyter-widgets/output",
      "model_module_version": "1.0.0",
      "model_name": "OutputModel",
      "state": {
       "layout": "IPY_MODEL_a9caaf2db6804ddda73a6175c8a754de"
      }
     },
     "94038dd8fc874289a5cbe0e23fce9fae": {
      "model_module": "@jupyter-widgets/base",
      "model_module_version": "2.0.0",
      "model_name": "LayoutModel",
      "state": {
       "height": "40px",
       "width": "120px"
      }
     },
     "946995a85e0848f5815ad2157564674e": {
      "model_module": "@jupyter-widgets/base",
      "model_module_version": "2.0.0",
      "model_name": "LayoutModel",
      "state": {}
     },
     "9562c8bd67fb4eb8949a2645539ada91": {
      "model_module": "@jupyter-widgets/controls",
      "model_module_version": "2.0.0",
      "model_name": "ButtonModel",
      "state": {
       "description": "Body Area",
       "layout": "IPY_MODEL_42f59fcfb8154e0182134fc6b32332fe",
       "style": "IPY_MODEL_0ffa7f9c48674526bca013c2e1a3e31d",
       "tooltip": null
      }
     },
     "96c4bfef5f0f42818631f0ccb83c9e66": {
      "model_module": "@jupyter-widgets/controls",
      "model_module_version": "2.0.0",
      "model_name": "CheckboxStyleModel",
      "state": {
       "description_width": ""
      }
     },
     "972f68f0c67e45c89d76dc43c851043c": {
      "model_module": "@jupyter-widgets/base",
      "model_module_version": "2.0.0",
      "model_name": "LayoutModel",
      "state": {
       "height": "40px",
       "width": "120px"
      }
     },
     "9755b0addbaa41e2bfede641e2cbd712": {
      "model_module": "@jupyter-widgets/controls",
      "model_module_version": "2.0.0",
      "model_name": "VBoxModel",
      "state": {
       "layout": "IPY_MODEL_dd0baa25aa5d4004b142f029d95ae9d8"
      }
     },
     "9ba4c525be614806a82c50babedc539d": {
      "model_module": "@jupyter-widgets/controls",
      "model_module_version": "2.0.0",
      "model_name": "GridBoxModel",
      "state": {
       "layout": "IPY_MODEL_ea9ed0352f924de69c671b9ecdbd5d01"
      }
     },
     "9c16f9598e0b4df793a78c6781df21c1": {
      "model_module": "@jupyter-widgets/controls",
      "model_module_version": "2.0.0",
      "model_name": "VBoxModel",
      "state": {
       "children": [
        "IPY_MODEL_3138fc7b4af14bb68c7335c7c5e69a87",
        "IPY_MODEL_87f1b4e08d694ba3a2b9e79328b0565e"
       ],
       "layout": "IPY_MODEL_247f410ffa88460f8600fdac39eec319"
      }
     },
     "9ca43d89f4034674badeed1c7e5ddad7": {
      "model_module": "@jupyter-widgets/controls",
      "model_module_version": "2.0.0",
      "model_name": "CheckboxModel",
      "state": {
       "description": "Core",
       "disabled": false,
       "indent": false,
       "layout": "IPY_MODEL_5bc100b1313d4b8d86a167743c48d2ed",
       "style": "IPY_MODEL_e5a572ad82b242b7b666968876d3ad3d",
       "value": true
      }
     },
     "9cfb4bb3e2fe47f78f92393aa47069a3": {
      "model_module": "@jupyter-widgets/controls",
      "model_module_version": "2.0.0",
      "model_name": "ButtonModel",
      "state": {
       "description": "Instruction",
       "icon": "comment",
       "layout": "IPY_MODEL_19c1b57538bc46c09af3188f7aa0aea9",
       "style": "IPY_MODEL_cb4e17eedc0847a09ce169ccf0f2311f",
       "tooltip": "641"
      }
     },
     "9d49e9045f5f4e1f8c91302699f6384c": {
      "model_module": "@jupyter-widgets/base",
      "model_module_version": "2.0.0",
      "model_name": "LayoutModel",
      "state": {
       "height": "40px",
       "width": "120px"
      }
     },
     "9d6363aad8f24cc6b057e95944e5608a": {
      "model_module": "@jupyter-widgets/base",
      "model_module_version": "2.0.0",
      "model_name": "LayoutModel",
      "state": {
       "align_items": "stretch",
       "display": "flex",
       "flex_flow": "row",
       "justify_content": "space-around",
       "width": "60%"
      }
     },
     "a16fe8dd100c4553af55e5104c7a2df8": {
      "model_module": "@jupyter-widgets/base",
      "model_module_version": "2.0.0",
      "model_name": "LayoutModel",
      "state": {
       "height": "40px",
       "width": "120px"
      }
     },
     "a2de0f5ddc7847288f2d03cab0148e70": {
      "model_module": "@jupyter-widgets/base",
      "model_module_version": "2.0.0",
      "model_name": "LayoutModel",
      "state": {
       "height": "120px",
       "width": "100px"
      }
     },
     "a4647820d602457e94fc7e3d7bcb3959": {
      "model_module": "@jupyter-widgets/base",
      "model_module_version": "2.0.0",
      "model_name": "LayoutModel",
      "state": {}
     },
     "a50ae99c7c39416886ebc8f5cfcb4867": {
      "model_module": "@jupyter-widgets/controls",
      "model_module_version": "2.0.0",
      "model_name": "HBoxModel",
      "state": {
       "children": [
        "IPY_MODEL_293640df44334ac2a31107206426f120"
       ],
       "layout": "IPY_MODEL_f504611873194dd78408a09f43c58662"
      }
     },
     "a5689d29c3e9423a87953b6c640860b7": {
      "model_module": "@jupyter-widgets/controls",
      "model_module_version": "2.0.0",
      "model_name": "CheckboxModel",
      "state": {
       "description": "body only",
       "disabled": false,
       "indent": false,
       "layout": "IPY_MODEL_67a0a6baeec64c60b14a19069b438f27",
       "style": "IPY_MODEL_d28aa62341214235bcbacb2e575bd29f",
       "value": true
      }
     },
     "a5e0608f46704190a9ba6f4db1f5779d": {
      "model_module": "@jupyter-widgets/base",
      "model_module_version": "2.0.0",
      "model_name": "LayoutModel",
      "state": {}
     },
     "a6515207588d4f91ace38f21473c0d7d": {
      "model_module": "@jupyter-widgets/controls",
      "model_module_version": "2.0.0",
      "model_name": "HTMLModel",
      "state": {
       "layout": "IPY_MODEL_946995a85e0848f5815ad2157564674e",
       "style": "IPY_MODEL_0aa18ccb96ca48b0bdca8d56fb3bf937",
       "value": "<h2>Exercise Category</h2>"
      }
     },
     "a89f8632f06f4f62943665d4bd587e3d": {
      "model_module": "@jupyter-widgets/base",
      "model_module_version": "2.0.0",
      "model_name": "LayoutModel",
      "state": {
       "height": "40px",
       "width": "120px"
      }
     },
     "a9a62f2642224f5f9de525b5d31500b2": {
      "model_module": "@jupyter-widgets/controls",
      "model_module_version": "2.0.0",
      "model_name": "CheckboxStyleModel",
      "state": {
       "description_width": ""
      }
     },
     "a9caaf2db6804ddda73a6175c8a754de": {
      "model_module": "@jupyter-widgets/base",
      "model_module_version": "2.0.0",
      "model_name": "LayoutModel",
      "state": {}
     },
     "a9ff490579bb4f1fbf30bc5e0b4ce2ee": {
      "model_module": "@jupyter-widgets/base",
      "model_module_version": "2.0.0",
      "model_name": "LayoutModel",
      "state": {
       "height": "120px",
       "width": "100px"
      }
     },
     "ab29f7b81823454dbfc586d7565dfdf0": {
      "model_module": "@jupyter-widgets/base",
      "model_module_version": "2.0.0",
      "model_name": "LayoutModel",
      "state": {
       "height": "40px",
       "width": "120px"
      }
     },
     "ab4dd2bd6c344ff88744872104fd45fc": {
      "model_module": "@jupyter-widgets/controls",
      "model_module_version": "2.0.0",
      "model_name": "VBoxModel",
      "state": {
       "layout": "IPY_MODEL_e2b08498c22142299f322edc014e2635"
      }
     },
     "ab8dd3b472ec43afbeb643a22aa72c78": {
      "model_module": "@jupyter-widgets/base",
      "model_module_version": "2.0.0",
      "model_name": "LayoutModel",
      "state": {}
     },
     "ac9834ceb3e34a7ab71bf8175be8c97c": {
      "model_module": "@jupyter-widgets/controls",
      "model_module_version": "2.0.0",
      "model_name": "ButtonModel",
      "state": {
       "description": "Close",
       "layout": "IPY_MODEL_91a6b8327fcd43d580c218188e13e1ba",
       "style": "IPY_MODEL_ee103c960a1f4a5ea18e6cef6bc47414",
       "tooltip": null
      }
     },
     "ad8eae43cc5847ac90b10c649ca9969f": {
      "model_module": "@jupyter-widgets/controls",
      "model_module_version": "2.0.0",
      "model_name": "HBoxModel",
      "state": {
       "children": [
        "IPY_MODEL_019111b987494feabb068f8e9254a639",
        "IPY_MODEL_1d00bb478f01411e933f17da9935b598"
       ],
       "layout": "IPY_MODEL_a5e0608f46704190a9ba6f4db1f5779d"
      }
     },
     "aea992e3e4a9435082fffc3c649d137a": {
      "model_module": "@jupyter-widgets/controls",
      "model_module_version": "2.0.0",
      "model_name": "ButtonStyleModel",
      "state": {
       "font_family": null,
       "font_size": null,
       "font_style": null,
       "font_variant": null,
       "font_weight": null,
       "text_color": null,
       "text_decoration": null
      }
     },
     "aee9fcf26e5b4141a99cdcfb4cd0a80f": {
      "model_module": "@jupyter-widgets/base",
      "model_module_version": "2.0.0",
      "model_name": "LayoutModel",
      "state": {}
     },
     "afa7c7569dba422eaaa80195f34307e7": {
      "model_module": "@jupyter-widgets/controls",
      "model_module_version": "2.0.0",
      "model_name": "ButtonModel",
      "state": {
       "description": "Instruction",
       "icon": "comment",
       "layout": "IPY_MODEL_fadae3a0feb24e1fb696795f7b018fef",
       "style": "IPY_MODEL_3af7668ed916454781a60279282ca99a",
       "tooltip": "119"
      }
     },
     "b0c97090da8b4923979a6fbe4e6440f9": {
      "model_module": "@jupyter-widgets/controls",
      "model_module_version": "2.0.0",
      "model_name": "VBoxModel",
      "state": {
       "children": [
        "IPY_MODEL_f9eedeb2514741f7ba3b617690f2a078",
        "IPY_MODEL_78092729c1a24c429b2a348998d3e8cc"
       ],
       "layout": "IPY_MODEL_e90ccdf5ecf9493abcd240f8e142740d"
      }
     },
     "b15d3e8fa4824d80852da97eb08bd0ca": {
      "model_module": "@jupyter-widgets/base",
      "model_module_version": "2.0.0",
      "model_name": "LayoutModel",
      "state": {
       "height": "120px",
       "width": "100px"
      }
     },
     "b18f46ed50844990985207e6fac82818": {
      "model_module": "@jupyter-widgets/controls",
      "model_module_version": "2.0.0",
      "model_name": "HTMLStyleModel",
      "state": {
       "description_width": "",
       "font_size": null,
       "text_color": null
      }
     },
     "b1beed96c38c42d58af672260ddb8b07": {
      "model_module": "@jupyter-widgets/controls",
      "model_module_version": "2.0.0",
      "model_name": "CheckboxModel",
      "state": {
       "description": "exercise ball",
       "disabled": false,
       "indent": false,
       "layout": "IPY_MODEL_94038dd8fc874289a5cbe0e23fce9fae",
       "style": "IPY_MODEL_fab00a6bb39a48579b376d24dfc63bb2",
       "value": true
      }
     },
     "b263715e591e4d81b9f85fa5e4e39340": {
      "model_module": "@jupyter-widgets/base",
      "model_module_version": "2.0.0",
      "model_name": "LayoutModel",
      "state": {}
     },
     "b2691595ee9148428aa3a3845cba4513": {
      "model_module": "@jupyter-widgets/controls",
      "model_module_version": "2.0.0",
      "model_name": "CheckboxModel",
      "state": {
       "description": "cable",
       "disabled": false,
       "indent": false,
       "layout": "IPY_MODEL_f8ef7c5099414999b4a9a1be96df5045",
       "style": "IPY_MODEL_017fa3bd8b8c4c8ca080260157f66779",
       "value": true
      }
     },
     "b27a3adcb9934e1891f9c031cf595097": {
      "model_module": "@jupyter-widgets/controls",
      "model_module_version": "2.0.0",
      "model_name": "VBoxModel",
      "state": {
       "children": [
        "IPY_MODEL_bcacbed784884be084bad9c4c15cee27",
        "IPY_MODEL_be0d52f89cd2460ab085caa26bf29927"
       ],
       "layout": "IPY_MODEL_1bd2a62d3ed64c409c7a8466abeef5b7"
      }
     },
     "b3b9496e35154d46b69ff5bde83628aa": {
      "model_module": "@jupyter-widgets/controls",
      "model_module_version": "2.0.0",
      "model_name": "HBoxModel",
      "state": {
       "children": [
        "IPY_MODEL_7ac254be58fa4f6a929c4af581a8cbf2"
       ],
       "layout": "IPY_MODEL_8f5c729ebe5e48a687278d9519cf51ab"
      }
     },
     "b66a0fd4f1644e7699025e3569f29021": {
      "model_module": "@jupyter-widgets/controls",
      "model_module_version": "2.0.0",
      "model_name": "VBoxModel",
      "state": {
       "children": [
        "IPY_MODEL_07d67638542e408ead67e76af0e2b84f",
        "IPY_MODEL_09dc1986576049efa0520a3a2d4f98af"
       ],
       "layout": "IPY_MODEL_05ca07fc89f3400f946af968846fa693"
      }
     },
     "b6c5e2f5a2854f7c96e49e06b749b330": {
      "model_module": "@jupyter-widgets/controls",
      "model_module_version": "2.0.0",
      "model_name": "HBoxModel",
      "state": {
       "children": [
        "IPY_MODEL_5c6e1fc5f0444b8eabc119ef8c6f8b7c",
        "IPY_MODEL_49818fee61784ced8d855ef05c4d4389",
        "IPY_MODEL_ec78902d19cd44cf822f07123fc10c23"
       ],
       "layout": "IPY_MODEL_b263715e591e4d81b9f85fa5e4e39340"
      }
     },
     "b76255592fd447c594ccf8a86e083654": {
      "model_module": "@jupyter-widgets/controls",
      "model_module_version": "2.0.0",
      "model_name": "VBoxModel",
      "state": {
       "children": [
        "IPY_MODEL_c1a03f21f1d74670822e35f2089bf8a2",
        "IPY_MODEL_afa7c7569dba422eaaa80195f34307e7"
       ],
       "layout": "IPY_MODEL_bb4fbf0445a34ddd9ce0b1cca9b65503"
      }
     },
     "b8fccfa7775a4eb3bd326d2d988c0bf8": {
      "model_module": "@jupyter-widgets/controls",
      "model_module_version": "2.0.0",
      "model_name": "CheckboxStyleModel",
      "state": {
       "description_width": ""
      }
     },
     "ba6d90c77ec44e13bd06d78a40d0960d": {
      "model_module": "@jupyter-widgets/base",
      "model_module_version": "2.0.0",
      "model_name": "LayoutModel",
      "state": {}
     },
     "bb429cdd47644d6a8479565f38b82c91": {
      "model_module": "@jupyter-widgets/controls",
      "model_module_version": "2.0.0",
      "model_name": "HTMLStyleModel",
      "state": {
       "description_width": "",
       "font_size": null,
       "text_color": null
      }
     },
     "bb4fbf0445a34ddd9ce0b1cca9b65503": {
      "model_module": "@jupyter-widgets/base",
      "model_module_version": "2.0.0",
      "model_name": "LayoutModel",
      "state": {}
     },
     "bcacbed784884be084bad9c4c15cee27": {
      "model_module": "@jupyter-widgets/controls",
      "model_module_version": "2.0.0",
      "model_name": "ButtonModel",
      "state": {
       "description": "Equipment",
       "layout": "IPY_MODEL_b15d3e8fa4824d80852da97eb08bd0ca",
       "style": "IPY_MODEL_c053895451664c68943dd36844e857f4",
       "tooltip": null
      }
     },
     "be0d52f89cd2460ab085caa26bf29927": {
      "model_module": "@jupyter-widgets/controls",
      "model_module_version": "2.0.0",
      "model_name": "ButtonModel",
      "state": {
       "description": "Run",
       "layout": "IPY_MODEL_a2de0f5ddc7847288f2d03cab0148e70",
       "style": "IPY_MODEL_fd01bb872cb0409fa474cb36e950deb2",
       "tooltip": null
      }
     },
     "bea6b1f610d44c3ab070b4a9f772a741": {
      "model_module": "@jupyter-widgets/base",
      "model_module_version": "2.0.0",
      "model_name": "LayoutModel",
      "state": {}
     },
     "bebf7e66654f4bb1b40c774d8888d811": {
      "model_module": "@jupyter-widgets/base",
      "model_module_version": "2.0.0",
      "model_name": "LayoutModel",
      "state": {}
     },
     "c053895451664c68943dd36844e857f4": {
      "model_module": "@jupyter-widgets/controls",
      "model_module_version": "2.0.0",
      "model_name": "ButtonStyleModel",
      "state": {
       "font_family": null,
       "font_size": null,
       "font_style": null,
       "font_variant": null,
       "font_weight": null,
       "text_color": null,
       "text_decoration": null
      }
     },
     "c079fd4e36834d6284cb195d9fef9b73": {
      "model_module": "@jupyter-widgets/controls",
      "model_module_version": "2.0.0",
      "model_name": "HBoxModel",
      "state": {
       "children": [
        "IPY_MODEL_6dfaa5c2730f490aa26439caafc1789e"
       ],
       "layout": "IPY_MODEL_3670da6dfc0341a7ae356cb3c5954385"
      }
     },
     "c1a03f21f1d74670822e35f2089bf8a2": {
      "model_module": "@jupyter-widgets/controls",
      "model_module_version": "2.0.0",
      "model_name": "HTMLModel",
      "state": {
       "layout": "IPY_MODEL_55d8826bee8943abb33e7f7558b9ac31",
       "style": "IPY_MODEL_df07a8db00fb43f4b92dcb53ca40d946",
       "value": "Cable Judo Flip"
      }
     },
     "c2dd50bf45f74039baecb6fd5129a659": {
      "model_module": "@jupyter-widgets/controls",
      "model_module_version": "2.0.0",
      "model_name": "CheckboxStyleModel",
      "state": {
       "description_width": ""
      }
     },
     "c3976ada3697435ab8ac4fcb0ea9fb20": {
      "model_module": "@jupyter-widgets/controls",
      "model_module_version": "2.0.0",
      "model_name": "HTMLModel",
      "state": {
       "layout": "IPY_MODEL_5fa2e369256c4e25a965041601b905b6",
       "style": "IPY_MODEL_4cecdb20268f4955b9c454cb010533b9",
       "value": "Sit Squats"
      }
     },
     "c5289178c65f4ea69ad9eecaa725fcac": {
      "model_module": "@jupyter-widgets/controls",
      "model_module_version": "2.0.0",
      "model_name": "ButtonStyleModel",
      "state": {
       "font_family": null,
       "font_size": null,
       "font_style": null,
       "font_variant": null,
       "font_weight": null,
       "text_color": null,
       "text_decoration": null
      }
     },
     "c5f4a2cd2f064da984e92f01be9b6976": {
      "model_module": "@jupyter-widgets/controls",
      "model_module_version": "2.0.0",
      "model_name": "CheckboxModel",
      "state": {
       "description": "powerlifting",
       "disabled": false,
       "indent": false,
       "layout": "IPY_MODEL_f97104d56cf743db9b8d0cd98c1aa162",
       "style": "IPY_MODEL_72ddc3ad62694ab692510f4795456d88",
       "value": true
      }
     },
     "c6911d52811b4c379f1eb067a38b8573": {
      "model_module": "@jupyter-widgets/controls",
      "model_module_version": "2.0.0",
      "model_name": "HTMLStyleModel",
      "state": {
       "description_width": "",
       "font_size": null,
       "text_color": null
      }
     },
     "c7d3d6d7a9cd46a78cc06fbf78fa3327": {
      "model_module": "@jupyter-widgets/controls",
      "model_module_version": "2.0.0",
      "model_name": "BoxModel",
      "state": {
       "children": [
        "IPY_MODEL_e8439d1a33c34f1e9dd61aa4a3aeba48",
        "IPY_MODEL_85506ed5588f40e6b8bc9242f0d0ed94"
       ],
       "layout": "IPY_MODEL_083343c5d8fe449289e190e31fe9ea01"
      }
     },
     "c998f1b7332b4c2ba4a31bfb60513ceb": {
      "model_module": "@jupyter-widgets/controls",
      "model_module_version": "2.0.0",
      "model_name": "ButtonStyleModel",
      "state": {
       "font_family": null,
       "font_size": null,
       "font_style": null,
       "font_variant": null,
       "font_weight": null,
       "text_color": null,
       "text_decoration": null
      }
     },
     "ca193f7b2fb14534a3b00e6fbe466c75": {
      "model_module": "@jupyter-widgets/base",
      "model_module_version": "2.0.0",
      "model_name": "LayoutModel",
      "state": {
       "height": "40px",
       "width": "120px"
      }
     },
     "cafc0b58ed0f41978c0029ea867ece70": {
      "model_module": "@jupyter-widgets/base",
      "model_module_version": "2.0.0",
      "model_name": "LayoutModel",
      "state": {
       "height": "40px",
       "width": "120px"
      }
     },
     "cb4e17eedc0847a09ce169ccf0f2311f": {
      "model_module": "@jupyter-widgets/controls",
      "model_module_version": "2.0.0",
      "model_name": "ButtonStyleModel",
      "state": {
       "font_family": null,
       "font_size": null,
       "font_style": null,
       "font_variant": null,
       "font_weight": null,
       "text_color": null,
       "text_decoration": null
      }
     },
     "cd3ff8074fdc4db0b860953e6abba051": {
      "model_module": "@jupyter-widgets/controls",
      "model_module_version": "2.0.0",
      "model_name": "CheckboxStyleModel",
      "state": {
       "description_width": ""
      }
     },
     "cee1f19d71b347168458a9bdf87f63ab": {
      "model_module": "@jupyter-widgets/controls",
      "model_module_version": "2.0.0",
      "model_name": "HBoxModel",
      "state": {
       "children": [
        "IPY_MODEL_46d0a2b0550445358873a69abade4a7a"
       ],
       "layout": "IPY_MODEL_0fbacb9e24994dd38c077140d732144e"
      }
     },
     "cf0dfb86dc9546129791eb5aace1139d": {
      "model_module": "@jupyter-widgets/base",
      "model_module_version": "2.0.0",
      "model_name": "LayoutModel",
      "state": {
       "height": "40px",
       "width": "120px"
      }
     },
     "d0754124049f4f729dd49ba3e6ff11e3": {
      "model_module": "@jupyter-widgets/controls",
      "model_module_version": "2.0.0",
      "model_name": "CheckboxStyleModel",
      "state": {
       "description_width": ""
      }
     },
     "d231acef3c5a4d769e3db0d779c8738e": {
      "model_module": "@jupyter-widgets/base",
      "model_module_version": "2.0.0",
      "model_name": "LayoutModel",
      "state": {}
     },
     "d2419243a6194fdc9f033a07064bc3a8": {
      "model_module": "@jupyter-widgets/base",
      "model_module_version": "2.0.0",
      "model_name": "LayoutModel",
      "state": {}
     },
     "d28aa62341214235bcbacb2e575bd29f": {
      "model_module": "@jupyter-widgets/controls",
      "model_module_version": "2.0.0",
      "model_name": "CheckboxStyleModel",
      "state": {
       "description_width": ""
      }
     },
     "d49c88335a684fc8bdf5223775633f9d": {
      "model_module": "@jupyter-widgets/base",
      "model_module_version": "2.0.0",
      "model_name": "LayoutModel",
      "state": {}
     },
     "d59b8647b3a84687a0a8bffa6b0a13e1": {
      "model_module": "@jupyter-widgets/base",
      "model_module_version": "2.0.0",
      "model_name": "LayoutModel",
      "state": {}
     },
     "d65f5824acdb4a83a055450a5a759016": {
      "model_module": "@jupyter-widgets/controls",
      "model_module_version": "2.0.0",
      "model_name": "HTMLModel",
      "state": {
       "layout": "IPY_MODEL_378f3138c00440978ae3ffe6ab0f9f1d",
       "style": "IPY_MODEL_4d3b2cc797ab4f8789ec106f2c89a2fc",
       "value": "<h3>Core</h3>"
      }
     },
     "d7a98ca968b94b36ab88e73a62dd2dd3": {
      "model_module": "@jupyter-widgets/base",
      "model_module_version": "2.0.0",
      "model_name": "LayoutModel",
      "state": {
       "height": "55px",
       "width": "120px"
      }
     },
     "d82c8161cea343c885e1510c3138b715": {
      "model_module": "@jupyter-widgets/controls",
      "model_module_version": "2.0.0",
      "model_name": "ButtonModel",
      "state": {
       "description": "Instruction",
       "icon": "comment",
       "layout": "IPY_MODEL_1358a5a10fec48e7b3a252746892e4f1",
       "style": "IPY_MODEL_4170ef6bdf1b4cde858d2d8627f2e539",
       "tooltip": "1"
      }
     },
     "d8c614c48eee43fe89253cbae4b5e9bc": {
      "model_module": "@jupyter-widgets/base",
      "model_module_version": "2.0.0",
      "model_name": "LayoutModel",
      "state": {}
     },
     "d9505c3de84c48b49f35c4be678ac70b": {
      "model_module": "@jupyter-widgets/base",
      "model_module_version": "2.0.0",
      "model_name": "LayoutModel",
      "state": {}
     },
     "dacaa253cceb4250b99ba831b1b081b9": {
      "model_module": "@jupyter-widgets/controls",
      "model_module_version": "2.0.0",
      "model_name": "HTMLStyleModel",
      "state": {
       "description_width": "",
       "font_size": null,
       "text_color": null
      }
     },
     "db58d36be6bd4faea619675def491454": {
      "model_module": "@jupyter-widgets/controls",
      "model_module_version": "2.0.0",
      "model_name": "ButtonStyleModel",
      "state": {
       "font_family": null,
       "font_size": null,
       "font_style": null,
       "font_variant": null,
       "font_weight": null,
       "text_color": null,
       "text_decoration": null
      }
     },
     "dbae08244f1348a7bc0ede57e1b1bd59": {
      "model_module": "@jupyter-widgets/controls",
      "model_module_version": "2.0.0",
      "model_name": "CheckboxStyleModel",
      "state": {
       "description_width": ""
      }
     },
     "dc52c99358864ab7afb0a7bae19ecd9d": {
      "model_module": "@jupyter-widgets/controls",
      "model_module_version": "2.0.0",
      "model_name": "BoxModel",
      "state": {
       "children": [
        "IPY_MODEL_b76255592fd447c594ccf8a86e083654",
        "IPY_MODEL_34d873fd99224471bea813a59022669a"
       ],
       "layout": "IPY_MODEL_9d6363aad8f24cc6b057e95944e5608a"
      }
     },
     "dd0baa25aa5d4004b142f029d95ae9d8": {
      "model_module": "@jupyter-widgets/base",
      "model_module_version": "2.0.0",
      "model_name": "LayoutModel",
      "state": {}
     },
     "dd18cc42c59c40a8befd37066350ef3a": {
      "model_module": "@jupyter-widgets/controls",
      "model_module_version": "2.0.0",
      "model_name": "VBoxModel",
      "state": {
       "children": [
        "IPY_MODEL_c1a03f21f1d74670822e35f2089bf8a2",
        "IPY_MODEL_afa7c7569dba422eaaa80195f34307e7"
       ],
       "layout": "IPY_MODEL_7f8b4822afd34b8f9bcfacc90f875e3e"
      }
     },
     "dde4a7a93c79418babc145d7b54e4610": {
      "model_module": "@jupyter-widgets/controls",
      "model_module_version": "2.0.0",
      "model_name": "CheckboxModel",
      "state": {
       "description": "e-z curl bar",
       "disabled": false,
       "indent": false,
       "layout": "IPY_MODEL_83e813d721d7401695a1af0a04aa0408",
       "style": "IPY_MODEL_c2dd50bf45f74039baecb6fd5129a659",
       "value": true
      }
     },
     "dde9dc892cbe461d808b9b6b2e7c2d45": {
      "model_module": "@jupyter-widgets/controls",
      "model_module_version": "2.0.0",
      "model_name": "ButtonModel",
      "state": {
       "description": "Photo",
       "layout": "IPY_MODEL_3c436d9d4765460fa16384344a62c924",
       "style": "IPY_MODEL_61a6611081784716ae6bccf154b90dda",
       "tooltip": null
      }
     },
     "df07a8db00fb43f4b92dcb53ca40d946": {
      "model_module": "@jupyter-widgets/controls",
      "model_module_version": "2.0.0",
      "model_name": "HTMLStyleModel",
      "state": {
       "description_width": "",
       "font_size": null,
       "text_color": null
      }
     },
     "e1721dd8ec504d0c91d093dc459dbbf4": {
      "model_module": "@jupyter-widgets/base",
      "model_module_version": "2.0.0",
      "model_name": "LayoutModel",
      "state": {}
     },
     "e18db3b8db3d42ad9de454327bebc92c": {
      "model_module": "@jupyter-widgets/base",
      "model_module_version": "2.0.0",
      "model_name": "LayoutModel",
      "state": {}
     },
     "e2b08498c22142299f322edc014e2635": {
      "model_module": "@jupyter-widgets/base",
      "model_module_version": "2.0.0",
      "model_name": "LayoutModel",
      "state": {}
     },
     "e43b553ffa3c46398fa296d0ef506c36": {
      "model_module": "@jupyter-widgets/controls",
      "model_module_version": "2.0.0",
      "model_name": "CheckboxStyleModel",
      "state": {
       "description_width": ""
      }
     },
     "e4f5a50083624980aae0bc3cacb57c71": {
      "model_module": "@jupyter-widgets/base",
      "model_module_version": "2.0.0",
      "model_name": "LayoutModel",
      "state": {}
     },
     "e56743c689644029bc5cf9015e2e24df": {
      "model_module": "@jupyter-widgets/base",
      "model_module_version": "2.0.0",
      "model_name": "LayoutModel",
      "state": {}
     },
     "e56ef945e6604cf09ca157c441f5e68f": {
      "model_module": "@jupyter-widgets/controls",
      "model_module_version": "2.0.0",
      "model_name": "HTMLModel",
      "state": {
       "layout": "IPY_MODEL_55e9fc14e9c546cfb7213aec7997bfdb",
       "style": "IPY_MODEL_bb429cdd47644d6a8479565f38b82c91",
       "value": "Seated Hamstring and Calf Stretch"
      }
     },
     "e5a572ad82b242b7b666968876d3ad3d": {
      "model_module": "@jupyter-widgets/controls",
      "model_module_version": "2.0.0",
      "model_name": "CheckboxStyleModel",
      "state": {
       "description_width": ""
      }
     },
     "e5d24a41e9054e3fb12504a60ea2b7b7": {
      "model_module": "@jupyter-widgets/base",
      "model_module_version": "2.0.0",
      "model_name": "LayoutModel",
      "state": {}
     },
     "e8439d1a33c34f1e9dd61aa4a3aeba48": {
      "model_module": "@jupyter-widgets/controls",
      "model_module_version": "2.0.0",
      "model_name": "HBoxModel",
      "state": {
       "children": [
        "IPY_MODEL_8160d9825cf84e9bad0b2bd2043373e6"
       ],
       "layout": "IPY_MODEL_492e3a162bce45cfae859dcc15f7e32c"
      }
     },
     "e8cce55e2b224f14bd2ade67511bac50": {
      "model_module": "@jupyter-widgets/controls",
      "model_module_version": "2.0.0",
      "model_name": "CheckboxModel",
      "state": {
       "description": "medicine ball",
       "disabled": false,
       "indent": false,
       "layout": "IPY_MODEL_70663bd4774e41c08e2fe29abe316745",
       "style": "IPY_MODEL_38ebe9849cb3436f9bcb43c51f4bba32",
       "value": true
      }
     },
     "e90ccdf5ecf9493abcd240f8e142740d": {
      "model_module": "@jupyter-widgets/base",
      "model_module_version": "2.0.0",
      "model_name": "LayoutModel",
      "state": {}
     },
     "ea9ed0352f924de69c671b9ecdbd5d01": {
      "model_module": "@jupyter-widgets/base",
      "model_module_version": "2.0.0",
      "model_name": "LayoutModel",
      "state": {
       "height": "200px"
      }
     },
     "ec16512a6aac44c69f20cc8e0c6feafc": {
      "model_module": "@jupyter-widgets/controls",
      "model_module_version": "2.0.0",
      "model_name": "HTMLStyleModel",
      "state": {
       "description_width": "",
       "font_size": null,
       "text_color": null
      }
     },
     "ec78902d19cd44cf822f07123fc10c23": {
      "model_module": "@jupyter-widgets/controls",
      "model_module_version": "2.0.0",
      "model_name": "ButtonModel",
      "state": {
       "description": "Clear",
       "layout": "IPY_MODEL_3893715506f348dfb5cf12d4f35472ba",
       "style": "IPY_MODEL_3940e87231824c0a8790ce143b06d483",
       "tooltip": null
      }
     },
     "ee103c960a1f4a5ea18e6cef6bc47414": {
      "model_module": "@jupyter-widgets/controls",
      "model_module_version": "2.0.0",
      "model_name": "ButtonStyleModel",
      "state": {
       "font_family": null,
       "font_size": null,
       "font_style": null,
       "font_variant": null,
       "font_weight": null,
       "text_color": null,
       "text_decoration": null
      }
     },
     "ef96e06eef95481ca6561d1808a74bdd": {
      "model_module": "@jupyter-widgets/controls",
      "model_module_version": "2.0.0",
      "model_name": "CheckboxModel",
      "state": {
       "description": "kettlebells",
       "disabled": false,
       "indent": false,
       "layout": "IPY_MODEL_729d00434c884a1caf9779f685b2e89a",
       "style": "IPY_MODEL_3fa45a6dc3e14e8490da21b9a7feaee0",
       "value": true
      }
     },
     "f0d140dab27b4f9cb05f51b3f1eded55": {
      "model_module": "@jupyter-widgets/base",
      "model_module_version": "2.0.0",
      "model_name": "LayoutModel",
      "state": {}
     },
     "f2fb570d160d49789bdc2c406d21b3da": {
      "model_module": "@jupyter-widgets/controls",
      "model_module_version": "2.0.0",
      "model_name": "CheckboxModel",
      "state": {
       "description": "bands",
       "disabled": false,
       "indent": false,
       "layout": "IPY_MODEL_972f68f0c67e45c89d76dc43c851043c",
       "style": "IPY_MODEL_7dcbcd9d4b3f4a4ba1205dbfb20588c6",
       "value": true
      }
     },
     "f360a767ee814016a968d42a3c307cbd": {
      "model_module": "@jupyter-widgets/base",
      "model_module_version": "2.0.0",
      "model_name": "LayoutModel",
      "state": {
       "height": "55px",
       "width": "55px"
      }
     },
     "f504611873194dd78408a09f43c58662": {
      "model_module": "@jupyter-widgets/base",
      "model_module_version": "2.0.0",
      "model_name": "LayoutModel",
      "state": {}
     },
     "f564fe72db634d02a5f859267ac9ef84": {
      "model_module": "@jupyter-widgets/controls",
      "model_module_version": "2.0.0",
      "model_name": "HTMLStyleModel",
      "state": {
       "description_width": "",
       "font_size": null,
       "text_color": null
      }
     },
     "f644b9b8e4f7494994f76e4ad67cc214": {
      "model_module": "@jupyter-widgets/controls",
      "model_module_version": "2.0.0",
      "model_name": "VBoxModel",
      "state": {
       "children": [
        "IPY_MODEL_256a17c0fef84d5eafc555f8ac9dd67d"
       ],
       "layout": "IPY_MODEL_089e21b8739c4e92bf24e5971bc9305d"
      }
     },
     "f698bb7a92ee440aaf4ed8fcb0eb0ede": {
      "model_module": "@jupyter-widgets/base",
      "model_module_version": "2.0.0",
      "model_name": "LayoutModel",
      "state": {
       "height": "55px",
       "width": "120px"
      }
     },
     "f7c659bbc67141e890d883d849654538": {
      "model_module": "@jupyter-widgets/controls",
      "model_module_version": "2.0.0",
      "model_name": "ButtonStyleModel",
      "state": {
       "font_family": null,
       "font_size": null,
       "font_style": null,
       "font_variant": null,
       "font_weight": null,
       "text_color": null,
       "text_decoration": null
      }
     },
     "f8ef7c5099414999b4a9a1be96df5045": {
      "model_module": "@jupyter-widgets/base",
      "model_module_version": "2.0.0",
      "model_name": "LayoutModel",
      "state": {
       "height": "40px",
       "width": "120px"
      }
     },
     "f927b212323b46f69542246c9acc4336": {
      "model_module": "@jupyter-widgets/controls",
      "model_module_version": "2.0.0",
      "model_name": "HTMLStyleModel",
      "state": {
       "description_width": "",
       "font_size": null,
       "text_color": null
      }
     },
     "f97104d56cf743db9b8d0cd98c1aa162": {
      "model_module": "@jupyter-widgets/base",
      "model_module_version": "2.0.0",
      "model_name": "LayoutModel",
      "state": {
       "height": "40px",
       "width": "120px"
      }
     },
     "f9eedeb2514741f7ba3b617690f2a078": {
      "model_module": "@jupyter-widgets/controls",
      "model_module_version": "2.0.0",
      "model_name": "HTMLModel",
      "state": {
       "layout": "IPY_MODEL_90c49e85adb24f118ca765495236c5cf",
       "style": "IPY_MODEL_09d51f7190074916a0a6b35bd680ab45",
       "value": "Front Two-Dumbbell Raise"
      }
     },
     "f9ff4dc98c9047069c37143bb6d60b25": {
      "model_module": "@jupyter-widgets/base",
      "model_module_version": "2.0.0",
      "model_name": "LayoutModel",
      "state": {
       "height": "55px",
       "width": "120px"
      }
     },
     "fa814f9f4cae4f40a302a6e509626bcb": {
      "model_module": "@jupyter-widgets/controls",
      "model_module_version": "2.0.0",
      "model_name": "CheckboxModel",
      "state": {
       "description": "stretching",
       "disabled": false,
       "indent": false,
       "layout": "IPY_MODEL_58242dc65ac246c2a4a8dac79f165a08",
       "style": "IPY_MODEL_d0754124049f4f729dd49ba3e6ff11e3",
       "value": true
      }
     },
     "fab00a6bb39a48579b376d24dfc63bb2": {
      "model_module": "@jupyter-widgets/controls",
      "model_module_version": "2.0.0",
      "model_name": "CheckboxStyleModel",
      "state": {
       "description_width": ""
      }
     },
     "fadae3a0feb24e1fb696795f7b018fef": {
      "model_module": "@jupyter-widgets/base",
      "model_module_version": "2.0.0",
      "model_name": "LayoutModel",
      "state": {
       "height": "55px",
       "width": "120px"
      }
     },
     "fd01bb872cb0409fa474cb36e950deb2": {
      "model_module": "@jupyter-widgets/controls",
      "model_module_version": "2.0.0",
      "model_name": "ButtonStyleModel",
      "state": {
       "font_family": null,
       "font_size": null,
       "font_style": null,
       "font_variant": null,
       "font_weight": null,
       "text_color": null,
       "text_decoration": null
      }
     }
    },
    "version_major": 2,
    "version_minor": 0
   }
  }
 },
 "nbformat": 4,
 "nbformat_minor": 5
}
