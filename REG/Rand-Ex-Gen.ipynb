{
 "cells": [
  {
   "cell_type": "code",
   "execution_count": 58,
   "id": "5f9c6c80-747d-4124-a027-903301bc755b",
   "metadata": {},
   "outputs": [],
   "source": [
    "import ipywidgets as wt\n",
    "import pandas as pd\n",
    "import time\n",
    "import sys\n",
    "from IPython.display import display\n",
    "from IPython.display import clear_output"
   ]
  },
  {
   "cell_type": "code",
   "execution_count": 59,
   "id": "3affb38a-83b6-4ca5-986b-cc2d74713e7e",
   "metadata": {},
   "outputs": [],
   "source": [
    "def create_expanded_button(description, button_style):\n",
    "    return wt.Button(description=description, button_style=button_style, layout=wt.Layout(height='120px', width='100px'))\n"
   ]
  },
  {
   "cell_type": "code",
   "execution_count": 60,
   "id": "8004149a-6955-482b-890f-80ecea43eca7",
   "metadata": {},
   "outputs": [],
   "source": [
    "def create_close_button(description, button_style):\n",
    "    return wt.Button(description=description, button_style=button_style, layout=wt.Layout(height='55px', width='80px'))\n"
   ]
  },
  {
   "cell_type": "code",
   "execution_count": 61,
   "id": "b9800f96-1d3c-4572-af79-b5460fb43a7e",
   "metadata": {},
   "outputs": [],
   "source": [
    "def create_photo_button(description, button_style):\n",
    "    return wt.Button(description=description, button_style=button_style, layout=wt.Layout(height='55px', width='80px'))\n"
   ]
  },
  {
   "cell_type": "code",
   "execution_count": 62,
   "id": "08b9231f",
   "metadata": {},
   "outputs": [],
   "source": [
    "def create_description_button(description, button_style, tooltip):\n",
    "    return wt.Button(description=description, button_style=button_style, icon = 'comment', tooltip=tooltip, layout=wt.Layout(height='55px', width='120px'))\n"
   ]
  },
  {
   "cell_type": "code",
   "execution_count": 63,
   "id": "2a6f99fd-dc87-4ef4-968e-eab88eeb05ff",
   "metadata": {},
   "outputs": [],
   "source": [
    "def create_expanded_radiobutton(list,descript):\n",
    "    return wt.RadioButtons(\n",
    "        options= list,\n",
    "        description=descript,\n",
    "        disabled=False\n",
    ")"
   ]
  },
  {
   "cell_type": "code",
   "execution_count": 64,
   "id": "a5343544-f32a-4506-ac76-3c3cf5347bba",
   "metadata": {},
   "outputs": [],
   "source": [
    "def create_expanded_dropdown(opt, val, descript):\n",
    "    return wt.Dropdown(\n",
    "    options=opt,\n",
    "    value=val,\n",
    "    description=descript,\n",
    ")"
   ]
  },
  {
   "cell_type": "code",
   "execution_count": 65,
   "id": "4d4bffb1-dbdc-4287-be48-3ae0acc5c807",
   "metadata": {},
   "outputs": [],
   "source": [
    "\n",
    "def create_expanded_checkbox(descript, val): \n",
    "     return wt.Checkbox(\n",
    "        value= val,\n",
    "        description= descript,\n",
    "        disabled=False,\n",
    "        indent=False,\n",
    "        layout=wt.Layout(width='120px', height='40px')\n",
    "     )"
   ]
  },
  {
   "cell_type": "code",
   "execution_count": 66,
   "id": "f8d6b4ee-6af4-4ce7-b627-17ff7bf19119",
   "metadata": {},
   "outputs": [],
   "source": [
    "def Equipment(b):\n",
    "    output.clear_output()\n",
    "    box_layout1 = wt.Layout(display='flex',flex_flow='row',align_items='stretch', justify_content= 'space-around',width='70%')\n",
    "    ti=(Equip_Title, equipcl)\n",
    "    titlers = wt.Box(children=ti, layout=box_layout1)\n",
    "    op =wt.VBox([titlers, Equip_Menu])\n",
    "    with output:\n",
    "        display(op)\n",
    "    #output.append_display_data (Equip_Title)\n",
    "    #output.append_display_data (Equip_Menu)"
   ]
  },
  {
   "cell_type": "code",
   "execution_count": 67,
   "id": "41e41d4d-8d38-4699-9950-282ef08f0f8b",
   "metadata": {},
   "outputs": [],
   "source": [
    "def SampleSize(b):\n",
    "    output.clear_output()\n",
    "    with output:\n",
    "        display (SS_Title ,SS_Menu)"
   ]
  },
  {
   "cell_type": "code",
   "execution_count": 68,
   "id": "6c980b5b-767f-4afb-a5b0-4cb4b7367a8f",
   "metadata": {},
   "outputs": [],
   "source": [
    "def BodyArea(b):\n",
    "    output.clear_output()\n",
    "    box_layout1 = wt.Layout(display='flex',flex_flow='row',align_items='stretch', justify_content= 'space-around',width='70%')\n",
    "    ti=(BA_Title, bacl)\n",
    "    titlers = wt.Box(children=ti, layout=box_layout1)\n",
    "    op =wt.VBox([titlers, BA_Menu])\n",
    "    with output:\n",
    "        display(op)"
   ]
  },
  {
   "cell_type": "code",
   "execution_count": 69,
   "id": "2f9a1a16-fd50-4e08-b63b-789609b9ebdc",
   "metadata": {},
   "outputs": [],
   "source": [
    "def ExCat(b):\n",
    "    output.clear_output()\n",
    "    box_layout1 = wt.Layout(display='flex',flex_flow='row',align_items='stretch', justify_content= 'space-around',width='70%')\n",
    "    ti=(EC_Title, ecatcl)\n",
    "    titlers = wt.Box(children=ti, layout=box_layout1)\n",
    "    op =wt.VBox([titlers, EC_Menu])\n",
    "    with output:\n",
    "        display(op)\n",
    "    "
   ]
  },
  {
   "cell_type": "code",
   "execution_count": 70,
   "id": "60459c2b-f7d3-4d01-820b-e610b6095013",
   "metadata": {},
   "outputs": [],
   "source": [
    "def Execute(b):\n",
    "\n",
    "    global Final_Out\n",
    "    global dfsub\n",
    "    \n",
    "    box_layout = wt.Layout(display='flex',flex_flow='row', align_items='stretch', justify_content= 'space-around', width='70%')\n",
    "\n",
    "    box_layout1 = wt.Layout(display='flex',flex_flow='row',align_items='stretch', justify_content= 'space-around',width='70%')\n",
    "  \n",
    "    upper_sampled = core_sampled = lower_sampled =pd.Series()\n",
    "    if ((bacb[0].value==True) and (not dfsub.empty)):\n",
    "        upper_sampled=dfsub['name'].loc[(dfsub['bodyArea'] =='Upper Body') & (dfsub['active']=='Y') ].sample(ssize.value)\n",
    "    if ((bacb[1].value == True) and (not dfsub.empty)):\n",
    "        core_sampled=dfsub['name'].loc[(dfsub['bodyArea'] =='Core') & (dfsub['active']=='Y')].sample(ssize.value)\n",
    "    if ((bacb[2].value ==True) and (not dfsub.empty)):\n",
    "        lower_sampled=dfsub['name'].loc[(dfsub['bodyArea'] =='Lower Body') & (dfsub['active']=='Y') ].sample(ssize.value)\n",
    "        \n",
    "        \n",
    "   \n",
    "    \n",
    "   \n",
    "    Title=[[upper_title], [core_title], [lower_title]]\n",
    "    \n",
    "    idxub=0 \n",
    "    desbtnub=0\n",
    "    nameub = 0\n",
    "    ubdataav =False\n",
    "\n",
    "    idxcr=0\n",
    "    desbtncr=0\n",
    "    namecr=0\n",
    "    crdataav=False\n",
    "\n",
    "    idxlb=0\n",
    "    desbtnlb=0\n",
    "    namelb=0\n",
    "    lbdataav=False\n",
    "    \n",
    "    if len(upper_sampled) != 0:\n",
    "        idxub =upper_sampled.index\n",
    "        desbtnub=([create_description_button('Instruction','', str(x)) for (x) in idxub.values])\n",
    "        nameub=upper_sampled.tolist()\n",
    "        ubdataav=True\n",
    "        \n",
    "    if len (core_sampled !=0):\n",
    "        idxcr=core_sampled.index\n",
    "        desbtncr=([create_description_button('Instruction','', str(x)) for (x) in idxcr.values])\n",
    "        namecr=core_sampled.to_list()\n",
    "        crdataav=True\n",
    "        \n",
    "    if len(lower_sampled !=0):\n",
    "        idxlb =lower_sampled.index\n",
    "        desbtnlb=([create_description_button('Instruction','',str(x)) for (x) in idxlb.values])\n",
    "        lbdataav=True\n",
    "        namelb=lower_sampled.to_list()\n",
    "    upperbdy=[nameub,desbtnub,idxub]\n",
    "    corebdy=[namecr,desbtncr,idxcr]\n",
    "    lowerbdy=[namelb,desbtnlb,idxlb]\n",
    "    bdyarea= [upperbdy, corebdy, lowerbdy]\n",
    "    dataav=[ubdataav,crdataav, lbdataav] \n",
    "    \n",
    "    op1=[]\n",
    "    op2=[]\n",
    "    opf=[]\n",
    "    boxf=[]\n",
    "    name=[] \n",
    "    btn=[]\n",
    "    for i in range(len(bdyarea)):\n",
    "        \n",
    "        if dataav[i] ==False:\n",
    "            \n",
    "            continue\n",
    "            \n",
    "        name=[]\n",
    "        btn=[]                      \n",
    "        leftbox=rightbox=[]\n",
    "        box1=[]\n",
    "        box2=[]\n",
    "        boxes=[box1, box2]\n",
    "        op1 =wt.HBox(Title[i]) \n",
    "        name+=bdyarea[i][0]\n",
    "        btn+=bdyarea[i][1]\n",
    "        \n",
    "        for ix in range(len(name)):\n",
    "            ex=wt.HTML(str(name[ix]))\n",
    "\n",
    "            if ix & 1:\n",
    "                box2+= [ex]\n",
    "                box2+=[btn[ix]]\n",
    "            else:\n",
    "                box1+= [ex]\n",
    "                box1+=[btn[ix]]\n",
    "\n",
    "            leftbox=wt.VBox([item for item in box1])\n",
    "            rightbox=wt.VBox([item for item in box2])\n",
    " \n",
    "                    \n",
    "        op2 =wt.Box(children=[leftbox, rightbox], layout=box_layout )\n",
    "        opf=wt.VBox([op1,op2])           \n",
    "        boxf+=([opf])\n",
    "    title=(Res_Title, rsltcl)\n",
    "    titlers = wt.Box(children=title, layout=box_layout1)\n",
    "    F_Out=(wt.VBox([item for item in boxf]))\n",
    "    if ((upper_sampled.empty) and (core_sampled.empty) and (lower_sampled.empty)):\n",
    "        rs= wt.HTML(\"<h3>No Results</h3>\")\n",
    "        F_Out=wt.VBox([rs])\n",
    "    \n",
    "    Final_Out = wt.VBox([titlers,F_Out])\n",
    "    \n",
    "    with output:\n",
    "        display(Final_Out)\n",
    "   \n",
    "    \n",
    "    if ubdataav is True:\n",
    "        for x in range(len(desbtnub)):\n",
    "            desbtnub[x].on_click(Get_Description)\n",
    "      \n",
    "    if crdataav is True:   \n",
    "        for x in range(len(desbtncr)):\n",
    "            desbtncr[x].on_click(Get_Description)\n",
    "    if lbdataav is True:\n",
    "        for x in range(len(desbtnlb)):\n",
    "            desbtnlb[x].on_click(Get_Description)\n",
    "    \n",
    "            \n",
    "\n",
    "   "
   ]
  },
  {
   "cell_type": "code",
   "execution_count": 71,
   "id": "0e9a5c78-2fb9-4405-9252-1356c3925088",
   "metadata": {},
   "outputs": [],
   "source": [
    "def Get_Description(b):\n",
    "\n",
    "    box_layout1 = wt.Layout(display='flex',flex_flow='row',align_items='stretch', justify_content= 'space-around',width='70%')\n",
    "    \n",
    "    global output\n",
    "    \n",
    "    output.clear_output()\n",
    "    tp=b.tooltip\n",
    "    tp1=int(tp)\n",
    "    ex=dfsub.loc[tp1]\n",
    "    t = ex['instructions']\n",
    "    n= ex['name']\n",
    "    im=ex['images']\n",
    "    im2=(im.strip(\"[]\"))\n",
    "    im3=(im2.strip(\"'\"))\n",
    "    im4=(im3.replace(\"'\", \"\"))\n",
    "    im5=(im4.replace(\" \", \"\"))\n",
    "    im6=(im5.split(\",\"))\n",
    "          \n",
    "    y=('<h3>'+ t + '</h3>')\n",
    "    o=wt.HTML(y)\n",
    "    na=('<h2>'+ n + '</h2>')\n",
    "    nam=wt.HTML(na)\n",
    "    ti=(nam, descl)\n",
    "    titlers = wt.Box(children=ti, layout=box_layout1)\n",
    "    txt=wt.VBox([titlers, o])\n",
    "\n",
    "\n",
    "\n",
    "    \n",
    "    Path='exercises/'\n",
    "    file = open(Path + str(im6[0]), \"rb\")\n",
    "    image1 = file.read()\n",
    "    \n",
    "    file1 = open( Path + str(im6[1]), \"rb\")\n",
    "    image2 = file1.read()\n",
    "\n",
    "    I1=wt.Image(\n",
    "        value=image1,\n",
    "        format='jpg',\n",
    "        width=300,\n",
    "        height=400,\n",
    "    )\n",
    "\n",
    "    I2=wt.Image(\n",
    "        value=image2,\n",
    "        format='jpg',\n",
    "        width=300,\n",
    "        height=400,\n",
    "    )\n",
    "\n",
    "    photo= wt.HBox([I1, I2])\n",
    "    with output:\n",
    "        display(txt, photo)"
   ]
  },
  {
   "cell_type": "code",
   "execution_count": 72,
   "id": "1bb607b9-d5f3-4c1e-9f81-fb030f45f8fc",
   "metadata": {},
   "outputs": [],
   "source": [
    "def Eq_Clear(b):\n",
    "    output.clear_output()\n",
    "    \n",
    "    box_layout1 = wt.Layout(display='flex',flex_flow='row',align_items='stretch', justify_content= 'space-around',width='70%')\n",
    "\n",
    "    for i in range(len(equipcb)):\n",
    "        equipcb[i].value =False\n",
    "    ti=(Equip_Title, equipcl)\n",
    "    titlers = wt.Box(children=ti, layout=box_layout1)\n",
    "    op =wt.VBox([titlers, Equip_Menu])\n",
    "    with output:\n",
    "        display(op)"
   ]
  },
  {
   "cell_type": "code",
   "execution_count": 73,
   "id": "efb8fc18-a582-4dc3-a6af-236eb07d4acb",
   "metadata": {},
   "outputs": [],
   "source": [
    "def Ecat_Clear(b):\n",
    "    output.clear_output()\n",
    "    \n",
    "    box_layout1 = wt.Layout(display='flex',flex_flow='row',align_items='stretch', justify_content= 'space-around',width='70%')\n",
    "\n",
    "    for i in range(len(ecatcb)):\n",
    "        ecatcb[i].value =False\n",
    "    ti=(EC_Title, ecatcl)\n",
    "    titlers = wt.Box(children=ti, layout=box_layout1)\n",
    "    op =wt.VBox([titlers, EC_Menu])\n",
    "    with output:\n",
    "        display(op)"
   ]
  },
  {
   "cell_type": "code",
   "execution_count": 74,
   "id": "f9e6e7f4-a506-42ce-bc16-599e1e061fa2",
   "metadata": {},
   "outputs": [],
   "source": [
    "def Close(b):\n",
    "    output.clear_output()\n",
    "\n"
   ]
  },
  {
   "cell_type": "code",
   "execution_count": 75,
   "id": "d7e22564-5909-4882-8196-b799e03e89f3",
   "metadata": {},
   "outputs": [],
   "source": [
    "def Spec_Close(b):\n",
    "    global dfsub\n",
    "    equipmask=[equipcb[i].value for i in range(len(equipcb))]\n",
    "    ecatmask=[ecatcb[i].value for i in range(len(ecatcb))]\n",
    "    equipav=equip[equipmask]\n",
    "    ecav=ecat[ecatmask]\n",
    "    dfsub=df[df['equipment'].isin(equipav) & df['category'].isin(ecav)]\n",
    "    \n",
    "    output.clear_output()\n",
    "    "
   ]
  },
  {
   "cell_type": "code",
   "execution_count": 76,
   "id": "c55f957a-7cef-42ca-a58e-8d22ce7a1210",
   "metadata": {},
   "outputs": [],
   "source": [
    "def Des_Close(b):\n",
    "    output.clear_output()\n",
    "    with output:\n",
    "        display(Final_Out)"
   ]
  },
  {
   "cell_type": "code",
   "execution_count": 77,
   "id": "674022d2-ce3a-49fc-a67b-53b341424195",
   "metadata": {},
   "outputs": [],
   "source": [
    "\n",
    "\n",
    "Main_Title=wt.HTML(value= \"<h1>Random Excercise Generator</h1>\")\n"
   ]
  },
  {
   "cell_type": "code",
   "execution_count": 78,
   "id": "6e07f703-d229-40fa-9c91-399e541ce593",
   "metadata": {},
   "outputs": [],
   "source": [
    "\n",
    "\n",
    "item=wt.HTML(value= \"<h2>Equipment List</h2>\")\n",
    "Equip_Title=wt.HBox([item])\n"
   ]
  },
  {
   "cell_type": "code",
   "execution_count": 79,
   "id": "131852cf-ef69-4b2b-a88c-73e32cc46a7e",
   "metadata": {},
   "outputs": [],
   "source": [
    "item=wt.HTML(value= '<h5>\"Close Tab to Exit\"</h5>')\n",
    "Exit_Title=wt.HBox([item])"
   ]
  },
  {
   "cell_type": "code",
   "execution_count": 80,
   "id": "32d73cc0-637a-4cb4-97c6-55ff94ccf009",
   "metadata": {},
   "outputs": [],
   "source": [
    "\n",
    "\n",
    "item=wt.HTML(value= \"<h2>Sample Size</h2>\")\n",
    "SS_Title=wt.HBox([item])\n"
   ]
  },
  {
   "cell_type": "code",
   "execution_count": 81,
   "id": "9c3ef384-8567-4087-a682-78ca349ccac8",
   "metadata": {},
   "outputs": [],
   "source": [
    "\n",
    "\n",
    "item=wt.HTML(value= \"<h2>Body Area</h2>\")\n",
    "BA_Title=wt.HBox([item])\n"
   ]
  },
  {
   "cell_type": "code",
   "execution_count": 82,
   "id": "4c931a81-dccd-402f-82d8-3e0cb189ad75",
   "metadata": {},
   "outputs": [],
   "source": [
    "\n",
    "\n",
    "item=wt.HTML(value= \"<h2>Exercise Category</h2>\")\n",
    "EC_Title=wt.HBox([item])\n"
   ]
  },
  {
   "cell_type": "code",
   "execution_count": 83,
   "id": "a3b5a9af-a136-45f2-b24b-a5c0a3b143dd",
   "metadata": {},
   "outputs": [],
   "source": [
    "item=wt.HTML(value= \"<h1>Results</h1>\")\n",
    "Res_Title=wt.HBox([item])"
   ]
  },
  {
   "cell_type": "code",
   "execution_count": 84,
   "id": "395d2af4-e03d-42ff-bb7c-8b481ac23c29",
   "metadata": {},
   "outputs": [],
   "source": [
    "item=wt.HTML(value= \"<h3>Upper Body</h3>\")\n",
    "upper_title=wt.HBox([item])"
   ]
  },
  {
   "cell_type": "code",
   "execution_count": 85,
   "id": "addf6d7c",
   "metadata": {},
   "outputs": [],
   "source": [
    "item=wt.HTML(value= \"<h3>Core</h3>\")\n",
    "core_title=wt.HBox([item])"
   ]
  },
  {
   "cell_type": "code",
   "execution_count": 86,
   "id": "4fa2f5aa",
   "metadata": {},
   "outputs": [],
   "source": [
    "item=wt.HTML(value= \"<h3>Lower_Body</h3>\")\n",
    "lower_title=wt.HBox([item])"
   ]
  },
  {
   "cell_type": "code",
   "execution_count": 87,
   "id": "f0474c52-8505-42e3-9734-68cf8a7d084d",
   "metadata": {},
   "outputs": [],
   "source": [
    "\n",
    "output = wt.Output()\n",
    "\n",
    "Final_Out=[]"
   ]
  },
  {
   "cell_type": "code",
   "execution_count": 88,
   "id": "331b4211-f5e2-4e34-b437-ecdf5489d57a",
   "metadata": {},
   "outputs": [],
   "source": [
    "schema=pd.read_csv('schema.csv',index_col=0)"
   ]
  },
  {
   "cell_type": "code",
   "execution_count": 89,
   "id": "6f0cc3cf-2495-4dfc-b29c-6f2b90613d25",
   "metadata": {},
   "outputs": [],
   "source": [
    "df =pd.read_csv('exercises-clean.csv')\n",
    "dfsub=df\n"
   ]
  },
  {
   "cell_type": "code",
   "execution_count": 90,
   "id": "63502771-bafb-4176-a73c-ff6c65ec77b5",
   "metadata": {},
   "outputs": [],
   "source": [
    "\n",
    "equip=schema.loc['equipment'].dropna()\n",
    "equip1=pd.DataFrame(equip).transpose()\n",
    "ecat=schema.loc['category'].dropna()\n"
   ]
  },
  {
   "cell_type": "code",
   "execution_count": 91,
   "id": "5886c64d-9d4d-4ee2-81ea-dad36be57a58",
   "metadata": {},
   "outputs": [],
   "source": [
    "equipcb= ([create_expanded_checkbox(descript,True) for descript in equip])\n",
    "ecatcb= ([create_expanded_checkbox(descript,True) for descript in ecat])\n",
    "equipclar=create_close_button('Clear', '')\n",
    "ecatclar=create_close_button('Clear', '')\n",
    "equipcl= create_close_button('Close', '')\n",
    "ecatcl= create_close_button('Close','')\n",
    "rsltcl= create_close_button('Close', '')\n",
    "descl=create_close_button('Close', '')\n",
    "desbtn=([create_description_button('Instruction','', str(x)) for x in range (2)])\n",
    "picbtn=create_photo_button('Photo', '')"
   ]
  },
  {
   "cell_type": "code",
   "execution_count": 92,
   "id": "8bb1aeb6-e4ff-4244-8575-f9b385aad10c",
   "metadata": {},
   "outputs": [],
   "source": [
    "\n",
    "bdyarea=['upperBody', 'Core', 'lowerBody']"
   ]
  },
  {
   "cell_type": "code",
   "execution_count": 93,
   "id": "0c80a30f-07b6-434d-9481-df93c086541d",
   "metadata": {},
   "outputs": [],
   "source": [
    "box1=[]\n",
    "box2=[]\n",
    "box3 =[]\n",
    "boxes = [box1,box2,box3]\n",
    "x=0\n",
    "for item in equipcb:\n",
    "    boxes[x].append(item)\n",
    "    x=x+1\n",
    "    if x==3:\n",
    "        x=0\n",
    "\n",
    "    "
   ]
  },
  {
   "cell_type": "code",
   "execution_count": 94,
   "id": "dd69d9af-611a-4dd2-a71a-b7df90818fa0",
   "metadata": {},
   "outputs": [],
   "source": [
    "grid = wt.GridspecLayout(5, 5, height='200px') \n",
    "eq= create_expanded_button('Equipment', '')\n",
    "ru = create_expanded_button('Run', '')\n",
    "leftbox=wt.VBox([eq, ru])\n",
    "ss= create_expanded_button('Sample Size', '')\n",
    "middlebox=wt.VBox([ss])\n",
    "ba= create_expanded_button('Body Area', '')\n",
    "rightbox =wt.VBox([ba])\n",
    "ec= create_expanded_button('Ex Category', '')\n",
    "qu= create_expanded_button('Exit', '')\n",
    "Farright=wt.VBox([ec, Exit_Title])\n",
    "Main_Menu =wt.HBox([leftbox, middlebox, rightbox, Farright])\n"
   ]
  },
  {
   "cell_type": "code",
   "execution_count": 95,
   "id": "f8e83f64-4063-4317-b5f2-96edeab3bcba",
   "metadata": {},
   "outputs": [],
   "source": [
    "leftbox =wt.VBox([descript for descript in box1])\n",
    "middlebox = wt.VBox([descript for descript in box2])\n",
    "item1 =([descript for descript in box3])\n",
    "rightbox=wt.VBox([descript for descript in box3])\n",
    "bottombox =wt.HBox([equipclar])\n",
    "Equip_Menu=wt.HBox([leftbox, middlebox, rightbox, bottombox])"
   ]
  },
  {
   "cell_type": "code",
   "execution_count": 96,
   "id": "d5353156-e3dd-43ca-9e0c-0741b18fa00a",
   "metadata": {},
   "outputs": [],
   "source": [
    "box1=[]\n",
    "box2=[]\n",
    "boxes = [box1,box2]\n",
    "x=0\n",
    "for item in ecatcb:\n",
    "    boxes[x].append(item)\n",
    "    x=x+1\n",
    "    if x==2:\n",
    "        x=0\n",
    "\n",
    "    "
   ]
  },
  {
   "cell_type": "code",
   "execution_count": 97,
   "id": "002208ea-b537-471f-af22-9e001356100c",
   "metadata": {},
   "outputs": [],
   "source": [
    "leftbox =wt.VBox([descript for descript in box1])\n",
    "rightbox=wt.VBox([descript for descript in box2])\n",
    "\n",
    "EC_Menu = wt.HBox([leftbox, rightbox,ecatclar])\n",
    "  "
   ]
  },
  {
   "cell_type": "code",
   "execution_count": 98,
   "id": "1af06150-33cb-424d-9a32-18f14c5e34a7",
   "metadata": {},
   "outputs": [],
   "source": [
    "opt=[('One', 1), ('Two', 2), ('Three', 3),('Four', 4),('Five', 5)]\n",
    "val=2\n",
    "descript=''\n",
    "box_layout = wt.Layout(display='flex',\n",
    "                    flex_flow='row', \n",
    "                    align_items='stretch', \n",
    "                    justify_content= 'space-around',\n",
    "                    width='70%')\n",
    "\n",
    "ssize= create_expanded_dropdown(opt, val, descript)\n",
    "sscl= create_close_button('Close','')\n",
    "items =[ssize, sscl]\n",
    "boxv = wt.Box(children=items, layout=box_layout)\n",
    "SS_Menu=wt.HBox([boxv])\n",
    "\n"
   ]
  },
  {
   "cell_type": "code",
   "execution_count": 99,
   "id": "51c755c0-aa3a-4089-bc3e-fd44b42ffc8f",
   "metadata": {},
   "outputs": [],
   "source": [
    "bacb= ([create_expanded_checkbox(descript,True) for descript in bdyarea])\n",
    "leftbox =wt.VBox([descript for descript in bacb])\n",
    "bacl= create_close_button('Close','')\n",
    "BA_Menu=wt.HBox([leftbox, bacl])\n",
    "#BA_Menu"
   ]
  },
  {
   "cell_type": "code",
   "execution_count": 100,
   "id": "7055d82c-b29a-4507-91d2-d4cb84712493",
   "metadata": {},
   "outputs": [
    {
     "data": {
      "application/vnd.jupyter.widget-view+json": {
       "model_id": "5a6395e5a06b4835816a3c1be1c2e59f",
       "version_major": 2,
       "version_minor": 0
      },
      "text/plain": [
       "HTML(value='<h1>Random Excercise Generator</h1>')"
      ]
     },
     "metadata": {},
     "output_type": "display_data"
    },
    {
     "data": {
      "application/vnd.jupyter.widget-view+json": {
       "model_id": "e94d9bc9500e491984003deb36116916",
       "version_major": 2,
       "version_minor": 0
      },
      "text/plain": [
       "HBox(children=(VBox(children=(Button(description='Equipment', layout=Layout(height='120px', width='100px'), st…"
      ]
     },
     "metadata": {},
     "output_type": "display_data"
    },
    {
     "data": {
      "application/vnd.jupyter.widget-view+json": {
       "model_id": "3d8df6a4d84a42b882dcf43101b5cff5",
       "version_major": 2,
       "version_minor": 0
      },
      "text/plain": [
       "Output()"
      ]
     },
     "metadata": {},
     "output_type": "display_data"
    }
   ],
   "source": [
    "\n",
    "\n",
    "display(Main_Title, Main_Menu,output)\n",
    "\n",
    "    "
   ]
  },
  {
   "cell_type": "code",
   "execution_count": 101,
   "id": "dabcb7c7-3ef7-4a3f-a1c0-d851a78e6638",
   "metadata": {},
   "outputs": [],
   "source": [
    "eq.on_click(Equipment)"
   ]
  },
  {
   "cell_type": "code",
   "execution_count": 102,
   "id": "edb5f22f-883d-4d04-a8f4-d92d3a1e57d4",
   "metadata": {},
   "outputs": [],
   "source": [
    "equipclar.on_click(Eq_Clear)"
   ]
  },
  {
   "cell_type": "code",
   "execution_count": 103,
   "id": "a80b873c-8823-402a-bf9f-3a0e26b9b6e0",
   "metadata": {},
   "outputs": [],
   "source": [
    "ss.on_click(SampleSize)"
   ]
  },
  {
   "cell_type": "code",
   "execution_count": 104,
   "id": "8bf19980-6be0-4b3d-84f8-39724806c805",
   "metadata": {},
   "outputs": [],
   "source": [
    "ba.on_click(BodyArea)"
   ]
  },
  {
   "cell_type": "code",
   "execution_count": 105,
   "id": "6a1a34bf-2ab5-47c9-80ab-aab085804663",
   "metadata": {},
   "outputs": [],
   "source": [
    "ec.on_click(ExCat)"
   ]
  },
  {
   "cell_type": "code",
   "execution_count": 106,
   "id": "068a4a50-9504-4a8f-a81f-6d61a6728242",
   "metadata": {},
   "outputs": [],
   "source": [
    "ecatclar.on_click(Ecat_Clear)"
   ]
  },
  {
   "cell_type": "code",
   "execution_count": 107,
   "id": "9ea33ffc-4962-4bf4-9ee2-14809a846479",
   "metadata": {},
   "outputs": [],
   "source": [
    "ru.on_click(Execute)"
   ]
  },
  {
   "cell_type": "code",
   "execution_count": 108,
   "id": "c286e233-5d2e-419c-8e60-50dff435fd5f",
   "metadata": {
    "editable": true,
    "slideshow": {
     "slide_type": ""
    },
    "tags": []
   },
   "outputs": [],
   "source": [
    "equipcl.on_click(Spec_Close)"
   ]
  },
  {
   "cell_type": "code",
   "execution_count": 109,
   "id": "1991cb26-7cf5-4f96-a424-2648d609e9ee",
   "metadata": {},
   "outputs": [],
   "source": [
    "sscl.on_click(Close)"
   ]
  },
  {
   "cell_type": "code",
   "execution_count": 110,
   "id": "cb40a7d3-df4a-4c85-99b9-6fb1b21da1bb",
   "metadata": {},
   "outputs": [],
   "source": [
    "bacl.on_click(Close)"
   ]
  },
  {
   "cell_type": "code",
   "execution_count": 111,
   "id": "326f067d-bab1-4f08-9682-e8dc1254517f",
   "metadata": {},
   "outputs": [],
   "source": [
    "rsltcl.on_click(Close)"
   ]
  },
  {
   "cell_type": "code",
   "execution_count": 112,
   "id": "8ed08dfd-d353-47a8-910b-974dcbfead0b",
   "metadata": {},
   "outputs": [],
   "source": [
    "ecatcl.on_click(Spec_Close)"
   ]
  },
  {
   "cell_type": "code",
   "execution_count": 113,
   "id": "9d83e309-034a-4f44-81dd-aa1ed0b136a2",
   "metadata": {},
   "outputs": [],
   "source": [
    "descl.on_click(Des_Close)"
   ]
  },
  {
   "cell_type": "code",
   "execution_count": 114,
   "id": "d9468060-8556-493e-9cec-5c9d84f4a75b",
   "metadata": {},
   "outputs": [],
   "source": [
    "for x in range(2):\n",
    "    desbtn[x].on_click(Get_Description)"
   ]
  },
  {
   "cell_type": "code",
   "execution_count": null,
   "id": "bf85e10d-dd20-4540-9fb5-2707e44e54c5",
   "metadata": {},
   "outputs": [],
   "source": []
  }
 ],
 "metadata": {
  "kernelspec": {
   "display_name": "Python 3 (ipykernel)",
   "language": "python",
   "name": "python3"
  },
  "language_info": {
   "codemirror_mode": {
    "name": "ipython",
    "version": 3
   },
   "file_extension": ".py",
   "mimetype": "text/x-python",
   "name": "python",
   "nbconvert_exporter": "python",
   "pygments_lexer": "ipython3",
   "version": "3.8.2"
  },
  "widgets": {
   "application/vnd.jupyter.widget-state+json": {
    "state": {
     "005185a534ef43b4a89fef37aaca2938": {
      "model_module": "@jupyter-widgets/controls",
      "model_module_version": "2.0.0",
      "model_name": "ButtonStyleModel",
      "state": {
       "font_family": null,
       "font_size": null,
       "font_style": null,
       "font_variant": null,
       "font_weight": null,
       "text_color": null,
       "text_decoration": null
      }
     },
     "005481bbf2a74f9ca3f788097945b712": {
      "model_module": "@jupyter-widgets/controls",
      "model_module_version": "2.0.0",
      "model_name": "ButtonModel",
      "state": {
       "description": "Sample Size",
       "layout": "IPY_MODEL_988cec9dadbf4a96b2d79206af031673",
       "style": "IPY_MODEL_e7d6c4d024e9441a9ba80e1bcbbc1b99",
       "tooltip": null
      }
     },
     "01e15ba079dd4f56b768e4760e7a951b": {
      "model_module": "@jupyter-widgets/controls",
      "model_module_version": "2.0.0",
      "model_name": "VBoxModel",
      "state": {
       "children": [
        "IPY_MODEL_b2e4bd9e48c94cf799f09c267fb4b35d",
        "IPY_MODEL_1a90a33890934d07b793e860fbc0ec8f",
        "IPY_MODEL_89ecf6345d794587af2ebea8fcf5b18a"
       ],
       "layout": "IPY_MODEL_05112ae1bb474e2db96f738778b21741"
      }
     },
     "02992f66262b44cfb6c20753625765b8": {
      "model_module": "@jupyter-widgets/base",
      "model_module_version": "2.0.0",
      "model_name": "LayoutModel",
      "state": {
       "height": "40px",
       "width": "120px"
      }
     },
     "02b7a2c14fe042f3a0a0b4f50e1e6420": {
      "model_module": "@jupyter-widgets/base",
      "model_module_version": "2.0.0",
      "model_name": "LayoutModel",
      "state": {
       "height": "55px",
       "width": "120px"
      }
     },
     "0320155168ca413c9dd3564a3cc7a145": {
      "model_module": "@jupyter-widgets/controls",
      "model_module_version": "2.0.0",
      "model_name": "VBoxModel",
      "state": {
       "children": [
        "IPY_MODEL_4a62391e4fd746bf9b106c0fe73fc292",
        "IPY_MODEL_62d2962b56c4419a83c3d726c212c72b"
       ],
       "layout": "IPY_MODEL_f61f797ab90642538cca47041cdfedd9"
      }
     },
     "05112ae1bb474e2db96f738778b21741": {
      "model_module": "@jupyter-widgets/base",
      "model_module_version": "2.0.0",
      "model_name": "LayoutModel",
      "state": {}
     },
     "06e189e9b7944917a148d406b560a2dc": {
      "model_module": "@jupyter-widgets/controls",
      "model_module_version": "2.0.0",
      "model_name": "ButtonModel",
      "state": {
       "description": "Close",
       "layout": "IPY_MODEL_602c80a5cd3240d2a080c48157eb0380",
       "style": "IPY_MODEL_c68f5f4a72dc4a3485ca4c89ba81ffa0",
       "tooltip": null
      }
     },
     "0767cb2fe207406b9a6270d528b6be58": {
      "model_module": "@jupyter-widgets/controls",
      "model_module_version": "2.0.0",
      "model_name": "CheckboxStyleModel",
      "state": {
       "description_width": ""
      }
     },
     "077b02cd94824ab9868c34a026088aac": {
      "model_module": "@jupyter-widgets/base",
      "model_module_version": "2.0.0",
      "model_name": "LayoutModel",
      "state": {
       "height": "55px",
       "width": "55px"
      }
     },
     "08960929e48b4fadbedcf89895fc19f4": {
      "model_module": "@jupyter-widgets/controls",
      "model_module_version": "2.0.0",
      "model_name": "ButtonModel",
      "state": {
       "description": "Instruction",
       "icon": "comment",
       "layout": "IPY_MODEL_02b7a2c14fe042f3a0a0b4f50e1e6420",
       "style": "IPY_MODEL_ed9372a5732d4947bac3bf6d9df0bb4f",
       "tooltip": "0"
      }
     },
     "08e2454379464f9b830046ce66a4eeb2": {
      "model_module": "@jupyter-widgets/base",
      "model_module_version": "2.0.0",
      "model_name": "LayoutModel",
      "state": {
       "height": "40px",
       "width": "120px"
      }
     },
     "094e7dfe7b004d0287297b5737d711d7": {
      "model_module": "@jupyter-widgets/base",
      "model_module_version": "2.0.0",
      "model_name": "LayoutModel",
      "state": {}
     },
     "09ab073dd5124bb58949091bf9db3b0f": {
      "model_module": "@jupyter-widgets/controls",
      "model_module_version": "2.0.0",
      "model_name": "CheckboxStyleModel",
      "state": {
       "description_width": ""
      }
     },
     "0a3c7abd3c904b7dbc7666e7257a4add": {
      "model_module": "@jupyter-widgets/controls",
      "model_module_version": "2.0.0",
      "model_name": "HTMLStyleModel",
      "state": {
       "description_width": "",
       "font_size": null,
       "text_color": null
      }
     },
     "0a56a16de0c2473491e63bf5edd07053": {
      "model_module": "@jupyter-widgets/base",
      "model_module_version": "2.0.0",
      "model_name": "LayoutModel",
      "state": {
       "height": "55px",
       "width": "55px"
      }
     },
     "0a5f7f0f898c425f893fdcc31be659de": {
      "model_module": "@jupyter-widgets/base",
      "model_module_version": "2.0.0",
      "model_name": "LayoutModel",
      "state": {}
     },
     "0aa25ba4e69a4ed88d7589dc1f5ec5cc": {
      "model_module": "@jupyter-widgets/base",
      "model_module_version": "2.0.0",
      "model_name": "LayoutModel",
      "state": {}
     },
     "0b202611c0854ba09e792c0d2686d9d7": {
      "model_module": "@jupyter-widgets/controls",
      "model_module_version": "2.0.0",
      "model_name": "HTMLStyleModel",
      "state": {
       "description_width": "",
       "font_size": null,
       "text_color": null
      }
     },
     "0c3198c1dd2f438f92875ff3aed768b1": {
      "model_module": "@jupyter-widgets/controls",
      "model_module_version": "2.0.0",
      "model_name": "HTMLModel",
      "state": {
       "layout": "IPY_MODEL_efefc55fa427452f8c72712c670f9d06",
       "style": "IPY_MODEL_b8d944783a0d4ac3ae5add72dc08f790",
       "value": "<h2>Sample Size</h2>"
      }
     },
     "0c707f41fe364513900ef40e18556b2b": {
      "model_module": "@jupyter-widgets/controls",
      "model_module_version": "2.0.0",
      "model_name": "VBoxModel",
      "state": {
       "children": [
        "IPY_MODEL_43601605e2c944f0853b961945e904e6",
        "IPY_MODEL_d93af71be11c43239f79aac967b75817",
        "IPY_MODEL_8dda5516c6744a9e919d0594178eb9ec",
        "IPY_MODEL_d50bd1c83db24377bf26b1c75eb5e51e"
       ],
       "layout": "IPY_MODEL_80d71d6aac9049f3b872fdc5d5a1a40f"
      }
     },
     "0ce635defdb24877bf554b67f6c3a005": {
      "model_module": "@jupyter-widgets/controls",
      "model_module_version": "2.0.0",
      "model_name": "ButtonStyleModel",
      "state": {
       "font_family": null,
       "font_size": null,
       "font_style": null,
       "font_variant": null,
       "font_weight": null,
       "text_color": null,
       "text_decoration": null
      }
     },
     "0d9682e1a1764664afa732cfceaaed95": {
      "model_module": "@jupyter-widgets/base",
      "model_module_version": "2.0.0",
      "model_name": "LayoutModel",
      "state": {
       "height": "55px",
       "width": "55px"
      }
     },
     "0f4ccd23194f499db4688adcd9ab854a": {
      "model_module": "@jupyter-widgets/base",
      "model_module_version": "2.0.0",
      "model_name": "LayoutModel",
      "state": {}
     },
     "0fc68ee4d20a41cba20bc4d356929902": {
      "model_module": "@jupyter-widgets/base",
      "model_module_version": "2.0.0",
      "model_name": "LayoutModel",
      "state": {}
     },
     "100fc824b0144ddabc63473b44184fe0": {
      "model_module": "@jupyter-widgets/controls",
      "model_module_version": "2.0.0",
      "model_name": "VBoxModel",
      "state": {
       "children": [
        "IPY_MODEL_324f56a52bec4dc5913d3d59414ed721",
        "IPY_MODEL_c29e9555aadd446dbfe9554eeb2e83c7"
       ],
       "layout": "IPY_MODEL_5e71996deafa417fabfdd0b33b74f43e"
      }
     },
     "127d7d2db98842a8a243df7448c3ffcc": {
      "model_module": "@jupyter-widgets/controls",
      "model_module_version": "2.0.0",
      "model_name": "ButtonStyleModel",
      "state": {
       "font_family": null,
       "font_size": null,
       "font_style": null,
       "font_variant": null,
       "font_weight": null,
       "text_color": null,
       "text_decoration": null
      }
     },
     "128f531316ce4f75acc0be970b09f2f2": {
      "model_module": "@jupyter-widgets/controls",
      "model_module_version": "2.0.0",
      "model_name": "BoxModel",
      "state": {
       "children": [
        "IPY_MODEL_f52ef6f5a340461fbe09a662fc5eebf5",
        "IPY_MODEL_d77413c0ab2f44749248e5f114ba337e"
       ],
       "layout": "IPY_MODEL_c2eb98ab3dba46b39a5428c1d163cb5a"
      }
     },
     "137be361dd344272b7f1ba7772330050": {
      "model_module": "@jupyter-widgets/controls",
      "model_module_version": "2.0.0",
      "model_name": "CheckboxModel",
      "state": {
       "description": "machine",
       "disabled": false,
       "indent": false,
       "layout": "IPY_MODEL_f0c851752cc3491b82262b6a10066e23",
       "style": "IPY_MODEL_b771fc1d02ee41bf8e406c41981cdc50",
       "value": true
      }
     },
     "159674252a2840bd830d002cf2d672e2": {
      "model_module": "@jupyter-widgets/controls",
      "model_module_version": "2.0.0",
      "model_name": "HTMLModel",
      "state": {
       "layout": "IPY_MODEL_f75eb1fd5de44cd5b8644bc5f90957b6",
       "style": "IPY_MODEL_54a520f8e11646beb4660badae96ab39",
       "value": "<h2>Body Area</h2>"
      }
     },
     "1655aec780f24b7ca160f205c674f422": {
      "model_module": "@jupyter-widgets/controls",
      "model_module_version": "2.0.0",
      "model_name": "CheckboxStyleModel",
      "state": {
       "description_width": ""
      }
     },
     "168a2d4b6b6a4698b659a05205aaeeaa": {
      "model_module": "@jupyter-widgets/base",
      "model_module_version": "2.0.0",
      "model_name": "LayoutModel",
      "state": {}
     },
     "170751c3f5d84214828b1540d1eaffbb": {
      "model_module": "@jupyter-widgets/base",
      "model_module_version": "2.0.0",
      "model_name": "LayoutModel",
      "state": {
       "height": "40px",
       "width": "120px"
      }
     },
     "173c4ccc737745c08c1776d19c7425b2": {
      "model_module": "@jupyter-widgets/base",
      "model_module_version": "2.0.0",
      "model_name": "LayoutModel",
      "state": {
       "height": "120px",
       "width": "100px"
      }
     },
     "178f991a180145769420d843859fcedc": {
      "model_module": "@jupyter-widgets/controls",
      "model_module_version": "2.0.0",
      "model_name": "CheckboxStyleModel",
      "state": {
       "description_width": ""
      }
     },
     "17f8daad10a844289f8a4b04d74d0dd3": {
      "model_module": "@jupyter-widgets/controls",
      "model_module_version": "2.0.0",
      "model_name": "CheckboxStyleModel",
      "state": {
       "description_width": ""
      }
     },
     "18df205e63ef456c95672ca5c4563e73": {
      "model_module": "@jupyter-widgets/controls",
      "model_module_version": "2.0.0",
      "model_name": "HTMLModel",
      "state": {
       "layout": "IPY_MODEL_d49999056416496db681208bca4cc559",
       "style": "IPY_MODEL_f3c28b31907a494b8aa45a15367f62b5",
       "value": "<h2>Exercise Category</h2>"
      }
     },
     "18f140edf03240848c6d8d9441acc568": {
      "model_module": "@jupyter-widgets/controls",
      "model_module_version": "2.0.0",
      "model_name": "CheckboxStyleModel",
      "state": {
       "description_width": ""
      }
     },
     "19604cae8f2c428aa0b97940fd454bb1": {
      "model_module": "@jupyter-widgets/base",
      "model_module_version": "2.0.0",
      "model_name": "LayoutModel",
      "state": {
       "height": "40px",
       "width": "120px"
      }
     },
     "19e84a74543e44a8a73be544b20bb772": {
      "model_module": "@jupyter-widgets/base",
      "model_module_version": "2.0.0",
      "model_name": "LayoutModel",
      "state": {
       "height": "40px",
       "width": "120px"
      }
     },
     "1a6ae48037064cd4a574add2f3f2d999": {
      "model_module": "@jupyter-widgets/controls",
      "model_module_version": "2.0.0",
      "model_name": "CheckboxModel",
      "state": {
       "description": "kettlebells",
       "disabled": false,
       "indent": false,
       "layout": "IPY_MODEL_eb45c7657c4d4542bb6067e92d770fa5",
       "style": "IPY_MODEL_b018f80555da4bf780bd2f0a0cfa3472",
       "value": true
      }
     },
     "1a90a33890934d07b793e860fbc0ec8f": {
      "model_module": "@jupyter-widgets/controls",
      "model_module_version": "2.0.0",
      "model_name": "CheckboxModel",
      "state": {
       "description": "Core",
       "disabled": false,
       "indent": false,
       "layout": "IPY_MODEL_a53ca205d0fc49b294b9f62e56ebaa25",
       "style": "IPY_MODEL_1d74e20bc8c946a68df06b91dbb1c787",
       "value": true
      }
     },
     "1b418c77f8a242699dbd7e4a3736dd21": {
      "model_module": "@jupyter-widgets/base",
      "model_module_version": "2.0.0",
      "model_name": "LayoutModel",
      "state": {
       "height": "40px",
       "width": "120px"
      }
     },
     "1c99d1b110df49b1baf414384349a708": {
      "model_module": "@jupyter-widgets/controls",
      "model_module_version": "2.0.0",
      "model_name": "CheckboxStyleModel",
      "state": {
       "description_width": ""
      }
     },
     "1d74e20bc8c946a68df06b91dbb1c787": {
      "model_module": "@jupyter-widgets/controls",
      "model_module_version": "2.0.0",
      "model_name": "CheckboxStyleModel",
      "state": {
       "description_width": ""
      }
     },
     "1e0ccf1f3ead456f9444af8c48edb945": {
      "model_module": "@jupyter-widgets/controls",
      "model_module_version": "2.0.0",
      "model_name": "CheckboxStyleModel",
      "state": {
       "description_width": ""
      }
     },
     "1e2dc6d08e434ff392000e5642755c5b": {
      "model_module": "@jupyter-widgets/controls",
      "model_module_version": "2.0.0",
      "model_name": "ButtonModel",
      "state": {
       "description": "Close",
       "layout": "IPY_MODEL_3273b50b9e8f427a90cb93a450f819eb",
       "style": "IPY_MODEL_fb8430943019438bb48e242b9b87a518",
       "tooltip": null
      }
     },
     "1fd538aea93642609a209245eee490d3": {
      "model_module": "@jupyter-widgets/controls",
      "model_module_version": "2.0.0",
      "model_name": "CheckboxStyleModel",
      "state": {
       "description_width": ""
      }
     },
     "20358aee624043f99a813e8b09264192": {
      "model_module": "@jupyter-widgets/controls",
      "model_module_version": "2.0.0",
      "model_name": "BoxModel",
      "state": {
       "children": [
        "IPY_MODEL_79055d890afc41c58803e812e891bbef",
        "IPY_MODEL_ca5c7755b64f4f4bb60ce8bd07496296"
       ],
       "layout": "IPY_MODEL_f56bd0298480413694e789517648d515"
      }
     },
     "20edd66fc5a7444ca1f8ae74d41f5c3c": {
      "model_module": "@jupyter-widgets/controls",
      "model_module_version": "2.0.0",
      "model_name": "HBoxModel",
      "state": {
       "children": [
        "IPY_MODEL_41a70756528249618b0158f63b99cf73"
       ],
       "layout": "IPY_MODEL_0aa25ba4e69a4ed88d7589dc1f5ec5cc"
      }
     },
     "214d7cc4948c407b98c7a134ef910edc": {
      "model_module": "@jupyter-widgets/base",
      "model_module_version": "2.0.0",
      "model_name": "LayoutModel",
      "state": {}
     },
     "2188b914a60e4d9e9181205f10d0a0bc": {
      "model_module": "@jupyter-widgets/output",
      "model_module_version": "1.0.0",
      "model_name": "OutputModel",
      "state": {
       "layout": "IPY_MODEL_0f4ccd23194f499db4688adcd9ab854a"
      }
     },
     "2241dda883b74b8aa6ae85269dbe5ec4": {
      "model_module": "@jupyter-widgets/controls",
      "model_module_version": "2.0.0",
      "model_name": "HTMLModel",
      "state": {
       "layout": "IPY_MODEL_5239f8c5e2014d44898d2b1aad98393a",
       "style": "IPY_MODEL_c40a3ffe375c4aaebe16c1e66abf763d",
       "value": "<h2>Exercise Category</h2>"
      }
     },
     "23301b8109d34155b9f3001a8398ec4c": {
      "model_module": "@jupyter-widgets/controls",
      "model_module_version": "2.0.0",
      "model_name": "HBoxModel",
      "state": {
       "children": [
        "IPY_MODEL_7c82fc56ec5e4d778cebe19e15359629"
       ],
       "layout": "IPY_MODEL_3ad2a079f9a547b79b2a2725ce8f1a68"
      }
     },
     "24cf4551fb9c4bbf9dbde45d1a83a802": {
      "model_module": "@jupyter-widgets/base",
      "model_module_version": "2.0.0",
      "model_name": "LayoutModel",
      "state": {}
     },
     "24e161be78394a4b987d1f365d0f1b64": {
      "model_module": "@jupyter-widgets/base",
      "model_module_version": "2.0.0",
      "model_name": "LayoutModel",
      "state": {}
     },
     "261bed4ca7954242b71439b204cd0283": {
      "model_module": "@jupyter-widgets/base",
      "model_module_version": "2.0.0",
      "model_name": "LayoutModel",
      "state": {
       "height": "55px",
       "width": "55px"
      }
     },
     "269d7bf8c38a4561a76ec11b4ecd583f": {
      "model_module": "@jupyter-widgets/controls",
      "model_module_version": "2.0.0",
      "model_name": "HBoxModel",
      "state": {
       "children": [
        "IPY_MODEL_307984861bf7487c9992fbdcb7573c64"
       ],
       "layout": "IPY_MODEL_99bca7b0cb2c43f1b1333db9dc46ef60"
      }
     },
     "27ab16e1112140e0a7868c6e3863aa92": {
      "model_module": "@jupyter-widgets/controls",
      "model_module_version": "2.0.0",
      "model_name": "ButtonStyleModel",
      "state": {
       "font_family": null,
       "font_size": null,
       "font_style": null,
       "font_variant": null,
       "font_weight": null,
       "text_color": null,
       "text_decoration": null
      }
     },
     "285c50eb282d4ee2b376b05dd2b6b81f": {
      "model_module": "@jupyter-widgets/base",
      "model_module_version": "2.0.0",
      "model_name": "LayoutModel",
      "state": {}
     },
     "2881dcfc2dd14eaa8ccaea09acb4d2f5": {
      "model_module": "@jupyter-widgets/controls",
      "model_module_version": "2.0.0",
      "model_name": "CheckboxModel",
      "state": {
       "description": "exercise ball",
       "disabled": false,
       "indent": false,
       "layout": "IPY_MODEL_c3f7ca141caa48fd886b50b2ed5350fe",
       "style": "IPY_MODEL_1fd538aea93642609a209245eee490d3",
       "value": true
      }
     },
     "28a28a7092ef4bb88244c85d7f8de63f": {
      "model_module": "@jupyter-widgets/controls",
      "model_module_version": "2.0.0",
      "model_name": "HTMLStyleModel",
      "state": {
       "description_width": "",
       "font_size": null,
       "text_color": null
      }
     },
     "29138ab0ba3b448eb275d20858522d70": {
      "model_module": "@jupyter-widgets/controls",
      "model_module_version": "2.0.0",
      "model_name": "ButtonStyleModel",
      "state": {
       "font_family": null,
       "font_size": null,
       "font_style": null,
       "font_variant": null,
       "font_weight": null,
       "text_color": null,
       "text_decoration": null
      }
     },
     "2a5005a1acfa41eab071965d643df506": {
      "model_module": "@jupyter-widgets/base",
      "model_module_version": "2.0.0",
      "model_name": "LayoutModel",
      "state": {}
     },
     "2aa341776cca45d795bde2dacaae0d7e": {
      "model_module": "@jupyter-widgets/controls",
      "model_module_version": "2.0.0",
      "model_name": "GridBoxModel",
      "state": {
       "layout": "IPY_MODEL_8ddb67b42083468b847cee3e8ea6ccae"
      }
     },
     "2aff7f70532a40f497798a7dd2233071": {
      "model_module": "@jupyter-widgets/controls",
      "model_module_version": "2.0.0",
      "model_name": "HTMLModel",
      "state": {
       "layout": "IPY_MODEL_87b1a1bec94e457d999bd486b4c1d4f1",
       "style": "IPY_MODEL_abc7576fc6ec49fda625b520e492b5ea",
       "value": "<h2>Equipment List</h2>"
      }
     },
     "2cc4f6d66ed8429ba90787f1b84e5080": {
      "model_module": "@jupyter-widgets/controls",
      "model_module_version": "2.0.0",
      "model_name": "HTMLModel",
      "state": {
       "layout": "IPY_MODEL_a6fcb265c5e6499f9e5142bb36e0cb1d",
       "style": "IPY_MODEL_a620ab61033441fe9f16984631d409ca",
       "value": "<h1>Results</h1>"
      }
     },
     "2dcfccd1bd094f799dd44f5808615275": {
      "model_module": "@jupyter-widgets/controls",
      "model_module_version": "2.0.0",
      "model_name": "VBoxModel",
      "state": {
       "children": [
        "IPY_MODEL_743ff335a19e4026a43ae5cfca559bab",
        "IPY_MODEL_d1bf6f2cb9e24a7082edc0882cd761cb",
        "IPY_MODEL_ad038b472ba144adab715572e0ea0461",
        "IPY_MODEL_eb8f9f4a819041d79d5be4816fc7eca1"
       ],
       "layout": "IPY_MODEL_380dbb5487094927977b285b64e06364"
      }
     },
     "2edc6118f4684cfb960a27931ba42415": {
      "model_module": "@jupyter-widgets/controls",
      "model_module_version": "2.0.0",
      "model_name": "CheckboxStyleModel",
      "state": {
       "description_width": ""
      }
     },
     "2ff20e66eb0a43ccb4da9cf734dcb899": {
      "model_module": "@jupyter-widgets/controls",
      "model_module_version": "2.0.0",
      "model_name": "ButtonStyleModel",
      "state": {
       "font_family": null,
       "font_size": null,
       "font_style": null,
       "font_variant": null,
       "font_weight": null,
       "text_color": null,
       "text_decoration": null
      }
     },
     "2ff7a7f02c64422e8148f2f348bf7b3f": {
      "model_module": "@jupyter-widgets/controls",
      "model_module_version": "2.0.0",
      "model_name": "HBoxModel",
      "state": {
       "children": [
        "IPY_MODEL_be8da9969fba4f9dbe792423ee5542e8",
        "IPY_MODEL_61a0a6e2f67649339b36b8484fbca72e",
        "IPY_MODEL_c4c6f0c3974e467e98f7cc35de480e01",
        "IPY_MODEL_269d7bf8c38a4561a76ec11b4ecd583f"
       ],
       "layout": "IPY_MODEL_a1ec869555924756898842d938814151"
      }
     },
     "307984861bf7487c9992fbdcb7573c64": {
      "model_module": "@jupyter-widgets/controls",
      "model_module_version": "2.0.0",
      "model_name": "ButtonModel",
      "state": {
       "description": "Clear",
       "layout": "IPY_MODEL_ebb0cf76463c4172a0ce49e7e61b55c6",
       "style": "IPY_MODEL_0ce635defdb24877bf554b67f6c3a005",
       "tooltip": null
      }
     },
     "318f465925ce44d5bc038c084e3c6c18": {
      "model_module": "@jupyter-widgets/controls",
      "model_module_version": "2.0.0",
      "model_name": "HBoxModel",
      "state": {
       "children": [
        "IPY_MODEL_817d325b1ee940339ffc6906ef1b838b"
       ],
       "layout": "IPY_MODEL_3d5018e71edc4ef3907164e96418b18c"
      }
     },
     "31f971890792476f9cbd3bfce3be0f45": {
      "model_module": "@jupyter-widgets/base",
      "model_module_version": "2.0.0",
      "model_name": "LayoutModel",
      "state": {}
     },
     "324f56a52bec4dc5913d3d59414ed721": {
      "model_module": "@jupyter-widgets/controls",
      "model_module_version": "2.0.0",
      "model_name": "ButtonModel",
      "state": {
       "description": "Equipment",
       "layout": "IPY_MODEL_cd84b3c3a60c44869dca1c549e231b93",
       "style": "IPY_MODEL_ee87213b548047af82ba546c0e26fbca",
       "tooltip": null
      }
     },
     "3273b50b9e8f427a90cb93a450f819eb": {
      "model_module": "@jupyter-widgets/base",
      "model_module_version": "2.0.0",
      "model_name": "LayoutModel",
      "state": {
       "height": "55px",
       "width": "55px"
      }
     },
     "33fa33c80e75469abb45d53ad88fce75": {
      "model_module": "@jupyter-widgets/base",
      "model_module_version": "2.0.0",
      "model_name": "LayoutModel",
      "state": {
       "height": "40px",
       "width": "120px"
      }
     },
     "34552bfe0e1247d689bea8f4d7682b06": {
      "model_module": "@jupyter-widgets/controls",
      "model_module_version": "2.0.0",
      "model_name": "HTMLModel",
      "state": {
       "layout": "IPY_MODEL_e3f9fafc8b06479fa1f3217960197116",
       "style": "IPY_MODEL_a41a4edd9bc64b408f838e972dfe3a83",
       "value": "<h2>Equipment List</h2>"
      }
     },
     "34c26e94b65e46fd8d71bc7c53500f33": {
      "model_module": "@jupyter-widgets/controls",
      "model_module_version": "2.0.0",
      "model_name": "VBoxModel",
      "state": {
       "children": [
        "IPY_MODEL_aaf2a8a66eae49809e1bb8ea4347a2f6",
        "IPY_MODEL_e1149304af404fd48ef291569d61a14d",
        "IPY_MODEL_cf5c86fa2ba340409f8f43a016bc386f"
       ],
       "layout": "IPY_MODEL_835f84c59c7a465f84f5de6b387ab93f"
      }
     },
     "356510ee7b2e4a019a521fadbd8b8671": {
      "model_module": "@jupyter-widgets/controls",
      "model_module_version": "2.0.0",
      "model_name": "HTMLStyleModel",
      "state": {
       "description_width": "",
       "font_size": null,
       "text_color": null
      }
     },
     "370f8738927a45ec882ecdd9b23f2be6": {
      "model_module": "@jupyter-widgets/controls",
      "model_module_version": "2.0.0",
      "model_name": "DescriptionStyleModel",
      "state": {
       "description_width": ""
      }
     },
     "371a1c106ca84fe385d6cda965db8621": {
      "model_module": "@jupyter-widgets/controls",
      "model_module_version": "2.0.0",
      "model_name": "ButtonStyleModel",
      "state": {
       "font_family": null,
       "font_size": null,
       "font_style": null,
       "font_variant": null,
       "font_weight": null,
       "text_color": null,
       "text_decoration": null
      }
     },
     "380dbb5487094927977b285b64e06364": {
      "model_module": "@jupyter-widgets/base",
      "model_module_version": "2.0.0",
      "model_name": "LayoutModel",
      "state": {}
     },
     "38b7399f822d4a59b16f4fe2bc388cff": {
      "model_module": "@jupyter-widgets/base",
      "model_module_version": "2.0.0",
      "model_name": "LayoutModel",
      "state": {
       "height": "120px",
       "width": "100px"
      }
     },
     "39ff71e9d58d4954a41ce57121459a6f": {
      "model_module": "@jupyter-widgets/base",
      "model_module_version": "2.0.0",
      "model_name": "LayoutModel",
      "state": {
       "height": "120px",
       "width": "100px"
      }
     },
     "3a01545f068d47958b9bc71a2fd77aa4": {
      "model_module": "@jupyter-widgets/controls",
      "model_module_version": "2.0.0",
      "model_name": "CheckboxStyleModel",
      "state": {
       "description_width": ""
      }
     },
     "3abf261619ea4319b48976d3c16db037": {
      "model_module": "@jupyter-widgets/base",
      "model_module_version": "2.0.0",
      "model_name": "LayoutModel",
      "state": {}
     },
     "3ad2a079f9a547b79b2a2725ce8f1a68": {
      "model_module": "@jupyter-widgets/base",
      "model_module_version": "2.0.0",
      "model_name": "LayoutModel",
      "state": {}
     },
     "3adaf6f3c8644e00997f54207538e8bf": {
      "model_module": "@jupyter-widgets/controls",
      "model_module_version": "2.0.0",
      "model_name": "CheckboxStyleModel",
      "state": {
       "description_width": ""
      }
     },
     "3b423cb1331446f2a9ee8713c74c4acd": {
      "model_module": "@jupyter-widgets/controls",
      "model_module_version": "2.0.0",
      "model_name": "CheckboxModel",
      "state": {
       "description": "medicine ball",
       "disabled": false,
       "indent": false,
       "layout": "IPY_MODEL_4cb4d0bd7167442294b40664da6f1b53",
       "style": "IPY_MODEL_1655aec780f24b7ca160f205c674f422",
       "value": true
      }
     },
     "3c6ce181c51a476e8095cd42be5b0853": {
      "model_module": "@jupyter-widgets/controls",
      "model_module_version": "2.0.0",
      "model_name": "CheckboxStyleModel",
      "state": {
       "description_width": ""
      }
     },
     "3ce42010f685448c847103eace10cade": {
      "model_module": "@jupyter-widgets/base",
      "model_module_version": "2.0.0",
      "model_name": "LayoutModel",
      "state": {}
     },
     "3d5018e71edc4ef3907164e96418b18c": {
      "model_module": "@jupyter-widgets/base",
      "model_module_version": "2.0.0",
      "model_name": "LayoutModel",
      "state": {}
     },
     "3d7e3c911d184de68ed1265ffcbcd3ba": {
      "model_module": "@jupyter-widgets/base",
      "model_module_version": "2.0.0",
      "model_name": "LayoutModel",
      "state": {}
     },
     "3d846d49f31b4f2a90eca6fa8dab3c78": {
      "model_module": "@jupyter-widgets/controls",
      "model_module_version": "2.0.0",
      "model_name": "CheckboxStyleModel",
      "state": {
       "description_width": ""
      }
     },
     "3d8df6a4d84a42b882dcf43101b5cff5": {
      "model_module": "@jupyter-widgets/output",
      "model_module_version": "1.0.0",
      "model_name": "OutputModel",
      "state": {
       "layout": "IPY_MODEL_bea2da7562dc4e8eaaf002a23ef913e9"
      }
     },
     "3f0a6e97b68b46b094736da89d372d0e": {
      "model_module": "@jupyter-widgets/base",
      "model_module_version": "2.0.0",
      "model_name": "LayoutModel",
      "state": {}
     },
     "3f8f8ef98ca1483d8416de132d69b7f5": {
      "model_module": "@jupyter-widgets/controls",
      "model_module_version": "2.0.0",
      "model_name": "CheckboxModel",
      "state": {
       "description": "e-z curl bar",
       "disabled": false,
       "indent": false,
       "layout": "IPY_MODEL_33fa33c80e75469abb45d53ad88fce75",
       "style": "IPY_MODEL_3adaf6f3c8644e00997f54207538e8bf",
       "value": true
      }
     },
     "3fc8c930aeaa419da6e41cbecae1ed0e": {
      "model_module": "@jupyter-widgets/controls",
      "model_module_version": "2.0.0",
      "model_name": "ButtonModel",
      "state": {
       "description": "Body Area",
       "layout": "IPY_MODEL_7361adef6ee24482acd96408e5e4dfc6",
       "style": "IPY_MODEL_2ff20e66eb0a43ccb4da9cf734dcb899",
       "tooltip": null
      }
     },
     "41a70756528249618b0158f63b99cf73": {
      "model_module": "@jupyter-widgets/controls",
      "model_module_version": "2.0.0",
      "model_name": "HTMLModel",
      "state": {
       "layout": "IPY_MODEL_7503c852afc548599c39e2f25e9a9167",
       "style": "IPY_MODEL_6bc6ae15656e43609c3446a7464427a2",
       "value": "<h2>Sample Size</h2>"
      }
     },
     "41fb2e4e309046419800fa911df956de": {
      "model_module": "@jupyter-widgets/controls",
      "model_module_version": "2.0.0",
      "model_name": "CheckboxModel",
      "state": {
       "description": "cable",
       "disabled": false,
       "indent": false,
       "layout": "IPY_MODEL_477240c54d884a84a2678c6051d57cf4",
       "style": "IPY_MODEL_3c6ce181c51a476e8095cd42be5b0853",
       "value": true
      }
     },
     "42127ff6dbd144cea302dc55524a013d": {
      "model_module": "@jupyter-widgets/controls",
      "model_module_version": "2.0.0",
      "model_name": "ButtonModel",
      "state": {
       "description": "Ex Category",
       "layout": "IPY_MODEL_db51aea81cc2472788cbf193467df1d3",
       "style": "IPY_MODEL_6a8fffe8a68049db9ca3d12ce6ee860b",
       "tooltip": null
      }
     },
     "422a83f15bc84bfeae7bf91ebff84b49": {
      "model_module": "@jupyter-widgets/base",
      "model_module_version": "2.0.0",
      "model_name": "LayoutModel",
      "state": {
       "height": "120px",
       "width": "100px"
      }
     },
     "428dabb33b3146bc8d78591ac0f8d693": {
      "model_module": "@jupyter-widgets/controls",
      "model_module_version": "2.0.0",
      "model_name": "ButtonStyleModel",
      "state": {
       "font_family": null,
       "font_size": null,
       "font_style": null,
       "font_variant": null,
       "font_weight": null,
       "text_color": null,
       "text_decoration": null
      }
     },
     "43601605e2c944f0853b961945e904e6": {
      "model_module": "@jupyter-widgets/controls",
      "model_module_version": "2.0.0",
      "model_name": "CheckboxModel",
      "state": {
       "description": "powerlifting",
       "disabled": false,
       "indent": false,
       "layout": "IPY_MODEL_838ab71889814a02b266f41c67d9a264",
       "style": "IPY_MODEL_3a01545f068d47958b9bc71a2fd77aa4",
       "value": true
      }
     },
     "43941087fa034449aca8ab17e131260a": {
      "model_module": "@jupyter-widgets/controls",
      "model_module_version": "2.0.0",
      "model_name": "HTMLStyleModel",
      "state": {
       "description_width": "",
       "font_size": null,
       "text_color": null
      }
     },
     "460ccb8288db470a8be4c10389703abb": {
      "model_module": "@jupyter-widgets/controls",
      "model_module_version": "2.0.0",
      "model_name": "HBoxModel",
      "state": {
       "children": [
        "IPY_MODEL_0c3198c1dd2f438f92875ff3aed768b1"
       ],
       "layout": "IPY_MODEL_c2aebb233d5247bf8de661df0b79a6ef"
      }
     },
     "477240c54d884a84a2678c6051d57cf4": {
      "model_module": "@jupyter-widgets/base",
      "model_module_version": "2.0.0",
      "model_name": "LayoutModel",
      "state": {
       "height": "40px",
       "width": "120px"
      }
     },
     "47d570f1e1834baaa334d890d8998702": {
      "model_module": "@jupyter-widgets/base",
      "model_module_version": "2.0.0",
      "model_name": "LayoutModel",
      "state": {}
     },
     "4854ac6f7f5841ba89d67c5f60ff7789": {
      "model_module": "@jupyter-widgets/controls",
      "model_module_version": "2.0.0",
      "model_name": "CheckboxStyleModel",
      "state": {
       "description_width": ""
      }
     },
     "49ffddc23c2149d5b16976646f553f7a": {
      "model_module": "@jupyter-widgets/base",
      "model_module_version": "2.0.0",
      "model_name": "LayoutModel",
      "state": {
       "height": "40px",
       "width": "120px"
      }
     },
     "4a36d94d8a9145589fdbfeb496e0e465": {
      "model_module": "@jupyter-widgets/controls",
      "model_module_version": "2.0.0",
      "model_name": "ButtonStyleModel",
      "state": {
       "font_family": null,
       "font_size": null,
       "font_style": null,
       "font_variant": null,
       "font_weight": null,
       "text_color": null,
       "text_decoration": null
      }
     },
     "4a62391e4fd746bf9b106c0fe73fc292": {
      "model_module": "@jupyter-widgets/controls",
      "model_module_version": "2.0.0",
      "model_name": "ButtonModel",
      "state": {
       "description": "Ex Category",
       "layout": "IPY_MODEL_745cdbfb295c4a8982692dac46ef75d9",
       "style": "IPY_MODEL_e419973c0ece41769a4e14a23eb7447a",
       "tooltip": null
      }
     },
     "4b293a46ce914308b43d12cab0496adf": {
      "model_module": "@jupyter-widgets/base",
      "model_module_version": "2.0.0",
      "model_name": "LayoutModel",
      "state": {
       "height": "40px",
       "width": "120px"
      }
     },
     "4b652b5f68b84436afdc568892d7cee3": {
      "model_module": "@jupyter-widgets/base",
      "model_module_version": "2.0.0",
      "model_name": "LayoutModel",
      "state": {}
     },
     "4b8d00768cb045b3a5f4b2ea2e2b36e9": {
      "model_module": "@jupyter-widgets/controls",
      "model_module_version": "2.0.0",
      "model_name": "CheckboxStyleModel",
      "state": {
       "description_width": ""
      }
     },
     "4bdc9942c4a049a7a76eb34c88a6b160": {
      "model_module": "@jupyter-widgets/controls",
      "model_module_version": "2.0.0",
      "model_name": "VBoxModel",
      "state": {
       "children": [
        "IPY_MODEL_3fc8c930aeaa419da6e41cbecae1ed0e"
       ],
       "layout": "IPY_MODEL_094e7dfe7b004d0287297b5737d711d7"
      }
     },
     "4cb4d0bd7167442294b40664da6f1b53": {
      "model_module": "@jupyter-widgets/base",
      "model_module_version": "2.0.0",
      "model_name": "LayoutModel",
      "state": {
       "height": "40px",
       "width": "120px"
      }
     },
     "4ce647df5250486ea978e5af6d8f040c": {
      "model_module": "@jupyter-widgets/base",
      "model_module_version": "2.0.0",
      "model_name": "LayoutModel",
      "state": {}
     },
     "4da138c4dc8445e58912253bd19dd6f1": {
      "model_module": "@jupyter-widgets/controls",
      "model_module_version": "2.0.0",
      "model_name": "CheckboxStyleModel",
      "state": {
       "description_width": ""
      }
     },
     "4f53eea4879645bd9aebb2ffb09988e2": {
      "model_module": "@jupyter-widgets/controls",
      "model_module_version": "2.0.0",
      "model_name": "CheckboxStyleModel",
      "state": {
       "description_width": ""
      }
     },
     "4fb009419bea457991fbf7dcb14fb1c3": {
      "model_module": "@jupyter-widgets/base",
      "model_module_version": "2.0.0",
      "model_name": "LayoutModel",
      "state": {}
     },
     "4ffd5a51bc1b48daab6d5e3210e3aa60": {
      "model_module": "@jupyter-widgets/controls",
      "model_module_version": "2.0.0",
      "model_name": "HBoxModel",
      "state": {
       "children": [
        "IPY_MODEL_7309373a3f5b4181acb4c9e0a905220e"
       ],
       "layout": "IPY_MODEL_64b09bb1ef144ed68449268d88959447"
      }
     },
     "5062ca761d844b83819548d6982e1d92": {
      "model_module": "@jupyter-widgets/controls",
      "model_module_version": "2.0.0",
      "model_name": "CheckboxModel",
      "state": {
       "description": "other",
       "disabled": false,
       "indent": false,
       "layout": "IPY_MODEL_596b75a4c77f44eca452a920d5eb2f29",
       "style": "IPY_MODEL_e18dc464fbbc451988be57a673dc0fc2",
       "value": true
      }
     },
     "50eee2216a964c4ab102539c0d564964": {
      "model_module": "@jupyter-widgets/controls",
      "model_module_version": "2.0.0",
      "model_name": "HBoxModel",
      "state": {
       "children": [
        "IPY_MODEL_d4de5d7e753546dfab4d50653440d7e5"
       ],
       "layout": "IPY_MODEL_a4428817a98b4b249dd9d0dc7bd85009"
      }
     },
     "512ac17c46314fbea3ae582a986a9b22": {
      "model_module": "@jupyter-widgets/base",
      "model_module_version": "2.0.0",
      "model_name": "LayoutModel",
      "state": {}
     },
     "5158239c9d45466b83d6f6c0945c7a37": {
      "model_module": "@jupyter-widgets/controls",
      "model_module_version": "2.0.0",
      "model_name": "VBoxModel",
      "state": {
       "children": [
        "IPY_MODEL_42127ff6dbd144cea302dc55524a013d",
        "IPY_MODEL_50eee2216a964c4ab102539c0d564964"
       ],
       "layout": "IPY_MODEL_e534fe1fa18a44d895b1b59f48d573fb"
      }
     },
     "51dfe7fcd4d1462eb2b97b3ffe077e95": {
      "model_module": "@jupyter-widgets/controls",
      "model_module_version": "2.0.0",
      "model_name": "ButtonStyleModel",
      "state": {
       "font_family": null,
       "font_size": null,
       "font_style": null,
       "font_variant": null,
       "font_weight": null,
       "text_color": null,
       "text_decoration": null
      }
     },
     "5239f8c5e2014d44898d2b1aad98393a": {
      "model_module": "@jupyter-widgets/base",
      "model_module_version": "2.0.0",
      "model_name": "LayoutModel",
      "state": {}
     },
     "52ab1cfc3b394340851a4d5b60f24c40": {
      "model_module": "@jupyter-widgets/controls",
      "model_module_version": "2.0.0",
      "model_name": "DescriptionStyleModel",
      "state": {
       "description_width": ""
      }
     },
     "53ad4405321a4071b8eea01974c22955": {
      "model_module": "@jupyter-widgets/controls",
      "model_module_version": "2.0.0",
      "model_name": "HTMLModel",
      "state": {
       "layout": "IPY_MODEL_214d7cc4948c407b98c7a134ef910edc",
       "style": "IPY_MODEL_43941087fa034449aca8ab17e131260a",
       "value": "<h3>Core</h3>"
      }
     },
     "53cf8b503e374ef78b2341c7e8fddc55": {
      "model_module": "@jupyter-widgets/controls",
      "model_module_version": "2.0.0",
      "model_name": "HTMLModel",
      "state": {
       "layout": "IPY_MODEL_3ce42010f685448c847103eace10cade",
       "style": "IPY_MODEL_28a28a7092ef4bb88244c85d7f8de63f",
       "value": "<h1>Results</h1>"
      }
     },
     "54a520f8e11646beb4660badae96ab39": {
      "model_module": "@jupyter-widgets/controls",
      "model_module_version": "2.0.0",
      "model_name": "HTMLStyleModel",
      "state": {
       "description_width": "",
       "font_size": null,
       "text_color": null
      }
     },
     "57eeef35a4b94577b15443f878fb45e1": {
      "model_module": "@jupyter-widgets/base",
      "model_module_version": "2.0.0",
      "model_name": "LayoutModel",
      "state": {
       "height": "40px",
       "width": "120px"
      }
     },
     "583b1b593f314245aa771555494f3dd5": {
      "model_module": "@jupyter-widgets/controls",
      "model_module_version": "2.0.0",
      "model_name": "HTMLStyleModel",
      "state": {
       "description_width": "",
       "font_size": null,
       "text_color": null
      }
     },
     "583c9fbd8978485b919e736357756b5b": {
      "model_module": "@jupyter-widgets/base",
      "model_module_version": "2.0.0",
      "model_name": "LayoutModel",
      "state": {}
     },
     "58e5df947d2e40c89258e597247ed225": {
      "model_module": "@jupyter-widgets/controls",
      "model_module_version": "2.0.0",
      "model_name": "ButtonStyleModel",
      "state": {
       "font_family": null,
       "font_size": null,
       "font_style": null,
       "font_variant": null,
       "font_weight": null,
       "text_color": null,
       "text_decoration": null
      }
     },
     "596b75a4c77f44eca452a920d5eb2f29": {
      "model_module": "@jupyter-widgets/base",
      "model_module_version": "2.0.0",
      "model_name": "LayoutModel",
      "state": {
       "height": "40px",
       "width": "120px"
      }
     },
     "59f0113bf1e04fabb12c485c6ec72d93": {
      "model_module": "@jupyter-widgets/controls",
      "model_module_version": "2.0.0",
      "model_name": "ButtonStyleModel",
      "state": {
       "font_family": null,
       "font_size": null,
       "font_style": null,
       "font_variant": null,
       "font_weight": null,
       "text_color": null,
       "text_decoration": null
      }
     },
     "5a6395e5a06b4835816a3c1be1c2e59f": {
      "model_module": "@jupyter-widgets/controls",
      "model_module_version": "2.0.0",
      "model_name": "HTMLModel",
      "state": {
       "layout": "IPY_MODEL_583c9fbd8978485b919e736357756b5b",
       "style": "IPY_MODEL_8578140906474f65a6c9ab843865d303",
       "value": "<h1>Random Excercise Generator</h1>"
      }
     },
     "5aa8fed4f77a464f857f11a53fb7ecd8": {
      "model_module": "@jupyter-widgets/controls",
      "model_module_version": "2.0.0",
      "model_name": "CheckboxStyleModel",
      "state": {
       "description_width": ""
      }
     },
     "5abbbf1c9ff541698554081aef31d199": {
      "model_module": "@jupyter-widgets/controls",
      "model_module_version": "2.0.0",
      "model_name": "HBoxModel",
      "state": {
       "children": [
        "IPY_MODEL_34552bfe0e1247d689bea8f4d7682b06"
       ],
       "layout": "IPY_MODEL_f4b544ee335049ecb2180027bd7fc449"
      }
     },
     "5b974b2986364f5f8da941f5f5b6a39f": {
      "model_module": "@jupyter-widgets/controls",
      "model_module_version": "2.0.0",
      "model_name": "CheckboxModel",
      "state": {
       "description": "cardio",
       "disabled": false,
       "indent": false,
       "layout": "IPY_MODEL_f8b9f054ba504a43b058981b0a68fdb4",
       "style": "IPY_MODEL_9a9ba3ca2d6b4a1b890bee2d025707cc",
       "value": true
      }
     },
     "5c5f42ff253d455994a4cf049b480f6f": {
      "model_module": "@jupyter-widgets/controls",
      "model_module_version": "2.0.0",
      "model_name": "HTMLStyleModel",
      "state": {
       "description_width": "",
       "font_size": null,
       "text_color": null
      }
     },
     "5c9711941d614ef98bcacdecf8e25b66": {
      "model_module": "@jupyter-widgets/controls",
      "model_module_version": "2.0.0",
      "model_name": "ButtonModel",
      "state": {
       "description": "Close",
       "layout": "IPY_MODEL_0d9682e1a1764664afa732cfceaaed95",
       "style": "IPY_MODEL_005185a534ef43b4a89fef37aaca2938",
       "tooltip": null
      }
     },
     "5cd8899b2fa94ebfac5e6a11d7d362df": {
      "model_module": "@jupyter-widgets/controls",
      "model_module_version": "2.0.0",
      "model_name": "CheckboxStyleModel",
      "state": {
       "description_width": ""
      }
     },
     "5d01830049804b6e9e26b4965b98b5c5": {
      "model_module": "@jupyter-widgets/controls",
      "model_module_version": "2.0.0",
      "model_name": "CheckboxStyleModel",
      "state": {
       "description_width": ""
      }
     },
     "5d0ad1330a9740b88b431f4656f02192": {
      "model_module": "@jupyter-widgets/controls",
      "model_module_version": "2.0.0",
      "model_name": "HTMLModel",
      "state": {
       "layout": "IPY_MODEL_c49a69edc39942c4818683fb1b6cfe92",
       "style": "IPY_MODEL_583b1b593f314245aa771555494f3dd5",
       "value": "<h3>Core</h3>"
      }
     },
     "5d1b7248cde64d54b88668513f4aa7ef": {
      "model_module": "@jupyter-widgets/base",
      "model_module_version": "2.0.0",
      "model_name": "LayoutModel",
      "state": {
       "height": "200px"
      }
     },
     "5d1e121488b64953ae39610fd5089725": {
      "model_module": "@jupyter-widgets/controls",
      "model_module_version": "2.0.0",
      "model_name": "ButtonStyleModel",
      "state": {
       "font_family": null,
       "font_size": null,
       "font_style": null,
       "font_variant": null,
       "font_weight": null,
       "text_color": null,
       "text_decoration": null
      }
     },
     "5db7c57c9b624125a57401d9b9871e0f": {
      "model_module": "@jupyter-widgets/controls",
      "model_module_version": "2.0.0",
      "model_name": "HBoxModel",
      "state": {
       "children": [
        "IPY_MODEL_a13fff1b45a24dffb0a416371dc1c045"
       ],
       "layout": "IPY_MODEL_83f7f02c76084fb6858355e5bb11c858"
      }
     },
     "5e71996deafa417fabfdd0b33b74f43e": {
      "model_module": "@jupyter-widgets/base",
      "model_module_version": "2.0.0",
      "model_name": "LayoutModel",
      "state": {}
     },
     "5eb0a3892620446b894f9ca3ad15d91f": {
      "model_module": "@jupyter-widgets/controls",
      "model_module_version": "2.0.0",
      "model_name": "CheckboxStyleModel",
      "state": {
       "description_width": ""
      }
     },
     "602c80a5cd3240d2a080c48157eb0380": {
      "model_module": "@jupyter-widgets/base",
      "model_module_version": "2.0.0",
      "model_name": "LayoutModel",
      "state": {
       "height": "55px",
       "width": "55px"
      }
     },
     "6058e1a0b37045a28adfd3a4a8304cd4": {
      "model_module": "@jupyter-widgets/base",
      "model_module_version": "2.0.0",
      "model_name": "LayoutModel",
      "state": {
       "height": "40px",
       "width": "120px"
      }
     },
     "60ba0f28202a4dd09b22418683ed36ba": {
      "model_module": "@jupyter-widgets/base",
      "model_module_version": "2.0.0",
      "model_name": "LayoutModel",
      "state": {
       "height": "55px",
       "width": "55px"
      }
     },
     "60cdb7d8b17d4c66b0a38f6090e9f833": {
      "model_module": "@jupyter-widgets/controls",
      "model_module_version": "2.0.0",
      "model_name": "ButtonModel",
      "state": {
       "description": "Clear",
       "layout": "IPY_MODEL_8102e4c0d2d84ab2bfa4fe2c2c0e7023",
       "style": "IPY_MODEL_371a1c106ca84fe385d6cda965db8621",
       "tooltip": null
      }
     },
     "61a0a6e2f67649339b36b8484fbca72e": {
      "model_module": "@jupyter-widgets/controls",
      "model_module_version": "2.0.0",
      "model_name": "VBoxModel",
      "state": {
       "children": [
        "IPY_MODEL_b49231abc3ba40768ebc7231ebb38064",
        "IPY_MODEL_1a6ae48037064cd4a574add2f3f2d999",
        "IPY_MODEL_137be361dd344272b7f1ba7772330050",
        "IPY_MODEL_784c42cab4a84a32af405d455e6cdb23"
       ],
       "layout": "IPY_MODEL_d5144451c1ec4dccb58b53140525f257"
      }
     },
     "61bf5d0a3fe54adb898a6f439c8caccf": {
      "model_module": "@jupyter-widgets/controls",
      "model_module_version": "2.0.0",
      "model_name": "VBoxModel",
      "state": {
       "children": [
        "IPY_MODEL_df02b67cfb5145b09bcfaeb42119b3a9"
       ],
       "layout": "IPY_MODEL_3f0a6e97b68b46b094736da89d372d0e"
      }
     },
     "62ab9324c6114542a044cc5a6cbc0164": {
      "model_module": "@jupyter-widgets/controls",
      "model_module_version": "2.0.0",
      "model_name": "VBoxModel",
      "state": {
       "children": [
        "IPY_MODEL_eb70963021624bd38c1011c549eb86ec",
        "IPY_MODEL_a54df32eaec14279bc3137f9ad841a24"
       ],
       "layout": "IPY_MODEL_24e161be78394a4b987d1f365d0f1b64"
      }
     },
     "62d2962b56c4419a83c3d726c212c72b": {
      "model_module": "@jupyter-widgets/controls",
      "model_module_version": "2.0.0",
      "model_name": "HBoxModel",
      "state": {
       "children": [
        "IPY_MODEL_8065423eaf60417990795a4d0246a786"
       ],
       "layout": "IPY_MODEL_fdc928174cb04f9fa59b430e71092987"
      }
     },
     "6322574c5a7946e9b99c932e4f029518": {
      "model_module": "@jupyter-widgets/controls",
      "model_module_version": "2.0.0",
      "model_name": "ButtonStyleModel",
      "state": {
       "font_family": null,
       "font_size": null,
       "font_style": null,
       "font_variant": null,
       "font_weight": null,
       "text_color": null,
       "text_decoration": null
      }
     },
     "6434100a838f43549c7116cf053f0ce6": {
      "model_module": "@jupyter-widgets/base",
      "model_module_version": "2.0.0",
      "model_name": "LayoutModel",
      "state": {
       "height": "40px",
       "width": "120px"
      }
     },
     "64b09bb1ef144ed68449268d88959447": {
      "model_module": "@jupyter-widgets/base",
      "model_module_version": "2.0.0",
      "model_name": "LayoutModel",
      "state": {}
     },
     "65e39517c6a64d4f939448f6641082df": {
      "model_module": "@jupyter-widgets/base",
      "model_module_version": "2.0.0",
      "model_name": "LayoutModel",
      "state": {
       "height": "55px",
       "width": "55px"
      }
     },
     "6635079f096f4d738cdd4f17e25bcd87": {
      "model_module": "@jupyter-widgets/base",
      "model_module_version": "2.0.0",
      "model_name": "LayoutModel",
      "state": {
       "height": "40px",
       "width": "120px"
      }
     },
     "6750f7f628bf45bbb67a9d9d650768cf": {
      "model_module": "@jupyter-widgets/controls",
      "model_module_version": "2.0.0",
      "model_name": "HBoxModel",
      "state": {
       "children": [
        "IPY_MODEL_53cf8b503e374ef78b2341c7e8fddc55"
       ],
       "layout": "IPY_MODEL_acefebac854443acaab2f6da708059d1"
      }
     },
     "67f4f857017b4b8aa02bc5031bcaedf4": {
      "model_module": "@jupyter-widgets/controls",
      "model_module_version": "2.0.0",
      "model_name": "CheckboxModel",
      "state": {
       "description": "bands",
       "disabled": false,
       "indent": false,
       "layout": "IPY_MODEL_7ad57a6e89244bebaff0cfbab0096260",
       "style": "IPY_MODEL_f3d4cd717a3740bc8aa4e94fd338e74a",
       "value": true
      }
     },
     "69856ed5438c41db88d41da5e5144619": {
      "model_module": "@jupyter-widgets/controls",
      "model_module_version": "2.0.0",
      "model_name": "CheckboxModel",
      "state": {
       "description": "kettlebells",
       "disabled": false,
       "indent": false,
       "layout": "IPY_MODEL_6f5a995fd87a48cbb9e260a94f731dd2",
       "style": "IPY_MODEL_b3023e26b96848a48882c0186ba5c255",
       "value": true
      }
     },
     "6a8fffe8a68049db9ca3d12ce6ee860b": {
      "model_module": "@jupyter-widgets/controls",
      "model_module_version": "2.0.0",
      "model_name": "ButtonStyleModel",
      "state": {
       "font_family": null,
       "font_size": null,
       "font_style": null,
       "font_variant": null,
       "font_weight": null,
       "text_color": null,
       "text_decoration": null
      }
     },
     "6bc6ae15656e43609c3446a7464427a2": {
      "model_module": "@jupyter-widgets/controls",
      "model_module_version": "2.0.0",
      "model_name": "HTMLStyleModel",
      "state": {
       "description_width": "",
       "font_size": null,
       "text_color": null
      }
     },
     "6cbf81dc0709472499df7e27ee9832f8": {
      "model_module": "@jupyter-widgets/controls",
      "model_module_version": "2.0.0",
      "model_name": "CheckboxModel",
      "state": {
       "description": "foam roll",
       "disabled": false,
       "indent": false,
       "layout": "IPY_MODEL_eef3a93f8f684630b57a8bc5d0099b43",
       "style": "IPY_MODEL_3d846d49f31b4f2a90eca6fa8dab3c78",
       "value": true
      }
     },
     "6e6442ae52ab46509de75f6de5ba2216": {
      "model_module": "@jupyter-widgets/base",
      "model_module_version": "2.0.0",
      "model_name": "LayoutModel",
      "state": {
       "height": "55px",
       "width": "55px"
      }
     },
     "6f5a995fd87a48cbb9e260a94f731dd2": {
      "model_module": "@jupyter-widgets/base",
      "model_module_version": "2.0.0",
      "model_name": "LayoutModel",
      "state": {
       "height": "40px",
       "width": "120px"
      }
     },
     "6f8c5a6ed05641f79a391c5474887087": {
      "model_module": "@jupyter-widgets/controls",
      "model_module_version": "2.0.0",
      "model_name": "ButtonStyleModel",
      "state": {
       "font_family": null,
       "font_size": null,
       "font_style": null,
       "font_variant": null,
       "font_weight": null,
       "text_color": null,
       "text_decoration": null
      }
     },
     "6fb5ffa9489f4819b9355534a9e2e1ba": {
      "model_module": "@jupyter-widgets/controls",
      "model_module_version": "2.0.0",
      "model_name": "CheckboxStyleModel",
      "state": {
       "description_width": ""
      }
     },
     "729e39aab1844d8aa8ca4298b6dee90a": {
      "model_module": "@jupyter-widgets/base",
      "model_module_version": "2.0.0",
      "model_name": "LayoutModel",
      "state": {
       "height": "40px",
       "width": "120px"
      }
     },
     "72b5cf926d0548ffafddb33a962f2c8a": {
      "model_module": "@jupyter-widgets/controls",
      "model_module_version": "2.0.0",
      "model_name": "ButtonModel",
      "state": {
       "description": "Close",
       "layout": "IPY_MODEL_92e14c7e88024166b9091e15b3bb63ca",
       "style": "IPY_MODEL_ed385a3ddfff43d9ba3571b0a67abbea",
       "tooltip": null
      }
     },
     "7309373a3f5b4181acb4c9e0a905220e": {
      "model_module": "@jupyter-widgets/controls",
      "model_module_version": "2.0.0",
      "model_name": "HTMLModel",
      "state": {
       "layout": "IPY_MODEL_d02bf845896b43268bec7b9c993f3651",
       "style": "IPY_MODEL_8f978b57900a45c88b1051a72d6c47f0",
       "value": "<h3>Lower_Body</h3>"
      }
     },
     "7361adef6ee24482acd96408e5e4dfc6": {
      "model_module": "@jupyter-widgets/base",
      "model_module_version": "2.0.0",
      "model_name": "LayoutModel",
      "state": {
       "height": "120px",
       "width": "100px"
      }
     },
     "73c37f27312846bbbdb448396af505aa": {
      "model_module": "@jupyter-widgets/base",
      "model_module_version": "2.0.0",
      "model_name": "LayoutModel",
      "state": {
       "height": "55px",
       "width": "55px"
      }
     },
     "743ff335a19e4026a43ae5cfca559bab": {
      "model_module": "@jupyter-widgets/controls",
      "model_module_version": "2.0.0",
      "model_name": "CheckboxModel",
      "state": {
       "description": "body only",
       "disabled": false,
       "indent": false,
       "layout": "IPY_MODEL_90a2d154e168451eb36b139c9004089b",
       "style": "IPY_MODEL_18f140edf03240848c6d8d9441acc568",
       "value": true
      }
     },
     "745cdbfb295c4a8982692dac46ef75d9": {
      "model_module": "@jupyter-widgets/base",
      "model_module_version": "2.0.0",
      "model_name": "LayoutModel",
      "state": {
       "height": "120px",
       "width": "100px"
      }
     },
     "7503c852afc548599c39e2f25e9a9167": {
      "model_module": "@jupyter-widgets/base",
      "model_module_version": "2.0.0",
      "model_name": "LayoutModel",
      "state": {}
     },
     "761e656f733445c0a6f1c47f93f15e28": {
      "model_module": "@jupyter-widgets/base",
      "model_module_version": "2.0.0",
      "model_name": "LayoutModel",
      "state": {
       "height": "120px",
       "width": "100px"
      }
     },
     "769f31b944ba47d9bff8d18702fa51f8": {
      "model_module": "@jupyter-widgets/base",
      "model_module_version": "2.0.0",
      "model_name": "LayoutModel",
      "state": {
       "height": "55px",
       "width": "55px"
      }
     },
     "784c42cab4a84a32af405d455e6cdb23": {
      "model_module": "@jupyter-widgets/controls",
      "model_module_version": "2.0.0",
      "model_name": "CheckboxModel",
      "state": {
       "description": "e-z curl bar",
       "disabled": false,
       "indent": false,
       "layout": "IPY_MODEL_6635079f096f4d738cdd4f17e25bcd87",
       "style": "IPY_MODEL_178f991a180145769420d843859fcedc",
       "value": true
      }
     },
     "79055d890afc41c58803e812e891bbef": {
      "model_module": "@jupyter-widgets/controls",
      "model_module_version": "2.0.0",
      "model_name": "DropdownModel",
      "state": {
       "_options_labels": [
        "One",
        "Two",
        "Three",
        "Four",
        "Five"
       ],
       "index": 1,
       "layout": "IPY_MODEL_4b652b5f68b84436afdc568892d7cee3",
       "style": "IPY_MODEL_370f8738927a45ec882ecdd9b23f2be6"
      }
     },
     "79a327684f004642bd557a824d5a2b1a": {
      "model_module": "@jupyter-widgets/controls",
      "model_module_version": "2.0.0",
      "model_name": "CheckboxModel",
      "state": {
       "description": "stretching",
       "disabled": false,
       "indent": false,
       "layout": "IPY_MODEL_e24fc9de5ddb4bf2a306f19ce002a52a",
       "style": "IPY_MODEL_5cd8899b2fa94ebfac5e6a11d7d362df",
       "value": true
      }
     },
     "79c68ac51a94416fb25895e425f8b0e1": {
      "model_module": "@jupyter-widgets/controls",
      "model_module_version": "2.0.0",
      "model_name": "CheckboxModel",
      "state": {
       "description": "lowerBody",
       "disabled": false,
       "indent": false,
       "layout": "IPY_MODEL_7e6484e5e5974d1a9c62c4c60de8fda5",
       "style": "IPY_MODEL_4854ac6f7f5841ba89d67c5f60ff7789",
       "value": true
      }
     },
     "7a0dbcccbbd5474eac4adf38a216729e": {
      "model_module": "@jupyter-widgets/controls",
      "model_module_version": "2.0.0",
      "model_name": "HBoxModel",
      "state": {
       "children": [
        "IPY_MODEL_53ad4405321a4071b8eea01974c22955"
       ],
       "layout": "IPY_MODEL_3d7e3c911d184de68ed1265ffcbcd3ba"
      }
     },
     "7a34cff9057140ceba348a25c94db4cb": {
      "model_module": "@jupyter-widgets/base",
      "model_module_version": "2.0.0",
      "model_name": "LayoutModel",
      "state": {}
     },
     "7a672bea1ee84a848330ecd4daf3379e": {
      "model_module": "@jupyter-widgets/base",
      "model_module_version": "2.0.0",
      "model_name": "LayoutModel",
      "state": {}
     },
     "7ad57a6e89244bebaff0cfbab0096260": {
      "model_module": "@jupyter-widgets/base",
      "model_module_version": "2.0.0",
      "model_name": "LayoutModel",
      "state": {
       "height": "40px",
       "width": "120px"
      }
     },
     "7c82fc56ec5e4d778cebe19e15359629": {
      "model_module": "@jupyter-widgets/controls",
      "model_module_version": "2.0.0",
      "model_name": "HTMLModel",
      "state": {
       "layout": "IPY_MODEL_e23fba882e554bbb9420193fe1a8ee2c",
       "style": "IPY_MODEL_0b202611c0854ba09e792c0d2686d9d7",
       "value": "<h3>Upper Body</h3>"
      }
     },
     "7d983f4b2e874cac98dc1adacdcd5592": {
      "model_module": "@jupyter-widgets/controls",
      "model_module_version": "2.0.0",
      "model_name": "CheckboxModel",
      "state": {
       "description": "bands",
       "disabled": false,
       "indent": false,
       "layout": "IPY_MODEL_b18cbc7a2736483d93a0613c9882c7ed",
       "style": "IPY_MODEL_da902da8fd5e4fddac3230f61b9322d5",
       "value": true
      }
     },
     "7e6484e5e5974d1a9c62c4c60de8fda5": {
      "model_module": "@jupyter-widgets/base",
      "model_module_version": "2.0.0",
      "model_name": "LayoutModel",
      "state": {
       "height": "40px",
       "width": "120px"
      }
     },
     "8065423eaf60417990795a4d0246a786": {
      "model_module": "@jupyter-widgets/controls",
      "model_module_version": "2.0.0",
      "model_name": "HTMLModel",
      "state": {
       "layout": "IPY_MODEL_893e451ca672484e96d827ff6f4223b4",
       "style": "IPY_MODEL_5c5f42ff253d455994a4cf049b480f6f",
       "value": "<h5>\"Close Tab to Exit\"</h5>"
      }
     },
     "80d71d6aac9049f3b872fdc5d5a1a40f": {
      "model_module": "@jupyter-widgets/base",
      "model_module_version": "2.0.0",
      "model_name": "LayoutModel",
      "state": {}
     },
     "8102e4c0d2d84ab2bfa4fe2c2c0e7023": {
      "model_module": "@jupyter-widgets/base",
      "model_module_version": "2.0.0",
      "model_name": "LayoutModel",
      "state": {
       "height": "55px",
       "width": "55px"
      }
     },
     "813bb598a6ae4ca88e5bc7c0011e8971": {
      "model_module": "@jupyter-widgets/base",
      "model_module_version": "2.0.0",
      "model_name": "LayoutModel",
      "state": {}
     },
     "817d325b1ee940339ffc6906ef1b838b": {
      "model_module": "@jupyter-widgets/controls",
      "model_module_version": "2.0.0",
      "model_name": "HTMLModel",
      "state": {
       "layout": "IPY_MODEL_c4dd4c0212a847c8a8028a6b56090090",
       "style": "IPY_MODEL_356510ee7b2e4a019a521fadbd8b8671",
       "value": "<h2>Body Area</h2>"
      }
     },
     "82549e2f7bb04d0bb95b89af80e7b1b1": {
      "model_module": "@jupyter-widgets/controls",
      "model_module_version": "2.0.0",
      "model_name": "ButtonModel",
      "state": {
       "description": "Photo",
       "layout": "IPY_MODEL_bac12206ddb24d0799f3e157f007592d",
       "style": "IPY_MODEL_a5374d79db9d45a2be089a33dcadf200",
       "tooltip": null
      }
     },
     "835f84c59c7a465f84f5de6b387ab93f": {
      "model_module": "@jupyter-widgets/base",
      "model_module_version": "2.0.0",
      "model_name": "LayoutModel",
      "state": {}
     },
     "838ab71889814a02b266f41c67d9a264": {
      "model_module": "@jupyter-widgets/base",
      "model_module_version": "2.0.0",
      "model_name": "LayoutModel",
      "state": {
       "height": "40px",
       "width": "120px"
      }
     },
     "83f7f02c76084fb6858355e5bb11c858": {
      "model_module": "@jupyter-widgets/base",
      "model_module_version": "2.0.0",
      "model_name": "LayoutModel",
      "state": {}
     },
     "8578140906474f65a6c9ab843865d303": {
      "model_module": "@jupyter-widgets/controls",
      "model_module_version": "2.0.0",
      "model_name": "HTMLStyleModel",
      "state": {
       "description_width": "",
       "font_size": null,
       "text_color": null
      }
     },
     "85a169486db1461a8696ab0c2db131c3": {
      "model_module": "@jupyter-widgets/controls",
      "model_module_version": "2.0.0",
      "model_name": "GridBoxModel",
      "state": {
       "layout": "IPY_MODEL_5d1b7248cde64d54b88668513f4aa7ef"
      }
     },
     "86380424742d45918211e86c8f626ee1": {
      "model_module": "@jupyter-widgets/controls",
      "model_module_version": "2.0.0",
      "model_name": "CheckboxStyleModel",
      "state": {
       "description_width": ""
      }
     },
     "87ad6617987445eb996c988d9f18f638": {
      "model_module": "@jupyter-widgets/base",
      "model_module_version": "2.0.0",
      "model_name": "LayoutModel",
      "state": {
       "height": "40px",
       "width": "120px"
      }
     },
     "87b1a1bec94e457d999bd486b4c1d4f1": {
      "model_module": "@jupyter-widgets/base",
      "model_module_version": "2.0.0",
      "model_name": "LayoutModel",
      "state": {}
     },
     "883c2c4f37514e939246ffed9f56277d": {
      "model_module": "@jupyter-widgets/base",
      "model_module_version": "2.0.0",
      "model_name": "LayoutModel",
      "state": {
       "height": "55px",
       "width": "120px"
      }
     },
     "893e451ca672484e96d827ff6f4223b4": {
      "model_module": "@jupyter-widgets/base",
      "model_module_version": "2.0.0",
      "model_name": "LayoutModel",
      "state": {}
     },
     "89ecf6345d794587af2ebea8fcf5b18a": {
      "model_module": "@jupyter-widgets/controls",
      "model_module_version": "2.0.0",
      "model_name": "CheckboxModel",
      "state": {
       "description": "lowerBody",
       "disabled": false,
       "indent": false,
       "layout": "IPY_MODEL_bc6aab4c6ef74cd586b827b79554b1a7",
       "style": "IPY_MODEL_9a2911e1404640659aa7821e3163cb00",
       "value": true
      }
     },
     "8bbe3d7131fa464aa882cb4a2f126435": {
      "model_module": "@jupyter-widgets/base",
      "model_module_version": "2.0.0",
      "model_name": "LayoutModel",
      "state": {
       "height": "55px",
       "width": "120px"
      }
     },
     "8cd8274da54b4d88bf584f20423455d1": {
      "model_module": "@jupyter-widgets/controls",
      "model_module_version": "2.0.0",
      "model_name": "ButtonStyleModel",
      "state": {
       "font_family": null,
       "font_size": null,
       "font_style": null,
       "font_variant": null,
       "font_weight": null,
       "text_color": null,
       "text_decoration": null
      }
     },
     "8db2b2b7793445f6ba77345b6b9d236f": {
      "model_module": "@jupyter-widgets/controls",
      "model_module_version": "2.0.0",
      "model_name": "CheckboxStyleModel",
      "state": {
       "description_width": ""
      }
     },
     "8db57709faaa43e1bbeacb237af7c0be": {
      "model_module": "@jupyter-widgets/controls",
      "model_module_version": "2.0.0",
      "model_name": "VBoxModel",
      "state": {
       "children": [
        "IPY_MODEL_ae96c46affc5408da39757c3ab2dfba2",
        "IPY_MODEL_79a327684f004642bd557a824d5a2b1a",
        "IPY_MODEL_99b03d91979f446c9f29235f7d621be7",
        "IPY_MODEL_d8e47d84f8424ce8ad393470cc530c77"
       ],
       "layout": "IPY_MODEL_4ce647df5250486ea978e5af6d8f040c"
      }
     },
     "8dda5516c6744a9e919d0594178eb9ec": {
      "model_module": "@jupyter-widgets/controls",
      "model_module_version": "2.0.0",
      "model_name": "CheckboxModel",
      "state": {
       "description": "olympic weightlifting",
       "disabled": false,
       "indent": false,
       "layout": "IPY_MODEL_d39db786c5e145b58ee1e6869ff883e1",
       "style": "IPY_MODEL_09ab073dd5124bb58949091bf9db3b0f",
       "value": true
      }
     },
     "8ddb67b42083468b847cee3e8ea6ccae": {
      "model_module": "@jupyter-widgets/base",
      "model_module_version": "2.0.0",
      "model_name": "LayoutModel",
      "state": {
       "height": "200px"
      }
     },
     "8f978b57900a45c88b1051a72d6c47f0": {
      "model_module": "@jupyter-widgets/controls",
      "model_module_version": "2.0.0",
      "model_name": "HTMLStyleModel",
      "state": {
       "description_width": "",
       "font_size": null,
       "text_color": null
      }
     },
     "8fc4cdee8f164ba08260dbc257032c78": {
      "model_module": "@jupyter-widgets/controls",
      "model_module_version": "2.0.0",
      "model_name": "ButtonStyleModel",
      "state": {
       "font_family": null,
       "font_size": null,
       "font_style": null,
       "font_variant": null,
       "font_weight": null,
       "text_color": null,
       "text_decoration": null
      }
     },
     "90a2d154e168451eb36b139c9004089b": {
      "model_module": "@jupyter-widgets/base",
      "model_module_version": "2.0.0",
      "model_name": "LayoutModel",
      "state": {
       "height": "40px",
       "width": "120px"
      }
     },
     "91ea74b581884f9191b828c2b85d9b0e": {
      "model_module": "@jupyter-widgets/controls",
      "model_module_version": "2.0.0",
      "model_name": "VBoxModel",
      "state": {
       "children": [
        "IPY_MODEL_e21906a5f1ac4071824a680b41dce8b3",
        "IPY_MODEL_96d6fbd399094c06bf31d41817722a16",
        "IPY_MODEL_79c68ac51a94416fb25895e425f8b0e1"
       ],
       "layout": "IPY_MODEL_a9eb6d61343944158d86619cd9242635"
      }
     },
     "92e14c7e88024166b9091e15b3bb63ca": {
      "model_module": "@jupyter-widgets/base",
      "model_module_version": "2.0.0",
      "model_name": "LayoutModel",
      "state": {
       "height": "55px",
       "width": "55px"
      }
     },
     "92e8b494d76c460cb77efbbddfbc3dcb": {
      "model_module": "@jupyter-widgets/controls",
      "model_module_version": "2.0.0",
      "model_name": "CheckboxModel",
      "state": {
       "description": "exercise ball",
       "disabled": false,
       "indent": false,
       "layout": "IPY_MODEL_4b293a46ce914308b43d12cab0496adf",
       "style": "IPY_MODEL_17f8daad10a844289f8a4b04d74d0dd3",
       "value": true
      }
     },
     "9553388d59104d65a08ac317901c1df2": {
      "model_module": "@jupyter-widgets/controls",
      "model_module_version": "2.0.0",
      "model_name": "ButtonStyleModel",
      "state": {
       "font_family": null,
       "font_size": null,
       "font_style": null,
       "font_variant": null,
       "font_weight": null,
       "text_color": null,
       "text_decoration": null
      }
     },
     "9592a1b638c942b18a4b0a4a80adf8ec": {
      "model_module": "@jupyter-widgets/base",
      "model_module_version": "2.0.0",
      "model_name": "LayoutModel",
      "state": {}
     },
     "9654c9a949794965a956185470fd9534": {
      "model_module": "@jupyter-widgets/controls",
      "model_module_version": "2.0.0",
      "model_name": "ButtonStyleModel",
      "state": {
       "font_family": null,
       "font_size": null,
       "font_style": null,
       "font_variant": null,
       "font_weight": null,
       "text_color": null,
       "text_decoration": null
      }
     },
     "96d6fbd399094c06bf31d41817722a16": {
      "model_module": "@jupyter-widgets/controls",
      "model_module_version": "2.0.0",
      "model_name": "CheckboxModel",
      "state": {
       "description": "Core",
       "disabled": false,
       "indent": false,
       "layout": "IPY_MODEL_d33ef0cbd4134bb9b627f6e22264e469",
       "style": "IPY_MODEL_4b8d00768cb045b3a5f4b2ea2e2b36e9",
       "value": true
      }
     },
     "988cec9dadbf4a96b2d79206af031673": {
      "model_module": "@jupyter-widgets/base",
      "model_module_version": "2.0.0",
      "model_name": "LayoutModel",
      "state": {
       "height": "120px",
       "width": "100px"
      }
     },
     "98e4847361e94de1a4eff50403da04d8": {
      "model_module": "@jupyter-widgets/controls",
      "model_module_version": "2.0.0",
      "model_name": "HBoxModel",
      "state": {
       "children": [
        "IPY_MODEL_2aff7f70532a40f497798a7dd2233071"
       ],
       "layout": "IPY_MODEL_31f971890792476f9cbd3bfce3be0f45"
      }
     },
     "99b03d91979f446c9f29235f7d621be7": {
      "model_module": "@jupyter-widgets/controls",
      "model_module_version": "2.0.0",
      "model_name": "CheckboxModel",
      "state": {
       "description": "olympic weightlifting",
       "disabled": false,
       "indent": false,
       "layout": "IPY_MODEL_d0a290b08f0b463f8035fac7846c1635",
       "style": "IPY_MODEL_0767cb2fe207406b9a6270d528b6be58",
       "value": true
      }
     },
     "99bca7b0cb2c43f1b1333db9dc46ef60": {
      "model_module": "@jupyter-widgets/base",
      "model_module_version": "2.0.0",
      "model_name": "LayoutModel",
      "state": {}
     },
     "9a2911e1404640659aa7821e3163cb00": {
      "model_module": "@jupyter-widgets/controls",
      "model_module_version": "2.0.0",
      "model_name": "CheckboxStyleModel",
      "state": {
       "description_width": ""
      }
     },
     "9a9ba3ca2d6b4a1b890bee2d025707cc": {
      "model_module": "@jupyter-widgets/controls",
      "model_module_version": "2.0.0",
      "model_name": "CheckboxStyleModel",
      "state": {
       "description_width": ""
      }
     },
     "9b35a252090a4a37b60665759cd7e217": {
      "model_module": "@jupyter-widgets/controls",
      "model_module_version": "2.0.0",
      "model_name": "ButtonStyleModel",
      "state": {
       "font_family": null,
       "font_size": null,
       "font_style": null,
       "font_variant": null,
       "font_weight": null,
       "text_color": null,
       "text_decoration": null
      }
     },
     "9e89adb921864d558f154ad28a8b7421": {
      "model_module": "@jupyter-widgets/base",
      "model_module_version": "2.0.0",
      "model_name": "LayoutModel",
      "state": {
       "height": "120px",
       "width": "100px"
      }
     },
     "9fb9e5291d5543899ef228488415492d": {
      "model_module": "@jupyter-widgets/controls",
      "model_module_version": "2.0.0",
      "model_name": "ButtonModel",
      "state": {
       "description": "Photo",
       "layout": "IPY_MODEL_a743b8f6245b42da8cc98b3a9b0936d7",
       "style": "IPY_MODEL_c57fb3c53a104dd8bced84e476cec2f0",
       "tooltip": null
      }
     },
     "a13fff1b45a24dffb0a416371dc1c045": {
      "model_module": "@jupyter-widgets/controls",
      "model_module_version": "2.0.0",
      "model_name": "ButtonModel",
      "state": {
       "description": "Clear",
       "layout": "IPY_MODEL_65e39517c6a64d4f939448f6641082df",
       "style": "IPY_MODEL_59f0113bf1e04fabb12c485c6ec72d93",
       "tooltip": null
      }
     },
     "a17752fa33b14dff97edb898ced7bf52": {
      "model_module": "@jupyter-widgets/base",
      "model_module_version": "2.0.0",
      "model_name": "LayoutModel",
      "state": {
       "height": "40px",
       "width": "120px"
      }
     },
     "a1ec869555924756898842d938814151": {
      "model_module": "@jupyter-widgets/base",
      "model_module_version": "2.0.0",
      "model_name": "LayoutModel",
      "state": {}
     },
     "a291197eac6e4865bcd9fca86b2ed107": {
      "model_module": "@jupyter-widgets/controls",
      "model_module_version": "2.0.0",
      "model_name": "HBoxModel",
      "state": {
       "children": [
        "IPY_MODEL_100fc824b0144ddabc63473b44184fe0",
        "IPY_MODEL_a3e15940f63f42d38df678ea7774bab8",
        "IPY_MODEL_df291a66756c4b9485c36ce9b3a9d95a",
        "IPY_MODEL_0320155168ca413c9dd3564a3cc7a145"
       ],
       "layout": "IPY_MODEL_7a672bea1ee84a848330ecd4daf3379e"
      }
     },
     "a3e15940f63f42d38df678ea7774bab8": {
      "model_module": "@jupyter-widgets/controls",
      "model_module_version": "2.0.0",
      "model_name": "VBoxModel",
      "state": {
       "children": [
        "IPY_MODEL_005481bbf2a74f9ca3f788097945b712"
       ],
       "layout": "IPY_MODEL_813bb598a6ae4ca88e5bc7c0011e8971"
      }
     },
     "a41a4edd9bc64b408f838e972dfe3a83": {
      "model_module": "@jupyter-widgets/controls",
      "model_module_version": "2.0.0",
      "model_name": "HTMLStyleModel",
      "state": {
       "description_width": "",
       "font_size": null,
       "text_color": null
      }
     },
     "a4428817a98b4b249dd9d0dc7bd85009": {
      "model_module": "@jupyter-widgets/base",
      "model_module_version": "2.0.0",
      "model_name": "LayoutModel",
      "state": {}
     },
     "a5374d79db9d45a2be089a33dcadf200": {
      "model_module": "@jupyter-widgets/controls",
      "model_module_version": "2.0.0",
      "model_name": "ButtonStyleModel",
      "state": {
       "font_family": null,
       "font_size": null,
       "font_style": null,
       "font_variant": null,
       "font_weight": null,
       "text_color": null,
       "text_decoration": null
      }
     },
     "a53ca205d0fc49b294b9f62e56ebaa25": {
      "model_module": "@jupyter-widgets/base",
      "model_module_version": "2.0.0",
      "model_name": "LayoutModel",
      "state": {
       "height": "40px",
       "width": "120px"
      }
     },
     "a54df32eaec14279bc3137f9ad841a24": {
      "model_module": "@jupyter-widgets/controls",
      "model_module_version": "2.0.0",
      "model_name": "ButtonModel",
      "state": {
       "description": "Run",
       "layout": "IPY_MODEL_9e89adb921864d558f154ad28a8b7421",
       "style": "IPY_MODEL_9654c9a949794965a956185470fd9534",
       "tooltip": null
      }
     },
     "a620ab61033441fe9f16984631d409ca": {
      "model_module": "@jupyter-widgets/controls",
      "model_module_version": "2.0.0",
      "model_name": "HTMLStyleModel",
      "state": {
       "description_width": "",
       "font_size": null,
       "text_color": null
      }
     },
     "a6fcb265c5e6499f9e5142bb36e0cb1d": {
      "model_module": "@jupyter-widgets/base",
      "model_module_version": "2.0.0",
      "model_name": "LayoutModel",
      "state": {}
     },
     "a743b8f6245b42da8cc98b3a9b0936d7": {
      "model_module": "@jupyter-widgets/base",
      "model_module_version": "2.0.0",
      "model_name": "LayoutModel",
      "state": {
       "height": "55px",
       "width": "80px"
      }
     },
     "a89837a27a0745f49451b4b1b71f671c": {
      "model_module": "@jupyter-widgets/controls",
      "model_module_version": "2.0.0",
      "model_name": "ButtonModel",
      "state": {
       "description": "Instruction",
       "icon": "comment",
       "layout": "IPY_MODEL_883c2c4f37514e939246ffed9f56277d",
       "style": "IPY_MODEL_8fc4cdee8f164ba08260dbc257032c78",
       "tooltip": "0"
      }
     },
     "a95e813a7784408c808d744e3d2cdc8a": {
      "model_module": "@jupyter-widgets/controls",
      "model_module_version": "2.0.0",
      "model_name": "ButtonStyleModel",
      "state": {
       "font_family": null,
       "font_size": null,
       "font_style": null,
       "font_variant": null,
       "font_weight": null,
       "text_color": null,
       "text_decoration": null
      }
     },
     "a9eb6d61343944158d86619cd9242635": {
      "model_module": "@jupyter-widgets/base",
      "model_module_version": "2.0.0",
      "model_name": "LayoutModel",
      "state": {}
     },
     "aaf2a8a66eae49809e1bb8ea4347a2f6": {
      "model_module": "@jupyter-widgets/controls",
      "model_module_version": "2.0.0",
      "model_name": "CheckboxModel",
      "state": {
       "description": "strength",
       "disabled": false,
       "indent": false,
       "layout": "IPY_MODEL_c88871517f234c24bcc911c16bfd75f5",
       "style": "IPY_MODEL_4f53eea4879645bd9aebb2ffb09988e2",
       "value": true
      }
     },
     "abc7576fc6ec49fda625b520e492b5ea": {
      "model_module": "@jupyter-widgets/controls",
      "model_module_version": "2.0.0",
      "model_name": "HTMLStyleModel",
      "state": {
       "description_width": "",
       "font_size": null,
       "text_color": null
      }
     },
     "ac760b39a7174de8934257b8e14b8b06": {
      "model_module": "@jupyter-widgets/controls",
      "model_module_version": "2.0.0",
      "model_name": "HBoxModel",
      "state": {
       "children": [
        "IPY_MODEL_be37a6f23f724c0e82294255cf2d7a60"
       ],
       "layout": "IPY_MODEL_d9a2a4c5f9374b0eb9d187e0c958946f"
      }
     },
     "acc7ac544449450b98b7cc9651943546": {
      "model_module": "@jupyter-widgets/base",
      "model_module_version": "2.0.0",
      "model_name": "LayoutModel",
      "state": {}
     },
     "acefebac854443acaab2f6da708059d1": {
      "model_module": "@jupyter-widgets/base",
      "model_module_version": "2.0.0",
      "model_name": "LayoutModel",
      "state": {}
     },
     "ad038b472ba144adab715572e0ea0461": {
      "model_module": "@jupyter-widgets/controls",
      "model_module_version": "2.0.0",
      "model_name": "CheckboxModel",
      "state": {
       "description": "barbell",
       "disabled": false,
       "indent": false,
       "layout": "IPY_MODEL_57eeef35a4b94577b15443f878fb45e1",
       "style": "IPY_MODEL_d72ea6d68f47445a8f56db0b4ea05c8a",
       "value": true
      }
     },
     "ae96c46affc5408da39757c3ab2dfba2": {
      "model_module": "@jupyter-widgets/controls",
      "model_module_version": "2.0.0",
      "model_name": "CheckboxModel",
      "state": {
       "description": "powerlifting",
       "disabled": false,
       "indent": false,
       "layout": "IPY_MODEL_1b418c77f8a242699dbd7e4a3736dd21",
       "style": "IPY_MODEL_bd1f55196299483bbc44d497fb6be8bc",
       "value": true
      }
     },
     "af826c1c46a140dbb8f879999999044b": {
      "model_module": "@jupyter-widgets/base",
      "model_module_version": "2.0.0",
      "model_name": "LayoutModel",
      "state": {
       "height": "40px",
       "width": "120px"
      }
     },
     "afa90d0156734159b6e372f2d2ef72ea": {
      "model_module": "@jupyter-widgets/controls",
      "model_module_version": "2.0.0",
      "model_name": "CheckboxStyleModel",
      "state": {
       "description_width": ""
      }
     },
     "b018f80555da4bf780bd2f0a0cfa3472": {
      "model_module": "@jupyter-widgets/controls",
      "model_module_version": "2.0.0",
      "model_name": "CheckboxStyleModel",
      "state": {
       "description_width": ""
      }
     },
     "b0348f292c5b42789108131adccb1eaf": {
      "model_module": "@jupyter-widgets/controls",
      "model_module_version": "2.0.0",
      "model_name": "VBoxModel",
      "state": {
       "children": [
        "IPY_MODEL_e7a407314a4d42a480552daec6f9ffe9",
        "IPY_MODEL_5b974b2986364f5f8da941f5f5b6a39f",
        "IPY_MODEL_d81da56fcd11432b9bccc45064785933"
       ],
       "layout": "IPY_MODEL_168a2d4b6b6a4698b659a05205aaeeaa"
      }
     },
     "b09afb9f67b54d8a8239da34026345f2": {
      "model_module": "@jupyter-widgets/controls",
      "model_module_version": "2.0.0",
      "model_name": "CheckboxStyleModel",
      "state": {
       "description_width": ""
      }
     },
     "b14aa436b866425faedb0aab90b3a6dc": {
      "model_module": "@jupyter-widgets/controls",
      "model_module_version": "2.0.0",
      "model_name": "ButtonModel",
      "state": {
       "description": "Instruction",
       "icon": "comment",
       "layout": "IPY_MODEL_ff6f2282d3fd474cb146d4add2d75f81",
       "style": "IPY_MODEL_27ab16e1112140e0a7868c6e3863aa92",
       "tooltip": "1"
      }
     },
     "b18cbc7a2736483d93a0613c9882c7ed": {
      "model_module": "@jupyter-widgets/base",
      "model_module_version": "2.0.0",
      "model_name": "LayoutModel",
      "state": {
       "height": "40px",
       "width": "120px"
      }
     },
     "b2e4bd9e48c94cf799f09c267fb4b35d": {
      "model_module": "@jupyter-widgets/controls",
      "model_module_version": "2.0.0",
      "model_name": "CheckboxModel",
      "state": {
       "description": "upperBody",
       "disabled": false,
       "indent": false,
       "layout": "IPY_MODEL_b8b5d2b4fe6940d8ba530fc56dbc16a6",
       "style": "IPY_MODEL_2edc6118f4684cfb960a27931ba42415",
       "value": true
      }
     },
     "b3023e26b96848a48882c0186ba5c255": {
      "model_module": "@jupyter-widgets/controls",
      "model_module_version": "2.0.0",
      "model_name": "CheckboxStyleModel",
      "state": {
       "description_width": ""
      }
     },
     "b49231abc3ba40768ebc7231ebb38064": {
      "model_module": "@jupyter-widgets/controls",
      "model_module_version": "2.0.0",
      "model_name": "CheckboxModel",
      "state": {
       "description": "dumbbell",
       "disabled": false,
       "indent": false,
       "layout": "IPY_MODEL_19e84a74543e44a8a73be544b20bb772",
       "style": "IPY_MODEL_1e0ccf1f3ead456f9444af8c48edb945",
       "value": true
      }
     },
     "b582dd1089d946d9b82f1713816c77f8": {
      "model_module": "@jupyter-widgets/controls",
      "model_module_version": "2.0.0",
      "model_name": "CheckboxStyleModel",
      "state": {
       "description_width": ""
      }
     },
     "b771fc1d02ee41bf8e406c41981cdc50": {
      "model_module": "@jupyter-widgets/controls",
      "model_module_version": "2.0.0",
      "model_name": "CheckboxStyleModel",
      "state": {
       "description_width": ""
      }
     },
     "b8b5d2b4fe6940d8ba530fc56dbc16a6": {
      "model_module": "@jupyter-widgets/base",
      "model_module_version": "2.0.0",
      "model_name": "LayoutModel",
      "state": {
       "height": "40px",
       "width": "120px"
      }
     },
     "b8d944783a0d4ac3ae5add72dc08f790": {
      "model_module": "@jupyter-widgets/controls",
      "model_module_version": "2.0.0",
      "model_name": "HTMLStyleModel",
      "state": {
       "description_width": "",
       "font_size": null,
       "text_color": null
      }
     },
     "b8f2709bfdc14bd8af8c18d0c63465aa": {
      "model_module": "@jupyter-widgets/controls",
      "model_module_version": "2.0.0",
      "model_name": "ButtonModel",
      "state": {
       "description": "Close",
       "layout": "IPY_MODEL_73c37f27312846bbbdb448396af505aa",
       "style": "IPY_MODEL_e7f747ca03704742a9004693e6808678",
       "tooltip": null
      }
     },
     "ba66afb27852427a990f57810b904188": {
      "model_module": "@jupyter-widgets/controls",
      "model_module_version": "2.0.0",
      "model_name": "ButtonModel",
      "state": {
       "description": "Close",
       "layout": "IPY_MODEL_077b02cd94824ab9868c34a026088aac",
       "style": "IPY_MODEL_4a36d94d8a9145589fdbfeb496e0e465",
       "tooltip": null
      }
     },
     "bac12206ddb24d0799f3e157f007592d": {
      "model_module": "@jupyter-widgets/base",
      "model_module_version": "2.0.0",
      "model_name": "LayoutModel",
      "state": {
       "height": "55px",
       "width": "80px"
      }
     },
     "bc6aab4c6ef74cd586b827b79554b1a7": {
      "model_module": "@jupyter-widgets/base",
      "model_module_version": "2.0.0",
      "model_name": "LayoutModel",
      "state": {
       "height": "40px",
       "width": "120px"
      }
     },
     "bc77151606844701b3182061adada7cc": {
      "model_module": "@jupyter-widgets/base",
      "model_module_version": "2.0.0",
      "model_name": "LayoutModel",
      "state": {}
     },
     "bd1f55196299483bbc44d497fb6be8bc": {
      "model_module": "@jupyter-widgets/controls",
      "model_module_version": "2.0.0",
      "model_name": "CheckboxStyleModel",
      "state": {
       "description_width": ""
      }
     },
     "be37a6f23f724c0e82294255cf2d7a60": {
      "model_module": "@jupyter-widgets/controls",
      "model_module_version": "2.0.0",
      "model_name": "HTMLModel",
      "state": {
       "layout": "IPY_MODEL_f6ca52dc04404209b5fcd787bcd60ce2",
       "style": "IPY_MODEL_d44525c3e794441fbf2b7f0edba8e698",
       "value": "<h3>Upper Body</h3>"
      }
     },
     "be8da9969fba4f9dbe792423ee5542e8": {
      "model_module": "@jupyter-widgets/controls",
      "model_module_version": "2.0.0",
      "model_name": "VBoxModel",
      "state": {
       "children": [
        "IPY_MODEL_d28ef498c4014037a5d8902133a0389f",
        "IPY_MODEL_7d983f4b2e874cac98dc1adacdcd5592",
        "IPY_MODEL_41fb2e4e309046419800fa911df956de",
        "IPY_MODEL_92e8b494d76c460cb77efbbddfbc3dcb"
       ],
       "layout": "IPY_MODEL_c83a885209d241609328382993a92afd"
      }
     },
     "bea2da7562dc4e8eaaf002a23ef913e9": {
      "model_module": "@jupyter-widgets/base",
      "model_module_version": "2.0.0",
      "model_name": "LayoutModel",
      "state": {}
     },
     "bf1cc9e30eb14c3b856b92c8914a491e": {
      "model_module": "@jupyter-widgets/controls",
      "model_module_version": "2.0.0",
      "model_name": "VBoxModel",
      "state": {
       "children": [
        "IPY_MODEL_e2e4b507e1aa44ce979eccd70596a29c",
        "IPY_MODEL_69856ed5438c41db88d41da5e5144619",
        "IPY_MODEL_caa7ce8f1b99481aafe1c83d047cad25",
        "IPY_MODEL_3f8f8ef98ca1483d8416de132d69b7f5"
       ],
       "layout": "IPY_MODEL_24cf4551fb9c4bbf9dbde45d1a83a802"
      }
     },
     "c1818160da2c47e1bdcb95af6192c662": {
      "model_module": "@jupyter-widgets/base",
      "model_module_version": "2.0.0",
      "model_name": "LayoutModel",
      "state": {}
     },
     "c29e9555aadd446dbfe9554eeb2e83c7": {
      "model_module": "@jupyter-widgets/controls",
      "model_module_version": "2.0.0",
      "model_name": "ButtonModel",
      "state": {
       "description": "Run",
       "layout": "IPY_MODEL_422a83f15bc84bfeae7bf91ebff84b49",
       "style": "IPY_MODEL_9b35a252090a4a37b60665759cd7e217",
       "tooltip": null
      }
     },
     "c29ec5342bf14129a2251dcd4b925d58": {
      "model_module": "@jupyter-widgets/controls",
      "model_module_version": "2.0.0",
      "model_name": "HBoxModel",
      "state": {
       "children": [
        "IPY_MODEL_91ea74b581884f9191b828c2b85d9b0e",
        "IPY_MODEL_b8f2709bfdc14bd8af8c18d0c63465aa"
       ],
       "layout": "IPY_MODEL_e4e7ebadc418456aab916fda73c85a23"
      }
     },
     "c2aebb233d5247bf8de661df0b79a6ef": {
      "model_module": "@jupyter-widgets/base",
      "model_module_version": "2.0.0",
      "model_name": "LayoutModel",
      "state": {}
     },
     "c2eb98ab3dba46b39a5428c1d163cb5a": {
      "model_module": "@jupyter-widgets/base",
      "model_module_version": "2.0.0",
      "model_name": "LayoutModel",
      "state": {
       "align_items": "stretch",
       "display": "flex",
       "flex_flow": "row",
       "justify_content": "space-around",
       "width": "80%"
      }
     },
     "c323d78eab824823aca07615438f42dc": {
      "model_module": "@jupyter-widgets/controls",
      "model_module_version": "2.0.0",
      "model_name": "VBoxModel",
      "state": {
       "children": [
        "IPY_MODEL_3b423cb1331446f2a9ee8713c74c4acd",
        "IPY_MODEL_67f4f857017b4b8aa02bc5031bcaedf4",
        "IPY_MODEL_d817dcf711f54c28a8a309ea0fb956dc",
        "IPY_MODEL_2881dcfc2dd14eaa8ccaea09acb4d2f5"
       ],
       "layout": "IPY_MODEL_acc7ac544449450b98b7cc9651943546"
      }
     },
     "c3f7ca141caa48fd886b50b2ed5350fe": {
      "model_module": "@jupyter-widgets/base",
      "model_module_version": "2.0.0",
      "model_name": "LayoutModel",
      "state": {
       "height": "40px",
       "width": "120px"
      }
     },
     "c40a3ffe375c4aaebe16c1e66abf763d": {
      "model_module": "@jupyter-widgets/controls",
      "model_module_version": "2.0.0",
      "model_name": "HTMLStyleModel",
      "state": {
       "description_width": "",
       "font_size": null,
       "text_color": null
      }
     },
     "c4438fb0eb744982a0d7863e483aed0c": {
      "model_module": "@jupyter-widgets/controls",
      "model_module_version": "2.0.0",
      "model_name": "HBoxModel",
      "state": {
       "children": [
        "IPY_MODEL_5d0ad1330a9740b88b431f4656f02192"
       ],
       "layout": "IPY_MODEL_bc77151606844701b3182061adada7cc"
      }
     },
     "c49a69edc39942c4818683fb1b6cfe92": {
      "model_module": "@jupyter-widgets/base",
      "model_module_version": "2.0.0",
      "model_name": "LayoutModel",
      "state": {}
     },
     "c4c6f0c3974e467e98f7cc35de480e01": {
      "model_module": "@jupyter-widgets/controls",
      "model_module_version": "2.0.0",
      "model_name": "VBoxModel",
      "state": {
       "children": [
        "IPY_MODEL_cd9221cff79e434da59c23228aed2e2e",
        "IPY_MODEL_6cbf81dc0709472499df7e27ee9832f8",
        "IPY_MODEL_de56aec18d2b4e899a1e5ab5f59abe4a",
        "IPY_MODEL_5062ca761d844b83819548d6982e1d92"
       ],
       "layout": "IPY_MODEL_db51efa30e45475f9348fb9034c3588c"
      }
     },
     "c4dd4c0212a847c8a8028a6b56090090": {
      "model_module": "@jupyter-widgets/base",
      "model_module_version": "2.0.0",
      "model_name": "LayoutModel",
      "state": {}
     },
     "c57fb3c53a104dd8bced84e476cec2f0": {
      "model_module": "@jupyter-widgets/controls",
      "model_module_version": "2.0.0",
      "model_name": "ButtonStyleModel",
      "state": {
       "font_family": null,
       "font_size": null,
       "font_style": null,
       "font_variant": null,
       "font_weight": null,
       "text_color": null,
       "text_decoration": null
      }
     },
     "c58d1c25f9794c2aac5bed7c26620c2c": {
      "model_module": "@jupyter-widgets/controls",
      "model_module_version": "2.0.0",
      "model_name": "HBoxModel",
      "state": {
       "children": [
        "IPY_MODEL_0c707f41fe364513900ef40e18556b2b",
        "IPY_MODEL_b0348f292c5b42789108131adccb1eaf",
        "IPY_MODEL_60cdb7d8b17d4c66b0a38f6090e9f833"
       ],
       "layout": "IPY_MODEL_512ac17c46314fbea3ae582a986a9b22"
      }
     },
     "c620e5cbc840452786a32648d6844dd7": {
      "model_module": "@jupyter-widgets/controls",
      "model_module_version": "2.0.0",
      "model_name": "ButtonModel",
      "state": {
       "description": "Clear",
       "layout": "IPY_MODEL_261bed4ca7954242b71439b204cd0283",
       "style": "IPY_MODEL_9553388d59104d65a08ac317901c1df2",
       "tooltip": null
      }
     },
     "c68f5f4a72dc4a3485ca4c89ba81ffa0": {
      "model_module": "@jupyter-widgets/controls",
      "model_module_version": "2.0.0",
      "model_name": "ButtonStyleModel",
      "state": {
       "font_family": null,
       "font_size": null,
       "font_style": null,
       "font_variant": null,
       "font_weight": null,
       "text_color": null,
       "text_decoration": null
      }
     },
     "c7c00d17d83748bb85c9809eee2d674a": {
      "model_module": "@jupyter-widgets/controls",
      "model_module_version": "2.0.0",
      "model_name": "ButtonModel",
      "state": {
       "description": "Body Area",
       "layout": "IPY_MODEL_38b7399f822d4a59b16f4fe2bc388cff",
       "style": "IPY_MODEL_e040baca8848461485977c1bfe489f85",
       "tooltip": null
      }
     },
     "c83a885209d241609328382993a92afd": {
      "model_module": "@jupyter-widgets/base",
      "model_module_version": "2.0.0",
      "model_name": "LayoutModel",
      "state": {}
     },
     "c88871517f234c24bcc911c16bfd75f5": {
      "model_module": "@jupyter-widgets/base",
      "model_module_version": "2.0.0",
      "model_name": "LayoutModel",
      "state": {
       "height": "40px",
       "width": "120px"
      }
     },
     "c9ffb479e84a4a6da049915d9ffb90cb": {
      "model_module": "@jupyter-widgets/controls",
      "model_module_version": "2.0.0",
      "model_name": "CheckboxStyleModel",
      "state": {
       "description_width": ""
      }
     },
     "ca3eb432a6b4431d9cc46eae48581237": {
      "model_module": "@jupyter-widgets/base",
      "model_module_version": "2.0.0",
      "model_name": "LayoutModel",
      "state": {
       "height": "40px",
       "width": "120px"
      }
     },
     "ca5c7755b64f4f4bb60ce8bd07496296": {
      "model_module": "@jupyter-widgets/controls",
      "model_module_version": "2.0.0",
      "model_name": "ButtonModel",
      "state": {
       "description": "Close",
       "layout": "IPY_MODEL_6e6442ae52ab46509de75f6de5ba2216",
       "style": "IPY_MODEL_a95e813a7784408c808d744e3d2cdc8a",
       "tooltip": null
      }
     },
     "caa7ce8f1b99481aafe1c83d047cad25": {
      "model_module": "@jupyter-widgets/controls",
      "model_module_version": "2.0.0",
      "model_name": "CheckboxModel",
      "state": {
       "description": "machine",
       "disabled": false,
       "indent": false,
       "layout": "IPY_MODEL_729e39aab1844d8aa8ca4298b6dee90a",
       "style": "IPY_MODEL_5d01830049804b6e9e26b4965b98b5c5",
       "value": true
      }
     },
     "cc93a98b3f49409caab3ed7defd4e417": {
      "model_module": "@jupyter-widgets/controls",
      "model_module_version": "2.0.0",
      "model_name": "ButtonModel",
      "state": {
       "description": "Exit",
       "layout": "IPY_MODEL_173c4ccc737745c08c1776d19c7425b2",
       "style": "IPY_MODEL_127d7d2db98842a8a243df7448c3ffcc",
       "tooltip": null
      }
     },
     "cd84b3c3a60c44869dca1c549e231b93": {
      "model_module": "@jupyter-widgets/base",
      "model_module_version": "2.0.0",
      "model_name": "LayoutModel",
      "state": {
       "height": "120px",
       "width": "100px"
      }
     },
     "cd9221cff79e434da59c23228aed2e2e": {
      "model_module": "@jupyter-widgets/controls",
      "model_module_version": "2.0.0",
      "model_name": "CheckboxModel",
      "state": {
       "description": "body only",
       "disabled": false,
       "indent": false,
       "layout": "IPY_MODEL_6434100a838f43549c7116cf053f0ce6",
       "style": "IPY_MODEL_6fb5ffa9489f4819b9355534a9e2e1ba",
       "value": true
      }
     },
     "cdcd1ee9d66d4b7188e9b150adda2ae1": {
      "model_module": "@jupyter-widgets/controls",
      "model_module_version": "2.0.0",
      "model_name": "HBoxModel",
      "state": {
       "children": [
        "IPY_MODEL_2cc4f6d66ed8429ba90787f1b84e5080"
       ],
       "layout": "IPY_MODEL_9592a1b638c942b18a4b0a4a80adf8ec"
      }
     },
     "cf5c86fa2ba340409f8f43a016bc386f": {
      "model_module": "@jupyter-widgets/controls",
      "model_module_version": "2.0.0",
      "model_name": "CheckboxModel",
      "state": {
       "description": "strongman",
       "disabled": false,
       "indent": false,
       "layout": "IPY_MODEL_6058e1a0b37045a28adfd3a4a8304cd4",
       "style": "IPY_MODEL_1c99d1b110df49b1baf414384349a708",
       "value": true
      }
     },
     "cff8dd85b41e46a39ec1c8aafc6480d8": {
      "model_module": "@jupyter-widgets/base",
      "model_module_version": "2.0.0",
      "model_name": "LayoutModel",
      "state": {}
     },
     "d02bf845896b43268bec7b9c993f3651": {
      "model_module": "@jupyter-widgets/base",
      "model_module_version": "2.0.0",
      "model_name": "LayoutModel",
      "state": {}
     },
     "d0a290b08f0b463f8035fac7846c1635": {
      "model_module": "@jupyter-widgets/base",
      "model_module_version": "2.0.0",
      "model_name": "LayoutModel",
      "state": {
       "height": "40px",
       "width": "120px"
      }
     },
     "d1bf6f2cb9e24a7082edc0882cd761cb": {
      "model_module": "@jupyter-widgets/controls",
      "model_module_version": "2.0.0",
      "model_name": "CheckboxModel",
      "state": {
       "description": "foam roll",
       "disabled": false,
       "indent": false,
       "layout": "IPY_MODEL_08e2454379464f9b830046ce66a4eeb2",
       "style": "IPY_MODEL_5aa8fed4f77a464f857f11a53fb7ecd8",
       "value": true
      }
     },
     "d28ef498c4014037a5d8902133a0389f": {
      "model_module": "@jupyter-widgets/controls",
      "model_module_version": "2.0.0",
      "model_name": "CheckboxModel",
      "state": {
       "description": "medicine ball",
       "disabled": false,
       "indent": false,
       "layout": "IPY_MODEL_02992f66262b44cfb6c20753625765b8",
       "style": "IPY_MODEL_ebf1360c35034a508f9dc2af62aed515",
       "value": true
      }
     },
     "d33ef0cbd4134bb9b627f6e22264e469": {
      "model_module": "@jupyter-widgets/base",
      "model_module_version": "2.0.0",
      "model_name": "LayoutModel",
      "state": {
       "height": "40px",
       "width": "120px"
      }
     },
     "d39db786c5e145b58ee1e6869ff883e1": {
      "model_module": "@jupyter-widgets/base",
      "model_module_version": "2.0.0",
      "model_name": "LayoutModel",
      "state": {
       "height": "40px",
       "width": "120px"
      }
     },
     "d44525c3e794441fbf2b7f0edba8e698": {
      "model_module": "@jupyter-widgets/controls",
      "model_module_version": "2.0.0",
      "model_name": "HTMLStyleModel",
      "state": {
       "description_width": "",
       "font_size": null,
       "text_color": null
      }
     },
     "d49999056416496db681208bca4cc559": {
      "model_module": "@jupyter-widgets/base",
      "model_module_version": "2.0.0",
      "model_name": "LayoutModel",
      "state": {}
     },
     "d4de5d7e753546dfab4d50653440d7e5": {
      "model_module": "@jupyter-widgets/controls",
      "model_module_version": "2.0.0",
      "model_name": "HTMLModel",
      "state": {
       "layout": "IPY_MODEL_ec9351583ae141019d5baabe4c5fdb17",
       "style": "IPY_MODEL_e281eacd6bee44e7a909ae1c02004362",
       "value": "<h5>\"Close Tab to Exit\"</h5>"
      }
     },
     "d50bd1c83db24377bf26b1c75eb5e51e": {
      "model_module": "@jupyter-widgets/controls",
      "model_module_version": "2.0.0",
      "model_name": "CheckboxModel",
      "state": {
       "description": "plyometrics",
       "disabled": false,
       "indent": false,
       "layout": "IPY_MODEL_ec6555b37a114d6a948399268ad42dc5",
       "style": "IPY_MODEL_4da138c4dc8445e58912253bd19dd6f1",
       "value": true
      }
     },
     "d5144451c1ec4dccb58b53140525f257": {
      "model_module": "@jupyter-widgets/base",
      "model_module_version": "2.0.0",
      "model_name": "LayoutModel",
      "state": {}
     },
     "d5ef86182cd54bc0b010a6c3a516fff4": {
      "model_module": "@jupyter-widgets/base",
      "model_module_version": "2.0.0",
      "model_name": "LayoutModel",
      "state": {}
     },
     "d63195f11fd94356b3a1653a9cbfa6c1": {
      "model_module": "@jupyter-widgets/base",
      "model_module_version": "2.0.0",
      "model_name": "LayoutModel",
      "state": {
       "height": "55px",
       "width": "55px"
      }
     },
     "d72ea6d68f47445a8f56db0b4ea05c8a": {
      "model_module": "@jupyter-widgets/controls",
      "model_module_version": "2.0.0",
      "model_name": "CheckboxStyleModel",
      "state": {
       "description_width": ""
      }
     },
     "d77413c0ab2f44749248e5f114ba337e": {
      "model_module": "@jupyter-widgets/controls",
      "model_module_version": "2.0.0",
      "model_name": "ButtonModel",
      "state": {
       "description": "Close",
       "layout": "IPY_MODEL_769f31b944ba47d9bff8d18702fa51f8",
       "style": "IPY_MODEL_6f8c5a6ed05641f79a391c5474887087",
       "tooltip": null
      }
     },
     "d817dcf711f54c28a8a309ea0fb956dc": {
      "model_module": "@jupyter-widgets/controls",
      "model_module_version": "2.0.0",
      "model_name": "CheckboxModel",
      "state": {
       "description": "cable",
       "disabled": false,
       "indent": false,
       "layout": "IPY_MODEL_87ad6617987445eb996c988d9f18f638",
       "style": "IPY_MODEL_86380424742d45918211e86c8f626ee1",
       "value": true
      }
     },
     "d81da56fcd11432b9bccc45064785933": {
      "model_module": "@jupyter-widgets/controls",
      "model_module_version": "2.0.0",
      "model_name": "CheckboxModel",
      "state": {
       "description": "strongman",
       "disabled": false,
       "indent": false,
       "layout": "IPY_MODEL_ca3eb432a6b4431d9cc46eae48581237",
       "style": "IPY_MODEL_afa90d0156734159b6e372f2d2ef72ea",
       "value": true
      }
     },
     "d8481c830d1d4048beb468ff97d1a670": {
      "model_module": "@jupyter-widgets/base",
      "model_module_version": "2.0.0",
      "model_name": "LayoutModel",
      "state": {
       "height": "40px",
       "width": "120px"
      }
     },
     "d8e47d84f8424ce8ad393470cc530c77": {
      "model_module": "@jupyter-widgets/controls",
      "model_module_version": "2.0.0",
      "model_name": "CheckboxModel",
      "state": {
       "description": "plyometrics",
       "disabled": false,
       "indent": false,
       "layout": "IPY_MODEL_d8481c830d1d4048beb468ff97d1a670",
       "style": "IPY_MODEL_c9ffb479e84a4a6da049915d9ffb90cb",
       "value": true
      }
     },
     "d93af71be11c43239f79aac967b75817": {
      "model_module": "@jupyter-widgets/controls",
      "model_module_version": "2.0.0",
      "model_name": "CheckboxModel",
      "state": {
       "description": "stretching",
       "disabled": false,
       "indent": false,
       "layout": "IPY_MODEL_dab08821894f430ba806216ade421851",
       "style": "IPY_MODEL_e9c2f0fec18d46008f65a215e0d3cfaa",
       "value": true
      }
     },
     "d9a2a4c5f9374b0eb9d187e0c958946f": {
      "model_module": "@jupyter-widgets/base",
      "model_module_version": "2.0.0",
      "model_name": "LayoutModel",
      "state": {}
     },
     "da902da8fd5e4fddac3230f61b9322d5": {
      "model_module": "@jupyter-widgets/controls",
      "model_module_version": "2.0.0",
      "model_name": "CheckboxStyleModel",
      "state": {
       "description_width": ""
      }
     },
     "dab08821894f430ba806216ade421851": {
      "model_module": "@jupyter-widgets/base",
      "model_module_version": "2.0.0",
      "model_name": "LayoutModel",
      "state": {
       "height": "40px",
       "width": "120px"
      }
     },
     "db51aea81cc2472788cbf193467df1d3": {
      "model_module": "@jupyter-widgets/base",
      "model_module_version": "2.0.0",
      "model_name": "LayoutModel",
      "state": {
       "height": "120px",
       "width": "100px"
      }
     },
     "db51efa30e45475f9348fb9034c3588c": {
      "model_module": "@jupyter-widgets/base",
      "model_module_version": "2.0.0",
      "model_name": "LayoutModel",
      "state": {}
     },
     "dcf328d55ae444ca8d0d581ca47123c7": {
      "model_module": "@jupyter-widgets/controls",
      "model_module_version": "2.0.0",
      "model_name": "ButtonModel",
      "state": {
       "description": "Close",
       "layout": "IPY_MODEL_0a56a16de0c2473491e63bf5edd07053",
       "style": "IPY_MODEL_8cd8274da54b4d88bf584f20423455d1",
       "tooltip": null
      }
     },
     "de38b25815634c128a23f89a284677af": {
      "model_module": "@jupyter-widgets/base",
      "model_module_version": "2.0.0",
      "model_name": "LayoutModel",
      "state": {}
     },
     "de500fd1dcd24fa8a9acc4925fc7fe19": {
      "model_module": "@jupyter-widgets/controls",
      "model_module_version": "2.0.0",
      "model_name": "ButtonModel",
      "state": {
       "description": "Exit",
       "layout": "IPY_MODEL_761e656f733445c0a6f1c47f93f15e28",
       "style": "IPY_MODEL_29138ab0ba3b448eb275d20858522d70",
       "tooltip": null
      }
     },
     "de56aec18d2b4e899a1e5ab5f59abe4a": {
      "model_module": "@jupyter-widgets/controls",
      "model_module_version": "2.0.0",
      "model_name": "CheckboxModel",
      "state": {
       "description": "barbell",
       "disabled": false,
       "indent": false,
       "layout": "IPY_MODEL_49ffddc23c2149d5b16976646f553f7a",
       "style": "IPY_MODEL_b582dd1089d946d9b82f1713816c77f8",
       "value": true
      }
     },
     "df02b67cfb5145b09bcfaeb42119b3a9": {
      "model_module": "@jupyter-widgets/controls",
      "model_module_version": "2.0.0",
      "model_name": "ButtonModel",
      "state": {
       "description": "Sample Size",
       "layout": "IPY_MODEL_39ff71e9d58d4954a41ce57121459a6f",
       "style": "IPY_MODEL_f5ba258ecc0e414d87375f3313981a4f",
       "tooltip": null
      }
     },
     "df291a66756c4b9485c36ce9b3a9d95a": {
      "model_module": "@jupyter-widgets/controls",
      "model_module_version": "2.0.0",
      "model_name": "VBoxModel",
      "state": {
       "children": [
        "IPY_MODEL_c7c00d17d83748bb85c9809eee2d674a"
       ],
       "layout": "IPY_MODEL_c1818160da2c47e1bdcb95af6192c662"
      }
     },
     "e040baca8848461485977c1bfe489f85": {
      "model_module": "@jupyter-widgets/controls",
      "model_module_version": "2.0.0",
      "model_name": "ButtonStyleModel",
      "state": {
       "font_family": null,
       "font_size": null,
       "font_style": null,
       "font_variant": null,
       "font_weight": null,
       "text_color": null,
       "text_decoration": null
      }
     },
     "e1149304af404fd48ef291569d61a14d": {
      "model_module": "@jupyter-widgets/controls",
      "model_module_version": "2.0.0",
      "model_name": "CheckboxModel",
      "state": {
       "description": "cardio",
       "disabled": false,
       "indent": false,
       "layout": "IPY_MODEL_ee30d37174894c51b16104cd2d614968",
       "style": "IPY_MODEL_e8b5b62c73954b87936473a85aabf0d0",
       "value": true
      }
     },
     "e18dc464fbbc451988be57a673dc0fc2": {
      "model_module": "@jupyter-widgets/controls",
      "model_module_version": "2.0.0",
      "model_name": "CheckboxStyleModel",
      "state": {
       "description_width": ""
      }
     },
     "e21906a5f1ac4071824a680b41dce8b3": {
      "model_module": "@jupyter-widgets/controls",
      "model_module_version": "2.0.0",
      "model_name": "CheckboxModel",
      "state": {
       "description": "upperBody",
       "disabled": false,
       "indent": false,
       "layout": "IPY_MODEL_19604cae8f2c428aa0b97940fd454bb1",
       "style": "IPY_MODEL_fe9dcd6d24404ff69a6f5690c62f42cd",
       "value": true
      }
     },
     "e23fba882e554bbb9420193fe1a8ee2c": {
      "model_module": "@jupyter-widgets/base",
      "model_module_version": "2.0.0",
      "model_name": "LayoutModel",
      "state": {}
     },
     "e24fc9de5ddb4bf2a306f19ce002a52a": {
      "model_module": "@jupyter-widgets/base",
      "model_module_version": "2.0.0",
      "model_name": "LayoutModel",
      "state": {
       "height": "40px",
       "width": "120px"
      }
     },
     "e281eacd6bee44e7a909ae1c02004362": {
      "model_module": "@jupyter-widgets/controls",
      "model_module_version": "2.0.0",
      "model_name": "HTMLStyleModel",
      "state": {
       "description_width": "",
       "font_size": null,
       "text_color": null
      }
     },
     "e2e4b507e1aa44ce979eccd70596a29c": {
      "model_module": "@jupyter-widgets/controls",
      "model_module_version": "2.0.0",
      "model_name": "CheckboxModel",
      "state": {
       "description": "dumbbell",
       "disabled": false,
       "indent": false,
       "layout": "IPY_MODEL_a17752fa33b14dff97edb898ced7bf52",
       "style": "IPY_MODEL_8db2b2b7793445f6ba77345b6b9d236f",
       "value": true
      }
     },
     "e3f9fafc8b06479fa1f3217960197116": {
      "model_module": "@jupyter-widgets/base",
      "model_module_version": "2.0.0",
      "model_name": "LayoutModel",
      "state": {}
     },
     "e419973c0ece41769a4e14a23eb7447a": {
      "model_module": "@jupyter-widgets/controls",
      "model_module_version": "2.0.0",
      "model_name": "ButtonStyleModel",
      "state": {
       "font_family": null,
       "font_size": null,
       "font_style": null,
       "font_variant": null,
       "font_weight": null,
       "text_color": null,
       "text_decoration": null
      }
     },
     "e4e7ebadc418456aab916fda73c85a23": {
      "model_module": "@jupyter-widgets/base",
      "model_module_version": "2.0.0",
      "model_name": "LayoutModel",
      "state": {}
     },
     "e506bf9f8ed444179a7fab54d3ca1bb9": {
      "model_module": "@jupyter-widgets/controls",
      "model_module_version": "2.0.0",
      "model_name": "HBoxModel",
      "state": {
       "children": [
        "IPY_MODEL_128f531316ce4f75acc0be970b09f2f2"
       ],
       "layout": "IPY_MODEL_47d570f1e1834baaa334d890d8998702"
      }
     },
     "e534fe1fa18a44d895b1b59f48d573fb": {
      "model_module": "@jupyter-widgets/base",
      "model_module_version": "2.0.0",
      "model_name": "LayoutModel",
      "state": {}
     },
     "e6285f45a7d3488b8c29c410048eaa02": {
      "model_module": "@jupyter-widgets/base",
      "model_module_version": "2.0.0",
      "model_name": "LayoutModel",
      "state": {
       "height": "55px",
       "width": "55px"
      }
     },
     "e6a187ad839044c18d2bbdf5af701ca0": {
      "model_module": "@jupyter-widgets/controls",
      "model_module_version": "2.0.0",
      "model_name": "ButtonModel",
      "state": {
       "description": "Instruction",
       "icon": "comment",
       "layout": "IPY_MODEL_8bbe3d7131fa464aa882cb4a2f126435",
       "style": "IPY_MODEL_51dfe7fcd4d1462eb2b97b3ffe077e95",
       "tooltip": "1"
      }
     },
     "e7a407314a4d42a480552daec6f9ffe9": {
      "model_module": "@jupyter-widgets/controls",
      "model_module_version": "2.0.0",
      "model_name": "CheckboxModel",
      "state": {
       "description": "strength",
       "disabled": false,
       "indent": false,
       "layout": "IPY_MODEL_170751c3f5d84214828b1540d1eaffbb",
       "style": "IPY_MODEL_b09afb9f67b54d8a8239da34026345f2",
       "value": true
      }
     },
     "e7d6c4d024e9441a9ba80e1bcbbc1b99": {
      "model_module": "@jupyter-widgets/controls",
      "model_module_version": "2.0.0",
      "model_name": "ButtonStyleModel",
      "state": {
       "font_family": null,
       "font_size": null,
       "font_style": null,
       "font_variant": null,
       "font_weight": null,
       "text_color": null,
       "text_decoration": null
      }
     },
     "e7ebac94a02c4b8797e968f45969cdb8": {
      "model_module": "@jupyter-widgets/controls",
      "model_module_version": "2.0.0",
      "model_name": "ButtonModel",
      "state": {
       "description": "Close",
       "layout": "IPY_MODEL_d63195f11fd94356b3a1653a9cbfa6c1",
       "style": "IPY_MODEL_5d1e121488b64953ae39610fd5089725",
       "tooltip": null
      }
     },
     "e7f747ca03704742a9004693e6808678": {
      "model_module": "@jupyter-widgets/controls",
      "model_module_version": "2.0.0",
      "model_name": "ButtonStyleModel",
      "state": {
       "font_family": null,
       "font_size": null,
       "font_style": null,
       "font_variant": null,
       "font_weight": null,
       "text_color": null,
       "text_decoration": null
      }
     },
     "e8b5b62c73954b87936473a85aabf0d0": {
      "model_module": "@jupyter-widgets/controls",
      "model_module_version": "2.0.0",
      "model_name": "CheckboxStyleModel",
      "state": {
       "description_width": ""
      }
     },
     "e94d9bc9500e491984003deb36116916": {
      "model_module": "@jupyter-widgets/controls",
      "model_module_version": "2.0.0",
      "model_name": "HBoxModel",
      "state": {
       "children": [
        "IPY_MODEL_62ab9324c6114542a044cc5a6cbc0164",
        "IPY_MODEL_61bf5d0a3fe54adb898a6f439c8caccf",
        "IPY_MODEL_4bdc9942c4a049a7a76eb34c88a6b160",
        "IPY_MODEL_5158239c9d45466b83d6f6c0945c7a37"
       ],
       "layout": "IPY_MODEL_2a5005a1acfa41eab071965d643df506"
      }
     },
     "e9c2f0fec18d46008f65a215e0d3cfaa": {
      "model_module": "@jupyter-widgets/controls",
      "model_module_version": "2.0.0",
      "model_name": "CheckboxStyleModel",
      "state": {
       "description_width": ""
      }
     },
     "eb45c7657c4d4542bb6067e92d770fa5": {
      "model_module": "@jupyter-widgets/base",
      "model_module_version": "2.0.0",
      "model_name": "LayoutModel",
      "state": {
       "height": "40px",
       "width": "120px"
      }
     },
     "eb70963021624bd38c1011c549eb86ec": {
      "model_module": "@jupyter-widgets/controls",
      "model_module_version": "2.0.0",
      "model_name": "ButtonModel",
      "state": {
       "description": "Equipment",
       "layout": "IPY_MODEL_faa8ba2b384d4349ba5473c047bb0af3",
       "style": "IPY_MODEL_6322574c5a7946e9b99c932e4f029518",
       "tooltip": null
      }
     },
     "eb73a3bb986f4f208d3fcc1ebb8fe999": {
      "model_module": "@jupyter-widgets/controls",
      "model_module_version": "2.0.0",
      "model_name": "HTMLModel",
      "state": {
       "layout": "IPY_MODEL_7a34cff9057140ceba348a25c94db4cb",
       "style": "IPY_MODEL_0a3c7abd3c904b7dbc7666e7257a4add",
       "value": "<h3>Lower_Body</h3>"
      }
     },
     "eb8f9f4a819041d79d5be4816fc7eca1": {
      "model_module": "@jupyter-widgets/controls",
      "model_module_version": "2.0.0",
      "model_name": "CheckboxModel",
      "state": {
       "description": "other",
       "disabled": false,
       "indent": false,
       "layout": "IPY_MODEL_af826c1c46a140dbb8f879999999044b",
       "style": "IPY_MODEL_5eb0a3892620446b894f9ca3ad15d91f",
       "value": true
      }
     },
     "ebb0cf76463c4172a0ce49e7e61b55c6": {
      "model_module": "@jupyter-widgets/base",
      "model_module_version": "2.0.0",
      "model_name": "LayoutModel",
      "state": {
       "height": "55px",
       "width": "55px"
      }
     },
     "ebf1360c35034a508f9dc2af62aed515": {
      "model_module": "@jupyter-widgets/controls",
      "model_module_version": "2.0.0",
      "model_name": "CheckboxStyleModel",
      "state": {
       "description_width": ""
      }
     },
     "ec6555b37a114d6a948399268ad42dc5": {
      "model_module": "@jupyter-widgets/base",
      "model_module_version": "2.0.0",
      "model_name": "LayoutModel",
      "state": {
       "height": "40px",
       "width": "120px"
      }
     },
     "ec9351583ae141019d5baabe4c5fdb17": {
      "model_module": "@jupyter-widgets/base",
      "model_module_version": "2.0.0",
      "model_name": "LayoutModel",
      "state": {}
     },
     "ecb81050cb6e4e749187843af6ebbdb6": {
      "model_module": "@jupyter-widgets/controls",
      "model_module_version": "2.0.0",
      "model_name": "HTMLModel",
      "state": {
       "layout": "IPY_MODEL_d5ef86182cd54bc0b010a6c3a516fff4",
       "style": "IPY_MODEL_edbc0cb0dbe640638fc44c68d3c8f8ec",
       "value": "<h1>Random Excercise Generator</h1>"
      }
     },
     "ecc02e8e2ebc4052a69cad27027a786e": {
      "model_module": "@jupyter-widgets/controls",
      "model_module_version": "2.0.0",
      "model_name": "ButtonModel",
      "state": {
       "description": "Close",
       "layout": "IPY_MODEL_e6285f45a7d3488b8c29c410048eaa02",
       "style": "IPY_MODEL_428dabb33b3146bc8d78591ac0f8d693",
       "tooltip": null
      }
     },
     "ed385a3ddfff43d9ba3571b0a67abbea": {
      "model_module": "@jupyter-widgets/controls",
      "model_module_version": "2.0.0",
      "model_name": "ButtonStyleModel",
      "state": {
       "font_family": null,
       "font_size": null,
       "font_style": null,
       "font_variant": null,
       "font_weight": null,
       "text_color": null,
       "text_decoration": null
      }
     },
     "ed9372a5732d4947bac3bf6d9df0bb4f": {
      "model_module": "@jupyter-widgets/controls",
      "model_module_version": "2.0.0",
      "model_name": "ButtonStyleModel",
      "state": {
       "font_family": null,
       "font_size": null,
       "font_style": null,
       "font_variant": null,
       "font_weight": null,
       "text_color": null,
       "text_decoration": null
      }
     },
     "edade50045954a62897406515971b893": {
      "model_module": "@jupyter-widgets/base",
      "model_module_version": "2.0.0",
      "model_name": "LayoutModel",
      "state": {}
     },
     "edbc0cb0dbe640638fc44c68d3c8f8ec": {
      "model_module": "@jupyter-widgets/controls",
      "model_module_version": "2.0.0",
      "model_name": "HTMLStyleModel",
      "state": {
       "description_width": "",
       "font_size": null,
       "text_color": null
      }
     },
     "eddc783adf4c4ab2a71bb635bad716c8": {
      "model_module": "@jupyter-widgets/controls",
      "model_module_version": "2.0.0",
      "model_name": "HBoxModel",
      "state": {
       "children": [
        "IPY_MODEL_c323d78eab824823aca07615438f42dc",
        "IPY_MODEL_bf1cc9e30eb14c3b856b92c8914a491e",
        "IPY_MODEL_2dcfccd1bd094f799dd44f5808615275",
        "IPY_MODEL_5db7c57c9b624125a57401d9b9871e0f"
       ],
       "layout": "IPY_MODEL_0fc68ee4d20a41cba20bc4d356929902"
      }
     },
     "ee30d37174894c51b16104cd2d614968": {
      "model_module": "@jupyter-widgets/base",
      "model_module_version": "2.0.0",
      "model_name": "LayoutModel",
      "state": {
       "height": "40px",
       "width": "120px"
      }
     },
     "ee87213b548047af82ba546c0e26fbca": {
      "model_module": "@jupyter-widgets/controls",
      "model_module_version": "2.0.0",
      "model_name": "ButtonStyleModel",
      "state": {
       "font_family": null,
       "font_size": null,
       "font_style": null,
       "font_variant": null,
       "font_weight": null,
       "text_color": null,
       "text_decoration": null
      }
     },
     "eef3a93f8f684630b57a8bc5d0099b43": {
      "model_module": "@jupyter-widgets/base",
      "model_module_version": "2.0.0",
      "model_name": "LayoutModel",
      "state": {
       "height": "40px",
       "width": "120px"
      }
     },
     "efefc55fa427452f8c72712c670f9d06": {
      "model_module": "@jupyter-widgets/base",
      "model_module_version": "2.0.0",
      "model_name": "LayoutModel",
      "state": {}
     },
     "f0c851752cc3491b82262b6a10066e23": {
      "model_module": "@jupyter-widgets/base",
      "model_module_version": "2.0.0",
      "model_name": "LayoutModel",
      "state": {
       "height": "40px",
       "width": "120px"
      }
     },
     "f0e4a08eb7244609b7ed06b398ab706f": {
      "model_module": "@jupyter-widgets/controls",
      "model_module_version": "2.0.0",
      "model_name": "HBoxModel",
      "state": {
       "children": [
        "IPY_MODEL_eb73a3bb986f4f208d3fcc1ebb8fe999"
       ],
       "layout": "IPY_MODEL_edade50045954a62897406515971b893"
      }
     },
     "f1cf0f4c990b49718064f92c87c5c0a7": {
      "model_module": "@jupyter-widgets/controls",
      "model_module_version": "2.0.0",
      "model_name": "HBoxModel",
      "state": {
       "children": [
        "IPY_MODEL_8db57709faaa43e1bbeacb237af7c0be",
        "IPY_MODEL_34c26e94b65e46fd8d71bc7c53500f33",
        "IPY_MODEL_c620e5cbc840452786a32648d6844dd7"
       ],
       "layout": "IPY_MODEL_4fb009419bea457991fbf7dcb14fb1c3"
      }
     },
     "f2ddb6cc2918458e91dd48795c7786da": {
      "model_module": "@jupyter-widgets/base",
      "model_module_version": "2.0.0",
      "model_name": "LayoutModel",
      "state": {}
     },
     "f3c28b31907a494b8aa45a15367f62b5": {
      "model_module": "@jupyter-widgets/controls",
      "model_module_version": "2.0.0",
      "model_name": "HTMLStyleModel",
      "state": {
       "description_width": "",
       "font_size": null,
       "text_color": null
      }
     },
     "f3d4cd717a3740bc8aa4e94fd338e74a": {
      "model_module": "@jupyter-widgets/controls",
      "model_module_version": "2.0.0",
      "model_name": "CheckboxStyleModel",
      "state": {
       "description_width": ""
      }
     },
     "f4b544ee335049ecb2180027bd7fc449": {
      "model_module": "@jupyter-widgets/base",
      "model_module_version": "2.0.0",
      "model_name": "LayoutModel",
      "state": {}
     },
     "f52ef6f5a340461fbe09a662fc5eebf5": {
      "model_module": "@jupyter-widgets/controls",
      "model_module_version": "2.0.0",
      "model_name": "DropdownModel",
      "state": {
       "_options_labels": [
        "One",
        "Two",
        "Three",
        "Four",
        "Five"
       ],
       "index": 1,
       "layout": "IPY_MODEL_0a5f7f0f898c425f893fdcc31be659de",
       "style": "IPY_MODEL_52ab1cfc3b394340851a4d5b60f24c40"
      }
     },
     "f55d75dc54ec4d92a435a2985df876ec": {
      "model_module": "@jupyter-widgets/controls",
      "model_module_version": "2.0.0",
      "model_name": "HBoxModel",
      "state": {
       "children": [
        "IPY_MODEL_18df205e63ef456c95672ca5c4563e73"
       ],
       "layout": "IPY_MODEL_f2ddb6cc2918458e91dd48795c7786da"
      }
     },
     "f56bd0298480413694e789517648d515": {
      "model_module": "@jupyter-widgets/base",
      "model_module_version": "2.0.0",
      "model_name": "LayoutModel",
      "state": {
       "align_items": "stretch",
       "display": "flex",
       "flex_flow": "row",
       "justify_content": "space-around",
       "width": "50%"
      }
     },
     "f56d57a99ed74998b0a039008af1f082": {
      "model_module": "@jupyter-widgets/controls",
      "model_module_version": "2.0.0",
      "model_name": "HBoxModel",
      "state": {
       "children": [
        "IPY_MODEL_2241dda883b74b8aa6ae85269dbe5ec4"
       ],
       "layout": "IPY_MODEL_cff8dd85b41e46a39ec1c8aafc6480d8"
      }
     },
     "f5ba258ecc0e414d87375f3313981a4f": {
      "model_module": "@jupyter-widgets/controls",
      "model_module_version": "2.0.0",
      "model_name": "ButtonStyleModel",
      "state": {
       "font_family": null,
       "font_size": null,
       "font_style": null,
       "font_variant": null,
       "font_weight": null,
       "text_color": null,
       "text_decoration": null
      }
     },
     "f61f797ab90642538cca47041cdfedd9": {
      "model_module": "@jupyter-widgets/base",
      "model_module_version": "2.0.0",
      "model_name": "LayoutModel",
      "state": {}
     },
     "f6ca52dc04404209b5fcd787bcd60ce2": {
      "model_module": "@jupyter-widgets/base",
      "model_module_version": "2.0.0",
      "model_name": "LayoutModel",
      "state": {}
     },
     "f75eb1fd5de44cd5b8644bc5f90957b6": {
      "model_module": "@jupyter-widgets/base",
      "model_module_version": "2.0.0",
      "model_name": "LayoutModel",
      "state": {}
     },
     "f8b9f054ba504a43b058981b0a68fdb4": {
      "model_module": "@jupyter-widgets/base",
      "model_module_version": "2.0.0",
      "model_name": "LayoutModel",
      "state": {
       "height": "40px",
       "width": "120px"
      }
     },
     "f97440186a084a84b0bfa977b08f0ce0": {
      "model_module": "@jupyter-widgets/controls",
      "model_module_version": "2.0.0",
      "model_name": "HBoxModel",
      "state": {
       "children": [
        "IPY_MODEL_159674252a2840bd830d002cf2d672e2"
       ],
       "layout": "IPY_MODEL_de38b25815634c128a23f89a284677af"
      }
     },
     "faa8ba2b384d4349ba5473c047bb0af3": {
      "model_module": "@jupyter-widgets/base",
      "model_module_version": "2.0.0",
      "model_name": "LayoutModel",
      "state": {
       "height": "120px",
       "width": "100px"
      }
     },
     "fb4d9f45cde5495a872419fb0bebfe8b": {
      "model_module": "@jupyter-widgets/controls",
      "model_module_version": "2.0.0",
      "model_name": "HBoxModel",
      "state": {
       "children": [
        "IPY_MODEL_01e15ba079dd4f56b768e4760e7a951b",
        "IPY_MODEL_e7ebac94a02c4b8797e968f45969cdb8"
       ],
       "layout": "IPY_MODEL_285c50eb282d4ee2b376b05dd2b6b81f"
      }
     },
     "fb8430943019438bb48e242b9b87a518": {
      "model_module": "@jupyter-widgets/controls",
      "model_module_version": "2.0.0",
      "model_name": "ButtonStyleModel",
      "state": {
       "font_family": null,
       "font_size": null,
       "font_style": null,
       "font_variant": null,
       "font_weight": null,
       "text_color": null,
       "text_decoration": null
      }
     },
     "fdc928174cb04f9fa59b430e71092987": {
      "model_module": "@jupyter-widgets/base",
      "model_module_version": "2.0.0",
      "model_name": "LayoutModel",
      "state": {}
     },
     "fe8998c062324e5ea1e0ae97e9144a01": {
      "model_module": "@jupyter-widgets/controls",
      "model_module_version": "2.0.0",
      "model_name": "ButtonModel",
      "state": {
       "description": "Close",
       "layout": "IPY_MODEL_60ba0f28202a4dd09b22418683ed36ba",
       "style": "IPY_MODEL_58e5df947d2e40c89258e597247ed225",
       "tooltip": null
      }
     },
     "fe9b1bfa0b7f4379be88db24eab35b11": {
      "model_module": "@jupyter-widgets/controls",
      "model_module_version": "2.0.0",
      "model_name": "HBoxModel",
      "state": {
       "children": [
        "IPY_MODEL_20358aee624043f99a813e8b09264192"
       ],
       "layout": "IPY_MODEL_3abf261619ea4319b48976d3c16db037"
      }
     },
     "fe9dcd6d24404ff69a6f5690c62f42cd": {
      "model_module": "@jupyter-widgets/controls",
      "model_module_version": "2.0.0",
      "model_name": "CheckboxStyleModel",
      "state": {
       "description_width": ""
      }
     },
     "ff6f2282d3fd474cb146d4add2d75f81": {
      "model_module": "@jupyter-widgets/base",
      "model_module_version": "2.0.0",
      "model_name": "LayoutModel",
      "state": {
       "height": "55px",
       "width": "120px"
      }
     }
    },
    "version_major": 2,
    "version_minor": 0
   }
  }
 },
 "nbformat": 4,
 "nbformat_minor": 5
}
