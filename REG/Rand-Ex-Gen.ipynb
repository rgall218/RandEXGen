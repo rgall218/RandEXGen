{
 "cells": [
  {
   "cell_type": "code",
   "execution_count": 311,
   "id": "5f9c6c80-747d-4124-a027-903301bc755b",
   "metadata": {},
   "outputs": [],
   "source": [
    "import ipywidgets as wt\n",
    "import pandas as pd\n",
    "import time\n",
    "import sys\n",
    "from IPython.display import display\n",
    "from IPython.display import clear_output"
   ]
  },
  {
   "cell_type": "code",
   "execution_count": 312,
   "id": "3affb38a-83b6-4ca5-986b-cc2d74713e7e",
   "metadata": {},
   "outputs": [],
   "source": [
    "def create_expanded_button(description, button_style):\n",
    "    return wt.Button(description=description, button_style=button_style, layout=wt.Layout(height='120px', width='100px'))\n"
   ]
  },
  {
   "cell_type": "code",
   "execution_count": 313,
   "id": "8004149a-6955-482b-890f-80ecea43eca7",
   "metadata": {},
   "outputs": [],
   "source": [
    "def create_close_button(description, button_style):\n",
    "    return wt.Button(description=description, button_style=button_style, layout=wt.Layout(height='55px', width='80px'))\n"
   ]
  },
  {
   "cell_type": "code",
   "execution_count": 314,
   "id": "b9800f96-1d3c-4572-af79-b5460fb43a7e",
   "metadata": {},
   "outputs": [],
   "source": [
    "def create_photo_button(description, button_style):\n",
    "    return wt.Button(description=description, button_style=button_style, layout=wt.Layout(height='55px', width='80px'))\n"
   ]
  },
  {
   "cell_type": "code",
   "execution_count": 315,
   "id": "08b9231f",
   "metadata": {},
   "outputs": [],
   "source": [
    "def create_description_button(description, button_style, tooltip):\n",
    "    return wt.Button(description=description, button_style=button_style, icon = 'comment', tooltip=tooltip, layout=wt.Layout(height='55px', width='120px'))\n"
   ]
  },
  {
   "cell_type": "code",
   "execution_count": 316,
   "id": "2a6f99fd-dc87-4ef4-968e-eab88eeb05ff",
   "metadata": {},
   "outputs": [],
   "source": [
    "def create_expanded_radiobutton(list,descript):\n",
    "    return wt.RadioButtons(\n",
    "        options= list,\n",
    "        description=descript,\n",
    "        disabled=False\n",
    ")"
   ]
  },
  {
   "cell_type": "code",
   "execution_count": 317,
   "id": "a5343544-f32a-4506-ac76-3c3cf5347bba",
   "metadata": {},
   "outputs": [],
   "source": [
    "def create_expanded_dropdown(opt, val, descript):\n",
    "    return wt.Dropdown(\n",
    "    options=opt,\n",
    "    value=val,\n",
    "    description=descript,\n",
    ")"
   ]
  },
  {
   "cell_type": "code",
   "execution_count": 318,
   "id": "4d4bffb1-dbdc-4287-be48-3ae0acc5c807",
   "metadata": {},
   "outputs": [],
   "source": [
    "\n",
    "def create_expanded_checkbox(descript, val): \n",
    "     return wt.Checkbox(\n",
    "        value= val,\n",
    "        description= descript,\n",
    "        disabled=False,\n",
    "        indent=False,\n",
    "        layout=wt.Layout(width='160px', height='40px')\n",
    "     )"
   ]
  },
  {
   "cell_type": "code",
   "execution_count": 319,
   "id": "f8d6b4ee-6af4-4ce7-b627-17ff7bf19119",
   "metadata": {},
   "outputs": [],
   "source": [
    "def Equipment(b):\n",
    "    output.clear_output()\n",
    "    box_layout1 = wt.Layout(display='flex',flex_flow='row',align_items='stretch', justify_content= 'space-around',width='70%')\n",
    "    ti=(Equip_Title, equipcl)\n",
    "    titlers = wt.Box(children=ti, layout=box_layout1)\n",
    "    op =wt.VBox([titlers, Equip_Menu])\n",
    "    with output:\n",
    "        display(op)\n",
    "    #output.append_display_data (Equip_Title)\n",
    "    #output.append_display_data (Equip_Menu)"
   ]
  },
  {
   "cell_type": "code",
   "execution_count": 320,
   "id": "41e41d4d-8d38-4699-9950-282ef08f0f8b",
   "metadata": {},
   "outputs": [],
   "source": [
    "def SampleSize(b):\n",
    "    output.clear_output()\n",
    "    with output:\n",
    "        display (SS_Title ,SS_Menu)"
   ]
  },
  {
   "cell_type": "code",
   "execution_count": 321,
   "id": "6c980b5b-767f-4afb-a5b0-4cb4b7367a8f",
   "metadata": {},
   "outputs": [],
   "source": [
    "def BodyArea(b):\n",
    "    output.clear_output()\n",
    "    box_layout1 = wt.Layout(display='flex',flex_flow='row',align_items='stretch', justify_content= 'space-around',width='70%')\n",
    "    ti=(BA_Title, bacl)\n",
    "    titlers = wt.Box(children=ti, layout=box_layout1)\n",
    "    op =wt.VBox([titlers, BA_Menu])\n",
    "    with output:\n",
    "        display(op)"
   ]
  },
  {
   "cell_type": "code",
   "execution_count": 322,
   "id": "2f9a1a16-fd50-4e08-b63b-789609b9ebdc",
   "metadata": {},
   "outputs": [],
   "source": [
    "def ExCat(b):\n",
    "    output.clear_output()\n",
    "    box_layout1 = wt.Layout(display='flex',flex_flow='row',align_items='stretch', justify_content= 'space-around',width='70%')\n",
    "    ti=(EC_Title, ecatcl)\n",
    "    titlers = wt.Box(children=ti, layout=box_layout1)\n",
    "    op =wt.VBox([titlers, EC_Menu])\n",
    "    with output:\n",
    "        display(op)\n",
    "    "
   ]
  },
  {
   "cell_type": "code",
   "execution_count": 323,
   "id": "60459c2b-f7d3-4d01-820b-e610b6095013",
   "metadata": {},
   "outputs": [],
   "source": [
    "def Execute(b):\n",
    "\n",
    "    global Final_Out\n",
    "    global dfsub\n",
    "    \n",
    "    box_layout = wt.Layout(display='flex',flex_flow='row', align_items='stretch', justify_content= 'space-around', width='70%')\n",
    "\n",
    "    box_layout1 = wt.Layout(display='flex',flex_flow='row',align_items='stretch', justify_content= 'space-around',width='70%')\n",
    "  \n",
    "    upper_sampled = core_sampled = lower_sampled =pd.Series()\n",
    "    if ((bacb[0].value==True) and (not dfsub.empty)):\n",
    "        upper_sampled=dfsub['name'].loc[(dfsub['bodyArea'] =='Upper Body') & (dfsub['active']=='Y') ].sample(ssize.value)\n",
    "    if ((bacb[1].value == True) and (not dfsub.empty)):\n",
    "        core_sampled=dfsub['name'].loc[(dfsub['bodyArea'] =='Core') & (dfsub['active']=='Y')].sample(ssize.value)\n",
    "    if ((bacb[2].value ==True) and (not dfsub.empty)):\n",
    "        lower_sampled=dfsub['name'].loc[(dfsub['bodyArea'] =='Lower Body') & (dfsub['active']=='Y') ].sample(ssize.value)\n",
    "        \n",
    "        \n",
    "   \n",
    "    \n",
    "   \n",
    "    Title=[[upper_title], [core_title], [lower_title]]\n",
    "    \n",
    "    idxub=0 \n",
    "    desbtnub=0\n",
    "    nameub = 0\n",
    "    ubdataav =False\n",
    "\n",
    "    idxcr=0\n",
    "    desbtncr=0\n",
    "    namecr=0\n",
    "    crdataav=False\n",
    "\n",
    "    idxlb=0\n",
    "    desbtnlb=0\n",
    "    namelb=0\n",
    "    lbdataav=False\n",
    "    \n",
    "    if len(upper_sampled) != 0:\n",
    "        idxub =upper_sampled.index\n",
    "        desbtnub=([create_description_button('Instruction','', str(x)) for (x) in idxub.values])\n",
    "        nameub=upper_sampled.tolist()\n",
    "        ubdataav=True\n",
    "        \n",
    "    if len (core_sampled !=0):\n",
    "        idxcr=core_sampled.index\n",
    "        desbtncr=([create_description_button('Instruction','', str(x)) for (x) in idxcr.values])\n",
    "        namecr=core_sampled.to_list()\n",
    "        crdataav=True\n",
    "        \n",
    "    if len(lower_sampled !=0):\n",
    "        idxlb =lower_sampled.index\n",
    "        desbtnlb=([create_description_button('Instruction','',str(x)) for (x) in idxlb.values])\n",
    "        lbdataav=True\n",
    "        namelb=lower_sampled.to_list()\n",
    "    upperbdy=[nameub,desbtnub,idxub]\n",
    "    corebdy=[namecr,desbtncr,idxcr]\n",
    "    lowerbdy=[namelb,desbtnlb,idxlb]\n",
    "    bdyarea= [upperbdy, corebdy, lowerbdy]\n",
    "    dataav=[ubdataav,crdataav, lbdataav] \n",
    "    \n",
    "    op1=[]\n",
    "    op2=[]\n",
    "    opf=[]\n",
    "    boxf=[]\n",
    "    name=[] \n",
    "    btn=[]\n",
    "    for i in range(len(bdyarea)):\n",
    "        \n",
    "        if dataav[i] ==False:\n",
    "            \n",
    "            continue\n",
    "            \n",
    "        name=[]\n",
    "        btn=[]                      \n",
    "        leftbox=rightbox=[]\n",
    "        box1=[]\n",
    "        box2=[]\n",
    "        boxes=[box1, box2]\n",
    "        op1 =wt.HBox(Title[i]) \n",
    "        name+=bdyarea[i][0]\n",
    "        btn+=bdyarea[i][1]\n",
    "        \n",
    "        for ix in range(len(name)):\n",
    "            ex=wt.HTML(str(name[ix]))\n",
    "\n",
    "            if ix & 1:\n",
    "                box2+= [ex]\n",
    "                box2+=[btn[ix]]\n",
    "            else:\n",
    "                box1+= [ex]\n",
    "                box1+=[btn[ix]]\n",
    "\n",
    "            leftbox=wt.VBox([item for item in box1])\n",
    "            rightbox=wt.VBox([item for item in box2])\n",
    " \n",
    "                    \n",
    "        op2 =wt.Box(children=[leftbox, rightbox], layout=box_layout )\n",
    "        opf=wt.VBox([op1,op2])           \n",
    "        boxf+=([opf])\n",
    "    title=(Res_Title, rsltcl)\n",
    "    titlers = wt.Box(children=title, layout=box_layout1)\n",
    "    F_Out=(wt.VBox([item for item in boxf]))\n",
    "    if ((upper_sampled.empty) and (core_sampled.empty) and (lower_sampled.empty)):\n",
    "        rs= wt.HTML(\"<h3>No Results</h3>\")\n",
    "        F_Out=wt.VBox([rs])\n",
    "    \n",
    "    Final_Out = wt.VBox([titlers,F_Out])\n",
    "    \n",
    "    with output:\n",
    "        display(Final_Out)\n",
    "   \n",
    "    \n",
    "    if ubdataav is True:\n",
    "        for x in range(len(desbtnub)):\n",
    "            desbtnub[x].on_click(Get_Description)\n",
    "      \n",
    "    if crdataav is True:   \n",
    "        for x in range(len(desbtncr)):\n",
    "            desbtncr[x].on_click(Get_Description)\n",
    "    if lbdataav is True:\n",
    "        for x in range(len(desbtnlb)):\n",
    "            desbtnlb[x].on_click(Get_Description)\n",
    "    \n",
    "            \n",
    "\n",
    "   "
   ]
  },
  {
   "cell_type": "code",
   "execution_count": 324,
   "id": "0e9a5c78-2fb9-4405-9252-1356c3925088",
   "metadata": {},
   "outputs": [],
   "source": [
    "def Get_Description(b):\n",
    "\n",
    "    box_layout1 = wt.Layout(display='flex',flex_flow='row',align_items='stretch', justify_content= 'space-around',width='70%')\n",
    "    \n",
    "    global output\n",
    "    \n",
    "    output.clear_output()\n",
    "    tp=b.tooltip\n",
    "    tp1=int(tp)\n",
    "    ex=dfsub.loc[tp1]\n",
    "    t = ex['instructions']\n",
    "    n= ex['name']\n",
    "    im=ex['images']\n",
    "    im2=(im.strip(\"[]\"))\n",
    "    im3=(im2.strip(\"'\"))\n",
    "    im4=(im3.replace(\"'\", \"\"))\n",
    "    im5=(im4.replace(\" \", \"\"))\n",
    "    im6=(im5.split(\",\"))\n",
    "          \n",
    "    y=('<h3>'+ t + '</h3>')\n",
    "    o=wt.HTML(y)\n",
    "    na=('<h2>'+ n + '</h2>')\n",
    "    nam=wt.HTML(na)\n",
    "    ti=(nam, descl)\n",
    "    titlers = wt.Box(children=ti, layout=box_layout1)\n",
    "    txt=wt.VBox([titlers, o])\n",
    "\n",
    "\n",
    "\n",
    "    \n",
    "    Path='exercises/'\n",
    "    file = open(Path + str(im6[0]), \"rb\")\n",
    "    image1 = file.read()\n",
    "    \n",
    "    file1 = open( Path + str(im6[1]), \"rb\")\n",
    "    image2 = file1.read()\n",
    "\n",
    "    I1=wt.Image(\n",
    "        value=image1,\n",
    "        format='jpg',\n",
    "        width=300,\n",
    "        height=400,\n",
    "    )\n",
    "\n",
    "    I2=wt.Image(\n",
    "        value=image2,\n",
    "        format='jpg',\n",
    "        width=300,\n",
    "        height=400,\n",
    "    )\n",
    "\n",
    "    photo= wt.HBox([I1, I2])\n",
    "    with output:\n",
    "        display(txt, photo)"
   ]
  },
  {
   "cell_type": "code",
   "execution_count": 325,
   "id": "1bb607b9-d5f3-4c1e-9f81-fb030f45f8fc",
   "metadata": {},
   "outputs": [],
   "source": [
    "def Eq_Clear(b):\n",
    "    output.clear_output()\n",
    "    \n",
    "    box_layout1 = wt.Layout(display='flex',flex_flow='row',align_items='stretch', justify_content= 'space-around',width='70%')\n",
    "\n",
    "    for i in range(len(equipcb)):\n",
    "        equipcb[i].value =False\n",
    "    ti=(Equip_Title, equipcl)\n",
    "    titlers = wt.Box(children=ti, layout=box_layout1)\n",
    "    op =wt.VBox([titlers, Equip_Menu])\n",
    "    with output:\n",
    "        display(op)"
   ]
  },
  {
   "cell_type": "code",
   "execution_count": 326,
   "id": "efb8fc18-a582-4dc3-a6af-236eb07d4acb",
   "metadata": {},
   "outputs": [],
   "source": [
    "def Ecat_Clear(b):\n",
    "    output.clear_output()\n",
    "    \n",
    "    box_layout1 = wt.Layout(display='flex',flex_flow='row',align_items='stretch', justify_content= 'space-around',width='70%')\n",
    "\n",
    "    for i in range(len(ecatcb)):\n",
    "        ecatcb[i].value =False\n",
    "    ti=(EC_Title, ecatcl)\n",
    "    titlers = wt.Box(children=ti, layout=box_layout1)\n",
    "    op =wt.VBox([titlers, EC_Menu])\n",
    "    with output:\n",
    "        display(op)"
   ]
  },
  {
   "cell_type": "code",
   "execution_count": 327,
   "id": "f9e6e7f4-a506-42ce-bc16-599e1e061fa2",
   "metadata": {},
   "outputs": [],
   "source": [
    "def Close(b):\n",
    "    output.clear_output()\n",
    "\n"
   ]
  },
  {
   "cell_type": "code",
   "execution_count": 328,
   "id": "d7e22564-5909-4882-8196-b799e03e89f3",
   "metadata": {},
   "outputs": [],
   "source": [
    "def Spec_Close(b):\n",
    "    global dfsub\n",
    "    equipmask=[equipcb[i].value for i in range(len(equipcb))]\n",
    "    ecatmask=[ecatcb[i].value for i in range(len(ecatcb))]\n",
    "    equipav=equip[equipmask]\n",
    "    ecav=ecat[ecatmask]\n",
    "    dfsub=df[df['equipment'].isin(equipav) & df['category'].isin(ecav)]\n",
    "    \n",
    "    output.clear_output()\n",
    "    "
   ]
  },
  {
   "cell_type": "code",
   "execution_count": 329,
   "id": "c55f957a-7cef-42ca-a58e-8d22ce7a1210",
   "metadata": {},
   "outputs": [],
   "source": [
    "def Des_Close(b):\n",
    "    output.clear_output()\n",
    "    with output:\n",
    "        display(Final_Out)"
   ]
  },
  {
   "cell_type": "code",
   "execution_count": 330,
   "id": "0ed200db-b5e1-407a-8895-56508eb97c5d",
   "metadata": {},
   "outputs": [],
   "source": [
    "box_layout = wt.Layout(display='flex',\n",
    "                    flex_flow='row', \n",
    "                    align_items='stretch', \n",
    "                    justify_content= 'space-around',\n",
    "                    width='70%')\n",
    "box_layout1 = wt.Layout(display='flex',\n",
    "                    flex_flow='row', \n",
    "                    align_items='stretch', \n",
    "                    justify_content= 'space-around',\n",
    "                    width='40%')\n"
   ]
  },
  {
   "cell_type": "code",
   "execution_count": 331,
   "id": "6e07f703-d229-40fa-9c91-399e541ce593",
   "metadata": {},
   "outputs": [],
   "source": [
    "\n",
    "\n",
    "item=wt.HTML(value= \"<h2>Equipment List</h2>\")\n",
    "Equip_Title=wt.HBox([item])\n"
   ]
  },
  {
   "cell_type": "code",
   "execution_count": 332,
   "id": "674022d2-ce3a-49fc-a67b-53b341424195",
   "metadata": {},
   "outputs": [],
   "source": [
    "\n",
    "\n",
    "Main_Title=wt.HTML(value= \"<h1>Random Excercise Generator</h1>\")\n"
   ]
  },
  {
   "cell_type": "code",
   "execution_count": 333,
   "id": "131852cf-ef69-4b2b-a88c-73e32cc46a7e",
   "metadata": {},
   "outputs": [],
   "source": [
    "item=wt.HTML(value= '<h5>\"Close Tab to Exit\"</h5>')\n",
    "Exit_Title=wt.HBox([item])"
   ]
  },
  {
   "cell_type": "code",
   "execution_count": 334,
   "id": "32d73cc0-637a-4cb4-97c6-55ff94ccf009",
   "metadata": {},
   "outputs": [],
   "source": [
    "\n",
    "\n",
    "item=wt.HTML(value= \"<h2>Sample Size</h2>\")\n",
    "SS_Title=wt.HBox([item])\n"
   ]
  },
  {
   "cell_type": "code",
   "execution_count": 335,
   "id": "9c3ef384-8567-4087-a682-78ca349ccac8",
   "metadata": {},
   "outputs": [],
   "source": [
    "\n",
    "\n",
    "item=wt.HTML(value= \"<h2>Body Area</h2>\")\n",
    "BA_Title=wt.HBox([item])\n"
   ]
  },
  {
   "cell_type": "code",
   "execution_count": 336,
   "id": "4c931a81-dccd-402f-82d8-3e0cb189ad75",
   "metadata": {},
   "outputs": [],
   "source": [
    "\n",
    "\n",
    "item=wt.HTML(value= \"<h2>Exercise Category</h2>\")\n",
    "EC_Title=wt.HBox([item])\n"
   ]
  },
  {
   "cell_type": "code",
   "execution_count": 337,
   "id": "a3b5a9af-a136-45f2-b24b-a5c0a3b143dd",
   "metadata": {},
   "outputs": [],
   "source": [
    "item=wt.HTML(value= \"<h1>Results</h1>\")\n",
    "Res_Title=wt.HBox([item])"
   ]
  },
  {
   "cell_type": "code",
   "execution_count": 338,
   "id": "395d2af4-e03d-42ff-bb7c-8b481ac23c29",
   "metadata": {},
   "outputs": [],
   "source": [
    "item=wt.HTML(value= \"<h3>Upper Body</h3>\")\n",
    "upper_title=wt.HBox([item])"
   ]
  },
  {
   "cell_type": "code",
   "execution_count": 339,
   "id": "addf6d7c",
   "metadata": {},
   "outputs": [],
   "source": [
    "item=wt.HTML(value= \"<h3>Core</h3>\")\n",
    "core_title=wt.HBox([item])"
   ]
  },
  {
   "cell_type": "code",
   "execution_count": 340,
   "id": "4fa2f5aa",
   "metadata": {},
   "outputs": [],
   "source": [
    "item=wt.HTML(value= \"<h3>Lower_Body</h3>\")\n",
    "lower_title=wt.HBox([item])"
   ]
  },
  {
   "cell_type": "code",
   "execution_count": 341,
   "id": "f0474c52-8505-42e3-9734-68cf8a7d084d",
   "metadata": {},
   "outputs": [],
   "source": [
    "\n",
    "output = wt.Output()\n",
    "\n",
    "Final_Out=[]"
   ]
  },
  {
   "cell_type": "code",
   "execution_count": 342,
   "id": "331b4211-f5e2-4e34-b437-ecdf5489d57a",
   "metadata": {},
   "outputs": [],
   "source": [
    "schema=pd.read_csv('schema.csv',index_col=0)"
   ]
  },
  {
   "cell_type": "code",
   "execution_count": 343,
   "id": "6f0cc3cf-2495-4dfc-b29c-6f2b90613d25",
   "metadata": {},
   "outputs": [],
   "source": [
    "df =pd.read_csv('exercises-clean.csv')\n",
    "dfsub=df\n"
   ]
  },
  {
   "cell_type": "code",
   "execution_count": 344,
   "id": "63502771-bafb-4176-a73c-ff6c65ec77b5",
   "metadata": {},
   "outputs": [],
   "source": [
    "\n",
    "equip=schema.loc['equipment'].dropna()\n",
    "equip1=pd.DataFrame(equip).transpose()\n",
    "ecat=schema.loc['category'].dropna()\n"
   ]
  },
  {
   "cell_type": "code",
   "execution_count": 345,
   "id": "5886c64d-9d4d-4ee2-81ea-dad36be57a58",
   "metadata": {},
   "outputs": [],
   "source": [
    "equipcb= ([create_expanded_checkbox(descript,True) for descript in equip])\n",
    "ecatcb= ([create_expanded_checkbox(descript,True) for descript in ecat])\n",
    "equipclar=create_close_button('Clear', '')\n",
    "ecatclar=create_close_button('Clear', '')\n",
    "equipcl= create_close_button('Close', '')\n",
    "ecatcl= create_close_button('Close','')\n",
    "rsltcl= create_close_button('Close', '')\n",
    "descl=create_close_button('Close', '')\n",
    "desbtn=([create_description_button('Instruction','', str(x)) for x in range (2)])\n",
    "picbtn=create_photo_button('Photo', '')"
   ]
  },
  {
   "cell_type": "code",
   "execution_count": 346,
   "id": "8bb1aeb6-e4ff-4244-8575-f9b385aad10c",
   "metadata": {},
   "outputs": [],
   "source": [
    "\n",
    "bdyarea=['upperBody', 'Core', 'lowerBody']"
   ]
  },
  {
   "cell_type": "code",
   "execution_count": 347,
   "id": "0c80a30f-07b6-434d-9481-df93c086541d",
   "metadata": {},
   "outputs": [],
   "source": [
    "box1=[]\n",
    "box2=[]\n",
    "box3 =[]\n",
    "boxes = [box1,box2,box3]\n",
    "x=0\n",
    "for item in equipcb:\n",
    "    boxes[x].append(item)\n",
    "    x=x+1\n",
    "    if x==3:\n",
    "        x=0\n",
    "\n",
    "    "
   ]
  },
  {
   "cell_type": "code",
   "execution_count": 348,
   "id": "dd69d9af-611a-4dd2-a71a-b7df90818fa0",
   "metadata": {},
   "outputs": [],
   "source": [
    "grid = wt.GridspecLayout(5, 5, height='200px') \n",
    "eq= create_expanded_button('Equipment', '')\n",
    "ru = create_expanded_button('Run', '')\n",
    "leftbox=wt.VBox([eq, ru])\n",
    "ss= create_expanded_button('Sample Size', '')\n",
    "middlebox=wt.VBox([ss])\n",
    "ba= create_expanded_button('Body Area', '')\n",
    "rightbox =wt.VBox([ba])\n",
    "ec= create_expanded_button('Ex Category', '')\n",
    "qu= create_expanded_button('Exit', '')\n",
    "Farright=wt.VBox([ec, Exit_Title])\n",
    "Main_Menu =wt.HBox([leftbox, middlebox, rightbox, Farright])\n"
   ]
  },
  {
   "cell_type": "code",
   "execution_count": 349,
   "id": "f8e83f64-4063-4317-b5f2-96edeab3bcba",
   "metadata": {},
   "outputs": [],
   "source": [
    "leftbox =wt.VBox([descript for descript in box1])\n",
    "middlebox = wt.VBox([descript for descript in box2])\n",
    "item1 =([descript for descript in box3])\n",
    "rightbox=wt.VBox([descript for descript in box3])\n",
    "bottombox =wt.HBox([equipclar])\n",
    "Equip_Menu=wt.HBox([leftbox, middlebox, rightbox, bottombox])"
   ]
  },
  {
   "cell_type": "code",
   "execution_count": 350,
   "id": "d5353156-e3dd-43ca-9e0c-0741b18fa00a",
   "metadata": {},
   "outputs": [],
   "source": [
    "box1=[]\n",
    "box2=[]\n",
    "boxes = [box1,box2]\n",
    "x=0\n",
    "for item in ecatcb:\n",
    "    boxes[x].append(item)\n",
    "    x=x+1\n",
    "    if x==2:\n",
    "        x=0\n",
    "\n",
    "    "
   ]
  },
  {
   "cell_type": "code",
   "execution_count": 351,
   "id": "002208ea-b537-471f-af22-9e001356100c",
   "metadata": {},
   "outputs": [],
   "source": [
    "\n",
    "leftbox =wt.VBox([descript for descript in box1])\n",
    "rightbox=wt.VBox([descript for descript in box2])\n",
    "items =[ leftbox, rightbox, ecatclar]\n",
    "EC_Menu = wt.Box(children=items, layout=box_layout1)\n",
    "  "
   ]
  },
  {
   "cell_type": "code",
   "execution_count": 352,
   "id": "1af06150-33cb-424d-9a32-18f14c5e34a7",
   "metadata": {},
   "outputs": [],
   "source": [
    "opt=[('One', 1), ('Two', 2), ('Three', 3),('Four', 4),('Five', 5)]\n",
    "val=2\n",
    "descript=''\n",
    "ssize= create_expanded_dropdown(opt, val, descript)\n",
    "sscl= create_close_button('Close','')\n",
    "items =[ssize, sscl]\n",
    "boxv = wt.Box(children=items, layout=box_layout)\n",
    "SS_Menu=wt.HBox([boxv])\n",
    "\n"
   ]
  },
  {
   "cell_type": "code",
   "execution_count": 353,
   "id": "51c755c0-aa3a-4089-bc3e-fd44b42ffc8f",
   "metadata": {},
   "outputs": [],
   "source": [
    "bacb= ([create_expanded_checkbox(descript,True) for descript in bdyarea])\n",
    "leftbox =wt.VBox([descript for descript in bacb])\n",
    "bacl= create_close_button('Close','')\n",
    "BA_Menu=wt.HBox([leftbox])\n",
    "#BA_Menu"
   ]
  },
  {
   "cell_type": "code",
   "execution_count": 354,
   "id": "7055d82c-b29a-4507-91d2-d4cb84712493",
   "metadata": {},
   "outputs": [
    {
     "data": {
      "application/vnd.jupyter.widget-view+json": {
       "model_id": "28c3d843038e4988bdab06b52e8defbe",
       "version_major": 2,
       "version_minor": 0
      },
      "text/plain": [
       "HTML(value='<h1>Random Excercise Generator</h1>')"
      ]
     },
     "metadata": {},
     "output_type": "display_data"
    },
    {
     "data": {
      "application/vnd.jupyter.widget-view+json": {
       "model_id": "b587ee0702254211a60daef4d4159c64",
       "version_major": 2,
       "version_minor": 0
      },
      "text/plain": [
       "HBox(children=(VBox(children=(Button(description='Equipment', layout=Layout(height='120px', width='100px'), st…"
      ]
     },
     "metadata": {},
     "output_type": "display_data"
    },
    {
     "data": {
      "application/vnd.jupyter.widget-view+json": {
       "model_id": "1eb0930b9671435788c241fadb02c8b9",
       "version_major": 2,
       "version_minor": 0
      },
      "text/plain": [
       "Output()"
      ]
     },
     "metadata": {},
     "output_type": "display_data"
    }
   ],
   "source": [
    "\n",
    "\n",
    "display(Main_Title, Main_Menu,output)\n",
    "\n",
    "    "
   ]
  },
  {
   "cell_type": "code",
   "execution_count": 355,
   "id": "dabcb7c7-3ef7-4a3f-a1c0-d851a78e6638",
   "metadata": {},
   "outputs": [],
   "source": [
    "eq.on_click(Equipment)"
   ]
  },
  {
   "cell_type": "code",
   "execution_count": 356,
   "id": "edb5f22f-883d-4d04-a8f4-d92d3a1e57d4",
   "metadata": {},
   "outputs": [],
   "source": [
    "equipclar.on_click(Eq_Clear)"
   ]
  },
  {
   "cell_type": "code",
   "execution_count": 357,
   "id": "a80b873c-8823-402a-bf9f-3a0e26b9b6e0",
   "metadata": {},
   "outputs": [],
   "source": [
    "ss.on_click(SampleSize)"
   ]
  },
  {
   "cell_type": "code",
   "execution_count": 358,
   "id": "8bf19980-6be0-4b3d-84f8-39724806c805",
   "metadata": {},
   "outputs": [],
   "source": [
    "ba.on_click(BodyArea)"
   ]
  },
  {
   "cell_type": "code",
   "execution_count": 359,
   "id": "6a1a34bf-2ab5-47c9-80ab-aab085804663",
   "metadata": {},
   "outputs": [],
   "source": [
    "ec.on_click(ExCat)"
   ]
  },
  {
   "cell_type": "code",
   "execution_count": 360,
   "id": "068a4a50-9504-4a8f-a81f-6d61a6728242",
   "metadata": {},
   "outputs": [],
   "source": [
    "ecatclar.on_click(Ecat_Clear)"
   ]
  },
  {
   "cell_type": "code",
   "execution_count": 361,
   "id": "9ea33ffc-4962-4bf4-9ee2-14809a846479",
   "metadata": {},
   "outputs": [],
   "source": [
    "ru.on_click(Execute)"
   ]
  },
  {
   "cell_type": "code",
   "execution_count": 362,
   "id": "c286e233-5d2e-419c-8e60-50dff435fd5f",
   "metadata": {
    "editable": true,
    "slideshow": {
     "slide_type": ""
    },
    "tags": []
   },
   "outputs": [],
   "source": [
    "equipcl.on_click(Spec_Close)"
   ]
  },
  {
   "cell_type": "code",
   "execution_count": 363,
   "id": "1991cb26-7cf5-4f96-a424-2648d609e9ee",
   "metadata": {},
   "outputs": [],
   "source": [
    "sscl.on_click(Close)"
   ]
  },
  {
   "cell_type": "code",
   "execution_count": 364,
   "id": "cb40a7d3-df4a-4c85-99b9-6fb1b21da1bb",
   "metadata": {},
   "outputs": [],
   "source": [
    "bacl.on_click(Close)"
   ]
  },
  {
   "cell_type": "code",
   "execution_count": 365,
   "id": "326f067d-bab1-4f08-9682-e8dc1254517f",
   "metadata": {},
   "outputs": [],
   "source": [
    "rsltcl.on_click(Close)"
   ]
  },
  {
   "cell_type": "code",
   "execution_count": 366,
   "id": "8ed08dfd-d353-47a8-910b-974dcbfead0b",
   "metadata": {},
   "outputs": [],
   "source": [
    "ecatcl.on_click(Spec_Close)"
   ]
  },
  {
   "cell_type": "code",
   "execution_count": 367,
   "id": "9d83e309-034a-4f44-81dd-aa1ed0b136a2",
   "metadata": {},
   "outputs": [],
   "source": [
    "descl.on_click(Des_Close)"
   ]
  },
  {
   "cell_type": "code",
   "execution_count": 368,
   "id": "d9468060-8556-493e-9cec-5c9d84f4a75b",
   "metadata": {},
   "outputs": [],
   "source": [
    "for x in range(2):\n",
    "    desbtn[x].on_click(Get_Description)"
   ]
  },
  {
   "cell_type": "code",
   "execution_count": null,
   "id": "bf85e10d-dd20-4540-9fb5-2707e44e54c5",
   "metadata": {},
   "outputs": [],
   "source": []
  }
 ],
 "metadata": {
  "kernelspec": {
   "display_name": "Python 3 (ipykernel)",
   "language": "python",
   "name": "python3"
  },
  "language_info": {
   "codemirror_mode": {
    "name": "ipython",
    "version": 3
   },
   "file_extension": ".py",
   "mimetype": "text/x-python",
   "name": "python",
   "nbconvert_exporter": "python",
   "pygments_lexer": "ipython3",
   "version": "3.8.2"
  },
  "widgets": {
   "application/vnd.jupyter.widget-state+json": {
    "state": {
     "0037d724f0a64c52aefe3d168624e095": {
      "model_module": "@jupyter-widgets/controls",
      "model_module_version": "2.0.0",
      "model_name": "VBoxModel",
      "state": {
       "children": [
        "IPY_MODEL_02389bb15dc34a1aae06f58c3d9ab309",
        "IPY_MODEL_f3a7df8240ad4472a280ab07acc204a1"
       ],
       "layout": "IPY_MODEL_982d5e323ef442be9a2576b11aed4fcc"
      }
     },
     "006e46e309044541bb09f46fc72ed2f6": {
      "model_module": "@jupyter-widgets/base",
      "model_module_version": "2.0.0",
      "model_name": "LayoutModel",
      "state": {}
     },
     "0093d9a9a97b4a91a082b9aafc50b782": {
      "model_module": "@jupyter-widgets/controls",
      "model_module_version": "2.0.0",
      "model_name": "VBoxModel",
      "state": {
       "layout": "IPY_MODEL_583c7ddf147e41238e6d130143c8a89e"
      }
     },
     "009a74ed30a34b5fa42dec7779c7720c": {
      "model_module": "@jupyter-widgets/controls",
      "model_module_version": "2.0.0",
      "model_name": "CheckboxStyleModel",
      "state": {
       "description_width": ""
      }
     },
     "00a3779debfc4049aeb1e74f26f29a8d": {
      "model_module": "@jupyter-widgets/base",
      "model_module_version": "2.0.0",
      "model_name": "LayoutModel",
      "state": {}
     },
     "00bd6d3e651649b69bb4e3a092c66637": {
      "model_module": "@jupyter-widgets/controls",
      "model_module_version": "2.0.0",
      "model_name": "CheckboxModel",
      "state": {
       "description": "barbell",
       "disabled": false,
       "indent": false,
       "layout": "IPY_MODEL_443a346eff9444bd9ab7fcc0288f2f71",
       "style": "IPY_MODEL_18eb5f724ba64655b5f9a6c787e76f61",
       "value": true
      }
     },
     "00c86128183f4371b60c4f1229e75bbe": {
      "model_module": "@jupyter-widgets/controls",
      "model_module_version": "2.0.0",
      "model_name": "ButtonModel",
      "state": {
       "description": "Ex Category",
       "layout": "IPY_MODEL_fddb2121a19d45e7873abc82fc469dc1",
       "style": "IPY_MODEL_c377347396d74f08a668957621745ef3",
       "tooltip": null
      }
     },
     "00eff3c809a34640924932f3ab0360fd": {
      "model_module": "@jupyter-widgets/base",
      "model_module_version": "2.0.0",
      "model_name": "LayoutModel",
      "state": {}
     },
     "012a2c7f77bd44e09730722e7d8dc494": {
      "model_module": "@jupyter-widgets/controls",
      "model_module_version": "2.0.0",
      "model_name": "VBoxModel",
      "state": {
       "children": [
        "IPY_MODEL_68240ff97db54aac8ba3b395094f379c",
        "IPY_MODEL_874a67ede8624d0bb553d6a3f2bcd9c2"
       ],
       "layout": "IPY_MODEL_2f9496a84d304f19aca8b31016c2bd56"
      }
     },
     "0130da94e0be42e89f89d3e067bf3a58": {
      "model_module": "@jupyter-widgets/controls",
      "model_module_version": "2.0.0",
      "model_name": "VBoxModel",
      "state": {
       "children": [
        "IPY_MODEL_0f3b709a1fdd4d188507567562b91969",
        "IPY_MODEL_5b2e85974d4e4e218456895d483bf946",
        "IPY_MODEL_34a0942124634ec5956f089fbf5108db",
        "IPY_MODEL_828dfd0cde134559aa97bec1a400a370"
       ],
       "layout": "IPY_MODEL_00eff3c809a34640924932f3ab0360fd"
      }
     },
     "013b5b7f7f9d4195b61eee8031dd5568": {
      "model_module": "@jupyter-widgets/base",
      "model_module_version": "2.0.0",
      "model_name": "LayoutModel",
      "state": {}
     },
     "019c4c153c234801bf8f74ca20dc82f4": {
      "model_module": "@jupyter-widgets/controls",
      "model_module_version": "2.0.0",
      "model_name": "CheckboxModel",
      "state": {
       "description": "other",
       "disabled": false,
       "indent": false,
       "layout": "IPY_MODEL_565cb3aab535401aa2a406c01f353ff0",
       "style": "IPY_MODEL_b444d1d113774ce6814526f69fcff6eb",
       "value": true
      }
     },
     "01d9744ec1724adaac95a2c10a275bd4": {
      "model_module": "@jupyter-widgets/base",
      "model_module_version": "2.0.0",
      "model_name": "LayoutModel",
      "state": {}
     },
     "02389bb15dc34a1aae06f58c3d9ab309": {
      "model_module": "@jupyter-widgets/controls",
      "model_module_version": "2.0.0",
      "model_name": "ButtonModel",
      "state": {
       "description": "Equipment",
       "layout": "IPY_MODEL_1bf2af7d447049cca66eea8c3065c2bb",
       "style": "IPY_MODEL_9aae32ddcdcb41ff94bc8c968c4694c0",
       "tooltip": null
      }
     },
     "027e0f077ad048ca8649d3f9529e0288": {
      "model_module": "@jupyter-widgets/base",
      "model_module_version": "2.0.0",
      "model_name": "LayoutModel",
      "state": {
       "height": "40px",
       "width": "120px"
      }
     },
     "03506ccb49714d89b68596ed988ea837": {
      "model_module": "@jupyter-widgets/controls",
      "model_module_version": "2.0.0",
      "model_name": "ButtonModel",
      "state": {
       "description": "Clear",
       "layout": "IPY_MODEL_980b7e8e619f4ebfa1b03e02ee5845e1",
       "style": "IPY_MODEL_721bf9bcb16e45dd960422ae599bcb2a",
       "tooltip": null
      }
     },
     "0359da24127c45dc8bc36d6623c13bb4": {
      "model_module": "@jupyter-widgets/controls",
      "model_module_version": "2.0.0",
      "model_name": "ButtonStyleModel",
      "state": {
       "font_family": null,
       "font_size": null,
       "font_style": null,
       "font_variant": null,
       "font_weight": null,
       "text_color": null,
       "text_decoration": null
      }
     },
     "03c368a344a440628766267981eae886": {
      "model_module": "@jupyter-widgets/base",
      "model_module_version": "2.0.0",
      "model_name": "LayoutModel",
      "state": {}
     },
     "03e117fe0345469b9a2acc26e5905d08": {
      "model_module": "@jupyter-widgets/controls",
      "model_module_version": "2.0.0",
      "model_name": "HTMLStyleModel",
      "state": {
       "description_width": "",
       "font_size": null,
       "text_color": null
      }
     },
     "03f77d37065c404c9a5962f91bd65a06": {
      "model_module": "@jupyter-widgets/base",
      "model_module_version": "2.0.0",
      "model_name": "LayoutModel",
      "state": {}
     },
     "03fdba48c72c4286b3da44b0d2c614e4": {
      "model_module": "@jupyter-widgets/controls",
      "model_module_version": "2.0.0",
      "model_name": "BoxModel",
      "state": {
       "children": [
        "IPY_MODEL_603a3058baf44fa29f58f563f2aed2e9",
        "IPY_MODEL_0fd8ce4c776345e883645eeca7f68504",
        "IPY_MODEL_47325cf152524fae9631a3db949f0ff1"
       ],
       "layout": "IPY_MODEL_3c1f2427df344ff4bedb1d7a5af813fd"
      }
     },
     "0420e7c96c884a1d91e275178c7255e1": {
      "model_module": "@jupyter-widgets/base",
      "model_module_version": "2.0.0",
      "model_name": "LayoutModel",
      "state": {}
     },
     "042cf0a4bf354cef892a0ea8bb66cdb0": {
      "model_module": "@jupyter-widgets/controls",
      "model_module_version": "2.0.0",
      "model_name": "CheckboxModel",
      "state": {
       "description": "powerlifting",
       "disabled": false,
       "indent": false,
       "layout": "IPY_MODEL_553d311a55f44f10a22fadac96f1f76a",
       "style": "IPY_MODEL_6540f5c61e8b40258473d1aec8f74c35",
       "value": true
      }
     },
     "045cf56f1b3c4a0a9c371b6abaa73edf": {
      "model_module": "@jupyter-widgets/controls",
      "model_module_version": "2.0.0",
      "model_name": "CheckboxStyleModel",
      "state": {
       "description_width": ""
      }
     },
     "04786e44b43d4c2d9cec4a6a6772afb5": {
      "model_module": "@jupyter-widgets/controls",
      "model_module_version": "2.0.0",
      "model_name": "CheckboxStyleModel",
      "state": {
       "description_width": ""
      }
     },
     "0499921c059a436794b1bb8a8d73041e": {
      "model_module": "@jupyter-widgets/controls",
      "model_module_version": "2.0.0",
      "model_name": "DescriptionStyleModel",
      "state": {
       "description_width": ""
      }
     },
     "04a6428eb87f4df78f3fc49a5c10b397": {
      "model_module": "@jupyter-widgets/controls",
      "model_module_version": "2.0.0",
      "model_name": "ButtonModel",
      "state": {
       "description": "Instruction",
       "icon": "comment",
       "layout": "IPY_MODEL_062f5fd89ac5467c93554cde02b87790",
       "style": "IPY_MODEL_244093cfa5c04453824afda222398f9d",
       "tooltip": "465"
      }
     },
     "053afc94de61447fb27a20d0b988cf09": {
      "model_module": "@jupyter-widgets/controls",
      "model_module_version": "2.0.0",
      "model_name": "CheckboxStyleModel",
      "state": {
       "description_width": ""
      }
     },
     "05441ade84ad439f97469c4f4099ca10": {
      "model_module": "@jupyter-widgets/base",
      "model_module_version": "2.0.0",
      "model_name": "LayoutModel",
      "state": {}
     },
     "055e2502e9af4affb3bb66d250d425c9": {
      "model_module": "@jupyter-widgets/base",
      "model_module_version": "2.0.0",
      "model_name": "LayoutModel",
      "state": {}
     },
     "057e91abe6cc486dbfadcbc138bcc1ab": {
      "model_module": "@jupyter-widgets/controls",
      "model_module_version": "2.0.0",
      "model_name": "ButtonStyleModel",
      "state": {
       "font_family": null,
       "font_size": null,
       "font_style": null,
       "font_variant": null,
       "font_weight": null,
       "text_color": null,
       "text_decoration": null
      }
     },
     "05965cbea13e4b259361f0951d4e00ba": {
      "model_module": "@jupyter-widgets/base",
      "model_module_version": "2.0.0",
      "model_name": "LayoutModel",
      "state": {}
     },
     "06292aed5fc7422bbbe85ffedfc62f28": {
      "model_module": "@jupyter-widgets/controls",
      "model_module_version": "2.0.0",
      "model_name": "CheckboxModel",
      "state": {
       "description": "olympic weightlifting",
       "disabled": false,
       "indent": false,
       "layout": "IPY_MODEL_a5c2836e52fc4bb98fa42ff680ec1ea7",
       "style": "IPY_MODEL_e4a1c13cee5e4c4da506c3b2404904aa",
       "value": true
      }
     },
     "062f5fd89ac5467c93554cde02b87790": {
      "model_module": "@jupyter-widgets/base",
      "model_module_version": "2.0.0",
      "model_name": "LayoutModel",
      "state": {
       "height": "55px",
       "width": "120px"
      }
     },
     "06d38f46c8a442ad90a3a9e51aa97d39": {
      "model_module": "@jupyter-widgets/controls",
      "model_module_version": "2.0.0",
      "model_name": "HBoxModel",
      "state": {
       "children": [
        "IPY_MODEL_6b1a67506c9d49b99b6f8133a11aaaa0",
        "IPY_MODEL_7c5064a11c2d4f9cbe54d4f541e8101d",
        "IPY_MODEL_adac165da6554d0e908bfddb0ac8a2f0",
        "IPY_MODEL_6f110eb2a6434309a250b9e328225223"
       ],
       "layout": "IPY_MODEL_6599ffab4a4d4b0bad63a7763aa22584"
      }
     },
     "0702358d1b2843d0b1c25687d59395f4": {
      "model_module": "@jupyter-widgets/controls",
      "model_module_version": "2.0.0",
      "model_name": "HBoxModel",
      "state": {
       "children": [
        "IPY_MODEL_f0474381d4d442ccb476e6b4a4029760"
       ],
       "layout": "IPY_MODEL_63ec474489cd4d48948c37a7f081c8d1"
      }
     },
     "070410cae6224c459640934ef35d6c35": {
      "model_module": "@jupyter-widgets/controls",
      "model_module_version": "2.0.0",
      "model_name": "ButtonStyleModel",
      "state": {
       "font_family": null,
       "font_size": null,
       "font_style": null,
       "font_variant": null,
       "font_weight": null,
       "text_color": null,
       "text_decoration": null
      }
     },
     "072b0a09938a4ab9bf8c6ae1533cc2e1": {
      "model_module": "@jupyter-widgets/controls",
      "model_module_version": "2.0.0",
      "model_name": "CheckboxModel",
      "state": {
       "description": "cable",
       "disabled": false,
       "indent": false,
       "layout": "IPY_MODEL_486bc4ef364745aa8d942e5f9d7fab30",
       "style": "IPY_MODEL_403b1317c89740f7932d98d99319866a",
       "value": true
      }
     },
     "077efa619b1041eaa43ed4390a6a5f24": {
      "model_module": "@jupyter-widgets/controls",
      "model_module_version": "2.0.0",
      "model_name": "CheckboxModel",
      "state": {
       "description": "exercise ball",
       "disabled": false,
       "indent": false,
       "layout": "IPY_MODEL_df00aacbe9304e98ae9a917a3ff9f94d",
       "style": "IPY_MODEL_17c6a574d9f94e4493a6dbf85ecdd8b9",
       "value": true
      }
     },
     "07e20204fdfc42cd98ba9dca398d813f": {
      "model_module": "@jupyter-widgets/base",
      "model_module_version": "2.0.0",
      "model_name": "LayoutModel",
      "state": {
       "height": "55px",
       "width": "120px"
      }
     },
     "07fd3a43a526481fb10a9f9f26c96643": {
      "model_module": "@jupyter-widgets/base",
      "model_module_version": "2.0.0",
      "model_name": "LayoutModel",
      "state": {}
     },
     "081fef6ce55d429dafc977f1b137ea5a": {
      "model_module": "@jupyter-widgets/base",
      "model_module_version": "2.0.0",
      "model_name": "LayoutModel",
      "state": {}
     },
     "08772c19228442448ff79a0a72ce4e5d": {
      "model_module": "@jupyter-widgets/controls",
      "model_module_version": "2.0.0",
      "model_name": "VBoxModel",
      "state": {
       "layout": "IPY_MODEL_c356249c11c849f6b186e6580ad3c892"
      }
     },
     "0898862701ce4534a0e6b6e7758e87dc": {
      "model_module": "@jupyter-widgets/base",
      "model_module_version": "2.0.0",
      "model_name": "LayoutModel",
      "state": {
       "height": "40px",
       "width": "120px"
      }
     },
     "0918b0733998431c8805c7cc4b8acece": {
      "model_module": "@jupyter-widgets/controls",
      "model_module_version": "2.0.0",
      "model_name": "HBoxModel",
      "state": {
       "children": [
        "IPY_MODEL_b4334250c95b48a1a7bb035f2569d790"
       ],
       "layout": "IPY_MODEL_4fbcaeebb64d44e7986cc5e804bdfcf7"
      }
     },
     "093a5415fac4419e8557bafe66f8cd56": {
      "model_module": "@jupyter-widgets/controls",
      "model_module_version": "2.0.0",
      "model_name": "VBoxModel",
      "state": {
       "children": [
        "IPY_MODEL_4634917b268e4f61ab85bd46bfb6448b"
       ],
       "layout": "IPY_MODEL_bca9259270ee4bc7b8f22b9e689b67b2"
      }
     },
     "0956dcdfce13424ebcfba4bcd3d58ec5": {
      "model_module": "@jupyter-widgets/controls",
      "model_module_version": "2.0.0",
      "model_name": "HTMLStyleModel",
      "state": {
       "description_width": "",
       "font_size": null,
       "text_color": null
      }
     },
     "09700a846a074d149e88038c895f178c": {
      "model_module": "@jupyter-widgets/base",
      "model_module_version": "2.0.0",
      "model_name": "LayoutModel",
      "state": {}
     },
     "09a053ce92f542c481e29f7fc0d3e204": {
      "model_module": "@jupyter-widgets/base",
      "model_module_version": "2.0.0",
      "model_name": "LayoutModel",
      "state": {}
     },
     "09bf611220434519a7f841c6132c80cf": {
      "model_module": "@jupyter-widgets/base",
      "model_module_version": "2.0.0",
      "model_name": "LayoutModel",
      "state": {
       "height": "55px",
       "width": "80px"
      }
     },
     "09c184e3b7b043d9b7794aa5651c9aed": {
      "model_module": "@jupyter-widgets/base",
      "model_module_version": "2.0.0",
      "model_name": "LayoutModel",
      "state": {
       "height": "120px",
       "width": "100px"
      }
     },
     "09e9f93136814caa9be9f1eb07f131ad": {
      "model_module": "@jupyter-widgets/controls",
      "model_module_version": "2.0.0",
      "model_name": "HTMLStyleModel",
      "state": {
       "description_width": "",
       "font_size": null,
       "text_color": null
      }
     },
     "0a24a9115f26404194ed9a1ee41ab01b": {
      "model_module": "@jupyter-widgets/controls",
      "model_module_version": "2.0.0",
      "model_name": "ButtonModel",
      "state": {
       "description": "Instruction",
       "icon": "comment",
       "layout": "IPY_MODEL_319d150c711a4e0aabd1e1cd95c2d806",
       "style": "IPY_MODEL_c1d622eaca7a4e428c30c3f7e8721142",
       "tooltip": "0"
      }
     },
     "0a5a178ae49a4ad8a583b2d28398fd3a": {
      "model_module": "@jupyter-widgets/base",
      "model_module_version": "2.0.0",
      "model_name": "LayoutModel",
      "state": {}
     },
     "0ae41a7c617e45499fd2109a2a68a80b": {
      "model_module": "@jupyter-widgets/controls",
      "model_module_version": "2.0.0",
      "model_name": "CheckboxModel",
      "state": {
       "description": "medicine ball",
       "disabled": false,
       "indent": false,
       "layout": "IPY_MODEL_f1fb7761377a4509bd4defa3e63ba19b",
       "style": "IPY_MODEL_b55267f0d1824c289b81b5606ec90d71",
       "value": true
      }
     },
     "0b4c1aa5973b464ba877b849758fff87": {
      "model_module": "@jupyter-widgets/base",
      "model_module_version": "2.0.0",
      "model_name": "LayoutModel",
      "state": {}
     },
     "0b557a5913424917aafc5c9108f7e2d3": {
      "model_module": "@jupyter-widgets/base",
      "model_module_version": "2.0.0",
      "model_name": "LayoutModel",
      "state": {
       "align_items": "stretch",
       "display": "flex",
       "flex_flow": "row",
       "justify_content": "space-around",
       "width": "70%"
      }
     },
     "0b62e81a6703486f9c8ee7f9b49265ee": {
      "model_module": "@jupyter-widgets/controls",
      "model_module_version": "2.0.0",
      "model_name": "CheckboxStyleModel",
      "state": {
       "description_width": ""
      }
     },
     "0b8ff31995af4c7dac91d7ae3c1cc992": {
      "model_module": "@jupyter-widgets/controls",
      "model_module_version": "2.0.0",
      "model_name": "ButtonStyleModel",
      "state": {
       "font_family": null,
       "font_size": null,
       "font_style": null,
       "font_variant": null,
       "font_weight": null,
       "text_color": null,
       "text_decoration": null
      }
     },
     "0b9adde9df794229892c44a56f164795": {
      "model_module": "@jupyter-widgets/controls",
      "model_module_version": "2.0.0",
      "model_name": "ButtonStyleModel",
      "state": {
       "font_family": null,
       "font_size": null,
       "font_style": null,
       "font_variant": null,
       "font_weight": null,
       "text_color": null,
       "text_decoration": null
      }
     },
     "0ba96aedc73c4f7c91ae46c34047dcd6": {
      "model_module": "@jupyter-widgets/controls",
      "model_module_version": "2.0.0",
      "model_name": "HBoxModel",
      "state": {
       "children": [
        "IPY_MODEL_959a8c0e6779434dbed7820bd248aec2"
       ],
       "layout": "IPY_MODEL_913578142df14fb4924258860081a74d"
      }
     },
     "0bcd88df67954ed1971376851f2cc963": {
      "model_module": "@jupyter-widgets/base",
      "model_module_version": "2.0.0",
      "model_name": "LayoutModel",
      "state": {}
     },
     "0bcf487d61d24513a1d47b076f18221e": {
      "model_module": "@jupyter-widgets/base",
      "model_module_version": "2.0.0",
      "model_name": "LayoutModel",
      "state": {
       "align_items": "stretch",
       "display": "flex",
       "flex_flow": "row",
       "justify_content": "space-around",
       "width": "70%"
      }
     },
     "0c3816a53c264e999c32d343cfef492e": {
      "model_module": "@jupyter-widgets/controls",
      "model_module_version": "2.0.0",
      "model_name": "VBoxModel",
      "state": {
       "children": [
        "IPY_MODEL_bb796988438b42d08d819a13170c82dc"
       ],
       "layout": "IPY_MODEL_9a0ed18d47804eb0a46801fefb3dd3b8"
      }
     },
     "0c3ca117a63a402889225f16f62d0642": {
      "model_module": "@jupyter-widgets/controls",
      "model_module_version": "2.0.0",
      "model_name": "HBoxModel",
      "state": {
       "children": [
        "IPY_MODEL_24f3eb3b73c7463bb96775dc39fa0edc"
       ],
       "layout": "IPY_MODEL_09a053ce92f542c481e29f7fc0d3e204"
      }
     },
     "0c8b38cf44e8422384954db9b4f82a6f": {
      "model_module": "@jupyter-widgets/controls",
      "model_module_version": "2.0.0",
      "model_name": "HBoxModel",
      "state": {
       "children": [
        "IPY_MODEL_fb8266f2d0ae4fb3a784ddd8727d790f"
       ],
       "layout": "IPY_MODEL_bfe7378201d941a184005c53e208f433"
      }
     },
     "0c914855bfb74a5f88dfc52f7eef375f": {
      "model_module": "@jupyter-widgets/base",
      "model_module_version": "2.0.0",
      "model_name": "LayoutModel",
      "state": {}
     },
     "0c9e03cb0f9c4b6886ba93b3e892ef8f": {
      "model_module": "@jupyter-widgets/controls",
      "model_module_version": "2.0.0",
      "model_name": "CheckboxStyleModel",
      "state": {
       "description_width": ""
      }
     },
     "0cb074b8dba84f0e8efc61f9d15e7392": {
      "model_module": "@jupyter-widgets/base",
      "model_module_version": "2.0.0",
      "model_name": "LayoutModel",
      "state": {
       "height": "120px",
       "width": "100px"
      }
     },
     "0d13f4fd01af41ad88adb8ccb1429c83": {
      "model_module": "@jupyter-widgets/base",
      "model_module_version": "2.0.0",
      "model_name": "LayoutModel",
      "state": {}
     },
     "0dfe78c5f2654ba1b7e88b0a249c6e6c": {
      "model_module": "@jupyter-widgets/controls",
      "model_module_version": "2.0.0",
      "model_name": "HTMLModel",
      "state": {
       "layout": "IPY_MODEL_0c914855bfb74a5f88dfc52f7eef375f",
       "style": "IPY_MODEL_7d5617c284e34699ba5685dedbc9bb0a",
       "value": "<h3>Core</h3>"
      }
     },
     "0e1f5683526b40d8b5acd6fd05c064e1": {
      "model_module": "@jupyter-widgets/controls",
      "model_module_version": "2.0.0",
      "model_name": "CheckboxModel",
      "state": {
       "description": "plyometrics",
       "disabled": false,
       "indent": false,
       "layout": "IPY_MODEL_8e0ced18d39d41d687b794c712234e71",
       "style": "IPY_MODEL_17dcd4ebe7f54e3c972d50718e76710d",
       "value": true
      }
     },
     "0e2da5dda3154b959d1f95028d1d9633": {
      "model_module": "@jupyter-widgets/controls",
      "model_module_version": "2.0.0",
      "model_name": "VBoxModel",
      "state": {
       "children": [
        "IPY_MODEL_b350643e0bd6448c8d00851fe2322d6b",
        "IPY_MODEL_12bd31b893bd479593255cd3e2d2ba2f"
       ],
       "layout": "IPY_MODEL_e93a47c66fba4fe6ae3a33f882f52726"
      }
     },
     "0e347ba703e447bdb4217dd24a6ce7f7": {
      "model_module": "@jupyter-widgets/controls",
      "model_module_version": "2.0.0",
      "model_name": "CheckboxModel",
      "state": {
       "description": "machine",
       "disabled": false,
       "indent": false,
       "layout": "IPY_MODEL_ff9c926c578a4a2686e4d32f9a6e1375",
       "style": "IPY_MODEL_739911c884f64c95905348f7542e4da6",
       "value": true
      }
     },
     "0e3ccfad204040988972855dbc88c35e": {
      "model_module": "@jupyter-widgets/base",
      "model_module_version": "2.0.0",
      "model_name": "LayoutModel",
      "state": {}
     },
     "0e5e84c32a3c42638915dddab1b776be": {
      "model_module": "@jupyter-widgets/controls",
      "model_module_version": "2.0.0",
      "model_name": "VBoxModel",
      "state": {
       "children": [
        "IPY_MODEL_af191b1d3c41474db39c8fd47ef32b15",
        "IPY_MODEL_03fdba48c72c4286b3da44b0d2c614e4"
       ],
       "layout": "IPY_MODEL_289804d8bbc84c9296daa449a23b5806"
      }
     },
     "0e7b0c83764f4ef8a8a3dbdae8b9993e": {
      "model_module": "@jupyter-widgets/base",
      "model_module_version": "2.0.0",
      "model_name": "LayoutModel",
      "state": {}
     },
     "0e867de174cc4fd5ac70bf24048e41a2": {
      "model_module": "@jupyter-widgets/controls",
      "model_module_version": "2.0.0",
      "model_name": "CheckboxModel",
      "state": {
       "description": "upperBody",
       "disabled": false,
       "indent": false,
       "layout": "IPY_MODEL_dd79b417dd514302b83df528827ae5e8",
       "style": "IPY_MODEL_712f4775cae64cdd90210b26c4b95470",
       "value": true
      }
     },
     "0e951c4b9244414792161f228e332f8b": {
      "model_module": "@jupyter-widgets/controls",
      "model_module_version": "2.0.0",
      "model_name": "CheckboxStyleModel",
      "state": {
       "description_width": ""
      }
     },
     "0ef76f79cfa04a32ab1e8a60d6f9253b": {
      "model_module": "@jupyter-widgets/controls",
      "model_module_version": "2.0.0",
      "model_name": "ButtonModel",
      "state": {
       "description": "Clear",
       "layout": "IPY_MODEL_12e7a78d28d9478bbdd1c386e491678c",
       "style": "IPY_MODEL_44cd1349af4f4ef3971ac8041406cc36",
       "tooltip": null
      }
     },
     "0efbba6098824d90916cf4576a3611df": {
      "model_module": "@jupyter-widgets/controls",
      "model_module_version": "2.0.0",
      "model_name": "ButtonModel",
      "state": {
       "description": "Clear",
       "layout": "IPY_MODEL_de2bb8bd67ef49249205fde5aabdd2ac",
       "style": "IPY_MODEL_0359da24127c45dc8bc36d6623c13bb4",
       "tooltip": null
      }
     },
     "0f027eedc7df459dbc91caf64e8ac0e3": {
      "model_module": "@jupyter-widgets/controls",
      "model_module_version": "2.0.0",
      "model_name": "ButtonStyleModel",
      "state": {
       "font_family": null,
       "font_size": null,
       "font_style": null,
       "font_variant": null,
       "font_weight": null,
       "text_color": null,
       "text_decoration": null
      }
     },
     "0f23b921b73e44f98e48d258d10a16b0": {
      "model_module": "@jupyter-widgets/base",
      "model_module_version": "2.0.0",
      "model_name": "LayoutModel",
      "state": {}
     },
     "0f3b709a1fdd4d188507567562b91969": {
      "model_module": "@jupyter-widgets/controls",
      "model_module_version": "2.0.0",
      "model_name": "CheckboxModel",
      "state": {
       "description": "body only",
       "disabled": false,
       "indent": false,
       "layout": "IPY_MODEL_5a7633c92cef40f2a61af54437799d9a",
       "style": "IPY_MODEL_6d1a79761a8c46f6b2398c36ac188b6c",
       "value": true
      }
     },
     "0f66969054dd4d088f7ff6db3c9fa0b4": {
      "model_module": "@jupyter-widgets/controls",
      "model_module_version": "2.0.0",
      "model_name": "CheckboxStyleModel",
      "state": {
       "description_width": ""
      }
     },
     "0f8fe681f9dc4ae5874b6660d77ad4f7": {
      "model_module": "@jupyter-widgets/base",
      "model_module_version": "2.0.0",
      "model_name": "LayoutModel",
      "state": {
       "height": "40px",
       "width": "120px"
      }
     },
     "0f9efa56cfa94426a34cc96a7968d602": {
      "model_module": "@jupyter-widgets/controls",
      "model_module_version": "2.0.0",
      "model_name": "HBoxModel",
      "state": {
       "children": [
        "IPY_MODEL_ff8e6e52e59d46919ee3b8da427bcb64",
        "IPY_MODEL_de02f6a18b1f423cb18d8ea5e55efea8",
        "IPY_MODEL_80d380c09a464c488759db08a40efadc",
        "IPY_MODEL_e29da441cc1b4f23b80fc044ad89be74"
       ],
       "layout": "IPY_MODEL_6760b3370bcd49dfab2e3077bc0f1cfb"
      }
     },
     "0faa47d76d804a2cb41a09b8b29773f3": {
      "model_module": "@jupyter-widgets/base",
      "model_module_version": "2.0.0",
      "model_name": "LayoutModel",
      "state": {}
     },
     "0fd2bd5975d24e64922a2d3c00f51da1": {
      "model_module": "@jupyter-widgets/controls",
      "model_module_version": "2.0.0",
      "model_name": "VBoxModel",
      "state": {
       "children": [
        "IPY_MODEL_8624a2f5333745a88c5d0b290f184d42",
        "IPY_MODEL_03fdba48c72c4286b3da44b0d2c614e4"
       ],
       "layout": "IPY_MODEL_8fe2fcac2610487a8af32703ed351efb"
      }
     },
     "0fd8ce4c776345e883645eeca7f68504": {
      "model_module": "@jupyter-widgets/controls",
      "model_module_version": "2.0.0",
      "model_name": "VBoxModel",
      "state": {
       "children": [
        "IPY_MODEL_a2c969ecde14412d831fb7fb9ecee381",
        "IPY_MODEL_978407607621439287987397118a7176",
        "IPY_MODEL_d10e9af593cf47c698bfbd28bd49ecf1"
       ],
       "layout": "IPY_MODEL_d6d0565ab8af4ce4aabb8ba87e1ae39c"
      }
     },
     "0ff69e8d57a744e29f2240a096eafdce": {
      "model_module": "@jupyter-widgets/base",
      "model_module_version": "2.0.0",
      "model_name": "LayoutModel",
      "state": {
       "height": "120px",
       "width": "100px"
      }
     },
     "1010ac6d21da492bb2a10c0745baac44": {
      "model_module": "@jupyter-widgets/controls",
      "model_module_version": "2.0.0",
      "model_name": "ButtonStyleModel",
      "state": {
       "font_family": null,
       "font_size": null,
       "font_style": null,
       "font_variant": null,
       "font_weight": null,
       "text_color": null,
       "text_decoration": null
      }
     },
     "101f45c0fe644e559925c935c3d1350b": {
      "model_module": "@jupyter-widgets/controls",
      "model_module_version": "2.0.0",
      "model_name": "HBoxModel",
      "state": {
       "children": [
        "IPY_MODEL_c8cf85eebb1c46b0a3f0fb869a0753a7"
       ],
       "layout": "IPY_MODEL_69fcefe9158944939afe00cbb01910fd"
      }
     },
     "10404a02f6f54b71b6078a74740e3b78": {
      "model_module": "@jupyter-widgets/base",
      "model_module_version": "2.0.0",
      "model_name": "LayoutModel",
      "state": {
       "height": "55px",
       "width": "80px"
      }
     },
     "1043de06969849549f1723cf74c3ec58": {
      "model_module": "@jupyter-widgets/controls",
      "model_module_version": "2.0.0",
      "model_name": "CheckboxModel",
      "state": {
       "description": "Core",
       "disabled": false,
       "indent": false,
       "layout": "IPY_MODEL_305221311114463cb07dfccf35730739",
       "style": "IPY_MODEL_5f8eeddc6d24416eb261be475cdd6f60",
       "value": true
      }
     },
     "10525316ff0846fc80482fc657637402": {
      "model_module": "@jupyter-widgets/base",
      "model_module_version": "2.0.0",
      "model_name": "LayoutModel",
      "state": {}
     },
     "1053ffb29bf14881bd1ca6acee333a90": {
      "model_module": "@jupyter-widgets/controls",
      "model_module_version": "2.0.0",
      "model_name": "DescriptionStyleModel",
      "state": {
       "description_width": ""
      }
     },
     "10d11929dc5c4321af00e1d764e5714b": {
      "model_module": "@jupyter-widgets/controls",
      "model_module_version": "2.0.0",
      "model_name": "HBoxModel",
      "state": {
       "children": [
        "IPY_MODEL_ca5668fcbd764d82aeffd5c982035c68",
        "IPY_MODEL_1ec3e9459aef445e8a93f6e2cdd5e1e9",
        "IPY_MODEL_0130da94e0be42e89f89d3e067bf3a58",
        "IPY_MODEL_64329cda8ea646d6bc64d23779d48739"
       ],
       "layout": "IPY_MODEL_a354dc7b9dca40649a03aee6f5ea3ef9"
      }
     },
     "110ffbd7bf494eaea5ef35a80308cd5a": {
      "model_module": "@jupyter-widgets/controls",
      "model_module_version": "2.0.0",
      "model_name": "CheckboxStyleModel",
      "state": {
       "description_width": ""
      }
     },
     "11143a54f485488ea3c353fe5c592f98": {
      "model_module": "@jupyter-widgets/base",
      "model_module_version": "2.0.0",
      "model_name": "LayoutModel",
      "state": {}
     },
     "111c59d620a144528c28ca9db2289cda": {
      "model_module": "@jupyter-widgets/base",
      "model_module_version": "2.0.0",
      "model_name": "LayoutModel",
      "state": {}
     },
     "1143b818e0604b79b0cbc32122640c03": {
      "model_module": "@jupyter-widgets/controls",
      "model_module_version": "2.0.0",
      "model_name": "ButtonModel",
      "state": {
       "description": "Instruction",
       "icon": "comment",
       "layout": "IPY_MODEL_9f46b3d3aad84329be1ed9e8d3bfd524",
       "style": "IPY_MODEL_fb41ccd9f9f54972bb49478761f70be7",
       "tooltip": "126"
      }
     },
     "114b5e2acc7044f6a6219f42c773e66f": {
      "model_module": "@jupyter-widgets/base",
      "model_module_version": "2.0.0",
      "model_name": "LayoutModel",
      "state": {
       "height": "120px",
       "width": "100px"
      }
     },
     "118e3e39aa5543fd88ea48638a1af7c1": {
      "model_module": "@jupyter-widgets/base",
      "model_module_version": "2.0.0",
      "model_name": "LayoutModel",
      "state": {
       "height": "40px",
       "width": "160px"
      }
     },
     "11930b4bf80d4b33b92a895bc50e3284": {
      "model_module": "@jupyter-widgets/base",
      "model_module_version": "2.0.0",
      "model_name": "LayoutModel",
      "state": {}
     },
     "11d2866c553240f9a06b264e4b738a52": {
      "model_module": "@jupyter-widgets/controls",
      "model_module_version": "2.0.0",
      "model_name": "VBoxModel",
      "state": {
       "children": [
        "IPY_MODEL_1f0c72b6c91e4db89e71936c002ee521",
        "IPY_MODEL_ac141aee053a4a04b976244f9a17247f",
        "IPY_MODEL_49652efa94814276a118c59695834ae2",
        "IPY_MODEL_7138f8083d314e2790a7c61c284aed21"
       ],
       "layout": "IPY_MODEL_553b83d04a304c10b669e46f288d9a14"
      }
     },
     "11e0f033370b4230ad81f0b0d6e66560": {
      "model_module": "@jupyter-widgets/base",
      "model_module_version": "2.0.0",
      "model_name": "LayoutModel",
      "state": {}
     },
     "12bd31b893bd479593255cd3e2d2ba2f": {
      "model_module": "@jupyter-widgets/controls",
      "model_module_version": "2.0.0",
      "model_name": "HBoxModel",
      "state": {
       "children": [
        "IPY_MODEL_bd74621eaff84cdbbcb69a8865520b74"
       ],
       "layout": "IPY_MODEL_39a711f62da4455fa390ce2116126be2"
      }
     },
     "12beb027cc614a33b0b4b1cb4036fb2e": {
      "model_module": "@jupyter-widgets/controls",
      "model_module_version": "2.0.0",
      "model_name": "GridBoxModel",
      "state": {
       "layout": "IPY_MODEL_542f9401ff22499f81d401540e6273d9"
      }
     },
     "12e7a78d28d9478bbdd1c386e491678c": {
      "model_module": "@jupyter-widgets/base",
      "model_module_version": "2.0.0",
      "model_name": "LayoutModel",
      "state": {
       "height": "55px",
       "width": "80px"
      }
     },
     "12f07bf5addf4a1899796d369a01ff99": {
      "model_module": "@jupyter-widgets/base",
      "model_module_version": "2.0.0",
      "model_name": "LayoutModel",
      "state": {}
     },
     "131a7d3bd9f248a1b08c57b4e8674114": {
      "model_module": "@jupyter-widgets/base",
      "model_module_version": "2.0.0",
      "model_name": "LayoutModel",
      "state": {}
     },
     "13346a1fcd1641338801bd08bbb2480d": {
      "model_module": "@jupyter-widgets/controls",
      "model_module_version": "2.0.0",
      "model_name": "DropdownModel",
      "state": {
       "_options_labels": [
        "One",
        "Two",
        "Three",
        "Four",
        "Five"
       ],
       "index": 1,
       "layout": "IPY_MODEL_23965dbfea70483c952f03c51a309ff2",
       "style": "IPY_MODEL_49c9e2a1814244fc9cf0dcc068e03eca"
      }
     },
     "1340a7fef10f4912a57cba432ef67016": {
      "model_module": "@jupyter-widgets/controls",
      "model_module_version": "2.0.0",
      "model_name": "ButtonModel",
      "state": {
       "description": "Equipment",
       "layout": "IPY_MODEL_82e49e8babd44379bcd1e453f43835e3",
       "style": "IPY_MODEL_85a6f319490446ebbbd670b2f49fb242",
       "tooltip": null
      }
     },
     "134f6eaf9ddf4be186ef757b765fcf8a": {
      "model_module": "@jupyter-widgets/base",
      "model_module_version": "2.0.0",
      "model_name": "LayoutModel",
      "state": {
       "height": "55px",
       "width": "80px"
      }
     },
     "138ae0d25e074f2a8a2522f03859e66e": {
      "model_module": "@jupyter-widgets/base",
      "model_module_version": "2.0.0",
      "model_name": "LayoutModel",
      "state": {}
     },
     "13b676c643734cb2a227965046407ba6": {
      "model_module": "@jupyter-widgets/controls",
      "model_module_version": "2.0.0",
      "model_name": "ButtonModel",
      "state": {
       "description": "Photo",
       "layout": "IPY_MODEL_c4c68b0909b542af8c262415385f676a",
       "style": "IPY_MODEL_d09ddf820f8b4adc8a97b667b69d64aa",
       "tooltip": null
      }
     },
     "13dcd6a27daa4854a2cec1a14cae3122": {
      "model_module": "@jupyter-widgets/controls",
      "model_module_version": "2.0.0",
      "model_name": "HBoxModel",
      "state": {
       "children": [
        "IPY_MODEL_cf8e8acb79fb4ae28cdab92012c23364"
       ],
       "layout": "IPY_MODEL_375b75dff22e481e8029508e0c9440eb"
      }
     },
     "13ee8f1cdc7041aca63e8c680c17b859": {
      "model_module": "@jupyter-widgets/controls",
      "model_module_version": "2.0.0",
      "model_name": "CheckboxModel",
      "state": {
       "description": "barbell",
       "disabled": false,
       "indent": false,
       "layout": "IPY_MODEL_4762b6f2f868439ca959307382b560b3",
       "style": "IPY_MODEL_a7e55989f3bf48b9827860c4e642252f",
       "value": true
      }
     },
     "143af2b9ffd84dccaacd7c53b16cfbd0": {
      "model_module": "@jupyter-widgets/controls",
      "model_module_version": "2.0.0",
      "model_name": "HTMLStyleModel",
      "state": {
       "description_width": "",
       "font_size": null,
       "text_color": null
      }
     },
     "144ee07c02bb4a1faf5b625bb7a3882f": {
      "model_module": "@jupyter-widgets/controls",
      "model_module_version": "2.0.0",
      "model_name": "CheckboxStyleModel",
      "state": {
       "description_width": ""
      }
     },
     "14ad3232aa39445f8d31ea7a8e243b54": {
      "model_module": "@jupyter-widgets/base",
      "model_module_version": "2.0.0",
      "model_name": "LayoutModel",
      "state": {
       "height": "40px",
       "width": "120px"
      }
     },
     "14bacce8aeb241e3a0121f8b0bd3204b": {
      "model_module": "@jupyter-widgets/controls",
      "model_module_version": "2.0.0",
      "model_name": "CheckboxModel",
      "state": {
       "description": "stretching",
       "disabled": false,
       "indent": false,
       "layout": "IPY_MODEL_87a43b49068346fb8c2c33e61eb7699a",
       "style": "IPY_MODEL_b1fcf272703f40d994326af5170ea945",
       "value": true
      }
     },
     "15ac000eb95e486ab4c897de7990fdce": {
      "model_module": "@jupyter-widgets/controls",
      "model_module_version": "2.0.0",
      "model_name": "HBoxModel",
      "state": {
       "children": [
        "IPY_MODEL_534addfa6d524e259a6f41e850b7f4c9"
       ],
       "layout": "IPY_MODEL_3c1ff85d958b49c28541dd7d0ac610f7"
      }
     },
     "15c3f78d149c4748b14c7d5423f25fd2": {
      "model_module": "@jupyter-widgets/controls",
      "model_module_version": "2.0.0",
      "model_name": "CheckboxModel",
      "state": {
       "description": "medicine ball",
       "disabled": false,
       "indent": false,
       "layout": "IPY_MODEL_66a4464629784172be613af00ed85175",
       "style": "IPY_MODEL_acd986c6a3c541e6b2c033be6fc16813",
       "value": true
      }
     },
     "160b09364e6b4d72bfdbb4f46a87d81d": {
      "model_module": "@jupyter-widgets/controls",
      "model_module_version": "2.0.0",
      "model_name": "ButtonModel",
      "state": {
       "description": "Close",
       "layout": "IPY_MODEL_82f6894acb36437b8c7a1865e38e9dde",
       "style": "IPY_MODEL_531279ada1624367bc2ecef65af892ba",
       "tooltip": null
      }
     },
     "167e3ab712204662bf232215fcba5f18": {
      "model_module": "@jupyter-widgets/controls",
      "model_module_version": "2.0.0",
      "model_name": "HTMLStyleModel",
      "state": {
       "description_width": "",
       "font_size": null,
       "text_color": null
      }
     },
     "16a207dbb9dc43ddbc27c95a5485935c": {
      "model_module": "@jupyter-widgets/base",
      "model_module_version": "2.0.0",
      "model_name": "LayoutModel",
      "state": {
       "height": "200px"
      }
     },
     "16b03c7252f24319bdfbb21161f70f0e": {
      "model_module": "@jupyter-widgets/base",
      "model_module_version": "2.0.0",
      "model_name": "LayoutModel",
      "state": {}
     },
     "16bfe10a086e4072a6de382a71cb6877": {
      "model_module": "@jupyter-widgets/controls",
      "model_module_version": "2.0.0",
      "model_name": "HTMLModel",
      "state": {
       "layout": "IPY_MODEL_f1108bcd049a4b428d9692d6b297c07f",
       "style": "IPY_MODEL_a4f523512d2a4b0f8804db593d7f77b5",
       "value": "One-Arm Medicine Ball Slam"
      }
     },
     "16fe98d40362465f8e4ef424c64a7bd4": {
      "model_module": "@jupyter-widgets/base",
      "model_module_version": "2.0.0",
      "model_name": "LayoutModel",
      "state": {
       "height": "40px",
       "width": "120px"
      }
     },
     "176aba9b94d9405289c63cc7748200b5": {
      "model_module": "@jupyter-widgets/base",
      "model_module_version": "2.0.0",
      "model_name": "LayoutModel",
      "state": {}
     },
     "177a6638f34e499997f2f32b2f8fd0fe": {
      "model_module": "@jupyter-widgets/base",
      "model_module_version": "2.0.0",
      "model_name": "LayoutModel",
      "state": {}
     },
     "178e14f716d74a4183d768d85e4595fa": {
      "model_module": "@jupyter-widgets/base",
      "model_module_version": "2.0.0",
      "model_name": "LayoutModel",
      "state": {}
     },
     "17b6b7f89dd24e2a9fc058af7e236df9": {
      "model_module": "@jupyter-widgets/controls",
      "model_module_version": "2.0.0",
      "model_name": "CheckboxModel",
      "state": {
       "description": "exercise ball",
       "disabled": false,
       "indent": false,
       "layout": "IPY_MODEL_428eb29aa9bc46c0af6b7a3c08f38a58",
       "style": "IPY_MODEL_5069e0aa9ddd4554b33ba5e8864b8fb5",
       "value": true
      }
     },
     "17c6a574d9f94e4493a6dbf85ecdd8b9": {
      "model_module": "@jupyter-widgets/controls",
      "model_module_version": "2.0.0",
      "model_name": "CheckboxStyleModel",
      "state": {
       "description_width": ""
      }
     },
     "17dcd4ebe7f54e3c972d50718e76710d": {
      "model_module": "@jupyter-widgets/controls",
      "model_module_version": "2.0.0",
      "model_name": "CheckboxStyleModel",
      "state": {
       "description_width": ""
      }
     },
     "1801082cca0843829e4b833d06a64cf5": {
      "model_module": "@jupyter-widgets/base",
      "model_module_version": "2.0.0",
      "model_name": "LayoutModel",
      "state": {}
     },
     "181228ea016f494b9fcd410019748589": {
      "model_module": "@jupyter-widgets/controls",
      "model_module_version": "2.0.0",
      "model_name": "ButtonModel",
      "state": {
       "description": "Instruction",
       "icon": "comment",
       "layout": "IPY_MODEL_3161f08d24a34235a3a155f4dbe8e155",
       "style": "IPY_MODEL_ec509c03d0c142008aa9f830d03581e0",
       "tooltip": "863"
      }
     },
     "18435fcfd437497b93578be1abdbf80b": {
      "model_module": "@jupyter-widgets/controls",
      "model_module_version": "2.0.0",
      "model_name": "CheckboxStyleModel",
      "state": {
       "description_width": ""
      }
     },
     "18532ee8be454494a637d34df3cbb34a": {
      "model_module": "@jupyter-widgets/controls",
      "model_module_version": "2.0.0",
      "model_name": "CheckboxStyleModel",
      "state": {
       "description_width": ""
      }
     },
     "18d7f3b7b1ec43f7aee83918d8ba396a": {
      "model_module": "@jupyter-widgets/controls",
      "model_module_version": "2.0.0",
      "model_name": "HTMLStyleModel",
      "state": {
       "description_width": "",
       "font_size": null,
       "text_color": null
      }
     },
     "18dcefc7e0c84996894f5ab0ef6cd1c3": {
      "model_module": "@jupyter-widgets/controls",
      "model_module_version": "2.0.0",
      "model_name": "HTMLModel",
      "state": {
       "layout": "IPY_MODEL_76432b666d434ffab9c873ffa232f932",
       "style": "IPY_MODEL_e07090fe83194eeaab656ba229992749",
       "value": "<h2>Sample Size</h2>"
      }
     },
     "18e9173c470d4fa6bbf3eee44faeaa54": {
      "model_module": "@jupyter-widgets/controls",
      "model_module_version": "2.0.0",
      "model_name": "ButtonModel",
      "state": {
       "description": "Close",
       "layout": "IPY_MODEL_24ae19e5db8c46b881ad8e4933e15026",
       "style": "IPY_MODEL_e3e99c57ac204a3b9b12abc5da39264a",
       "tooltip": null
      }
     },
     "18eb5f724ba64655b5f9a6c787e76f61": {
      "model_module": "@jupyter-widgets/controls",
      "model_module_version": "2.0.0",
      "model_name": "CheckboxStyleModel",
      "state": {
       "description_width": ""
      }
     },
     "1941310ca9754abfbcd1c6bc06b21196": {
      "model_module": "@jupyter-widgets/controls",
      "model_module_version": "2.0.0",
      "model_name": "BoxModel",
      "state": {
       "children": [
        "IPY_MODEL_70bf23d8c55a4c4faf1bc85ea67d622f",
        "IPY_MODEL_5255f087cd4c41d7ba2195f3d1e9f828"
       ],
       "layout": "IPY_MODEL_a8fe3668f2164f95817eba4f64bcf813"
      }
     },
     "19526f5a6b4b4c2c878cc1af09cf84bb": {
      "model_module": "@jupyter-widgets/controls",
      "model_module_version": "2.0.0",
      "model_name": "ButtonModel",
      "state": {
       "description": "Close",
       "layout": "IPY_MODEL_e04a4dc47aff4e62ac2073a3a1d9b8af",
       "style": "IPY_MODEL_a59e11146d8a4ebf8a12e78fad246ae9",
       "tooltip": null
      }
     },
     "1959a5dd120f424fa895b39bf85f0360": {
      "model_module": "@jupyter-widgets/base",
      "model_module_version": "2.0.0",
      "model_name": "LayoutModel",
      "state": {
       "height": "40px",
       "width": "160px"
      }
     },
     "1985d934028b48b8bca469c86ba95395": {
      "model_module": "@jupyter-widgets/controls",
      "model_module_version": "2.0.0",
      "model_name": "HTMLStyleModel",
      "state": {
       "description_width": "",
       "font_size": null,
       "text_color": null
      }
     },
     "19c0ea9b239c4cb6b8adc90d2a40e17d": {
      "model_module": "@jupyter-widgets/controls",
      "model_module_version": "2.0.0",
      "model_name": "CheckboxModel",
      "state": {
       "description": "Core",
       "disabled": false,
       "indent": false,
       "layout": "IPY_MODEL_23d15fb2e6334512a4e901eee61d32e2",
       "style": "IPY_MODEL_28eae36497bf475a914ee44aab193733",
       "value": true
      }
     },
     "19e4c9270d6e4aa2bcd1a02b763aa581": {
      "model_module": "@jupyter-widgets/base",
      "model_module_version": "2.0.0",
      "model_name": "LayoutModel",
      "state": {
       "height": "55px",
       "width": "80px"
      }
     },
     "19fee34a3d6c4ae4bc61ff1a2bc60be2": {
      "model_module": "@jupyter-widgets/base",
      "model_module_version": "2.0.0",
      "model_name": "LayoutModel",
      "state": {
       "height": "55px",
       "width": "120px"
      }
     },
     "19ffa71158e148e8b07c15545a34f179": {
      "model_module": "@jupyter-widgets/base",
      "model_module_version": "2.0.0",
      "model_name": "LayoutModel",
      "state": {}
     },
     "1a1bd7735a9547958b171f7a13c37817": {
      "model_module": "@jupyter-widgets/base",
      "model_module_version": "2.0.0",
      "model_name": "LayoutModel",
      "state": {
       "height": "120px",
       "width": "100px"
      }
     },
     "1a6a864f331f45319866e585f9683f35": {
      "model_module": "@jupyter-widgets/controls",
      "model_module_version": "2.0.0",
      "model_name": "HTMLModel",
      "state": {
       "layout": "IPY_MODEL_cab475bf375342998fd13711c166a8e5",
       "style": "IPY_MODEL_6ba23e69f45b4e8ab48cdb83f16f428c",
       "value": "Lying Cable Curl"
      }
     },
     "1aaffcd2448e4efe9038075c2819aeef": {
      "model_module": "@jupyter-widgets/controls",
      "model_module_version": "2.0.0",
      "model_name": "HTMLModel",
      "state": {
       "layout": "IPY_MODEL_7d9bbb4215774ce4a5146aee987cd2c3",
       "style": "IPY_MODEL_a5db873328534084aa288b5e1783e9fb",
       "value": "<h5>\"Close Tab to Exit\"</h5>"
      }
     },
     "1ab93804e84744b9ad615c2999ededd6": {
      "model_module": "@jupyter-widgets/controls",
      "model_module_version": "2.0.0",
      "model_name": "CheckboxModel",
      "state": {
       "description": "olympic weightlifting",
       "disabled": false,
       "indent": false,
       "layout": "IPY_MODEL_68d9951f5e174d3585f99ad9fce815e7",
       "style": "IPY_MODEL_900d7fde2bbf4b8689dd0e94346efe72",
       "value": true
      }
     },
     "1acf7daee3724f61bdbbb692d866a34f": {
      "model_module": "@jupyter-widgets/controls",
      "model_module_version": "2.0.0",
      "model_name": "CheckboxStyleModel",
      "state": {
       "description_width": ""
      }
     },
     "1ae1d72f0f4a4c14b70acd37ec0c746a": {
      "model_module": "@jupyter-widgets/controls",
      "model_module_version": "2.0.0",
      "model_name": "HTMLStyleModel",
      "state": {
       "description_width": "",
       "font_size": null,
       "text_color": null
      }
     },
     "1af21a9c06d340e8b62dd9eebadc6e39": {
      "model_module": "@jupyter-widgets/controls",
      "model_module_version": "2.0.0",
      "model_name": "VBoxModel",
      "state": {
       "children": [
        "IPY_MODEL_b9528899ad6f4dd181c6e5b8f4760f3d"
       ],
       "layout": "IPY_MODEL_a2e6581d54a84aabbcee1d74e09019be"
      }
     },
     "1b041d85125448b590357254232eccc5": {
      "model_module": "@jupyter-widgets/controls",
      "model_module_version": "2.0.0",
      "model_name": "ButtonStyleModel",
      "state": {
       "font_family": null,
       "font_size": null,
       "font_style": null,
       "font_variant": null,
       "font_weight": null,
       "text_color": null,
       "text_decoration": null
      }
     },
     "1b4ac16a464540c6aaf07eb5a530537b": {
      "model_module": "@jupyter-widgets/base",
      "model_module_version": "2.0.0",
      "model_name": "LayoutModel",
      "state": {
       "height": "40px",
       "width": "160px"
      }
     },
     "1b4c7c32d73b4d0abd80c0289264e3eb": {
      "model_module": "@jupyter-widgets/controls",
      "model_module_version": "2.0.0",
      "model_name": "CheckboxStyleModel",
      "state": {
       "description_width": ""
      }
     },
     "1b970eb67a664106a8b366d3339ce413": {
      "model_module": "@jupyter-widgets/base",
      "model_module_version": "2.0.0",
      "model_name": "LayoutModel",
      "state": {
       "height": "55px",
       "width": "80px"
      }
     },
     "1bf2af7d447049cca66eea8c3065c2bb": {
      "model_module": "@jupyter-widgets/base",
      "model_module_version": "2.0.0",
      "model_name": "LayoutModel",
      "state": {
       "height": "120px",
       "width": "100px"
      }
     },
     "1bf4fe98b1a84aef9a912b672cf4ea3d": {
      "model_module": "@jupyter-widgets/controls",
      "model_module_version": "2.0.0",
      "model_name": "HBoxModel",
      "state": {
       "children": [
        "IPY_MODEL_77dd9c42b59546cfa08e4ba4763cc443"
       ],
       "layout": "IPY_MODEL_f221a2a6ceaa46989bd4a942a2a0297e"
      }
     },
     "1c0053b7d76d4b2c870927dc05290f56": {
      "model_module": "@jupyter-widgets/controls",
      "model_module_version": "2.0.0",
      "model_name": "ButtonModel",
      "state": {
       "description": "Close",
       "layout": "IPY_MODEL_aeb466fa94564f329294abd508f90073",
       "style": "IPY_MODEL_b940e84e092e4fbc854f4bcaa0bbe977",
       "tooltip": null
      }
     },
     "1cd9daf78f344a65b6552d808376e8c2": {
      "model_module": "@jupyter-widgets/base",
      "model_module_version": "2.0.0",
      "model_name": "LayoutModel",
      "state": {}
     },
     "1ce73a655a8c4483a956b93ec630d052": {
      "model_module": "@jupyter-widgets/controls",
      "model_module_version": "2.0.0",
      "model_name": "ButtonStyleModel",
      "state": {
       "font_family": null,
       "font_size": null,
       "font_style": null,
       "font_variant": null,
       "font_weight": null,
       "text_color": null,
       "text_decoration": null
      }
     },
     "1cf7a6b5322648f2b64194c6c0bf92b1": {
      "model_module": "@jupyter-widgets/controls",
      "model_module_version": "2.0.0",
      "model_name": "BoxModel",
      "state": {
       "children": [
        "IPY_MODEL_012a2c7f77bd44e09730722e7d8dc494",
        "IPY_MODEL_742a9334fa3e4380811091a7ee09e60f"
       ],
       "layout": "IPY_MODEL_d6dc5d3bea6a464994af347047f499b3"
      }
     },
     "1cfb0e3d186b41aa98f68e8387452a4a": {
      "model_module": "@jupyter-widgets/base",
      "model_module_version": "2.0.0",
      "model_name": "LayoutModel",
      "state": {}
     },
     "1d1ff354ffd84dc1904e87528418cf45": {
      "model_module": "@jupyter-widgets/base",
      "model_module_version": "2.0.0",
      "model_name": "LayoutModel",
      "state": {
       "height": "40px",
       "width": "120px"
      }
     },
     "1d25f393dac34e62a125a0b1406f1826": {
      "model_module": "@jupyter-widgets/controls",
      "model_module_version": "2.0.0",
      "model_name": "CheckboxStyleModel",
      "state": {
       "description_width": ""
      }
     },
     "1d3cd727c1dd43b98ca580fa21b38723": {
      "model_module": "@jupyter-widgets/controls",
      "model_module_version": "2.0.0",
      "model_name": "CheckboxModel",
      "state": {
       "description": "lowerBody",
       "disabled": false,
       "indent": false,
       "layout": "IPY_MODEL_2151b4d8f9174d9bad9f4b8b332a098d",
       "style": "IPY_MODEL_903d6f12fe724aeb9c9b1c8573e2f2c7",
       "value": true
      }
     },
     "1da57867f59941beb6ec5ee041cdce0a": {
      "model_module": "@jupyter-widgets/controls",
      "model_module_version": "2.0.0",
      "model_name": "CheckboxStyleModel",
      "state": {
       "description_width": ""
      }
     },
     "1e17cfd35362441aa6ba2e1241e75ea4": {
      "model_module": "@jupyter-widgets/controls",
      "model_module_version": "2.0.0",
      "model_name": "CheckboxModel",
      "state": {
       "description": "Core",
       "disabled": false,
       "indent": false,
       "layout": "IPY_MODEL_9f6546b642d147078269e37e469f9067",
       "style": "IPY_MODEL_1da57867f59941beb6ec5ee041cdce0a",
       "value": true
      }
     },
     "1e355830508c4c9e804fc6756680ab39": {
      "model_module": "@jupyter-widgets/base",
      "model_module_version": "2.0.0",
      "model_name": "LayoutModel",
      "state": {
       "align_items": "stretch",
       "display": "flex",
       "flex_flow": "row",
       "justify_content": "space-around",
       "width": "70%"
      }
     },
     "1e4b622c8cbc44caaa2c9800c85332a5": {
      "model_module": "@jupyter-widgets/controls",
      "model_module_version": "2.0.0",
      "model_name": "BoxModel",
      "state": {
       "children": [
        "IPY_MODEL_a3d05c0ed598456fb5f641b4da5680b3",
        "IPY_MODEL_c2339c86824f474aaa2ccaba0e10a16d"
       ],
       "layout": "IPY_MODEL_d6dc5d3bea6a464994af347047f499b3"
      }
     },
     "1e8e621f11b047208dea5a10b3db720a": {
      "model_module": "@jupyter-widgets/controls",
      "model_module_version": "2.0.0",
      "model_name": "ButtonModel",
      "state": {
       "description": "Run",
       "layout": "IPY_MODEL_1fcbc27d7bbe4db9b81a561fb86b293a",
       "style": "IPY_MODEL_f76352be589847f3adedc4861ae1935d",
       "tooltip": null
      }
     },
     "1e9cdbff81f04fb181d1f272d6c128f5": {
      "model_module": "@jupyter-widgets/base",
      "model_module_version": "2.0.0",
      "model_name": "LayoutModel",
      "state": {}
     },
     "1eb0930b9671435788c241fadb02c8b9": {
      "model_module": "@jupyter-widgets/output",
      "model_module_version": "1.0.0",
      "model_name": "OutputModel",
      "state": {
       "layout": "IPY_MODEL_91e60a71e10c4a4498e51b739d5f1d4e",
       "outputs": [
        {
         "data": {
          "application/vnd.jupyter.widget-view+json": {
           "model_id": "dd95b6a7982e4dd0993a05ff54ed9950",
           "version_major": 2,
           "version_minor": 0
          },
          "text/plain": "HBox(children=(HTML(value='<h2>Sample Size</h2>'),))"
         },
         "metadata": {},
         "output_type": "display_data"
        },
        {
         "data": {
          "application/vnd.jupyter.widget-view+json": {
           "model_id": "8c5efedfa33946248f318e6f565d4ce1",
           "version_major": 2,
           "version_minor": 0
          },
          "text/plain": "HBox(children=(Box(children=(Dropdown(index=1, options=(('One', 1), ('Two', 2), ('Three', 3), ('Four', 4), ('F…"
         },
         "metadata": {},
         "output_type": "display_data"
        }
       ]
      }
     },
     "1ec3e9459aef445e8a93f6e2cdd5e1e9": {
      "model_module": "@jupyter-widgets/controls",
      "model_module_version": "2.0.0",
      "model_name": "VBoxModel",
      "state": {
       "children": [
        "IPY_MODEL_654ab2bf26bb4ca69b808d48ef73e94e",
        "IPY_MODEL_aa7be9a382fb4ec1813d1ddc03db5836",
        "IPY_MODEL_58ac337146054845912b0e7859e14382",
        "IPY_MODEL_e0e9dab948aa492eb8b81f64a40af214"
       ],
       "layout": "IPY_MODEL_f9021c92ec444338b88d0cbce7ece65b"
      }
     },
     "1ee475e55e104672a446ae0d3b75147b": {
      "model_module": "@jupyter-widgets/controls",
      "model_module_version": "2.0.0",
      "model_name": "CheckboxModel",
      "state": {
       "description": "stretching",
       "disabled": false,
       "indent": false,
       "layout": "IPY_MODEL_63de634c4cb941769ab25fee2c56d1a2",
       "style": "IPY_MODEL_56a9b91a5f2f4569bbeda699561684aa",
       "value": true
      }
     },
     "1eea0769410a438d924c9af31b31b0cd": {
      "model_module": "@jupyter-widgets/controls",
      "model_module_version": "2.0.0",
      "model_name": "GridBoxModel",
      "state": {
       "layout": "IPY_MODEL_8f3c593a2c684fc5bdd8a486104c6aa6"
      }
     },
     "1eee85b041fe45e9ad6222ba0752fc75": {
      "model_module": "@jupyter-widgets/base",
      "model_module_version": "2.0.0",
      "model_name": "LayoutModel",
      "state": {}
     },
     "1eeedcb6e18e45df8ab0178ea30c6778": {
      "model_module": "@jupyter-widgets/controls",
      "model_module_version": "2.0.0",
      "model_name": "HTMLStyleModel",
      "state": {
       "description_width": "",
       "font_size": null,
       "text_color": null
      }
     },
     "1f0098e40d164b058b2383ac5f29d6d9": {
      "model_module": "@jupyter-widgets/base",
      "model_module_version": "2.0.0",
      "model_name": "LayoutModel",
      "state": {
       "height": "55px",
       "width": "80px"
      }
     },
     "1f0c72b6c91e4db89e71936c002ee521": {
      "model_module": "@jupyter-widgets/controls",
      "model_module_version": "2.0.0",
      "model_name": "CheckboxModel",
      "state": {
       "description": "medicine ball",
       "disabled": false,
       "indent": false,
       "layout": "IPY_MODEL_6ed00b92ef2648f786d49df196be740f",
       "style": "IPY_MODEL_84853203c5984ea389edba53048b48cc",
       "value": true
      }
     },
     "1f3855a2a0a04f2aa07da3d8035cfc30": {
      "model_module": "@jupyter-widgets/base",
      "model_module_version": "2.0.0",
      "model_name": "LayoutModel",
      "state": {
       "height": "40px",
       "width": "140px"
      }
     },
     "1f66d3dc9e964f8b9638ca7c54783298": {
      "model_module": "@jupyter-widgets/controls",
      "model_module_version": "2.0.0",
      "model_name": "CheckboxModel",
      "state": {
       "description": "e-z curl bar",
       "disabled": false,
       "indent": false,
       "layout": "IPY_MODEL_c4fa0ddc2445468daa29ac67eab954a0",
       "style": "IPY_MODEL_4addeb0e495e4accb0bb09e71ad0b91a",
       "value": true
      }
     },
     "1f98c69cdcc248da849365e171f3e6a6": {
      "model_module": "@jupyter-widgets/base",
      "model_module_version": "2.0.0",
      "model_name": "LayoutModel",
      "state": {}
     },
     "1fa944fb542d4eeb82c73321fa71137a": {
      "model_module": "@jupyter-widgets/controls",
      "model_module_version": "2.0.0",
      "model_name": "GridBoxModel",
      "state": {
       "layout": "IPY_MODEL_a40cb4a7cde74d0e98d629bf1ae87e65"
      }
     },
     "1fb169a41b0149ac9633a43f6184c8c5": {
      "model_module": "@jupyter-widgets/base",
      "model_module_version": "2.0.0",
      "model_name": "LayoutModel",
      "state": {
       "align_items": "stretch",
       "display": "flex",
       "flex_flow": "row",
       "justify_content": "space-around",
       "width": "70%"
      }
     },
     "1fb308fcffa14f0a8ae8719f8d2bee00": {
      "model_module": "@jupyter-widgets/controls",
      "model_module_version": "2.0.0",
      "model_name": "CheckboxStyleModel",
      "state": {
       "description_width": ""
      }
     },
     "1fb495e294aa45e98f04f5adb60319b6": {
      "model_module": "@jupyter-widgets/controls",
      "model_module_version": "2.0.0",
      "model_name": "CheckboxStyleModel",
      "state": {
       "description_width": ""
      }
     },
     "1fcbc27d7bbe4db9b81a561fb86b293a": {
      "model_module": "@jupyter-widgets/base",
      "model_module_version": "2.0.0",
      "model_name": "LayoutModel",
      "state": {
       "height": "120px",
       "width": "100px"
      }
     },
     "1fe921bc4e3d43e291870065cbdb09af": {
      "model_module": "@jupyter-widgets/controls",
      "model_module_version": "2.0.0",
      "model_name": "CheckboxStyleModel",
      "state": {
       "description_width": ""
      }
     },
     "1ffc77105d4548c3ad96cc5f76ac6e33": {
      "model_module": "@jupyter-widgets/controls",
      "model_module_version": "2.0.0",
      "model_name": "HBoxModel",
      "state": {
       "children": [
        "IPY_MODEL_6e07773d3f844688a7370c29cb3c4414"
       ],
       "layout": "IPY_MODEL_d412137b78cf4056afc5e43f18175d02"
      }
     },
     "20077136b1104877a31f14e4d6ea0c03": {
      "model_module": "@jupyter-widgets/base",
      "model_module_version": "2.0.0",
      "model_name": "LayoutModel",
      "state": {
       "height": "40px",
       "width": "160px"
      }
     },
     "201e4cdc254a4c0ca7d10c1dc91a0fd4": {
      "model_module": "@jupyter-widgets/controls",
      "model_module_version": "2.0.0",
      "model_name": "HTMLModel",
      "state": {
       "layout": "IPY_MODEL_5eef65e6cff54c53b6bd29b5a359e51b",
       "style": "IPY_MODEL_c6fbcf388c954fd095f337e688d90e73",
       "value": "<h2>Exercise Category</h2>"
      }
     },
     "2080cdba0f974e02ac6b3b43b3d75fc5": {
      "model_module": "@jupyter-widgets/controls",
      "model_module_version": "2.0.0",
      "model_name": "HTMLModel",
      "state": {
       "layout": "IPY_MODEL_fbee9e3cf1ec40148a9471ecd30e9a12",
       "style": "IPY_MODEL_09e9f93136814caa9be9f1eb07f131ad",
       "value": "<h2>Exercise Category</h2>"
      }
     },
     "20ca10228c7440b28dc17e7365b6ba18": {
      "model_module": "@jupyter-widgets/controls",
      "model_module_version": "2.0.0",
      "model_name": "BoxModel",
      "state": {
       "children": [
        "IPY_MODEL_8f227c18a8da40a9ad39325f230668cd",
        "IPY_MODEL_e53df4053d40409b88bca903734bff60",
        "IPY_MODEL_6004286e080840219f72b2c8979c6cf2"
       ],
       "layout": "IPY_MODEL_48e1997a4db642fa8971cd42e78b0d36"
      }
     },
     "20ec9af866b24ba49ec44a67591957d1": {
      "model_module": "@jupyter-widgets/controls",
      "model_module_version": "2.0.0",
      "model_name": "CheckboxStyleModel",
      "state": {
       "description_width": ""
      }
     },
     "2102b1048a364a70964fddcbd06867f8": {
      "model_module": "@jupyter-widgets/controls",
      "model_module_version": "2.0.0",
      "model_name": "ButtonModel",
      "state": {
       "description": "Instruction",
       "icon": "comment",
       "layout": "IPY_MODEL_d6676e38b047400d82783cdb3b8db160",
       "style": "IPY_MODEL_6e0d6afb7a784817989f7c78ef4fbf57",
       "tooltip": "352"
      }
     },
     "2151b4d8f9174d9bad9f4b8b332a098d": {
      "model_module": "@jupyter-widgets/base",
      "model_module_version": "2.0.0",
      "model_name": "LayoutModel",
      "state": {
       "height": "40px",
       "width": "160px"
      }
     },
     "21729fea96934158843c958e3937ca74": {
      "model_module": "@jupyter-widgets/base",
      "model_module_version": "2.0.0",
      "model_name": "LayoutModel",
      "state": {}
     },
     "2179440d1f6e45f9b07ce662a7987adc": {
      "model_module": "@jupyter-widgets/controls",
      "model_module_version": "2.0.0",
      "model_name": "ButtonStyleModel",
      "state": {
       "font_family": null,
       "font_size": null,
       "font_style": null,
       "font_variant": null,
       "font_weight": null,
       "text_color": null,
       "text_decoration": null
      }
     },
     "218f491fdc2343b9b89606b855cb0e58": {
      "model_module": "@jupyter-widgets/controls",
      "model_module_version": "2.0.0",
      "model_name": "CheckboxStyleModel",
      "state": {
       "description_width": ""
      }
     },
     "219ae3ed04f8459aa186940d3c8311e7": {
      "model_module": "@jupyter-widgets/controls",
      "model_module_version": "2.0.0",
      "model_name": "HTMLStyleModel",
      "state": {
       "description_width": "",
       "font_size": null,
       "text_color": null
      }
     },
     "21abd444e30245158983feec06263833": {
      "model_module": "@jupyter-widgets/base",
      "model_module_version": "2.0.0",
      "model_name": "LayoutModel",
      "state": {}
     },
     "21cf001e71c64681863f2159eb7d89aa": {
      "model_module": "@jupyter-widgets/base",
      "model_module_version": "2.0.0",
      "model_name": "LayoutModel",
      "state": {}
     },
     "2275fe9e7ceb4fa7a2c805237f6c59a7": {
      "model_module": "@jupyter-widgets/controls",
      "model_module_version": "2.0.0",
      "model_name": "HTMLStyleModel",
      "state": {
       "description_width": "",
       "font_size": null,
       "text_color": null
      }
     },
     "22973a2b52a44da2bc51ba2eeb255920": {
      "model_module": "@jupyter-widgets/controls",
      "model_module_version": "2.0.0",
      "model_name": "CheckboxModel",
      "state": {
       "description": "strength",
       "disabled": false,
       "indent": false,
       "layout": "IPY_MODEL_8e6a7d7d03194040b95d841e85feeb7e",
       "style": "IPY_MODEL_dc080f2decac4cfea5899b47a2d3197f",
       "value": true
      }
     },
     "234ab902d566441db5e9c3f604a497dd": {
      "model_module": "@jupyter-widgets/base",
      "model_module_version": "2.0.0",
      "model_name": "LayoutModel",
      "state": {
       "height": "40px",
       "width": "160px"
      }
     },
     "23852356c6e640e797b283486f811440": {
      "model_module": "@jupyter-widgets/base",
      "model_module_version": "2.0.0",
      "model_name": "LayoutModel",
      "state": {
       "align_items": "stretch",
       "display": "flex",
       "flex_flow": "row",
       "justify_content": "space-around",
       "width": "70%"
      }
     },
     "238a6ba30861468bb971dd36f1566261": {
      "model_module": "@jupyter-widgets/base",
      "model_module_version": "2.0.0",
      "model_name": "LayoutModel",
      "state": {}
     },
     "238ba5ce5868492797443747ba7982b3": {
      "model_module": "@jupyter-widgets/base",
      "model_module_version": "2.0.0",
      "model_name": "LayoutModel",
      "state": {
       "height": "55px",
       "width": "80px"
      }
     },
     "23905b5ed1294f1c9422615f0b01d1d6": {
      "model_module": "@jupyter-widgets/controls",
      "model_module_version": "2.0.0",
      "model_name": "CheckboxStyleModel",
      "state": {
       "description_width": ""
      }
     },
     "23965dbfea70483c952f03c51a309ff2": {
      "model_module": "@jupyter-widgets/base",
      "model_module_version": "2.0.0",
      "model_name": "LayoutModel",
      "state": {}
     },
     "23b927b9865d4aa49d9fccb23679b3dd": {
      "model_module": "@jupyter-widgets/controls",
      "model_module_version": "2.0.0",
      "model_name": "VBoxModel",
      "state": {
       "children": [
        "IPY_MODEL_b046b72eddb94ef88001221743e17578",
        "IPY_MODEL_57aed211d12e40e18e77459c2ef84e07"
       ],
       "layout": "IPY_MODEL_75bd2033b1df4ad68e147355b865c899"
      }
     },
     "23d15fb2e6334512a4e901eee61d32e2": {
      "model_module": "@jupyter-widgets/base",
      "model_module_version": "2.0.0",
      "model_name": "LayoutModel",
      "state": {
       "height": "40px",
       "width": "160px"
      }
     },
     "23fba42e09894dc2912c381a72c429c4": {
      "model_module": "@jupyter-widgets/controls",
      "model_module_version": "2.0.0",
      "model_name": "BoxModel",
      "state": {
       "children": [
        "IPY_MODEL_f666611d989f4a82a60a550be0cd32b4",
        "IPY_MODEL_a4a1c3b9ca5345da86e02dfd1daa5d60"
       ],
       "layout": "IPY_MODEL_23852356c6e640e797b283486f811440"
      }
     },
     "240c7a60dfa749ca815b24e4f7497feb": {
      "model_module": "@jupyter-widgets/controls",
      "model_module_version": "2.0.0",
      "model_name": "HBoxModel",
      "state": {
       "children": [
        "IPY_MODEL_4a94ddae5a2a46118c5c800f802c6a0a"
       ],
       "layout": "IPY_MODEL_7203b967f69c49189b48bfdff544b8ff"
      }
     },
     "24236702e3c94c30ab1eb1c8a62673ef": {
      "model_module": "@jupyter-widgets/base",
      "model_module_version": "2.0.0",
      "model_name": "LayoutModel",
      "state": {
       "align_items": "stretch",
       "display": "flex",
       "flex_flow": "row",
       "justify_content": "space-around",
       "width": "70%"
      }
     },
     "244093cfa5c04453824afda222398f9d": {
      "model_module": "@jupyter-widgets/controls",
      "model_module_version": "2.0.0",
      "model_name": "ButtonStyleModel",
      "state": {
       "font_family": null,
       "font_size": null,
       "font_style": null,
       "font_variant": null,
       "font_weight": null,
       "text_color": null,
       "text_decoration": null
      }
     },
     "246a6aa4bad740319c472b831f90b920": {
      "model_module": "@jupyter-widgets/controls",
      "model_module_version": "2.0.0",
      "model_name": "HBoxModel",
      "state": {
       "children": [
        "IPY_MODEL_ef6ccc38fd6f49f0bd01d93fa839234f"
       ],
       "layout": "IPY_MODEL_ed7c8fe91fc34ecabd81a037a84eec15"
      }
     },
     "248798ece6b240489075bbcb13231d25": {
      "model_module": "@jupyter-widgets/controls",
      "model_module_version": "2.0.0",
      "model_name": "CheckboxModel",
      "state": {
       "description": "strongman",
       "disabled": false,
       "indent": false,
       "layout": "IPY_MODEL_820156ccb02d4153900d35ed566b25b8",
       "style": "IPY_MODEL_18435fcfd437497b93578be1abdbf80b",
       "value": true
      }
     },
     "2487b5f706c240688e4121ce616a49f5": {
      "model_module": "@jupyter-widgets/controls",
      "model_module_version": "2.0.0",
      "model_name": "VBoxModel",
      "state": {
       "children": [
        "IPY_MODEL_ce1a54377f3441019f42848558997e01",
        "IPY_MODEL_23fba42e09894dc2912c381a72c429c4"
       ],
       "layout": "IPY_MODEL_901877d66d0649fbbd691acf5dfc1376"
      }
     },
     "24ae19e5db8c46b881ad8e4933e15026": {
      "model_module": "@jupyter-widgets/base",
      "model_module_version": "2.0.0",
      "model_name": "LayoutModel",
      "state": {
       "height": "55px",
       "width": "80px"
      }
     },
     "24f3eb3b73c7463bb96775dc39fa0edc": {
      "model_module": "@jupyter-widgets/controls",
      "model_module_version": "2.0.0",
      "model_name": "HTMLModel",
      "state": {
       "layout": "IPY_MODEL_d1eeb217a20d42a48329e38b6d543791",
       "style": "IPY_MODEL_143af2b9ffd84dccaacd7c53b16cfbd0",
       "value": "<h2>Body Area</h2>"
      }
     },
     "25265db3790c41c38057b6903ec24834": {
      "model_module": "@jupyter-widgets/controls",
      "model_module_version": "2.0.0",
      "model_name": "CheckboxStyleModel",
      "state": {
       "description_width": ""
      }
     },
     "256e25745fe341e1a4cd62e3bc40d80b": {
      "model_module": "@jupyter-widgets/controls",
      "model_module_version": "2.0.0",
      "model_name": "HBoxModel",
      "state": {
       "children": [
        "IPY_MODEL_8b27980e73f54f26afcc5d6e568ee9ee"
       ],
       "layout": "IPY_MODEL_d1b9cab4ac39415194f0e5eabb7717d9"
      }
     },
     "25c8384d7da14d3dbab244a99714520f": {
      "model_module": "@jupyter-widgets/base",
      "model_module_version": "2.0.0",
      "model_name": "LayoutModel",
      "state": {}
     },
     "262612545a4c4acfb5c7077e354f7d15": {
      "model_module": "@jupyter-widgets/base",
      "model_module_version": "2.0.0",
      "model_name": "LayoutModel",
      "state": {}
     },
     "268631afc1d548c9816ef0b784f2670a": {
      "model_module": "@jupyter-widgets/base",
      "model_module_version": "2.0.0",
      "model_name": "LayoutModel",
      "state": {
       "height": "120px",
       "width": "100px"
      }
     },
     "26e5673dde0148bfa48edfce32ed2c60": {
      "model_module": "@jupyter-widgets/base",
      "model_module_version": "2.0.0",
      "model_name": "LayoutModel",
      "state": {}
     },
     "2761e0e311c44e5d8caa6ff057343442": {
      "model_module": "@jupyter-widgets/output",
      "model_module_version": "1.0.0",
      "model_name": "OutputModel",
      "state": {
       "layout": "IPY_MODEL_177a6638f34e499997f2f32b2f8fd0fe",
       "outputs": [
        {
         "data": {
          "application/vnd.jupyter.widget-view+json": {
           "model_id": "23b927b9865d4aa49d9fccb23679b3dd",
           "version_major": 2,
           "version_minor": 0
          },
          "text/plain": "VBox(children=(Box(children=(HBox(children=(HTML(value='<h2>Exercise Category</h2>'),)), Button(description='C…"
         },
         "metadata": {},
         "output_type": "display_data"
        }
       ]
      }
     },
     "281456254e354eda9a7c8bfcec67c5b7": {
      "model_module": "@jupyter-widgets/controls",
      "model_module_version": "2.0.0",
      "model_name": "ButtonModel",
      "state": {
       "description": "Instruction",
       "icon": "comment",
       "layout": "IPY_MODEL_9deb0d4ab02e4b9b8d9d323f2f4aa7f9",
       "style": "IPY_MODEL_c589414d2a4e4e47b2462b54ee19cb80",
       "tooltip": "1"
      }
     },
     "281661b84d6749d39e5bc6ba83be809a": {
      "model_module": "@jupyter-widgets/controls",
      "model_module_version": "2.0.0",
      "model_name": "ButtonStyleModel",
      "state": {
       "font_family": null,
       "font_size": null,
       "font_style": null,
       "font_variant": null,
       "font_weight": null,
       "text_color": null,
       "text_decoration": null
      }
     },
     "28934308e5fd4dce829fb1abb3ec3cc8": {
      "model_module": "@jupyter-widgets/controls",
      "model_module_version": "2.0.0",
      "model_name": "HTMLStyleModel",
      "state": {
       "description_width": "",
       "font_size": null,
       "text_color": null
      }
     },
     "289804d8bbc84c9296daa449a23b5806": {
      "model_module": "@jupyter-widgets/base",
      "model_module_version": "2.0.0",
      "model_name": "LayoutModel",
      "state": {}
     },
     "2899bca47ca84f47b2d4af062d26dd72": {
      "model_module": "@jupyter-widgets/controls",
      "model_module_version": "2.0.0",
      "model_name": "ButtonModel",
      "state": {
       "description": "Instruction",
       "icon": "comment",
       "layout": "IPY_MODEL_19fee34a3d6c4ae4bc61ff1a2bc60be2",
       "style": "IPY_MODEL_89553dcd262d41bca1963933ce5a518f",
       "tooltip": "1"
      }
     },
     "28c3d843038e4988bdab06b52e8defbe": {
      "model_module": "@jupyter-widgets/controls",
      "model_module_version": "2.0.0",
      "model_name": "HTMLModel",
      "state": {
       "layout": "IPY_MODEL_7cb1d1792aae42fb82cb79a4eb262630",
       "style": "IPY_MODEL_81d0db04fb554536a2c3f7c676965ba0",
       "value": "<h1>Random Excercise Generator</h1>"
      }
     },
     "28cabcf3b5114eed9b877fe67ddd642a": {
      "model_module": "@jupyter-widgets/base",
      "model_module_version": "2.0.0",
      "model_name": "LayoutModel",
      "state": {}
     },
     "28e22e31bc354de8b72022370e708103": {
      "model_module": "@jupyter-widgets/controls",
      "model_module_version": "2.0.0",
      "model_name": "ButtonModel",
      "state": {
       "description": "Sample Size",
       "layout": "IPY_MODEL_fc2a860f19ea474ab4faaaa2fa336ab1",
       "style": "IPY_MODEL_d4599fa0aeb94687b8073f11538689d3",
       "tooltip": null
      }
     },
     "28eae36497bf475a914ee44aab193733": {
      "model_module": "@jupyter-widgets/controls",
      "model_module_version": "2.0.0",
      "model_name": "CheckboxStyleModel",
      "state": {
       "description_width": ""
      }
     },
     "294c2c92532e4671924fef35584dbc20": {
      "model_module": "@jupyter-widgets/controls",
      "model_module_version": "2.0.0",
      "model_name": "HBoxModel",
      "state": {
       "children": [
        "IPY_MODEL_9a9b3c34cf754ade86a4c6b713ef8bd6"
       ],
       "layout": "IPY_MODEL_1801082cca0843829e4b833d06a64cf5"
      }
     },
     "294fe19b0a8846678146424ccb94e9ec": {
      "model_module": "@jupyter-widgets/controls",
      "model_module_version": "2.0.0",
      "model_name": "CheckboxModel",
      "state": {
       "description": "body only",
       "disabled": false,
       "indent": false,
       "layout": "IPY_MODEL_c37c0be405e54a3381e4dbe6675733d8",
       "style": "IPY_MODEL_73454186b9a0458fa14d7c94bb1852fc",
       "value": true
      }
     },
     "296bfcaeab4d45cb8d2cd5f32a9a7e72": {
      "model_module": "@jupyter-widgets/base",
      "model_module_version": "2.0.0",
      "model_name": "LayoutModel",
      "state": {
       "height": "55px",
       "width": "80px"
      }
     },
     "298fc57f1e164f5086c5444ad05bb3d2": {
      "model_module": "@jupyter-widgets/base",
      "model_module_version": "2.0.0",
      "model_name": "LayoutModel",
      "state": {
       "height": "55px",
       "width": "80px"
      }
     },
     "29a864188ef249febf9f831576b694f8": {
      "model_module": "@jupyter-widgets/controls",
      "model_module_version": "2.0.0",
      "model_name": "ButtonStyleModel",
      "state": {
       "font_family": null,
       "font_size": null,
       "font_style": null,
       "font_variant": null,
       "font_weight": null,
       "text_color": null,
       "text_decoration": null
      }
     },
     "29b6a1275bc34d008c1bcaf3630d0b48": {
      "model_module": "@jupyter-widgets/base",
      "model_module_version": "2.0.0",
      "model_name": "LayoutModel",
      "state": {
       "height": "40px",
       "width": "160px"
      }
     },
     "2a3bbc6377e54018b0ef36e2c6522741": {
      "model_module": "@jupyter-widgets/controls",
      "model_module_version": "2.0.0",
      "model_name": "HTMLStyleModel",
      "state": {
       "description_width": "",
       "font_size": null,
       "text_color": null
      }
     },
     "2b9de63f79394d67b20550a573972244": {
      "model_module": "@jupyter-widgets/controls",
      "model_module_version": "2.0.0",
      "model_name": "VBoxModel",
      "state": {
       "children": [
        "IPY_MODEL_a499399a05814359a44c540bf5d94cb3",
        "IPY_MODEL_ca830475c8d94552a42db543720697ba"
       ],
       "layout": "IPY_MODEL_1cd9daf78f344a65b6552d808376e8c2"
      }
     },
     "2c4b35bda8f94d40b033440334b6f99c": {
      "model_module": "@jupyter-widgets/controls",
      "model_module_version": "2.0.0",
      "model_name": "CheckboxModel",
      "state": {
       "description": "bands",
       "disabled": false,
       "indent": false,
       "layout": "IPY_MODEL_48523e243c1a4962875affda312305dc",
       "style": "IPY_MODEL_e0a7d2681a3945b2b556dee9d80647ec",
       "value": true
      }
     },
     "2c66f9b40bf94cbc9ffe7ff57f3b1a42": {
      "model_module": "@jupyter-widgets/controls",
      "model_module_version": "2.0.0",
      "model_name": "HTMLModel",
      "state": {
       "layout": "IPY_MODEL_bdcc4014e41f43e69d1bd3f61788a20d",
       "style": "IPY_MODEL_9d8a83bdb02a42b5937a347eb72b2564",
       "value": "<h2>Exercise Category</h2>"
      }
     },
     "2cd4aba1990f4029a9049ef59e9ac251": {
      "model_module": "@jupyter-widgets/base",
      "model_module_version": "2.0.0",
      "model_name": "LayoutModel",
      "state": {
       "height": "40px",
       "width": "120px"
      }
     },
     "2d2ea197d4b1442683beef07d16e89aa": {
      "model_module": "@jupyter-widgets/controls",
      "model_module_version": "2.0.0",
      "model_name": "HBoxModel",
      "state": {
       "children": [
        "IPY_MODEL_509fea29f40a47568247d180b5682f74"
       ],
       "layout": "IPY_MODEL_a4b9f7d76e8c4779b0fac674f922b847"
      }
     },
     "2d7449180ea2440e966bcec23626907e": {
      "model_module": "@jupyter-widgets/controls",
      "model_module_version": "2.0.0",
      "model_name": "HBoxModel",
      "state": {
       "children": [
        "IPY_MODEL_732331186257483da3e01a6cfdbe5229"
       ],
       "layout": "IPY_MODEL_6a50865308cd47088f08270818085ae1"
      }
     },
     "2dae239260b54e94bd7f9c7579d92ae6": {
      "model_module": "@jupyter-widgets/controls",
      "model_module_version": "2.0.0",
      "model_name": "HTMLStyleModel",
      "state": {
       "description_width": "",
       "font_size": null,
       "text_color": null
      }
     },
     "2dd7defc813d41af82afa633c3046320": {
      "model_module": "@jupyter-widgets/controls",
      "model_module_version": "2.0.0",
      "model_name": "ButtonModel",
      "state": {
       "description": "Sample Size",
       "layout": "IPY_MODEL_dcd664266dab44d8a4f8599fcc6a74e9",
       "style": "IPY_MODEL_0b9adde9df794229892c44a56f164795",
       "tooltip": null
      }
     },
     "2df360c7c214426da7d1764545a5dd34": {
      "model_module": "@jupyter-widgets/base",
      "model_module_version": "2.0.0",
      "model_name": "LayoutModel",
      "state": {
       "height": "40px",
       "width": "140px"
      }
     },
     "2e1e28a513de4ea1a4370284f544fe9a": {
      "model_module": "@jupyter-widgets/controls",
      "model_module_version": "2.0.0",
      "model_name": "HTMLModel",
      "state": {
       "layout": "IPY_MODEL_582197a886434eba964da934e512ba6c",
       "style": "IPY_MODEL_ba3d59f83c07419992cccb4203905374",
       "value": "<h5>\"Close Tab to Exit\"</h5>"
      }
     },
     "2e4c39a1c87d4065b3ce5b292567a3af": {
      "model_module": "@jupyter-widgets/base",
      "model_module_version": "2.0.0",
      "model_name": "LayoutModel",
      "state": {}
     },
     "2ebfdd0664fe4fc9aafc8ce052554cce": {
      "model_module": "@jupyter-widgets/controls",
      "model_module_version": "2.0.0",
      "model_name": "CheckboxStyleModel",
      "state": {
       "description_width": ""
      }
     },
     "2f9496a84d304f19aca8b31016c2bd56": {
      "model_module": "@jupyter-widgets/base",
      "model_module_version": "2.0.0",
      "model_name": "LayoutModel",
      "state": {}
     },
     "2fab9e2dd57945cd956cf805befbde9a": {
      "model_module": "@jupyter-widgets/base",
      "model_module_version": "2.0.0",
      "model_name": "LayoutModel",
      "state": {}
     },
     "2fadd008e6394d82ad2eacd78ff113e6": {
      "model_module": "@jupyter-widgets/controls",
      "model_module_version": "2.0.0",
      "model_name": "CheckboxStyleModel",
      "state": {
       "description_width": ""
      }
     },
     "3005d0c33e4e4ed3b10ce47b2da240b4": {
      "model_module": "@jupyter-widgets/controls",
      "model_module_version": "2.0.0",
      "model_name": "ButtonStyleModel",
      "state": {
       "font_family": null,
       "font_size": null,
       "font_style": null,
       "font_variant": null,
       "font_weight": null,
       "text_color": null,
       "text_decoration": null
      }
     },
     "30195a4af52a4423b70d877629cd7d85": {
      "model_module": "@jupyter-widgets/controls",
      "model_module_version": "2.0.0",
      "model_name": "ButtonModel",
      "state": {
       "description": "Close",
       "layout": "IPY_MODEL_5f6ba61f3d84490aaef1dbeb66283ea8",
       "style": "IPY_MODEL_49d859fcc09040e586c4d017f14595a3",
       "tooltip": null
      }
     },
     "30198fcf0d2e4ed0ad1e3c3e8cf0c585": {
      "model_module": "@jupyter-widgets/controls",
      "model_module_version": "2.0.0",
      "model_name": "CheckboxStyleModel",
      "state": {
       "description_width": ""
      }
     },
     "301d0d95edaa44248c3bb746bde7c16a": {
      "model_module": "@jupyter-widgets/controls",
      "model_module_version": "2.0.0",
      "model_name": "ButtonStyleModel",
      "state": {
       "font_family": null,
       "font_size": null,
       "font_style": null,
       "font_variant": null,
       "font_weight": null,
       "text_color": null,
       "text_decoration": null
      }
     },
     "3030b57decea4b27a4fc171350186637": {
      "model_module": "@jupyter-widgets/base",
      "model_module_version": "2.0.0",
      "model_name": "LayoutModel",
      "state": {
       "height": "40px",
       "width": "140px"
      }
     },
     "305221311114463cb07dfccf35730739": {
      "model_module": "@jupyter-widgets/base",
      "model_module_version": "2.0.0",
      "model_name": "LayoutModel",
      "state": {
       "height": "40px",
       "width": "160px"
      }
     },
     "305ac88eb2434466950f028cfbd6748a": {
      "model_module": "@jupyter-widgets/controls",
      "model_module_version": "2.0.0",
      "model_name": "HBoxModel",
      "state": {
       "children": [
        "IPY_MODEL_4fad38f551874414bc7adadb9cc92708"
       ],
       "layout": "IPY_MODEL_844c105fe70c41fbaed699b5687d96e6"
      }
     },
     "3093a8bda6f94e54819c121704e5caa5": {
      "model_module": "@jupyter-widgets/controls",
      "model_module_version": "2.0.0",
      "model_name": "CheckboxStyleModel",
      "state": {
       "description_width": ""
      }
     },
     "3161f08d24a34235a3a155f4dbe8e155": {
      "model_module": "@jupyter-widgets/base",
      "model_module_version": "2.0.0",
      "model_name": "LayoutModel",
      "state": {
       "height": "55px",
       "width": "120px"
      }
     },
     "319d150c711a4e0aabd1e1cd95c2d806": {
      "model_module": "@jupyter-widgets/base",
      "model_module_version": "2.0.0",
      "model_name": "LayoutModel",
      "state": {
       "height": "55px",
       "width": "120px"
      }
     },
     "31b43967ebc8422aa4b105a6b9ef3379": {
      "model_module": "@jupyter-widgets/base",
      "model_module_version": "2.0.0",
      "model_name": "LayoutModel",
      "state": {
       "height": "40px",
       "width": "160px"
      }
     },
     "3256ad36fab84805974c8dc6027fe3b2": {
      "model_module": "@jupyter-widgets/controls",
      "model_module_version": "2.0.0",
      "model_name": "VBoxModel",
      "state": {
       "children": [
        "IPY_MODEL_533351bd05274a3384ce5a10fb6bcf9f"
       ],
       "layout": "IPY_MODEL_647e44e7b5e74342a853e550bef58438"
      }
     },
     "329cd5a86469459cadda858f1996d816": {
      "model_module": "@jupyter-widgets/base",
      "model_module_version": "2.0.0",
      "model_name": "LayoutModel",
      "state": {
       "height": "55px",
       "width": "80px"
      }
     },
     "32abc32b3e1442ab9b6f0ead3d35ae3d": {
      "model_module": "@jupyter-widgets/controls",
      "model_module_version": "2.0.0",
      "model_name": "CheckboxStyleModel",
      "state": {
       "description_width": ""
      }
     },
     "32c51625f5b3483798af20afe1236cd2": {
      "model_module": "@jupyter-widgets/base",
      "model_module_version": "2.0.0",
      "model_name": "LayoutModel",
      "state": {}
     },
     "337e13cc5e7e43deb9e8d4978aec2267": {
      "model_module": "@jupyter-widgets/controls",
      "model_module_version": "2.0.0",
      "model_name": "HBoxModel",
      "state": {
       "children": [
        "IPY_MODEL_347d28f33d1c420b8b5bd6cd23ac8330"
       ],
       "layout": "IPY_MODEL_63aefb2f00f44dfc97039bec81ea52f0"
      }
     },
     "33aa4837fe9449d99e60ae63abe029af": {
      "model_module": "@jupyter-widgets/controls",
      "model_module_version": "2.0.0",
      "model_name": "HBoxModel",
      "state": {
       "children": [
        "IPY_MODEL_a3b40c75dc8a4ce48bcfcce4fbaf41b8"
       ],
       "layout": "IPY_MODEL_c8555e8e153544728b6df122140ff8f2"
      }
     },
     "33b9b026e56645ef8a5bc3da6d27f8ab": {
      "model_module": "@jupyter-widgets/controls",
      "model_module_version": "2.0.0",
      "model_name": "ButtonModel",
      "state": {
       "description": "Clear",
       "layout": "IPY_MODEL_329cd5a86469459cadda858f1996d816",
       "style": "IPY_MODEL_be15b8ba0f944133bec7513a1d0a10c2",
       "tooltip": null
      }
     },
     "33cfca0cc91a4cba855229f69c056cc0": {
      "model_module": "@jupyter-widgets/controls",
      "model_module_version": "2.0.0",
      "model_name": "VBoxModel",
      "state": {
       "layout": "IPY_MODEL_a01a57ace8a64d629731d16568405790"
      }
     },
     "340d3d3819b047af92f7539cf65381c2": {
      "model_module": "@jupyter-widgets/controls",
      "model_module_version": "2.0.0",
      "model_name": "ButtonModel",
      "state": {
       "description": "Exit",
       "layout": "IPY_MODEL_adc9d2e1eece4dca83ca6bd5670653ea",
       "style": "IPY_MODEL_3005d0c33e4e4ed3b10ce47b2da240b4",
       "tooltip": null
      }
     },
     "341e4f2baf554cecaf902785b3fe1099": {
      "model_module": "@jupyter-widgets/output",
      "model_module_version": "1.0.0",
      "model_name": "OutputModel",
      "state": {
       "layout": "IPY_MODEL_4d5a51d5366b4ab99a6149bce528d0bf",
       "outputs": [
        {
         "data": {
          "application/vnd.jupyter.widget-view+json": {
           "model_id": "74a5d1cfa2a44808b23ee6510e2a0787",
           "version_major": 2,
           "version_minor": 0
          },
          "text/plain": "VBox(children=(Box(children=(HBox(children=(HTML(value='<h2>Exercise Category</h2>'),)), Button(description='C…"
         },
         "metadata": {},
         "output_type": "display_data"
        }
       ]
      }
     },
     "347d28f33d1c420b8b5bd6cd23ac8330": {
      "model_module": "@jupyter-widgets/controls",
      "model_module_version": "2.0.0",
      "model_name": "HBoxModel",
      "state": {
       "children": [
        "IPY_MODEL_ddd0278052ba4886a7860b1dfac37d5c"
       ],
       "layout": "IPY_MODEL_c62d9f0165e54f829719e7b3eda0d3ce"
      }
     },
     "348ab9f5908645f683c4dc2f8373b517": {
      "model_module": "@jupyter-widgets/base",
      "model_module_version": "2.0.0",
      "model_name": "LayoutModel",
      "state": {}
     },
     "34a0942124634ec5956f089fbf5108db": {
      "model_module": "@jupyter-widgets/controls",
      "model_module_version": "2.0.0",
      "model_name": "CheckboxModel",
      "state": {
       "description": "barbell",
       "disabled": false,
       "indent": false,
       "layout": "IPY_MODEL_403d372469804db0b001252464afb322",
       "style": "IPY_MODEL_ffa82825d32d4065a4f9618ccec4adc5",
       "value": true
      }
     },
     "34efbabce0414529822120c97ed6dbdc": {
      "model_module": "@jupyter-widgets/controls",
      "model_module_version": "2.0.0",
      "model_name": "ButtonStyleModel",
      "state": {
       "font_family": null,
       "font_size": null,
       "font_style": null,
       "font_variant": null,
       "font_weight": null,
       "text_color": null,
       "text_decoration": null
      }
     },
     "3502c629c1b94ca0932dfa47f80d407a": {
      "model_module": "@jupyter-widgets/base",
      "model_module_version": "2.0.0",
      "model_name": "LayoutModel",
      "state": {
       "height": "40px",
       "width": "160px"
      }
     },
     "35249fb87d2443e685c63164c282c04b": {
      "model_module": "@jupyter-widgets/base",
      "model_module_version": "2.0.0",
      "model_name": "LayoutModel",
      "state": {
       "height": "40px",
       "width": "140px"
      }
     },
     "35270f0dab4f4f55acccbf604b368598": {
      "model_module": "@jupyter-widgets/controls",
      "model_module_version": "2.0.0",
      "model_name": "ButtonStyleModel",
      "state": {
       "font_family": null,
       "font_size": null,
       "font_style": null,
       "font_variant": null,
       "font_weight": null,
       "text_color": null,
       "text_decoration": null
      }
     },
     "3562492bcbf4470cb0d2c0422813731a": {
      "model_module": "@jupyter-widgets/base",
      "model_module_version": "2.0.0",
      "model_name": "LayoutModel",
      "state": {
       "height": "40px",
       "width": "120px"
      }
     },
     "35f47969bbb343e38c8b2b253121e324": {
      "model_module": "@jupyter-widgets/controls",
      "model_module_version": "2.0.0",
      "model_name": "CheckboxModel",
      "state": {
       "description": "stretching",
       "disabled": false,
       "indent": false,
       "layout": "IPY_MODEL_d6ad780d40e748c5859d58fa0754baa2",
       "style": "IPY_MODEL_51b9f2017ab04c629cebb1bf500d604a",
       "value": true
      }
     },
     "36042e3ddc814adb83bc2af50406fe36": {
      "model_module": "@jupyter-widgets/controls",
      "model_module_version": "2.0.0",
      "model_name": "ButtonModel",
      "state": {
       "description": "Equipment",
       "layout": "IPY_MODEL_268631afc1d548c9816ef0b784f2670a",
       "style": "IPY_MODEL_4444147641df4cc980c9aa6e197cde28",
       "tooltip": null
      }
     },
     "3630f3560bce4f0f953776842b731604": {
      "model_module": "@jupyter-widgets/base",
      "model_module_version": "2.0.0",
      "model_name": "LayoutModel",
      "state": {
       "height": "55px",
       "width": "120px"
      }
     },
     "363ad4cbbe3145c1aedb630397b4d205": {
      "model_module": "@jupyter-widgets/base",
      "model_module_version": "2.0.0",
      "model_name": "LayoutModel",
      "state": {
       "height": "55px",
       "width": "80px"
      }
     },
     "36b930b1c69b4ea68b1182cb067e0e16": {
      "model_module": "@jupyter-widgets/controls",
      "model_module_version": "2.0.0",
      "model_name": "HBoxModel",
      "state": {
       "children": [
        "IPY_MODEL_a56d4aef223940f89f0c14ec400f9243"
       ],
       "layout": "IPY_MODEL_d4de23da2e9f4a1795c6554439632212"
      }
     },
     "36c74777d638479fb2b98f9deb81b65c": {
      "model_module": "@jupyter-widgets/controls",
      "model_module_version": "2.0.0",
      "model_name": "HBoxModel",
      "state": {
       "children": [
        "IPY_MODEL_fca304d086534fce9a00fc6d2ca01d4f"
       ],
       "layout": "IPY_MODEL_e20bd9a1ae4b472d842053bbc9c5a0fb"
      }
     },
     "36f203c510574c6496969267dedf0066": {
      "model_module": "@jupyter-widgets/controls",
      "model_module_version": "2.0.0",
      "model_name": "HTMLStyleModel",
      "state": {
       "description_width": "",
       "font_size": null,
       "text_color": null
      }
     },
     "37145e32aee5414c915c73c445fdf544": {
      "model_module": "@jupyter-widgets/controls",
      "model_module_version": "2.0.0",
      "model_name": "HTMLStyleModel",
      "state": {
       "description_width": "",
       "font_size": null,
       "text_color": null
      }
     },
     "3749380e4c0f45f3844d6082c2e58114": {
      "model_module": "@jupyter-widgets/controls",
      "model_module_version": "2.0.0",
      "model_name": "HBoxModel",
      "state": {
       "children": [
        "IPY_MODEL_b6dae5deec45437aad31ce623c666e71"
       ],
       "layout": "IPY_MODEL_38f0eaf26e5d4e96a997127d946e5ce2"
      }
     },
     "375b75dff22e481e8029508e0c9440eb": {
      "model_module": "@jupyter-widgets/base",
      "model_module_version": "2.0.0",
      "model_name": "LayoutModel",
      "state": {}
     },
     "378467d074134ab0bd1dd4edf5759f65": {
      "model_module": "@jupyter-widgets/controls",
      "model_module_version": "2.0.0",
      "model_name": "ButtonStyleModel",
      "state": {
       "font_family": null,
       "font_size": null,
       "font_style": null,
       "font_variant": null,
       "font_weight": null,
       "text_color": null,
       "text_decoration": null
      }
     },
     "37886975cae1434282537c07085edcab": {
      "model_module": "@jupyter-widgets/controls",
      "model_module_version": "2.0.0",
      "model_name": "CheckboxStyleModel",
      "state": {
       "description_width": ""
      }
     },
     "37b6c213d87f45dfa4dae4de6482f9c5": {
      "model_module": "@jupyter-widgets/base",
      "model_module_version": "2.0.0",
      "model_name": "LayoutModel",
      "state": {}
     },
     "37b93995eef942e4b41b6a086e13f956": {
      "model_module": "@jupyter-widgets/controls",
      "model_module_version": "2.0.0",
      "model_name": "ButtonModel",
      "state": {
       "description": "Photo",
       "layout": "IPY_MODEL_1b970eb67a664106a8b366d3339ce413",
       "style": "IPY_MODEL_bee7b15c3ba04fd8ad6bfb23c2a048ef",
       "tooltip": null
      }
     },
     "38031ecec7a749ea8d3ee7837d63206c": {
      "model_module": "@jupyter-widgets/base",
      "model_module_version": "2.0.0",
      "model_name": "LayoutModel",
      "state": {}
     },
     "3819d33b02b241b69056973aca1f3bc4": {
      "model_module": "@jupyter-widgets/controls",
      "model_module_version": "2.0.0",
      "model_name": "HBoxModel",
      "state": {
       "children": [
        "IPY_MODEL_33b9b026e56645ef8a5bc3da6d27f8ab"
       ],
       "layout": "IPY_MODEL_0b4c1aa5973b464ba877b849758fff87"
      }
     },
     "3835eb26b7e241989f4a142d695bfd71": {
      "model_module": "@jupyter-widgets/base",
      "model_module_version": "2.0.0",
      "model_name": "LayoutModel",
      "state": {
       "height": "40px",
       "width": "160px"
      }
     },
     "385992b18533403b9973f6bb9fec9e78": {
      "model_module": "@jupyter-widgets/controls",
      "model_module_version": "2.0.0",
      "model_name": "ButtonModel",
      "state": {
       "description": "Close",
       "layout": "IPY_MODEL_f61fb9c76aa44878a15aaf12dfee2eaa",
       "style": "IPY_MODEL_998ead9214f041e091b52b0b9c1bd5eb",
       "tooltip": null
      }
     },
     "387664b752914439b40a4455214011f6": {
      "model_module": "@jupyter-widgets/controls",
      "model_module_version": "2.0.0",
      "model_name": "HTMLStyleModel",
      "state": {
       "description_width": "",
       "font_size": null,
       "text_color": null
      }
     },
     "3879ec54fd824b62ae958ef112afbed8": {
      "model_module": "@jupyter-widgets/controls",
      "model_module_version": "2.0.0",
      "model_name": "BoxModel",
      "state": {
       "children": [
        "IPY_MODEL_13346a1fcd1641338801bd08bbb2480d",
        "IPY_MODEL_c6bb6a9622a042349d8f8a511b212844"
       ],
       "layout": "IPY_MODEL_1e355830508c4c9e804fc6756680ab39"
      }
     },
     "38db0e2af76c485780552415b2b9c276": {
      "model_module": "@jupyter-widgets/controls",
      "model_module_version": "2.0.0",
      "model_name": "VBoxModel",
      "state": {
       "children": [
        "IPY_MODEL_5e7f8a6b1b2a48aeb86e9f206fd05c03",
        "IPY_MODEL_7335f58fb1f14088bb3266204aa3afab",
        "IPY_MODEL_ee04003f22dc4cef91a15c8e74cb4780"
       ],
       "layout": "IPY_MODEL_3b2f15c7293544f9b052b7d94f59ccb4"
      }
     },
     "38f0eaf26e5d4e96a997127d946e5ce2": {
      "model_module": "@jupyter-widgets/base",
      "model_module_version": "2.0.0",
      "model_name": "LayoutModel",
      "state": {}
     },
     "3954134955e040a9be2dfbfd8a3bc6e9": {
      "model_module": "@jupyter-widgets/controls",
      "model_module_version": "2.0.0",
      "model_name": "HTMLModel",
      "state": {
       "layout": "IPY_MODEL_8cfbfcd99c4e4ac6a48555c32d184cc0",
       "style": "IPY_MODEL_c148e34bd39e4f94b251b27d536d8d9f",
       "value": "<h2>Equipment List</h2>"
      }
     },
     "396a68ea4d6047c98a90235db386f7ec": {
      "model_module": "@jupyter-widgets/controls",
      "model_module_version": "2.0.0",
      "model_name": "HBoxModel",
      "state": {
       "children": [
        "IPY_MODEL_347d28f33d1c420b8b5bd6cd23ac8330"
       ],
       "layout": "IPY_MODEL_7d3498a9c71f415e892e1ea5888c984a"
      }
     },
     "399d69791a834d459114605c89d00190": {
      "model_module": "@jupyter-widgets/base",
      "model_module_version": "2.0.0",
      "model_name": "LayoutModel",
      "state": {}
     },
     "399f3babd86d437dbf17e533ba642074": {
      "model_module": "@jupyter-widgets/controls",
      "model_module_version": "2.0.0",
      "model_name": "HBoxModel",
      "state": {
       "children": [
        "IPY_MODEL_bec48d2fe63a405d8d6ba8e98666c772"
       ],
       "layout": "IPY_MODEL_a0ced56112fc4e0ba4ccd16f4de14f51"
      }
     },
     "39a711f62da4455fa390ce2116126be2": {
      "model_module": "@jupyter-widgets/base",
      "model_module_version": "2.0.0",
      "model_name": "LayoutModel",
      "state": {}
     },
     "39d52184379b4ff8acfc996d248137e7": {
      "model_module": "@jupyter-widgets/controls",
      "model_module_version": "2.0.0",
      "model_name": "VBoxModel",
      "state": {
       "children": [
        "IPY_MODEL_68240ff97db54aac8ba3b395094f379c",
        "IPY_MODEL_874a67ede8624d0bb553d6a3f2bcd9c2"
       ],
       "layout": "IPY_MODEL_50834a9eb1c64a98949e52d1b5bb7b43"
      }
     },
     "39ddd9dae8bf452a9b5f9f82935c179a": {
      "model_module": "@jupyter-widgets/controls",
      "model_module_version": "2.0.0",
      "model_name": "CheckboxStyleModel",
      "state": {
       "description_width": ""
      }
     },
     "39f8c71e9bf942ac8e2706721e908ce2": {
      "model_module": "@jupyter-widgets/controls",
      "model_module_version": "2.0.0",
      "model_name": "HTMLStyleModel",
      "state": {
       "description_width": "",
       "font_size": null,
       "text_color": null
      }
     },
     "3a24b23ac6b0407f999b1b615938f849": {
      "model_module": "@jupyter-widgets/base",
      "model_module_version": "2.0.0",
      "model_name": "LayoutModel",
      "state": {}
     },
     "3a964907212b49eca9e0ff832b748bf3": {
      "model_module": "@jupyter-widgets/controls",
      "model_module_version": "2.0.0",
      "model_name": "ButtonModel",
      "state": {
       "description": "Instruction",
       "icon": "comment",
       "layout": "IPY_MODEL_a26289d55e134378a25d13da29360bd0",
       "style": "IPY_MODEL_cee3534f20b04478ab44ce24af36b1f5",
       "tooltip": "1"
      }
     },
     "3a9afd3a317d484faef51dab695952c7": {
      "model_module": "@jupyter-widgets/base",
      "model_module_version": "2.0.0",
      "model_name": "LayoutModel",
      "state": {}
     },
     "3aa3623de0684177b3d63564746ebf6d": {
      "model_module": "@jupyter-widgets/base",
      "model_module_version": "2.0.0",
      "model_name": "LayoutModel",
      "state": {
       "height": "40px",
       "width": "120px"
      }
     },
     "3b23dcf1f6a648b1b1afc3f7da5b21e4": {
      "model_module": "@jupyter-widgets/base",
      "model_module_version": "2.0.0",
      "model_name": "LayoutModel",
      "state": {}
     },
     "3b2f15c7293544f9b052b7d94f59ccb4": {
      "model_module": "@jupyter-widgets/base",
      "model_module_version": "2.0.0",
      "model_name": "LayoutModel",
      "state": {}
     },
     "3b54ee6305374ba69ce9b7731f4687d5": {
      "model_module": "@jupyter-widgets/base",
      "model_module_version": "2.0.0",
      "model_name": "LayoutModel",
      "state": {}
     },
     "3b8633b13e42444aaf61250bc4aedc8f": {
      "model_module": "@jupyter-widgets/controls",
      "model_module_version": "2.0.0",
      "model_name": "CheckboxStyleModel",
      "state": {
       "description_width": ""
      }
     },
     "3bbec53cca024b7ebcf17a16c5f3fb28": {
      "model_module": "@jupyter-widgets/base",
      "model_module_version": "2.0.0",
      "model_name": "LayoutModel",
      "state": {
       "height": "40px",
       "width": "160px"
      }
     },
     "3bd6cde5644b4d398dd098993e132577": {
      "model_module": "@jupyter-widgets/base",
      "model_module_version": "2.0.0",
      "model_name": "LayoutModel",
      "state": {}
     },
     "3bed77eeaffe41c8a1d5ac8f25c93450": {
      "model_module": "@jupyter-widgets/base",
      "model_module_version": "2.0.0",
      "model_name": "LayoutModel",
      "state": {
       "height": "55px",
       "width": "80px"
      }
     },
     "3bff0e7374df4a8aa366e32cc1ac010b": {
      "model_module": "@jupyter-widgets/controls",
      "model_module_version": "2.0.0",
      "model_name": "CheckboxModel",
      "state": {
       "description": "dumbbell",
       "disabled": false,
       "indent": false,
       "layout": "IPY_MODEL_5242f7a9edb54535864f6abac92ccd70",
       "style": "IPY_MODEL_7802289eff9d4f1488521c930e9ab485",
       "value": true
      }
     },
     "3c1df31e0cf344aa9256ca7e94b96b10": {
      "model_module": "@jupyter-widgets/base",
      "model_module_version": "2.0.0",
      "model_name": "LayoutModel",
      "state": {}
     },
     "3c1f2427df344ff4bedb1d7a5af813fd": {
      "model_module": "@jupyter-widgets/base",
      "model_module_version": "2.0.0",
      "model_name": "LayoutModel",
      "state": {
       "align_items": "stretch",
       "display": "flex",
       "flex_flow": "row",
       "justify_content": "space-around",
       "width": "40%"
      }
     },
     "3c1ff85d958b49c28541dd7d0ac610f7": {
      "model_module": "@jupyter-widgets/base",
      "model_module_version": "2.0.0",
      "model_name": "LayoutModel",
      "state": {}
     },
     "3c261ea3b8a948289283e74193a528b0": {
      "model_module": "@jupyter-widgets/base",
      "model_module_version": "2.0.0",
      "model_name": "LayoutModel",
      "state": {
       "height": "40px",
       "width": "160px"
      }
     },
     "3c36ede8050249c58c85aa8f2a4f605b": {
      "model_module": "@jupyter-widgets/base",
      "model_module_version": "2.0.0",
      "model_name": "LayoutModel",
      "state": {
       "height": "40px",
       "width": "160px"
      }
     },
     "3c7bdf5c7f1b4d75a1c7dc470c81839f": {
      "model_module": "@jupyter-widgets/controls",
      "model_module_version": "2.0.0",
      "model_name": "CheckboxStyleModel",
      "state": {
       "description_width": ""
      }
     },
     "3ca2ec69a0d0443ea6993aa716fc11df": {
      "model_module": "@jupyter-widgets/controls",
      "model_module_version": "2.0.0",
      "model_name": "VBoxModel",
      "state": {
       "children": [
        "IPY_MODEL_cb6ec1a5e6d949b6aa80ccdf49a52bbc",
        "IPY_MODEL_8500cff212504fcc8fa5eb0bdec3a19d"
       ],
       "layout": "IPY_MODEL_a6ceb8e331dd49489619d25e10043895"
      }
     },
     "3cfba02683694b4c9a9e4e7624836484": {
      "model_module": "@jupyter-widgets/controls",
      "model_module_version": "2.0.0",
      "model_name": "HTMLStyleModel",
      "state": {
       "description_width": "",
       "font_size": null,
       "text_color": null
      }
     },
     "3d5315ed34924068a593b2e6c2a61349": {
      "model_module": "@jupyter-widgets/base",
      "model_module_version": "2.0.0",
      "model_name": "LayoutModel",
      "state": {}
     },
     "3d5ba7e9405149d4a710f68d75dc5122": {
      "model_module": "@jupyter-widgets/controls",
      "model_module_version": "2.0.0",
      "model_name": "ButtonStyleModel",
      "state": {
       "font_family": null,
       "font_size": null,
       "font_style": null,
       "font_variant": null,
       "font_weight": null,
       "text_color": null,
       "text_decoration": null
      }
     },
     "3d84e759106e498aaf4985ed2939d920": {
      "model_module": "@jupyter-widgets/controls",
      "model_module_version": "2.0.0",
      "model_name": "HBoxModel",
      "state": {
       "children": [
        "IPY_MODEL_56d0949989634502b604a4c8fe75d8f3"
       ],
       "layout": "IPY_MODEL_b5df7997aacb4ad5a5508451285e3d4c"
      }
     },
     "3db7c662df1e4c75bea02b138b3e98bb": {
      "model_module": "@jupyter-widgets/controls",
      "model_module_version": "2.0.0",
      "model_name": "HBoxModel",
      "state": {
       "children": [
        "IPY_MODEL_1941310ca9754abfbcd1c6bc06b21196"
       ],
       "layout": "IPY_MODEL_0e7b0c83764f4ef8a8a3dbdae8b9993e"
      }
     },
     "3ddb1032dd56426289e84dcd36f48763": {
      "model_module": "@jupyter-widgets/controls",
      "model_module_version": "2.0.0",
      "model_name": "ButtonModel",
      "state": {
       "description": "Close",
       "layout": "IPY_MODEL_d6fc0ab183834a0a95be124622d3932c",
       "style": "IPY_MODEL_98f2066183054a25842e5f54666adc20",
       "tooltip": null
      }
     },
     "3e094f56b48545da9cca369b0c3bd4ef": {
      "model_module": "@jupyter-widgets/base",
      "model_module_version": "2.0.0",
      "model_name": "LayoutModel",
      "state": {
       "height": "55px",
       "width": "80px"
      }
     },
     "3e6ae13a31714bb0b1c138a53a6be276": {
      "model_module": "@jupyter-widgets/controls",
      "model_module_version": "2.0.0",
      "model_name": "HTMLStyleModel",
      "state": {
       "description_width": "",
       "font_size": null,
       "text_color": null
      }
     },
     "3e793ae0a93d4641b47fb80b403ad9ae": {
      "model_module": "@jupyter-widgets/controls",
      "model_module_version": "2.0.0",
      "model_name": "VBoxModel",
      "state": {
       "children": [
        "IPY_MODEL_67593f33f4434b13afcabd8b4d735285",
        "IPY_MODEL_cff07bcf05de467288020e9814a1c10a",
        "IPY_MODEL_b281bf65aeb048aebd890220695e31e0",
        "IPY_MODEL_0e1f5683526b40d8b5acd6fd05c064e1"
       ],
       "layout": "IPY_MODEL_a0972db4fb6940898f3424ca92c67508"
      }
     },
     "3ecf1e9bcb034922a8a2a47ee876bf4f": {
      "model_module": "@jupyter-widgets/base",
      "model_module_version": "2.0.0",
      "model_name": "LayoutModel",
      "state": {}
     },
     "3ed2054ba1374e3ab55e309df4a0bb6a": {
      "model_module": "@jupyter-widgets/controls",
      "model_module_version": "2.0.0",
      "model_name": "CheckboxModel",
      "state": {
       "description": "strongman",
       "disabled": false,
       "indent": false,
       "layout": "IPY_MODEL_20077136b1104877a31f14e4d6ea0c03",
       "style": "IPY_MODEL_30198fcf0d2e4ed0ad1e3c3e8cf0c585",
       "value": true
      }
     },
     "3ef474acf22d4ac7bd6161147d9345df": {
      "model_module": "@jupyter-widgets/controls",
      "model_module_version": "2.0.0",
      "model_name": "HTMLModel",
      "state": {
       "layout": "IPY_MODEL_a462cb4514464516818da032cc3aaf64",
       "style": "IPY_MODEL_28934308e5fd4dce829fb1abb3ec3cc8",
       "value": "<h3>Upper Body</h3>"
      }
     },
     "3ef71f0f59a74aee99215c24da89deb3": {
      "model_module": "@jupyter-widgets/controls",
      "model_module_version": "2.0.0",
      "model_name": "ButtonModel",
      "state": {
       "description": "Close",
       "layout": "IPY_MODEL_10404a02f6f54b71b6078a74740e3b78",
       "style": "IPY_MODEL_8e93ab953e954e2fb8b7a5b13284f2e4",
       "tooltip": null
      }
     },
     "3f43b4c168314ff7a828eb6d3bc16d67": {
      "model_module": "@jupyter-widgets/controls",
      "model_module_version": "2.0.0",
      "model_name": "HTMLStyleModel",
      "state": {
       "description_width": "",
       "font_size": null,
       "text_color": null
      }
     },
     "3f83aee1efb84f6e99a78352ff0b4046": {
      "model_module": "@jupyter-widgets/controls",
      "model_module_version": "2.0.0",
      "model_name": "HTMLModel",
      "state": {
       "layout": "IPY_MODEL_3b54ee6305374ba69ce9b7731f4687d5",
       "style": "IPY_MODEL_2275fe9e7ceb4fa7a2c805237f6c59a7",
       "value": "<h1>Random Excercise Generator</h1>"
      }
     },
     "3ff46ebdb0724fc4894869ac3c27cc1f": {
      "model_module": "@jupyter-widgets/base",
      "model_module_version": "2.0.0",
      "model_name": "LayoutModel",
      "state": {}
     },
     "40382415c5e247668a68531d99b51a63": {
      "model_module": "@jupyter-widgets/controls",
      "model_module_version": "2.0.0",
      "model_name": "CheckboxModel",
      "state": {
       "description": "powerlifting",
       "disabled": false,
       "indent": false,
       "layout": "IPY_MODEL_1959a5dd120f424fa895b39bf85f0360",
       "style": "IPY_MODEL_82e8e54197bb414881e87777bebc7b28",
       "value": true
      }
     },
     "4038af23e89f47a6a583b7e49e0bd42a": {
      "model_module": "@jupyter-widgets/controls",
      "model_module_version": "2.0.0",
      "model_name": "ButtonStyleModel",
      "state": {
       "font_family": null,
       "font_size": null,
       "font_style": null,
       "font_variant": null,
       "font_weight": null,
       "text_color": null,
       "text_decoration": null
      }
     },
     "403b1317c89740f7932d98d99319866a": {
      "model_module": "@jupyter-widgets/controls",
      "model_module_version": "2.0.0",
      "model_name": "CheckboxStyleModel",
      "state": {
       "description_width": ""
      }
     },
     "403d372469804db0b001252464afb322": {
      "model_module": "@jupyter-widgets/base",
      "model_module_version": "2.0.0",
      "model_name": "LayoutModel",
      "state": {
       "height": "40px",
       "width": "140px"
      }
     },
     "40727ed798ad493d86ff0feadd0692ef": {
      "model_module": "@jupyter-widgets/base",
      "model_module_version": "2.0.0",
      "model_name": "LayoutModel",
      "state": {
       "height": "40px",
       "width": "160px"
      }
     },
     "40bb90d08d734706984594b31b641757": {
      "model_module": "@jupyter-widgets/controls",
      "model_module_version": "2.0.0",
      "model_name": "HTMLModel",
      "state": {
       "layout": "IPY_MODEL_972068b7b69f4b41946602f92d0d097d",
       "style": "IPY_MODEL_7aac23d4e7f143e1a2225a2f627b2282",
       "value": "<h3>Core</h3>"
      }
     },
     "40e0473041f645b096537fe149d85d50": {
      "model_module": "@jupyter-widgets/controls",
      "model_module_version": "2.0.0",
      "model_name": "HBoxModel",
      "state": {
       "children": [
        "IPY_MODEL_4ee0678b9bdf4d39a64a90128791d4e9"
       ],
       "layout": "IPY_MODEL_cd3ec5993e8d49ce9a0c6e06bd281c38"
      }
     },
     "40ec57dfe45b4039b0fdb221d4aa30f3": {
      "model_module": "@jupyter-widgets/base",
      "model_module_version": "2.0.0",
      "model_name": "LayoutModel",
      "state": {
       "height": "40px",
       "width": "120px"
      }
     },
     "415f4a12a698480e86efa40ef8192d35": {
      "model_module": "@jupyter-widgets/controls",
      "model_module_version": "2.0.0",
      "model_name": "VBoxModel",
      "state": {
       "layout": "IPY_MODEL_00a3779debfc4049aeb1e74f26f29a8d"
      }
     },
     "41893cfd3dcd4307beb9d9c39f52940f": {
      "model_module": "@jupyter-widgets/controls",
      "model_module_version": "2.0.0",
      "model_name": "ButtonStyleModel",
      "state": {
       "font_family": null,
       "font_size": null,
       "font_style": null,
       "font_variant": null,
       "font_weight": null,
       "text_color": null,
       "text_decoration": null
      }
     },
     "4192879ae53748b191a3361f0ddbaefd": {
      "model_module": "@jupyter-widgets/controls",
      "model_module_version": "2.0.0",
      "model_name": "ButtonStyleModel",
      "state": {
       "font_family": null,
       "font_size": null,
       "font_style": null,
       "font_variant": null,
       "font_weight": null,
       "text_color": null,
       "text_decoration": null
      }
     },
     "41ecdc5b9f904740ae9b7f1f4fa2d0a9": {
      "model_module": "@jupyter-widgets/controls",
      "model_module_version": "2.0.0",
      "model_name": "ButtonStyleModel",
      "state": {
       "font_family": null,
       "font_size": null,
       "font_style": null,
       "font_variant": null,
       "font_weight": null,
       "text_color": null,
       "text_decoration": null
      }
     },
     "41fefd9751d84c0b85e996a6bc8a52ae": {
      "model_module": "@jupyter-widgets/controls",
      "model_module_version": "2.0.0",
      "model_name": "HBoxModel",
      "state": {
       "children": [
        "IPY_MODEL_aca55a878eed4570be7f38e2df27463a"
       ],
       "layout": "IPY_MODEL_9183163510c34920b7b1f736741ecb19"
      }
     },
     "4252b072d01340c582ec11a390756d38": {
      "model_module": "@jupyter-widgets/base",
      "model_module_version": "2.0.0",
      "model_name": "LayoutModel",
      "state": {}
     },
     "427102bd09ed4d96843158f72a370407": {
      "model_module": "@jupyter-widgets/controls",
      "model_module_version": "2.0.0",
      "model_name": "ButtonModel",
      "state": {
       "description": "Photo",
       "layout": "IPY_MODEL_c31937d31795488bbb0370816ce48bed",
       "style": "IPY_MODEL_e2282f828e3d4eb9ac90f9aa531ca5b7",
       "tooltip": null
      }
     },
     "428eb29aa9bc46c0af6b7a3c08f38a58": {
      "model_module": "@jupyter-widgets/base",
      "model_module_version": "2.0.0",
      "model_name": "LayoutModel",
      "state": {
       "height": "40px",
       "width": "120px"
      }
     },
     "430db94335514b579c34ee30b86b833c": {
      "model_module": "@jupyter-widgets/controls",
      "model_module_version": "2.0.0",
      "model_name": "BoxModel",
      "state": {
       "children": [
        "IPY_MODEL_33aa4837fe9449d99e60ae63abe029af",
        "IPY_MODEL_c678757d32134068900d6ce86ccb13c8"
       ],
       "layout": "IPY_MODEL_bd72ea0451d641bbb0c6b07aa5b19f98"
      }
     },
     "4322c75ffc9144ca9e717b334504ab4b": {
      "model_module": "@jupyter-widgets/controls",
      "model_module_version": "2.0.0",
      "model_name": "HTMLStyleModel",
      "state": {
       "description_width": "",
       "font_size": null,
       "text_color": null
      }
     },
     "435b806d01fb4446b46fb88c2f85618a": {
      "model_module": "@jupyter-widgets/controls",
      "model_module_version": "2.0.0",
      "model_name": "VBoxModel",
      "state": {
       "children": [
        "IPY_MODEL_df6a39ec572249e9b1255738b092e394",
        "IPY_MODEL_bdb1c453c6c74f66b0bccea758283058"
       ],
       "layout": "IPY_MODEL_3a24b23ac6b0407f999b1b615938f849"
      }
     },
     "435e0f13342d41cb88e339d1575880a1": {
      "model_module": "@jupyter-widgets/base",
      "model_module_version": "2.0.0",
      "model_name": "LayoutModel",
      "state": {
       "height": "120px",
       "width": "100px"
      }
     },
     "437370e7551c4af98b63432f73b64148": {
      "model_module": "@jupyter-widgets/base",
      "model_module_version": "2.0.0",
      "model_name": "LayoutModel",
      "state": {
       "height": "40px",
       "width": "160px"
      }
     },
     "4376f176e3114f8c80b08241aa92183a": {
      "model_module": "@jupyter-widgets/controls",
      "model_module_version": "2.0.0",
      "model_name": "CheckboxStyleModel",
      "state": {
       "description_width": ""
      }
     },
     "438dd0df400844408cfff55c7f8dd0ee": {
      "model_module": "@jupyter-widgets/base",
      "model_module_version": "2.0.0",
      "model_name": "LayoutModel",
      "state": {
       "height": "40px",
       "width": "160px"
      }
     },
     "43b5d30a351d4e2e954dc0c316a7ad1a": {
      "model_module": "@jupyter-widgets/base",
      "model_module_version": "2.0.0",
      "model_name": "LayoutModel",
      "state": {
       "height": "55px",
       "width": "120px"
      }
     },
     "43c65505acaa4ca9b52398b6eca01d15": {
      "model_module": "@jupyter-widgets/controls",
      "model_module_version": "2.0.0",
      "model_name": "VBoxModel",
      "state": {
       "children": [
        "IPY_MODEL_ae43006deb2448608e6b8d936a57e927",
        "IPY_MODEL_6fb8ab0ce0414522863746f0decd5df7"
       ],
       "layout": "IPY_MODEL_0420e7c96c884a1d91e275178c7255e1"
      }
     },
     "4411df7e02a54f90b979ef3c4ddc08a6": {
      "model_module": "@jupyter-widgets/base",
      "model_module_version": "2.0.0",
      "model_name": "LayoutModel",
      "state": {}
     },
     "443a346eff9444bd9ab7fcc0288f2f71": {
      "model_module": "@jupyter-widgets/base",
      "model_module_version": "2.0.0",
      "model_name": "LayoutModel",
      "state": {
       "height": "40px",
       "width": "160px"
      }
     },
     "4444147641df4cc980c9aa6e197cde28": {
      "model_module": "@jupyter-widgets/controls",
      "model_module_version": "2.0.0",
      "model_name": "ButtonStyleModel",
      "state": {
       "font_family": null,
       "font_size": null,
       "font_style": null,
       "font_variant": null,
       "font_weight": null,
       "text_color": null,
       "text_decoration": null
      }
     },
     "448435abf3ba43d28b8f15a931179e14": {
      "model_module": "@jupyter-widgets/controls",
      "model_module_version": "2.0.0",
      "model_name": "CheckboxStyleModel",
      "state": {
       "description_width": ""
      }
     },
     "44cd1349af4f4ef3971ac8041406cc36": {
      "model_module": "@jupyter-widgets/controls",
      "model_module_version": "2.0.0",
      "model_name": "ButtonStyleModel",
      "state": {
       "font_family": null,
       "font_size": null,
       "font_style": null,
       "font_variant": null,
       "font_weight": null,
       "text_color": null,
       "text_decoration": null
      }
     },
     "450d80f1639e43e1a7328b0f1e2722e1": {
      "model_module": "@jupyter-widgets/controls",
      "model_module_version": "2.0.0",
      "model_name": "VBoxModel",
      "state": {
       "children": [
        "IPY_MODEL_00c86128183f4371b60c4f1229e75bbe",
        "IPY_MODEL_0702358d1b2843d0b1c25687d59395f4"
       ],
       "layout": "IPY_MODEL_ce47b13b15664357949a7b61efd54638"
      }
     },
     "453a25638a5c4458945173e23bc69fd6": {
      "model_module": "@jupyter-widgets/controls",
      "model_module_version": "2.0.0",
      "model_name": "ButtonModel",
      "state": {
       "description": "Close",
       "layout": "IPY_MODEL_e9d99fd6af7847a3b8addd63b329a9c0",
       "style": "IPY_MODEL_4038af23e89f47a6a583b7e49e0bd42a",
       "tooltip": null
      }
     },
     "45810e78c42040dda3032043b201282a": {
      "model_module": "@jupyter-widgets/base",
      "model_module_version": "2.0.0",
      "model_name": "LayoutModel",
      "state": {}
     },
     "4586d72929824e0885607d33bcb5d3a6": {
      "model_module": "@jupyter-widgets/controls",
      "model_module_version": "2.0.0",
      "model_name": "CheckboxStyleModel",
      "state": {
       "description_width": ""
      }
     },
     "460091ee795647a3be5728bb9594ede6": {
      "model_module": "@jupyter-widgets/controls",
      "model_module_version": "2.0.0",
      "model_name": "ButtonModel",
      "state": {
       "description": "Ex Category",
       "layout": "IPY_MODEL_cbf6154367344882af381684a26d460a",
       "style": "IPY_MODEL_378467d074134ab0bd1dd4edf5759f65",
       "tooltip": null
      }
     },
     "4634917b268e4f61ab85bd46bfb6448b": {
      "model_module": "@jupyter-widgets/controls",
      "model_module_version": "2.0.0",
      "model_name": "ButtonModel",
      "state": {
       "description": "Sample Size",
       "layout": "IPY_MODEL_b79d3f13cd9a40cfbb260cb3aa516b2c",
       "style": "IPY_MODEL_be6b4210b9ed4ddb9eb5f524639b6cca",
       "tooltip": null
      }
     },
     "46f4daa5fea44a1aa84202888bf1e3af": {
      "model_module": "@jupyter-widgets/controls",
      "model_module_version": "2.0.0",
      "model_name": "ButtonStyleModel",
      "state": {
       "font_family": null,
       "font_size": null,
       "font_style": null,
       "font_variant": null,
       "font_weight": null,
       "text_color": null,
       "text_decoration": null
      }
     },
     "47325cf152524fae9631a3db949f0ff1": {
      "model_module": "@jupyter-widgets/controls",
      "model_module_version": "2.0.0",
      "model_name": "ButtonModel",
      "state": {
       "description": "Clear",
       "layout": "IPY_MODEL_f86aa84124494e23854d6c5571e91edf",
       "style": "IPY_MODEL_34efbabce0414529822120c97ed6dbdc",
       "tooltip": null
      }
     },
     "4762b6f2f868439ca959307382b560b3": {
      "model_module": "@jupyter-widgets/base",
      "model_module_version": "2.0.0",
      "model_name": "LayoutModel",
      "state": {
       "height": "40px",
       "width": "120px"
      }
     },
     "47cb83472f404604a99dd00f9a10246f": {
      "model_module": "@jupyter-widgets/controls",
      "model_module_version": "2.0.0",
      "model_name": "ButtonModel",
      "state": {
       "description": "Clear",
       "layout": "IPY_MODEL_b03c84a50cfa457a9fd93a008127979c",
       "style": "IPY_MODEL_ee7e40198a084911b7e6de730cee6f11",
       "tooltip": null
      }
     },
     "480f35024fd845ed91de4bce59455c45": {
      "model_module": "@jupyter-widgets/controls",
      "model_module_version": "2.0.0",
      "model_name": "CheckboxStyleModel",
      "state": {
       "description_width": ""
      }
     },
     "4814ba0a33714529b0c2b01d5f72e71a": {
      "model_module": "@jupyter-widgets/controls",
      "model_module_version": "2.0.0",
      "model_name": "ButtonStyleModel",
      "state": {
       "font_family": null,
       "font_size": null,
       "font_style": null,
       "font_variant": null,
       "font_weight": null,
       "text_color": null,
       "text_decoration": null
      }
     },
     "48523e243c1a4962875affda312305dc": {
      "model_module": "@jupyter-widgets/base",
      "model_module_version": "2.0.0",
      "model_name": "LayoutModel",
      "state": {
       "height": "40px",
       "width": "160px"
      }
     },
     "486bc4ef364745aa8d942e5f9d7fab30": {
      "model_module": "@jupyter-widgets/base",
      "model_module_version": "2.0.0",
      "model_name": "LayoutModel",
      "state": {
       "height": "40px",
       "width": "120px"
      }
     },
     "488cf90411c8458bb1940890f095eeeb": {
      "model_module": "@jupyter-widgets/controls",
      "model_module_version": "2.0.0",
      "model_name": "VBoxModel",
      "state": {
       "children": [
        "IPY_MODEL_f450a5ec8f164a0ebfe90a54cbecbd5b",
        "IPY_MODEL_d70221385fd346a5887c22c5fbc88492"
       ],
       "layout": "IPY_MODEL_59ddcb1a0b3042f9a3b47a8eb84e8ae8"
      }
     },
     "488e9b6502c74585b1ef7822ae5c8670": {
      "model_module": "@jupyter-widgets/controls",
      "model_module_version": "2.0.0",
      "model_name": "CheckboxModel",
      "state": {
       "description": "other",
       "disabled": false,
       "indent": false,
       "layout": "IPY_MODEL_40727ed798ad493d86ff0feadd0692ef",
       "style": "IPY_MODEL_e162c60f634a488aad8fdbe75af2481e",
       "value": true
      }
     },
     "48e1997a4db642fa8971cd42e78b0d36": {
      "model_module": "@jupyter-widgets/base",
      "model_module_version": "2.0.0",
      "model_name": "LayoutModel",
      "state": {
       "align_items": "flex-start",
       "display": "flex",
       "flex_flow": "row",
       "justify_content": "space-around",
       "width": "70%"
      }
     },
     "490123d88cd142e487807c3cd68ddb1e": {
      "model_module": "@jupyter-widgets/base",
      "model_module_version": "2.0.0",
      "model_name": "LayoutModel",
      "state": {
       "align_items": "stretch",
       "display": "flex",
       "flex_flow": "row",
       "justify_content": "space-around",
       "width": "70%"
      }
     },
     "49223db379614d678e95fe817ba673ab": {
      "model_module": "@jupyter-widgets/controls",
      "model_module_version": "2.0.0",
      "model_name": "CheckboxModel",
      "state": {
       "description": "cardio",
       "disabled": false,
       "indent": false,
       "layout": "IPY_MODEL_1b4ac16a464540c6aaf07eb5a530537b",
       "style": "IPY_MODEL_fa9852077b81417d85c18f65baaa28e5",
       "value": true
      }
     },
     "4927a06f00e1441697929bb23c31d7da": {
      "model_module": "@jupyter-widgets/controls",
      "model_module_version": "2.0.0",
      "model_name": "ButtonModel",
      "state": {
       "description": "Body Area",
       "layout": "IPY_MODEL_0cb074b8dba84f0e8efc61f9d15e7392",
       "style": "IPY_MODEL_f5fca782673743829b50d27a522bbacd",
       "tooltip": null
      }
     },
     "49403a770d93451eadff58648d3b560e": {
      "model_module": "@jupyter-widgets/controls",
      "model_module_version": "2.0.0",
      "model_name": "CheckboxStyleModel",
      "state": {
       "description_width": ""
      }
     },
     "494c003b352740afa90fb60620278426": {
      "model_module": "@jupyter-widgets/base",
      "model_module_version": "2.0.0",
      "model_name": "LayoutModel",
      "state": {}
     },
     "4951d2204f614bf7889f9b3b6ec10518": {
      "model_module": "@jupyter-widgets/controls",
      "model_module_version": "2.0.0",
      "model_name": "ButtonStyleModel",
      "state": {
       "font_family": null,
       "font_size": null,
       "font_style": null,
       "font_variant": null,
       "font_weight": null,
       "text_color": null,
       "text_decoration": null
      }
     },
     "49652efa94814276a118c59695834ae2": {
      "model_module": "@jupyter-widgets/controls",
      "model_module_version": "2.0.0",
      "model_name": "CheckboxModel",
      "state": {
       "description": "cable",
       "disabled": false,
       "indent": false,
       "layout": "IPY_MODEL_8fd2ad5a5b62448b8ea765d593ccc762",
       "style": "IPY_MODEL_870c5061dde64cf2a03d8d0fc5ac83d1",
       "value": true
      }
     },
     "49aaf67d7e0e4fc9b22b6821499510dd": {
      "model_module": "@jupyter-widgets/base",
      "model_module_version": "2.0.0",
      "model_name": "LayoutModel",
      "state": {
       "align_items": "flex-start",
       "display": "flex",
       "flex_flow": "row",
       "justify_content": "space-around",
       "width": "70%"
      }
     },
     "49adb4fe2c9b4a35965ce51d0c8e0eb5": {
      "model_module": "@jupyter-widgets/base",
      "model_module_version": "2.0.0",
      "model_name": "LayoutModel",
      "state": {
       "height": "200px"
      }
     },
     "49c9e2a1814244fc9cf0dcc068e03eca": {
      "model_module": "@jupyter-widgets/controls",
      "model_module_version": "2.0.0",
      "model_name": "DescriptionStyleModel",
      "state": {
       "description_width": ""
      }
     },
     "49d859fcc09040e586c4d017f14595a3": {
      "model_module": "@jupyter-widgets/controls",
      "model_module_version": "2.0.0",
      "model_name": "ButtonStyleModel",
      "state": {
       "font_family": null,
       "font_size": null,
       "font_style": null,
       "font_variant": null,
       "font_weight": null,
       "text_color": null,
       "text_decoration": null
      }
     },
     "49ef23cc7f92482ab2ef50be2097fa4c": {
      "model_module": "@jupyter-widgets/controls",
      "model_module_version": "2.0.0",
      "model_name": "VBoxModel",
      "state": {
       "children": [
        "IPY_MODEL_70dc381e6fd5462e923745df40b86d6c"
       ],
       "layout": "IPY_MODEL_7aec49e0142f4518ad3cf3b4fed3e95f"
      }
     },
     "4a4ff0cc85e6491a82b0b2a9f22724a5": {
      "model_module": "@jupyter-widgets/base",
      "model_module_version": "2.0.0",
      "model_name": "LayoutModel",
      "state": {}
     },
     "4a592f8f496e4b0280dc4b8e0be050c2": {
      "model_module": "@jupyter-widgets/controls",
      "model_module_version": "2.0.0",
      "model_name": "CheckboxModel",
      "state": {
       "description": "foam roll",
       "disabled": false,
       "indent": false,
       "layout": "IPY_MODEL_65fe3ecd6fcb4fd2ab945b17e385e900",
       "style": "IPY_MODEL_045cf56f1b3c4a0a9c371b6abaa73edf",
       "value": true
      }
     },
     "4a7422a43fcf418b9891a3d98a35d3d6": {
      "model_module": "@jupyter-widgets/controls",
      "model_module_version": "2.0.0",
      "model_name": "CheckboxStyleModel",
      "state": {
       "description_width": ""
      }
     },
     "4a94ddae5a2a46118c5c800f802c6a0a": {
      "model_module": "@jupyter-widgets/controls",
      "model_module_version": "2.0.0",
      "model_name": "HTMLModel",
      "state": {
       "layout": "IPY_MODEL_539f97ee5b3d4d08b9e86babd245a137",
       "style": "IPY_MODEL_722a27cebc604c9d9f99d63b7943733b",
       "value": "<h1>Results</h1>"
      }
     },
     "4acb8f0b24e04b018f8ebc53992e75ba": {
      "model_module": "@jupyter-widgets/base",
      "model_module_version": "2.0.0",
      "model_name": "LayoutModel",
      "state": {
       "height": "55px",
       "width": "80px"
      }
     },
     "4addeb0e495e4accb0bb09e71ad0b91a": {
      "model_module": "@jupyter-widgets/controls",
      "model_module_version": "2.0.0",
      "model_name": "CheckboxStyleModel",
      "state": {
       "description_width": ""
      }
     },
     "4af3ddf3dc9e4799886cc4d739d2d197": {
      "model_module": "@jupyter-widgets/controls",
      "model_module_version": "2.0.0",
      "model_name": "CheckboxStyleModel",
      "state": {
       "description_width": ""
      }
     },
     "4b3a684424194041ac280bcce410eeb1": {
      "model_module": "@jupyter-widgets/controls",
      "model_module_version": "2.0.0",
      "model_name": "ButtonStyleModel",
      "state": {
       "font_family": null,
       "font_size": null,
       "font_style": null,
       "font_variant": null,
       "font_weight": null,
       "text_color": null,
       "text_decoration": null
      }
     },
     "4b604d300e2146038f45575aa9936265": {
      "model_module": "@jupyter-widgets/controls",
      "model_module_version": "2.0.0",
      "model_name": "BoxModel",
      "state": {
       "children": [
        "IPY_MODEL_b9702e9115894f7da4e44bee44d0495f",
        "IPY_MODEL_6d5b051c43db409387e49e0197eddc79"
       ],
       "layout": "IPY_MODEL_e87dad533c2b4ed099b602df063988d8"
      }
     },
     "4b63066edf464796a3a7165cab55e1b6": {
      "model_module": "@jupyter-widgets/controls",
      "model_module_version": "2.0.0",
      "model_name": "ButtonModel",
      "state": {
       "description": "Instruction",
       "icon": "comment",
       "layout": "IPY_MODEL_43b5d30a351d4e2e954dc0c316a7ad1a",
       "style": "IPY_MODEL_d4032e27110744b99c9f1412e510602f",
       "tooltip": "0"
      }
     },
     "4cab25fdf96d4b9db8b313b1bfd76cc3": {
      "model_module": "@jupyter-widgets/controls",
      "model_module_version": "2.0.0",
      "model_name": "ButtonStyleModel",
      "state": {
       "font_family": null,
       "font_size": null,
       "font_style": null,
       "font_variant": null,
       "font_weight": null,
       "text_color": null,
       "text_decoration": null
      }
     },
     "4cd4b7d9fcad48fab09581e9611990b0": {
      "model_module": "@jupyter-widgets/controls",
      "model_module_version": "2.0.0",
      "model_name": "HTMLModel",
      "state": {
       "layout": "IPY_MODEL_ae6675ba5a364274878d1946419ccb84",
       "style": "IPY_MODEL_d1faf571243a40628d17622d39b50c6b",
       "value": "Intermediate Groin Stretch"
      }
     },
     "4d5a51d5366b4ab99a6149bce528d0bf": {
      "model_module": "@jupyter-widgets/base",
      "model_module_version": "2.0.0",
      "model_name": "LayoutModel",
      "state": {}
     },
     "4d90e34e7c174bf5808cfbfe97a903e1": {
      "model_module": "@jupyter-widgets/controls",
      "model_module_version": "2.0.0",
      "model_name": "HTMLModel",
      "state": {
       "layout": "IPY_MODEL_daee8048044c4425b816d1605c979d74",
       "style": "IPY_MODEL_4e9722962381452e825f2df023910e60",
       "value": "<h3>Lower_Body</h3>"
      }
     },
     "4e524a1de744453d9178638eae1e1390": {
      "model_module": "@jupyter-widgets/base",
      "model_module_version": "2.0.0",
      "model_name": "LayoutModel",
      "state": {}
     },
     "4e5a0dc4a53d497c823b8d17e3da2c8c": {
      "model_module": "@jupyter-widgets/controls",
      "model_module_version": "2.0.0",
      "model_name": "CheckboxStyleModel",
      "state": {
       "description_width": ""
      }
     },
     "4e9722962381452e825f2df023910e60": {
      "model_module": "@jupyter-widgets/controls",
      "model_module_version": "2.0.0",
      "model_name": "HTMLStyleModel",
      "state": {
       "description_width": "",
       "font_size": null,
       "text_color": null
      }
     },
     "4ea6a834d1594a18af658042fa084100": {
      "model_module": "@jupyter-widgets/base",
      "model_module_version": "2.0.0",
      "model_name": "LayoutModel",
      "state": {}
     },
     "4ee0678b9bdf4d39a64a90128791d4e9": {
      "model_module": "@jupyter-widgets/controls",
      "model_module_version": "2.0.0",
      "model_name": "HTMLModel",
      "state": {
       "layout": "IPY_MODEL_348ab9f5908645f683c4dc2f8373b517",
       "style": "IPY_MODEL_e910208734cb4883b1187a2c3e4de752",
       "value": "<h1>Results</h1>"
      }
     },
     "4eee968a40ec413ab8b7f99f82f363fc": {
      "model_module": "@jupyter-widgets/controls",
      "model_module_version": "2.0.0",
      "model_name": "VBoxModel",
      "state": {
       "children": [
        "IPY_MODEL_b65884885a874ad08cdec1ed8c25aded",
        "IPY_MODEL_f8c63d97c56b40bd826a4d7c12d655b9"
       ],
       "layout": "IPY_MODEL_e6e32f8198d44c56be4b61c63b733851"
      }
     },
     "4f05f2319e964ded87ae125ca69ab278": {
      "model_module": "@jupyter-widgets/base",
      "model_module_version": "2.0.0",
      "model_name": "LayoutModel",
      "state": {
       "align_items": "center",
       "display": "flex",
       "flex_flow": "row",
       "justify_content": "space-around",
       "width": "70%"
      }
     },
     "4f44b9085f474463a3c580da8826f2b5": {
      "model_module": "@jupyter-widgets/controls",
      "model_module_version": "2.0.0",
      "model_name": "HBoxModel",
      "state": {
       "children": [
        "IPY_MODEL_a3a2c4b32395436fbba3421bc36c923d"
       ],
       "layout": "IPY_MODEL_621dd4b7499543dd946005a7264dc779"
      }
     },
     "4f4b067cd28d4f42842bb7d97f99642a": {
      "model_module": "@jupyter-widgets/base",
      "model_module_version": "2.0.0",
      "model_name": "LayoutModel",
      "state": {}
     },
     "4f6bf67d58d041c0841fd621c27b4d9b": {
      "model_module": "@jupyter-widgets/controls",
      "model_module_version": "2.0.0",
      "model_name": "HTMLModel",
      "state": {
       "layout": "IPY_MODEL_e2245558c9b24c9e98b523a5292a09b4",
       "style": "IPY_MODEL_cd8b1bda316b4ac4b6bb2e7a2e1ce89a",
       "value": "<h3>Lower_Body</h3>"
      }
     },
     "4fad38f551874414bc7adadb9cc92708": {
      "model_module": "@jupyter-widgets/controls",
      "model_module_version": "2.0.0",
      "model_name": "HTMLModel",
      "state": {
       "layout": "IPY_MODEL_53816a9e76784996bf5e218b503d9093",
       "style": "IPY_MODEL_1eeedcb6e18e45df8ab0178ea30c6778",
       "value": "<h2>Equipment List</h2>"
      }
     },
     "4fb60947caf84687981d07773caa3dbf": {
      "model_module": "@jupyter-widgets/controls",
      "model_module_version": "2.0.0",
      "model_name": "HBoxModel",
      "state": {
       "children": [
        "IPY_MODEL_a7a8db0b7ad34f789194b051f359a6e3"
       ],
       "layout": "IPY_MODEL_bf1883005b5645fa81e10df160c5fac0"
      }
     },
     "4fbcaeebb64d44e7986cc5e804bdfcf7": {
      "model_module": "@jupyter-widgets/base",
      "model_module_version": "2.0.0",
      "model_name": "LayoutModel",
      "state": {}
     },
     "5018a48a822741298d4bd56bc9fbb29a": {
      "model_module": "@jupyter-widgets/controls",
      "model_module_version": "2.0.0",
      "model_name": "HTMLStyleModel",
      "state": {
       "description_width": "",
       "font_size": null,
       "text_color": null
      }
     },
     "5069e0aa9ddd4554b33ba5e8864b8fb5": {
      "model_module": "@jupyter-widgets/controls",
      "model_module_version": "2.0.0",
      "model_name": "CheckboxStyleModel",
      "state": {
       "description_width": ""
      }
     },
     "50834a9eb1c64a98949e52d1b5bb7b43": {
      "model_module": "@jupyter-widgets/base",
      "model_module_version": "2.0.0",
      "model_name": "LayoutModel",
      "state": {}
     },
     "508f14a575aa45a1a10d35a8a33dc2fd": {
      "model_module": "@jupyter-widgets/base",
      "model_module_version": "2.0.0",
      "model_name": "LayoutModel",
      "state": {
       "height": "40px",
       "width": "120px"
      }
     },
     "509dd70ceeb44a72914ad9ee57451166": {
      "model_module": "@jupyter-widgets/controls",
      "model_module_version": "2.0.0",
      "model_name": "CheckboxStyleModel",
      "state": {
       "description_width": ""
      }
     },
     "509fea29f40a47568247d180b5682f74": {
      "model_module": "@jupyter-widgets/controls",
      "model_module_version": "2.0.0",
      "model_name": "HTMLModel",
      "state": {
       "layout": "IPY_MODEL_1e9cdbff81f04fb181d1f272d6c128f5",
       "style": "IPY_MODEL_584b1d4624c841b4a2639bb301876d04",
       "value": "<h2>Sample Size</h2>"
      }
     },
     "50b305e77dc94d59825b1be30a1ec6c8": {
      "model_module": "@jupyter-widgets/controls",
      "model_module_version": "2.0.0",
      "model_name": "CheckboxModel",
      "state": {
       "description": "cardio",
       "disabled": false,
       "indent": false,
       "layout": "IPY_MODEL_40ec57dfe45b4039b0fdb221d4aa30f3",
       "style": "IPY_MODEL_23905b5ed1294f1c9422615f0b01d1d6",
       "value": true
      }
     },
     "512b861a5a5f456e8cc89f9162299197": {
      "model_module": "@jupyter-widgets/controls",
      "model_module_version": "2.0.0",
      "model_name": "HTMLStyleModel",
      "state": {
       "description_width": "",
       "font_size": null,
       "text_color": null
      }
     },
     "51b9f2017ab04c629cebb1bf500d604a": {
      "model_module": "@jupyter-widgets/controls",
      "model_module_version": "2.0.0",
      "model_name": "CheckboxStyleModel",
      "state": {
       "description_width": ""
      }
     },
     "51f1157b33e546c2ab7a5ef5f1d7da9d": {
      "model_module": "@jupyter-widgets/controls",
      "model_module_version": "2.0.0",
      "model_name": "DropdownModel",
      "state": {
       "_options_labels": [
        "One",
        "Two",
        "Three",
        "Four",
        "Five"
       ],
       "index": 1,
       "layout": "IPY_MODEL_d04441bcb0694ec9b750dac67743159e",
       "style": "IPY_MODEL_66aad591f2ed4fd29c5dade831dc2ac2"
      }
     },
     "5242f7a9edb54535864f6abac92ccd70": {
      "model_module": "@jupyter-widgets/base",
      "model_module_version": "2.0.0",
      "model_name": "LayoutModel",
      "state": {
       "height": "40px",
       "width": "160px"
      }
     },
     "5255f087cd4c41d7ba2195f3d1e9f828": {
      "model_module": "@jupyter-widgets/controls",
      "model_module_version": "2.0.0",
      "model_name": "ButtonModel",
      "state": {
       "description": "Close",
       "layout": "IPY_MODEL_238ba5ce5868492797443747ba7982b3",
       "style": "IPY_MODEL_5a023027e3b34ab7a52d97b7d3e4929c",
       "tooltip": null
      }
     },
     "52a19890d1034a17a2589d435d589aa4": {
      "model_module": "@jupyter-widgets/controls",
      "model_module_version": "2.0.0",
      "model_name": "HBoxModel",
      "state": {
       "children": [
        "IPY_MODEL_3879ec54fd824b62ae958ef112afbed8"
       ],
       "layout": "IPY_MODEL_3b23dcf1f6a648b1b1afc3f7da5b21e4"
      }
     },
     "5300198e0daf43cfb1444b443ed3822c": {
      "model_module": "@jupyter-widgets/base",
      "model_module_version": "2.0.0",
      "model_name": "LayoutModel",
      "state": {}
     },
     "531279ada1624367bc2ecef65af892ba": {
      "model_module": "@jupyter-widgets/controls",
      "model_module_version": "2.0.0",
      "model_name": "ButtonStyleModel",
      "state": {
       "font_family": null,
       "font_size": null,
       "font_style": null,
       "font_variant": null,
       "font_weight": null,
       "text_color": null,
       "text_decoration": null
      }
     },
     "533351bd05274a3384ce5a10fb6bcf9f": {
      "model_module": "@jupyter-widgets/controls",
      "model_module_version": "2.0.0",
      "model_name": "ButtonModel",
      "state": {
       "description": "Body Area",
       "layout": "IPY_MODEL_e9c3676a45054d7f82efcb320697b13e",
       "style": "IPY_MODEL_0b8ff31995af4c7dac91d7ae3c1cc992",
       "tooltip": null
      }
     },
     "534addfa6d524e259a6f41e850b7f4c9": {
      "model_module": "@jupyter-widgets/controls",
      "model_module_version": "2.0.0",
      "model_name": "HTMLModel",
      "state": {
       "layout": "IPY_MODEL_ed7eeab15eb84c998f61bfcb02c9d7ae",
       "style": "IPY_MODEL_219ae3ed04f8459aa186940d3c8311e7",
       "value": "<h2>Exercise Category</h2>"
      }
     },
     "53816a9e76784996bf5e218b503d9093": {
      "model_module": "@jupyter-widgets/base",
      "model_module_version": "2.0.0",
      "model_name": "LayoutModel",
      "state": {}
     },
     "539f97ee5b3d4d08b9e86babd245a137": {
      "model_module": "@jupyter-widgets/base",
      "model_module_version": "2.0.0",
      "model_name": "LayoutModel",
      "state": {}
     },
     "5422989158a043c98c85503b804d4d79": {
      "model_module": "@jupyter-widgets/base",
      "model_module_version": "2.0.0",
      "model_name": "LayoutModel",
      "state": {
       "height": "40px",
       "width": "160px"
      }
     },
     "542f9401ff22499f81d401540e6273d9": {
      "model_module": "@jupyter-widgets/base",
      "model_module_version": "2.0.0",
      "model_name": "LayoutModel",
      "state": {
       "height": "200px"
      }
     },
     "5437d197e4934fc8a0491c9963e8b082": {
      "model_module": "@jupyter-widgets/controls",
      "model_module_version": "2.0.0",
      "model_name": "VBoxModel",
      "state": {
       "children": [
        "IPY_MODEL_d769c73c961e418cb82afc3d68bb0cd7",
        "IPY_MODEL_1e17cfd35362441aa6ba2e1241e75ea4",
        "IPY_MODEL_aa76bd9a01bb48088be06e8b5252160b"
       ],
       "layout": "IPY_MODEL_f9840bb30a1f49569451a15b5d4716a2"
      }
     },
     "545e263572c34fc286576bc177a63f3c": {
      "model_module": "@jupyter-widgets/controls",
      "model_module_version": "2.0.0",
      "model_name": "HBoxModel",
      "state": {
       "children": [
        "IPY_MODEL_b6231fa1bb364a14b3b500bf228d7431",
        "IPY_MODEL_eec8a922579248c2829d68ab36506a1a",
        "IPY_MODEL_0c3816a53c264e999c32d343cfef492e",
        "IPY_MODEL_4eee968a40ec413ab8b7f99f82f363fc"
       ],
       "layout": "IPY_MODEL_71c905b18c9b4d69adb6197011bde492"
      }
     },
     "553b83d04a304c10b669e46f288d9a14": {
      "model_module": "@jupyter-widgets/base",
      "model_module_version": "2.0.0",
      "model_name": "LayoutModel",
      "state": {}
     },
     "553d311a55f44f10a22fadac96f1f76a": {
      "model_module": "@jupyter-widgets/base",
      "model_module_version": "2.0.0",
      "model_name": "LayoutModel",
      "state": {
       "height": "40px",
       "width": "120px"
      }
     },
     "5550a4d72e354df29a46debf414d78e4": {
      "model_module": "@jupyter-widgets/base",
      "model_module_version": "2.0.0",
      "model_name": "LayoutModel",
      "state": {
       "height": "40px",
       "width": "120px"
      }
     },
     "5554f023db5e416cbb51c9937d496a7c": {
      "model_module": "@jupyter-widgets/base",
      "model_module_version": "2.0.0",
      "model_name": "LayoutModel",
      "state": {}
     },
     "5562b05248784b76acf0954fd6116db2": {
      "model_module": "@jupyter-widgets/controls",
      "model_module_version": "2.0.0",
      "model_name": "ButtonModel",
      "state": {
       "description": "Exit",
       "layout": "IPY_MODEL_d16a28a8282841bca61af6e1abc3210d",
       "style": "IPY_MODEL_1b041d85125448b590357254232eccc5",
       "tooltip": null
      }
     },
     "559c4992c073478ebcf87a694d1f2263": {
      "model_module": "@jupyter-widgets/output",
      "model_module_version": "1.0.0",
      "model_name": "OutputModel",
      "state": {
       "layout": "IPY_MODEL_2e4c39a1c87d4065b3ce5b292567a3af",
       "outputs": [
        {
         "data": {
          "application/vnd.jupyter.widget-view+json": {
           "model_id": "2b9de63f79394d67b20550a573972244",
           "version_major": 2,
           "version_minor": 0
          },
          "text/plain": "VBox(children=(Box(children=(HBox(children=(HTML(value='<h2>Exercise Category</h2>'),)), Button(description='C…"
         },
         "metadata": {},
         "output_type": "display_data"
        }
       ]
      }
     },
     "55b0754f95ad4334a9cfb32c3ad8bd91": {
      "model_module": "@jupyter-widgets/controls",
      "model_module_version": "2.0.0",
      "model_name": "VBoxModel",
      "state": {
       "children": [
        "IPY_MODEL_964962af54b64c27bf2d92217c3a0138"
       ],
       "layout": "IPY_MODEL_7fb754cc7e5248faa15c214b334af4eb"
      }
     },
     "561fa07976ae42ee926ca6f7e2503b3f": {
      "model_module": "@jupyter-widgets/controls",
      "model_module_version": "2.0.0",
      "model_name": "HTMLModel",
      "state": {
       "layout": "IPY_MODEL_9b7833eae3fa4058b8b424397976670c",
       "style": "IPY_MODEL_83c683b88de54901b7d710c49680ca34",
       "value": "<h2>Sample Size</h2>"
      }
     },
     "565cb3aab535401aa2a406c01f353ff0": {
      "model_module": "@jupyter-widgets/base",
      "model_module_version": "2.0.0",
      "model_name": "LayoutModel",
      "state": {
       "height": "40px",
       "width": "160px"
      }
     },
     "56a9b91a5f2f4569bbeda699561684aa": {
      "model_module": "@jupyter-widgets/controls",
      "model_module_version": "2.0.0",
      "model_name": "CheckboxStyleModel",
      "state": {
       "description_width": ""
      }
     },
     "56c0532e1878400c877f7973668d9d1c": {
      "model_module": "@jupyter-widgets/controls",
      "model_module_version": "2.0.0",
      "model_name": "CheckboxStyleModel",
      "state": {
       "description_width": ""
      }
     },
     "56d0949989634502b604a4c8fe75d8f3": {
      "model_module": "@jupyter-widgets/controls",
      "model_module_version": "2.0.0",
      "model_name": "HTMLModel",
      "state": {
       "layout": "IPY_MODEL_ddf658f9e1bc4af18e6b031364ac8480",
       "style": "IPY_MODEL_dbf64c9d7bc6412999d6a0fca567c904",
       "value": "<h3>Core</h3>"
      }
     },
     "56f4da20f465492fbe4df5b75e6b7dc0": {
      "model_module": "@jupyter-widgets/controls",
      "model_module_version": "2.0.0",
      "model_name": "ButtonModel",
      "state": {
       "description": "Ex Category",
       "layout": "IPY_MODEL_66093db59f9a49c3b592af5b2af05b14",
       "style": "IPY_MODEL_b1dcb7f46f924ed48699d6feecc5d1cd",
       "tooltip": null
      }
     },
     "5715330b52a045f79665a555fc18c8ae": {
      "model_module": "@jupyter-widgets/base",
      "model_module_version": "2.0.0",
      "model_name": "LayoutModel",
      "state": {
       "align_items": "stretch",
       "display": "flex",
       "flex_flow": "row",
       "justify_content": "space-around",
       "width": "70%"
      }
     },
     "572d6a05df7d41779e1b90a56e81a507": {
      "model_module": "@jupyter-widgets/controls",
      "model_module_version": "2.0.0",
      "model_name": "HTMLModel",
      "state": {
       "layout": "IPY_MODEL_11930b4bf80d4b33b92a895bc50e3284",
       "style": "IPY_MODEL_9de903800be14193959fa6e92f315763",
       "value": "<h2>Body Area</h2>"
      }
     },
     "579bf795c02f4c3f99222867ec8746fa": {
      "model_module": "@jupyter-widgets/controls",
      "model_module_version": "2.0.0",
      "model_name": "HTMLStyleModel",
      "state": {
       "description_width": "",
       "font_size": null,
       "text_color": null
      }
     },
     "579da9bf40704f5fbcd9a953d1cdee82": {
      "model_module": "@jupyter-widgets/controls",
      "model_module_version": "2.0.0",
      "model_name": "CheckboxStyleModel",
      "state": {
       "description_width": ""
      }
     },
     "57a0cd9353ab463996234c2189212fba": {
      "model_module": "@jupyter-widgets/controls",
      "model_module_version": "2.0.0",
      "model_name": "CheckboxModel",
      "state": {
       "description": "stretching",
       "disabled": false,
       "indent": false,
       "layout": "IPY_MODEL_de2892e69f0f4511a2b3a452c07c5a7d",
       "style": "IPY_MODEL_dc96e0b6d8624f65abbf3b199b9470ee",
       "value": true
      }
     },
     "57aed211d12e40e18e77459c2ef84e07": {
      "model_module": "@jupyter-widgets/controls",
      "model_module_version": "2.0.0",
      "model_name": "BoxModel",
      "state": {
       "children": [
        "IPY_MODEL_d681e80b32df422e9f243725df1f6322",
        "IPY_MODEL_b28ed54903f340c99eb40a21cf32158f",
        "IPY_MODEL_0ef76f79cfa04a32ab1e8a60d6f9253b"
       ],
       "layout": "IPY_MODEL_eff7a15e99a44b2996a40b62b2e8c7d0"
      }
     },
     "57b41b79346740dbb7201c2f6e51ee01": {
      "model_module": "@jupyter-widgets/base",
      "model_module_version": "2.0.0",
      "model_name": "LayoutModel",
      "state": {}
     },
     "57db193535f64cc0b8152f3f6cbb2db5": {
      "model_module": "@jupyter-widgets/base",
      "model_module_version": "2.0.0",
      "model_name": "LayoutModel",
      "state": {
       "height": "40px",
       "width": "160px"
      }
     },
     "57e6810c93b6442dbf450bd1cdc60e2f": {
      "model_module": "@jupyter-widgets/base",
      "model_module_version": "2.0.0",
      "model_name": "LayoutModel",
      "state": {}
     },
     "5808b2a0ebe1438ea801296e890b06aa": {
      "model_module": "@jupyter-widgets/base",
      "model_module_version": "2.0.0",
      "model_name": "LayoutModel",
      "state": {}
     },
     "5809c6bfd86942a4ab7ce9cc53cebe12": {
      "model_module": "@jupyter-widgets/controls",
      "model_module_version": "2.0.0",
      "model_name": "VBoxModel",
      "state": {
       "children": [
        "IPY_MODEL_337e13cc5e7e43deb9e8d4978aec2267",
        "IPY_MODEL_b656ad27b48c432f8b04774bdb4b29fa"
       ],
       "layout": "IPY_MODEL_4411df7e02a54f90b979ef3c4ddc08a6"
      }
     },
     "582197a886434eba964da934e512ba6c": {
      "model_module": "@jupyter-widgets/base",
      "model_module_version": "2.0.0",
      "model_name": "LayoutModel",
      "state": {}
     },
     "583c7ddf147e41238e6d130143c8a89e": {
      "model_module": "@jupyter-widgets/base",
      "model_module_version": "2.0.0",
      "model_name": "LayoutModel",
      "state": {}
     },
     "584b1d4624c841b4a2639bb301876d04": {
      "model_module": "@jupyter-widgets/controls",
      "model_module_version": "2.0.0",
      "model_name": "HTMLStyleModel",
      "state": {
       "description_width": "",
       "font_size": null,
       "text_color": null
      }
     },
     "58ac337146054845912b0e7859e14382": {
      "model_module": "@jupyter-widgets/controls",
      "model_module_version": "2.0.0",
      "model_name": "CheckboxModel",
      "state": {
       "description": "machine",
       "disabled": false,
       "indent": false,
       "layout": "IPY_MODEL_7ad2ffb75bf242b2a0e36e7ccd4daf23",
       "style": "IPY_MODEL_1fe921bc4e3d43e291870065cbdb09af",
       "value": true
      }
     },
     "58d878ead19c496598ff3a974f23abbe": {
      "model_module": "@jupyter-widgets/controls",
      "model_module_version": "2.0.0",
      "model_name": "CheckboxStyleModel",
      "state": {
       "description_width": ""
      }
     },
     "58e57dbbe68844268c621c847fecd9f8": {
      "model_module": "@jupyter-widgets/controls",
      "model_module_version": "2.0.0",
      "model_name": "CheckboxModel",
      "state": {
       "description": "exercise ball",
       "disabled": false,
       "indent": false,
       "layout": "IPY_MODEL_fc66a871e90646efa836602c260393d6",
       "style": "IPY_MODEL_4376f176e3114f8c80b08241aa92183a",
       "value": true
      }
     },
     "59488cf42d20456cb375692df7105ad4": {
      "model_module": "@jupyter-widgets/controls",
      "model_module_version": "2.0.0",
      "model_name": "ButtonModel",
      "state": {
       "description": "Clear",
       "layout": "IPY_MODEL_d5db3d0d277f4a449dc766c32df2533a",
       "style": "IPY_MODEL_1010ac6d21da492bb2a10c0745baac44",
       "tooltip": null
      }
     },
     "596281049cf34e36afc7ebb28add739a": {
      "model_module": "@jupyter-widgets/controls",
      "model_module_version": "2.0.0",
      "model_name": "HBoxModel",
      "state": {
       "children": [
        "IPY_MODEL_1aaffcd2448e4efe9038075c2819aeef"
       ],
       "layout": "IPY_MODEL_2fab9e2dd57945cd956cf805befbde9a"
      }
     },
     "59a0e8690ab64ef2b0d9479e1b802ecb": {
      "model_module": "@jupyter-widgets/controls",
      "model_module_version": "2.0.0",
      "model_name": "CheckboxStyleModel",
      "state": {
       "description_width": ""
      }
     },
     "59dbef9de91e4ad38a25e5dce2295412": {
      "model_module": "@jupyter-widgets/controls",
      "model_module_version": "2.0.0",
      "model_name": "HBoxModel",
      "state": {
       "children": [
        "IPY_MODEL_73bc60f2ee4847e8aed360e0974103cd"
       ],
       "layout": "IPY_MODEL_32c51625f5b3483798af20afe1236cd2"
      }
     },
     "59ddcb1a0b3042f9a3b47a8eb84e8ae8": {
      "model_module": "@jupyter-widgets/base",
      "model_module_version": "2.0.0",
      "model_name": "LayoutModel",
      "state": {}
     },
     "5a023027e3b34ab7a52d97b7d3e4929c": {
      "model_module": "@jupyter-widgets/controls",
      "model_module_version": "2.0.0",
      "model_name": "ButtonStyleModel",
      "state": {
       "font_family": null,
       "font_size": null,
       "font_style": null,
       "font_variant": null,
       "font_weight": null,
       "text_color": null,
       "text_decoration": null
      }
     },
     "5a7633c92cef40f2a61af54437799d9a": {
      "model_module": "@jupyter-widgets/base",
      "model_module_version": "2.0.0",
      "model_name": "LayoutModel",
      "state": {
       "height": "40px",
       "width": "140px"
      }
     },
     "5a91ecf3147c4e15aa878ddc59e377e4": {
      "model_module": "@jupyter-widgets/base",
      "model_module_version": "2.0.0",
      "model_name": "LayoutModel",
      "state": {
       "height": "120px",
       "width": "100px"
      }
     },
     "5aba7735d4244b30ba9c6eb08211016c": {
      "model_module": "@jupyter-widgets/controls",
      "model_module_version": "2.0.0",
      "model_name": "HTMLModel",
      "state": {
       "layout": "IPY_MODEL_f4faa478f6c64799b28d11e968a0054f",
       "style": "IPY_MODEL_d47e173fd445462cbd013eb3889b33bc",
       "value": "<h2>Sample Size</h2>"
      }
     },
     "5ac9464939eb4e49acc7524489260500": {
      "model_module": "@jupyter-widgets/base",
      "model_module_version": "2.0.0",
      "model_name": "LayoutModel",
      "state": {
       "align_items": "stretch",
       "display": "flex",
       "flex_flow": "row",
       "justify_content": "space-around",
       "width": "70%"
      }
     },
     "5b08140606874da5b9dd0ccc21f6511e": {
      "model_module": "@jupyter-widgets/base",
      "model_module_version": "2.0.0",
      "model_name": "LayoutModel",
      "state": {}
     },
     "5b13e6cdbff440ffabe3590a59152002": {
      "model_module": "@jupyter-widgets/base",
      "model_module_version": "2.0.0",
      "model_name": "LayoutModel",
      "state": {
       "height": "120px",
       "width": "100px"
      }
     },
     "5b2e85974d4e4e218456895d483bf946": {
      "model_module": "@jupyter-widgets/controls",
      "model_module_version": "2.0.0",
      "model_name": "CheckboxModel",
      "state": {
       "description": "foam roll",
       "disabled": false,
       "indent": false,
       "layout": "IPY_MODEL_8c36838f41af4275b86a3db091714d83",
       "style": "IPY_MODEL_2fadd008e6394d82ad2eacd78ff113e6",
       "value": true
      }
     },
     "5ba3c338d66c4b72a89d582bc2f75d4f": {
      "model_module": "@jupyter-widgets/controls",
      "model_module_version": "2.0.0",
      "model_name": "CheckboxModel",
      "state": {
       "description": "strongman",
       "disabled": false,
       "indent": false,
       "layout": "IPY_MODEL_57db193535f64cc0b8152f3f6cbb2db5",
       "style": "IPY_MODEL_0c9e03cb0f9c4b6886ba93b3e892ef8f",
       "value": true
      }
     },
     "5bc3c169c8cf4ef79b02c930110ada4c": {
      "model_module": "@jupyter-widgets/base",
      "model_module_version": "2.0.0",
      "model_name": "LayoutModel",
      "state": {
       "align_items": "stretch",
       "display": "flex",
       "flex_flow": "row",
       "justify_content": "space-around",
       "width": "70%"
      }
     },
     "5be3c680510a498294cdf130800fa275": {
      "model_module": "@jupyter-widgets/base",
      "model_module_version": "2.0.0",
      "model_name": "LayoutModel",
      "state": {}
     },
     "5beefa18d55444ed97b77afecd80cd6b": {
      "model_module": "@jupyter-widgets/controls",
      "model_module_version": "2.0.0",
      "model_name": "ButtonStyleModel",
      "state": {
       "font_family": null,
       "font_size": null,
       "font_style": null,
       "font_variant": null,
       "font_weight": null,
       "text_color": null,
       "text_decoration": null
      }
     },
     "5bffffc325974ac48d115d7573f1592e": {
      "model_module": "@jupyter-widgets/controls",
      "model_module_version": "2.0.0",
      "model_name": "ButtonStyleModel",
      "state": {
       "font_family": null,
       "font_size": null,
       "font_style": null,
       "font_variant": null,
       "font_weight": null,
       "text_color": null,
       "text_decoration": null
      }
     },
     "5c3379196ad2471c808bfe7bae10745b": {
      "model_module": "@jupyter-widgets/base",
      "model_module_version": "2.0.0",
      "model_name": "LayoutModel",
      "state": {
       "height": "40px",
       "width": "120px"
      }
     },
     "5c81c7627cd846038cd3e55a4cc8347e": {
      "model_module": "@jupyter-widgets/base",
      "model_module_version": "2.0.0",
      "model_name": "LayoutModel",
      "state": {
       "height": "40px",
       "width": "160px"
      }
     },
     "5cecd975c4a544f19a6060e00f349b3b": {
      "model_module": "@jupyter-widgets/controls",
      "model_module_version": "2.0.0",
      "model_name": "ButtonStyleModel",
      "state": {
       "font_family": null,
       "font_size": null,
       "font_style": null,
       "font_variant": null,
       "font_weight": null,
       "text_color": null,
       "text_decoration": null
      }
     },
     "5d7d80d8fbad405baab0b227535f3806": {
      "model_module": "@jupyter-widgets/controls",
      "model_module_version": "2.0.0",
      "model_name": "CheckboxModel",
      "state": {
       "description": "machine",
       "disabled": false,
       "indent": false,
       "layout": "IPY_MODEL_5422989158a043c98c85503b804d4d79",
       "style": "IPY_MODEL_f2b25afe38a54d0b8dd6a0b09446ef2f",
       "value": true
      }
     },
     "5db53e0da4d54b3f94cc2a91b3622d03": {
      "model_module": "@jupyter-widgets/base",
      "model_module_version": "2.0.0",
      "model_name": "LayoutModel",
      "state": {}
     },
     "5e766993d1fb41c5afeb93699ec3b2db": {
      "model_module": "@jupyter-widgets/controls",
      "model_module_version": "2.0.0",
      "model_name": "CheckboxModel",
      "state": {
       "description": "plyometrics",
       "disabled": false,
       "indent": false,
       "layout": "IPY_MODEL_8ca53e7f0eed45dd811d4bdcd9843fa5",
       "style": "IPY_MODEL_0e951c4b9244414792161f228e332f8b",
       "value": true
      }
     },
     "5e7f8a6b1b2a48aeb86e9f206fd05c03": {
      "model_module": "@jupyter-widgets/controls",
      "model_module_version": "2.0.0",
      "model_name": "CheckboxModel",
      "state": {
       "description": "upperBody",
       "disabled": false,
       "indent": false,
       "layout": "IPY_MODEL_cabb5904e9e546ac98273650d3b0596a",
       "style": "IPY_MODEL_cfbd4a997a6941d995578dab89afd85e",
       "value": true
      }
     },
     "5e9f009a538548e983c23e809284a709": {
      "model_module": "@jupyter-widgets/base",
      "model_module_version": "2.0.0",
      "model_name": "LayoutModel",
      "state": {}
     },
     "5eef65e6cff54c53b6bd29b5a359e51b": {
      "model_module": "@jupyter-widgets/base",
      "model_module_version": "2.0.0",
      "model_name": "LayoutModel",
      "state": {}
     },
     "5f1a0df778f54503a9e7dbe42f0d1e79": {
      "model_module": "@jupyter-widgets/controls",
      "model_module_version": "2.0.0",
      "model_name": "HBoxModel",
      "state": {
       "children": [
        "IPY_MODEL_6bcc83ccae814a90a9cb40cb3aee331b",
        "IPY_MODEL_b2d86a733aa244b08ef88dd45bce5089",
        "IPY_MODEL_e18821a7e66149428976070441c4344f",
        "IPY_MODEL_e49ba355f8ed4367bb4163dea9e6aa83"
       ],
       "layout": "IPY_MODEL_081fef6ce55d429dafc977f1b137ea5a"
      }
     },
     "5f1da31ed65e48b383582c2ddc6df69d": {
      "model_module": "@jupyter-widgets/controls",
      "model_module_version": "2.0.0",
      "model_name": "HBoxModel",
      "state": {
       "children": [
        "IPY_MODEL_9f1a7221fe084d05b7d578eb0a016d88"
       ],
       "layout": "IPY_MODEL_4252b072d01340c582ec11a390756d38"
      }
     },
     "5f2a78149c3d431f99e6ba1a29bc9fff": {
      "model_module": "@jupyter-widgets/controls",
      "model_module_version": "2.0.0",
      "model_name": "ButtonStyleModel",
      "state": {
       "font_family": null,
       "font_size": null,
       "font_style": null,
       "font_variant": null,
       "font_weight": null,
       "text_color": null,
       "text_decoration": null
      }
     },
     "5f4701e9c3b0481ab5955683db8d7517": {
      "model_module": "@jupyter-widgets/controls",
      "model_module_version": "2.0.0",
      "model_name": "CheckboxStyleModel",
      "state": {
       "description_width": ""
      }
     },
     "5f594c953e5645709ea68b3ddfda67a1": {
      "model_module": "@jupyter-widgets/controls",
      "model_module_version": "2.0.0",
      "model_name": "HTMLStyleModel",
      "state": {
       "description_width": "",
       "font_size": null,
       "text_color": null
      }
     },
     "5f615adae62a44c98fd8faf9a9107653": {
      "model_module": "@jupyter-widgets/base",
      "model_module_version": "2.0.0",
      "model_name": "LayoutModel",
      "state": {}
     },
     "5f6361d2fe544222a5b0fe6dd60e1e68": {
      "model_module": "@jupyter-widgets/controls",
      "model_module_version": "2.0.0",
      "model_name": "ButtonModel",
      "state": {
       "description": "Equipment",
       "layout": "IPY_MODEL_a5e5f5fe1e244c16814ae832f30feae8",
       "style": "IPY_MODEL_6222cc69cb174146935bae981a2f854e",
       "tooltip": null
      }
     },
     "5f6ba61f3d84490aaef1dbeb66283ea8": {
      "model_module": "@jupyter-widgets/base",
      "model_module_version": "2.0.0",
      "model_name": "LayoutModel",
      "state": {
       "height": "55px",
       "width": "80px"
      }
     },
     "5f8eeddc6d24416eb261be475cdd6f60": {
      "model_module": "@jupyter-widgets/controls",
      "model_module_version": "2.0.0",
      "model_name": "CheckboxStyleModel",
      "state": {
       "description_width": ""
      }
     },
     "5fab5e2e8a484885bd779d83023dc083": {
      "model_module": "@jupyter-widgets/base",
      "model_module_version": "2.0.0",
      "model_name": "LayoutModel",
      "state": {}
     },
     "5fb8331a680045a99eb79aa476b623bf": {
      "model_module": "@jupyter-widgets/controls",
      "model_module_version": "2.0.0",
      "model_name": "CheckboxModel",
      "state": {
       "description": "powerlifting",
       "disabled": false,
       "indent": false,
       "layout": "IPY_MODEL_d2c19895ff9b40c7bb710a444e005a14",
       "style": "IPY_MODEL_58d878ead19c496598ff3a974f23abbe",
       "value": true
      }
     },
     "5fc463c9040948a19eda092828e3b4b5": {
      "model_module": "@jupyter-widgets/controls",
      "model_module_version": "2.0.0",
      "model_name": "BoxModel",
      "state": {
       "children": [
        "IPY_MODEL_8082f731822a41a0b0c71eedfd7a9fc9",
        "IPY_MODEL_160b09364e6b4d72bfdbb4f46a87d81d"
       ],
       "layout": "IPY_MODEL_6fb7538906b14de8a83f7e16d8ea573f"
      }
     },
     "5fe1ae8856634778a68ec7df3562b862": {
      "model_module": "@jupyter-widgets/base",
      "model_module_version": "2.0.0",
      "model_name": "LayoutModel",
      "state": {
       "height": "40px",
       "width": "160px"
      }
     },
     "6002a38c51c743fb9b8946fc8a50e84f": {
      "model_module": "@jupyter-widgets/base",
      "model_module_version": "2.0.0",
      "model_name": "LayoutModel",
      "state": {
       "height": "55px",
       "width": "120px"
      }
     },
     "6004286e080840219f72b2c8979c6cf2": {
      "model_module": "@jupyter-widgets/controls",
      "model_module_version": "2.0.0",
      "model_name": "ButtonModel",
      "state": {
       "description": "Clear",
       "layout": "IPY_MODEL_1f0098e40d164b058b2383ac5f29d6d9",
       "style": "IPY_MODEL_ebf072e976624b0b922de8ffeac7324f",
       "tooltip": null
      }
     },
     "60369ff54b7243679cdbb2795f80f243": {
      "model_module": "@jupyter-widgets/controls",
      "model_module_version": "2.0.0",
      "model_name": "ButtonModel",
      "state": {
       "description": "Close",
       "layout": "IPY_MODEL_6fd48ffbf1134fe6bca5e237606fa3da",
       "style": "IPY_MODEL_a2f0e678c10a4400a30f518eb015cb62",
       "tooltip": null
      }
     },
     "603a3058baf44fa29f58f563f2aed2e9": {
      "model_module": "@jupyter-widgets/controls",
      "model_module_version": "2.0.0",
      "model_name": "VBoxModel",
      "state": {
       "children": [
        "IPY_MODEL_5fb8331a680045a99eb79aa476b623bf",
        "IPY_MODEL_57a0cd9353ab463996234c2189212fba",
        "IPY_MODEL_06292aed5fc7422bbbe85ffedfc62f28",
        "IPY_MODEL_74ce854a9d3b4437add4fc72cedb5391"
       ],
       "layout": "IPY_MODEL_01d9744ec1724adaac95a2c10a275bd4"
      }
     },
     "6077820e9490499db7e9ff1d0490e79c": {
      "model_module": "@jupyter-widgets/controls",
      "model_module_version": "2.0.0",
      "model_name": "VBoxModel",
      "state": {
       "children": [
        "IPY_MODEL_b16f2cc8a9f645e293e7b5e8bc626910",
        "IPY_MODEL_49223db379614d678e95fe817ba673ab",
        "IPY_MODEL_5ba3c338d66c4b72a89d582bc2f75d4f"
       ],
       "layout": "IPY_MODEL_399d69791a834d459114605c89d00190"
      }
     },
     "608107d938114534921b24b6b64ccfa6": {
      "model_module": "@jupyter-widgets/controls",
      "model_module_version": "2.0.0",
      "model_name": "ButtonModel",
      "state": {
       "description": "Instruction",
       "icon": "comment",
       "layout": "IPY_MODEL_07e20204fdfc42cd98ba9dca398d813f",
       "style": "IPY_MODEL_ab6edbf32833463899c87fe1741b3a7c",
       "tooltip": "1"
      }
     },
     "6081de320d50403b886ab05ce68f31b4": {
      "model_module": "@jupyter-widgets/controls",
      "model_module_version": "2.0.0",
      "model_name": "BoxModel",
      "state": {
       "children": [
        "IPY_MODEL_294c2c92532e4671924fef35584dbc20",
        "IPY_MODEL_18e9173c470d4fa6bbf3eee44faeaa54"
       ],
       "layout": "IPY_MODEL_0bcf487d61d24513a1d47b076f18221e"
      }
     },
     "60dc2dbbbcf9473fa456f4287287f37f": {
      "model_module": "@jupyter-widgets/base",
      "model_module_version": "2.0.0",
      "model_name": "LayoutModel",
      "state": {
       "height": "55px",
       "width": "80px"
      }
     },
     "611740da8e214be9955398f3e78f5094": {
      "model_module": "@jupyter-widgets/controls",
      "model_module_version": "2.0.0",
      "model_name": "ButtonModel",
      "state": {
       "description": "Close",
       "layout": "IPY_MODEL_296bfcaeab4d45cb8d2cd5f32a9a7e72",
       "style": "IPY_MODEL_0f027eedc7df459dbc91caf64e8ac0e3",
       "tooltip": null
      }
     },
     "61647e9b6f4f44e3bf0c8320b8950b22": {
      "model_module": "@jupyter-widgets/controls",
      "model_module_version": "2.0.0",
      "model_name": "ButtonStyleModel",
      "state": {
       "font_family": null,
       "font_size": null,
       "font_style": null,
       "font_variant": null,
       "font_weight": null,
       "text_color": null,
       "text_decoration": null
      }
     },
     "61a2ddae63aa43fcb0cd00c58b5b4a3d": {
      "model_module": "@jupyter-widgets/controls",
      "model_module_version": "2.0.0",
      "model_name": "VBoxModel",
      "state": {
       "children": [
        "IPY_MODEL_6081de320d50403b886ab05ce68f31b4",
        "IPY_MODEL_12bd31b893bd479593255cd3e2d2ba2f"
       ],
       "layout": "IPY_MODEL_05441ade84ad439f97469c4f4099ca10"
      }
     },
     "61e89a0183f844e19be467a51ddf148a": {
      "model_module": "@jupyter-widgets/base",
      "model_module_version": "2.0.0",
      "model_name": "LayoutModel",
      "state": {}
     },
     "6208b58bde2e4d2ea72dc2ad9ad45962": {
      "model_module": "@jupyter-widgets/base",
      "model_module_version": "2.0.0",
      "model_name": "LayoutModel",
      "state": {
       "height": "55px",
       "width": "120px"
      }
     },
     "621dd4b7499543dd946005a7264dc779": {
      "model_module": "@jupyter-widgets/base",
      "model_module_version": "2.0.0",
      "model_name": "LayoutModel",
      "state": {}
     },
     "6222cc69cb174146935bae981a2f854e": {
      "model_module": "@jupyter-widgets/controls",
      "model_module_version": "2.0.0",
      "model_name": "ButtonStyleModel",
      "state": {
       "font_family": null,
       "font_size": null,
       "font_style": null,
       "font_variant": null,
       "font_weight": null,
       "text_color": null,
       "text_decoration": null
      }
     },
     "6243cd3918d24396a4b45f3224f6cd0d": {
      "model_module": "@jupyter-widgets/controls",
      "model_module_version": "2.0.0",
      "model_name": "CheckboxModel",
      "state": {
       "description": "body only",
       "disabled": false,
       "indent": false,
       "layout": "IPY_MODEL_438dd0df400844408cfff55c7f8dd0ee",
       "style": "IPY_MODEL_7858332b849f40dc8ddcc9138314550f",
       "value": true
      }
     },
     "62cc21a0dcc841deab4bff5c6301c4b3": {
      "model_module": "@jupyter-widgets/base",
      "model_module_version": "2.0.0",
      "model_name": "LayoutModel",
      "state": {
       "height": "55px",
       "width": "80px"
      }
     },
     "62f7d5b098df433d828837a10a894820": {
      "model_module": "@jupyter-widgets/base",
      "model_module_version": "2.0.0",
      "model_name": "LayoutModel",
      "state": {}
     },
     "6312e673d4114a9a91a6398a5dee479a": {
      "model_module": "@jupyter-widgets/base",
      "model_module_version": "2.0.0",
      "model_name": "LayoutModel",
      "state": {
       "height": "40px",
       "width": "120px"
      }
     },
     "63aefb2f00f44dfc97039bec81ea52f0": {
      "model_module": "@jupyter-widgets/base",
      "model_module_version": "2.0.0",
      "model_name": "LayoutModel",
      "state": {}
     },
     "63de634c4cb941769ab25fee2c56d1a2": {
      "model_module": "@jupyter-widgets/base",
      "model_module_version": "2.0.0",
      "model_name": "LayoutModel",
      "state": {
       "height": "40px",
       "width": "120px"
      }
     },
     "63ded0382bc245bd84e2c000971adcf8": {
      "model_module": "@jupyter-widgets/controls",
      "model_module_version": "2.0.0",
      "model_name": "CheckboxStyleModel",
      "state": {
       "description_width": ""
      }
     },
     "63ec474489cd4d48948c37a7f081c8d1": {
      "model_module": "@jupyter-widgets/base",
      "model_module_version": "2.0.0",
      "model_name": "LayoutModel",
      "state": {}
     },
     "64329cda8ea646d6bc64d23779d48739": {
      "model_module": "@jupyter-widgets/controls",
      "model_module_version": "2.0.0",
      "model_name": "HBoxModel",
      "state": {
       "children": [
        "IPY_MODEL_80b09e46301f4915ae6bbf8074806be4"
       ],
       "layout": "IPY_MODEL_5b08140606874da5b9dd0ccc21f6511e"
      }
     },
     "64608c1953f443c090a3473aeda383d1": {
      "model_module": "@jupyter-widgets/base",
      "model_module_version": "2.0.0",
      "model_name": "LayoutModel",
      "state": {}
     },
     "647e44e7b5e74342a853e550bef58438": {
      "model_module": "@jupyter-widgets/base",
      "model_module_version": "2.0.0",
      "model_name": "LayoutModel",
      "state": {}
     },
     "649bf6ae9b6c4099be46b064cefb3164": {
      "model_module": "@jupyter-widgets/base",
      "model_module_version": "2.0.0",
      "model_name": "LayoutModel",
      "state": {}
     },
     "64b515d02bc941688145a6ed16afa574": {
      "model_module": "@jupyter-widgets/controls",
      "model_module_version": "2.0.0",
      "model_name": "VBoxModel",
      "state": {
       "children": [
        "IPY_MODEL_1a6a864f331f45319866e585f9683f35",
        "IPY_MODEL_ed51a01d7f244a14bb841f47336e05f7"
       ],
       "layout": "IPY_MODEL_26e5673dde0148bfa48edfce32ed2c60"
      }
     },
     "64d206ccc1594f5398b05c2e5a2a2dfb": {
      "model_module": "@jupyter-widgets/controls",
      "model_module_version": "2.0.0",
      "model_name": "CheckboxModel",
      "state": {
       "description": "strongman",
       "disabled": false,
       "indent": false,
       "layout": "IPY_MODEL_f4baad240f5f4cf5af2e621d75629202",
       "style": "IPY_MODEL_8fdab301ddfc47be9f560d79e6a6a88b",
       "value": true
      }
     },
     "64dfe3844b214cdd96cde0280a27a627": {
      "model_module": "@jupyter-widgets/controls",
      "model_module_version": "2.0.0",
      "model_name": "ButtonModel",
      "state": {
       "description": "Exit",
       "layout": "IPY_MODEL_a8c2e807682d4c06a317e2dd0f96f8f2",
       "style": "IPY_MODEL_ecdf1e1aa38e4f75b5ba8973a4f5d889",
       "tooltip": null
      }
     },
     "65067af9274942dfa63ab174d4ab4b3a": {
      "model_module": "@jupyter-widgets/base",
      "model_module_version": "2.0.0",
      "model_name": "LayoutModel",
      "state": {
       "height": "40px",
       "width": "160px"
      }
     },
     "65090b8a74d7432cbd2158efc4a170b5": {
      "model_module": "@jupyter-widgets/base",
      "model_module_version": "2.0.0",
      "model_name": "LayoutModel",
      "state": {}
     },
     "6530f5560732467ba67344f995f3bef9": {
      "model_module": "@jupyter-widgets/controls",
      "model_module_version": "2.0.0",
      "model_name": "CheckboxModel",
      "state": {
       "description": "Core",
       "disabled": false,
       "indent": false,
       "layout": "IPY_MODEL_ee928aa5ae7847998b87cd7e313629f7",
       "style": "IPY_MODEL_848cff55b00e4b87a73d1da0ca6bd6fc",
       "value": true
      }
     },
     "6540f5c61e8b40258473d1aec8f74c35": {
      "model_module": "@jupyter-widgets/controls",
      "model_module_version": "2.0.0",
      "model_name": "CheckboxStyleModel",
      "state": {
       "description_width": ""
      }
     },
     "654ab2bf26bb4ca69b808d48ef73e94e": {
      "model_module": "@jupyter-widgets/controls",
      "model_module_version": "2.0.0",
      "model_name": "CheckboxModel",
      "state": {
       "description": "dumbbell",
       "disabled": false,
       "indent": false,
       "layout": "IPY_MODEL_e975d9158e294bf48574bcde8fa89196",
       "style": "IPY_MODEL_f8e29bf2fda6431c930f0a57e4772afd",
       "value": true
      }
     },
     "655fb05352334bef8b6aabe721674ace": {
      "model_module": "@jupyter-widgets/controls",
      "model_module_version": "2.0.0",
      "model_name": "CheckboxStyleModel",
      "state": {
       "description_width": ""
      }
     },
     "657912a05df245838ffc323e54ed502e": {
      "model_module": "@jupyter-widgets/controls",
      "model_module_version": "2.0.0",
      "model_name": "CheckboxModel",
      "state": {
       "description": "kettlebells",
       "disabled": false,
       "indent": false,
       "layout": "IPY_MODEL_118e3e39aa5543fd88ea48638a1af7c1",
       "style": "IPY_MODEL_d8c50e9e2ffd4729ac94c5560a3960c7",
       "value": true
      }
     },
     "6599ffab4a4d4b0bad63a7763aa22584": {
      "model_module": "@jupyter-widgets/base",
      "model_module_version": "2.0.0",
      "model_name": "LayoutModel",
      "state": {}
     },
     "65bf9830341843b29c9b491901aa463b": {
      "model_module": "@jupyter-widgets/controls",
      "model_module_version": "2.0.0",
      "model_name": "HBoxModel",
      "state": {
       "children": [
        "IPY_MODEL_989f8be0c009449e97b4bf62c9507892"
       ],
       "layout": "IPY_MODEL_d91cb54b4b91498ba4013c1fb42c7f01"
      }
     },
     "65cd25c994494daeba63f1878ea5be6c": {
      "model_module": "@jupyter-widgets/base",
      "model_module_version": "2.0.0",
      "model_name": "LayoutModel",
      "state": {
       "height": "40px",
       "width": "160px"
      }
     },
     "65fd6aeeb9db4f7a838b9f64d645ba79": {
      "model_module": "@jupyter-widgets/controls",
      "model_module_version": "2.0.0",
      "model_name": "VBoxModel",
      "state": {
       "children": [
        "IPY_MODEL_ca4adcad0c3845cdae7e873aadd783e3",
        "IPY_MODEL_9a1f14a6099243c48ce5dacd0cd04d89",
        "IPY_MODEL_13ee8f1cdc7041aca63e8c680c17b859",
        "IPY_MODEL_ca695df7a40a417e8a870a6670c6c9bf"
       ],
       "layout": "IPY_MODEL_a85b8174f88c4caa860f069f13c55dd2"
      }
     },
     "65fe3ecd6fcb4fd2ab945b17e385e900": {
      "model_module": "@jupyter-widgets/base",
      "model_module_version": "2.0.0",
      "model_name": "LayoutModel",
      "state": {
       "height": "40px",
       "width": "160px"
      }
     },
     "66093db59f9a49c3b592af5b2af05b14": {
      "model_module": "@jupyter-widgets/base",
      "model_module_version": "2.0.0",
      "model_name": "LayoutModel",
      "state": {
       "height": "120px",
       "width": "100px"
      }
     },
     "6668d38c92a8415d914428c653daa700": {
      "model_module": "@jupyter-widgets/controls",
      "model_module_version": "2.0.0",
      "model_name": "ButtonModel",
      "state": {
       "description": "Run",
       "layout": "IPY_MODEL_435e0f13342d41cb88e339d1575880a1",
       "style": "IPY_MODEL_6e6f1ebd5ad840c78e8460171f64c361",
       "tooltip": null
      }
     },
     "66752cece54b427eac82740d5f6f0c94": {
      "model_module": "@jupyter-widgets/base",
      "model_module_version": "2.0.0",
      "model_name": "LayoutModel",
      "state": {
       "height": "40px",
       "width": "160px"
      }
     },
     "66a4464629784172be613af00ed85175": {
      "model_module": "@jupyter-widgets/base",
      "model_module_version": "2.0.0",
      "model_name": "LayoutModel",
      "state": {
       "height": "40px",
       "width": "160px"
      }
     },
     "66aad591f2ed4fd29c5dade831dc2ac2": {
      "model_module": "@jupyter-widgets/controls",
      "model_module_version": "2.0.0",
      "model_name": "DescriptionStyleModel",
      "state": {
       "description_width": ""
      }
     },
     "66ee422ccb9d47d4b074eb875831544e": {
      "model_module": "@jupyter-widgets/base",
      "model_module_version": "2.0.0",
      "model_name": "LayoutModel",
      "state": {}
     },
     "67593f33f4434b13afcabd8b4d735285": {
      "model_module": "@jupyter-widgets/controls",
      "model_module_version": "2.0.0",
      "model_name": "CheckboxModel",
      "state": {
       "description": "powerlifting",
       "disabled": false,
       "indent": false,
       "layout": "IPY_MODEL_903f8ce508ab44d1bf6269b1833a1403",
       "style": "IPY_MODEL_fe1cb42eef8f472eae7b2273db15f250",
       "value": true
      }
     },
     "6760b3370bcd49dfab2e3077bc0f1cfb": {
      "model_module": "@jupyter-widgets/base",
      "model_module_version": "2.0.0",
      "model_name": "LayoutModel",
      "state": {}
     },
     "677bb16a5edf4aee9f63c067b9276cbf": {
      "model_module": "@jupyter-widgets/controls",
      "model_module_version": "2.0.0",
      "model_name": "HBoxModel",
      "state": {
       "children": [
        "IPY_MODEL_94bc55341c154a3695c91150d38cc2a7"
       ],
       "layout": "IPY_MODEL_6bc65c4217de4c3aaef695a240ad3a86"
      }
     },
     "67938746dbb74173b880c6622e611c9d": {
      "model_module": "@jupyter-widgets/controls",
      "model_module_version": "2.0.0",
      "model_name": "HBoxModel",
      "state": {
       "children": [
        "IPY_MODEL_572d6a05df7d41779e1b90a56e81a507"
       ],
       "layout": "IPY_MODEL_3d5315ed34924068a593b2e6c2a61349"
      }
     },
     "67ae5d3d972a4e009e3dc26f265ed554": {
      "model_module": "@jupyter-widgets/base",
      "model_module_version": "2.0.0",
      "model_name": "LayoutModel",
      "state": {}
     },
     "68240ff97db54aac8ba3b395094f379c": {
      "model_module": "@jupyter-widgets/controls",
      "model_module_version": "2.0.0",
      "model_name": "HTMLModel",
      "state": {
       "layout": "IPY_MODEL_1f98c69cdcc248da849365e171f3e6a6",
       "style": "IPY_MODEL_2a3bbc6377e54018b0ef36e2c6522741",
       "value": "Chair Squat"
      }
     },
     "683a985cbfa640639961f21dc6cf2b29": {
      "model_module": "@jupyter-widgets/controls",
      "model_module_version": "2.0.0",
      "model_name": "HBoxModel",
      "state": {
       "children": [
        "IPY_MODEL_f22fd61d9c0a4719b9b10464ffd06cbd"
       ],
       "layout": "IPY_MODEL_fec05f4c29f64c67a3b793af11c766b0"
      }
     },
     "68447370621841ea9d630a3879820a3a": {
      "model_module": "@jupyter-widgets/controls",
      "model_module_version": "2.0.0",
      "model_name": "CheckboxStyleModel",
      "state": {
       "description_width": ""
      }
     },
     "68d9951f5e174d3585f99ad9fce815e7": {
      "model_module": "@jupyter-widgets/base",
      "model_module_version": "2.0.0",
      "model_name": "LayoutModel",
      "state": {
       "height": "40px",
       "width": "120px"
      }
     },
     "68ea03b9896c40e2886921a0bb4729e5": {
      "model_module": "@jupyter-widgets/base",
      "model_module_version": "2.0.0",
      "model_name": "LayoutModel",
      "state": {}
     },
     "6912fa4ea6584d78ad51d494f4a59f1c": {
      "model_module": "@jupyter-widgets/controls",
      "model_module_version": "2.0.0",
      "model_name": "VBoxModel",
      "state": {
       "children": [
        "IPY_MODEL_d2c549d59128401482c10656720d2ce9",
        "IPY_MODEL_a23c0ed5ab8d41bda25226facbf25156"
       ],
       "layout": "IPY_MODEL_87f68c64cdc44cebb464fe475ed8d76e"
      }
     },
     "6916f2efd1a34537a6ef3fe9a1b719b8": {
      "model_module": "@jupyter-widgets/controls",
      "model_module_version": "2.0.0",
      "model_name": "CheckboxModel",
      "state": {
       "description": "plyometrics",
       "disabled": false,
       "indent": false,
       "layout": "IPY_MODEL_5550a4d72e354df29a46debf414d78e4",
       "style": "IPY_MODEL_6ec75f1d22eb456faf998ef3a51e312d",
       "value": true
      }
     },
     "6947a1a16b2840408d9c848600df0e31": {
      "model_module": "@jupyter-widgets/controls",
      "model_module_version": "2.0.0",
      "model_name": "VBoxModel",
      "state": {
       "children": [
        "IPY_MODEL_28e22e31bc354de8b72022370e708103"
       ],
       "layout": "IPY_MODEL_57e6810c93b6442dbf450bd1cdc60e2f"
      }
     },
     "696eca5442ab41a281162805b08686dc": {
      "model_module": "@jupyter-widgets/controls",
      "model_module_version": "2.0.0",
      "model_name": "CheckboxModel",
      "state": {
       "description": "cardio",
       "disabled": false,
       "indent": false,
       "layout": "IPY_MODEL_dba151670fd846d9abb12bd67943c0c7",
       "style": "IPY_MODEL_37886975cae1434282537c07085edcab",
       "value": true
      }
     },
     "697f090aee8d4ab58df8808d97c0de40": {
      "model_module": "@jupyter-widgets/controls",
      "model_module_version": "2.0.0",
      "model_name": "CheckboxStyleModel",
      "state": {
       "description_width": ""
      }
     },
     "69e271b486c44eddb1c2af544fa61c24": {
      "model_module": "@jupyter-widgets/controls",
      "model_module_version": "2.0.0",
      "model_name": "HBoxModel",
      "state": {
       "children": [
        "IPY_MODEL_38db0e2af76c485780552415b2b9c276"
       ],
       "layout": "IPY_MODEL_6c4ae1cd40a74921b927ac21f84cbf28"
      }
     },
     "69fcefe9158944939afe00cbb01910fd": {
      "model_module": "@jupyter-widgets/base",
      "model_module_version": "2.0.0",
      "model_name": "LayoutModel",
      "state": {}
     },
     "6a0bdcaba1ff4a569e56d8fbb27924cb": {
      "model_module": "@jupyter-widgets/base",
      "model_module_version": "2.0.0",
      "model_name": "LayoutModel",
      "state": {
       "height": "40px",
       "width": "160px"
      }
     },
     "6a50865308cd47088f08270818085ae1": {
      "model_module": "@jupyter-widgets/base",
      "model_module_version": "2.0.0",
      "model_name": "LayoutModel",
      "state": {}
     },
     "6a6f7ac5d63045208e857df355ef5f9d": {
      "model_module": "@jupyter-widgets/base",
      "model_module_version": "2.0.0",
      "model_name": "LayoutModel",
      "state": {
       "height": "120px",
       "width": "100px"
      }
     },
     "6af97af8567d45798a5fa03b3b698565": {
      "model_module": "@jupyter-widgets/controls",
      "model_module_version": "2.0.0",
      "model_name": "ButtonStyleModel",
      "state": {
       "font_family": null,
       "font_size": null,
       "font_style": null,
       "font_variant": null,
       "font_weight": null,
       "text_color": null,
       "text_decoration": null
      }
     },
     "6b07e660613f45059cc27d3180791507": {
      "model_module": "@jupyter-widgets/base",
      "model_module_version": "2.0.0",
      "model_name": "LayoutModel",
      "state": {
       "height": "40px",
       "width": "140px"
      }
     },
     "6b1a67506c9d49b99b6f8133a11aaaa0": {
      "model_module": "@jupyter-widgets/controls",
      "model_module_version": "2.0.0",
      "model_name": "VBoxModel",
      "state": {
       "children": [
        "IPY_MODEL_d92fb2995ded465a8a698841d049c8fb",
        "IPY_MODEL_7b8b24a2e39c43d6b149dc4acb6d0bf2",
        "IPY_MODEL_bb23f875cf934ae4853427ad42492032",
        "IPY_MODEL_d52a11f5bef64a7d93d092b1e08fcbb7"
       ],
       "layout": "IPY_MODEL_8db09bda61314b98a67d5475f99888f2"
      }
     },
     "6b33e24ab7304bb6966b8105010bb6f7": {
      "model_module": "@jupyter-widgets/controls",
      "model_module_version": "2.0.0",
      "model_name": "HTMLStyleModel",
      "state": {
       "description_width": "",
       "font_size": null,
       "text_color": null
      }
     },
     "6b6b53cdd1bf4481af1b512b44336e7c": {
      "model_module": "@jupyter-widgets/controls",
      "model_module_version": "2.0.0",
      "model_name": "ButtonModel",
      "state": {
       "description": "Clear",
       "layout": "IPY_MODEL_ada9abd6d5c648a1b6a603d28bc807e3",
       "style": "IPY_MODEL_35270f0dab4f4f55acccbf604b368598",
       "tooltip": null
      }
     },
     "6b9e47b4018b4963bf6cb145cf3d51cc": {
      "model_module": "@jupyter-widgets/base",
      "model_module_version": "2.0.0",
      "model_name": "LayoutModel",
      "state": {}
     },
     "6ba23e69f45b4e8ab48cdb83f16f428c": {
      "model_module": "@jupyter-widgets/controls",
      "model_module_version": "2.0.0",
      "model_name": "HTMLStyleModel",
      "state": {
       "description_width": "",
       "font_size": null,
       "text_color": null
      }
     },
     "6bc65c4217de4c3aaef695a240ad3a86": {
      "model_module": "@jupyter-widgets/base",
      "model_module_version": "2.0.0",
      "model_name": "LayoutModel",
      "state": {}
     },
     "6bcc83ccae814a90a9cb40cb3aee331b": {
      "model_module": "@jupyter-widgets/controls",
      "model_module_version": "2.0.0",
      "model_name": "VBoxModel",
      "state": {
       "children": [
        "IPY_MODEL_15c3f78d149c4748b14c7d5423f25fd2",
        "IPY_MODEL_2c4b35bda8f94d40b033440334b6f99c",
        "IPY_MODEL_b00a51ad5d0144cf831b3ed52c3b32cf",
        "IPY_MODEL_c89f2d69aa9d4e53a670f11cc895f513"
       ],
       "layout": "IPY_MODEL_7212ee76d83c42ba9168dece933d6e2f"
      }
     },
     "6bf90d11cda54292b017f991bbbb287c": {
      "model_module": "@jupyter-widgets/controls",
      "model_module_version": "2.0.0",
      "model_name": "ButtonModel",
      "state": {
       "description": "Instruction",
       "icon": "comment",
       "layout": "IPY_MODEL_e88540e44ff9431b8f250b7850636414",
       "style": "IPY_MODEL_fa5555fe1aa84706898a03bdab902bfe",
       "tooltip": "298"
      }
     },
     "6c4ae1cd40a74921b927ac21f84cbf28": {
      "model_module": "@jupyter-widgets/base",
      "model_module_version": "2.0.0",
      "model_name": "LayoutModel",
      "state": {}
     },
     "6d1a79761a8c46f6b2398c36ac188b6c": {
      "model_module": "@jupyter-widgets/controls",
      "model_module_version": "2.0.0",
      "model_name": "CheckboxStyleModel",
      "state": {
       "description_width": ""
      }
     },
     "6d5843f7856945d0a90c64fa06f7bbb9": {
      "model_module": "@jupyter-widgets/controls",
      "model_module_version": "2.0.0",
      "model_name": "ButtonStyleModel",
      "state": {
       "font_family": null,
       "font_size": null,
       "font_style": null,
       "font_variant": null,
       "font_weight": null,
       "text_color": null,
       "text_decoration": null
      }
     },
     "6d5b051c43db409387e49e0197eddc79": {
      "model_module": "@jupyter-widgets/controls",
      "model_module_version": "2.0.0",
      "model_name": "ButtonModel",
      "state": {
       "description": "Close",
       "layout": "IPY_MODEL_4acb8f0b24e04b018f8ebc53992e75ba",
       "style": "IPY_MODEL_41ecdc5b9f904740ae9b7f1f4fa2d0a9",
       "tooltip": null
      }
     },
     "6d7ca4402ebc481aa903ef50ddf1b348": {
      "model_module": "@jupyter-widgets/controls",
      "model_module_version": "2.0.0",
      "model_name": "CheckboxModel",
      "state": {
       "description": "powerlifting",
       "disabled": false,
       "indent": false,
       "layout": "IPY_MODEL_728be7406546437ab66a27e5b512e6d7",
       "style": "IPY_MODEL_e901be65b5f64fefaa56e454fe45218a",
       "value": true
      }
     },
     "6dd07db0c2704747b1383afda30f6f0c": {
      "model_module": "@jupyter-widgets/controls",
      "model_module_version": "2.0.0",
      "model_name": "ButtonStyleModel",
      "state": {
       "font_family": null,
       "font_size": null,
       "font_style": null,
       "font_variant": null,
       "font_weight": null,
       "text_color": null,
       "text_decoration": null
      }
     },
     "6dd120dc30b648dabcc55b4f3fe4dfc1": {
      "model_module": "@jupyter-widgets/controls",
      "model_module_version": "2.0.0",
      "model_name": "DescriptionStyleModel",
      "state": {
       "description_width": ""
      }
     },
     "6de6e0a41e0e49849c014a6eed88b634": {
      "model_module": "@jupyter-widgets/controls",
      "model_module_version": "2.0.0",
      "model_name": "CheckboxStyleModel",
      "state": {
       "description_width": ""
      }
     },
     "6df8e48657cf4c30916e3c9c4585ec95": {
      "model_module": "@jupyter-widgets/controls",
      "model_module_version": "2.0.0",
      "model_name": "ButtonModel",
      "state": {
       "description": "Close",
       "layout": "IPY_MODEL_8f77f4fecb4b48778e296e0aec0d32d6",
       "style": "IPY_MODEL_4b3a684424194041ac280bcce410eeb1",
       "tooltip": null
      }
     },
     "6e07773d3f844688a7370c29cb3c4414": {
      "model_module": "@jupyter-widgets/controls",
      "model_module_version": "2.0.0",
      "model_name": "HTMLModel",
      "state": {
       "layout": "IPY_MODEL_b715cdbd629949c280502ffa5f1c0659",
       "style": "IPY_MODEL_03e117fe0345469b9a2acc26e5905d08",
       "value": "<h3>Lower_Body</h3>"
      }
     },
     "6e0d6afb7a784817989f7c78ef4fbf57": {
      "model_module": "@jupyter-widgets/controls",
      "model_module_version": "2.0.0",
      "model_name": "ButtonStyleModel",
      "state": {
       "font_family": null,
       "font_size": null,
       "font_style": null,
       "font_variant": null,
       "font_weight": null,
       "text_color": null,
       "text_decoration": null
      }
     },
     "6e6f1ebd5ad840c78e8460171f64c361": {
      "model_module": "@jupyter-widgets/controls",
      "model_module_version": "2.0.0",
      "model_name": "ButtonStyleModel",
      "state": {
       "font_family": null,
       "font_size": null,
       "font_style": null,
       "font_variant": null,
       "font_weight": null,
       "text_color": null,
       "text_decoration": null
      }
     },
     "6e79907d6ebc4a7fbbbf11fe1b3f262f": {
      "model_module": "@jupyter-widgets/controls",
      "model_module_version": "2.0.0",
      "model_name": "CheckboxStyleModel",
      "state": {
       "description_width": ""
      }
     },
     "6ec75f1d22eb456faf998ef3a51e312d": {
      "model_module": "@jupyter-widgets/controls",
      "model_module_version": "2.0.0",
      "model_name": "CheckboxStyleModel",
      "state": {
       "description_width": ""
      }
     },
     "6ed00b92ef2648f786d49df196be740f": {
      "model_module": "@jupyter-widgets/base",
      "model_module_version": "2.0.0",
      "model_name": "LayoutModel",
      "state": {
       "height": "40px",
       "width": "160px"
      }
     },
     "6f110eb2a6434309a250b9e328225223": {
      "model_module": "@jupyter-widgets/controls",
      "model_module_version": "2.0.0",
      "model_name": "HBoxModel",
      "state": {
       "children": [
        "IPY_MODEL_0efbba6098824d90916cf4576a3611df"
       ],
       "layout": "IPY_MODEL_e46be223c68f48719de7d3c05b874ad1"
      }
     },
     "6f19bc0b2da5450590174d6793935cb5": {
      "model_module": "@jupyter-widgets/base",
      "model_module_version": "2.0.0",
      "model_name": "LayoutModel",
      "state": {}
     },
     "6f68ee5b7fd74baa95eef3a240216c3b": {
      "model_module": "@jupyter-widgets/controls",
      "model_module_version": "2.0.0",
      "model_name": "HBoxModel",
      "state": {
       "children": [
        "IPY_MODEL_0dfe78c5f2654ba1b7e88b0a249c6e6c"
       ],
       "layout": "IPY_MODEL_d2cda9bfa6c3415c959e3717bd44078a"
      }
     },
     "6f6a8bae2af047b1a824df6507109d2e": {
      "model_module": "@jupyter-widgets/controls",
      "model_module_version": "2.0.0",
      "model_name": "VBoxModel",
      "state": {
       "children": [
        "IPY_MODEL_b48e5a4ff2cd47bb81cd5b4dbdbfd85f"
       ],
       "layout": "IPY_MODEL_ce4056b91c20407db8d93748477c0b53"
      }
     },
     "6fa8041e1d214e4899161cf19a1b6260": {
      "model_module": "@jupyter-widgets/controls",
      "model_module_version": "2.0.0",
      "model_name": "CheckboxModel",
      "state": {
       "description": "machine",
       "disabled": false,
       "indent": false,
       "layout": "IPY_MODEL_a7333c91da9648549c06023a72d693a6",
       "style": "IPY_MODEL_cda85f726e4a44c1a254cba95cb9e931",
       "value": true
      }
     },
     "6fb7538906b14de8a83f7e16d8ea573f": {
      "model_module": "@jupyter-widgets/base",
      "model_module_version": "2.0.0",
      "model_name": "LayoutModel",
      "state": {
       "align_items": "stretch",
       "display": "flex",
       "flex_flow": "row",
       "justify_content": "space-around",
       "width": "70%"
      }
     },
     "6fb8ab0ce0414522863746f0decd5df7": {
      "model_module": "@jupyter-widgets/controls",
      "model_module_version": "2.0.0",
      "model_name": "BoxModel",
      "state": {
       "children": [
        "IPY_MODEL_85c40734ccc14f0a98d160b31b021b06",
        "IPY_MODEL_6077820e9490499db7e9ff1d0490e79c",
        "IPY_MODEL_6b6b53cdd1bf4481af1b512b44336e7c"
       ],
       "layout": "IPY_MODEL_bc673ba869d04554ab02349f4982721f"
      }
     },
     "6fd48ffbf1134fe6bca5e237606fa3da": {
      "model_module": "@jupyter-widgets/base",
      "model_module_version": "2.0.0",
      "model_name": "LayoutModel",
      "state": {
       "height": "55px",
       "width": "80px"
      }
     },
     "6feef0ad399947c69f1e34845c21e699": {
      "model_module": "@jupyter-widgets/controls",
      "model_module_version": "2.0.0",
      "model_name": "ButtonModel",
      "state": {
       "description": "Close",
       "layout": "IPY_MODEL_a5ab40acb8264db483ca58995eb92541",
       "style": "IPY_MODEL_b0abb2a6e60b4facaa0c48feac54c46a",
       "tooltip": null
      }
     },
     "704a5a20cd6044f18da35d24c2d64dc1": {
      "model_module": "@jupyter-widgets/controls",
      "model_module_version": "2.0.0",
      "model_name": "HBoxModel",
      "state": {
       "children": [
        "IPY_MODEL_3ef474acf22d4ac7bd6161147d9345df"
       ],
       "layout": "IPY_MODEL_138ae0d25e074f2a8a2522f03859e66e"
      }
     },
     "707a2aa2f6184d6ea9551d5ceddbe73f": {
      "model_module": "@jupyter-widgets/controls",
      "model_module_version": "2.0.0",
      "model_name": "CheckboxModel",
      "state": {
       "description": "barbell",
       "disabled": false,
       "indent": false,
       "layout": "IPY_MODEL_16fe98d40362465f8e4ef424c64a7bd4",
       "style": "IPY_MODEL_0f66969054dd4d088f7ff6db3c9fa0b4",
       "value": true
      }
     },
     "70bf23d8c55a4c4faf1bc85ea67d622f": {
      "model_module": "@jupyter-widgets/controls",
      "model_module_version": "2.0.0",
      "model_name": "DropdownModel",
      "state": {
       "_options_labels": [
        "One",
        "Two",
        "Three",
        "Four",
        "Five"
       ],
       "index": 1,
       "layout": "IPY_MODEL_e84ade3eedce4d5cad7eda4326909d20",
       "style": "IPY_MODEL_6dd120dc30b648dabcc55b4f3fe4dfc1"
      }
     },
     "70d208dea2dd47588364daf778d3b035": {
      "model_module": "@jupyter-widgets/base",
      "model_module_version": "2.0.0",
      "model_name": "LayoutModel",
      "state": {
       "align_items": "stretch",
       "display": "flex",
       "flex_flow": "row",
       "justify_content": "space-around",
       "width": "70%"
      }
     },
     "70dc381e6fd5462e923745df40b86d6c": {
      "model_module": "@jupyter-widgets/controls",
      "model_module_version": "2.0.0",
      "model_name": "ButtonModel",
      "state": {
       "description": "Body Area",
       "layout": "IPY_MODEL_9c1d2fe561344ae9b25518250bd90554",
       "style": "IPY_MODEL_9472314d8ceb41bfac8a6a818cbeb1b2",
       "tooltip": null
      }
     },
     "712f4775cae64cdd90210b26c4b95470": {
      "model_module": "@jupyter-widgets/controls",
      "model_module_version": "2.0.0",
      "model_name": "CheckboxStyleModel",
      "state": {
       "description_width": ""
      }
     },
     "712ff9f0f599417ebedd5d15669bd6e0": {
      "model_module": "@jupyter-widgets/controls",
      "model_module_version": "2.0.0",
      "model_name": "HBoxModel",
      "state": {
       "children": [
        "IPY_MODEL_9460c63e8d53411380c061be532c1da4"
       ],
       "layout": "IPY_MODEL_62f7d5b098df433d828837a10a894820"
      }
     },
     "7138f8083d314e2790a7c61c284aed21": {
      "model_module": "@jupyter-widgets/controls",
      "model_module_version": "2.0.0",
      "model_name": "CheckboxModel",
      "state": {
       "description": "exercise ball",
       "disabled": false,
       "indent": false,
       "layout": "IPY_MODEL_a4920f8d78864228a487b0198c0e5b05",
       "style": "IPY_MODEL_009a74ed30a34b5fa42dec7779c7720c",
       "value": true
      }
     },
     "716d8d195e84419a9f2cee6d2cdcb4c9": {
      "model_module": "@jupyter-widgets/base",
      "model_module_version": "2.0.0",
      "model_name": "LayoutModel",
      "state": {
       "height": "40px",
       "width": "160px"
      }
     },
     "71767b6c5d434da3b386ae81c3c6aac9": {
      "model_module": "@jupyter-widgets/controls",
      "model_module_version": "2.0.0",
      "model_name": "CheckboxStyleModel",
      "state": {
       "description_width": ""
      }
     },
     "718eb40780c94ec9a3ac6572005a7ff1": {
      "model_module": "@jupyter-widgets/base",
      "model_module_version": "2.0.0",
      "model_name": "LayoutModel",
      "state": {
       "height": "55px",
       "width": "120px"
      }
     },
     "71c905b18c9b4d69adb6197011bde492": {
      "model_module": "@jupyter-widgets/base",
      "model_module_version": "2.0.0",
      "model_name": "LayoutModel",
      "state": {}
     },
     "71d07e7dcfda4eaf926c7c8bdfcbfe9b": {
      "model_module": "@jupyter-widgets/controls",
      "model_module_version": "2.0.0",
      "model_name": "HTMLModel",
      "state": {
       "layout": "IPY_MODEL_d188be400e7843d5ba71c2ddad045ca3",
       "style": "IPY_MODEL_fa1943cb57454e34b59ee3c0f6d72623",
       "value": "<h2>Exercise Category</h2>"
      }
     },
     "7203b967f69c49189b48bfdff544b8ff": {
      "model_module": "@jupyter-widgets/base",
      "model_module_version": "2.0.0",
      "model_name": "LayoutModel",
      "state": {}
     },
     "7212ee76d83c42ba9168dece933d6e2f": {
      "model_module": "@jupyter-widgets/base",
      "model_module_version": "2.0.0",
      "model_name": "LayoutModel",
      "state": {}
     },
     "721bf9bcb16e45dd960422ae599bcb2a": {
      "model_module": "@jupyter-widgets/controls",
      "model_module_version": "2.0.0",
      "model_name": "ButtonStyleModel",
      "state": {
       "font_family": null,
       "font_size": null,
       "font_style": null,
       "font_variant": null,
       "font_weight": null,
       "text_color": null,
       "text_decoration": null
      }
     },
     "722a27cebc604c9d9f99d63b7943733b": {
      "model_module": "@jupyter-widgets/controls",
      "model_module_version": "2.0.0",
      "model_name": "HTMLStyleModel",
      "state": {
       "description_width": "",
       "font_size": null,
       "text_color": null
      }
     },
     "724eb491017340ce9469334f50e9ffb8": {
      "model_module": "@jupyter-widgets/base",
      "model_module_version": "2.0.0",
      "model_name": "LayoutModel",
      "state": {}
     },
     "726e8b18c5234281805a79ae378df1fc": {
      "model_module": "@jupyter-widgets/controls",
      "model_module_version": "2.0.0",
      "model_name": "HBoxModel",
      "state": {
       "children": [
        "IPY_MODEL_f42f772a3fcc4c5a86e4d2fc2590a925"
       ],
       "layout": "IPY_MODEL_38031ecec7a749ea8d3ee7837d63206c"
      }
     },
     "7273c29e5ca0471f9e5e9c26c264c4ce": {
      "model_module": "@jupyter-widgets/controls",
      "model_module_version": "2.0.0",
      "model_name": "CheckboxStyleModel",
      "state": {
       "description_width": ""
      }
     },
     "728be7406546437ab66a27e5b512e6d7": {
      "model_module": "@jupyter-widgets/base",
      "model_module_version": "2.0.0",
      "model_name": "LayoutModel",
      "state": {
       "height": "40px",
       "width": "160px"
      }
     },
     "72c50602a78b4797bb872f871c00c81f": {
      "model_module": "@jupyter-widgets/controls",
      "model_module_version": "2.0.0",
      "model_name": "HBoxModel",
      "state": {
       "children": [
        "IPY_MODEL_561fa07976ae42ee926ca6f7e2503b3f"
       ],
       "layout": "IPY_MODEL_c79439b10089433fa13f9260cdc865ba"
      }
     },
     "72fad7642ccd4d389abdbe4d24b636c4": {
      "model_module": "@jupyter-widgets/base",
      "model_module_version": "2.0.0",
      "model_name": "LayoutModel",
      "state": {
       "height": "40px",
       "width": "160px"
      }
     },
     "732331186257483da3e01a6cfdbe5229": {
      "model_module": "@jupyter-widgets/controls",
      "model_module_version": "2.0.0",
      "model_name": "HTMLModel",
      "state": {
       "layout": "IPY_MODEL_6f19bc0b2da5450590174d6793935cb5",
       "style": "IPY_MODEL_1ae1d72f0f4a4c14b70acd37ec0c746a",
       "value": "<h5>\"Close Tab to Exit\"</h5>"
      }
     },
     "7335f58fb1f14088bb3266204aa3afab": {
      "model_module": "@jupyter-widgets/controls",
      "model_module_version": "2.0.0",
      "model_name": "CheckboxModel",
      "state": {
       "description": "Core",
       "disabled": false,
       "indent": false,
       "layout": "IPY_MODEL_73ecd04e769a4e50aae5c55e4ce79e0f",
       "style": "IPY_MODEL_1fb495e294aa45e98f04f5adb60319b6",
       "value": true
      }
     },
     "73454186b9a0458fa14d7c94bb1852fc": {
      "model_module": "@jupyter-widgets/controls",
      "model_module_version": "2.0.0",
      "model_name": "CheckboxStyleModel",
      "state": {
       "description_width": ""
      }
     },
     "739911c884f64c95905348f7542e4da6": {
      "model_module": "@jupyter-widgets/controls",
      "model_module_version": "2.0.0",
      "model_name": "CheckboxStyleModel",
      "state": {
       "description_width": ""
      }
     },
     "73b8bd662c504f11a4dc88b66c67f1cb": {
      "model_module": "@jupyter-widgets/controls",
      "model_module_version": "2.0.0",
      "model_name": "HTMLStyleModel",
      "state": {
       "description_width": "",
       "font_size": null,
       "text_color": null
      }
     },
     "73bc60f2ee4847e8aed360e0974103cd": {
      "model_module": "@jupyter-widgets/controls",
      "model_module_version": "2.0.0",
      "model_name": "HBoxModel",
      "state": {
       "children": [
        "IPY_MODEL_40bb90d08d734706984594b31b641757"
       ],
       "layout": "IPY_MODEL_de6e7c893eda4a0fae6e38d31a02aaa7"
      }
     },
     "73d56e8659564ba8aea15d6b361def8f": {
      "model_module": "@jupyter-widgets/base",
      "model_module_version": "2.0.0",
      "model_name": "LayoutModel",
      "state": {
       "height": "40px",
       "width": "140px"
      }
     },
     "73ecd04e769a4e50aae5c55e4ce79e0f": {
      "model_module": "@jupyter-widgets/base",
      "model_module_version": "2.0.0",
      "model_name": "LayoutModel",
      "state": {
       "height": "40px",
       "width": "120px"
      }
     },
     "742a9334fa3e4380811091a7ee09e60f": {
      "model_module": "@jupyter-widgets/controls",
      "model_module_version": "2.0.0",
      "model_name": "VBoxModel",
      "state": {
       "children": [
        "IPY_MODEL_bc2cca73a22e4678bb2a756664751843",
        "IPY_MODEL_b1ccb752f43741138e7ec99a7599982d"
       ],
       "layout": "IPY_MODEL_3a9afd3a317d484faef51dab695952c7"
      }
     },
     "74440bedb70c436da1e246efef827acd": {
      "model_module": "@jupyter-widgets/base",
      "model_module_version": "2.0.0",
      "model_name": "LayoutModel",
      "state": {}
     },
     "74a5d1cfa2a44808b23ee6510e2a0787": {
      "model_module": "@jupyter-widgets/controls",
      "model_module_version": "2.0.0",
      "model_name": "VBoxModel",
      "state": {
       "children": [
        "IPY_MODEL_ac82ad49907a40a9a472a66021f90850",
        "IPY_MODEL_df11256d82d74eefa84e009149679085"
       ],
       "layout": "IPY_MODEL_e5b464233c344289a13d8b13f421a9a7"
      }
     },
     "74ce854a9d3b4437add4fc72cedb5391": {
      "model_module": "@jupyter-widgets/controls",
      "model_module_version": "2.0.0",
      "model_name": "CheckboxModel",
      "state": {
       "description": "plyometrics",
       "disabled": false,
       "indent": false,
       "layout": "IPY_MODEL_65067af9274942dfa63ab174d4ab4b3a",
       "style": "IPY_MODEL_71767b6c5d434da3b386ae81c3c6aac9",
       "value": true
      }
     },
     "74dd1359ddbe4649947baea219783e7f": {
      "model_module": "@jupyter-widgets/controls",
      "model_module_version": "2.0.0",
      "model_name": "ButtonModel",
      "state": {
       "description": "Close",
       "layout": "IPY_MODEL_7b37a186b3f746e79a572af4f401562b",
       "style": "IPY_MODEL_301d0d95edaa44248c3bb746bde7c16a",
       "tooltip": null
      }
     },
     "75423c03af174911a04b362bae2edd53": {
      "model_module": "@jupyter-widgets/base",
      "model_module_version": "2.0.0",
      "model_name": "LayoutModel",
      "state": {}
     },
     "75bd2033b1df4ad68e147355b865c899": {
      "model_module": "@jupyter-widgets/base",
      "model_module_version": "2.0.0",
      "model_name": "LayoutModel",
      "state": {}
     },
     "76432b666d434ffab9c873ffa232f932": {
      "model_module": "@jupyter-widgets/base",
      "model_module_version": "2.0.0",
      "model_name": "LayoutModel",
      "state": {}
     },
     "7653378256b04cc999336c84481d1842": {
      "model_module": "@jupyter-widgets/base",
      "model_module_version": "2.0.0",
      "model_name": "LayoutModel",
      "state": {
       "height": "40px",
       "width": "160px"
      }
     },
     "769a7925ccf449eeb7867e2e3bc8a7d6": {
      "model_module": "@jupyter-widgets/controls",
      "model_module_version": "2.0.0",
      "model_name": "VBoxModel",
      "state": {
       "children": [
        "IPY_MODEL_65bf9830341843b29c9b491901aa463b",
        "IPY_MODEL_1cf7a6b5322648f2b64194c6c0bf92b1"
       ],
       "layout": "IPY_MODEL_fd1c1c8e8f304ef5aae6203a7ca653cf"
      }
     },
     "76b0e382e7b24917a1ef9694fe4fd8b2": {
      "model_module": "@jupyter-widgets/controls",
      "model_module_version": "2.0.0",
      "model_name": "CheckboxModel",
      "state": {
       "description": "olympic weightlifting",
       "disabled": false,
       "indent": false,
       "layout": "IPY_MODEL_3aa3623de0684177b3d63564746ebf6d",
       "style": "IPY_MODEL_3c7bdf5c7f1b4d75a1c7dc470c81839f",
       "value": true
      }
     },
     "77531b91703f4f2884fa50508e40cbf1": {
      "model_module": "@jupyter-widgets/controls",
      "model_module_version": "2.0.0",
      "model_name": "ButtonModel",
      "state": {
       "description": "Instruction",
       "icon": "comment",
       "layout": "IPY_MODEL_7b97d31352f14c9faff8df0b66131735",
       "style": "IPY_MODEL_5beefa18d55444ed97b77afecd80cd6b",
       "tooltip": "1"
      }
     },
     "77a208ba0ec448b08cffe06c5f13999e": {
      "model_module": "@jupyter-widgets/controls",
      "model_module_version": "2.0.0",
      "model_name": "HTMLModel",
      "state": {
       "layout": "IPY_MODEL_ee84bb902e764991baded2c99b0e66ee",
       "style": "IPY_MODEL_9ff84b2060214836b24d0f6bbed98a50",
       "value": "<h1>Results</h1>"
      }
     },
     "77a9f87f008240b380fabcd5f66a5f9c": {
      "model_module": "@jupyter-widgets/base",
      "model_module_version": "2.0.0",
      "model_name": "LayoutModel",
      "state": {
       "height": "55px",
       "width": "120px"
      }
     },
     "77ae4f1545a74e71b44d916787ce7b9b": {
      "model_module": "@jupyter-widgets/controls",
      "model_module_version": "2.0.0",
      "model_name": "CheckboxStyleModel",
      "state": {
       "description_width": ""
      }
     },
     "77dd9c42b59546cfa08e4ba4763cc443": {
      "model_module": "@jupyter-widgets/controls",
      "model_module_version": "2.0.0",
      "model_name": "HTMLModel",
      "state": {
       "layout": "IPY_MODEL_e57eb1dfdb714f63b88efd961bcd277f",
       "style": "IPY_MODEL_0956dcdfce13424ebcfba4bcd3d58ec5",
       "value": "<h2>Sample Size</h2>"
      }
     },
     "7802289eff9d4f1488521c930e9ab485": {
      "model_module": "@jupyter-widgets/controls",
      "model_module_version": "2.0.0",
      "model_name": "CheckboxStyleModel",
      "state": {
       "description_width": ""
      }
     },
     "7858332b849f40dc8ddcc9138314550f": {
      "model_module": "@jupyter-widgets/controls",
      "model_module_version": "2.0.0",
      "model_name": "CheckboxStyleModel",
      "state": {
       "description_width": ""
      }
     },
     "78625c6e844d44cd9d2318050a2417bb": {
      "model_module": "@jupyter-widgets/controls",
      "model_module_version": "2.0.0",
      "model_name": "HTMLStyleModel",
      "state": {
       "description_width": "",
       "font_size": null,
       "text_color": null
      }
     },
     "7866fc57e84646d5a8f9d701cb8a54af": {
      "model_module": "@jupyter-widgets/base",
      "model_module_version": "2.0.0",
      "model_name": "LayoutModel",
      "state": {}
     },
     "79dce5ef66fe4643b0b1c31ea8dcee48": {
      "model_module": "@jupyter-widgets/controls",
      "model_module_version": "2.0.0",
      "model_name": "VBoxModel",
      "state": {
       "children": [
        "IPY_MODEL_d956190d72204de58931a63d0b3a85d5",
        "IPY_MODEL_4f44b9085f474463a3c580da8826f2b5"
       ],
       "layout": "IPY_MODEL_b63ae3c8fb384fd0aa57c9591325c9ef"
      }
     },
     "79e6ebf27d1940c3a32e72fe8b991077": {
      "model_module": "@jupyter-widgets/base",
      "model_module_version": "2.0.0",
      "model_name": "LayoutModel",
      "state": {}
     },
     "7a13a63e35c643cea99a361564f8f230": {
      "model_module": "@jupyter-widgets/controls",
      "model_module_version": "2.0.0",
      "model_name": "GridBoxModel",
      "state": {
       "layout": "IPY_MODEL_82f5067257b240b4804d30004abd454c"
      }
     },
     "7aac23d4e7f143e1a2225a2f627b2282": {
      "model_module": "@jupyter-widgets/controls",
      "model_module_version": "2.0.0",
      "model_name": "HTMLStyleModel",
      "state": {
       "description_width": "",
       "font_size": null,
       "text_color": null
      }
     },
     "7ad2ffb75bf242b2a0e36e7ccd4daf23": {
      "model_module": "@jupyter-widgets/base",
      "model_module_version": "2.0.0",
      "model_name": "LayoutModel",
      "state": {
       "height": "40px",
       "width": "140px"
      }
     },
     "7aec49e0142f4518ad3cf3b4fed3e95f": {
      "model_module": "@jupyter-widgets/base",
      "model_module_version": "2.0.0",
      "model_name": "LayoutModel",
      "state": {}
     },
     "7af20b62af8242379486395908956a48": {
      "model_module": "@jupyter-widgets/controls",
      "model_module_version": "2.0.0",
      "model_name": "HTMLStyleModel",
      "state": {
       "description_width": "",
       "font_size": null,
       "text_color": null
      }
     },
     "7b2132813f164279b878659fff8e0d35": {
      "model_module": "@jupyter-widgets/base",
      "model_module_version": "2.0.0",
      "model_name": "LayoutModel",
      "state": {
       "height": "40px",
       "width": "120px"
      }
     },
     "7b37a186b3f746e79a572af4f401562b": {
      "model_module": "@jupyter-widgets/base",
      "model_module_version": "2.0.0",
      "model_name": "LayoutModel",
      "state": {
       "height": "55px",
       "width": "80px"
      }
     },
     "7b78584a6df64d1ebca7da292729fd4c": {
      "model_module": "@jupyter-widgets/controls",
      "model_module_version": "2.0.0",
      "model_name": "ButtonStyleModel",
      "state": {
       "font_family": null,
       "font_size": null,
       "font_style": null,
       "font_variant": null,
       "font_weight": null,
       "text_color": null,
       "text_decoration": null
      }
     },
     "7b8b24a2e39c43d6b149dc4acb6d0bf2": {
      "model_module": "@jupyter-widgets/controls",
      "model_module_version": "2.0.0",
      "model_name": "CheckboxModel",
      "state": {
       "description": "bands",
       "disabled": false,
       "indent": false,
       "layout": "IPY_MODEL_e375b1e5bf2b4fe98cfe4a6a35b94ea5",
       "style": "IPY_MODEL_9aa80037ce244b9f90ee6340537768cb",
       "value": true
      }
     },
     "7b910c3283a2418ebb961002be98b1ff": {
      "model_module": "@jupyter-widgets/base",
      "model_module_version": "2.0.0",
      "model_name": "LayoutModel",
      "state": {}
     },
     "7b97d31352f14c9faff8df0b66131735": {
      "model_module": "@jupyter-widgets/base",
      "model_module_version": "2.0.0",
      "model_name": "LayoutModel",
      "state": {
       "height": "55px",
       "width": "120px"
      }
     },
     "7c091d0bcc9a4994a0b388a762534cd4": {
      "model_module": "@jupyter-widgets/controls",
      "model_module_version": "2.0.0",
      "model_name": "HBoxModel",
      "state": {
       "children": [
        "IPY_MODEL_853b0130870e42f7880c03525c62d822"
       ],
       "layout": "IPY_MODEL_d082b96cef564495bb8ede9f71f9471a"
      }
     },
     "7c5064a11c2d4f9cbe54d4f541e8101d": {
      "model_module": "@jupyter-widgets/controls",
      "model_module_version": "2.0.0",
      "model_name": "VBoxModel",
      "state": {
       "children": [
        "IPY_MODEL_881298ea51ef4cf8b61fac6c695c99de",
        "IPY_MODEL_f55d69730f084ef593a0013c49b1365e",
        "IPY_MODEL_5d7d80d8fbad405baab0b227535f3806",
        "IPY_MODEL_e970a4ea72af4d49a2f96f45e5e54c48"
       ],
       "layout": "IPY_MODEL_92270859270f4896b946c376c62f88be"
      }
     },
     "7c86d89017bf4ae6957ed3e5c3d934ee": {
      "model_module": "@jupyter-widgets/controls",
      "model_module_version": "2.0.0",
      "model_name": "BoxModel",
      "state": {
       "children": [
        "IPY_MODEL_305ac88eb2434466950f028cfbd6748a",
        "IPY_MODEL_ba7836c7fbfa48b59dbb45540a5a5ceb"
       ],
       "layout": "IPY_MODEL_85e5560cfd9c483dae61b8e78c7b2c14"
      }
     },
     "7cb1d1792aae42fb82cb79a4eb262630": {
      "model_module": "@jupyter-widgets/base",
      "model_module_version": "2.0.0",
      "model_name": "LayoutModel",
      "state": {}
     },
     "7d3498a9c71f415e892e1ea5888c984a": {
      "model_module": "@jupyter-widgets/base",
      "model_module_version": "2.0.0",
      "model_name": "LayoutModel",
      "state": {}
     },
     "7d5617c284e34699ba5685dedbc9bb0a": {
      "model_module": "@jupyter-widgets/controls",
      "model_module_version": "2.0.0",
      "model_name": "HTMLStyleModel",
      "state": {
       "description_width": "",
       "font_size": null,
       "text_color": null
      }
     },
     "7d58c6dc862f49dab75f3133353b7c95": {
      "model_module": "@jupyter-widgets/base",
      "model_module_version": "2.0.0",
      "model_name": "LayoutModel",
      "state": {}
     },
     "7d9bbb4215774ce4a5146aee987cd2c3": {
      "model_module": "@jupyter-widgets/base",
      "model_module_version": "2.0.0",
      "model_name": "LayoutModel",
      "state": {}
     },
     "7dd5e76d6d1f458aa8467f00e38e81ec": {
      "model_module": "@jupyter-widgets/base",
      "model_module_version": "2.0.0",
      "model_name": "LayoutModel",
      "state": {
       "height": "55px",
       "width": "80px"
      }
     },
     "7f1c1b7127984bf39cef5a73d5ff35ce": {
      "model_module": "@jupyter-widgets/controls",
      "model_module_version": "2.0.0",
      "model_name": "HBoxModel",
      "state": {
       "children": [
        "IPY_MODEL_11d2866c553240f9a06b264e4b738a52",
        "IPY_MODEL_fd72267bb941499696088536b9759da3",
        "IPY_MODEL_e360a3dce4594efba2aa0cae136a3247",
        "IPY_MODEL_d07084f89a7e4a96923fbeb65531498f"
       ],
       "layout": "IPY_MODEL_61e89a0183f844e19be467a51ddf148a"
      }
     },
     "7fb754cc7e5248faa15c214b334af4eb": {
      "model_module": "@jupyter-widgets/base",
      "model_module_version": "2.0.0",
      "model_name": "LayoutModel",
      "state": {}
     },
     "7fc3460c8197484cbed45487e8315f46": {
      "model_module": "@jupyter-widgets/controls",
      "model_module_version": "2.0.0",
      "model_name": "CheckboxModel",
      "state": {
       "description": "cable",
       "disabled": false,
       "indent": false,
       "layout": "IPY_MODEL_1d1ff354ffd84dc1904e87528418cf45",
       "style": "IPY_MODEL_950d601a80694788a8d97eb6774855c8",
       "value": true
      }
     },
     "80406bc5390b4d21917c3a16f0b57e30": {
      "model_module": "@jupyter-widgets/controls",
      "model_module_version": "2.0.0",
      "model_name": "ButtonModel",
      "state": {
       "description": "Ex Category",
       "layout": "IPY_MODEL_b8c84820adda49c897da36f4db7413d7",
       "style": "IPY_MODEL_a4b1ab860198409abbd1f78c1f8829ed",
       "tooltip": null
      }
     },
     "80417c8ac5fe46c9af637f3fcf8f3e55": {
      "model_module": "@jupyter-widgets/base",
      "model_module_version": "2.0.0",
      "model_name": "LayoutModel",
      "state": {
       "height": "40px",
       "width": "160px"
      }
     },
     "805614a2630d4c9dbc63dab2210a4002": {
      "model_module": "@jupyter-widgets/controls",
      "model_module_version": "2.0.0",
      "model_name": "ButtonModel",
      "state": {
       "description": "Clear",
       "layout": "IPY_MODEL_8f474dc593064b659e1117f742417444",
       "style": "IPY_MODEL_46f4daa5fea44a1aa84202888bf1e3af",
       "tooltip": null
      }
     },
     "8082f731822a41a0b0c71eedfd7a9fc9": {
      "model_module": "@jupyter-widgets/controls",
      "model_module_version": "2.0.0",
      "model_name": "DropdownModel",
      "state": {
       "_options_labels": [
        "One",
        "Two",
        "Three",
        "Four",
        "Five"
       ],
       "index": 1,
       "layout": "IPY_MODEL_12f07bf5addf4a1899796d369a01ff99",
       "style": "IPY_MODEL_0499921c059a436794b1bb8a8d73041e"
      }
     },
     "80b09e46301f4915ae6bbf8074806be4": {
      "model_module": "@jupyter-widgets/controls",
      "model_module_version": "2.0.0",
      "model_name": "ButtonModel",
      "state": {
       "description": "Clear",
       "layout": "IPY_MODEL_9c10e5ea123546d5a3c39185ced1b429",
       "style": "IPY_MODEL_8d3c94f43d2042398ae41944812e30ee",
       "tooltip": null
      }
     },
     "80d380c09a464c488759db08a40efadc": {
      "model_module": "@jupyter-widgets/controls",
      "model_module_version": "2.0.0",
      "model_name": "VBoxModel",
      "state": {
       "children": [
        "IPY_MODEL_cadc2f42017d4d0683447d9ed0042f9f",
        "IPY_MODEL_a0729f37b9de4fe092fb7af2b8253832",
        "IPY_MODEL_707a2aa2f6184d6ea9551d5ceddbe73f",
        "IPY_MODEL_f9f02d98086e45b786287717b8ebd660"
       ],
       "layout": "IPY_MODEL_8a0a0675a4e94f02b8a485d1447760be"
      }
     },
     "81184b47bb75479a90f9a945519a5b5f": {
      "model_module": "@jupyter-widgets/controls",
      "model_module_version": "2.0.0",
      "model_name": "HTMLStyleModel",
      "state": {
       "description_width": "",
       "font_size": null,
       "text_color": null
      }
     },
     "8140bb72456e46729b19d253f206649b": {
      "model_module": "@jupyter-widgets/controls",
      "model_module_version": "2.0.0",
      "model_name": "ButtonStyleModel",
      "state": {
       "font_family": null,
       "font_size": null,
       "font_style": null,
       "font_variant": null,
       "font_weight": null,
       "text_color": null,
       "text_decoration": null
      }
     },
     "81d0db04fb554536a2c3f7c676965ba0": {
      "model_module": "@jupyter-widgets/controls",
      "model_module_version": "2.0.0",
      "model_name": "HTMLStyleModel",
      "state": {
       "description_width": "",
       "font_size": null,
       "text_color": null
      }
     },
     "81f0b62001144389bddb8237569a0ddd": {
      "model_module": "@jupyter-widgets/base",
      "model_module_version": "2.0.0",
      "model_name": "LayoutModel",
      "state": {
       "align_items": "stretch",
       "display": "flex",
       "flex_flow": "row",
       "justify_content": "space-around",
       "width": "70%"
      }
     },
     "820156ccb02d4153900d35ed566b25b8": {
      "model_module": "@jupyter-widgets/base",
      "model_module_version": "2.0.0",
      "model_name": "LayoutModel",
      "state": {
       "height": "40px",
       "width": "120px"
      }
     },
     "820b709824294d428f5f64b25c87b49e": {
      "model_module": "@jupyter-widgets/controls",
      "model_module_version": "2.0.0",
      "model_name": "CheckboxStyleModel",
      "state": {
       "description_width": ""
      }
     },
     "8237519dcbf64d10a749b683c1f1f85f": {
      "model_module": "@jupyter-widgets/controls",
      "model_module_version": "2.0.0",
      "model_name": "BoxModel",
      "state": {
       "children": [
        "IPY_MODEL_d42941844e84439c90fc099d542349e6",
        "IPY_MODEL_74dd1359ddbe4649947baea219783e7f"
       ],
       "layout": "IPY_MODEL_5715330b52a045f79665a555fc18c8ae"
      }
     },
     "824e60b865ec4ac28f3b2982c97788f8": {
      "model_module": "@jupyter-widgets/base",
      "model_module_version": "2.0.0",
      "model_name": "LayoutModel",
      "state": {
       "height": "40px",
       "width": "160px"
      }
     },
     "828dfd0cde134559aa97bec1a400a370": {
      "model_module": "@jupyter-widgets/controls",
      "model_module_version": "2.0.0",
      "model_name": "CheckboxModel",
      "state": {
       "description": "other",
       "disabled": false,
       "indent": false,
       "layout": "IPY_MODEL_1f3855a2a0a04f2aa07da3d8035cfc30",
       "style": "IPY_MODEL_04786e44b43d4c2d9cec4a6a6772afb5",
       "value": true
      }
     },
     "82a8be82cdf543ec9290fcb166773bf8": {
      "model_module": "@jupyter-widgets/controls",
      "model_module_version": "2.0.0",
      "model_name": "HBoxModel",
      "state": {
       "children": [
        "IPY_MODEL_5437d197e4934fc8a0491c9963e8b082"
       ],
       "layout": "IPY_MODEL_65090b8a74d7432cbd2158efc4a170b5"
      }
     },
     "82d7c37208d14b0f9d1207d856963656": {
      "model_module": "@jupyter-widgets/base",
      "model_module_version": "2.0.0",
      "model_name": "LayoutModel",
      "state": {
       "height": "40px",
       "width": "120px"
      }
     },
     "82e49e8babd44379bcd1e453f43835e3": {
      "model_module": "@jupyter-widgets/base",
      "model_module_version": "2.0.0",
      "model_name": "LayoutModel",
      "state": {
       "height": "120px",
       "width": "100px"
      }
     },
     "82e8e54197bb414881e87777bebc7b28": {
      "model_module": "@jupyter-widgets/controls",
      "model_module_version": "2.0.0",
      "model_name": "CheckboxStyleModel",
      "state": {
       "description_width": ""
      }
     },
     "82f5067257b240b4804d30004abd454c": {
      "model_module": "@jupyter-widgets/base",
      "model_module_version": "2.0.0",
      "model_name": "LayoutModel",
      "state": {
       "height": "200px"
      }
     },
     "82f6894acb36437b8c7a1865e38e9dde": {
      "model_module": "@jupyter-widgets/base",
      "model_module_version": "2.0.0",
      "model_name": "LayoutModel",
      "state": {
       "height": "55px",
       "width": "80px"
      }
     },
     "830e77dba0234054a82e1e585e944a9b": {
      "model_module": "@jupyter-widgets/base",
      "model_module_version": "2.0.0",
      "model_name": "LayoutModel",
      "state": {
       "align_items": "stretch",
       "display": "flex",
       "flex_flow": "row",
       "justify_content": "space-around",
       "width": "70%"
      }
     },
     "831a1944a2e24cc6a87197c6fdb45429": {
      "model_module": "@jupyter-widgets/controls",
      "model_module_version": "2.0.0",
      "model_name": "CheckboxStyleModel",
      "state": {
       "description_width": ""
      }
     },
     "835f7b12bd0c47d3ab67761e8f727e25": {
      "model_module": "@jupyter-widgets/base",
      "model_module_version": "2.0.0",
      "model_name": "LayoutModel",
      "state": {
       "height": "40px",
       "width": "120px"
      }
     },
     "83c683b88de54901b7d710c49680ca34": {
      "model_module": "@jupyter-widgets/controls",
      "model_module_version": "2.0.0",
      "model_name": "HTMLStyleModel",
      "state": {
       "description_width": "",
       "font_size": null,
       "text_color": null
      }
     },
     "84126bf7085e4a079ba9feed760a92fe": {
      "model_module": "@jupyter-widgets/base",
      "model_module_version": "2.0.0",
      "model_name": "LayoutModel",
      "state": {
       "height": "40px",
       "width": "120px"
      }
     },
     "8427ddfed354460599dc30d7f59f376f": {
      "model_module": "@jupyter-widgets/controls",
      "model_module_version": "2.0.0",
      "model_name": "CheckboxStyleModel",
      "state": {
       "description_width": ""
      }
     },
     "844c105fe70c41fbaed699b5687d96e6": {
      "model_module": "@jupyter-widgets/base",
      "model_module_version": "2.0.0",
      "model_name": "LayoutModel",
      "state": {}
     },
     "8473790230824fde85f6c395e5c6a765": {
      "model_module": "@jupyter-widgets/controls",
      "model_module_version": "2.0.0",
      "model_name": "ButtonModel",
      "state": {
       "description": "Instruction",
       "icon": "comment",
       "layout": "IPY_MODEL_718eb40780c94ec9a3ac6572005a7ff1",
       "style": "IPY_MODEL_7b78584a6df64d1ebca7da292729fd4c",
       "tooltip": "207"
      }
     },
     "84853203c5984ea389edba53048b48cc": {
      "model_module": "@jupyter-widgets/controls",
      "model_module_version": "2.0.0",
      "model_name": "CheckboxStyleModel",
      "state": {
       "description_width": ""
      }
     },
     "848cff55b00e4b87a73d1da0ca6bd6fc": {
      "model_module": "@jupyter-widgets/controls",
      "model_module_version": "2.0.0",
      "model_name": "CheckboxStyleModel",
      "state": {
       "description_width": ""
      }
     },
     "84914b016a1b4b49912813cdc2024d9f": {
      "model_module": "@jupyter-widgets/base",
      "model_module_version": "2.0.0",
      "model_name": "LayoutModel",
      "state": {
       "height": "40px",
       "width": "160px"
      }
     },
     "8495bd370b994832a7a1269a51c60fd0": {
      "model_module": "@jupyter-widgets/base",
      "model_module_version": "2.0.0",
      "model_name": "LayoutModel",
      "state": {
       "align_items": "stretch",
       "display": "flex",
       "flex_flow": "row",
       "justify_content": "space-around",
       "width": "70%"
      }
     },
     "8500cff212504fcc8fa5eb0bdec3a19d": {
      "model_module": "@jupyter-widgets/controls",
      "model_module_version": "2.0.0",
      "model_name": "VBoxModel",
      "state": {
       "children": [
        "IPY_MODEL_5809c6bfd86942a4ab7ce9cc53cebe12",
        "IPY_MODEL_2487b5f706c240688e4121ce616a49f5",
        "IPY_MODEL_6912fa4ea6584d78ad51d494f4a59f1c"
       ],
       "layout": "IPY_MODEL_fcf6934f83654df5b140c9ac0d30d97b"
      }
     },
     "85113cea69c944e19ebc75fb876220b9": {
      "model_module": "@jupyter-widgets/controls",
      "model_module_version": "2.0.0",
      "model_name": "ButtonModel",
      "state": {
       "description": "Close",
       "layout": "IPY_MODEL_363ad4cbbe3145c1aedb630397b4d205",
       "style": "IPY_MODEL_baa3b82c0e22428ea2377c643cca02ff",
       "tooltip": null
      }
     },
     "8515322163b54a049bd43b7cf14540b5": {
      "model_module": "@jupyter-widgets/controls",
      "model_module_version": "2.0.0",
      "model_name": "CheckboxModel",
      "state": {
       "description": "upperBody",
       "disabled": false,
       "indent": false,
       "layout": "IPY_MODEL_ddfa4ca05e664dd69ba6af1a7ac19bf6",
       "style": "IPY_MODEL_f21855a0c5fc410d88df055eb0c9f6fc",
       "value": true
      }
     },
     "853b0130870e42f7880c03525c62d822": {
      "model_module": "@jupyter-widgets/controls",
      "model_module_version": "2.0.0",
      "model_name": "HTMLModel",
      "state": {
       "layout": "IPY_MODEL_03c368a344a440628766267981eae886",
       "style": "IPY_MODEL_89364843ead5434fb1d93534196b17e0",
       "value": "<h3>Upper Body</h3>"
      }
     },
     "853bd424b694430ba8e0d5d0cc46559e": {
      "model_module": "@jupyter-widgets/controls",
      "model_module_version": "2.0.0",
      "model_name": "HTMLModel",
      "state": {
       "layout": "IPY_MODEL_7d58c6dc862f49dab75f3133353b7c95",
       "style": "IPY_MODEL_f607ccfac20e497790969f25e1ca3176",
       "value": "<h1>Results</h1>"
      }
     },
     "85a6f319490446ebbbd670b2f49fb242": {
      "model_module": "@jupyter-widgets/controls",
      "model_module_version": "2.0.0",
      "model_name": "ButtonStyleModel",
      "state": {
       "font_family": null,
       "font_size": null,
       "font_style": null,
       "font_variant": null,
       "font_weight": null,
       "text_color": null,
       "text_decoration": null
      }
     },
     "85a99855087e42549a17eafde3f37f2f": {
      "model_module": "@jupyter-widgets/controls",
      "model_module_version": "2.0.0",
      "model_name": "HTMLModel",
      "state": {
       "layout": "IPY_MODEL_b9d1237ebf62469ba910e6d9ecd9fe5e",
       "style": "IPY_MODEL_a1099e43a29a4af596a64a298b4d5b12",
       "value": "<h3>Upper Body</h3>"
      }
     },
     "85c40734ccc14f0a98d160b31b021b06": {
      "model_module": "@jupyter-widgets/controls",
      "model_module_version": "2.0.0",
      "model_name": "VBoxModel",
      "state": {
       "children": [
        "IPY_MODEL_40382415c5e247668a68531d99b51a63",
        "IPY_MODEL_35f47969bbb343e38c8b2b253121e324",
        "IPY_MODEL_e34eb9e2cd80473ca17ae95c85764e10",
        "IPY_MODEL_5e766993d1fb41c5afeb93699ec3b2db"
       ],
       "layout": "IPY_MODEL_dbf66099626c43599294809b2419fd25"
      }
     },
     "85e5560cfd9c483dae61b8e78c7b2c14": {
      "model_module": "@jupyter-widgets/base",
      "model_module_version": "2.0.0",
      "model_name": "LayoutModel",
      "state": {
       "align_items": "stretch",
       "display": "flex",
       "flex_flow": "row",
       "justify_content": "space-around",
       "width": "70%"
      }
     },
     "860149c605b248c3bbd4b6d551676261": {
      "model_module": "@jupyter-widgets/base",
      "model_module_version": "2.0.0",
      "model_name": "LayoutModel",
      "state": {
       "align_items": "stretch",
       "display": "flex",
       "flex_flow": "row",
       "justify_content": "space-around",
       "width": "70%"
      }
     },
     "86110ec3212845a2a15b8be48fa773dd": {
      "model_module": "@jupyter-widgets/controls",
      "model_module_version": "2.0.0",
      "model_name": "HTMLStyleModel",
      "state": {
       "description_width": "",
       "font_size": null,
       "text_color": null
      }
     },
     "8615db6cb7844168b870a2b4fd536f79": {
      "model_module": "@jupyter-widgets/controls",
      "model_module_version": "2.0.0",
      "model_name": "VBoxModel",
      "state": {
       "children": [
        "IPY_MODEL_2dd7defc813d41af82afa633c3046320"
       ],
       "layout": "IPY_MODEL_f9583c1bdf844e388b1c83e25afae2e6"
      }
     },
     "8624a2f5333745a88c5d0b290f184d42": {
      "model_module": "@jupyter-widgets/controls",
      "model_module_version": "2.0.0",
      "model_name": "BoxModel",
      "state": {
       "children": [
        "IPY_MODEL_a6c4399df9b440d084cd7580411920f2",
        "IPY_MODEL_b9b55b709a43473a8c5310b0386a2c73"
       ],
       "layout": "IPY_MODEL_5bc3c169c8cf4ef79b02c930110ada4c"
      }
     },
     "862fb4ad9dfa4bc48f4747709397cf4d": {
      "model_module": "@jupyter-widgets/controls",
      "model_module_version": "2.0.0",
      "model_name": "ButtonModel",
      "state": {
       "description": "Photo",
       "layout": "IPY_MODEL_b5aa5c5c9d5b40d9aea4c5a83b6f9a96",
       "style": "IPY_MODEL_4951d2204f614bf7889f9b3b6ec10518",
       "tooltip": null
      }
     },
     "86b44c53956c439cb7c5b1b31ea52f00": {
      "model_module": "@jupyter-widgets/controls",
      "model_module_version": "2.0.0",
      "model_name": "HTMLStyleModel",
      "state": {
       "description_width": "",
       "font_size": null,
       "text_color": null
      }
     },
     "870c5061dde64cf2a03d8d0fc5ac83d1": {
      "model_module": "@jupyter-widgets/controls",
      "model_module_version": "2.0.0",
      "model_name": "CheckboxStyleModel",
      "state": {
       "description_width": ""
      }
     },
     "874a67ede8624d0bb553d6a3f2bcd9c2": {
      "model_module": "@jupyter-widgets/controls",
      "model_module_version": "2.0.0",
      "model_name": "ButtonModel",
      "state": {
       "description": "Instruction",
       "icon": "comment",
       "layout": "IPY_MODEL_6208b58bde2e4d2ea72dc2ad9ad45962",
       "style": "IPY_MODEL_d0a24fd4cf83490c99041bcce81626c0",
       "tooltip": "150"
      }
     },
     "87a43b49068346fb8c2c33e61eb7699a": {
      "model_module": "@jupyter-widgets/base",
      "model_module_version": "2.0.0",
      "model_name": "LayoutModel",
      "state": {
       "height": "40px",
       "width": "120px"
      }
     },
     "87f68c64cdc44cebb464fe475ed8d76e": {
      "model_module": "@jupyter-widgets/base",
      "model_module_version": "2.0.0",
      "model_name": "LayoutModel",
      "state": {}
     },
     "881298ea51ef4cf8b61fac6c695c99de": {
      "model_module": "@jupyter-widgets/controls",
      "model_module_version": "2.0.0",
      "model_name": "CheckboxModel",
      "state": {
       "description": "dumbbell",
       "disabled": false,
       "indent": false,
       "layout": "IPY_MODEL_65cd25c994494daeba63f1878ea5be6c",
       "style": "IPY_MODEL_bc33e6b0133c4e1aab6656866d4ebc4b",
       "value": true
      }
     },
     "88236fcbfa044543a3ca9c35291456a1": {
      "model_module": "@jupyter-widgets/controls",
      "model_module_version": "2.0.0",
      "model_name": "VBoxModel",
      "state": {
       "children": [
        "IPY_MODEL_ad4941e6744c411b8d009b614aafcf66",
        "IPY_MODEL_f1efc26e53f142ab99cda6a52ff3b41f"
       ],
       "layout": "IPY_MODEL_8f7b1f1a97ab4b5d9350e2d0006af8d6"
      }
     },
     "885c341c85ff4b658dcc2c563d7d7322": {
      "model_module": "@jupyter-widgets/base",
      "model_module_version": "2.0.0",
      "model_name": "LayoutModel",
      "state": {
       "height": "55px",
       "width": "80px"
      }
     },
     "88b14c1f4e4346c28368e5875728ab7e": {
      "model_module": "@jupyter-widgets/controls",
      "model_module_version": "2.0.0",
      "model_name": "HBoxModel",
      "state": {
       "children": [
        "IPY_MODEL_18dcefc7e0c84996894f5ab0ef6cd1c3"
       ],
       "layout": "IPY_MODEL_a4b4769bce7f495699d6f6dae2675dd3"
      }
     },
     "88b85b9558874380b75bc9d34c05968a": {
      "model_module": "@jupyter-widgets/base",
      "model_module_version": "2.0.0",
      "model_name": "LayoutModel",
      "state": {}
     },
     "891c151b9b394dda85f3181919e23b4c": {
      "model_module": "@jupyter-widgets/controls",
      "model_module_version": "2.0.0",
      "model_name": "CheckboxStyleModel",
      "state": {
       "description_width": ""
      }
     },
     "89364843ead5434fb1d93534196b17e0": {
      "model_module": "@jupyter-widgets/controls",
      "model_module_version": "2.0.0",
      "model_name": "HTMLStyleModel",
      "state": {
       "description_width": "",
       "font_size": null,
       "text_color": null
      }
     },
     "89553dcd262d41bca1963933ce5a518f": {
      "model_module": "@jupyter-widgets/controls",
      "model_module_version": "2.0.0",
      "model_name": "ButtonStyleModel",
      "state": {
       "font_family": null,
       "font_size": null,
       "font_style": null,
       "font_variant": null,
       "font_weight": null,
       "text_color": null,
       "text_decoration": null
      }
     },
     "8a0a0675a4e94f02b8a485d1447760be": {
      "model_module": "@jupyter-widgets/base",
      "model_module_version": "2.0.0",
      "model_name": "LayoutModel",
      "state": {}
     },
     "8a4555d7da544d809609fc54e7282b4b": {
      "model_module": "@jupyter-widgets/base",
      "model_module_version": "2.0.0",
      "model_name": "LayoutModel",
      "state": {}
     },
     "8a62693055354b288cdaff31bb73753a": {
      "model_module": "@jupyter-widgets/base",
      "model_module_version": "2.0.0",
      "model_name": "LayoutModel",
      "state": {
       "align_items": "stretch",
       "display": "flex",
       "flex_flow": "row",
       "justify_content": "space-around",
       "width": "70%"
      }
     },
     "8a91a27ee0c447b393cc879f67093073": {
      "model_module": "@jupyter-widgets/controls",
      "model_module_version": "2.0.0",
      "model_name": "CheckboxStyleModel",
      "state": {
       "description_width": ""
      }
     },
     "8ae7ac7b04c1466dab149b583ad67970": {
      "model_module": "@jupyter-widgets/controls",
      "model_module_version": "2.0.0",
      "model_name": "ButtonModel",
      "state": {
       "description": "Close",
       "layout": "IPY_MODEL_60dc2dbbbcf9473fa456f4287287f37f",
       "style": "IPY_MODEL_ca7dd21850ff4c3a97b657fbe5dc8cf3",
       "tooltip": null
      }
     },
     "8af1682ec8db43e2857aba095621b506": {
      "model_module": "@jupyter-widgets/controls",
      "model_module_version": "2.0.0",
      "model_name": "CheckboxStyleModel",
      "state": {
       "description_width": ""
      }
     },
     "8b18900faf6d4997a8dab539f55a3e1a": {
      "model_module": "@jupyter-widgets/controls",
      "model_module_version": "2.0.0",
      "model_name": "ButtonModel",
      "state": {
       "description": "Close",
       "layout": "IPY_MODEL_7dd5e76d6d1f458aa8467f00e38e81ec",
       "style": "IPY_MODEL_d8124945cf0a40e0b99e19cbd8f367df",
       "tooltip": null
      }
     },
     "8b1b760635a84f8285ec40d8a2783d90": {
      "model_module": "@jupyter-widgets/controls",
      "model_module_version": "2.0.0",
      "model_name": "VBoxModel",
      "state": {
       "children": [
        "IPY_MODEL_59dbef9de91e4ad38a25e5dce2295412",
        "IPY_MODEL_1e4b622c8cbc44caaa2c9800c85332a5"
       ],
       "layout": "IPY_MODEL_b72c07bc00084a6fa9e487771e72e9a4"
      }
     },
     "8b27980e73f54f26afcc5d6e568ee9ee": {
      "model_module": "@jupyter-widgets/controls",
      "model_module_version": "2.0.0",
      "model_name": "HTMLModel",
      "state": {
       "layout": "IPY_MODEL_8d22831929294f5cbf0e657ea4789a7b",
       "style": "IPY_MODEL_512b861a5a5f456e8cc89f9162299197",
       "value": "<h2>Exercise Category</h2>"
      }
     },
     "8b4a913c3fa04d62bc70a558683c1e3b": {
      "model_module": "@jupyter-widgets/controls",
      "model_module_version": "2.0.0",
      "model_name": "ButtonModel",
      "state": {
       "description": "Clear",
       "layout": "IPY_MODEL_885c341c85ff4b658dcc2c563d7d7322",
       "style": "IPY_MODEL_a3cec49613ba4e62b447538374d1f2d5",
       "tooltip": null
      }
     },
     "8c0975f1720148a787810bb8824701c5": {
      "model_module": "@jupyter-widgets/controls",
      "model_module_version": "2.0.0",
      "model_name": "ButtonStyleModel",
      "state": {
       "font_family": null,
       "font_size": null,
       "font_style": null,
       "font_variant": null,
       "font_weight": null,
       "text_color": null,
       "text_decoration": null
      }
     },
     "8c16eeeebe5044fc88c434eb4e66756a": {
      "model_module": "@jupyter-widgets/controls",
      "model_module_version": "2.0.0",
      "model_name": "HBoxModel",
      "state": {
       "children": [
        "IPY_MODEL_3954134955e040a9be2dfbfd8a3bc6e9"
       ],
       "layout": "IPY_MODEL_3ecf1e9bcb034922a8a2a47ee876bf4f"
      }
     },
     "8c2369044f784bba80a4020eecb13338": {
      "model_module": "@jupyter-widgets/controls",
      "model_module_version": "2.0.0",
      "model_name": "HTMLModel",
      "state": {
       "layout": "IPY_MODEL_1eee85b041fe45e9ad6222ba0752fc75",
       "style": "IPY_MODEL_36f203c510574c6496969267dedf0066",
       "value": "<h5>\"Close Tab to Exit\"</h5>"
      }
     },
     "8c23e96661344b718dbb84f6da3bbdc3": {
      "model_module": "@jupyter-widgets/controls",
      "model_module_version": "2.0.0",
      "model_name": "CheckboxStyleModel",
      "state": {
       "description_width": ""
      }
     },
     "8c36838f41af4275b86a3db091714d83": {
      "model_module": "@jupyter-widgets/base",
      "model_module_version": "2.0.0",
      "model_name": "LayoutModel",
      "state": {
       "height": "40px",
       "width": "140px"
      }
     },
     "8c517380fbc14c19b7bfda7696576c2f": {
      "model_module": "@jupyter-widgets/controls",
      "model_module_version": "2.0.0",
      "model_name": "ButtonModel",
      "state": {
       "description": "Instruction",
       "icon": "comment",
       "layout": "IPY_MODEL_3630f3560bce4f0f953776842b731604",
       "style": "IPY_MODEL_5f2a78149c3d431f99e6ba1a29bc9fff",
       "tooltip": "0"
      }
     },
     "8c5efedfa33946248f318e6f565d4ce1": {
      "model_module": "@jupyter-widgets/controls",
      "model_module_version": "2.0.0",
      "model_name": "HBoxModel",
      "state": {
       "children": [
        "IPY_MODEL_5fc463c9040948a19eda092828e3b4b5"
       ],
       "layout": "IPY_MODEL_57b41b79346740dbb7201c2f6e51ee01"
      }
     },
     "8ca53e7f0eed45dd811d4bdcd9843fa5": {
      "model_module": "@jupyter-widgets/base",
      "model_module_version": "2.0.0",
      "model_name": "LayoutModel",
      "state": {
       "height": "40px",
       "width": "160px"
      }
     },
     "8cc5e514c0424f4eb28b12b9e417b452": {
      "model_module": "@jupyter-widgets/controls",
      "model_module_version": "2.0.0",
      "model_name": "ButtonModel",
      "state": {
       "description": "Instruction",
       "icon": "comment",
       "layout": "IPY_MODEL_6002a38c51c743fb9b8946fc8a50e84f",
       "style": "IPY_MODEL_eb573c711953449fba97801a421e17e0",
       "tooltip": "0"
      }
     },
     "8cda2bf45acd40f98715018601bb8d1b": {
      "model_module": "@jupyter-widgets/controls",
      "model_module_version": "2.0.0",
      "model_name": "ButtonModel",
      "state": {
       "description": "Close",
       "layout": "IPY_MODEL_3bed77eeaffe41c8a1d5ac8f25c93450",
       "style": "IPY_MODEL_281661b84d6749d39e5bc6ba83be809a",
       "tooltip": null
      }
     },
     "8cfbfcd99c4e4ac6a48555c32d184cc0": {
      "model_module": "@jupyter-widgets/base",
      "model_module_version": "2.0.0",
      "model_name": "LayoutModel",
      "state": {}
     },
     "8d22831929294f5cbf0e657ea4789a7b": {
      "model_module": "@jupyter-widgets/base",
      "model_module_version": "2.0.0",
      "model_name": "LayoutModel",
      "state": {}
     },
     "8d2321b568064936b7b48f3fcc55f1fe": {
      "model_module": "@jupyter-widgets/controls",
      "model_module_version": "2.0.0",
      "model_name": "VBoxModel",
      "state": {
       "children": [
        "IPY_MODEL_d692065a529241d984ebcef559bc8188"
       ],
       "layout": "IPY_MODEL_238a6ba30861468bb971dd36f1566261"
      }
     },
     "8d3c94f43d2042398ae41944812e30ee": {
      "model_module": "@jupyter-widgets/controls",
      "model_module_version": "2.0.0",
      "model_name": "ButtonStyleModel",
      "state": {
       "font_family": null,
       "font_size": null,
       "font_style": null,
       "font_variant": null,
       "font_weight": null,
       "text_color": null,
       "text_decoration": null
      }
     },
     "8d49609e8f594483a9d34c13871248c1": {
      "model_module": "@jupyter-widgets/base",
      "model_module_version": "2.0.0",
      "model_name": "LayoutModel",
      "state": {
       "height": "55px",
       "width": "120px"
      }
     },
     "8d4c1c9066744726bb29e89041844f0b": {
      "model_module": "@jupyter-widgets/base",
      "model_module_version": "2.0.0",
      "model_name": "LayoutModel",
      "state": {}
     },
     "8dac4d2d67334410b763bb34e8aa8510": {
      "model_module": "@jupyter-widgets/controls",
      "model_module_version": "2.0.0",
      "model_name": "BoxModel",
      "state": {
       "children": [
        "IPY_MODEL_91daae267d5947688079a728add902dd",
        "IPY_MODEL_a674a2da18ef4e5a8269a24a0443fd9c"
       ],
       "layout": "IPY_MODEL_d6dc5d3bea6a464994af347047f499b3"
      }
     },
     "8db09bda61314b98a67d5475f99888f2": {
      "model_module": "@jupyter-widgets/base",
      "model_module_version": "2.0.0",
      "model_name": "LayoutModel",
      "state": {}
     },
     "8dd42e50d3544f43abb4504e1791577a": {
      "model_module": "@jupyter-widgets/controls",
      "model_module_version": "2.0.0",
      "model_name": "HBoxModel",
      "state": {
       "children": [
        "IPY_MODEL_eed553c196a3438cac520bcaa4708cee"
       ],
       "layout": "IPY_MODEL_0a5a178ae49a4ad8a583b2d28398fd3a"
      }
     },
     "8e0ced18d39d41d687b794c712234e71": {
      "model_module": "@jupyter-widgets/base",
      "model_module_version": "2.0.0",
      "model_name": "LayoutModel",
      "state": {
       "height": "40px",
       "width": "140px"
      }
     },
     "8e3bf0d2be8b4b9a8fe3d4a67755f575": {
      "model_module": "@jupyter-widgets/controls",
      "model_module_version": "2.0.0",
      "model_name": "CheckboxStyleModel",
      "state": {
       "description_width": ""
      }
     },
     "8e6a7d7d03194040b95d841e85feeb7e": {
      "model_module": "@jupyter-widgets/base",
      "model_module_version": "2.0.0",
      "model_name": "LayoutModel",
      "state": {
       "height": "40px",
       "width": "120px"
      }
     },
     "8e88230de75c4a8693e5d2e41c8225bd": {
      "model_module": "@jupyter-widgets/controls",
      "model_module_version": "2.0.0",
      "model_name": "VBoxModel",
      "state": {
       "children": [
        "IPY_MODEL_db1eda263bf746a7abadde1e234c7c6c",
        "IPY_MODEL_d2e780c1c71c4916a02d2f65e9bf556c",
        "IPY_MODEL_072b0a09938a4ab9bf8c6ae1533cc2e1",
        "IPY_MODEL_58e57dbbe68844268c621c847fecd9f8"
       ],
       "layout": "IPY_MODEL_cbde50b186044b67a66a1e731e78da58"
      }
     },
     "8e93ab953e954e2fb8b7a5b13284f2e4": {
      "model_module": "@jupyter-widgets/controls",
      "model_module_version": "2.0.0",
      "model_name": "ButtonStyleModel",
      "state": {
       "font_family": null,
       "font_size": null,
       "font_style": null,
       "font_variant": null,
       "font_weight": null,
       "text_color": null,
       "text_decoration": null
      }
     },
     "8f227c18a8da40a9ad39325f230668cd": {
      "model_module": "@jupyter-widgets/controls",
      "model_module_version": "2.0.0",
      "model_name": "VBoxModel",
      "state": {
       "children": [
        "IPY_MODEL_042cf0a4bf354cef892a0ea8bb66cdb0",
        "IPY_MODEL_1ee475e55e104672a446ae0d3b75147b",
        "IPY_MODEL_76b0e382e7b24917a1ef9694fe4fd8b2",
        "IPY_MODEL_ba3a63cdd9874d519aa492b47e6e399b"
       ],
       "layout": "IPY_MODEL_d7bbb78bbf6c45098c5e12b81b6d4e7f"
      }
     },
     "8f3c593a2c684fc5bdd8a486104c6aa6": {
      "model_module": "@jupyter-widgets/base",
      "model_module_version": "2.0.0",
      "model_name": "LayoutModel",
      "state": {
       "height": "200px"
      }
     },
     "8f474dc593064b659e1117f742417444": {
      "model_module": "@jupyter-widgets/base",
      "model_module_version": "2.0.0",
      "model_name": "LayoutModel",
      "state": {
       "height": "55px",
       "width": "80px"
      }
     },
     "8f77f4fecb4b48778e296e0aec0d32d6": {
      "model_module": "@jupyter-widgets/base",
      "model_module_version": "2.0.0",
      "model_name": "LayoutModel",
      "state": {
       "height": "55px",
       "width": "80px"
      }
     },
     "8f7b1f1a97ab4b5d9350e2d0006af8d6": {
      "model_module": "@jupyter-widgets/base",
      "model_module_version": "2.0.0",
      "model_name": "LayoutModel",
      "state": {}
     },
     "8fd2ad5a5b62448b8ea765d593ccc762": {
      "model_module": "@jupyter-widgets/base",
      "model_module_version": "2.0.0",
      "model_name": "LayoutModel",
      "state": {
       "height": "40px",
       "width": "160px"
      }
     },
     "8fdab301ddfc47be9f560d79e6a6a88b": {
      "model_module": "@jupyter-widgets/controls",
      "model_module_version": "2.0.0",
      "model_name": "CheckboxStyleModel",
      "state": {
       "description_width": ""
      }
     },
     "8fe2fcac2610487a8af32703ed351efb": {
      "model_module": "@jupyter-widgets/base",
      "model_module_version": "2.0.0",
      "model_name": "LayoutModel",
      "state": {}
     },
     "900d7fde2bbf4b8689dd0e94346efe72": {
      "model_module": "@jupyter-widgets/controls",
      "model_module_version": "2.0.0",
      "model_name": "CheckboxStyleModel",
      "state": {
       "description_width": ""
      }
     },
     "901877d66d0649fbbd691acf5dfc1376": {
      "model_module": "@jupyter-widgets/base",
      "model_module_version": "2.0.0",
      "model_name": "LayoutModel",
      "state": {}
     },
     "903d6f12fe724aeb9c9b1c8573e2f2c7": {
      "model_module": "@jupyter-widgets/controls",
      "model_module_version": "2.0.0",
      "model_name": "CheckboxStyleModel",
      "state": {
       "description_width": ""
      }
     },
     "903f8ce508ab44d1bf6269b1833a1403": {
      "model_module": "@jupyter-widgets/base",
      "model_module_version": "2.0.0",
      "model_name": "LayoutModel",
      "state": {
       "height": "40px",
       "width": "140px"
      }
     },
     "908eebe3fc704067a59a3919739c6cc2": {
      "model_module": "@jupyter-widgets/controls",
      "model_module_version": "2.0.0",
      "model_name": "HTMLModel",
      "state": {
       "layout": "IPY_MODEL_eee285dfb00d4801baac8e0120095cb8",
       "style": "IPY_MODEL_4322c75ffc9144ca9e717b334504ab4b",
       "value": "<h1>Random Excercise Generator</h1>"
      }
     },
     "90d9b7f13b2b40e9a53ea250d6752b10": {
      "model_module": "@jupyter-widgets/controls",
      "model_module_version": "2.0.0",
      "model_name": "BoxModel",
      "state": {
       "children": [
        "IPY_MODEL_40e0473041f645b096537fe149d85d50",
        "IPY_MODEL_453a25638a5c4458945173e23bc69fd6"
       ],
       "layout": "IPY_MODEL_24236702e3c94c30ab1eb1c8a62673ef"
      }
     },
     "90f9edfc3278487a96ff736cc8657387": {
      "model_module": "@jupyter-widgets/base",
      "model_module_version": "2.0.0",
      "model_name": "LayoutModel",
      "state": {
       "height": "55px",
       "width": "80px"
      }
     },
     "913578142df14fb4924258860081a74d": {
      "model_module": "@jupyter-widgets/base",
      "model_module_version": "2.0.0",
      "model_name": "LayoutModel",
      "state": {}
     },
     "913ad197baa44b2aa717c1d91078e33e": {
      "model_module": "@jupyter-widgets/base",
      "model_module_version": "2.0.0",
      "model_name": "LayoutModel",
      "state": {
       "height": "55px",
       "width": "120px"
      }
     },
     "9183163510c34920b7b1f736741ecb19": {
      "model_module": "@jupyter-widgets/base",
      "model_module_version": "2.0.0",
      "model_name": "LayoutModel",
      "state": {}
     },
     "918f4f45ed5e4794bae43f77226405a3": {
      "model_module": "@jupyter-widgets/controls",
      "model_module_version": "2.0.0",
      "model_name": "VBoxModel",
      "state": {
       "children": [
        "IPY_MODEL_4cd4b7d9fcad48fab09581e9611990b0",
        "IPY_MODEL_2102b1048a364a70964fddcbd06867f8"
       ],
       "layout": "IPY_MODEL_c9a939fc76034be1b63814f239d7333f"
      }
     },
     "9193dee669444885ba0ff960f1ff1132": {
      "model_module": "@jupyter-widgets/controls",
      "model_module_version": "2.0.0",
      "model_name": "HBoxModel",
      "state": {
       "children": [
        "IPY_MODEL_9bea6f77651d43c3ab5a4e6d8d69e1d7",
        "IPY_MODEL_6947a1a16b2840408d9c848600df0e31",
        "IPY_MODEL_8d2321b568064936b7b48f3fcc55f1fe",
        "IPY_MODEL_450d80f1639e43e1a7328b0f1e2722e1"
       ],
       "layout": "IPY_MODEL_def900bd24a544798d6cd7dad1dcd9e5"
      }
     },
     "91daae267d5947688079a728add902dd": {
      "model_module": "@jupyter-widgets/controls",
      "model_module_version": "2.0.0",
      "model_name": "VBoxModel",
      "state": {
       "children": [
        "IPY_MODEL_9bc5ddbfc687484481232ef29e1cbaf0",
        "IPY_MODEL_1143b818e0604b79b0cbc32122640c03"
       ],
       "layout": "IPY_MODEL_75423c03af174911a04b362bae2edd53"
      }
     },
     "91e60a71e10c4a4498e51b739d5f1d4e": {
      "model_module": "@jupyter-widgets/base",
      "model_module_version": "2.0.0",
      "model_name": "LayoutModel",
      "state": {}
     },
     "92270859270f4896b946c376c62f88be": {
      "model_module": "@jupyter-widgets/base",
      "model_module_version": "2.0.0",
      "model_name": "LayoutModel",
      "state": {}
     },
     "925118df400a4343b2310b46a76d9a0b": {
      "model_module": "@jupyter-widgets/base",
      "model_module_version": "2.0.0",
      "model_name": "LayoutModel",
      "state": {
       "height": "40px",
       "width": "160px"
      }
     },
     "92ab0b10e74f43da9edd84f196e68895": {
      "model_module": "@jupyter-widgets/base",
      "model_module_version": "2.0.0",
      "model_name": "LayoutModel",
      "state": {
       "height": "120px",
       "width": "100px"
      }
     },
     "92dbd41563414254aa077017f0796153": {
      "model_module": "@jupyter-widgets/base",
      "model_module_version": "2.0.0",
      "model_name": "LayoutModel",
      "state": {
       "height": "120px",
       "width": "100px"
      }
     },
     "92eb286d47e94cc595ba7cbe78d56c53": {
      "model_module": "@jupyter-widgets/controls",
      "model_module_version": "2.0.0",
      "model_name": "CheckboxModel",
      "state": {
       "description": "body only",
       "disabled": false,
       "indent": false,
       "layout": "IPY_MODEL_7653378256b04cc999336c84481d1842",
       "style": "IPY_MODEL_20ec9af866b24ba49ec44a67591957d1",
       "value": true
      }
     },
     "93499e0873ad49deaee1324c7214f021": {
      "model_module": "@jupyter-widgets/base",
      "model_module_version": "2.0.0",
      "model_name": "LayoutModel",
      "state": {
       "height": "40px",
       "width": "160px"
      }
     },
     "942a2178796d410d93960cda909733a0": {
      "model_module": "@jupyter-widgets/controls",
      "model_module_version": "2.0.0",
      "model_name": "ButtonModel",
      "state": {
       "description": "Photo",
       "layout": "IPY_MODEL_3e094f56b48545da9cca369b0c3bd4ef",
       "style": "IPY_MODEL_057e91abe6cc486dbfadcbc138bcc1ab",
       "tooltip": null
      }
     },
     "942fe0d4c1734f459db80a7d606264fc": {
      "model_module": "@jupyter-widgets/controls",
      "model_module_version": "2.0.0",
      "model_name": "HBoxModel",
      "state": {
       "children": [
        "IPY_MODEL_b070b78926524840a9269170f55312b5"
       ],
       "layout": "IPY_MODEL_66ee422ccb9d47d4b074eb875831544e"
      }
     },
     "9460c63e8d53411380c061be532c1da4": {
      "model_module": "@jupyter-widgets/controls",
      "model_module_version": "2.0.0",
      "model_name": "HTMLModel",
      "state": {
       "layout": "IPY_MODEL_d482bdf434ff4371b58cc699a5ee4654",
       "style": "IPY_MODEL_f38f45c47b4b4765a33ddaec21a98174",
       "value": "<h3>Lower_Body</h3>"
      }
     },
     "9472314d8ceb41bfac8a6a818cbeb1b2": {
      "model_module": "@jupyter-widgets/controls",
      "model_module_version": "2.0.0",
      "model_name": "ButtonStyleModel",
      "state": {
       "font_family": null,
       "font_size": null,
       "font_style": null,
       "font_variant": null,
       "font_weight": null,
       "text_color": null,
       "text_decoration": null
      }
     },
     "94bc55341c154a3695c91150d38cc2a7": {
      "model_module": "@jupyter-widgets/controls",
      "model_module_version": "2.0.0",
      "model_name": "VBoxModel",
      "state": {
       "children": [
        "IPY_MODEL_fa32e89d0073497b8b6af377f72ed5c6",
        "IPY_MODEL_6530f5560732467ba67344f995f3bef9",
        "IPY_MODEL_1d3cd727c1dd43b98ca580fa21b38723"
       ],
       "layout": "IPY_MODEL_a2154c8d50034c2ebd33f50d04bc463e"
      }
     },
     "94c158d672d04e3f820b19a88c51abfb": {
      "model_module": "@jupyter-widgets/controls",
      "model_module_version": "2.0.0",
      "model_name": "HBoxModel",
      "state": {
       "children": [
        "IPY_MODEL_2e1e28a513de4ea1a4370284f544fe9a"
       ],
       "layout": "IPY_MODEL_19ffa71158e148e8b07c15545a34f179"
      }
     },
     "94fd93fa04d84025b951f5642fe2cbc6": {
      "model_module": "@jupyter-widgets/output",
      "model_module_version": "1.0.0",
      "model_name": "OutputModel",
      "state": {
       "layout": "IPY_MODEL_79e6ebf27d1940c3a32e72fe8b991077",
       "outputs": [
        {
         "data": {
          "application/vnd.jupyter.widget-view+json": {
           "model_id": "c1b8d1776deb4601bac90558108494d7",
           "version_major": 2,
           "version_minor": 0
          },
          "text/plain": "VBox(children=(Box(children=(HBox(children=(HTML(value='<h2>Exercise Category</h2>'),)), Button(description='C…"
         },
         "metadata": {},
         "output_type": "display_data"
        }
       ]
      }
     },
     "950d601a80694788a8d97eb6774855c8": {
      "model_module": "@jupyter-widgets/controls",
      "model_module_version": "2.0.0",
      "model_name": "CheckboxStyleModel",
      "state": {
       "description_width": ""
      }
     },
     "951ce71de1b54acfb839546b9afdf1b7": {
      "model_module": "@jupyter-widgets/controls",
      "model_module_version": "2.0.0",
      "model_name": "ButtonStyleModel",
      "state": {
       "font_family": null,
       "font_size": null,
       "font_style": null,
       "font_variant": null,
       "font_weight": null,
       "text_color": null,
       "text_decoration": null
      }
     },
     "9528dce938a44f1e91a8763b72468550": {
      "model_module": "@jupyter-widgets/base",
      "model_module_version": "2.0.0",
      "model_name": "LayoutModel",
      "state": {}
     },
     "959a8c0e6779434dbed7820bd248aec2": {
      "model_module": "@jupyter-widgets/controls",
      "model_module_version": "2.0.0",
      "model_name": "HTMLModel",
      "state": {
       "layout": "IPY_MODEL_64608c1953f443c090a3473aeda383d1",
       "style": "IPY_MODEL_5018a48a822741298d4bd56bc9fbb29a",
       "value": "<h1>Results</h1>"
      }
     },
     "95ba7e59212b47aebfc36d0b2f90a223": {
      "model_module": "@jupyter-widgets/controls",
      "model_module_version": "2.0.0",
      "model_name": "VBoxModel",
      "state": {
       "children": [
        "IPY_MODEL_cab3e6896d0b4422bdef5dd1d8b0ae5e",
        "IPY_MODEL_181228ea016f494b9fcd410019748589"
       ],
       "layout": "IPY_MODEL_4a4ff0cc85e6491a82b0b2a9f22724a5"
      }
     },
     "964962af54b64c27bf2d92217c3a0138": {
      "model_module": "@jupyter-widgets/controls",
      "model_module_version": "2.0.0",
      "model_name": "ButtonModel",
      "state": {
       "description": "Body Area",
       "layout": "IPY_MODEL_92dbd41563414254aa077017f0796153",
       "style": "IPY_MODEL_4cab25fdf96d4b9db8b313b1bfd76cc3",
       "tooltip": null
      }
     },
     "96d502023ce34676ad3dc95fe12aabc4": {
      "model_module": "@jupyter-widgets/controls",
      "model_module_version": "2.0.0",
      "model_name": "CheckboxStyleModel",
      "state": {
       "description_width": ""
      }
     },
     "970e3405a53f43a392f8ae7093b77217": {
      "model_module": "@jupyter-widgets/controls",
      "model_module_version": "2.0.0",
      "model_name": "CheckboxModel",
      "state": {
       "description": "kettlebells",
       "disabled": false,
       "indent": false,
       "layout": "IPY_MODEL_508f14a575aa45a1a10d35a8a33dc2fd",
       "style": "IPY_MODEL_e6a30410b3b943b0a744be8d19a3e4ed",
       "value": true
      }
     },
     "972068b7b69f4b41946602f92d0d097d": {
      "model_module": "@jupyter-widgets/base",
      "model_module_version": "2.0.0",
      "model_name": "LayoutModel",
      "state": {}
     },
     "974244b74d0245039e242f1bb387c484": {
      "model_module": "@jupyter-widgets/base",
      "model_module_version": "2.0.0",
      "model_name": "LayoutModel",
      "state": {
       "height": "55px",
       "width": "80px"
      }
     },
     "978407607621439287987397118a7176": {
      "model_module": "@jupyter-widgets/controls",
      "model_module_version": "2.0.0",
      "model_name": "CheckboxModel",
      "state": {
       "description": "cardio",
       "disabled": false,
       "indent": false,
       "layout": "IPY_MODEL_84914b016a1b4b49912813cdc2024d9f",
       "style": "IPY_MODEL_3093a8bda6f94e54819c121704e5caa5",
       "value": true
      }
     },
     "97ca38dd9423447ab537c6cbc27680fa": {
      "model_module": "@jupyter-widgets/controls",
      "model_module_version": "2.0.0",
      "model_name": "ButtonModel",
      "state": {
       "description": "Close",
       "layout": "IPY_MODEL_90f9edfc3278487a96ff736cc8657387",
       "style": "IPY_MODEL_c95d808722884f568858ac5707b055b0",
       "tooltip": null
      }
     },
     "980b7e8e619f4ebfa1b03e02ee5845e1": {
      "model_module": "@jupyter-widgets/base",
      "model_module_version": "2.0.0",
      "model_name": "LayoutModel",
      "state": {
       "height": "55px",
       "width": "80px"
      }
     },
     "9818955f9aa841e8a0ab6b95b798ebc0": {
      "model_module": "@jupyter-widgets/base",
      "model_module_version": "2.0.0",
      "model_name": "LayoutModel",
      "state": {
       "height": "40px",
       "width": "120px"
      }
     },
     "982d5e323ef442be9a2576b11aed4fcc": {
      "model_module": "@jupyter-widgets/base",
      "model_module_version": "2.0.0",
      "model_name": "LayoutModel",
      "state": {}
     },
     "989f8be0c009449e97b4bf62c9507892": {
      "model_module": "@jupyter-widgets/controls",
      "model_module_version": "2.0.0",
      "model_name": "HBoxModel",
      "state": {
       "children": [
        "IPY_MODEL_4d90e34e7c174bf5808cfbfe97a903e1"
       ],
       "layout": "IPY_MODEL_4f4b067cd28d4f42842bb7d97f99642a"
      }
     },
     "98f2066183054a25842e5f54666adc20": {
      "model_module": "@jupyter-widgets/controls",
      "model_module_version": "2.0.0",
      "model_name": "ButtonStyleModel",
      "state": {
       "font_family": null,
       "font_size": null,
       "font_style": null,
       "font_variant": null,
       "font_weight": null,
       "text_color": null,
       "text_decoration": null
      }
     },
     "98ff6eea862f41de8e7883b91487b968": {
      "model_module": "@jupyter-widgets/controls",
      "model_module_version": "2.0.0",
      "model_name": "HTMLModel",
      "state": {
       "layout": "IPY_MODEL_f3c823832b5b4046910d2015c7166b3c",
       "style": "IPY_MODEL_387664b752914439b40a4455214011f6",
       "value": "<h1>Random Excercise Generator</h1>"
      }
     },
     "99110cd1cd2e4b63ad562a770e4cb9cd": {
      "model_module": "@jupyter-widgets/base",
      "model_module_version": "2.0.0",
      "model_name": "LayoutModel",
      "state": {}
     },
     "9913199c2df64b6d8ae3535ac4ca54c4": {
      "model_module": "@jupyter-widgets/controls",
      "model_module_version": "2.0.0",
      "model_name": "CheckboxModel",
      "state": {
       "description": "e-z curl bar",
       "disabled": false,
       "indent": false,
       "layout": "IPY_MODEL_5c3379196ad2471c808bfe7bae10745b",
       "style": "IPY_MODEL_4af3ddf3dc9e4799886cc4d739d2d197",
       "value": true
      }
     },
     "998ead9214f041e091b52b0b9c1bd5eb": {
      "model_module": "@jupyter-widgets/controls",
      "model_module_version": "2.0.0",
      "model_name": "ButtonStyleModel",
      "state": {
       "font_family": null,
       "font_size": null,
       "font_style": null,
       "font_variant": null,
       "font_weight": null,
       "text_color": null,
       "text_decoration": null
      }
     },
     "99ac04405e694bb1b98dc19922cfd4a7": {
      "model_module": "@jupyter-widgets/controls",
      "model_module_version": "2.0.0",
      "model_name": "CheckboxStyleModel",
      "state": {
       "description_width": ""
      }
     },
     "9a0ed18d47804eb0a46801fefb3dd3b8": {
      "model_module": "@jupyter-widgets/base",
      "model_module_version": "2.0.0",
      "model_name": "LayoutModel",
      "state": {}
     },
     "9a1f14a6099243c48ce5dacd0cd04d89": {
      "model_module": "@jupyter-widgets/controls",
      "model_module_version": "2.0.0",
      "model_name": "CheckboxModel",
      "state": {
       "description": "foam roll",
       "disabled": false,
       "indent": false,
       "layout": "IPY_MODEL_7b2132813f164279b878659fff8e0d35",
       "style": "IPY_MODEL_3b8633b13e42444aaf61250bc4aedc8f",
       "value": true
      }
     },
     "9a4d836066b14c58b8983fb4e98a377c": {
      "model_module": "@jupyter-widgets/controls",
      "model_module_version": "2.0.0",
      "model_name": "CheckboxModel",
      "state": {
       "description": "cardio",
       "disabled": false,
       "indent": false,
       "layout": "IPY_MODEL_b3dcd52af40d49e490d3443a75f9a72c",
       "style": "IPY_MODEL_8c23e96661344b718dbb84f6da3bbdc3",
       "value": true
      }
     },
     "9a4ecf6c53824266947cc21150504ac6": {
      "model_module": "@jupyter-widgets/controls",
      "model_module_version": "2.0.0",
      "model_name": "VBoxModel",
      "state": {
       "children": [
        "IPY_MODEL_5f6361d2fe544222a5b0fe6dd60e1e68",
        "IPY_MODEL_1e8e621f11b047208dea5a10b3db720a"
       ],
       "layout": "IPY_MODEL_055e2502e9af4affb3bb66d250d425c9"
      }
     },
     "9a9b3c34cf754ade86a4c6b713ef8bd6": {
      "model_module": "@jupyter-widgets/controls",
      "model_module_version": "2.0.0",
      "model_name": "HTMLModel",
      "state": {
       "layout": "IPY_MODEL_4ea6a834d1594a18af658042fa084100",
       "style": "IPY_MODEL_e3f30fdcba7d496a8da4c42576090389",
       "value": "<h2>Body Area</h2>"
      }
     },
     "9aa80037ce244b9f90ee6340537768cb": {
      "model_module": "@jupyter-widgets/controls",
      "model_module_version": "2.0.0",
      "model_name": "CheckboxStyleModel",
      "state": {
       "description_width": ""
      }
     },
     "9aae32ddcdcb41ff94bc8c968c4694c0": {
      "model_module": "@jupyter-widgets/controls",
      "model_module_version": "2.0.0",
      "model_name": "ButtonStyleModel",
      "state": {
       "font_family": null,
       "font_size": null,
       "font_style": null,
       "font_variant": null,
       "font_weight": null,
       "text_color": null,
       "text_decoration": null
      }
     },
     "9b5b0bda56634455af991d2e561a49d2": {
      "model_module": "@jupyter-widgets/controls",
      "model_module_version": "2.0.0",
      "model_name": "ButtonModel",
      "state": {
       "description": "Photo",
       "layout": "IPY_MODEL_fe044c30e80c43d8a99fc7233161f873",
       "style": "IPY_MODEL_a38dae880b8d423988afb5f7eaff41df",
       "tooltip": null
      }
     },
     "9b7833eae3fa4058b8b424397976670c": {
      "model_module": "@jupyter-widgets/base",
      "model_module_version": "2.0.0",
      "model_name": "LayoutModel",
      "state": {}
     },
     "9ba2896f7dbf4e86a0996bc64cd123c9": {
      "model_module": "@jupyter-widgets/controls",
      "model_module_version": "2.0.0",
      "model_name": "ButtonStyleModel",
      "state": {
       "font_family": null,
       "font_size": null,
       "font_style": null,
       "font_variant": null,
       "font_weight": null,
       "text_color": null,
       "text_decoration": null
      }
     },
     "9bb2ff1b7446446bb839c3570668638b": {
      "model_module": "@jupyter-widgets/controls",
      "model_module_version": "2.0.0",
      "model_name": "CheckboxStyleModel",
      "state": {
       "description_width": ""
      }
     },
     "9bc5ddbfc687484481232ef29e1cbaf0": {
      "model_module": "@jupyter-widgets/controls",
      "model_module_version": "2.0.0",
      "model_name": "HTMLModel",
      "state": {
       "layout": "IPY_MODEL_3c1df31e0cf344aa9256ca7e94b96b10",
       "style": "IPY_MODEL_6b33e24ab7304bb6966b8105010bb6f7",
       "value": "Cable Rope Rear-Delt Rows"
      }
     },
     "9bea6f77651d43c3ab5a4e6d8d69e1d7": {
      "model_module": "@jupyter-widgets/controls",
      "model_module_version": "2.0.0",
      "model_name": "VBoxModel",
      "state": {
       "children": [
        "IPY_MODEL_1340a7fef10f4912a57cba432ef67016",
        "IPY_MODEL_ea702000b1154f1ca56f0f6a0ac13db7"
       ],
       "layout": "IPY_MODEL_45810e78c42040dda3032043b201282a"
      }
     },
     "9c10e5ea123546d5a3c39185ced1b429": {
      "model_module": "@jupyter-widgets/base",
      "model_module_version": "2.0.0",
      "model_name": "LayoutModel",
      "state": {
       "height": "55px",
       "width": "80px"
      }
     },
     "9c1d2fe561344ae9b25518250bd90554": {
      "model_module": "@jupyter-widgets/base",
      "model_module_version": "2.0.0",
      "model_name": "LayoutModel",
      "state": {
       "height": "120px",
       "width": "100px"
      }
     },
     "9c63b7e31e994e73b07213182386d19a": {
      "model_module": "@jupyter-widgets/base",
      "model_module_version": "2.0.0",
      "model_name": "LayoutModel",
      "state": {}
     },
     "9c65aff142f643a5a01ba7e2335accd6": {
      "model_module": "@jupyter-widgets/base",
      "model_module_version": "2.0.0",
      "model_name": "LayoutModel",
      "state": {
       "height": "40px",
       "width": "120px"
      }
     },
     "9cd729737ae74484ac110312b4de4263": {
      "model_module": "@jupyter-widgets/controls",
      "model_module_version": "2.0.0",
      "model_name": "CheckboxModel",
      "state": {
       "description": "machine",
       "disabled": false,
       "indent": false,
       "layout": "IPY_MODEL_c393334d9b004d179f2a50c1c984dd11",
       "style": "IPY_MODEL_c7af3d6909474d7d861c88ca9b558c2f",
       "value": true
      }
     },
     "9d8a83bdb02a42b5937a347eb72b2564": {
      "model_module": "@jupyter-widgets/controls",
      "model_module_version": "2.0.0",
      "model_name": "HTMLStyleModel",
      "state": {
       "description_width": "",
       "font_size": null,
       "text_color": null
      }
     },
     "9dbc57841a9a450a86f82f288f01deae": {
      "model_module": "@jupyter-widgets/base",
      "model_module_version": "2.0.0",
      "model_name": "LayoutModel",
      "state": {}
     },
     "9de903800be14193959fa6e92f315763": {
      "model_module": "@jupyter-widgets/controls",
      "model_module_version": "2.0.0",
      "model_name": "HTMLStyleModel",
      "state": {
       "description_width": "",
       "font_size": null,
       "text_color": null
      }
     },
     "9deb0d4ab02e4b9b8d9d323f2f4aa7f9": {
      "model_module": "@jupyter-widgets/base",
      "model_module_version": "2.0.0",
      "model_name": "LayoutModel",
      "state": {
       "height": "55px",
       "width": "120px"
      }
     },
     "9e9bda32529441a1bc496fd325fbd4d0": {
      "model_module": "@jupyter-widgets/base",
      "model_module_version": "2.0.0",
      "model_name": "LayoutModel",
      "state": {
       "height": "40px",
       "width": "120px"
      }
     },
     "9f1a7221fe084d05b7d578eb0a016d88": {
      "model_module": "@jupyter-widgets/controls",
      "model_module_version": "2.0.0",
      "model_name": "HTMLModel",
      "state": {
       "layout": "IPY_MODEL_649bf6ae9b6c4099be46b064cefb3164",
       "style": "IPY_MODEL_86b44c53956c439cb7c5b1b31ea52f00",
       "value": "<h3>Upper Body</h3>"
      }
     },
     "9f242543cdd2427cae1f0dc1e588ecc9": {
      "model_module": "@jupyter-widgets/controls",
      "model_module_version": "2.0.0",
      "model_name": "CheckboxModel",
      "state": {
       "description": "kettlebells",
       "disabled": false,
       "indent": false,
       "layout": "IPY_MODEL_027e0f077ad048ca8649d3f9529e0288",
       "style": "IPY_MODEL_77ae4f1545a74e71b44d916787ce7b9b",
       "value": true
      }
     },
     "9f3010df6f7f4b868200668fcf2a7c9a": {
      "model_module": "@jupyter-widgets/controls",
      "model_module_version": "2.0.0",
      "model_name": "ButtonStyleModel",
      "state": {
       "font_family": null,
       "font_size": null,
       "font_style": null,
       "font_variant": null,
       "font_weight": null,
       "text_color": null,
       "text_decoration": null
      }
     },
     "9f46b3d3aad84329be1ed9e8d3bfd524": {
      "model_module": "@jupyter-widgets/base",
      "model_module_version": "2.0.0",
      "model_name": "LayoutModel",
      "state": {
       "height": "55px",
       "width": "120px"
      }
     },
     "9f50422e298f4d7fa63679c5f09185a3": {
      "model_module": "@jupyter-widgets/base",
      "model_module_version": "2.0.0",
      "model_name": "LayoutModel",
      "state": {}
     },
     "9f6546b642d147078269e37e469f9067": {
      "model_module": "@jupyter-widgets/base",
      "model_module_version": "2.0.0",
      "model_name": "LayoutModel",
      "state": {
       "height": "40px",
       "width": "140px"
      }
     },
     "9f664800058d493786a57eb51e65ddb8": {
      "model_module": "@jupyter-widgets/base",
      "model_module_version": "2.0.0",
      "model_name": "LayoutModel",
      "state": {
       "height": "120px",
       "width": "100px"
      }
     },
     "9ff84b2060214836b24d0f6bbed98a50": {
      "model_module": "@jupyter-widgets/controls",
      "model_module_version": "2.0.0",
      "model_name": "HTMLStyleModel",
      "state": {
       "description_width": "",
       "font_size": null,
       "text_color": null
      }
     },
     "a01a57ace8a64d629731d16568405790": {
      "model_module": "@jupyter-widgets/base",
      "model_module_version": "2.0.0",
      "model_name": "LayoutModel",
      "state": {}
     },
     "a0729f37b9de4fe092fb7af2b8253832": {
      "model_module": "@jupyter-widgets/controls",
      "model_module_version": "2.0.0",
      "model_name": "CheckboxModel",
      "state": {
       "description": "foam roll",
       "disabled": false,
       "indent": false,
       "layout": "IPY_MODEL_14ad3232aa39445f8d31ea7a8e243b54",
       "style": "IPY_MODEL_2ebfdd0664fe4fc9aafc8ce052554cce",
       "value": true
      }
     },
     "a0972db4fb6940898f3424ca92c67508": {
      "model_module": "@jupyter-widgets/base",
      "model_module_version": "2.0.0",
      "model_name": "LayoutModel",
      "state": {}
     },
     "a0ced56112fc4e0ba4ccd16f4de14f51": {
      "model_module": "@jupyter-widgets/base",
      "model_module_version": "2.0.0",
      "model_name": "LayoutModel",
      "state": {}
     },
     "a1099e43a29a4af596a64a298b4d5b12": {
      "model_module": "@jupyter-widgets/controls",
      "model_module_version": "2.0.0",
      "model_name": "HTMLStyleModel",
      "state": {
       "description_width": "",
       "font_size": null,
       "text_color": null
      }
     },
     "a17b3208bd044c6f95ab6419fd15cda8": {
      "model_module": "@jupyter-widgets/base",
      "model_module_version": "2.0.0",
      "model_name": "LayoutModel",
      "state": {
       "height": "55px",
       "width": "120px"
      }
     },
     "a19ed9f1fc3746599326b68eecbf66b9": {
      "model_module": "@jupyter-widgets/controls",
      "model_module_version": "2.0.0",
      "model_name": "VBoxModel",
      "state": {
       "children": [
        "IPY_MODEL_460091ee795647a3be5728bb9594ede6",
        "IPY_MODEL_94c158d672d04e3f820b19a88c51abfb"
       ],
       "layout": "IPY_MODEL_afc43ac3f9604b939d3442b49b055e30"
      }
     },
     "a1bec9589e2a473f9780eb41454a8ed9": {
      "model_module": "@jupyter-widgets/controls",
      "model_module_version": "2.0.0",
      "model_name": "ButtonModel",
      "state": {
       "description": "Close",
       "layout": "IPY_MODEL_298fc57f1e164f5086c5444ad05bb3d2",
       "style": "IPY_MODEL_6dd07db0c2704747b1383afda30f6f0c",
       "tooltip": null
      }
     },
     "a1db3ce5676e467fbcb4bfbf4b713c2d": {
      "model_module": "@jupyter-widgets/controls",
      "model_module_version": "2.0.0",
      "model_name": "ButtonStyleModel",
      "state": {
       "font_family": null,
       "font_size": null,
       "font_style": null,
       "font_variant": null,
       "font_weight": null,
       "text_color": null,
       "text_decoration": null
      }
     },
     "a1e05541b2024e3fb32eb0cd0e7b7add": {
      "model_module": "@jupyter-widgets/controls",
      "model_module_version": "2.0.0",
      "model_name": "ButtonStyleModel",
      "state": {
       "font_family": null,
       "font_size": null,
       "font_style": null,
       "font_variant": null,
       "font_weight": null,
       "text_color": null,
       "text_decoration": null
      }
     },
     "a1ec152482a043e18c9bd7d25e8bff72": {
      "model_module": "@jupyter-widgets/controls",
      "model_module_version": "2.0.0",
      "model_name": "CheckboxModel",
      "state": {
       "description": "foam roll",
       "disabled": false,
       "indent": false,
       "layout": "IPY_MODEL_824e60b865ec4ac28f3b2982c97788f8",
       "style": "IPY_MODEL_5f4701e9c3b0481ab5955683db8d7517",
       "value": true
      }
     },
     "a2154c8d50034c2ebd33f50d04bc463e": {
      "model_module": "@jupyter-widgets/base",
      "model_module_version": "2.0.0",
      "model_name": "LayoutModel",
      "state": {}
     },
     "a23c0ed5ab8d41bda25226facbf25156": {
      "model_module": "@jupyter-widgets/controls",
      "model_module_version": "2.0.0",
      "model_name": "BoxModel",
      "state": {
       "children": [
        "IPY_MODEL_e5ead1fe3fcd4cf792b6b20315a77897",
        "IPY_MODEL_435b806d01fb4446b46fb88c2f85618a"
       ],
       "layout": "IPY_MODEL_23852356c6e640e797b283486f811440"
      }
     },
     "a25569a543f44024b08323a09835fb82": {
      "model_module": "@jupyter-widgets/controls",
      "model_module_version": "2.0.0",
      "model_name": "HBoxModel",
      "state": {
       "children": [
        "IPY_MODEL_77a208ba0ec448b08cffe06c5f13999e"
       ],
       "layout": "IPY_MODEL_d0b299b9dedb40148ee160cdb68f02bd"
      }
     },
     "a26289d55e134378a25d13da29360bd0": {
      "model_module": "@jupyter-widgets/base",
      "model_module_version": "2.0.0",
      "model_name": "LayoutModel",
      "state": {
       "height": "55px",
       "width": "120px"
      }
     },
     "a283bd78dfe2493e96cad3674ad16e84": {
      "model_module": "@jupyter-widgets/controls",
      "model_module_version": "2.0.0",
      "model_name": "CheckboxModel",
      "state": {
       "description": "machine",
       "disabled": false,
       "indent": false,
       "layout": "IPY_MODEL_9c65aff142f643a5a01ba7e2335accd6",
       "style": "IPY_MODEL_820b709824294d428f5f64b25c87b49e",
       "value": true
      }
     },
     "a2c969ecde14412d831fb7fb9ecee381": {
      "model_module": "@jupyter-widgets/controls",
      "model_module_version": "2.0.0",
      "model_name": "CheckboxModel",
      "state": {
       "description": "strength",
       "disabled": false,
       "indent": false,
       "layout": "IPY_MODEL_5c81c7627cd846038cd3e55a4cc8347e",
       "style": "IPY_MODEL_697f090aee8d4ab58df8808d97c0de40",
       "value": true
      }
     },
     "a2e6581d54a84aabbcee1d74e09019be": {
      "model_module": "@jupyter-widgets/base",
      "model_module_version": "2.0.0",
      "model_name": "LayoutModel",
      "state": {}
     },
     "a2f0e678c10a4400a30f518eb015cb62": {
      "model_module": "@jupyter-widgets/controls",
      "model_module_version": "2.0.0",
      "model_name": "ButtonStyleModel",
      "state": {
       "font_family": null,
       "font_size": null,
       "font_style": null,
       "font_variant": null,
       "font_weight": null,
       "text_color": null,
       "text_decoration": null
      }
     },
     "a2f7e0e9b82242c4b360b6df32ab0ef9": {
      "model_module": "@jupyter-widgets/base",
      "model_module_version": "2.0.0",
      "model_name": "LayoutModel",
      "state": {
       "height": "55px",
       "width": "80px"
      }
     },
     "a354dc7b9dca40649a03aee6f5ea3ef9": {
      "model_module": "@jupyter-widgets/base",
      "model_module_version": "2.0.0",
      "model_name": "LayoutModel",
      "state": {}
     },
     "a38dae880b8d423988afb5f7eaff41df": {
      "model_module": "@jupyter-widgets/controls",
      "model_module_version": "2.0.0",
      "model_name": "ButtonStyleModel",
      "state": {
       "font_family": null,
       "font_size": null,
       "font_style": null,
       "font_variant": null,
       "font_weight": null,
       "text_color": null,
       "text_decoration": null
      }
     },
     "a393b8e9513a477d8cde9e2629243d5d": {
      "model_module": "@jupyter-widgets/controls",
      "model_module_version": "2.0.0",
      "model_name": "HBoxModel",
      "state": {
       "children": [
        "IPY_MODEL_4f6bf67d58d041c0841fd621c27b4d9b"
       ],
       "layout": "IPY_MODEL_99110cd1cd2e4b63ad562a770e4cb9cd"
      }
     },
     "a3a2c4b32395436fbba3421bc36c923d": {
      "model_module": "@jupyter-widgets/controls",
      "model_module_version": "2.0.0",
      "model_name": "VBoxModel",
      "state": {
       "children": [
        "IPY_MODEL_0e867de174cc4fd5ac70bf24048e41a2",
        "IPY_MODEL_c0d1aaeb668445e187f894897ea2cb84",
        "IPY_MODEL_bb8107ef6f6b47a389561ccfab01830e"
       ],
       "layout": "IPY_MODEL_25c8384d7da14d3dbab244a99714520f"
      }
     },
     "a3b40c75dc8a4ce48bcfcce4fbaf41b8": {
      "model_module": "@jupyter-widgets/controls",
      "model_module_version": "2.0.0",
      "model_name": "HTMLModel",
      "state": {
       "layout": "IPY_MODEL_da197572c2d24db1a31ef02ff32b9c4c",
       "style": "IPY_MODEL_b8963464c7034616b2715208f8d50f8f",
       "value": "<h2>Body Area</h2>"
      }
     },
     "a3cec49613ba4e62b447538374d1f2d5": {
      "model_module": "@jupyter-widgets/controls",
      "model_module_version": "2.0.0",
      "model_name": "ButtonStyleModel",
      "state": {
       "font_family": null,
       "font_size": null,
       "font_style": null,
       "font_variant": null,
       "font_weight": null,
       "text_color": null,
       "text_decoration": null
      }
     },
     "a3d05c0ed598456fb5f641b4da5680b3": {
      "model_module": "@jupyter-widgets/controls",
      "model_module_version": "2.0.0",
      "model_name": "VBoxModel",
      "state": {
       "children": [
        "IPY_MODEL_f659e5c7694f4de1931278df413dfd64",
        "IPY_MODEL_04a6428eb87f4df78f3fc49a5c10b397"
       ],
       "layout": "IPY_MODEL_05965cbea13e4b259361f0951d4e00ba"
      }
     },
     "a40cb4a7cde74d0e98d629bf1ae87e65": {
      "model_module": "@jupyter-widgets/base",
      "model_module_version": "2.0.0",
      "model_name": "LayoutModel",
      "state": {
       "height": "200px"
      }
     },
     "a462cb4514464516818da032cc3aaf64": {
      "model_module": "@jupyter-widgets/base",
      "model_module_version": "2.0.0",
      "model_name": "LayoutModel",
      "state": {}
     },
     "a48312fc4d6549d0b4075c604656e21f": {
      "model_module": "@jupyter-widgets/base",
      "model_module_version": "2.0.0",
      "model_name": "LayoutModel",
      "state": {}
     },
     "a484920ba94c4cfc8b9416e3201e4bb3": {
      "model_module": "@jupyter-widgets/controls",
      "model_module_version": "2.0.0",
      "model_name": "HBoxModel",
      "state": {
       "children": [
        "IPY_MODEL_85a99855087e42549a17eafde3f37f2f"
       ],
       "layout": "IPY_MODEL_131a7d3bd9f248a1b08c57b4e8674114"
      }
     },
     "a4920f8d78864228a487b0198c0e5b05": {
      "model_module": "@jupyter-widgets/base",
      "model_module_version": "2.0.0",
      "model_name": "LayoutModel",
      "state": {
       "height": "40px",
       "width": "160px"
      }
     },
     "a499399a05814359a44c540bf5d94cb3": {
      "model_module": "@jupyter-widgets/controls",
      "model_module_version": "2.0.0",
      "model_name": "BoxModel",
      "state": {
       "children": [
        "IPY_MODEL_256e25745fe341e1a4cd62e3bc40d80b",
        "IPY_MODEL_30195a4af52a4423b70d877629cd7d85"
       ],
       "layout": "IPY_MODEL_5ac9464939eb4e49acc7524489260500"
      }
     },
     "a4a1c3b9ca5345da86e02dfd1daa5d60": {
      "model_module": "@jupyter-widgets/controls",
      "model_module_version": "2.0.0",
      "model_name": "VBoxModel",
      "state": {
       "children": [
        "IPY_MODEL_eeb78d1ef4cb400d90d82e2422cef8f3",
        "IPY_MODEL_e7d90df3e8d04287bf39776588c3faf6"
       ],
       "layout": "IPY_MODEL_5fab5e2e8a484885bd779d83023dc083"
      }
     },
     "a4b1ab860198409abbd1f78c1f8829ed": {
      "model_module": "@jupyter-widgets/controls",
      "model_module_version": "2.0.0",
      "model_name": "ButtonStyleModel",
      "state": {
       "font_family": null,
       "font_size": null,
       "font_style": null,
       "font_variant": null,
       "font_weight": null,
       "text_color": null,
       "text_decoration": null
      }
     },
     "a4b4769bce7f495699d6f6dae2675dd3": {
      "model_module": "@jupyter-widgets/base",
      "model_module_version": "2.0.0",
      "model_name": "LayoutModel",
      "state": {}
     },
     "a4b9f7d76e8c4779b0fac674f922b847": {
      "model_module": "@jupyter-widgets/base",
      "model_module_version": "2.0.0",
      "model_name": "LayoutModel",
      "state": {}
     },
     "a4f523512d2a4b0f8804db593d7f77b5": {
      "model_module": "@jupyter-widgets/controls",
      "model_module_version": "2.0.0",
      "model_name": "HTMLStyleModel",
      "state": {
       "description_width": "",
       "font_size": null,
       "text_color": null
      }
     },
     "a50da4d05ca5497d9769a26fc0540af4": {
      "model_module": "@jupyter-widgets/controls",
      "model_module_version": "2.0.0",
      "model_name": "ButtonModel",
      "state": {
       "description": "Instruction",
       "icon": "comment",
       "layout": "IPY_MODEL_8d49609e8f594483a9d34c13871248c1",
       "style": "IPY_MODEL_cb42e72bffcb4626b93298cdf1dbe405",
       "tooltip": "0"
      }
     },
     "a5148da8449d43a2bac2c8f2e5269ffe": {
      "model_module": "@jupyter-widgets/controls",
      "model_module_version": "2.0.0",
      "model_name": "VBoxModel",
      "state": {
       "children": [
        "IPY_MODEL_fa64a4a6c4794deea7b681c1feb56a56",
        "IPY_MODEL_03fdba48c72c4286b3da44b0d2c614e4"
       ],
       "layout": "IPY_MODEL_5be3c680510a498294cdf130800fa275"
      }
     },
     "a56d4aef223940f89f0c14ec400f9243": {
      "model_module": "@jupyter-widgets/controls",
      "model_module_version": "2.0.0",
      "model_name": "HTMLModel",
      "state": {
       "layout": "IPY_MODEL_5554f023db5e416cbb51c9937d496a7c",
       "style": "IPY_MODEL_78625c6e844d44cd9d2318050a2417bb",
       "value": "<h2>Equipment List</h2>"
      }
     },
     "a59e11146d8a4ebf8a12e78fad246ae9": {
      "model_module": "@jupyter-widgets/controls",
      "model_module_version": "2.0.0",
      "model_name": "ButtonStyleModel",
      "state": {
       "font_family": null,
       "font_size": null,
       "font_style": null,
       "font_variant": null,
       "font_weight": null,
       "text_color": null,
       "text_decoration": null
      }
     },
     "a5ab40acb8264db483ca58995eb92541": {
      "model_module": "@jupyter-widgets/base",
      "model_module_version": "2.0.0",
      "model_name": "LayoutModel",
      "state": {
       "height": "55px",
       "width": "80px"
      }
     },
     "a5c2836e52fc4bb98fa42ff680ec1ea7": {
      "model_module": "@jupyter-widgets/base",
      "model_module_version": "2.0.0",
      "model_name": "LayoutModel",
      "state": {
       "height": "40px",
       "width": "160px"
      }
     },
     "a5db873328534084aa288b5e1783e9fb": {
      "model_module": "@jupyter-widgets/controls",
      "model_module_version": "2.0.0",
      "model_name": "HTMLStyleModel",
      "state": {
       "description_width": "",
       "font_size": null,
       "text_color": null
      }
     },
     "a5e5f5fe1e244c16814ae832f30feae8": {
      "model_module": "@jupyter-widgets/base",
      "model_module_version": "2.0.0",
      "model_name": "LayoutModel",
      "state": {
       "height": "120px",
       "width": "100px"
      }
     },
     "a5eb276705674906a59e2107a35136ef": {
      "model_module": "@jupyter-widgets/controls",
      "model_module_version": "2.0.0",
      "model_name": "CheckboxStyleModel",
      "state": {
       "description_width": ""
      }
     },
     "a607103647c44ecf80b27cbe2dd1885b": {
      "model_module": "@jupyter-widgets/controls",
      "model_module_version": "2.0.0",
      "model_name": "CheckboxModel",
      "state": {
       "description": "other",
       "disabled": false,
       "indent": false,
       "layout": "IPY_MODEL_3c261ea3b8a948289283e74193a528b0",
       "style": "IPY_MODEL_053afc94de61447fb27a20d0b988cf09",
       "value": true
      }
     },
     "a674a2da18ef4e5a8269a24a0443fd9c": {
      "model_module": "@jupyter-widgets/controls",
      "model_module_version": "2.0.0",
      "model_name": "VBoxModel",
      "state": {
       "children": [
        "IPY_MODEL_c0ece0799d8846ff8a2bf0ef4dcd4d98",
        "IPY_MODEL_8473790230824fde85f6c395e5c6a765"
       ],
       "layout": "IPY_MODEL_5300198e0daf43cfb1444b443ed3822c"
      }
     },
     "a6aa24da60754eee8065db8389d67f8d": {
      "model_module": "@jupyter-widgets/controls",
      "model_module_version": "2.0.0",
      "model_name": "CheckboxModel",
      "state": {
       "description": "bands",
       "disabled": false,
       "indent": false,
       "layout": "IPY_MODEL_0f8fe681f9dc4ae5874b6660d77ad4f7",
       "style": "IPY_MODEL_e1620f0f41974b13984c65497d6e29b8",
       "value": true
      }
     },
     "a6c4399df9b440d084cd7580411920f2": {
      "model_module": "@jupyter-widgets/controls",
      "model_module_version": "2.0.0",
      "model_name": "HBoxModel",
      "state": {
       "children": [
        "IPY_MODEL_2c66f9b40bf94cbc9ffe7ff57f3b1a42"
       ],
       "layout": "IPY_MODEL_ae54f4b132fc4848878bcd266146fe86"
      }
     },
     "a6ceb8e331dd49489619d25e10043895": {
      "model_module": "@jupyter-widgets/base",
      "model_module_version": "2.0.0",
      "model_name": "LayoutModel",
      "state": {}
     },
     "a6e268585f264f3886d10e352c885c6f": {
      "model_module": "@jupyter-widgets/controls",
      "model_module_version": "2.0.0",
      "model_name": "ButtonModel",
      "state": {
       "description": "Instruction",
       "icon": "comment",
       "layout": "IPY_MODEL_aa6f54500fc84bb79572c24afc225b93",
       "style": "IPY_MODEL_6d5843f7856945d0a90c64fa06f7bbb9",
       "tooltip": "499"
      }
     },
     "a721a5ec98dc4a41843ef6af7020d724": {
      "model_module": "@jupyter-widgets/controls",
      "model_module_version": "2.0.0",
      "model_name": "CheckboxModel",
      "state": {
       "description": "strength",
       "disabled": false,
       "indent": false,
       "layout": "IPY_MODEL_3bbec53cca024b7ebcf17a16c5f3fb28",
       "style": "IPY_MODEL_49403a770d93451eadff58648d3b560e",
       "value": true
      }
     },
     "a7333c91da9648549c06023a72d693a6": {
      "model_module": "@jupyter-widgets/base",
      "model_module_version": "2.0.0",
      "model_name": "LayoutModel",
      "state": {
       "height": "40px",
       "width": "160px"
      }
     },
     "a79f0fcd3910432297a1bfeb4f9b4a34": {
      "model_module": "@jupyter-widgets/controls",
      "model_module_version": "2.0.0",
      "model_name": "ButtonStyleModel",
      "state": {
       "font_family": null,
       "font_size": null,
       "font_style": null,
       "font_variant": null,
       "font_weight": null,
       "text_color": null,
       "text_decoration": null
      }
     },
     "a7a8db0b7ad34f789194b051f359a6e3": {
      "model_module": "@jupyter-widgets/controls",
      "model_module_version": "2.0.0",
      "model_name": "HTMLModel",
      "state": {
       "layout": "IPY_MODEL_c674ad0e52f34e53ada7a5b6e6e83306",
       "style": "IPY_MODEL_7af20b62af8242379486395908956a48",
       "value": "<h1>Results</h1>"
      }
     },
     "a7c9e06c0df245d2b7e4854cfdf82320": {
      "model_module": "@jupyter-widgets/controls",
      "model_module_version": "2.0.0",
      "model_name": "HTMLStyleModel",
      "state": {
       "description_width": "",
       "font_size": null,
       "text_color": null
      }
     },
     "a7e55989f3bf48b9827860c4e642252f": {
      "model_module": "@jupyter-widgets/controls",
      "model_module_version": "2.0.0",
      "model_name": "CheckboxStyleModel",
      "state": {
       "description_width": ""
      }
     },
     "a85b8174f88c4caa860f069f13c55dd2": {
      "model_module": "@jupyter-widgets/base",
      "model_module_version": "2.0.0",
      "model_name": "LayoutModel",
      "state": {}
     },
     "a88f536ed21443bfa2de32a076a04f83": {
      "model_module": "@jupyter-widgets/base",
      "model_module_version": "2.0.0",
      "model_name": "LayoutModel",
      "state": {}
     },
     "a8c2e807682d4c06a317e2dd0f96f8f2": {
      "model_module": "@jupyter-widgets/base",
      "model_module_version": "2.0.0",
      "model_name": "LayoutModel",
      "state": {
       "height": "120px",
       "width": "100px"
      }
     },
     "a8ec5561faeb40db984175c0755fac56": {
      "model_module": "@jupyter-widgets/base",
      "model_module_version": "2.0.0",
      "model_name": "LayoutModel",
      "state": {}
     },
     "a8fe3668f2164f95817eba4f64bcf813": {
      "model_module": "@jupyter-widgets/base",
      "model_module_version": "2.0.0",
      "model_name": "LayoutModel",
      "state": {
       "align_items": "stretch",
       "display": "flex",
       "flex_flow": "row",
       "justify_content": "space-around",
       "width": "70%"
      }
     },
     "a95b0bfe592d4ea89998e365d6bc1e11": {
      "model_module": "@jupyter-widgets/base",
      "model_module_version": "2.0.0",
      "model_name": "LayoutModel",
      "state": {}
     },
     "a9aff032168d485b8a87b37b17b6038f": {
      "model_module": "@jupyter-widgets/controls",
      "model_module_version": "2.0.0",
      "model_name": "CheckboxModel",
      "state": {
       "description": "strongman",
       "disabled": false,
       "indent": false,
       "layout": "IPY_MODEL_c274b46afdfb44ee9fee2de487b7d1e8",
       "style": "IPY_MODEL_4586d72929824e0885607d33bcb5d3a6",
       "value": true
      }
     },
     "aa6f54500fc84bb79572c24afc225b93": {
      "model_module": "@jupyter-widgets/base",
      "model_module_version": "2.0.0",
      "model_name": "LayoutModel",
      "state": {
       "height": "55px",
       "width": "120px"
      }
     },
     "aa76bd9a01bb48088be06e8b5252160b": {
      "model_module": "@jupyter-widgets/controls",
      "model_module_version": "2.0.0",
      "model_name": "CheckboxModel",
      "state": {
       "description": "lowerBody",
       "disabled": false,
       "indent": false,
       "layout": "IPY_MODEL_2df360c7c214426da7d1764545a5dd34",
       "style": "IPY_MODEL_9bb2ff1b7446446bb839c3570668638b",
       "value": true
      }
     },
     "aa7be9a382fb4ec1813d1ddc03db5836": {
      "model_module": "@jupyter-widgets/controls",
      "model_module_version": "2.0.0",
      "model_name": "CheckboxModel",
      "state": {
       "description": "kettlebells",
       "disabled": false,
       "indent": false,
       "layout": "IPY_MODEL_b9f66397b0914a7ab97e34876a5fb003",
       "style": "IPY_MODEL_6de6e0a41e0e49849c014a6eed88b634",
       "value": true
      }
     },
     "aa84552b3fe248539d2046a48c764563": {
      "model_module": "@jupyter-widgets/controls",
      "model_module_version": "2.0.0",
      "model_name": "HBoxModel",
      "state": {
       "children": [
        "IPY_MODEL_c065b4981f7a4027a45aa471df43d7d5"
       ],
       "layout": "IPY_MODEL_21729fea96934158843c958e3937ca74"
      }
     },
     "ab0826bf7d5a44969fd56b0a8e7ffce7": {
      "model_module": "@jupyter-widgets/base",
      "model_module_version": "2.0.0",
      "model_name": "LayoutModel",
      "state": {
       "height": "40px",
       "width": "120px"
      }
     },
     "ab6edbf32833463899c87fe1741b3a7c": {
      "model_module": "@jupyter-widgets/controls",
      "model_module_version": "2.0.0",
      "model_name": "ButtonStyleModel",
      "state": {
       "font_family": null,
       "font_size": null,
       "font_style": null,
       "font_variant": null,
       "font_weight": null,
       "text_color": null,
       "text_decoration": null
      }
     },
     "abd439e76607460196cca502df5ad0cb": {
      "model_module": "@jupyter-widgets/controls",
      "model_module_version": "2.0.0",
      "model_name": "CheckboxStyleModel",
      "state": {
       "description_width": ""
      }
     },
     "ac141aee053a4a04b976244f9a17247f": {
      "model_module": "@jupyter-widgets/controls",
      "model_module_version": "2.0.0",
      "model_name": "CheckboxModel",
      "state": {
       "description": "bands",
       "disabled": false,
       "indent": false,
       "layout": "IPY_MODEL_e839bba1a5cb4271a8740d722f22ac32",
       "style": "IPY_MODEL_dea08ab867054238a7ff27ad61db33f4",
       "value": true
      }
     },
     "ac514db290a54e899280792518073c9e": {
      "model_module": "@jupyter-widgets/base",
      "model_module_version": "2.0.0",
      "model_name": "LayoutModel",
      "state": {}
     },
     "ac82ad49907a40a9a472a66021f90850": {
      "model_module": "@jupyter-widgets/controls",
      "model_module_version": "2.0.0",
      "model_name": "BoxModel",
      "state": {
       "children": [
        "IPY_MODEL_b2fef07f6d2a4ca7acd404cd7b606da9",
        "IPY_MODEL_85113cea69c944e19ebc75fb876220b9"
       ],
       "layout": "IPY_MODEL_81f0b62001144389bddb8237569a0ddd"
      }
     },
     "ac9882b08fbe458abffb859c1e7613ea": {
      "model_module": "@jupyter-widgets/controls",
      "model_module_version": "2.0.0",
      "model_name": "CheckboxModel",
      "state": {
       "description": "stretching",
       "disabled": false,
       "indent": false,
       "layout": "IPY_MODEL_f3e3fd853f00416bb431db5c17056ed3",
       "style": "IPY_MODEL_96d502023ce34676ad3dc95fe12aabc4",
       "value": true
      }
     },
     "aca55a878eed4570be7f38e2df27463a": {
      "model_module": "@jupyter-widgets/controls",
      "model_module_version": "2.0.0",
      "model_name": "VBoxModel",
      "state": {
       "children": [
        "IPY_MODEL_8515322163b54a049bd43b7cf14540b5",
        "IPY_MODEL_19c0ea9b239c4cb6b8adc90d2a40e17d",
        "IPY_MODEL_e29a46d48ac54583ae094126eae1a3be"
       ],
       "layout": "IPY_MODEL_7b910c3283a2418ebb961002be98b1ff"
      }
     },
     "acd986c6a3c541e6b2c033be6fc16813": {
      "model_module": "@jupyter-widgets/controls",
      "model_module_version": "2.0.0",
      "model_name": "CheckboxStyleModel",
      "state": {
       "description_width": ""
      }
     },
     "acda346e9cd14c2091148931e9843970": {
      "model_module": "@jupyter-widgets/base",
      "model_module_version": "2.0.0",
      "model_name": "LayoutModel",
      "state": {}
     },
     "ace99516ed3944d98253ba7a37ea9292": {
      "model_module": "@jupyter-widgets/controls",
      "model_module_version": "2.0.0",
      "model_name": "CheckboxStyleModel",
      "state": {
       "description_width": ""
      }
     },
     "ad4941e6744c411b8d009b614aafcf66": {
      "model_module": "@jupyter-widgets/controls",
      "model_module_version": "2.0.0",
      "model_name": "ButtonModel",
      "state": {
       "description": "Equipment",
       "layout": "IPY_MODEL_b83c32ecd7da49dc8b55d2c2504c0a9c",
       "style": "IPY_MODEL_29a864188ef249febf9f831576b694f8",
       "tooltip": null
      }
     },
     "ada9abd6d5c648a1b6a603d28bc807e3": {
      "model_module": "@jupyter-widgets/base",
      "model_module_version": "2.0.0",
      "model_name": "LayoutModel",
      "state": {
       "height": "55px",
       "width": "80px"
      }
     },
     "adac165da6554d0e908bfddb0ac8a2f0": {
      "model_module": "@jupyter-widgets/controls",
      "model_module_version": "2.0.0",
      "model_name": "VBoxModel",
      "state": {
       "children": [
        "IPY_MODEL_6243cd3918d24396a4b45f3224f6cd0d",
        "IPY_MODEL_4a592f8f496e4b0280dc4b8e0be050c2",
        "IPY_MODEL_d398531b147e49729c14d82b521e67d1",
        "IPY_MODEL_488e9b6502c74585b1ef7822ae5c8670"
       ],
       "layout": "IPY_MODEL_0e3ccfad204040988972855dbc88c35e"
      }
     },
     "adc9848a41724598838f59b6dd62c7dc": {
      "model_module": "@jupyter-widgets/controls",
      "model_module_version": "2.0.0",
      "model_name": "HBoxModel",
      "state": {
       "children": [
        "IPY_MODEL_b4e0d8cc499b40588598575b2f2366d1"
       ],
       "layout": "IPY_MODEL_ca4ed3ffae014ada99af8568b169c34f"
      }
     },
     "adc9d2e1eece4dca83ca6bd5670653ea": {
      "model_module": "@jupyter-widgets/base",
      "model_module_version": "2.0.0",
      "model_name": "LayoutModel",
      "state": {
       "height": "120px",
       "width": "100px"
      }
     },
     "ae396533a1b949ebbda7ac0d29cf8ce7": {
      "model_module": "@jupyter-widgets/controls",
      "model_module_version": "2.0.0",
      "model_name": "CheckboxStyleModel",
      "state": {
       "description_width": ""
      }
     },
     "ae43006deb2448608e6b8d936a57e927": {
      "model_module": "@jupyter-widgets/controls",
      "model_module_version": "2.0.0",
      "model_name": "BoxModel",
      "state": {
       "children": [
        "IPY_MODEL_cb287a79ae094749ba734751dccd67f9",
        "IPY_MODEL_6feef0ad399947c69f1e34845c21e699"
       ],
       "layout": "IPY_MODEL_830e77dba0234054a82e1e585e944a9b"
      }
     },
     "ae45a33f910545c19d219cc53119250a": {
      "model_module": "@jupyter-widgets/base",
      "model_module_version": "2.0.0",
      "model_name": "LayoutModel",
      "state": {}
     },
     "ae54f4b132fc4848878bcd266146fe86": {
      "model_module": "@jupyter-widgets/base",
      "model_module_version": "2.0.0",
      "model_name": "LayoutModel",
      "state": {}
     },
     "ae6675ba5a364274878d1946419ccb84": {
      "model_module": "@jupyter-widgets/base",
      "model_module_version": "2.0.0",
      "model_name": "LayoutModel",
      "state": {}
     },
     "aeb466fa94564f329294abd508f90073": {
      "model_module": "@jupyter-widgets/base",
      "model_module_version": "2.0.0",
      "model_name": "LayoutModel",
      "state": {
       "height": "55px",
       "width": "80px"
      }
     },
     "af191b1d3c41474db39c8fd47ef32b15": {
      "model_module": "@jupyter-widgets/controls",
      "model_module_version": "2.0.0",
      "model_name": "BoxModel",
      "state": {
       "children": [
        "IPY_MODEL_a6c4399df9b440d084cd7580411920f2",
        "IPY_MODEL_b9b55b709a43473a8c5310b0386a2c73"
       ],
       "layout": "IPY_MODEL_70d208dea2dd47588364daf778d3b035"
      }
     },
     "afc43ac3f9604b939d3442b49b055e30": {
      "model_module": "@jupyter-widgets/base",
      "model_module_version": "2.0.0",
      "model_name": "LayoutModel",
      "state": {}
     },
     "b00a51ad5d0144cf831b3ed52c3b32cf": {
      "model_module": "@jupyter-widgets/controls",
      "model_module_version": "2.0.0",
      "model_name": "CheckboxModel",
      "state": {
       "description": "cable",
       "disabled": false,
       "indent": false,
       "layout": "IPY_MODEL_b0e33908bff74e7abde7aaceb47d1b43",
       "style": "IPY_MODEL_448435abf3ba43d28b8f15a931179e14",
       "value": true
      }
     },
     "b03c84a50cfa457a9fd93a008127979c": {
      "model_module": "@jupyter-widgets/base",
      "model_module_version": "2.0.0",
      "model_name": "LayoutModel",
      "state": {
       "height": "55px",
       "width": "80px"
      }
     },
     "b046b72eddb94ef88001221743e17578": {
      "model_module": "@jupyter-widgets/controls",
      "model_module_version": "2.0.0",
      "model_name": "BoxModel",
      "state": {
       "children": [
        "IPY_MODEL_15ac000eb95e486ab4c897de7990fdce",
        "IPY_MODEL_8ae7ac7b04c1466dab149b583ad67970"
       ],
       "layout": "IPY_MODEL_490123d88cd142e487807c3cd68ddb1e"
      }
     },
     "b048b03d59c148b5aa4396d7254c292e": {
      "model_module": "@jupyter-widgets/controls",
      "model_module_version": "2.0.0",
      "model_name": "HBoxModel",
      "state": {
       "children": [
        "IPY_MODEL_853bd424b694430ba8e0d5d0cc46559e"
       ],
       "layout": "IPY_MODEL_9c63b7e31e994e73b07213182386d19a"
      }
     },
     "b05562eb31524527a702afe33e35f812": {
      "model_module": "@jupyter-widgets/controls",
      "model_module_version": "2.0.0",
      "model_name": "ButtonStyleModel",
      "state": {
       "font_family": null,
       "font_size": null,
       "font_style": null,
       "font_variant": null,
       "font_weight": null,
       "text_color": null,
       "text_decoration": null
      }
     },
     "b070b78926524840a9269170f55312b5": {
      "model_module": "@jupyter-widgets/controls",
      "model_module_version": "2.0.0",
      "model_name": "HTMLModel",
      "state": {
       "layout": "IPY_MODEL_a88f536ed21443bfa2de32a076a04f83",
       "style": "IPY_MODEL_f28ae256dbf74c71ac753a691923617d",
       "value": "<h2>Equipment List</h2>"
      }
     },
     "b098a72f67374891b93463b0249e77aa": {
      "model_module": "@jupyter-widgets/output",
      "model_module_version": "1.0.0",
      "model_name": "OutputModel",
      "state": {
       "layout": "IPY_MODEL_21abd444e30245158983feec06263833",
       "outputs": [
        {
         "data": {
          "application/vnd.jupyter.widget-view+json": {
           "model_id": "43c65505acaa4ca9b52398b6eca01d15",
           "version_major": 2,
           "version_minor": 0
          },
          "text/plain": "VBox(children=(Box(children=(HBox(children=(HTML(value='<h2>Exercise Category</h2>'),)), Button(description='C…"
         },
         "metadata": {},
         "output_type": "display_data"
        }
       ]
      }
     },
     "b0abb2a6e60b4facaa0c48feac54c46a": {
      "model_module": "@jupyter-widgets/controls",
      "model_module_version": "2.0.0",
      "model_name": "ButtonStyleModel",
      "state": {
       "font_family": null,
       "font_size": null,
       "font_style": null,
       "font_variant": null,
       "font_weight": null,
       "text_color": null,
       "text_decoration": null
      }
     },
     "b0d6cb0d4f4a4b96ad212f993363f19a": {
      "model_module": "@jupyter-widgets/controls",
      "model_module_version": "2.0.0",
      "model_name": "HTMLStyleModel",
      "state": {
       "description_width": "",
       "font_size": null,
       "text_color": null
      }
     },
     "b0e33908bff74e7abde7aaceb47d1b43": {
      "model_module": "@jupyter-widgets/base",
      "model_module_version": "2.0.0",
      "model_name": "LayoutModel",
      "state": {
       "height": "40px",
       "width": "160px"
      }
     },
     "b0faefed20164e1aaf8e3616f325f856": {
      "model_module": "@jupyter-widgets/controls",
      "model_module_version": "2.0.0",
      "model_name": "CheckboxModel",
      "state": {
       "description": "strength",
       "disabled": false,
       "indent": false,
       "layout": "IPY_MODEL_73d56e8659564ba8aea15d6b361def8f",
       "style": "IPY_MODEL_63ded0382bc245bd84e2c000971adcf8",
       "value": true
      }
     },
     "b16f2cc8a9f645e293e7b5e8bc626910": {
      "model_module": "@jupyter-widgets/controls",
      "model_module_version": "2.0.0",
      "model_name": "CheckboxModel",
      "state": {
       "description": "strength",
       "disabled": false,
       "indent": false,
       "layout": "IPY_MODEL_66752cece54b427eac82740d5f6f0c94",
       "style": "IPY_MODEL_68447370621841ea9d630a3879820a3a",
       "value": true
      }
     },
     "b1ccb752f43741138e7ec99a7599982d": {
      "model_module": "@jupyter-widgets/controls",
      "model_module_version": "2.0.0",
      "model_name": "ButtonModel",
      "state": {
       "description": "Instruction",
       "icon": "comment",
       "layout": "IPY_MODEL_913ad197baa44b2aa717c1d91078e33e",
       "style": "IPY_MODEL_4814ba0a33714529b0c2b01d5f72e71a",
       "tooltip": "864"
      }
     },
     "b1dcb7f46f924ed48699d6feecc5d1cd": {
      "model_module": "@jupyter-widgets/controls",
      "model_module_version": "2.0.0",
      "model_name": "ButtonStyleModel",
      "state": {
       "font_family": null,
       "font_size": null,
       "font_style": null,
       "font_variant": null,
       "font_weight": null,
       "text_color": null,
       "text_decoration": null
      }
     },
     "b1fcf272703f40d994326af5170ea945": {
      "model_module": "@jupyter-widgets/controls",
      "model_module_version": "2.0.0",
      "model_name": "CheckboxStyleModel",
      "state": {
       "description_width": ""
      }
     },
     "b23383317a59406f9c6f7e0e8a02e8eb": {
      "model_module": "@jupyter-widgets/base",
      "model_module_version": "2.0.0",
      "model_name": "LayoutModel",
      "state": {
       "height": "55px",
       "width": "120px"
      }
     },
     "b281bf65aeb048aebd890220695e31e0": {
      "model_module": "@jupyter-widgets/controls",
      "model_module_version": "2.0.0",
      "model_name": "CheckboxModel",
      "state": {
       "description": "olympic weightlifting",
       "disabled": false,
       "indent": false,
       "layout": "IPY_MODEL_35249fb87d2443e685c63164c282c04b",
       "style": "IPY_MODEL_8e3bf0d2be8b4b9a8fe3d4a67755f575",
       "value": true
      }
     },
     "b28ed54903f340c99eb40a21cf32158f": {
      "model_module": "@jupyter-widgets/controls",
      "model_module_version": "2.0.0",
      "model_name": "VBoxModel",
      "state": {
       "children": [
        "IPY_MODEL_a721a5ec98dc4a41843ef6af7020d724",
        "IPY_MODEL_ea32316b20714a22b148d71f5b34f2c1",
        "IPY_MODEL_3ed2054ba1374e3ab55e309df4a0bb6a"
       ],
       "layout": "IPY_MODEL_ba3d29efcd324d4bbca765c11d2aa91f"
      }
     },
     "b2d86a733aa244b08ef88dd45bce5089": {
      "model_module": "@jupyter-widgets/controls",
      "model_module_version": "2.0.0",
      "model_name": "VBoxModel",
      "state": {
       "children": [
        "IPY_MODEL_3bff0e7374df4a8aa366e32cc1ac010b",
        "IPY_MODEL_657912a05df245838ffc323e54ed502e",
        "IPY_MODEL_6fa8041e1d214e4899161cf19a1b6260",
        "IPY_MODEL_bf6679be1ca441dbbc038e614a22b3bd"
       ],
       "layout": "IPY_MODEL_3ff46ebdb0724fc4894869ac3c27cc1f"
      }
     },
     "b2fef07f6d2a4ca7acd404cd7b606da9": {
      "model_module": "@jupyter-widgets/controls",
      "model_module_version": "2.0.0",
      "model_name": "HBoxModel",
      "state": {
       "children": [
        "IPY_MODEL_71d07e7dcfda4eaf926c7c8bdfcbfe9b"
       ],
       "layout": "IPY_MODEL_11e0f033370b4230ad81f0b0d6e66560"
      }
     },
     "b350643e0bd6448c8d00851fe2322d6b": {
      "model_module": "@jupyter-widgets/controls",
      "model_module_version": "2.0.0",
      "model_name": "BoxModel",
      "state": {
       "children": [
        "IPY_MODEL_294c2c92532e4671924fef35584dbc20",
        "IPY_MODEL_18e9173c470d4fa6bbf3eee44faeaa54"
       ],
       "layout": "IPY_MODEL_8a62693055354b288cdaff31bb73753a"
      }
     },
     "b354a6a57d71400ab53446ce5ba1ebab": {
      "model_module": "@jupyter-widgets/base",
      "model_module_version": "2.0.0",
      "model_name": "LayoutModel",
      "state": {
       "height": "55px",
       "width": "120px"
      }
     },
     "b3dcd52af40d49e490d3443a75f9a72c": {
      "model_module": "@jupyter-widgets/base",
      "model_module_version": "2.0.0",
      "model_name": "LayoutModel",
      "state": {
       "height": "40px",
       "width": "140px"
      }
     },
     "b401a03b47a6428495167ff147bf3ee5": {
      "model_module": "@jupyter-widgets/controls",
      "model_module_version": "2.0.0",
      "model_name": "ButtonModel",
      "state": {
       "description": "Instruction",
       "icon": "comment",
       "layout": "IPY_MODEL_b23383317a59406f9c6f7e0e8a02e8eb",
       "style": "IPY_MODEL_ea6355844f6543f4a515b7a47c0819df",
       "tooltip": "0"
      }
     },
     "b428a299ec1342fca901d4e596b5194d": {
      "model_module": "@jupyter-widgets/controls",
      "model_module_version": "2.0.0",
      "model_name": "VBoxModel",
      "state": {
       "children": [
        "IPY_MODEL_7c86d89017bf4ae6957ed3e5c3d934ee",
        "IPY_MODEL_5f1a0df778f54503a9e7dbe42f0d1e79"
       ],
       "layout": "IPY_MODEL_be3b43a1071245309febbd01b6e545c6"
      }
     },
     "b4334250c95b48a1a7bb035f2569d790": {
      "model_module": "@jupyter-widgets/controls",
      "model_module_version": "2.0.0",
      "model_name": "HTMLModel",
      "state": {
       "layout": "IPY_MODEL_0bcd88df67954ed1971376851f2cc963",
       "style": "IPY_MODEL_81184b47bb75479a90f9a945519a5b5f",
       "value": "<h2>Equipment List</h2>"
      }
     },
     "b444d1d113774ce6814526f69fcff6eb": {
      "model_module": "@jupyter-widgets/controls",
      "model_module_version": "2.0.0",
      "model_name": "CheckboxStyleModel",
      "state": {
       "description_width": ""
      }
     },
     "b48e5a4ff2cd47bb81cd5b4dbdbfd85f": {
      "model_module": "@jupyter-widgets/controls",
      "model_module_version": "2.0.0",
      "model_name": "ButtonModel",
      "state": {
       "description": "Sample Size",
       "layout": "IPY_MODEL_ec74c2abf5534390b2c73e853270e72e",
       "style": "IPY_MODEL_3d5ba7e9405149d4a710f68d75dc5122",
       "tooltip": null
      }
     },
     "b4e0d8cc499b40588598575b2f2366d1": {
      "model_module": "@jupyter-widgets/controls",
      "model_module_version": "2.0.0",
      "model_name": "HTMLModel",
      "state": {
       "layout": "IPY_MODEL_724eb491017340ce9469334f50e9ffb8",
       "style": "IPY_MODEL_d8fdc7094f50404a8b054eec22b5d118",
       "value": "<h2>Equipment List</h2>"
      }
     },
     "b5379403e8dc4c7f90cf1543dd7c27d8": {
      "model_module": "@jupyter-widgets/controls",
      "model_module_version": "2.0.0",
      "model_name": "CheckboxModel",
      "state": {
       "description": "dumbbell",
       "disabled": false,
       "indent": false,
       "layout": "IPY_MODEL_84126bf7085e4a079ba9feed760a92fe",
       "style": "IPY_MODEL_891c151b9b394dda85f3181919e23b4c",
       "value": true
      }
     },
     "b55267f0d1824c289b81b5606ec90d71": {
      "model_module": "@jupyter-widgets/controls",
      "model_module_version": "2.0.0",
      "model_name": "CheckboxStyleModel",
      "state": {
       "description_width": ""
      }
     },
     "b5857a393f04499eb4e78a66908c978f": {
      "model_module": "@jupyter-widgets/base",
      "model_module_version": "2.0.0",
      "model_name": "LayoutModel",
      "state": {}
     },
     "b587ee0702254211a60daef4d4159c64": {
      "model_module": "@jupyter-widgets/controls",
      "model_module_version": "2.0.0",
      "model_name": "HBoxModel",
      "state": {
       "children": [
        "IPY_MODEL_488cf90411c8458bb1940890f095eeeb",
        "IPY_MODEL_093a5415fac4419e8557bafe66f8cd56",
        "IPY_MODEL_55b0754f95ad4334a9cfb32c3ad8bd91",
        "IPY_MODEL_dce1706ecc7f48afb360b2dc10d56065"
       ],
       "layout": "IPY_MODEL_a95b0bfe592d4ea89998e365d6bc1e11"
      }
     },
     "b5aa5c5c9d5b40d9aea4c5a83b6f9a96": {
      "model_module": "@jupyter-widgets/base",
      "model_module_version": "2.0.0",
      "model_name": "LayoutModel",
      "state": {
       "height": "55px",
       "width": "80px"
      }
     },
     "b5df7997aacb4ad5a5508451285e3d4c": {
      "model_module": "@jupyter-widgets/base",
      "model_module_version": "2.0.0",
      "model_name": "LayoutModel",
      "state": {}
     },
     "b6231fa1bb364a14b3b500bf228d7431": {
      "model_module": "@jupyter-widgets/controls",
      "model_module_version": "2.0.0",
      "model_name": "VBoxModel",
      "state": {
       "children": [
        "IPY_MODEL_36042e3ddc814adb83bc2af50406fe36",
        "IPY_MODEL_6668d38c92a8415d914428c653daa700"
       ],
       "layout": "IPY_MODEL_e2fb72cb8fd642ed8bfbae9c93b815dc"
      }
     },
     "b63548f86749406f8cb37148e9f528d0": {
      "model_module": "@jupyter-widgets/base",
      "model_module_version": "2.0.0",
      "model_name": "LayoutModel",
      "state": {}
     },
     "b63ae3c8fb384fd0aa57c9591325c9ef": {
      "model_module": "@jupyter-widgets/base",
      "model_module_version": "2.0.0",
      "model_name": "LayoutModel",
      "state": {}
     },
     "b656ad27b48c432f8b04774bdb4b29fa": {
      "model_module": "@jupyter-widgets/controls",
      "model_module_version": "2.0.0",
      "model_name": "BoxModel",
      "state": {
       "children": [
        "IPY_MODEL_64b515d02bc941688145a6ed16afa574",
        "IPY_MODEL_e7a1ca33837e4f1e8b9e353710c91efe"
       ],
       "layout": "IPY_MODEL_23852356c6e640e797b283486f811440"
      }
     },
     "b65884885a874ad08cdec1ed8c25aded": {
      "model_module": "@jupyter-widgets/controls",
      "model_module_version": "2.0.0",
      "model_name": "ButtonModel",
      "state": {
       "description": "Ex Category",
       "layout": "IPY_MODEL_5b13e6cdbff440ffabe3590a59152002",
       "style": "IPY_MODEL_61647e9b6f4f44e3bf0c8320b8950b22",
       "tooltip": null
      }
     },
     "b67e9923ab634285b563e5d4d4ab4ff3": {
      "model_module": "@jupyter-widgets/controls",
      "model_module_version": "2.0.0",
      "model_name": "VBoxModel",
      "state": {
       "children": [
        "IPY_MODEL_90d9b7f13b2b40e9a53ea250d6752b10",
        "IPY_MODEL_d02bde2f6c124ae083ad614f81a24a2a"
       ],
       "layout": "IPY_MODEL_cb65edfb07e449e086ccec03e4cf79a8"
      }
     },
     "b6b0cba9d165411487603640c2692cff": {
      "model_module": "@jupyter-widgets/controls",
      "model_module_version": "2.0.0",
      "model_name": "CheckboxStyleModel",
      "state": {
       "description_width": ""
      }
     },
     "b6dae5deec45437aad31ce623c666e71": {
      "model_module": "@jupyter-widgets/controls",
      "model_module_version": "2.0.0",
      "model_name": "HTMLModel",
      "state": {
       "layout": "IPY_MODEL_fb55be7e813248a2b7220385adb745ee",
       "style": "IPY_MODEL_f25e4aee12f34f1d93bd42638616c421",
       "value": "<h3>Lower_Body</h3>"
      }
     },
     "b715cdbd629949c280502ffa5f1c0659": {
      "model_module": "@jupyter-widgets/base",
      "model_module_version": "2.0.0",
      "model_name": "LayoutModel",
      "state": {}
     },
     "b7292185e3bf4c8c8af71339ed46f8cb": {
      "model_module": "@jupyter-widgets/base",
      "model_module_version": "2.0.0",
      "model_name": "LayoutModel",
      "state": {
       "height": "55px",
       "width": "80px"
      }
     },
     "b72c07bc00084a6fa9e487771e72e9a4": {
      "model_module": "@jupyter-widgets/base",
      "model_module_version": "2.0.0",
      "model_name": "LayoutModel",
      "state": {}
     },
     "b79d3f13cd9a40cfbb260cb3aa516b2c": {
      "model_module": "@jupyter-widgets/base",
      "model_module_version": "2.0.0",
      "model_name": "LayoutModel",
      "state": {
       "height": "120px",
       "width": "100px"
      }
     },
     "b7fad823424944899c1e2a5f097b93cd": {
      "model_module": "@jupyter-widgets/base",
      "model_module_version": "2.0.0",
      "model_name": "LayoutModel",
      "state": {}
     },
     "b83c32ecd7da49dc8b55d2c2504c0a9c": {
      "model_module": "@jupyter-widgets/base",
      "model_module_version": "2.0.0",
      "model_name": "LayoutModel",
      "state": {
       "height": "120px",
       "width": "100px"
      }
     },
     "b890288e6fc741c794c76cac7ea63eb8": {
      "model_module": "@jupyter-widgets/base",
      "model_module_version": "2.0.0",
      "model_name": "LayoutModel",
      "state": {
       "height": "55px",
       "width": "80px"
      }
     },
     "b8963464c7034616b2715208f8d50f8f": {
      "model_module": "@jupyter-widgets/controls",
      "model_module_version": "2.0.0",
      "model_name": "HTMLStyleModel",
      "state": {
       "description_width": "",
       "font_size": null,
       "text_color": null
      }
     },
     "b8c84820adda49c897da36f4db7413d7": {
      "model_module": "@jupyter-widgets/base",
      "model_module_version": "2.0.0",
      "model_name": "LayoutModel",
      "state": {
       "height": "120px",
       "width": "100px"
      }
     },
     "b91b58c7d60d4705833ba17fc3967251": {
      "model_module": "@jupyter-widgets/controls",
      "model_module_version": "2.0.0",
      "model_name": "ButtonModel",
      "state": {
       "description": "Sample Size",
       "layout": "IPY_MODEL_c5733812869944c987ef2cfefe60e100",
       "style": "IPY_MODEL_fd6ae1db70844c9594fa6bdae867c54e",
       "tooltip": null
      }
     },
     "b940e84e092e4fbc854f4bcaa0bbe977": {
      "model_module": "@jupyter-widgets/controls",
      "model_module_version": "2.0.0",
      "model_name": "ButtonStyleModel",
      "state": {
       "font_family": null,
       "font_size": null,
       "font_style": null,
       "font_variant": null,
       "font_weight": null,
       "text_color": null,
       "text_decoration": null
      }
     },
     "b945147bff294131b93c3a76b96612b6": {
      "model_module": "@jupyter-widgets/controls",
      "model_module_version": "2.0.0",
      "model_name": "ButtonModel",
      "state": {
       "description": "Exit",
       "layout": "IPY_MODEL_d879a48f08fe4517b5bc4f3ae665dd24",
       "style": "IPY_MODEL_1ce73a655a8c4483a956b93ec630d052",
       "tooltip": null
      }
     },
     "b9528899ad6f4dd181c6e5b8f4760f3d": {
      "model_module": "@jupyter-widgets/controls",
      "model_module_version": "2.0.0",
      "model_name": "ButtonModel",
      "state": {
       "description": "Sample Size",
       "layout": "IPY_MODEL_1a1bd7735a9547958b171f7a13c37817",
       "style": "IPY_MODEL_6af97af8567d45798a5fa03b3b698565",
       "tooltip": null
      }
     },
     "b9702e9115894f7da4e44bee44d0495f": {
      "model_module": "@jupyter-widgets/controls",
      "model_module_version": "2.0.0",
      "model_name": "DropdownModel",
      "state": {
       "_options_labels": [
        "One",
        "Two",
        "Three",
        "Four",
        "Five"
       ],
       "index": 1,
       "layout": "IPY_MODEL_0d13f4fd01af41ad88adb8ccb1429c83",
       "style": "IPY_MODEL_bee2fa8fd7544446bf161ae9fb84ec8d"
      }
     },
     "b9b29c6e0f49475db7a8bcbe86c0d930": {
      "model_module": "@jupyter-widgets/controls",
      "model_module_version": "2.0.0",
      "model_name": "CheckboxStyleModel",
      "state": {
       "description_width": ""
      }
     },
     "b9b55b709a43473a8c5310b0386a2c73": {
      "model_module": "@jupyter-widgets/controls",
      "model_module_version": "2.0.0",
      "model_name": "ButtonModel",
      "state": {
       "description": "Close",
       "layout": "IPY_MODEL_62cc21a0dcc841deab4bff5c6301c4b3",
       "style": "IPY_MODEL_8140bb72456e46729b19d253f206649b",
       "tooltip": null
      }
     },
     "b9d1237ebf62469ba910e6d9ecd9fe5e": {
      "model_module": "@jupyter-widgets/base",
      "model_module_version": "2.0.0",
      "model_name": "LayoutModel",
      "state": {}
     },
     "b9f66397b0914a7ab97e34876a5fb003": {
      "model_module": "@jupyter-widgets/base",
      "model_module_version": "2.0.0",
      "model_name": "LayoutModel",
      "state": {
       "height": "40px",
       "width": "140px"
      }
     },
     "ba3a63cdd9874d519aa492b47e6e399b": {
      "model_module": "@jupyter-widgets/controls",
      "model_module_version": "2.0.0",
      "model_name": "CheckboxModel",
      "state": {
       "description": "plyometrics",
       "disabled": false,
       "indent": false,
       "layout": "IPY_MODEL_0898862701ce4534a0e6b6e7758e87dc",
       "style": "IPY_MODEL_b6b0cba9d165411487603640c2692cff",
       "value": true
      }
     },
     "ba3d29efcd324d4bbca765c11d2aa91f": {
      "model_module": "@jupyter-widgets/base",
      "model_module_version": "2.0.0",
      "model_name": "LayoutModel",
      "state": {}
     },
     "ba3d59f83c07419992cccb4203905374": {
      "model_module": "@jupyter-widgets/controls",
      "model_module_version": "2.0.0",
      "model_name": "HTMLStyleModel",
      "state": {
       "description_width": "",
       "font_size": null,
       "text_color": null
      }
     },
     "ba6333cd328046869f5f58a0470eb73d": {
      "model_module": "@jupyter-widgets/controls",
      "model_module_version": "2.0.0",
      "model_name": "ButtonModel",
      "state": {
       "description": "Instruction",
       "icon": "comment",
       "layout": "IPY_MODEL_c9f3d9fb9a15474787c2bc859290c383",
       "style": "IPY_MODEL_c68a8cea06ac486aac6d7adeb8db904a",
       "tooltip": "1"
      }
     },
     "ba7836c7fbfa48b59dbb45540a5a5ceb": {
      "model_module": "@jupyter-widgets/controls",
      "model_module_version": "2.0.0",
      "model_name": "ButtonModel",
      "state": {
       "description": "Close",
       "layout": "IPY_MODEL_974244b74d0245039e242f1bb387c484",
       "style": "IPY_MODEL_a79f0fcd3910432297a1bfeb4f9b4a34",
       "tooltip": null
      }
     },
     "baa3b82c0e22428ea2377c643cca02ff": {
      "model_module": "@jupyter-widgets/controls",
      "model_module_version": "2.0.0",
      "model_name": "ButtonStyleModel",
      "state": {
       "font_family": null,
       "font_size": null,
       "font_style": null,
       "font_variant": null,
       "font_weight": null,
       "text_color": null,
       "text_decoration": null
      }
     },
     "bacf4ef8a7b94fcf9414c5768529ed94": {
      "model_module": "@jupyter-widgets/base",
      "model_module_version": "2.0.0",
      "model_name": "LayoutModel",
      "state": {}
     },
     "bae840401d6b4ec2afb00d23c2294928": {
      "model_module": "@jupyter-widgets/controls",
      "model_module_version": "2.0.0",
      "model_name": "CheckboxModel",
      "state": {
       "description": "dumbbell",
       "disabled": false,
       "indent": false,
       "layout": "IPY_MODEL_6312e673d4114a9a91a6398a5dee479a",
       "style": "IPY_MODEL_655fb05352334bef8b6aabe721674ace",
       "value": true
      }
     },
     "bb23f875cf934ae4853427ad42492032": {
      "model_module": "@jupyter-widgets/controls",
      "model_module_version": "2.0.0",
      "model_name": "CheckboxModel",
      "state": {
       "description": "cable",
       "disabled": false,
       "indent": false,
       "layout": "IPY_MODEL_5fe1ae8856634778a68ec7df3562b862",
       "style": "IPY_MODEL_831a1944a2e24cc6a87197c6fdb45429",
       "value": true
      }
     },
     "bb6baba53978470bb25e8af63e9d75a5": {
      "model_module": "@jupyter-widgets/base",
      "model_module_version": "2.0.0",
      "model_name": "LayoutModel",
      "state": {}
     },
     "bb796988438b42d08d819a13170c82dc": {
      "model_module": "@jupyter-widgets/controls",
      "model_module_version": "2.0.0",
      "model_name": "ButtonModel",
      "state": {
       "description": "Body Area",
       "layout": "IPY_MODEL_5a91ecf3147c4e15aa878ddc59e377e4",
       "style": "IPY_MODEL_c9d7563180784d12abd3b9348f3aa13f",
       "tooltip": null
      }
     },
     "bb8107ef6f6b47a389561ccfab01830e": {
      "model_module": "@jupyter-widgets/controls",
      "model_module_version": "2.0.0",
      "model_name": "CheckboxModel",
      "state": {
       "description": "lowerBody",
       "disabled": false,
       "indent": false,
       "layout": "IPY_MODEL_82d7c37208d14b0f9d1207d856963656",
       "style": "IPY_MODEL_0b62e81a6703486f9c8ee7f9b49265ee",
       "value": true
      }
     },
     "bc2cca73a22e4678bb2a756664751843": {
      "model_module": "@jupyter-widgets/controls",
      "model_module_version": "2.0.0",
      "model_name": "HTMLModel",
      "state": {
       "layout": "IPY_MODEL_eac9771707f84fb19e23041ee30272bb",
       "style": "IPY_MODEL_5f594c953e5645709ea68b3ddfda67a1",
       "value": "Windmills"
      }
     },
     "bc33e6b0133c4e1aab6656866d4ebc4b": {
      "model_module": "@jupyter-widgets/controls",
      "model_module_version": "2.0.0",
      "model_name": "CheckboxStyleModel",
      "state": {
       "description_width": ""
      }
     },
     "bc673ba869d04554ab02349f4982721f": {
      "model_module": "@jupyter-widgets/base",
      "model_module_version": "2.0.0",
      "model_name": "LayoutModel",
      "state": {
       "align_items": "flex-start",
       "display": "flex",
       "flex_flow": "row",
       "justify_content": "space-around",
       "width": "70%"
      }
     },
     "bc9741efc8794874b912a66e6fd5e9c0": {
      "model_module": "@jupyter-widgets/base",
      "model_module_version": "2.0.0",
      "model_name": "LayoutModel",
      "state": {}
     },
     "bc9d15fe26364a0690ba5324a2d23d69": {
      "model_module": "@jupyter-widgets/base",
      "model_module_version": "2.0.0",
      "model_name": "LayoutModel",
      "state": {}
     },
     "bca9259270ee4bc7b8f22b9e689b67b2": {
      "model_module": "@jupyter-widgets/base",
      "model_module_version": "2.0.0",
      "model_name": "LayoutModel",
      "state": {}
     },
     "bcf14c54d34b41ba94c507ab30b1b6df": {
      "model_module": "@jupyter-widgets/base",
      "model_module_version": "2.0.0",
      "model_name": "LayoutModel",
      "state": {
       "height": "40px",
       "width": "160px"
      }
     },
     "bd5e509ff8dc4221af0eddeb24f93764": {
      "model_module": "@jupyter-widgets/base",
      "model_module_version": "2.0.0",
      "model_name": "LayoutModel",
      "state": {}
     },
     "bd72ea0451d641bbb0c6b07aa5b19f98": {
      "model_module": "@jupyter-widgets/base",
      "model_module_version": "2.0.0",
      "model_name": "LayoutModel",
      "state": {
       "align_items": "stretch",
       "display": "flex",
       "flex_flow": "row",
       "justify_content": "space-around",
       "width": "70%"
      }
     },
     "bd74621eaff84cdbbcb69a8865520b74": {
      "model_module": "@jupyter-widgets/controls",
      "model_module_version": "2.0.0",
      "model_name": "VBoxModel",
      "state": {
       "children": [
        "IPY_MODEL_f24796032bac4c55aa69996e532e2b9c",
        "IPY_MODEL_1043de06969849549f1723cf74c3ec58",
        "IPY_MODEL_f38daf5af23949cc820949a70c407112"
       ],
       "layout": "IPY_MODEL_c2a6c6aba1d94ef89df8fdad57fa461a"
      }
     },
     "bda9e11f599f4f478cbb3a0f7a70086d": {
      "model_module": "@jupyter-widgets/controls",
      "model_module_version": "2.0.0",
      "model_name": "VBoxModel",
      "state": {
       "children": [
        "IPY_MODEL_4927a06f00e1441697929bb23c31d7da"
       ],
       "layout": "IPY_MODEL_0f23b921b73e44f98e48d258d10a16b0"
      }
     },
     "bdb1c453c6c74f66b0bccea758283058": {
      "model_module": "@jupyter-widgets/controls",
      "model_module_version": "2.0.0",
      "model_name": "ButtonModel",
      "state": {
       "description": "Instruction",
       "icon": "comment",
       "layout": "IPY_MODEL_b354a6a57d71400ab53446ce5ba1ebab",
       "style": "IPY_MODEL_da84b8ffdd2b4dfcba4503ad6d66ceb7",
       "tooltip": "816"
      }
     },
     "bdcc4014e41f43e69d1bd3f61788a20d": {
      "model_module": "@jupyter-widgets/base",
      "model_module_version": "2.0.0",
      "model_name": "LayoutModel",
      "state": {}
     },
     "bdd9881b0c4a4dbda76e55ed5cc32f97": {
      "model_module": "@jupyter-widgets/controls",
      "model_module_version": "2.0.0",
      "model_name": "ButtonModel",
      "state": {
       "description": "Close",
       "layout": "IPY_MODEL_b7292185e3bf4c8c8af71339ed46f8cb",
       "style": "IPY_MODEL_41893cfd3dcd4307beb9d9c39f52940f",
       "tooltip": null
      }
     },
     "be15b8ba0f944133bec7513a1d0a10c2": {
      "model_module": "@jupyter-widgets/controls",
      "model_module_version": "2.0.0",
      "model_name": "ButtonStyleModel",
      "state": {
       "font_family": null,
       "font_size": null,
       "font_style": null,
       "font_variant": null,
       "font_weight": null,
       "text_color": null,
       "text_decoration": null
      }
     },
     "be3b43a1071245309febbd01b6e545c6": {
      "model_module": "@jupyter-widgets/base",
      "model_module_version": "2.0.0",
      "model_name": "LayoutModel",
      "state": {}
     },
     "be6b4210b9ed4ddb9eb5f524639b6cca": {
      "model_module": "@jupyter-widgets/controls",
      "model_module_version": "2.0.0",
      "model_name": "ButtonStyleModel",
      "state": {
       "font_family": null,
       "font_size": null,
       "font_style": null,
       "font_variant": null,
       "font_weight": null,
       "text_color": null,
       "text_decoration": null
      }
     },
     "bec48d2fe63a405d8d6ba8e98666c772": {
      "model_module": "@jupyter-widgets/controls",
      "model_module_version": "2.0.0",
      "model_name": "BoxModel",
      "state": {
       "children": [
        "IPY_MODEL_51f1157b33e546c2ab7a5ef5f1d7da9d",
        "IPY_MODEL_3ddb1032dd56426289e84dcd36f48763"
       ],
       "layout": "IPY_MODEL_cd026f07a1c04d12bf1a84727d9210fb"
      }
     },
     "bee2fa8fd7544446bf161ae9fb84ec8d": {
      "model_module": "@jupyter-widgets/controls",
      "model_module_version": "2.0.0",
      "model_name": "DescriptionStyleModel",
      "state": {
       "description_width": ""
      }
     },
     "bee7b15c3ba04fd8ad6bfb23c2a048ef": {
      "model_module": "@jupyter-widgets/controls",
      "model_module_version": "2.0.0",
      "model_name": "ButtonStyleModel",
      "state": {
       "font_family": null,
       "font_size": null,
       "font_style": null,
       "font_variant": null,
       "font_weight": null,
       "text_color": null,
       "text_decoration": null
      }
     },
     "bf03e913ef5c410186887c5561aaf73f": {
      "model_module": "@jupyter-widgets/controls",
      "model_module_version": "2.0.0",
      "model_name": "ButtonModel",
      "state": {
       "description": "Exit",
       "layout": "IPY_MODEL_6a6f7ac5d63045208e857df355ef5f9d",
       "style": "IPY_MODEL_b05562eb31524527a702afe33e35f812",
       "tooltip": null
      }
     },
     "bf1883005b5645fa81e10df160c5fac0": {
      "model_module": "@jupyter-widgets/base",
      "model_module_version": "2.0.0",
      "model_name": "LayoutModel",
      "state": {}
     },
     "bf6679be1ca441dbbc038e614a22b3bd": {
      "model_module": "@jupyter-widgets/controls",
      "model_module_version": "2.0.0",
      "model_name": "CheckboxModel",
      "state": {
       "description": "e-z curl bar",
       "disabled": false,
       "indent": false,
       "layout": "IPY_MODEL_f6cebee34f8f4e498c09a5f46b47cdc6",
       "style": "IPY_MODEL_99ac04405e694bb1b98dc19922cfd4a7",
       "value": true
      }
     },
     "bf7de480a35640cf97c91acc21243cd3": {
      "model_module": "@jupyter-widgets/base",
      "model_module_version": "2.0.0",
      "model_name": "LayoutModel",
      "state": {}
     },
     "bfe7378201d941a184005c53e208f433": {
      "model_module": "@jupyter-widgets/base",
      "model_module_version": "2.0.0",
      "model_name": "LayoutModel",
      "state": {}
     },
     "c0068f2e658e46778ebd5a68ac49382f": {
      "model_module": "@jupyter-widgets/controls",
      "model_module_version": "2.0.0",
      "model_name": "CheckboxModel",
      "state": {
       "description": "dumbbell",
       "disabled": false,
       "indent": false,
       "layout": "IPY_MODEL_80417c8ac5fe46c9af637f3fcf8f3e55",
       "style": "IPY_MODEL_480f35024fd845ed91de4bce59455c45",
       "value": true
      }
     },
     "c02d3d3fe4764682a7864031b165fd3d": {
      "model_module": "@jupyter-widgets/base",
      "model_module_version": "2.0.0",
      "model_name": "LayoutModel",
      "state": {}
     },
     "c065b4981f7a4027a45aa471df43d7d5": {
      "model_module": "@jupyter-widgets/controls",
      "model_module_version": "2.0.0",
      "model_name": "BoxModel",
      "state": {
       "children": [
        "IPY_MODEL_c7b61191a7494acc9f00f8ffa5ada0db",
        "IPY_MODEL_6df8e48657cf4c30916e3c9c4585ec95"
       ],
       "layout": "IPY_MODEL_8495bd370b994832a7a1269a51c60fd0"
      }
     },
     "c073b2e337aa40d2add70df4181004c1": {
      "model_module": "@jupyter-widgets/controls",
      "model_module_version": "2.0.0",
      "model_name": "GridBoxModel",
      "state": {
       "layout": "IPY_MODEL_16a207dbb9dc43ddbc27c95a5485935c"
      }
     },
     "c089aa6e89574aecaa9b3485414b562b": {
      "model_module": "@jupyter-widgets/controls",
      "model_module_version": "2.0.0",
      "model_name": "CheckboxModel",
      "state": {
       "description": "cable",
       "disabled": false,
       "indent": false,
       "layout": "IPY_MODEL_6b07e660613f45059cc27d3180791507",
       "style": "IPY_MODEL_f25542bd4930450592ce1c2a119cfc34",
       "value": true
      }
     },
     "c0d1aaeb668445e187f894897ea2cb84": {
      "model_module": "@jupyter-widgets/controls",
      "model_module_version": "2.0.0",
      "model_name": "CheckboxModel",
      "state": {
       "description": "Core",
       "disabled": false,
       "indent": false,
       "layout": "IPY_MODEL_d95f94f0c3e44f91be55cc12dac35c96",
       "style": "IPY_MODEL_509dd70ceeb44a72914ad9ee57451166",
       "value": true
      }
     },
     "c0ece0799d8846ff8a2bf0ef4dcd4d98": {
      "model_module": "@jupyter-widgets/controls",
      "model_module_version": "2.0.0",
      "model_name": "HTMLModel",
      "state": {
       "layout": "IPY_MODEL_16b03c7252f24319bdfbb21161f70f0e",
       "style": "IPY_MODEL_3e6ae13a31714bb0b1c138a53a6be276",
       "value": "Dip Machine"
      }
     },
     "c148e34bd39e4f94b251b27d536d8d9f": {
      "model_module": "@jupyter-widgets/controls",
      "model_module_version": "2.0.0",
      "model_name": "HTMLStyleModel",
      "state": {
       "description_width": "",
       "font_size": null,
       "text_color": null
      }
     },
     "c1b8d1776deb4601bac90558108494d7": {
      "model_module": "@jupyter-widgets/controls",
      "model_module_version": "2.0.0",
      "model_name": "VBoxModel",
      "state": {
       "children": [
        "IPY_MODEL_ebd941387fa4409996235e5386dc1af2",
        "IPY_MODEL_20ca10228c7440b28dc17e7365b6ba18"
       ],
       "layout": "IPY_MODEL_4e524a1de744453d9178638eae1e1390"
      }
     },
     "c1d622eaca7a4e428c30c3f7e8721142": {
      "model_module": "@jupyter-widgets/controls",
      "model_module_version": "2.0.0",
      "model_name": "ButtonStyleModel",
      "state": {
       "font_family": null,
       "font_size": null,
       "font_style": null,
       "font_variant": null,
       "font_weight": null,
       "text_color": null,
       "text_decoration": null
      }
     },
     "c1d6550c729d418684de3ff96dec9642": {
      "model_module": "@jupyter-widgets/controls",
      "model_module_version": "2.0.0",
      "model_name": "CheckboxStyleModel",
      "state": {
       "description_width": ""
      }
     },
     "c200766de5434db0a49472c94b2f165b": {
      "model_module": "@jupyter-widgets/base",
      "model_module_version": "2.0.0",
      "model_name": "LayoutModel",
      "state": {}
     },
     "c22d68acdc9148d18e5a41300e83ef35": {
      "model_module": "@jupyter-widgets/controls",
      "model_module_version": "2.0.0",
      "model_name": "ButtonStyleModel",
      "state": {
       "font_family": null,
       "font_size": null,
       "font_style": null,
       "font_variant": null,
       "font_weight": null,
       "text_color": null,
       "text_decoration": null
      }
     },
     "c2339c86824f474aaa2ccaba0e10a16d": {
      "model_module": "@jupyter-widgets/controls",
      "model_module_version": "2.0.0",
      "model_name": "VBoxModel",
      "state": {
       "children": [
        "IPY_MODEL_16bfe10a086e4072a6de382a71cb6877",
        "IPY_MODEL_a6e268585f264f3886d10e352c885c6f"
       ],
       "layout": "IPY_MODEL_7866fc57e84646d5a8f9d701cb8a54af"
      }
     },
     "c26a1c701f9243c3b2513e577acb1561": {
      "model_module": "@jupyter-widgets/base",
      "model_module_version": "2.0.0",
      "model_name": "LayoutModel",
      "state": {}
     },
     "c274b46afdfb44ee9fee2de487b7d1e8": {
      "model_module": "@jupyter-widgets/base",
      "model_module_version": "2.0.0",
      "model_name": "LayoutModel",
      "state": {
       "height": "40px",
       "width": "120px"
      }
     },
     "c2a6c6aba1d94ef89df8fdad57fa461a": {
      "model_module": "@jupyter-widgets/base",
      "model_module_version": "2.0.0",
      "model_name": "LayoutModel",
      "state": {}
     },
     "c31937d31795488bbb0370816ce48bed": {
      "model_module": "@jupyter-widgets/base",
      "model_module_version": "2.0.0",
      "model_name": "LayoutModel",
      "state": {
       "height": "55px",
       "width": "80px"
      }
     },
     "c356249c11c849f6b186e6580ad3c892": {
      "model_module": "@jupyter-widgets/base",
      "model_module_version": "2.0.0",
      "model_name": "LayoutModel",
      "state": {}
     },
     "c377347396d74f08a668957621745ef3": {
      "model_module": "@jupyter-widgets/controls",
      "model_module_version": "2.0.0",
      "model_name": "ButtonStyleModel",
      "state": {
       "font_family": null,
       "font_size": null,
       "font_style": null,
       "font_variant": null,
       "font_weight": null,
       "text_color": null,
       "text_decoration": null
      }
     },
     "c37c0be405e54a3381e4dbe6675733d8": {
      "model_module": "@jupyter-widgets/base",
      "model_module_version": "2.0.0",
      "model_name": "LayoutModel",
      "state": {
       "height": "40px",
       "width": "160px"
      }
     },
     "c393334d9b004d179f2a50c1c984dd11": {
      "model_module": "@jupyter-widgets/base",
      "model_module_version": "2.0.0",
      "model_name": "LayoutModel",
      "state": {
       "height": "40px",
       "width": "120px"
      }
     },
     "c3a93499e005483f9a7549a4439febec": {
      "model_module": "@jupyter-widgets/base",
      "model_module_version": "2.0.0",
      "model_name": "LayoutModel",
      "state": {
       "height": "40px",
       "width": "120px"
      }
     },
     "c3e70fd04a2f4704b0eff4dfffe86105": {
      "model_module": "@jupyter-widgets/controls",
      "model_module_version": "2.0.0",
      "model_name": "CheckboxStyleModel",
      "state": {
       "description_width": ""
      }
     },
     "c4c68b0909b542af8c262415385f676a": {
      "model_module": "@jupyter-widgets/base",
      "model_module_version": "2.0.0",
      "model_name": "LayoutModel",
      "state": {
       "height": "55px",
       "width": "80px"
      }
     },
     "c4fa0ddc2445468daa29ac67eab954a0": {
      "model_module": "@jupyter-widgets/base",
      "model_module_version": "2.0.0",
      "model_name": "LayoutModel",
      "state": {
       "height": "40px",
       "width": "120px"
      }
     },
     "c53e23f575c145c8b2792204e4341f1f": {
      "model_module": "@jupyter-widgets/controls",
      "model_module_version": "2.0.0",
      "model_name": "ButtonModel",
      "state": {
       "description": "Exit",
       "layout": "IPY_MODEL_09c184e3b7b043d9b7794aa5651c9aed",
       "style": "IPY_MODEL_c22d68acdc9148d18e5a41300e83ef35",
       "tooltip": null
      }
     },
     "c5570b081d2e406bb0bb8dfa5f168e70": {
      "model_module": "@jupyter-widgets/controls",
      "model_module_version": "2.0.0",
      "model_name": "ButtonStyleModel",
      "state": {
       "font_family": null,
       "font_size": null,
       "font_style": null,
       "font_variant": null,
       "font_weight": null,
       "text_color": null,
       "text_decoration": null
      }
     },
     "c5733812869944c987ef2cfefe60e100": {
      "model_module": "@jupyter-widgets/base",
      "model_module_version": "2.0.0",
      "model_name": "LayoutModel",
      "state": {
       "height": "120px",
       "width": "100px"
      }
     },
     "c589414d2a4e4e47b2462b54ee19cb80": {
      "model_module": "@jupyter-widgets/controls",
      "model_module_version": "2.0.0",
      "model_name": "ButtonStyleModel",
      "state": {
       "font_family": null,
       "font_size": null,
       "font_style": null,
       "font_variant": null,
       "font_weight": null,
       "text_color": null,
       "text_decoration": null
      }
     },
     "c5afd462ab834b89906448a850e696f3": {
      "model_module": "@jupyter-widgets/controls",
      "model_module_version": "2.0.0",
      "model_name": "ButtonStyleModel",
      "state": {
       "font_family": null,
       "font_size": null,
       "font_style": null,
       "font_variant": null,
       "font_weight": null,
       "text_color": null,
       "text_decoration": null
      }
     },
     "c61aac8a1c6248dfb361477177158c12": {
      "model_module": "@jupyter-widgets/controls",
      "model_module_version": "2.0.0",
      "model_name": "CheckboxModel",
      "state": {
       "description": "powerlifting",
       "disabled": false,
       "indent": false,
       "layout": "IPY_MODEL_dbf72bf076fe43a88669fb2f86ef1f14",
       "style": "IPY_MODEL_39ddd9dae8bf452a9b5f9f82935c179a",
       "value": true
      }
     },
     "c61f300db2fe436fa2a6a4118941d167": {
      "model_module": "@jupyter-widgets/controls",
      "model_module_version": "2.0.0",
      "model_name": "ButtonStyleModel",
      "state": {
       "font_family": null,
       "font_size": null,
       "font_style": null,
       "font_variant": null,
       "font_weight": null,
       "text_color": null,
       "text_decoration": null
      }
     },
     "c62d9f0165e54f829719e7b3eda0d3ce": {
      "model_module": "@jupyter-widgets/base",
      "model_module_version": "2.0.0",
      "model_name": "LayoutModel",
      "state": {}
     },
     "c64b312261294fb5a37a8d2b61f9c68c": {
      "model_module": "@jupyter-widgets/controls",
      "model_module_version": "2.0.0",
      "model_name": "HBoxModel",
      "state": {
       "children": [
        "IPY_MODEL_88236fcbfa044543a3ca9c35291456a1",
        "IPY_MODEL_6f6a8bae2af047b1a824df6507109d2e",
        "IPY_MODEL_bda9e11f599f4f478cbb3a0f7a70086d",
        "IPY_MODEL_df03de3b040c45bfacadd7d8e1be9ed4"
       ],
       "layout": "IPY_MODEL_111c59d620a144528c28ca9db2289cda"
      }
     },
     "c674ad0e52f34e53ada7a5b6e6e83306": {
      "model_module": "@jupyter-widgets/base",
      "model_module_version": "2.0.0",
      "model_name": "LayoutModel",
      "state": {}
     },
     "c678757d32134068900d6ce86ccb13c8": {
      "model_module": "@jupyter-widgets/controls",
      "model_module_version": "2.0.0",
      "model_name": "ButtonModel",
      "state": {
       "description": "Close",
       "layout": "IPY_MODEL_b890288e6fc741c794c76cac7ea63eb8",
       "style": "IPY_MODEL_f3220720099549d9b7131663c40044bf",
       "tooltip": null
      }
     },
     "c68a8cea06ac486aac6d7adeb8db904a": {
      "model_module": "@jupyter-widgets/controls",
      "model_module_version": "2.0.0",
      "model_name": "ButtonStyleModel",
      "state": {
       "font_family": null,
       "font_size": null,
       "font_style": null,
       "font_variant": null,
       "font_weight": null,
       "text_color": null,
       "text_decoration": null
      }
     },
     "c6bb62545edb4d8295cefc75b8eec052": {
      "model_module": "@jupyter-widgets/controls",
      "model_module_version": "2.0.0",
      "model_name": "HBoxModel",
      "state": {
       "children": [
        "IPY_MODEL_0037d724f0a64c52aefe3d168624e095",
        "IPY_MODEL_1af21a9c06d340e8b62dd9eebadc6e39",
        "IPY_MODEL_3256ad36fab84805974c8dc6027fe3b2",
        "IPY_MODEL_a19ed9f1fc3746599326b68eecbf66b9"
       ],
       "layout": "IPY_MODEL_d1eac38923244ec18b5d977d0e0c605b"
      }
     },
     "c6bb6a9622a042349d8f8a511b212844": {
      "model_module": "@jupyter-widgets/controls",
      "model_module_version": "2.0.0",
      "model_name": "ButtonModel",
      "state": {
       "description": "Close",
       "layout": "IPY_MODEL_09bf611220434519a7f841c6132c80cf",
       "style": "IPY_MODEL_d7bd82075d454fa0829e1fb6d2000edc",
       "tooltip": null
      }
     },
     "c6fbcf388c954fd095f337e688d90e73": {
      "model_module": "@jupyter-widgets/controls",
      "model_module_version": "2.0.0",
      "model_name": "HTMLStyleModel",
      "state": {
       "description_width": "",
       "font_size": null,
       "text_color": null
      }
     },
     "c720f207cab34173994c1002fd9a7142": {
      "model_module": "@jupyter-widgets/controls",
      "model_module_version": "2.0.0",
      "model_name": "HTMLStyleModel",
      "state": {
       "description_width": "",
       "font_size": null,
       "text_color": null
      }
     },
     "c79439b10089433fa13f9260cdc865ba": {
      "model_module": "@jupyter-widgets/base",
      "model_module_version": "2.0.0",
      "model_name": "LayoutModel",
      "state": {}
     },
     "c7af3d6909474d7d861c88ca9b558c2f": {
      "model_module": "@jupyter-widgets/controls",
      "model_module_version": "2.0.0",
      "model_name": "CheckboxStyleModel",
      "state": {
       "description_width": ""
      }
     },
     "c7b61191a7494acc9f00f8ffa5ada0db": {
      "model_module": "@jupyter-widgets/controls",
      "model_module_version": "2.0.0",
      "model_name": "DropdownModel",
      "state": {
       "_options_labels": [
        "One",
        "Two",
        "Three",
        "Four",
        "Five"
       ],
       "index": 1,
       "layout": "IPY_MODEL_fba9eddb6e3e4195b0ceafe71635588e",
       "style": "IPY_MODEL_1053ffb29bf14881bd1ca6acee333a90"
      }
     },
     "c7c52da8db8b4acf89a30b5f89303c9c": {
      "model_module": "@jupyter-widgets/controls",
      "model_module_version": "2.0.0",
      "model_name": "ButtonStyleModel",
      "state": {
       "font_family": null,
       "font_size": null,
       "font_style": null,
       "font_variant": null,
       "font_weight": null,
       "text_color": null,
       "text_decoration": null
      }
     },
     "c8555e8e153544728b6df122140ff8f2": {
      "model_module": "@jupyter-widgets/base",
      "model_module_version": "2.0.0",
      "model_name": "LayoutModel",
      "state": {}
     },
     "c89f2d69aa9d4e53a670f11cc895f513": {
      "model_module": "@jupyter-widgets/controls",
      "model_module_version": "2.0.0",
      "model_name": "CheckboxModel",
      "state": {
       "description": "exercise ball",
       "disabled": false,
       "indent": false,
       "layout": "IPY_MODEL_925118df400a4343b2310b46a76d9a0b",
       "style": "IPY_MODEL_fbb4a9c036af4120927bfbd42bb00b3d",
       "value": true
      }
     },
     "c8bdc615c28a418b95a2a056fbc228cd": {
      "model_module": "@jupyter-widgets/controls",
      "model_module_version": "2.0.0",
      "model_name": "ButtonStyleModel",
      "state": {
       "font_family": null,
       "font_size": null,
       "font_style": null,
       "font_variant": null,
       "font_weight": null,
       "text_color": null,
       "text_decoration": null
      }
     },
     "c8cf85eebb1c46b0a3f0fb869a0753a7": {
      "model_module": "@jupyter-widgets/controls",
      "model_module_version": "2.0.0",
      "model_name": "HTMLModel",
      "state": {
       "layout": "IPY_MODEL_bf7de480a35640cf97c91acc21243cd3",
       "style": "IPY_MODEL_c720f207cab34173994c1002fd9a7142",
       "value": "<h2>Body Area</h2>"
      }
     },
     "c95d808722884f568858ac5707b055b0": {
      "model_module": "@jupyter-widgets/controls",
      "model_module_version": "2.0.0",
      "model_name": "ButtonStyleModel",
      "state": {
       "font_family": null,
       "font_size": null,
       "font_style": null,
       "font_variant": null,
       "font_weight": null,
       "text_color": null,
       "text_decoration": null
      }
     },
     "c96b2a7539144f94baa728fc9ac6d396": {
      "model_module": "@jupyter-widgets/controls",
      "model_module_version": "2.0.0",
      "model_name": "ButtonModel",
      "state": {
       "description": "Close",
       "layout": "IPY_MODEL_134f6eaf9ddf4be186ef757b765fcf8a",
       "style": "IPY_MODEL_4192879ae53748b191a3361f0ddbaefd",
       "tooltip": null
      }
     },
     "c98b1765146f41cb9ceec702c97b4b87": {
      "model_module": "@jupyter-widgets/base",
      "model_module_version": "2.0.0",
      "model_name": "LayoutModel",
      "state": {
       "height": "55px",
       "width": "80px"
      }
     },
     "c991c9f50f164f2c9d3da52fe2d523a8": {
      "model_module": "@jupyter-widgets/base",
      "model_module_version": "2.0.0",
      "model_name": "LayoutModel",
      "state": {
       "height": "40px",
       "width": "160px"
      }
     },
     "c9a939fc76034be1b63814f239d7333f": {
      "model_module": "@jupyter-widgets/base",
      "model_module_version": "2.0.0",
      "model_name": "LayoutModel",
      "state": {}
     },
     "c9d7563180784d12abd3b9348f3aa13f": {
      "model_module": "@jupyter-widgets/controls",
      "model_module_version": "2.0.0",
      "model_name": "ButtonStyleModel",
      "state": {
       "font_family": null,
       "font_size": null,
       "font_style": null,
       "font_variant": null,
       "font_weight": null,
       "text_color": null,
       "text_decoration": null
      }
     },
     "c9f3d9fb9a15474787c2bc859290c383": {
      "model_module": "@jupyter-widgets/base",
      "model_module_version": "2.0.0",
      "model_name": "LayoutModel",
      "state": {
       "height": "55px",
       "width": "120px"
      }
     },
     "ca4adcad0c3845cdae7e873aadd783e3": {
      "model_module": "@jupyter-widgets/controls",
      "model_module_version": "2.0.0",
      "model_name": "CheckboxModel",
      "state": {
       "description": "body only",
       "disabled": false,
       "indent": false,
       "layout": "IPY_MODEL_835f7b12bd0c47d3ab67761e8f727e25",
       "style": "IPY_MODEL_1b4c7c32d73b4d0abd80c0289264e3eb",
       "value": true
      }
     },
     "ca4ed3ffae014ada99af8568b169c34f": {
      "model_module": "@jupyter-widgets/base",
      "model_module_version": "2.0.0",
      "model_name": "LayoutModel",
      "state": {}
     },
     "ca5668fcbd764d82aeffd5c982035c68": {
      "model_module": "@jupyter-widgets/controls",
      "model_module_version": "2.0.0",
      "model_name": "VBoxModel",
      "state": {
       "children": [
        "IPY_MODEL_f69cdddca406448f8b2f404ac84b740e",
        "IPY_MODEL_d9d4ccf7e09041d98b658d1777f2e3c7",
        "IPY_MODEL_c089aa6e89574aecaa9b3485414b562b",
        "IPY_MODEL_077efa619b1041eaa43ed4390a6a5f24"
       ],
       "layout": "IPY_MODEL_ff23a1c81bae411a8c459b65c6b2c837"
      }
     },
     "ca695df7a40a417e8a870a6670c6c9bf": {
      "model_module": "@jupyter-widgets/controls",
      "model_module_version": "2.0.0",
      "model_name": "CheckboxModel",
      "state": {
       "description": "other",
       "disabled": false,
       "indent": false,
       "layout": "IPY_MODEL_3562492bcbf4470cb0d2c0422813731a",
       "style": "IPY_MODEL_1acf7daee3724f61bdbbb692d866a34f",
       "value": true
      }
     },
     "ca77bb1689fa43a29c1bde86bbf0799d": {
      "model_module": "@jupyter-widgets/controls",
      "model_module_version": "2.0.0",
      "model_name": "CheckboxModel",
      "state": {
       "description": "kettlebells",
       "disabled": false,
       "indent": false,
       "layout": "IPY_MODEL_bcf14c54d34b41ba94c507ab30b1b6df",
       "style": "IPY_MODEL_7273c29e5ca0471f9e5e9c26c264c4ce",
       "value": true
      }
     },
     "ca7dd21850ff4c3a97b657fbe5dc8cf3": {
      "model_module": "@jupyter-widgets/controls",
      "model_module_version": "2.0.0",
      "model_name": "ButtonStyleModel",
      "state": {
       "font_family": null,
       "font_size": null,
       "font_style": null,
       "font_variant": null,
       "font_weight": null,
       "text_color": null,
       "text_decoration": null
      }
     },
     "ca830475c8d94552a42db543720697ba": {
      "model_module": "@jupyter-widgets/controls",
      "model_module_version": "2.0.0",
      "model_name": "BoxModel",
      "state": {
       "children": [
        "IPY_MODEL_f08b88658bc948c7b607c62859787870",
        "IPY_MODEL_de19fff4f6ab4620bb37d830f7e531b4",
        "IPY_MODEL_8b4a913c3fa04d62bc70a558683c1e3b"
       ],
       "layout": "IPY_MODEL_4f05f2319e964ded87ae125ca69ab278"
      }
     },
     "cab3e6896d0b4422bdef5dd1d8b0ae5e": {
      "model_module": "@jupyter-widgets/controls",
      "model_module_version": "2.0.0",
      "model_name": "HTMLModel",
      "state": {
       "layout": "IPY_MODEL_bb6baba53978470bb25e8af63e9d75a5",
       "style": "IPY_MODEL_e3baf986e1b44d4a9e94dd7a49bcf90b",
       "value": "Wind Sprints"
      }
     },
     "cab475bf375342998fd13711c166a8e5": {
      "model_module": "@jupyter-widgets/base",
      "model_module_version": "2.0.0",
      "model_name": "LayoutModel",
      "state": {}
     },
     "cab816c25f4448049855efea83afbc0f": {
      "model_module": "@jupyter-widgets/controls",
      "model_module_version": "2.0.0",
      "model_name": "VBoxModel",
      "state": {
       "children": [
        "IPY_MODEL_430db94335514b579c34ee30b86b833c",
        "IPY_MODEL_4f44b9085f474463a3c580da8826f2b5"
       ],
       "layout": "IPY_MODEL_8d4c1c9066744726bb29e89041844f0b"
      }
     },
     "cabb5904e9e546ac98273650d3b0596a": {
      "model_module": "@jupyter-widgets/base",
      "model_module_version": "2.0.0",
      "model_name": "LayoutModel",
      "state": {
       "height": "40px",
       "width": "120px"
      }
     },
     "cadc2f42017d4d0683447d9ed0042f9f": {
      "model_module": "@jupyter-widgets/controls",
      "model_module_version": "2.0.0",
      "model_name": "CheckboxModel",
      "state": {
       "description": "body only",
       "disabled": false,
       "indent": false,
       "layout": "IPY_MODEL_fce88abc3f82461d9a6a592248c5d201",
       "style": "IPY_MODEL_6e79907d6ebc4a7fbbbf11fe1b3f262f",
       "value": true
      }
     },
     "cb287a79ae094749ba734751dccd67f9": {
      "model_module": "@jupyter-widgets/controls",
      "model_module_version": "2.0.0",
      "model_name": "HBoxModel",
      "state": {
       "children": [
        "IPY_MODEL_201e4cdc254a4c0ca7d10c1dc91a0fd4"
       ],
       "layout": "IPY_MODEL_9528dce938a44f1e91a8763b72468550"
      }
     },
     "cb42e72bffcb4626b93298cdf1dbe405": {
      "model_module": "@jupyter-widgets/controls",
      "model_module_version": "2.0.0",
      "model_name": "ButtonStyleModel",
      "state": {
       "font_family": null,
       "font_size": null,
       "font_style": null,
       "font_variant": null,
       "font_weight": null,
       "text_color": null,
       "text_decoration": null
      }
     },
     "cb650cd9ebd64266bd40f1a8b500e435": {
      "model_module": "@jupyter-widgets/base",
      "model_module_version": "2.0.0",
      "model_name": "LayoutModel",
      "state": {
       "height": "55px",
       "width": "80px"
      }
     },
     "cb65edfb07e449e086ccec03e4cf79a8": {
      "model_module": "@jupyter-widgets/base",
      "model_module_version": "2.0.0",
      "model_name": "LayoutModel",
      "state": {}
     },
     "cb6ec1a5e6d949b6aa80ccdf49a52bbc": {
      "model_module": "@jupyter-widgets/controls",
      "model_module_version": "2.0.0",
      "model_name": "BoxModel",
      "state": {
       "children": [
        "IPY_MODEL_40e0473041f645b096537fe149d85d50",
        "IPY_MODEL_453a25638a5c4458945173e23bc69fd6"
       ],
       "layout": "IPY_MODEL_1fb169a41b0149ac9633a43f6184c8c5"
      }
     },
     "cbde50b186044b67a66a1e731e78da58": {
      "model_module": "@jupyter-widgets/base",
      "model_module_version": "2.0.0",
      "model_name": "LayoutModel",
      "state": {}
     },
     "cbf234bd0af5416e8b9dceea137fc324": {
      "model_module": "@jupyter-widgets/base",
      "model_module_version": "2.0.0",
      "model_name": "LayoutModel",
      "state": {
       "height": "40px",
       "width": "160px"
      }
     },
     "cbf6154367344882af381684a26d460a": {
      "model_module": "@jupyter-widgets/base",
      "model_module_version": "2.0.0",
      "model_name": "LayoutModel",
      "state": {
       "height": "120px",
       "width": "100px"
      }
     },
     "cc58eec06a2a4fe4a4a1c36cc22086f6": {
      "model_module": "@jupyter-widgets/controls",
      "model_module_version": "2.0.0",
      "model_name": "ButtonModel",
      "state": {
       "description": "Close",
       "layout": "IPY_MODEL_d3d0d8ea6a794bf8ae4b06550a758578",
       "style": "IPY_MODEL_c7c52da8db8b4acf89a30b5f89303c9c",
       "tooltip": null
      }
     },
     "ccbddfac4f054c6eb5689d664ae5ce30": {
      "model_module": "@jupyter-widgets/controls",
      "model_module_version": "2.0.0",
      "model_name": "HBoxModel",
      "state": {
       "children": [
        "IPY_MODEL_ef943e94c9bb461f94449de372b61b7d"
       ],
       "layout": "IPY_MODEL_ac514db290a54e899280792518073c9e"
      }
     },
     "cd026f07a1c04d12bf1a84727d9210fb": {
      "model_module": "@jupyter-widgets/base",
      "model_module_version": "2.0.0",
      "model_name": "LayoutModel",
      "state": {
       "align_items": "stretch",
       "display": "flex",
       "flex_flow": "row",
       "justify_content": "space-around",
       "width": "70%"
      }
     },
     "cd3ec5993e8d49ce9a0c6e06bd281c38": {
      "model_module": "@jupyter-widgets/base",
      "model_module_version": "2.0.0",
      "model_name": "LayoutModel",
      "state": {}
     },
     "cd64153970cc4d2193e57d5202d3a284": {
      "model_module": "@jupyter-widgets/base",
      "model_module_version": "2.0.0",
      "model_name": "LayoutModel",
      "state": {
       "height": "55px",
       "width": "80px"
      }
     },
     "cd8b1bda316b4ac4b6bb2e7a2e1ce89a": {
      "model_module": "@jupyter-widgets/controls",
      "model_module_version": "2.0.0",
      "model_name": "HTMLStyleModel",
      "state": {
       "description_width": "",
       "font_size": null,
       "text_color": null
      }
     },
     "cda85f726e4a44c1a254cba95cb9e931": {
      "model_module": "@jupyter-widgets/controls",
      "model_module_version": "2.0.0",
      "model_name": "CheckboxStyleModel",
      "state": {
       "description_width": ""
      }
     },
     "ce0ac4f3dc704262b7238d0fbd3d5b51": {
      "model_module": "@jupyter-widgets/controls",
      "model_module_version": "2.0.0",
      "model_name": "CheckboxModel",
      "state": {
       "description": "foam roll",
       "disabled": false,
       "indent": false,
       "layout": "IPY_MODEL_ef9a532348884fec9b6ddfa28c28d387",
       "style": "IPY_MODEL_25265db3790c41c38057b6903ec24834",
       "value": true
      }
     },
     "ce1a54377f3441019f42848558997e01": {
      "model_module": "@jupyter-widgets/controls",
      "model_module_version": "2.0.0",
      "model_name": "HBoxModel",
      "state": {
       "children": [
        "IPY_MODEL_73bc60f2ee4847e8aed360e0974103cd"
       ],
       "layout": "IPY_MODEL_3bd6cde5644b4d398dd098993e132577"
      }
     },
     "ce4056b91c20407db8d93748477c0b53": {
      "model_module": "@jupyter-widgets/base",
      "model_module_version": "2.0.0",
      "model_name": "LayoutModel",
      "state": {}
     },
     "ce47b13b15664357949a7b61efd54638": {
      "model_module": "@jupyter-widgets/base",
      "model_module_version": "2.0.0",
      "model_name": "LayoutModel",
      "state": {}
     },
     "cee3534f20b04478ab44ce24af36b1f5": {
      "model_module": "@jupyter-widgets/controls",
      "model_module_version": "2.0.0",
      "model_name": "ButtonStyleModel",
      "state": {
       "font_family": null,
       "font_size": null,
       "font_style": null,
       "font_variant": null,
       "font_weight": null,
       "text_color": null,
       "text_decoration": null
      }
     },
     "cf3c26bd976f4790aac4c7b812b8d3a4": {
      "model_module": "@jupyter-widgets/controls",
      "model_module_version": "2.0.0",
      "model_name": "VBoxModel",
      "state": {
       "layout": "IPY_MODEL_c26a1c701f9243c3b2513e577acb1561"
      }
     },
     "cf58bd07db454dbe93af0d346f76b18b": {
      "model_module": "@jupyter-widgets/controls",
      "model_module_version": "2.0.0",
      "model_name": "ButtonModel",
      "state": {
       "description": "Close",
       "layout": "IPY_MODEL_f86cd6413e0d40568a68aafc56c24cfe",
       "style": "IPY_MODEL_c5570b081d2e406bb0bb8dfa5f168e70",
       "tooltip": null
      }
     },
     "cf8e8acb79fb4ae28cdab92012c23364": {
      "model_module": "@jupyter-widgets/controls",
      "model_module_version": "2.0.0",
      "model_name": "HTMLModel",
      "state": {
       "layout": "IPY_MODEL_176aba9b94d9405289c63cc7748200b5",
       "style": "IPY_MODEL_2dae239260b54e94bd7f9c7579d92ae6",
       "value": "<h3>Upper Body</h3>"
      }
     },
     "cfbd4a997a6941d995578dab89afd85e": {
      "model_module": "@jupyter-widgets/controls",
      "model_module_version": "2.0.0",
      "model_name": "CheckboxStyleModel",
      "state": {
       "description_width": ""
      }
     },
     "cff07bcf05de467288020e9814a1c10a": {
      "model_module": "@jupyter-widgets/controls",
      "model_module_version": "2.0.0",
      "model_name": "CheckboxModel",
      "state": {
       "description": "stretching",
       "disabled": false,
       "indent": false,
       "layout": "IPY_MODEL_ff13792ba0914e95b62031496b2f4f61",
       "style": "IPY_MODEL_4a7422a43fcf418b9891a3d98a35d3d6",
       "value": true
      }
     },
     "d02bde2f6c124ae083ad614f81a24a2a": {
      "model_module": "@jupyter-widgets/controls",
      "model_module_version": "2.0.0",
      "model_name": "VBoxModel",
      "state": {
       "children": [
        "IPY_MODEL_d4a782c8242c42aa8896203058dabf65",
        "IPY_MODEL_8b1b760635a84f8285ec40d8a2783d90",
        "IPY_MODEL_769a7925ccf449eeb7867e2e3bc8a7d6"
       ],
       "layout": "IPY_MODEL_bd5e509ff8dc4221af0eddeb24f93764"
      }
     },
     "d04441bcb0694ec9b750dac67743159e": {
      "model_module": "@jupyter-widgets/base",
      "model_module_version": "2.0.0",
      "model_name": "LayoutModel",
      "state": {}
     },
     "d07084f89a7e4a96923fbeb65531498f": {
      "model_module": "@jupyter-widgets/controls",
      "model_module_version": "2.0.0",
      "model_name": "HBoxModel",
      "state": {
       "children": [
        "IPY_MODEL_47cb83472f404604a99dd00f9a10246f"
       ],
       "layout": "IPY_MODEL_88b85b9558874380b75bc9d34c05968a"
      }
     },
     "d0825c8e60e64dc7a22e4055fd7be72a": {
      "model_module": "@jupyter-widgets/base",
      "model_module_version": "2.0.0",
      "model_name": "LayoutModel",
      "state": {
       "height": "40px",
       "width": "160px"
      }
     },
     "d082b96cef564495bb8ede9f71f9471a": {
      "model_module": "@jupyter-widgets/base",
      "model_module_version": "2.0.0",
      "model_name": "LayoutModel",
      "state": {}
     },
     "d09ddf820f8b4adc8a97b667b69d64aa": {
      "model_module": "@jupyter-widgets/controls",
      "model_module_version": "2.0.0",
      "model_name": "ButtonStyleModel",
      "state": {
       "font_family": null,
       "font_size": null,
       "font_style": null,
       "font_variant": null,
       "font_weight": null,
       "text_color": null,
       "text_decoration": null
      }
     },
     "d0a24fd4cf83490c99041bcce81626c0": {
      "model_module": "@jupyter-widgets/controls",
      "model_module_version": "2.0.0",
      "model_name": "ButtonStyleModel",
      "state": {
       "font_family": null,
       "font_size": null,
       "font_style": null,
       "font_variant": null,
       "font_weight": null,
       "text_color": null,
       "text_decoration": null
      }
     },
     "d0b299b9dedb40148ee160cdb68f02bd": {
      "model_module": "@jupyter-widgets/base",
      "model_module_version": "2.0.0",
      "model_name": "LayoutModel",
      "state": {}
     },
     "d10e9af593cf47c698bfbd28bd49ecf1": {
      "model_module": "@jupyter-widgets/controls",
      "model_module_version": "2.0.0",
      "model_name": "CheckboxModel",
      "state": {
       "description": "strongman",
       "disabled": false,
       "indent": false,
       "layout": "IPY_MODEL_cbf234bd0af5416e8b9dceea137fc324",
       "style": "IPY_MODEL_1d25f393dac34e62a125a0b1406f1826",
       "value": true
      }
     },
     "d130e79882884635bcd2da2f1ff9f187": {
      "model_module": "@jupyter-widgets/controls",
      "model_module_version": "2.0.0",
      "model_name": "CheckboxStyleModel",
      "state": {
       "description_width": ""
      }
     },
     "d16a28a8282841bca61af6e1abc3210d": {
      "model_module": "@jupyter-widgets/base",
      "model_module_version": "2.0.0",
      "model_name": "LayoutModel",
      "state": {
       "height": "120px",
       "width": "100px"
      }
     },
     "d188be400e7843d5ba71c2ddad045ca3": {
      "model_module": "@jupyter-widgets/base",
      "model_module_version": "2.0.0",
      "model_name": "LayoutModel",
      "state": {}
     },
     "d1b9cab4ac39415194f0e5eabb7717d9": {
      "model_module": "@jupyter-widgets/base",
      "model_module_version": "2.0.0",
      "model_name": "LayoutModel",
      "state": {}
     },
     "d1eac38923244ec18b5d977d0e0c605b": {
      "model_module": "@jupyter-widgets/base",
      "model_module_version": "2.0.0",
      "model_name": "LayoutModel",
      "state": {}
     },
     "d1eeb217a20d42a48329e38b6d543791": {
      "model_module": "@jupyter-widgets/base",
      "model_module_version": "2.0.0",
      "model_name": "LayoutModel",
      "state": {}
     },
     "d1faf571243a40628d17622d39b50c6b": {
      "model_module": "@jupyter-widgets/controls",
      "model_module_version": "2.0.0",
      "model_name": "HTMLStyleModel",
      "state": {
       "description_width": "",
       "font_size": null,
       "text_color": null
      }
     },
     "d296ecb2a4874b4ab6717cae2ac1352d": {
      "model_module": "@jupyter-widgets/base",
      "model_module_version": "2.0.0",
      "model_name": "LayoutModel",
      "state": {}
     },
     "d2a73402695742fbaa9f24e3b7d3613d": {
      "model_module": "@jupyter-widgets/base",
      "model_module_version": "2.0.0",
      "model_name": "LayoutModel",
      "state": {}
     },
     "d2c19895ff9b40c7bb710a444e005a14": {
      "model_module": "@jupyter-widgets/base",
      "model_module_version": "2.0.0",
      "model_name": "LayoutModel",
      "state": {
       "height": "40px",
       "width": "160px"
      }
     },
     "d2c549d59128401482c10656720d2ce9": {
      "model_module": "@jupyter-widgets/controls",
      "model_module_version": "2.0.0",
      "model_name": "HBoxModel",
      "state": {
       "children": [
        "IPY_MODEL_989f8be0c009449e97b4bf62c9507892"
       ],
       "layout": "IPY_MODEL_5e9f009a538548e983c23e809284a709"
      }
     },
     "d2cda9bfa6c3415c959e3717bd44078a": {
      "model_module": "@jupyter-widgets/base",
      "model_module_version": "2.0.0",
      "model_name": "LayoutModel",
      "state": {}
     },
     "d2dd06ab1ea748b9a9773f0597ddea04": {
      "model_module": "@jupyter-widgets/controls",
      "model_module_version": "2.0.0",
      "model_name": "VBoxModel",
      "state": {
       "children": [
        "IPY_MODEL_8237519dcbf64d10a749b683c1f1f85f",
        "IPY_MODEL_20ca10228c7440b28dc17e7365b6ba18"
       ],
       "layout": "IPY_MODEL_10525316ff0846fc80482fc657637402"
      }
     },
     "d2e780c1c71c4916a02d2f65e9bf556c": {
      "model_module": "@jupyter-widgets/controls",
      "model_module_version": "2.0.0",
      "model_name": "CheckboxModel",
      "state": {
       "description": "bands",
       "disabled": false,
       "indent": false,
       "layout": "IPY_MODEL_c3a93499e005483f9a7549a4439febec",
       "style": "IPY_MODEL_56c0532e1878400c877f7973668d9d1c",
       "value": true
      }
     },
     "d34f3f2ac54e4c80952619113879242f": {
      "model_module": "@jupyter-widgets/base",
      "model_module_version": "2.0.0",
      "model_name": "LayoutModel",
      "state": {}
     },
     "d398531b147e49729c14d82b521e67d1": {
      "model_module": "@jupyter-widgets/controls",
      "model_module_version": "2.0.0",
      "model_name": "CheckboxModel",
      "state": {
       "description": "barbell",
       "disabled": false,
       "indent": false,
       "layout": "IPY_MODEL_3502c629c1b94ca0932dfa47f80d407a",
       "style": "IPY_MODEL_8a91a27ee0c447b393cc879f67093073",
       "value": true
      }
     },
     "d3a08198c5a14772b8e0233f97490c14": {
      "model_module": "@jupyter-widgets/controls",
      "model_module_version": "2.0.0",
      "model_name": "ButtonModel",
      "state": {
       "description": "Close",
       "layout": "IPY_MODEL_a2f7e0e9b82242c4b360b6df32ab0ef9",
       "style": "IPY_MODEL_951ce71de1b54acfb839546b9afdf1b7",
       "tooltip": null
      }
     },
     "d3d0d8ea6a794bf8ae4b06550a758578": {
      "model_module": "@jupyter-widgets/base",
      "model_module_version": "2.0.0",
      "model_name": "LayoutModel",
      "state": {
       "height": "55px",
       "width": "80px"
      }
     },
     "d4032e27110744b99c9f1412e510602f": {
      "model_module": "@jupyter-widgets/controls",
      "model_module_version": "2.0.0",
      "model_name": "ButtonStyleModel",
      "state": {
       "font_family": null,
       "font_size": null,
       "font_style": null,
       "font_variant": null,
       "font_weight": null,
       "text_color": null,
       "text_decoration": null
      }
     },
     "d412137b78cf4056afc5e43f18175d02": {
      "model_module": "@jupyter-widgets/base",
      "model_module_version": "2.0.0",
      "model_name": "LayoutModel",
      "state": {}
     },
     "d42941844e84439c90fc099d542349e6": {
      "model_module": "@jupyter-widgets/controls",
      "model_module_version": "2.0.0",
      "model_name": "HBoxModel",
      "state": {
       "children": [
        "IPY_MODEL_2080cdba0f974e02ac6b3b43b3d75fc5"
       ],
       "layout": "IPY_MODEL_09700a846a074d149e88038c895f178c"
      }
     },
     "d4599fa0aeb94687b8073f11538689d3": {
      "model_module": "@jupyter-widgets/controls",
      "model_module_version": "2.0.0",
      "model_name": "ButtonStyleModel",
      "state": {
       "font_family": null,
       "font_size": null,
       "font_style": null,
       "font_variant": null,
       "font_weight": null,
       "text_color": null,
       "text_decoration": null
      }
     },
     "d47e173fd445462cbd013eb3889b33bc": {
      "model_module": "@jupyter-widgets/controls",
      "model_module_version": "2.0.0",
      "model_name": "HTMLStyleModel",
      "state": {
       "description_width": "",
       "font_size": null,
       "text_color": null
      }
     },
     "d482bdf434ff4371b58cc699a5ee4654": {
      "model_module": "@jupyter-widgets/base",
      "model_module_version": "2.0.0",
      "model_name": "LayoutModel",
      "state": {}
     },
     "d4a782c8242c42aa8896203058dabf65": {
      "model_module": "@jupyter-widgets/controls",
      "model_module_version": "2.0.0",
      "model_name": "VBoxModel",
      "state": {
       "children": [
        "IPY_MODEL_396a68ea4d6047c98a90235db386f7ec",
        "IPY_MODEL_8dac4d2d67334410b763bb34e8aa8510"
       ],
       "layout": "IPY_MODEL_67ae5d3d972a4e009e3dc26f265ed554"
      }
     },
     "d4de23da2e9f4a1795c6554439632212": {
      "model_module": "@jupyter-widgets/base",
      "model_module_version": "2.0.0",
      "model_name": "LayoutModel",
      "state": {}
     },
     "d52a11f5bef64a7d93d092b1e08fcbb7": {
      "model_module": "@jupyter-widgets/controls",
      "model_module_version": "2.0.0",
      "model_name": "CheckboxModel",
      "state": {
       "description": "exercise ball",
       "disabled": false,
       "indent": false,
       "layout": "IPY_MODEL_d81e22bb97594f309e39b10256a325ba",
       "style": "IPY_MODEL_8427ddfed354460599dc30d7f59f376f",
       "value": true
      }
     },
     "d5db3d0d277f4a449dc766c32df2533a": {
      "model_module": "@jupyter-widgets/base",
      "model_module_version": "2.0.0",
      "model_name": "LayoutModel",
      "state": {
       "height": "55px",
       "width": "80px"
      }
     },
     "d6676e38b047400d82783cdb3b8db160": {
      "model_module": "@jupyter-widgets/base",
      "model_module_version": "2.0.0",
      "model_name": "LayoutModel",
      "state": {
       "height": "55px",
       "width": "120px"
      }
     },
     "d681e80b32df422e9f243725df1f6322": {
      "model_module": "@jupyter-widgets/controls",
      "model_module_version": "2.0.0",
      "model_name": "VBoxModel",
      "state": {
       "children": [
        "IPY_MODEL_6d7ca4402ebc481aa903ef50ddf1b348",
        "IPY_MODEL_ac9882b08fbe458abffb859c1e7613ea",
        "IPY_MODEL_f2549eda39e34bc29b712a49e303f398",
        "IPY_MODEL_e3cb7f09b4214ee5bf6b51193485e742"
       ],
       "layout": "IPY_MODEL_c02d3d3fe4764682a7864031b165fd3d"
      }
     },
     "d692065a529241d984ebcef559bc8188": {
      "model_module": "@jupyter-widgets/controls",
      "model_module_version": "2.0.0",
      "model_name": "ButtonModel",
      "state": {
       "description": "Body Area",
       "layout": "IPY_MODEL_92ab0b10e74f43da9edd84f196e68895",
       "style": "IPY_MODEL_eba5feb134f0433bba6039c45221a9fe",
       "tooltip": null
      }
     },
     "d6ad780d40e748c5859d58fa0754baa2": {
      "model_module": "@jupyter-widgets/base",
      "model_module_version": "2.0.0",
      "model_name": "LayoutModel",
      "state": {
       "height": "40px",
       "width": "160px"
      }
     },
     "d6d0565ab8af4ce4aabb8ba87e1ae39c": {
      "model_module": "@jupyter-widgets/base",
      "model_module_version": "2.0.0",
      "model_name": "LayoutModel",
      "state": {}
     },
     "d6dc5d3bea6a464994af347047f499b3": {
      "model_module": "@jupyter-widgets/base",
      "model_module_version": "2.0.0",
      "model_name": "LayoutModel",
      "state": {
       "align_items": "stretch",
       "display": "flex",
       "flex_flow": "row",
       "justify_content": "space-around",
       "width": "70%"
      }
     },
     "d6fc0ab183834a0a95be124622d3932c": {
      "model_module": "@jupyter-widgets/base",
      "model_module_version": "2.0.0",
      "model_name": "LayoutModel",
      "state": {
       "height": "55px",
       "width": "80px"
      }
     },
     "d70221385fd346a5887c22c5fbc88492": {
      "model_module": "@jupyter-widgets/controls",
      "model_module_version": "2.0.0",
      "model_name": "ButtonModel",
      "state": {
       "description": "Run",
       "layout": "IPY_MODEL_0ff69e8d57a744e29f2240a096eafdce",
       "style": "IPY_MODEL_c61f300db2fe436fa2a6a4118941d167",
       "tooltip": null
      }
     },
     "d769c73c961e418cb82afc3d68bb0cd7": {
      "model_module": "@jupyter-widgets/controls",
      "model_module_version": "2.0.0",
      "model_name": "CheckboxModel",
      "state": {
       "description": "upperBody",
       "disabled": false,
       "indent": false,
       "layout": "IPY_MODEL_3030b57decea4b27a4fc171350186637",
       "style": "IPY_MODEL_4e5a0dc4a53d497c823b8d17e3da2c8c",
       "value": true
      }
     },
     "d7bbb78bbf6c45098c5e12b81b6d4e7f": {
      "model_module": "@jupyter-widgets/base",
      "model_module_version": "2.0.0",
      "model_name": "LayoutModel",
      "state": {}
     },
     "d7bd82075d454fa0829e1fb6d2000edc": {
      "model_module": "@jupyter-widgets/controls",
      "model_module_version": "2.0.0",
      "model_name": "ButtonStyleModel",
      "state": {
       "font_family": null,
       "font_size": null,
       "font_style": null,
       "font_variant": null,
       "font_weight": null,
       "text_color": null,
       "text_decoration": null
      }
     },
     "d8124945cf0a40e0b99e19cbd8f367df": {
      "model_module": "@jupyter-widgets/controls",
      "model_module_version": "2.0.0",
      "model_name": "ButtonStyleModel",
      "state": {
       "font_family": null,
       "font_size": null,
       "font_style": null,
       "font_variant": null,
       "font_weight": null,
       "text_color": null,
       "text_decoration": null
      }
     },
     "d81e22bb97594f309e39b10256a325ba": {
      "model_module": "@jupyter-widgets/base",
      "model_module_version": "2.0.0",
      "model_name": "LayoutModel",
      "state": {
       "height": "40px",
       "width": "160px"
      }
     },
     "d879a48f08fe4517b5bc4f3ae665dd24": {
      "model_module": "@jupyter-widgets/base",
      "model_module_version": "2.0.0",
      "model_name": "LayoutModel",
      "state": {
       "height": "120px",
       "width": "100px"
      }
     },
     "d8bbe25bc74944dd8cac1c2fd686a42a": {
      "model_module": "@jupyter-widgets/controls",
      "model_module_version": "2.0.0",
      "model_name": "CheckboxModel",
      "state": {
       "description": "e-z curl bar",
       "disabled": false,
       "indent": false,
       "layout": "IPY_MODEL_72fad7642ccd4d389abdbe4d24b636c4",
       "style": "IPY_MODEL_579da9bf40704f5fbcd9a953d1cdee82",
       "value": true
      }
     },
     "d8c50e9e2ffd4729ac94c5560a3960c7": {
      "model_module": "@jupyter-widgets/controls",
      "model_module_version": "2.0.0",
      "model_name": "CheckboxStyleModel",
      "state": {
       "description_width": ""
      }
     },
     "d8fdc7094f50404a8b054eec22b5d118": {
      "model_module": "@jupyter-widgets/controls",
      "model_module_version": "2.0.0",
      "model_name": "HTMLStyleModel",
      "state": {
       "description_width": "",
       "font_size": null,
       "text_color": null
      }
     },
     "d91cb54b4b91498ba4013c1fb42c7f01": {
      "model_module": "@jupyter-widgets/base",
      "model_module_version": "2.0.0",
      "model_name": "LayoutModel",
      "state": {}
     },
     "d92fb2995ded465a8a698841d049c8fb": {
      "model_module": "@jupyter-widgets/controls",
      "model_module_version": "2.0.0",
      "model_name": "CheckboxModel",
      "state": {
       "description": "medicine ball",
       "disabled": false,
       "indent": false,
       "layout": "IPY_MODEL_93499e0873ad49deaee1324c7214f021",
       "style": "IPY_MODEL_ace99516ed3944d98253ba7a37ea9292",
       "value": true
      }
     },
     "d95014b7ea034d13bdb0d173aa1c0b5f": {
      "model_module": "@jupyter-widgets/base",
      "model_module_version": "2.0.0",
      "model_name": "LayoutModel",
      "state": {
       "height": "40px",
       "width": "140px"
      }
     },
     "d956190d72204de58931a63d0b3a85d5": {
      "model_module": "@jupyter-widgets/controls",
      "model_module_version": "2.0.0",
      "model_name": "BoxModel",
      "state": {
       "children": [
        "IPY_MODEL_33aa4837fe9449d99e60ae63abe029af",
        "IPY_MODEL_c678757d32134068900d6ce86ccb13c8"
       ],
       "layout": "IPY_MODEL_860149c605b248c3bbd4b6d551676261"
      }
     },
     "d95f94f0c3e44f91be55cc12dac35c96": {
      "model_module": "@jupyter-widgets/base",
      "model_module_version": "2.0.0",
      "model_name": "LayoutModel",
      "state": {
       "height": "40px",
       "width": "120px"
      }
     },
     "d9d4ccf7e09041d98b658d1777f2e3c7": {
      "model_module": "@jupyter-widgets/controls",
      "model_module_version": "2.0.0",
      "model_name": "CheckboxModel",
      "state": {
       "description": "bands",
       "disabled": false,
       "indent": false,
       "layout": "IPY_MODEL_d95014b7ea034d13bdb0d173aa1c0b5f",
       "style": "IPY_MODEL_32abc32b3e1442ab9b6f0ead3d35ae3d",
       "value": true
      }
     },
     "d9eff5c589c0481eabd9cc5f6361ec29": {
      "model_module": "@jupyter-widgets/controls",
      "model_module_version": "2.0.0",
      "model_name": "HBoxModel",
      "state": {
       "children": [
        "IPY_MODEL_8e88230de75c4a8693e5d2e41c8225bd",
        "IPY_MODEL_f1f9332bc4c94c4d97965ad4ee5cbbe3",
        "IPY_MODEL_65fd6aeeb9db4f7a838b9f64d645ba79",
        "IPY_MODEL_3819d33b02b241b69056973aca1f3bc4"
       ],
       "layout": "IPY_MODEL_68ea03b9896c40e2886921a0bb4729e5"
      }
     },
     "da197572c2d24db1a31ef02ff32b9c4c": {
      "model_module": "@jupyter-widgets/base",
      "model_module_version": "2.0.0",
      "model_name": "LayoutModel",
      "state": {}
     },
     "da380249fd0b4218814cc97ee5d2d8bc": {
      "model_module": "@jupyter-widgets/base",
      "model_module_version": "2.0.0",
      "model_name": "LayoutModel",
      "state": {
       "height": "120px",
       "width": "100px"
      }
     },
     "da84b8ffdd2b4dfcba4503ad6d66ceb7": {
      "model_module": "@jupyter-widgets/controls",
      "model_module_version": "2.0.0",
      "model_name": "ButtonStyleModel",
      "state": {
       "font_family": null,
       "font_size": null,
       "font_style": null,
       "font_variant": null,
       "font_weight": null,
       "text_color": null,
       "text_decoration": null
      }
     },
     "daee8048044c4425b816d1605c979d74": {
      "model_module": "@jupyter-widgets/base",
      "model_module_version": "2.0.0",
      "model_name": "LayoutModel",
      "state": {}
     },
     "daff5be1ea004c64b01d7b256656a462": {
      "model_module": "@jupyter-widgets/base",
      "model_module_version": "2.0.0",
      "model_name": "LayoutModel",
      "state": {
       "height": "120px",
       "width": "100px"
      }
     },
     "db1eda263bf746a7abadde1e234c7c6c": {
      "model_module": "@jupyter-widgets/controls",
      "model_module_version": "2.0.0",
      "model_name": "CheckboxModel",
      "state": {
       "description": "medicine ball",
       "disabled": false,
       "indent": false,
       "layout": "IPY_MODEL_9e9bda32529441a1bc496fd325fbd4d0",
       "style": "IPY_MODEL_fdd64cf1822346fdb2616ee863fe51e7",
       "value": true
      }
     },
     "dba151670fd846d9abb12bd67943c0c7": {
      "model_module": "@jupyter-widgets/base",
      "model_module_version": "2.0.0",
      "model_name": "LayoutModel",
      "state": {
       "height": "40px",
       "width": "120px"
      }
     },
     "dbf64c9d7bc6412999d6a0fca567c904": {
      "model_module": "@jupyter-widgets/controls",
      "model_module_version": "2.0.0",
      "model_name": "HTMLStyleModel",
      "state": {
       "description_width": "",
       "font_size": null,
       "text_color": null
      }
     },
     "dbf66099626c43599294809b2419fd25": {
      "model_module": "@jupyter-widgets/base",
      "model_module_version": "2.0.0",
      "model_name": "LayoutModel",
      "state": {}
     },
     "dbf72bf076fe43a88669fb2f86ef1f14": {
      "model_module": "@jupyter-widgets/base",
      "model_module_version": "2.0.0",
      "model_name": "LayoutModel",
      "state": {
       "height": "40px",
       "width": "120px"
      }
     },
     "dc080f2decac4cfea5899b47a2d3197f": {
      "model_module": "@jupyter-widgets/controls",
      "model_module_version": "2.0.0",
      "model_name": "CheckboxStyleModel",
      "state": {
       "description_width": ""
      }
     },
     "dc72c046135d4d6d90c32de7132cc461": {
      "model_module": "@jupyter-widgets/controls",
      "model_module_version": "2.0.0",
      "model_name": "ButtonModel",
      "state": {
       "description": "Close",
       "layout": "IPY_MODEL_cd64153970cc4d2193e57d5202d3a284",
       "style": "IPY_MODEL_c5afd462ab834b89906448a850e696f3",
       "tooltip": null
      }
     },
     "dc96e0b6d8624f65abbf3b199b9470ee": {
      "model_module": "@jupyter-widgets/controls",
      "model_module_version": "2.0.0",
      "model_name": "CheckboxStyleModel",
      "state": {
       "description_width": ""
      }
     },
     "dcd664266dab44d8a4f8599fcc6a74e9": {
      "model_module": "@jupyter-widgets/base",
      "model_module_version": "2.0.0",
      "model_name": "LayoutModel",
      "state": {
       "height": "120px",
       "width": "100px"
      }
     },
     "dce1706ecc7f48afb360b2dc10d56065": {
      "model_module": "@jupyter-widgets/controls",
      "model_module_version": "2.0.0",
      "model_name": "VBoxModel",
      "state": {
       "children": [
        "IPY_MODEL_80406bc5390b4d21917c3a16f0b57e30",
        "IPY_MODEL_2d7449180ea2440e966bcec23626907e"
       ],
       "layout": "IPY_MODEL_8a4555d7da544d809609fc54e7282b4b"
      }
     },
     "dd79b417dd514302b83df528827ae5e8": {
      "model_module": "@jupyter-widgets/base",
      "model_module_version": "2.0.0",
      "model_name": "LayoutModel",
      "state": {
       "height": "40px",
       "width": "120px"
      }
     },
     "dd95b6a7982e4dd0993a05ff54ed9950": {
      "model_module": "@jupyter-widgets/controls",
      "model_module_version": "2.0.0",
      "model_name": "HBoxModel",
      "state": {
       "children": [
        "IPY_MODEL_5aba7735d4244b30ba9c6eb08211016c"
       ],
       "layout": "IPY_MODEL_bc9d15fe26364a0690ba5324a2d23d69"
      }
     },
     "ddd0278052ba4886a7860b1dfac37d5c": {
      "model_module": "@jupyter-widgets/controls",
      "model_module_version": "2.0.0",
      "model_name": "HTMLModel",
      "state": {
       "layout": "IPY_MODEL_ed514280b14e4df1a890c831a6ad96f5",
       "style": "IPY_MODEL_167e3ab712204662bf232215fcba5f18",
       "value": "<h3>Upper Body</h3>"
      }
     },
     "ddf658f9e1bc4af18e6b031364ac8480": {
      "model_module": "@jupyter-widgets/base",
      "model_module_version": "2.0.0",
      "model_name": "LayoutModel",
      "state": {}
     },
     "ddfa4ca05e664dd69ba6af1a7ac19bf6": {
      "model_module": "@jupyter-widgets/base",
      "model_module_version": "2.0.0",
      "model_name": "LayoutModel",
      "state": {
       "height": "40px",
       "width": "160px"
      }
     },
     "de02f6a18b1f423cb18d8ea5e55efea8": {
      "model_module": "@jupyter-widgets/controls",
      "model_module_version": "2.0.0",
      "model_name": "VBoxModel",
      "state": {
       "children": [
        "IPY_MODEL_b5379403e8dc4c7f90cf1543dd7c27d8",
        "IPY_MODEL_9f242543cdd2427cae1f0dc1e588ecc9",
        "IPY_MODEL_a283bd78dfe2493e96cad3674ad16e84",
        "IPY_MODEL_1f66d3dc9e964f8b9638ca7c54783298"
       ],
       "layout": "IPY_MODEL_03f77d37065c404c9a5962f91bd65a06"
      }
     },
     "de19fff4f6ab4620bb37d830f7e531b4": {
      "model_module": "@jupyter-widgets/controls",
      "model_module_version": "2.0.0",
      "model_name": "VBoxModel",
      "state": {
       "children": [
        "IPY_MODEL_22973a2b52a44da2bc51ba2eeb255920",
        "IPY_MODEL_50b305e77dc94d59825b1be30a1ec6c8",
        "IPY_MODEL_248798ece6b240489075bbcb13231d25"
       ],
       "layout": "IPY_MODEL_37b6c213d87f45dfa4dae4de6482f9c5"
      }
     },
     "de25a2ca1a6746f5b86090c5a148147c": {
      "model_module": "@jupyter-widgets/controls",
      "model_module_version": "2.0.0",
      "model_name": "VBoxModel",
      "state": {
       "children": [
        "IPY_MODEL_1a6a864f331f45319866e585f9683f35",
        "IPY_MODEL_ed51a01d7f244a14bb841f47336e05f7"
       ],
       "layout": "IPY_MODEL_d2a73402695742fbaa9f24e3b7d3613d"
      }
     },
     "de2892e69f0f4511a2b3a452c07c5a7d": {
      "model_module": "@jupyter-widgets/base",
      "model_module_version": "2.0.0",
      "model_name": "LayoutModel",
      "state": {
       "height": "40px",
       "width": "160px"
      }
     },
     "de2bb8bd67ef49249205fde5aabdd2ac": {
      "model_module": "@jupyter-widgets/base",
      "model_module_version": "2.0.0",
      "model_name": "LayoutModel",
      "state": {
       "height": "55px",
       "width": "80px"
      }
     },
     "de6e7c893eda4a0fae6e38d31a02aaa7": {
      "model_module": "@jupyter-widgets/base",
      "model_module_version": "2.0.0",
      "model_name": "LayoutModel",
      "state": {}
     },
     "de74a16a8030491bbf6c76eb42d8b23b": {
      "model_module": "@jupyter-widgets/controls",
      "model_module_version": "2.0.0",
      "model_name": "ButtonStyleModel",
      "state": {
       "font_family": null,
       "font_size": null,
       "font_style": null,
       "font_variant": null,
       "font_weight": null,
       "text_color": null,
       "text_decoration": null
      }
     },
     "dea08ab867054238a7ff27ad61db33f4": {
      "model_module": "@jupyter-widgets/controls",
      "model_module_version": "2.0.0",
      "model_name": "CheckboxStyleModel",
      "state": {
       "description_width": ""
      }
     },
     "def900bd24a544798d6cd7dad1dcd9e5": {
      "model_module": "@jupyter-widgets/base",
      "model_module_version": "2.0.0",
      "model_name": "LayoutModel",
      "state": {}
     },
     "df00aacbe9304e98ae9a917a3ff9f94d": {
      "model_module": "@jupyter-widgets/base",
      "model_module_version": "2.0.0",
      "model_name": "LayoutModel",
      "state": {
       "height": "40px",
       "width": "140px"
      }
     },
     "df03de3b040c45bfacadd7d8e1be9ed4": {
      "model_module": "@jupyter-widgets/controls",
      "model_module_version": "2.0.0",
      "model_name": "VBoxModel",
      "state": {
       "children": [
        "IPY_MODEL_56f4da20f465492fbe4df5b75e6b7dc0",
        "IPY_MODEL_596281049cf34e36afc7ebb28add739a"
       ],
       "layout": "IPY_MODEL_262612545a4c4acfb5c7077e354f7d15"
      }
     },
     "df04634fa654490fa362f9547a5975b5": {
      "model_module": "@jupyter-widgets/controls",
      "model_module_version": "2.0.0",
      "model_name": "HTMLModel",
      "state": {
       "layout": "IPY_MODEL_11143a54f485488ea3c353fe5c592f98",
       "style": "IPY_MODEL_f03e6efd0d8b4092acf32f21248f5a2c",
       "value": "<h1>Random Excercise Generator</h1>"
      }
     },
     "df11256d82d74eefa84e009149679085": {
      "model_module": "@jupyter-widgets/controls",
      "model_module_version": "2.0.0",
      "model_name": "BoxModel",
      "state": {
       "children": [
        "IPY_MODEL_3e793ae0a93d4641b47fb80b403ad9ae",
        "IPY_MODEL_e7dd578eb46c4b5096446300396f840e",
        "IPY_MODEL_03506ccb49714d89b68596ed988ea837"
       ],
       "layout": "IPY_MODEL_49aaf67d7e0e4fc9b22b6821499510dd"
      }
     },
     "df6a39ec572249e9b1255738b092e394": {
      "model_module": "@jupyter-widgets/controls",
      "model_module_version": "2.0.0",
      "model_name": "HTMLModel",
      "state": {
       "layout": "IPY_MODEL_b63548f86749406f8cb37148e9f528d0",
       "style": "IPY_MODEL_18d7f3b7b1ec43f7aee83918d8ba396a",
       "value": "Tire Flip"
      }
     },
     "df8e862528eb4540b9df6027c41e4b5a": {
      "model_module": "@jupyter-widgets/controls",
      "model_module_version": "2.0.0",
      "model_name": "CheckboxStyleModel",
      "state": {
       "description_width": ""
      }
     },
     "dfd463f3894449d79b2b98152ed33694": {
      "model_module": "@jupyter-widgets/controls",
      "model_module_version": "2.0.0",
      "model_name": "ButtonModel",
      "state": {
       "description": "Close",
       "layout": "IPY_MODEL_f5bd24f7e98d481c88f9911629ab2997",
       "style": "IPY_MODEL_a1e05541b2024e3fb32eb0cd0e7b7add",
       "tooltip": null
      }
     },
     "e04a4dc47aff4e62ac2073a3a1d9b8af": {
      "model_module": "@jupyter-widgets/base",
      "model_module_version": "2.0.0",
      "model_name": "LayoutModel",
      "state": {
       "height": "55px",
       "width": "80px"
      }
     },
     "e07090fe83194eeaab656ba229992749": {
      "model_module": "@jupyter-widgets/controls",
      "model_module_version": "2.0.0",
      "model_name": "HTMLStyleModel",
      "state": {
       "description_width": "",
       "font_size": null,
       "text_color": null
      }
     },
     "e0a7d2681a3945b2b556dee9d80647ec": {
      "model_module": "@jupyter-widgets/controls",
      "model_module_version": "2.0.0",
      "model_name": "CheckboxStyleModel",
      "state": {
       "description_width": ""
      }
     },
     "e0e9dab948aa492eb8b81f64a40af214": {
      "model_module": "@jupyter-widgets/controls",
      "model_module_version": "2.0.0",
      "model_name": "CheckboxModel",
      "state": {
       "description": "e-z curl bar",
       "disabled": false,
       "indent": false,
       "layout": "IPY_MODEL_ea28ab39db3142a1955e6015bf87121e",
       "style": "IPY_MODEL_110ffbd7bf494eaea5ef35a80308cd5a",
       "value": true
      }
     },
     "e1282186e0a34e698ece564430841110": {
      "model_module": "@jupyter-widgets/controls",
      "model_module_version": "2.0.0",
      "model_name": "CheckboxStyleModel",
      "state": {
       "description_width": ""
      }
     },
     "e1620f0f41974b13984c65497d6e29b8": {
      "model_module": "@jupyter-widgets/controls",
      "model_module_version": "2.0.0",
      "model_name": "CheckboxStyleModel",
      "state": {
       "description_width": ""
      }
     },
     "e162c60f634a488aad8fdbe75af2481e": {
      "model_module": "@jupyter-widgets/controls",
      "model_module_version": "2.0.0",
      "model_name": "CheckboxStyleModel",
      "state": {
       "description_width": ""
      }
     },
     "e18821a7e66149428976070441c4344f": {
      "model_module": "@jupyter-widgets/controls",
      "model_module_version": "2.0.0",
      "model_name": "VBoxModel",
      "state": {
       "children": [
        "IPY_MODEL_294fe19b0a8846678146424ccb94e9ec",
        "IPY_MODEL_ce0ac4f3dc704262b7238d0fbd3d5b51",
        "IPY_MODEL_e5d2e05d635e452e81a844d6bf0907b1",
        "IPY_MODEL_a607103647c44ecf80b27cbe2dd1885b"
       ],
       "layout": "IPY_MODEL_d296ecb2a4874b4ab6717cae2ac1352d"
      }
     },
     "e20bd9a1ae4b472d842053bbc9c5a0fb": {
      "model_module": "@jupyter-widgets/base",
      "model_module_version": "2.0.0",
      "model_name": "LayoutModel",
      "state": {}
     },
     "e2245558c9b24c9e98b523a5292a09b4": {
      "model_module": "@jupyter-widgets/base",
      "model_module_version": "2.0.0",
      "model_name": "LayoutModel",
      "state": {}
     },
     "e2282f828e3d4eb9ac90f9aa531ca5b7": {
      "model_module": "@jupyter-widgets/controls",
      "model_module_version": "2.0.0",
      "model_name": "ButtonStyleModel",
      "state": {
       "font_family": null,
       "font_size": null,
       "font_style": null,
       "font_variant": null,
       "font_weight": null,
       "text_color": null,
       "text_decoration": null
      }
     },
     "e29a46d48ac54583ae094126eae1a3be": {
      "model_module": "@jupyter-widgets/controls",
      "model_module_version": "2.0.0",
      "model_name": "CheckboxModel",
      "state": {
       "description": "lowerBody",
       "disabled": false,
       "indent": false,
       "layout": "IPY_MODEL_c991c9f50f164f2c9d3da52fe2d523a8",
       "style": "IPY_MODEL_144ee07c02bb4a1faf5b625bb7a3882f",
       "value": true
      }
     },
     "e29da441cc1b4f23b80fc044ad89be74": {
      "model_module": "@jupyter-widgets/controls",
      "model_module_version": "2.0.0",
      "model_name": "HBoxModel",
      "state": {
       "children": [
        "IPY_MODEL_59488cf42d20456cb375692df7105ad4"
       ],
       "layout": "IPY_MODEL_1cfb0e3d186b41aa98f68e8387452a4a"
      }
     },
     "e2fb72cb8fd642ed8bfbae9c93b815dc": {
      "model_module": "@jupyter-widgets/base",
      "model_module_version": "2.0.0",
      "model_name": "LayoutModel",
      "state": {}
     },
     "e34eb9e2cd80473ca17ae95c85764e10": {
      "model_module": "@jupyter-widgets/controls",
      "model_module_version": "2.0.0",
      "model_name": "CheckboxModel",
      "state": {
       "description": "olympic weightlifting",
       "disabled": false,
       "indent": false,
       "layout": "IPY_MODEL_3835eb26b7e241989f4a142d695bfd71",
       "style": "IPY_MODEL_18532ee8be454494a637d34df3cbb34a",
       "value": true
      }
     },
     "e360a3dce4594efba2aa0cae136a3247": {
      "model_module": "@jupyter-widgets/controls",
      "model_module_version": "2.0.0",
      "model_name": "VBoxModel",
      "state": {
       "children": [
        "IPY_MODEL_92eb286d47e94cc595ba7cbe78d56c53",
        "IPY_MODEL_a1ec152482a043e18c9bd7d25e8bff72",
        "IPY_MODEL_00bd6d3e651649b69bb4e3a092c66637",
        "IPY_MODEL_019c4c153c234801bf8f74ca20dc82f4"
       ],
       "layout": "IPY_MODEL_494c003b352740afa90fb60620278426"
      }
     },
     "e375b1e5bf2b4fe98cfe4a6a35b94ea5": {
      "model_module": "@jupyter-widgets/base",
      "model_module_version": "2.0.0",
      "model_name": "LayoutModel",
      "state": {
       "height": "40px",
       "width": "160px"
      }
     },
     "e3baf986e1b44d4a9e94dd7a49bcf90b": {
      "model_module": "@jupyter-widgets/controls",
      "model_module_version": "2.0.0",
      "model_name": "HTMLStyleModel",
      "state": {
       "description_width": "",
       "font_size": null,
       "text_color": null
      }
     },
     "e3cb7f09b4214ee5bf6b51193485e742": {
      "model_module": "@jupyter-widgets/controls",
      "model_module_version": "2.0.0",
      "model_name": "CheckboxModel",
      "state": {
       "description": "plyometrics",
       "disabled": false,
       "indent": false,
       "layout": "IPY_MODEL_e5c60fa376b54846a884289d529f00ab",
       "style": "IPY_MODEL_b9b29c6e0f49475db7a8bcbe86c0d930",
       "value": true
      }
     },
     "e3e99c57ac204a3b9b12abc5da39264a": {
      "model_module": "@jupyter-widgets/controls",
      "model_module_version": "2.0.0",
      "model_name": "ButtonStyleModel",
      "state": {
       "font_family": null,
       "font_size": null,
       "font_style": null,
       "font_variant": null,
       "font_weight": null,
       "text_color": null,
       "text_decoration": null
      }
     },
     "e3f30fdcba7d496a8da4c42576090389": {
      "model_module": "@jupyter-widgets/controls",
      "model_module_version": "2.0.0",
      "model_name": "HTMLStyleModel",
      "state": {
       "description_width": "",
       "font_size": null,
       "text_color": null
      }
     },
     "e46be223c68f48719de7d3c05b874ad1": {
      "model_module": "@jupyter-widgets/base",
      "model_module_version": "2.0.0",
      "model_name": "LayoutModel",
      "state": {}
     },
     "e49ba355f8ed4367bb4163dea9e6aa83": {
      "model_module": "@jupyter-widgets/controls",
      "model_module_version": "2.0.0",
      "model_name": "HBoxModel",
      "state": {
       "children": [
        "IPY_MODEL_805614a2630d4c9dbc63dab2210a4002"
       ],
       "layout": "IPY_MODEL_5f615adae62a44c98fd8faf9a9107653"
      }
     },
     "e4a1c13cee5e4c4da506c3b2404904aa": {
      "model_module": "@jupyter-widgets/controls",
      "model_module_version": "2.0.0",
      "model_name": "CheckboxStyleModel",
      "state": {
       "description_width": ""
      }
     },
     "e53df4053d40409b88bca903734bff60": {
      "model_module": "@jupyter-widgets/controls",
      "model_module_version": "2.0.0",
      "model_name": "VBoxModel",
      "state": {
       "children": [
        "IPY_MODEL_f818205452f648e7a078202e8c59fb09",
        "IPY_MODEL_696eca5442ab41a281162805b08686dc",
        "IPY_MODEL_a9aff032168d485b8a87b37b17b6038f"
       ],
       "layout": "IPY_MODEL_fe5eea354f924265b1aea8ed28ce6fc9"
      }
     },
     "e57eb1dfdb714f63b88efd961bcd277f": {
      "model_module": "@jupyter-widgets/base",
      "model_module_version": "2.0.0",
      "model_name": "LayoutModel",
      "state": {}
     },
     "e5b464233c344289a13d8b13f421a9a7": {
      "model_module": "@jupyter-widgets/base",
      "model_module_version": "2.0.0",
      "model_name": "LayoutModel",
      "state": {}
     },
     "e5c60fa376b54846a884289d529f00ab": {
      "model_module": "@jupyter-widgets/base",
      "model_module_version": "2.0.0",
      "model_name": "LayoutModel",
      "state": {
       "height": "40px",
       "width": "160px"
      }
     },
     "e5d2e05d635e452e81a844d6bf0907b1": {
      "model_module": "@jupyter-widgets/controls",
      "model_module_version": "2.0.0",
      "model_name": "CheckboxModel",
      "state": {
       "description": "barbell",
       "disabled": false,
       "indent": false,
       "layout": "IPY_MODEL_234ab902d566441db5e9c3f604a497dd",
       "style": "IPY_MODEL_abd439e76607460196cca502df5ad0cb",
       "value": true
      }
     },
     "e5ead1fe3fcd4cf792b6b20315a77897": {
      "model_module": "@jupyter-widgets/controls",
      "model_module_version": "2.0.0",
      "model_name": "VBoxModel",
      "state": {
       "children": [
        "IPY_MODEL_4cd4b7d9fcad48fab09581e9611990b0",
        "IPY_MODEL_2102b1048a364a70964fddcbd06867f8"
       ],
       "layout": "IPY_MODEL_07fd3a43a526481fb10a9f9f26c96643"
      }
     },
     "e6a30410b3b943b0a744be8d19a3e4ed": {
      "model_module": "@jupyter-widgets/controls",
      "model_module_version": "2.0.0",
      "model_name": "CheckboxStyleModel",
      "state": {
       "description_width": ""
      }
     },
     "e6e32f8198d44c56be4b61c63b733851": {
      "model_module": "@jupyter-widgets/base",
      "model_module_version": "2.0.0",
      "model_name": "LayoutModel",
      "state": {}
     },
     "e71125282f9d4bbf91aa0fac4ea59c97": {
      "model_module": "@jupyter-widgets/controls",
      "model_module_version": "2.0.0",
      "model_name": "VBoxModel",
      "state": {
       "children": [
        "IPY_MODEL_9bc5ddbfc687484481232ef29e1cbaf0",
        "IPY_MODEL_1143b818e0604b79b0cbc32122640c03"
       ],
       "layout": "IPY_MODEL_ed2d1af3a4eb41a1a06d0ef8bc1e10e6"
      }
     },
     "e7a1ca33837e4f1e8b9e353710c91efe": {
      "model_module": "@jupyter-widgets/controls",
      "model_module_version": "2.0.0",
      "model_name": "VBoxModel",
      "state": {
       "children": [
        "IPY_MODEL_e9c1db58c6724babb962d25152ed56fb",
        "IPY_MODEL_6bf90d11cda54292b017f991bbbb287c"
       ],
       "layout": "IPY_MODEL_0faa47d76d804a2cb41a09b8b29773f3"
      }
     },
     "e7d90df3e8d04287bf39776588c3faf6": {
      "model_module": "@jupyter-widgets/controls",
      "model_module_version": "2.0.0",
      "model_name": "ButtonModel",
      "state": {
       "description": "Instruction",
       "icon": "comment",
       "layout": "IPY_MODEL_a17b3208bd044c6f95ab6419fd15cda8",
       "style": "IPY_MODEL_c8bdc615c28a418b95a2a056fbc228cd",
       "tooltip": "540"
      }
     },
     "e7dd578eb46c4b5096446300396f840e": {
      "model_module": "@jupyter-widgets/controls",
      "model_module_version": "2.0.0",
      "model_name": "VBoxModel",
      "state": {
       "children": [
        "IPY_MODEL_b0faefed20164e1aaf8e3616f325f856",
        "IPY_MODEL_9a4d836066b14c58b8983fb4e98a377c",
        "IPY_MODEL_64d206ccc1594f5398b05c2e5a2a2dfb"
       ],
       "layout": "IPY_MODEL_9f50422e298f4d7fa63679c5f09185a3"
      }
     },
     "e7fa6ea76f6541fa98020613da96ba88": {
      "model_module": "@jupyter-widgets/controls",
      "model_module_version": "2.0.0",
      "model_name": "ButtonModel",
      "state": {
       "description": "Ex Category",
       "layout": "IPY_MODEL_fab61c17caaa48b1a85034f392ca4456",
       "style": "IPY_MODEL_8c0975f1720148a787810bb8824701c5",
       "tooltip": null
      }
     },
     "e839bba1a5cb4271a8740d722f22ac32": {
      "model_module": "@jupyter-widgets/base",
      "model_module_version": "2.0.0",
      "model_name": "LayoutModel",
      "state": {
       "height": "40px",
       "width": "160px"
      }
     },
     "e84ade3eedce4d5cad7eda4326909d20": {
      "model_module": "@jupyter-widgets/base",
      "model_module_version": "2.0.0",
      "model_name": "LayoutModel",
      "state": {}
     },
     "e87dad533c2b4ed099b602df063988d8": {
      "model_module": "@jupyter-widgets/base",
      "model_module_version": "2.0.0",
      "model_name": "LayoutModel",
      "state": {
       "align_items": "stretch",
       "display": "flex",
       "flex_flow": "row",
       "justify_content": "space-around",
       "width": "70%"
      }
     },
     "e88540e44ff9431b8f250b7850636414": {
      "model_module": "@jupyter-widgets/base",
      "model_module_version": "2.0.0",
      "model_name": "LayoutModel",
      "state": {
       "height": "55px",
       "width": "120px"
      }
     },
     "e88e528663244ff5ac9024f3dd9d9336": {
      "model_module": "@jupyter-widgets/controls",
      "model_module_version": "2.0.0",
      "model_name": "VBoxModel",
      "state": {
       "layout": "IPY_MODEL_a48312fc4d6549d0b4075c604656e21f"
      }
     },
     "e8d5f3f32233499a8122b88d09e18673": {
      "model_module": "@jupyter-widgets/base",
      "model_module_version": "2.0.0",
      "model_name": "LayoutModel",
      "state": {}
     },
     "e901be65b5f64fefaa56e454fe45218a": {
      "model_module": "@jupyter-widgets/controls",
      "model_module_version": "2.0.0",
      "model_name": "CheckboxStyleModel",
      "state": {
       "description_width": ""
      }
     },
     "e910208734cb4883b1187a2c3e4de752": {
      "model_module": "@jupyter-widgets/controls",
      "model_module_version": "2.0.0",
      "model_name": "HTMLStyleModel",
      "state": {
       "description_width": "",
       "font_size": null,
       "text_color": null
      }
     },
     "e93a47c66fba4fe6ae3a33f882f52726": {
      "model_module": "@jupyter-widgets/base",
      "model_module_version": "2.0.0",
      "model_name": "LayoutModel",
      "state": {}
     },
     "e970a4ea72af4d49a2f96f45e5e54c48": {
      "model_module": "@jupyter-widgets/controls",
      "model_module_version": "2.0.0",
      "model_name": "CheckboxModel",
      "state": {
       "description": "e-z curl bar",
       "disabled": false,
       "indent": false,
       "layout": "IPY_MODEL_716d8d195e84419a9f2cee6d2cdcb4c9",
       "style": "IPY_MODEL_d130e79882884635bcd2da2f1ff9f187",
       "value": true
      }
     },
     "e975d9158e294bf48574bcde8fa89196": {
      "model_module": "@jupyter-widgets/base",
      "model_module_version": "2.0.0",
      "model_name": "LayoutModel",
      "state": {
       "height": "40px",
       "width": "140px"
      }
     },
     "e9c1db58c6724babb962d25152ed56fb": {
      "model_module": "@jupyter-widgets/controls",
      "model_module_version": "2.0.0",
      "model_name": "HTMLModel",
      "state": {
       "layout": "IPY_MODEL_bc9741efc8794874b912a66e6fd5e9c0",
       "style": "IPY_MODEL_73b8bd662c504f11a4dc88b66c67f1cb",
       "value": "Gironda Sternum Chins"
      }
     },
     "e9c3676a45054d7f82efcb320697b13e": {
      "model_module": "@jupyter-widgets/base",
      "model_module_version": "2.0.0",
      "model_name": "LayoutModel",
      "state": {
       "height": "120px",
       "width": "100px"
      }
     },
     "e9d99fd6af7847a3b8addd63b329a9c0": {
      "model_module": "@jupyter-widgets/base",
      "model_module_version": "2.0.0",
      "model_name": "LayoutModel",
      "state": {
       "height": "55px",
       "width": "80px"
      }
     },
     "ea28ab39db3142a1955e6015bf87121e": {
      "model_module": "@jupyter-widgets/base",
      "model_module_version": "2.0.0",
      "model_name": "LayoutModel",
      "state": {
       "height": "40px",
       "width": "140px"
      }
     },
     "ea32316b20714a22b148d71f5b34f2c1": {
      "model_module": "@jupyter-widgets/controls",
      "model_module_version": "2.0.0",
      "model_name": "CheckboxModel",
      "state": {
       "description": "cardio",
       "disabled": false,
       "indent": false,
       "layout": "IPY_MODEL_6a0bdcaba1ff4a569e56d8fbb27924cb",
       "style": "IPY_MODEL_c1d6550c729d418684de3ff96dec9642",
       "value": true
      }
     },
     "ea6355844f6543f4a515b7a47c0819df": {
      "model_module": "@jupyter-widgets/controls",
      "model_module_version": "2.0.0",
      "model_name": "ButtonStyleModel",
      "state": {
       "font_family": null,
       "font_size": null,
       "font_style": null,
       "font_variant": null,
       "font_weight": null,
       "text_color": null,
       "text_decoration": null
      }
     },
     "ea702000b1154f1ca56f0f6a0ac13db7": {
      "model_module": "@jupyter-widgets/controls",
      "model_module_version": "2.0.0",
      "model_name": "ButtonModel",
      "state": {
       "description": "Run",
       "layout": "IPY_MODEL_da380249fd0b4218814cc97ee5d2d8bc",
       "style": "IPY_MODEL_5cecd975c4a544f19a6060e00f349b3b",
       "tooltip": null
      }
     },
     "eac9771707f84fb19e23041ee30272bb": {
      "model_module": "@jupyter-widgets/base",
      "model_module_version": "2.0.0",
      "model_name": "LayoutModel",
      "state": {}
     },
     "eb573c711953449fba97801a421e17e0": {
      "model_module": "@jupyter-widgets/controls",
      "model_module_version": "2.0.0",
      "model_name": "ButtonStyleModel",
      "state": {
       "font_family": null,
       "font_size": null,
       "font_style": null,
       "font_variant": null,
       "font_weight": null,
       "text_color": null,
       "text_decoration": null
      }
     },
     "eba5feb134f0433bba6039c45221a9fe": {
      "model_module": "@jupyter-widgets/controls",
      "model_module_version": "2.0.0",
      "model_name": "ButtonStyleModel",
      "state": {
       "font_family": null,
       "font_size": null,
       "font_style": null,
       "font_variant": null,
       "font_weight": null,
       "text_color": null,
       "text_decoration": null
      }
     },
     "ebd941387fa4409996235e5386dc1af2": {
      "model_module": "@jupyter-widgets/controls",
      "model_module_version": "2.0.0",
      "model_name": "BoxModel",
      "state": {
       "children": [
        "IPY_MODEL_d42941844e84439c90fc099d542349e6",
        "IPY_MODEL_74dd1359ddbe4649947baea219783e7f"
       ],
       "layout": "IPY_MODEL_ec6dc52a56ad4079b33945a5a3148961"
      }
     },
     "ebf072e976624b0b922de8ffeac7324f": {
      "model_module": "@jupyter-widgets/controls",
      "model_module_version": "2.0.0",
      "model_name": "ButtonStyleModel",
      "state": {
       "font_family": null,
       "font_size": null,
       "font_style": null,
       "font_variant": null,
       "font_weight": null,
       "text_color": null,
       "text_decoration": null
      }
     },
     "ec509c03d0c142008aa9f830d03581e0": {
      "model_module": "@jupyter-widgets/controls",
      "model_module_version": "2.0.0",
      "model_name": "ButtonStyleModel",
      "state": {
       "font_family": null,
       "font_size": null,
       "font_style": null,
       "font_variant": null,
       "font_weight": null,
       "text_color": null,
       "text_decoration": null
      }
     },
     "ec6dc52a56ad4079b33945a5a3148961": {
      "model_module": "@jupyter-widgets/base",
      "model_module_version": "2.0.0",
      "model_name": "LayoutModel",
      "state": {
       "align_items": "stretch",
       "display": "flex",
       "flex_flow": "row",
       "justify_content": "space-around",
       "width": "70%"
      }
     },
     "ec74c2abf5534390b2c73e853270e72e": {
      "model_module": "@jupyter-widgets/base",
      "model_module_version": "2.0.0",
      "model_name": "LayoutModel",
      "state": {
       "height": "120px",
       "width": "100px"
      }
     },
     "ecdf1e1aa38e4f75b5ba8973a4f5d889": {
      "model_module": "@jupyter-widgets/controls",
      "model_module_version": "2.0.0",
      "model_name": "ButtonStyleModel",
      "state": {
       "font_family": null,
       "font_size": null,
       "font_style": null,
       "font_variant": null,
       "font_weight": null,
       "text_color": null,
       "text_decoration": null
      }
     },
     "ed2d1af3a4eb41a1a06d0ef8bc1e10e6": {
      "model_module": "@jupyter-widgets/base",
      "model_module_version": "2.0.0",
      "model_name": "LayoutModel",
      "state": {}
     },
     "ed4f8cf4822349d88a31151c942c3310": {
      "model_module": "@jupyter-widgets/base",
      "model_module_version": "2.0.0",
      "model_name": "LayoutModel",
      "state": {}
     },
     "ed514280b14e4df1a890c831a6ad96f5": {
      "model_module": "@jupyter-widgets/base",
      "model_module_version": "2.0.0",
      "model_name": "LayoutModel",
      "state": {}
     },
     "ed51a01d7f244a14bb841f47336e05f7": {
      "model_module": "@jupyter-widgets/controls",
      "model_module_version": "2.0.0",
      "model_name": "ButtonModel",
      "state": {
       "description": "Instruction",
       "icon": "comment",
       "layout": "IPY_MODEL_77a9f87f008240b380fabcd5f66a5f9c",
       "style": "IPY_MODEL_9ba2896f7dbf4e86a0996bc64cd123c9",
       "tooltip": "435"
      }
     },
     "ed7c8fe91fc34ecabd81a037a84eec15": {
      "model_module": "@jupyter-widgets/base",
      "model_module_version": "2.0.0",
      "model_name": "LayoutModel",
      "state": {}
     },
     "ed7eeab15eb84c998f61bfcb02c9d7ae": {
      "model_module": "@jupyter-widgets/base",
      "model_module_version": "2.0.0",
      "model_name": "LayoutModel",
      "state": {}
     },
     "ed8af3bf1cf240d38852ac21ff3bf8be": {
      "model_module": "@jupyter-widgets/controls",
      "model_module_version": "2.0.0",
      "model_name": "ButtonModel",
      "state": {
       "description": "Close",
       "layout": "IPY_MODEL_19e4c9270d6e4aa2bcd1a02b763aa581",
       "style": "IPY_MODEL_2179440d1f6e45f9b07ce662a7987adc",
       "tooltip": null
      }
     },
     "ee04003f22dc4cef91a15c8e74cb4780": {
      "model_module": "@jupyter-widgets/controls",
      "model_module_version": "2.0.0",
      "model_name": "CheckboxModel",
      "state": {
       "description": "lowerBody",
       "disabled": false,
       "indent": false,
       "layout": "IPY_MODEL_ab0826bf7d5a44969fd56b0a8e7ffce7",
       "style": "IPY_MODEL_8af1682ec8db43e2857aba095621b506",
       "value": true
      }
     },
     "ee7e40198a084911b7e6de730cee6f11": {
      "model_module": "@jupyter-widgets/controls",
      "model_module_version": "2.0.0",
      "model_name": "ButtonStyleModel",
      "state": {
       "font_family": null,
       "font_size": null,
       "font_style": null,
       "font_variant": null,
       "font_weight": null,
       "text_color": null,
       "text_decoration": null
      }
     },
     "ee803c48acbb49d3832cd1637522fd9b": {
      "model_module": "@jupyter-widgets/controls",
      "model_module_version": "2.0.0",
      "model_name": "VBoxModel",
      "state": {
       "children": [
        "IPY_MODEL_e7fa6ea76f6541fa98020613da96ba88",
        "IPY_MODEL_683a985cbfa640639961f21dc6cf2b29"
       ],
       "layout": "IPY_MODEL_006e46e309044541bb09f46fc72ed2f6"
      }
     },
     "ee84bb902e764991baded2c99b0e66ee": {
      "model_module": "@jupyter-widgets/base",
      "model_module_version": "2.0.0",
      "model_name": "LayoutModel",
      "state": {}
     },
     "ee928aa5ae7847998b87cd7e313629f7": {
      "model_module": "@jupyter-widgets/base",
      "model_module_version": "2.0.0",
      "model_name": "LayoutModel",
      "state": {
       "height": "40px",
       "width": "160px"
      }
     },
     "eeb78d1ef4cb400d90d82e2422cef8f3": {
      "model_module": "@jupyter-widgets/controls",
      "model_module_version": "2.0.0",
      "model_name": "HTMLModel",
      "state": {
       "layout": "IPY_MODEL_c200766de5434db0a49472c94b2f165b",
       "style": "IPY_MODEL_1985d934028b48b8bca469c86ba95395",
       "value": "Plate Twist"
      }
     },
     "eec8a922579248c2829d68ab36506a1a": {
      "model_module": "@jupyter-widgets/controls",
      "model_module_version": "2.0.0",
      "model_name": "VBoxModel",
      "state": {
       "children": [
        "IPY_MODEL_b91b58c7d60d4705833ba17fc3967251"
       ],
       "layout": "IPY_MODEL_e8d5f3f32233499a8122b88d09e18673"
      }
     },
     "eed553c196a3438cac520bcaa4708cee": {
      "model_module": "@jupyter-widgets/controls",
      "model_module_version": "2.0.0",
      "model_name": "HTMLModel",
      "state": {
       "layout": "IPY_MODEL_b5857a393f04499eb4e78a66908c978f",
       "style": "IPY_MODEL_39f8c71e9bf942ac8e2706721e908ce2",
       "value": "<h3>Lower_Body</h3>"
      }
     },
     "eee285dfb00d4801baac8e0120095cb8": {
      "model_module": "@jupyter-widgets/base",
      "model_module_version": "2.0.0",
      "model_name": "LayoutModel",
      "state": {}
     },
     "ef6ccc38fd6f49f0bd01d93fa839234f": {
      "model_module": "@jupyter-widgets/controls",
      "model_module_version": "2.0.0",
      "model_name": "HTMLModel",
      "state": {
       "layout": "IPY_MODEL_ae45a33f910545c19d219cc53119250a",
       "style": "IPY_MODEL_fe29e2f5ae234190a6b893f6d42971f0",
       "value": "<h3>Core</h3>"
      }
     },
     "ef943e94c9bb461f94449de372b61b7d": {
      "model_module": "@jupyter-widgets/controls",
      "model_module_version": "2.0.0",
      "model_name": "HTMLModel",
      "state": {
       "layout": "IPY_MODEL_5808b2a0ebe1438ea801296e890b06aa",
       "style": "IPY_MODEL_a7c9e06c0df245d2b7e4854cfdf82320",
       "value": "<h3>Core</h3>"
      }
     },
     "ef9a532348884fec9b6ddfa28c28d387": {
      "model_module": "@jupyter-widgets/base",
      "model_module_version": "2.0.0",
      "model_name": "LayoutModel",
      "state": {
       "height": "40px",
       "width": "160px"
      }
     },
     "eff7a15e99a44b2996a40b62b2e8c7d0": {
      "model_module": "@jupyter-widgets/base",
      "model_module_version": "2.0.0",
      "model_name": "LayoutModel",
      "state": {
       "align_items": "flex-start",
       "display": "flex",
       "flex_flow": "row",
       "justify_content": "space-around",
       "width": "50%"
      }
     },
     "f03e6efd0d8b4092acf32f21248f5a2c": {
      "model_module": "@jupyter-widgets/controls",
      "model_module_version": "2.0.0",
      "model_name": "HTMLStyleModel",
      "state": {
       "description_width": "",
       "font_size": null,
       "text_color": null
      }
     },
     "f0474381d4d442ccb476e6b4a4029760": {
      "model_module": "@jupyter-widgets/controls",
      "model_module_version": "2.0.0",
      "model_name": "HTMLModel",
      "state": {
       "layout": "IPY_MODEL_74440bedb70c436da1e246efef827acd",
       "style": "IPY_MODEL_3cfba02683694b4c9a9e4e7624836484",
       "value": "<h5>\"Close Tab to Exit\"</h5>"
      }
     },
     "f08b88658bc948c7b607c62859787870": {
      "model_module": "@jupyter-widgets/controls",
      "model_module_version": "2.0.0",
      "model_name": "VBoxModel",
      "state": {
       "children": [
        "IPY_MODEL_c61aac8a1c6248dfb361477177158c12",
        "IPY_MODEL_14bacce8aeb241e3a0121f8b0bd3204b",
        "IPY_MODEL_1ab93804e84744b9ad615c2999ededd6",
        "IPY_MODEL_6916f2efd1a34537a6ef3fe9a1b719b8"
       ],
       "layout": "IPY_MODEL_f0f9041f556e43a0afe1871f110f5be6"
      }
     },
     "f0f9041f556e43a0afe1871f110f5be6": {
      "model_module": "@jupyter-widgets/base",
      "model_module_version": "2.0.0",
      "model_name": "LayoutModel",
      "state": {}
     },
     "f10622d961e84fa7a729ff382711cd4b": {
      "model_module": "@jupyter-widgets/base",
      "model_module_version": "2.0.0",
      "model_name": "LayoutModel",
      "state": {
       "align_items": "stretch",
       "display": "flex",
       "flex_flow": "row",
       "justify_content": "space-around",
       "width": "70%"
      }
     },
     "f1108bcd049a4b428d9692d6b297c07f": {
      "model_module": "@jupyter-widgets/base",
      "model_module_version": "2.0.0",
      "model_name": "LayoutModel",
      "state": {}
     },
     "f1efc26e53f142ab99cda6a52ff3b41f": {
      "model_module": "@jupyter-widgets/controls",
      "model_module_version": "2.0.0",
      "model_name": "ButtonModel",
      "state": {
       "description": "Run",
       "layout": "IPY_MODEL_9f664800058d493786a57eb51e65ddb8",
       "style": "IPY_MODEL_a1db3ce5676e467fbcb4bfbf4b713c2d",
       "tooltip": null
      }
     },
     "f1f9332bc4c94c4d97965ad4ee5cbbe3": {
      "model_module": "@jupyter-widgets/controls",
      "model_module_version": "2.0.0",
      "model_name": "VBoxModel",
      "state": {
       "children": [
        "IPY_MODEL_bae840401d6b4ec2afb00d23c2294928",
        "IPY_MODEL_970e3405a53f43a392f8ae7093b77217",
        "IPY_MODEL_9cd729737ae74484ac110312b4de4263",
        "IPY_MODEL_9913199c2df64b6d8ae3535ac4ca54c4"
       ],
       "layout": "IPY_MODEL_28cabcf3b5114eed9b877fe67ddd642a"
      }
     },
     "f1fb7761377a4509bd4defa3e63ba19b": {
      "model_module": "@jupyter-widgets/base",
      "model_module_version": "2.0.0",
      "model_name": "LayoutModel",
      "state": {
       "height": "40px",
       "width": "120px"
      }
     },
     "f21855a0c5fc410d88df055eb0c9f6fc": {
      "model_module": "@jupyter-widgets/controls",
      "model_module_version": "2.0.0",
      "model_name": "CheckboxStyleModel",
      "state": {
       "description_width": ""
      }
     },
     "f221a2a6ceaa46989bd4a942a2a0297e": {
      "model_module": "@jupyter-widgets/base",
      "model_module_version": "2.0.0",
      "model_name": "LayoutModel",
      "state": {}
     },
     "f22fd61d9c0a4719b9b10464ffd06cbd": {
      "model_module": "@jupyter-widgets/controls",
      "model_module_version": "2.0.0",
      "model_name": "HTMLModel",
      "state": {
       "layout": "IPY_MODEL_6b9e47b4018b4963bf6cb145cf3d51cc",
       "style": "IPY_MODEL_86110ec3212845a2a15b8be48fa773dd",
       "value": "<h5>\"Close Tab to Exit\"</h5>"
      }
     },
     "f24796032bac4c55aa69996e532e2b9c": {
      "model_module": "@jupyter-widgets/controls",
      "model_module_version": "2.0.0",
      "model_name": "CheckboxModel",
      "state": {
       "description": "upperBody",
       "disabled": false,
       "indent": false,
       "layout": "IPY_MODEL_d0825c8e60e64dc7a22e4055fd7be72a",
       "style": "IPY_MODEL_1fb308fcffa14f0a8ae8719f8d2bee00",
       "value": true
      }
     },
     "f2549eda39e34bc29b712a49e303f398": {
      "model_module": "@jupyter-widgets/controls",
      "model_module_version": "2.0.0",
      "model_name": "CheckboxModel",
      "state": {
       "description": "olympic weightlifting",
       "disabled": false,
       "indent": false,
       "layout": "IPY_MODEL_29b6a1275bc34d008c1bcaf3630d0b48",
       "style": "IPY_MODEL_c3e70fd04a2f4704b0eff4dfffe86105",
       "value": true
      }
     },
     "f25542bd4930450592ce1c2a119cfc34": {
      "model_module": "@jupyter-widgets/controls",
      "model_module_version": "2.0.0",
      "model_name": "CheckboxStyleModel",
      "state": {
       "description_width": ""
      }
     },
     "f25e4aee12f34f1d93bd42638616c421": {
      "model_module": "@jupyter-widgets/controls",
      "model_module_version": "2.0.0",
      "model_name": "HTMLStyleModel",
      "state": {
       "description_width": "",
       "font_size": null,
       "text_color": null
      }
     },
     "f2636a6bee2c4df790e6790a44dcb2c6": {
      "model_module": "@jupyter-widgets/base",
      "model_module_version": "2.0.0",
      "model_name": "LayoutModel",
      "state": {
       "height": "40px",
       "width": "140px"
      }
     },
     "f28ae256dbf74c71ac753a691923617d": {
      "model_module": "@jupyter-widgets/controls",
      "model_module_version": "2.0.0",
      "model_name": "HTMLStyleModel",
      "state": {
       "description_width": "",
       "font_size": null,
       "text_color": null
      }
     },
     "f2b25afe38a54d0b8dd6a0b09446ef2f": {
      "model_module": "@jupyter-widgets/controls",
      "model_module_version": "2.0.0",
      "model_name": "CheckboxStyleModel",
      "state": {
       "description_width": ""
      }
     },
     "f3220720099549d9b7131663c40044bf": {
      "model_module": "@jupyter-widgets/controls",
      "model_module_version": "2.0.0",
      "model_name": "ButtonStyleModel",
      "state": {
       "font_family": null,
       "font_size": null,
       "font_style": null,
       "font_variant": null,
       "font_weight": null,
       "text_color": null,
       "text_decoration": null
      }
     },
     "f37baf8ddac24d068eaf83b9b6fad0ff": {
      "model_module": "@jupyter-widgets/controls",
      "model_module_version": "2.0.0",
      "model_name": "HTMLModel",
      "state": {
       "layout": "IPY_MODEL_ed4f8cf4822349d88a31151c942c3310",
       "style": "IPY_MODEL_37145e32aee5414c915c73c445fdf544",
       "value": "<h1>Random Excercise Generator</h1>"
      }
     },
     "f38daf5af23949cc820949a70c407112": {
      "model_module": "@jupyter-widgets/controls",
      "model_module_version": "2.0.0",
      "model_name": "CheckboxModel",
      "state": {
       "description": "lowerBody",
       "disabled": false,
       "indent": false,
       "layout": "IPY_MODEL_437370e7551c4af98b63432f73b64148",
       "style": "IPY_MODEL_59a0e8690ab64ef2b0d9479e1b802ecb",
       "value": true
      }
     },
     "f38f45c47b4b4765a33ddaec21a98174": {
      "model_module": "@jupyter-widgets/controls",
      "model_module_version": "2.0.0",
      "model_name": "HTMLStyleModel",
      "state": {
       "description_width": "",
       "font_size": null,
       "text_color": null
      }
     },
     "f3a7df8240ad4472a280ab07acc204a1": {
      "model_module": "@jupyter-widgets/controls",
      "model_module_version": "2.0.0",
      "model_name": "ButtonModel",
      "state": {
       "description": "Run",
       "layout": "IPY_MODEL_114b5e2acc7044f6a6219f42c773e66f",
       "style": "IPY_MODEL_070410cae6224c459640934ef35d6c35",
       "tooltip": null
      }
     },
     "f3c823832b5b4046910d2015c7166b3c": {
      "model_module": "@jupyter-widgets/base",
      "model_module_version": "2.0.0",
      "model_name": "LayoutModel",
      "state": {}
     },
     "f3e3fd853f00416bb431db5c17056ed3": {
      "model_module": "@jupyter-widgets/base",
      "model_module_version": "2.0.0",
      "model_name": "LayoutModel",
      "state": {
       "height": "40px",
       "width": "160px"
      }
     },
     "f42f772a3fcc4c5a86e4d2fc2590a925": {
      "model_module": "@jupyter-widgets/controls",
      "model_module_version": "2.0.0",
      "model_name": "HTMLModel",
      "state": {
       "layout": "IPY_MODEL_fd5991ba0d6347a585c0598c651c4d0e",
       "style": "IPY_MODEL_b0d6cb0d4f4a4b96ad212f993363f19a",
       "value": "<h2>Body Area</h2>"
      }
     },
     "f450a5ec8f164a0ebfe90a54cbecbd5b": {
      "model_module": "@jupyter-widgets/controls",
      "model_module_version": "2.0.0",
      "model_name": "ButtonModel",
      "state": {
       "description": "Equipment",
       "layout": "IPY_MODEL_daff5be1ea004c64b01d7b256656a462",
       "style": "IPY_MODEL_de74a16a8030491bbf6c76eb42d8b23b",
       "tooltip": null
      }
     },
     "f45ff28fb4c349cfac1c6c4a3d893dae": {
      "model_module": "@jupyter-widgets/controls",
      "model_module_version": "2.0.0",
      "model_name": "HTMLStyleModel",
      "state": {
       "description_width": "",
       "font_size": null,
       "text_color": null
      }
     },
     "f4baad240f5f4cf5af2e621d75629202": {
      "model_module": "@jupyter-widgets/base",
      "model_module_version": "2.0.0",
      "model_name": "LayoutModel",
      "state": {
       "height": "40px",
       "width": "140px"
      }
     },
     "f4faa478f6c64799b28d11e968a0054f": {
      "model_module": "@jupyter-widgets/base",
      "model_module_version": "2.0.0",
      "model_name": "LayoutModel",
      "state": {}
     },
     "f55d69730f084ef593a0013c49b1365e": {
      "model_module": "@jupyter-widgets/controls",
      "model_module_version": "2.0.0",
      "model_name": "CheckboxModel",
      "state": {
       "description": "kettlebells",
       "disabled": false,
       "indent": false,
       "layout": "IPY_MODEL_31b43967ebc8422aa4b105a6b9ef3379",
       "style": "IPY_MODEL_ae396533a1b949ebbda7ac0d29cf8ce7",
       "value": true
      }
     },
     "f5bd24f7e98d481c88f9911629ab2997": {
      "model_module": "@jupyter-widgets/base",
      "model_module_version": "2.0.0",
      "model_name": "LayoutModel",
      "state": {
       "height": "55px",
       "width": "80px"
      }
     },
     "f5fca782673743829b50d27a522bbacd": {
      "model_module": "@jupyter-widgets/controls",
      "model_module_version": "2.0.0",
      "model_name": "ButtonStyleModel",
      "state": {
       "font_family": null,
       "font_size": null,
       "font_style": null,
       "font_variant": null,
       "font_weight": null,
       "text_color": null,
       "text_decoration": null
      }
     },
     "f607ccfac20e497790969f25e1ca3176": {
      "model_module": "@jupyter-widgets/controls",
      "model_module_version": "2.0.0",
      "model_name": "HTMLStyleModel",
      "state": {
       "description_width": "",
       "font_size": null,
       "text_color": null
      }
     },
     "f61fb9c76aa44878a15aaf12dfee2eaa": {
      "model_module": "@jupyter-widgets/base",
      "model_module_version": "2.0.0",
      "model_name": "LayoutModel",
      "state": {
       "height": "55px",
       "width": "80px"
      }
     },
     "f659e5c7694f4de1931278df413dfd64": {
      "model_module": "@jupyter-widgets/controls",
      "model_module_version": "2.0.0",
      "model_name": "HTMLModel",
      "state": {
       "layout": "IPY_MODEL_21cf001e71c64681863f2159eb7d89aa",
       "style": "IPY_MODEL_3f43b4c168314ff7a828eb6d3bc16d67",
       "value": "Mixed Grip Chin"
      }
     },
     "f666611d989f4a82a60a550be0cd32b4": {
      "model_module": "@jupyter-widgets/controls",
      "model_module_version": "2.0.0",
      "model_name": "VBoxModel",
      "state": {
       "children": [
        "IPY_MODEL_cab3e6896d0b4422bdef5dd1d8b0ae5e",
        "IPY_MODEL_181228ea016f494b9fcd410019748589"
       ],
       "layout": "IPY_MODEL_178e14f716d74a4183d768d85e4595fa"
      }
     },
     "f69cdddca406448f8b2f404ac84b740e": {
      "model_module": "@jupyter-widgets/controls",
      "model_module_version": "2.0.0",
      "model_name": "CheckboxModel",
      "state": {
       "description": "medicine ball",
       "disabled": false,
       "indent": false,
       "layout": "IPY_MODEL_f2636a6bee2c4df790e6790a44dcb2c6",
       "style": "IPY_MODEL_a5eb276705674906a59e2107a35136ef",
       "value": true
      }
     },
     "f6cebee34f8f4e498c09a5f46b47cdc6": {
      "model_module": "@jupyter-widgets/base",
      "model_module_version": "2.0.0",
      "model_name": "LayoutModel",
      "state": {
       "height": "40px",
       "width": "160px"
      }
     },
     "f76352be589847f3adedc4861ae1935d": {
      "model_module": "@jupyter-widgets/controls",
      "model_module_version": "2.0.0",
      "model_name": "ButtonStyleModel",
      "state": {
       "font_family": null,
       "font_size": null,
       "font_style": null,
       "font_variant": null,
       "font_weight": null,
       "text_color": null,
       "text_decoration": null
      }
     },
     "f7d122699cce422ea0aecc6a70bf44d0": {
      "model_module": "@jupyter-widgets/controls",
      "model_module_version": "2.0.0",
      "model_name": "HBoxModel",
      "state": {
       "children": [
        "IPY_MODEL_9a4ecf6c53824266947cc21150504ac6",
        "IPY_MODEL_8615db6cb7844168b870a2b4fd536f79",
        "IPY_MODEL_49ef23cc7f92482ab2ef50be2097fa4c",
        "IPY_MODEL_ee803c48acbb49d3832cd1637522fd9b"
       ],
       "layout": "IPY_MODEL_5db53e0da4d54b3f94cc2a91b3622d03"
      }
     },
     "f818205452f648e7a078202e8c59fb09": {
      "model_module": "@jupyter-widgets/controls",
      "model_module_version": "2.0.0",
      "model_name": "CheckboxModel",
      "state": {
       "description": "strength",
       "disabled": false,
       "indent": false,
       "layout": "IPY_MODEL_2cd4aba1990f4029a9049ef59e9ac251",
       "style": "IPY_MODEL_e1282186e0a34e698ece564430841110",
       "value": true
      }
     },
     "f81b8a529acd4577971210a7b7593846": {
      "model_module": "@jupyter-widgets/controls",
      "model_module_version": "2.0.0",
      "model_name": "ButtonModel",
      "state": {
       "description": "Close",
       "layout": "IPY_MODEL_cb650cd9ebd64266bd40f1a8b500e435",
       "style": "IPY_MODEL_5bffffc325974ac48d115d7573f1592e",
       "tooltip": null
      }
     },
     "f86aa84124494e23854d6c5571e91edf": {
      "model_module": "@jupyter-widgets/base",
      "model_module_version": "2.0.0",
      "model_name": "LayoutModel",
      "state": {
       "height": "55px",
       "width": "80px"
      }
     },
     "f86cd6413e0d40568a68aafc56c24cfe": {
      "model_module": "@jupyter-widgets/base",
      "model_module_version": "2.0.0",
      "model_name": "LayoutModel",
      "state": {
       "height": "55px",
       "width": "80px"
      }
     },
     "f8c63d97c56b40bd826a4d7c12d655b9": {
      "model_module": "@jupyter-widgets/controls",
      "model_module_version": "2.0.0",
      "model_name": "HBoxModel",
      "state": {
       "children": [
        "IPY_MODEL_8c2369044f784bba80a4020eecb13338"
       ],
       "layout": "IPY_MODEL_013b5b7f7f9d4195b61eee8031dd5568"
      }
     },
     "f8e29bf2fda6431c930f0a57e4772afd": {
      "model_module": "@jupyter-widgets/controls",
      "model_module_version": "2.0.0",
      "model_name": "CheckboxStyleModel",
      "state": {
       "description_width": ""
      }
     },
     "f9021c92ec444338b88d0cbce7ece65b": {
      "model_module": "@jupyter-widgets/base",
      "model_module_version": "2.0.0",
      "model_name": "LayoutModel",
      "state": {}
     },
     "f9583c1bdf844e388b1c83e25afae2e6": {
      "model_module": "@jupyter-widgets/base",
      "model_module_version": "2.0.0",
      "model_name": "LayoutModel",
      "state": {}
     },
     "f9840bb30a1f49569451a15b5d4716a2": {
      "model_module": "@jupyter-widgets/base",
      "model_module_version": "2.0.0",
      "model_name": "LayoutModel",
      "state": {}
     },
     "f9f02d98086e45b786287717b8ebd660": {
      "model_module": "@jupyter-widgets/controls",
      "model_module_version": "2.0.0",
      "model_name": "CheckboxModel",
      "state": {
       "description": "other",
       "disabled": false,
       "indent": false,
       "layout": "IPY_MODEL_9818955f9aa841e8a0ab6b95b798ebc0",
       "style": "IPY_MODEL_df8e862528eb4540b9df6027c41e4b5a",
       "value": true
      }
     },
     "fa1943cb57454e34b59ee3c0f6d72623": {
      "model_module": "@jupyter-widgets/controls",
      "model_module_version": "2.0.0",
      "model_name": "HTMLStyleModel",
      "state": {
       "description_width": "",
       "font_size": null,
       "text_color": null
      }
     },
     "fa32e89d0073497b8b6af377f72ed5c6": {
      "model_module": "@jupyter-widgets/controls",
      "model_module_version": "2.0.0",
      "model_name": "CheckboxModel",
      "state": {
       "description": "upperBody",
       "disabled": false,
       "indent": false,
       "layout": "IPY_MODEL_3c36ede8050249c58c85aa8f2a4f605b",
       "style": "IPY_MODEL_218f491fdc2343b9b89606b855cb0e58",
       "value": true
      }
     },
     "fa4896474f1c4addb45c1ab9ff46a36a": {
      "model_module": "@jupyter-widgets/controls",
      "model_module_version": "2.0.0",
      "model_name": "ButtonModel",
      "state": {
       "description": "Close",
       "layout": "IPY_MODEL_c98b1765146f41cb9ceec702c97b4b87",
       "style": "IPY_MODEL_9f3010df6f7f4b868200668fcf2a7c9a",
       "tooltip": null
      }
     },
     "fa5555fe1aa84706898a03bdab902bfe": {
      "model_module": "@jupyter-widgets/controls",
      "model_module_version": "2.0.0",
      "model_name": "ButtonStyleModel",
      "state": {
       "font_family": null,
       "font_size": null,
       "font_style": null,
       "font_variant": null,
       "font_weight": null,
       "text_color": null,
       "text_decoration": null
      }
     },
     "fa64a4a6c4794deea7b681c1feb56a56": {
      "model_module": "@jupyter-widgets/controls",
      "model_module_version": "2.0.0",
      "model_name": "BoxModel",
      "state": {
       "children": [
        "IPY_MODEL_a6c4399df9b440d084cd7580411920f2",
        "IPY_MODEL_b9b55b709a43473a8c5310b0386a2c73"
       ],
       "layout": "IPY_MODEL_f10622d961e84fa7a729ff382711cd4b"
      }
     },
     "fa9852077b81417d85c18f65baaa28e5": {
      "model_module": "@jupyter-widgets/controls",
      "model_module_version": "2.0.0",
      "model_name": "CheckboxStyleModel",
      "state": {
       "description_width": ""
      }
     },
     "fab61c17caaa48b1a85034f392ca4456": {
      "model_module": "@jupyter-widgets/base",
      "model_module_version": "2.0.0",
      "model_name": "LayoutModel",
      "state": {
       "height": "120px",
       "width": "100px"
      }
     },
     "fb12266c1c684980882dcb14ffdcf6f3": {
      "model_module": "@jupyter-widgets/controls",
      "model_module_version": "2.0.0",
      "model_name": "VBoxModel",
      "state": {
       "children": [
        "IPY_MODEL_f659e5c7694f4de1931278df413dfd64",
        "IPY_MODEL_04a6428eb87f4df78f3fc49a5c10b397"
       ],
       "layout": "IPY_MODEL_9dbc57841a9a450a86f82f288f01deae"
      }
     },
     "fb2d781f3a0641e4b959efd28abf4e0b": {
      "model_module": "@jupyter-widgets/controls",
      "model_module_version": "2.0.0",
      "model_name": "GridBoxModel",
      "state": {
       "layout": "IPY_MODEL_49adb4fe2c9b4a35965ce51d0c8e0eb5"
      }
     },
     "fb41ccd9f9f54972bb49478761f70be7": {
      "model_module": "@jupyter-widgets/controls",
      "model_module_version": "2.0.0",
      "model_name": "ButtonStyleModel",
      "state": {
       "font_family": null,
       "font_size": null,
       "font_style": null,
       "font_variant": null,
       "font_weight": null,
       "text_color": null,
       "text_decoration": null
      }
     },
     "fb55be7e813248a2b7220385adb745ee": {
      "model_module": "@jupyter-widgets/base",
      "model_module_version": "2.0.0",
      "model_name": "LayoutModel",
      "state": {}
     },
     "fb8266f2d0ae4fb3a784ddd8727d790f": {
      "model_module": "@jupyter-widgets/controls",
      "model_module_version": "2.0.0",
      "model_name": "HTMLModel",
      "state": {
       "layout": "IPY_MODEL_bacf4ef8a7b94fcf9414c5768529ed94",
       "style": "IPY_MODEL_579bf795c02f4c3f99222867ec8746fa",
       "value": "<h2>Sample Size</h2>"
      }
     },
     "fba9eddb6e3e4195b0ceafe71635588e": {
      "model_module": "@jupyter-widgets/base",
      "model_module_version": "2.0.0",
      "model_name": "LayoutModel",
      "state": {}
     },
     "fbb4a9c036af4120927bfbd42bb00b3d": {
      "model_module": "@jupyter-widgets/controls",
      "model_module_version": "2.0.0",
      "model_name": "CheckboxStyleModel",
      "state": {
       "description_width": ""
      }
     },
     "fbee9e3cf1ec40148a9471ecd30e9a12": {
      "model_module": "@jupyter-widgets/base",
      "model_module_version": "2.0.0",
      "model_name": "LayoutModel",
      "state": {}
     },
     "fc2a860f19ea474ab4faaaa2fa336ab1": {
      "model_module": "@jupyter-widgets/base",
      "model_module_version": "2.0.0",
      "model_name": "LayoutModel",
      "state": {
       "height": "120px",
       "width": "100px"
      }
     },
     "fc66a871e90646efa836602c260393d6": {
      "model_module": "@jupyter-widgets/base",
      "model_module_version": "2.0.0",
      "model_name": "LayoutModel",
      "state": {
       "height": "40px",
       "width": "120px"
      }
     },
     "fca304d086534fce9a00fc6d2ca01d4f": {
      "model_module": "@jupyter-widgets/controls",
      "model_module_version": "2.0.0",
      "model_name": "HTMLModel",
      "state": {
       "layout": "IPY_MODEL_b7fad823424944899c1e2a5f097b93cd",
       "style": "IPY_MODEL_f45ff28fb4c349cfac1c6c4a3d893dae",
       "value": "<h3>Core</h3>"
      }
     },
     "fce88abc3f82461d9a6a592248c5d201": {
      "model_module": "@jupyter-widgets/base",
      "model_module_version": "2.0.0",
      "model_name": "LayoutModel",
      "state": {
       "height": "40px",
       "width": "120px"
      }
     },
     "fcf6934f83654df5b140c9ac0d30d97b": {
      "model_module": "@jupyter-widgets/base",
      "model_module_version": "2.0.0",
      "model_name": "LayoutModel",
      "state": {}
     },
     "fd1c1c8e8f304ef5aae6203a7ca653cf": {
      "model_module": "@jupyter-widgets/base",
      "model_module_version": "2.0.0",
      "model_name": "LayoutModel",
      "state": {}
     },
     "fd5991ba0d6347a585c0598c651c4d0e": {
      "model_module": "@jupyter-widgets/base",
      "model_module_version": "2.0.0",
      "model_name": "LayoutModel",
      "state": {}
     },
     "fd6ae1db70844c9594fa6bdae867c54e": {
      "model_module": "@jupyter-widgets/controls",
      "model_module_version": "2.0.0",
      "model_name": "ButtonStyleModel",
      "state": {
       "font_family": null,
       "font_size": null,
       "font_style": null,
       "font_variant": null,
       "font_weight": null,
       "text_color": null,
       "text_decoration": null
      }
     },
     "fd72267bb941499696088536b9759da3": {
      "model_module": "@jupyter-widgets/controls",
      "model_module_version": "2.0.0",
      "model_name": "VBoxModel",
      "state": {
       "children": [
        "IPY_MODEL_c0068f2e658e46778ebd5a68ac49382f",
        "IPY_MODEL_ca77bb1689fa43a29c1bde86bbf0799d",
        "IPY_MODEL_0e347ba703e447bdb4217dd24a6ce7f7",
        "IPY_MODEL_d8bbe25bc74944dd8cac1c2fd686a42a"
       ],
       "layout": "IPY_MODEL_d34f3f2ac54e4c80952619113879242f"
      }
     },
     "fdd64cf1822346fdb2616ee863fe51e7": {
      "model_module": "@jupyter-widgets/controls",
      "model_module_version": "2.0.0",
      "model_name": "CheckboxStyleModel",
      "state": {
       "description_width": ""
      }
     },
     "fddb2121a19d45e7873abc82fc469dc1": {
      "model_module": "@jupyter-widgets/base",
      "model_module_version": "2.0.0",
      "model_name": "LayoutModel",
      "state": {
       "height": "120px",
       "width": "100px"
      }
     },
     "fe044c30e80c43d8a99fc7233161f873": {
      "model_module": "@jupyter-widgets/base",
      "model_module_version": "2.0.0",
      "model_name": "LayoutModel",
      "state": {
       "height": "55px",
       "width": "80px"
      }
     },
     "fe1cb42eef8f472eae7b2273db15f250": {
      "model_module": "@jupyter-widgets/controls",
      "model_module_version": "2.0.0",
      "model_name": "CheckboxStyleModel",
      "state": {
       "description_width": ""
      }
     },
     "fe29e2f5ae234190a6b893f6d42971f0": {
      "model_module": "@jupyter-widgets/controls",
      "model_module_version": "2.0.0",
      "model_name": "HTMLStyleModel",
      "state": {
       "description_width": "",
       "font_size": null,
       "text_color": null
      }
     },
     "fe5eea354f924265b1aea8ed28ce6fc9": {
      "model_module": "@jupyter-widgets/base",
      "model_module_version": "2.0.0",
      "model_name": "LayoutModel",
      "state": {}
     },
     "fec05f4c29f64c67a3b793af11c766b0": {
      "model_module": "@jupyter-widgets/base",
      "model_module_version": "2.0.0",
      "model_name": "LayoutModel",
      "state": {}
     },
     "ff13792ba0914e95b62031496b2f4f61": {
      "model_module": "@jupyter-widgets/base",
      "model_module_version": "2.0.0",
      "model_name": "LayoutModel",
      "state": {
       "height": "40px",
       "width": "140px"
      }
     },
     "ff23a1c81bae411a8c459b65c6b2c837": {
      "model_module": "@jupyter-widgets/base",
      "model_module_version": "2.0.0",
      "model_name": "LayoutModel",
      "state": {}
     },
     "ff8e6e52e59d46919ee3b8da427bcb64": {
      "model_module": "@jupyter-widgets/controls",
      "model_module_version": "2.0.0",
      "model_name": "VBoxModel",
      "state": {
       "children": [
        "IPY_MODEL_0ae41a7c617e45499fd2109a2a68a80b",
        "IPY_MODEL_a6aa24da60754eee8065db8389d67f8d",
        "IPY_MODEL_7fc3460c8197484cbed45487e8315f46",
        "IPY_MODEL_17b6b7f89dd24e2a9fc058af7e236df9"
       ],
       "layout": "IPY_MODEL_a8ec5561faeb40db984175c0755fac56"
      }
     },
     "ff93acae358542a8a72a1d3379797df2": {
      "model_module": "@jupyter-widgets/controls",
      "model_module_version": "2.0.0",
      "model_name": "HBoxModel",
      "state": {
       "children": [
        "IPY_MODEL_4b604d300e2146038f45575aa9936265"
       ],
       "layout": "IPY_MODEL_acda346e9cd14c2091148931e9843970"
      }
     },
     "ff9c926c578a4a2686e4d32f9a6e1375": {
      "model_module": "@jupyter-widgets/base",
      "model_module_version": "2.0.0",
      "model_name": "LayoutModel",
      "state": {
       "height": "40px",
       "width": "160px"
      }
     },
     "ffa82825d32d4065a4f9618ccec4adc5": {
      "model_module": "@jupyter-widgets/controls",
      "model_module_version": "2.0.0",
      "model_name": "CheckboxStyleModel",
      "state": {
       "description_width": ""
      }
     }
    },
    "version_major": 2,
    "version_minor": 0
   }
  }
 },
 "nbformat": 4,
 "nbformat_minor": 5
}
