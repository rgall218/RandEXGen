{
 "cells": [
  {
   "cell_type": "code",
   "execution_count": 293,
   "id": "5f9c6c80-747d-4124-a027-903301bc755b",
   "metadata": {},
   "outputs": [],
   "source": [
    "import ipywidgets as wt\n",
    "import pandas as pd\n",
    "import time\n",
    "import sys\n",
    "from IPython.display import display\n",
    "from IPython.display import clear_output"
   ]
  },
  {
   "cell_type": "code",
   "execution_count": 294,
   "id": "3affb38a-83b6-4ca5-986b-cc2d74713e7e",
   "metadata": {},
   "outputs": [],
   "source": [
    "def create_expanded_button(description, button_style):\n",
    "    return wt.Button(description=description, button_style=button_style, layout=wt.Layout(height='120px', width='100px'))\n"
   ]
  },
  {
   "cell_type": "code",
   "execution_count": 295,
   "id": "8004149a-6955-482b-890f-80ecea43eca7",
   "metadata": {},
   "outputs": [],
   "source": [
    "def create_close_button(description, button_style):\n",
    "    return wt.Button(description=description, button_style=button_style, layout=wt.Layout(height='55px', width='80px'))\n"
   ]
  },
  {
   "cell_type": "code",
   "execution_count": 296,
   "id": "b9800f96-1d3c-4572-af79-b5460fb43a7e",
   "metadata": {},
   "outputs": [],
   "source": [
    "def create_photo_button(description, button_style):\n",
    "    return wt.Button(description=description, button_style=button_style, layout=wt.Layout(height='55px', width='80px'))\n"
   ]
  },
  {
   "cell_type": "code",
   "execution_count": 297,
   "id": "08b9231f",
   "metadata": {},
   "outputs": [],
   "source": [
    "def create_description_button(description, button_style, tooltip):\n",
    "    return wt.Button(description=description, button_style=button_style, icon = 'comment', tooltip=tooltip, layout=wt.Layout(height='55px', width='120px'))\n"
   ]
  },
  {
   "cell_type": "code",
   "execution_count": 298,
   "id": "2a6f99fd-dc87-4ef4-968e-eab88eeb05ff",
   "metadata": {},
   "outputs": [],
   "source": [
    "def create_expanded_radiobutton(list,descript):\n",
    "    return wt.RadioButtons(\n",
    "        options= list,\n",
    "        description=descript,\n",
    "        disabled=False\n",
    ")"
   ]
  },
  {
   "cell_type": "code",
   "execution_count": 299,
   "id": "a5343544-f32a-4506-ac76-3c3cf5347bba",
   "metadata": {},
   "outputs": [],
   "source": [
    "def create_expanded_dropdown(opt, val, descript):\n",
    "    return wt.Dropdown(\n",
    "    options=opt,\n",
    "    value=val,\n",
    "    description=descript,\n",
    ")"
   ]
  },
  {
   "cell_type": "code",
   "execution_count": 300,
   "id": "4d4bffb1-dbdc-4287-be48-3ae0acc5c807",
   "metadata": {},
   "outputs": [],
   "source": [
    "\n",
    "def create_expanded_checkbox(descript, val): \n",
    "     return wt.Checkbox(\n",
    "        value= val,\n",
    "        description= descript,\n",
    "        disabled=False,\n",
    "        indent=False,\n",
    "        layout=wt.Layout(width='160px', height='40px')\n",
    "     )"
   ]
  },
  {
   "cell_type": "code",
   "execution_count": 301,
   "id": "f8d6b4ee-6af4-4ce7-b627-17ff7bf19119",
   "metadata": {},
   "outputs": [],
   "source": [
    "def Equipment(b):\n",
    "    output.clear_output()\n",
    "    box_layout1 = wt.Layout(display='flex',flex_flow='row',align_items='stretch', justify_content= 'space-around',width='70%')\n",
    "    ti=(Equip_Title, equipcl)\n",
    "    titlers = wt.Box(children=ti, layout=box_layout1)\n",
    "    op =wt.VBox([titlers, Equip_Menu])\n",
    "    with output:\n",
    "        display(op)\n",
    "    #output.append_display_data (Equip_Title)\n",
    "    #output.append_display_data (Equip_Menu)"
   ]
  },
  {
   "cell_type": "code",
   "execution_count": 302,
   "id": "41e41d4d-8d38-4699-9950-282ef08f0f8b",
   "metadata": {},
   "outputs": [],
   "source": [
    "def SampleSize(b):\n",
    "    output.clear_output()\n",
    "    with output:\n",
    "        display (SS_Title ,SS_Menu)"
   ]
  },
  {
   "cell_type": "code",
   "execution_count": 303,
   "id": "6c980b5b-767f-4afb-a5b0-4cb4b7367a8f",
   "metadata": {},
   "outputs": [],
   "source": [
    "def BodyArea(b):\n",
    "    output.clear_output()\n",
    "    box_layout1 = wt.Layout(display='flex',flex_flow='row',align_items='stretch', justify_content= 'space-around',width='70%')\n",
    "    ti=(BA_Title, bacl)\n",
    "    titlers = wt.Box(children=ti, layout=box_layout1)\n",
    "    op =wt.VBox([titlers, BA_Menu])\n",
    "    with output:\n",
    "        display(op)"
   ]
  },
  {
   "cell_type": "code",
   "execution_count": 304,
   "id": "2f9a1a16-fd50-4e08-b63b-789609b9ebdc",
   "metadata": {},
   "outputs": [],
   "source": [
    "def ExCat(b):\n",
    "    output.clear_output()\n",
    "    box_layout1 = wt.Layout(display='flex',flex_flow='row',align_items='stretch', justify_content= 'space-around',width='70%')\n",
    "    ti=(EC_Title, ecatcl)\n",
    "    titlers = wt.Box(children=ti, layout=box_layout1)\n",
    "    op =wt.VBox([titlers, EC_Menu])\n",
    "    with output:\n",
    "        display(op)\n",
    "    "
   ]
  },
  {
   "cell_type": "code",
   "execution_count": 305,
   "id": "60459c2b-f7d3-4d01-820b-e610b6095013",
   "metadata": {},
   "outputs": [],
   "source": [
    "def Execute(b):\n",
    "\n",
    "    global Final_Out\n",
    "    global dfsub\n",
    "    \n",
    "    box_layout = wt.Layout(display='flex',flex_flow='row', align_items='stretch', justify_content= 'space-around', width='70%')\n",
    "\n",
    "    box_layout1 = wt.Layout(display='flex',flex_flow='row',align_items='stretch', justify_content= 'space-around',width='70%')\n",
    "  \n",
    "    upper_sampled = core_sampled = lower_sampled =pd.Series()\n",
    "    if ((bacb[0].value==True) and (not dfsub.empty)):\n",
    "        upper_sampledp=dfsub['name'].loc[(dfsub['bodyArea'] =='Upper Body') & (dfsub['active']=='Y') ]\n",
    "        if not upper_sampledp.empty:\n",
    "            upper_sampled=upper_sampledp.sample(ssize.value)\n",
    "            \n",
    "    if ((bacb[1].value == True) and (not dfsub.empty)):\n",
    "        core_sampledp=dfsub['name'].loc[(dfsub['bodyArea'] =='Core') & (dfsub['active']=='Y')]\n",
    "        if not core_sampledp.empty:\n",
    "            core_sampled=core_sampledp.sample(ssize.value)\n",
    "            \n",
    "    if ((bacb[2].value ==True) and (not dfsub.empty)):\n",
    "        lower_sampledp=dfsub['name'].loc[(dfsub['bodyArea'] =='Lower Body') & (dfsub['active']=='Y') ]\n",
    "        if not lower_sampledp.empty:\n",
    "            lower_sampled=lower_sampledp.sample(ssize.value)\n",
    "        \n",
    "    print ('U_sampled',upper_sampled)\n",
    "    print ('C_Sampled', core_sampled)\n",
    "    print ('L_Sampled', lower_sampled)\n",
    "   \n",
    "    \n",
    "   \n",
    "    Title=[[upper_title], [core_title], [lower_title]]\n",
    "    \n",
    "    idxub=0 \n",
    "    desbtnub=0\n",
    "    nameub = 0\n",
    "    ubdataav =False\n",
    "\n",
    "    idxcr=0\n",
    "    desbtncr=0\n",
    "    namecr=0\n",
    "    crdataav=False\n",
    "\n",
    "    idxlb=0\n",
    "    desbtnlb=0\n",
    "    namelb=0\n",
    "    lbdataav=False\n",
    "    \n",
    "    if len(upper_sampled) != 0:\n",
    "        idxub =upper_sampled.index\n",
    "        desbtnub=([create_description_button('Instruction','', str(x)) for (x) in idxub.values])\n",
    "        nameub=upper_sampled.tolist()\n",
    "        ubdataav=True\n",
    "        \n",
    "    if len (core_sampled !=0):\n",
    "        idxcr=core_sampled.index\n",
    "        desbtncr=([create_description_button('Instruction','', str(x)) for (x) in idxcr.values])\n",
    "        namecr=core_sampled.to_list()\n",
    "        crdataav=True\n",
    "        \n",
    "    if len(lower_sampled !=0):\n",
    "        idxlb =lower_sampled.index\n",
    "        desbtnlb=([create_description_button('Instruction','',str(x)) for (x) in idxlb.values])\n",
    "        lbdataav=True\n",
    "        namelb=lower_sampled.to_list()\n",
    "    upperbdy=[nameub,desbtnub,idxub]\n",
    "    corebdy=[namecr,desbtncr,idxcr]\n",
    "    lowerbdy=[namelb,desbtnlb,idxlb]\n",
    "    bdyarea= [upperbdy, corebdy, lowerbdy]\n",
    "    dataav=[ubdataav,crdataav, lbdataav] \n",
    "    \n",
    "    op1=[]\n",
    "    op2=[]\n",
    "    opf=[]\n",
    "    boxf=[]\n",
    "    name=[] \n",
    "    btn=[]\n",
    "    for i in range(len(bdyarea)):\n",
    "        \n",
    "        if dataav[i] ==False:\n",
    "            \n",
    "            continue\n",
    "            \n",
    "        name=[]\n",
    "        btn=[]                      \n",
    "        leftbox=rightbox=[]\n",
    "        box1=[]\n",
    "        box2=[]\n",
    "        boxes=[box1, box2]\n",
    "        op1 =wt.HBox(Title[i]) \n",
    "        name+=bdyarea[i][0]\n",
    "        btn+=bdyarea[i][1]\n",
    "        \n",
    "        for ix in range(len(name)):\n",
    "            ex=wt.HTML(str(name[ix]))\n",
    "\n",
    "            if ix & 1:\n",
    "                box2+= [ex]\n",
    "                box2+=[btn[ix]]\n",
    "            else:\n",
    "                box1+= [ex]\n",
    "                box1+=[btn[ix]]\n",
    "\n",
    "            leftbox=wt.VBox([item for item in box1])\n",
    "            rightbox=wt.VBox([item for item in box2])\n",
    " \n",
    "                    \n",
    "        op2 =wt.Box(children=[leftbox, rightbox], layout=box_layout )\n",
    "        opf=wt.VBox([op1,op2])           \n",
    "        boxf+=([opf])\n",
    "    title=(Res_Title, rsltcl)\n",
    "    titlers = wt.Box(children=title, layout=box_layout1)\n",
    "    F_Out=(wt.VBox([item for item in boxf]))\n",
    "    if ((upper_sampled.empty) and (core_sampled.empty) and (lower_sampled.empty)):\n",
    "        rs= wt.HTML(\"<h3>No Results</h3>\")\n",
    "        F_Out=wt.VBox([rs])\n",
    "    \n",
    "    Final_Out = wt.VBox([titlers,F_Out])\n",
    "    \n",
    "    with output:\n",
    "        display(Final_Out)\n",
    "   \n",
    "    \n",
    "    if ubdataav is True:\n",
    "        for x in range(len(desbtnub)):\n",
    "            desbtnub[x].on_click(Get_Description)\n",
    "      \n",
    "    if crdataav is True:   \n",
    "        for x in range(len(desbtncr)):\n",
    "            desbtncr[x].on_click(Get_Description)\n",
    "    if lbdataav is True:\n",
    "        for x in range(len(desbtnlb)):\n",
    "            desbtnlb[x].on_click(Get_Description)\n",
    "    \n",
    "            \n",
    "\n",
    "   "
   ]
  },
  {
   "cell_type": "code",
   "execution_count": 306,
   "id": "0e9a5c78-2fb9-4405-9252-1356c3925088",
   "metadata": {},
   "outputs": [],
   "source": [
    "def Get_Description(b):\n",
    "\n",
    "    box_layout1 = wt.Layout(display='flex',flex_flow='row',align_items='stretch', justify_content= 'space-around',width='70%')\n",
    "    \n",
    "    global output\n",
    "    \n",
    "    output.clear_output()\n",
    "    tp=b.tooltip\n",
    "    tp1=int(tp)\n",
    "    ex=dfsub.loc[tp1]\n",
    "    t = ex['instructions']\n",
    "    n= ex['name']\n",
    "    im=ex['images']\n",
    "    im2=(im.strip(\"[]\"))\n",
    "    im3=(im2.strip(\"'\"))\n",
    "    im4=(im3.replace(\"'\", \"\"))\n",
    "    im5=(im4.replace(\" \", \"\"))\n",
    "    im6=(im5.split(\",\"))\n",
    "          \n",
    "    y=('<h3>'+ t + '</h3>')\n",
    "    o=wt.HTML(y)\n",
    "    na=('<h2>'+ n + '</h2>')\n",
    "    nam=wt.HTML(na)\n",
    "    ti=(nam, descl)\n",
    "    titlers = wt.Box(children=ti, layout=box_layout1)\n",
    "    txt=wt.VBox([titlers, o])\n",
    "\n",
    "\n",
    "\n",
    "    \n",
    "    Path='exercises/'\n",
    "    file = open(Path + str(im6[0]), \"rb\")\n",
    "    image1 = file.read()\n",
    "    \n",
    "    file1 = open( Path + str(im6[1]), \"rb\")\n",
    "    image2 = file1.read()\n",
    "\n",
    "    I1=wt.Image(\n",
    "        value=image1,\n",
    "        format='jpg',\n",
    "        width=300,\n",
    "        height=400,\n",
    "    )\n",
    "\n",
    "    I2=wt.Image(\n",
    "        value=image2,\n",
    "        format='jpg',\n",
    "        width=300,\n",
    "        height=400,\n",
    "    )\n",
    "\n",
    "    photo= wt.HBox([I1, I2])\n",
    "    with output:\n",
    "        display(txt, photo)"
   ]
  },
  {
   "cell_type": "code",
   "execution_count": 307,
   "id": "1bb607b9-d5f3-4c1e-9f81-fb030f45f8fc",
   "metadata": {},
   "outputs": [],
   "source": [
    "def Eq_Clear(b):\n",
    "    output.clear_output()\n",
    "    \n",
    "    box_layout1 = wt.Layout(display='flex',flex_flow='row',align_items='stretch', justify_content= 'space-around',width='70%')\n",
    "\n",
    "    for i in range(len(equipcb)):\n",
    "        equipcb[i].value =False\n",
    "    ti=(Equip_Title, equipcl)\n",
    "    titlers = wt.Box(children=ti, layout=box_layout1)\n",
    "    op =wt.VBox([titlers, Equip_Menu])\n",
    "    with output:\n",
    "        display(op)"
   ]
  },
  {
   "cell_type": "code",
   "execution_count": 308,
   "id": "efb8fc18-a582-4dc3-a6af-236eb07d4acb",
   "metadata": {},
   "outputs": [],
   "source": [
    "def Ecat_Clear(b):\n",
    "    output.clear_output()\n",
    "    \n",
    "    box_layout1 = wt.Layout(display='flex',flex_flow='row',align_items='stretch', justify_content= 'space-around',width='70%')\n",
    "\n",
    "    for i in range(len(ecatcb)):\n",
    "        ecatcb[i].value =False\n",
    "    ti=(EC_Title, ecatcl)\n",
    "    titlers = wt.Box(children=ti, layout=box_layout1)\n",
    "    op =wt.VBox([titlers, EC_Menu])\n",
    "    with output:\n",
    "        display(op)"
   ]
  },
  {
   "cell_type": "code",
   "execution_count": 309,
   "id": "f9e6e7f4-a506-42ce-bc16-599e1e061fa2",
   "metadata": {},
   "outputs": [],
   "source": [
    "def Close(b):\n",
    "    output.clear_output()\n",
    "\n"
   ]
  },
  {
   "cell_type": "code",
   "execution_count": 310,
   "id": "d7e22564-5909-4882-8196-b799e03e89f3",
   "metadata": {},
   "outputs": [],
   "source": [
    "def Spec_Close(b):\n",
    "    global dfsub\n",
    "    equipmask=[equipcb[i].value for i in range(len(equipcb))]\n",
    "    ecatmask=[ecatcb[i].value for i in range(len(ecatcb))]\n",
    "    equipav=equip[equipmask]\n",
    "    ecav=ecat[ecatmask]\n",
    "    dfsub=df[df['equipment'].isin(equipav) & df['category'].isin(ecav)]\n",
    "    \n",
    "    output.clear_output()\n",
    "    "
   ]
  },
  {
   "cell_type": "code",
   "execution_count": 311,
   "id": "c55f957a-7cef-42ca-a58e-8d22ce7a1210",
   "metadata": {},
   "outputs": [],
   "source": [
    "def Des_Close(b):\n",
    "    output.clear_output()\n",
    "    with output:\n",
    "        display(Final_Out)"
   ]
  },
  {
   "cell_type": "code",
   "execution_count": 312,
   "id": "0ed200db-b5e1-407a-8895-56508eb97c5d",
   "metadata": {},
   "outputs": [],
   "source": [
    "box_layout = wt.Layout(display='flex',\n",
    "                    flex_flow='row', \n",
    "                    align_items='stretch', \n",
    "                    justify_content= 'space-around',\n",
    "                    width='70%')\n",
    "box_layout1 = wt.Layout(display='flex',\n",
    "                    flex_flow='row', \n",
    "                    align_items='stretch', \n",
    "                    justify_content= 'space-around',\n",
    "                    width='40%')\n"
   ]
  },
  {
   "cell_type": "code",
   "execution_count": 313,
   "id": "6e07f703-d229-40fa-9c91-399e541ce593",
   "metadata": {},
   "outputs": [],
   "source": [
    "\n",
    "\n",
    "item=wt.HTML(value= \"<h2>Equipment List</h2>\")\n",
    "Equip_Title=wt.HBox([item])\n"
   ]
  },
  {
   "cell_type": "code",
   "execution_count": 314,
   "id": "674022d2-ce3a-49fc-a67b-53b341424195",
   "metadata": {},
   "outputs": [],
   "source": [
    "\n",
    "\n",
    "Main_Title=wt.HTML(value= \"<h1>Random Excercise Generator</h1>\")\n"
   ]
  },
  {
   "cell_type": "code",
   "execution_count": 315,
   "id": "131852cf-ef69-4b2b-a88c-73e32cc46a7e",
   "metadata": {},
   "outputs": [],
   "source": [
    "item=wt.HTML(value= '<h5>\"Close Tab to Exit\"</h5>')\n",
    "Exit_Title=wt.HBox([item])"
   ]
  },
  {
   "cell_type": "code",
   "execution_count": 316,
   "id": "32d73cc0-637a-4cb4-97c6-55ff94ccf009",
   "metadata": {},
   "outputs": [],
   "source": [
    "\n",
    "\n",
    "item=wt.HTML(value= \"<h2>Sample Size</h2>\")\n",
    "SS_Title=wt.HBox([item])\n"
   ]
  },
  {
   "cell_type": "code",
   "execution_count": 317,
   "id": "9c3ef384-8567-4087-a682-78ca349ccac8",
   "metadata": {},
   "outputs": [],
   "source": [
    "\n",
    "\n",
    "item=wt.HTML(value= \"<h2>Body Area</h2>\")\n",
    "BA_Title=wt.HBox([item])\n"
   ]
  },
  {
   "cell_type": "code",
   "execution_count": 318,
   "id": "4c931a81-dccd-402f-82d8-3e0cb189ad75",
   "metadata": {},
   "outputs": [],
   "source": [
    "\n",
    "\n",
    "item=wt.HTML(value= \"<h2>Exercise Category</h2>\")\n",
    "EC_Title=wt.HBox([item])\n"
   ]
  },
  {
   "cell_type": "code",
   "execution_count": 319,
   "id": "a3b5a9af-a136-45f2-b24b-a5c0a3b143dd",
   "metadata": {},
   "outputs": [],
   "source": [
    "item=wt.HTML(value= \"<h1>Results</h1>\")\n",
    "Res_Title=wt.HBox([item])"
   ]
  },
  {
   "cell_type": "code",
   "execution_count": 320,
   "id": "395d2af4-e03d-42ff-bb7c-8b481ac23c29",
   "metadata": {},
   "outputs": [],
   "source": [
    "item=wt.HTML(value= \"<h3>Upper Body</h3>\")\n",
    "upper_title=wt.HBox([item])"
   ]
  },
  {
   "cell_type": "code",
   "execution_count": 321,
   "id": "addf6d7c",
   "metadata": {},
   "outputs": [],
   "source": [
    "item=wt.HTML(value= \"<h3>Core</h3>\")\n",
    "core_title=wt.HBox([item])"
   ]
  },
  {
   "cell_type": "code",
   "execution_count": 322,
   "id": "4fa2f5aa",
   "metadata": {},
   "outputs": [],
   "source": [
    "item=wt.HTML(value= \"<h3>Lower_Body</h3>\")\n",
    "lower_title=wt.HBox([item])"
   ]
  },
  {
   "cell_type": "code",
   "execution_count": 323,
   "id": "f0474c52-8505-42e3-9734-68cf8a7d084d",
   "metadata": {},
   "outputs": [],
   "source": [
    "\n",
    "output = wt.Output()\n",
    "\n",
    "Final_Out=[]"
   ]
  },
  {
   "cell_type": "code",
   "execution_count": 324,
   "id": "331b4211-f5e2-4e34-b437-ecdf5489d57a",
   "metadata": {},
   "outputs": [],
   "source": [
    "schema=pd.read_csv('schema.csv',index_col=0)"
   ]
  },
  {
   "cell_type": "code",
   "execution_count": 325,
   "id": "6f0cc3cf-2495-4dfc-b29c-6f2b90613d25",
   "metadata": {},
   "outputs": [],
   "source": [
    "df =pd.read_csv('exercises-clean.csv')\n",
    "dfsub=df\n"
   ]
  },
  {
   "cell_type": "code",
   "execution_count": 326,
   "id": "63502771-bafb-4176-a73c-ff6c65ec77b5",
   "metadata": {},
   "outputs": [],
   "source": [
    "\n",
    "equip=schema.loc['equipment'].dropna()\n",
    "equip1=pd.DataFrame(equip).transpose()\n",
    "ecat=schema.loc['category'].dropna()\n"
   ]
  },
  {
   "cell_type": "code",
   "execution_count": 327,
   "id": "5886c64d-9d4d-4ee2-81ea-dad36be57a58",
   "metadata": {},
   "outputs": [],
   "source": [
    "equipcb= ([create_expanded_checkbox(descript,True) for descript in equip])\n",
    "ecatcb= ([create_expanded_checkbox(descript,True) for descript in ecat])\n",
    "equipclar=create_close_button('Clear', '')\n",
    "ecatclar=create_close_button('Clear', '')\n",
    "equipcl= create_close_button('Close', '')\n",
    "ecatcl= create_close_button('Close','')\n",
    "rsltcl= create_close_button('Close', '')\n",
    "descl=create_close_button('Close', '')\n",
    "desbtn=([create_description_button('Instruction','', str(x)) for x in range (2)])\n",
    "picbtn=create_photo_button('Photo', '')"
   ]
  },
  {
   "cell_type": "code",
   "execution_count": 328,
   "id": "8bb1aeb6-e4ff-4244-8575-f9b385aad10c",
   "metadata": {},
   "outputs": [],
   "source": [
    "\n",
    "bdyarea=['upperBody', 'Core', 'lowerBody']"
   ]
  },
  {
   "cell_type": "code",
   "execution_count": 329,
   "id": "0c80a30f-07b6-434d-9481-df93c086541d",
   "metadata": {},
   "outputs": [],
   "source": [
    "box1=[]\n",
    "box2=[]\n",
    "box3 =[]\n",
    "boxes = [box1,box2,box3]\n",
    "x=0\n",
    "for item in equipcb:\n",
    "    boxes[x].append(item)\n",
    "    x=x+1\n",
    "    if x==3:\n",
    "        x=0\n",
    "\n",
    "    "
   ]
  },
  {
   "cell_type": "code",
   "execution_count": 330,
   "id": "dd69d9af-611a-4dd2-a71a-b7df90818fa0",
   "metadata": {},
   "outputs": [],
   "source": [
    "grid = wt.GridspecLayout(5, 5, height='200px') \n",
    "eq= create_expanded_button('Equipment', '')\n",
    "ru = create_expanded_button('Run', '')\n",
    "leftbox=wt.VBox([eq, ru])\n",
    "ss= create_expanded_button('Sample Size', '')\n",
    "middlebox=wt.VBox([ss])\n",
    "ba= create_expanded_button('Body Area', '')\n",
    "rightbox =wt.VBox([ba])\n",
    "ec= create_expanded_button('Ex Category', '')\n",
    "qu= create_expanded_button('Exit', '')\n",
    "Farright=wt.VBox([ec, Exit_Title])\n",
    "Main_Menu =wt.HBox([leftbox, middlebox, rightbox, Farright])\n"
   ]
  },
  {
   "cell_type": "code",
   "execution_count": 331,
   "id": "f8e83f64-4063-4317-b5f2-96edeab3bcba",
   "metadata": {},
   "outputs": [],
   "source": [
    "leftbox =wt.VBox([descript for descript in box1])\n",
    "middlebox = wt.VBox([descript for descript in box2])\n",
    "item1 =([descript for descript in box3])\n",
    "rightbox=wt.VBox([descript for descript in box3])\n",
    "bottombox =wt.HBox([equipclar])\n",
    "Equip_Menu=wt.HBox([leftbox, middlebox, rightbox, bottombox])"
   ]
  },
  {
   "cell_type": "code",
   "execution_count": 332,
   "id": "d5353156-e3dd-43ca-9e0c-0741b18fa00a",
   "metadata": {},
   "outputs": [],
   "source": [
    "box1=[]\n",
    "box2=[]\n",
    "boxes = [box1,box2]\n",
    "x=0\n",
    "for item in ecatcb:\n",
    "    boxes[x].append(item)\n",
    "    x=x+1\n",
    "    if x==2:\n",
    "        x=0\n",
    "\n",
    "    "
   ]
  },
  {
   "cell_type": "code",
   "execution_count": 333,
   "id": "002208ea-b537-471f-af22-9e001356100c",
   "metadata": {},
   "outputs": [],
   "source": [
    "\n",
    "leftbox =wt.VBox([descript for descript in box1])\n",
    "rightbox=wt.VBox([descript for descript in box2])\n",
    "items =[ leftbox, rightbox, ecatclar]\n",
    "EC_Menu = wt.Box(children=items, layout=box_layout1)\n",
    "  "
   ]
  },
  {
   "cell_type": "code",
   "execution_count": 334,
   "id": "1af06150-33cb-424d-9a32-18f14c5e34a7",
   "metadata": {},
   "outputs": [],
   "source": [
    "opt=[('One', 1), ('Two', 2), ('Three', 3),('Four', 4),('Five', 5)]\n",
    "val=2\n",
    "descript=''\n",
    "ssize= create_expanded_dropdown(opt, val, descript)\n",
    "sscl= create_close_button('Close','')\n",
    "items =[ssize, sscl]\n",
    "boxv = wt.Box(children=items, layout=box_layout)\n",
    "SS_Menu=wt.HBox([boxv])\n",
    "\n"
   ]
  },
  {
   "cell_type": "code",
   "execution_count": 335,
   "id": "51c755c0-aa3a-4089-bc3e-fd44b42ffc8f",
   "metadata": {},
   "outputs": [],
   "source": [
    "bacb= ([create_expanded_checkbox(descript,True) for descript in bdyarea])\n",
    "leftbox =wt.VBox([descript for descript in bacb])\n",
    "bacl= create_close_button('Close','')\n",
    "BA_Menu=wt.HBox([leftbox])\n",
    "#BA_Menu"
   ]
  },
  {
   "cell_type": "code",
   "execution_count": 336,
   "id": "7055d82c-b29a-4507-91d2-d4cb84712493",
   "metadata": {},
   "outputs": [
    {
     "data": {
      "application/vnd.jupyter.widget-view+json": {
       "model_id": "bb7655d5d0ea4a17b79de7b51521cc96",
       "version_major": 2,
       "version_minor": 0
      },
      "text/plain": [
       "HTML(value='<h1>Random Excercise Generator</h1>')"
      ]
     },
     "metadata": {},
     "output_type": "display_data"
    },
    {
     "data": {
      "application/vnd.jupyter.widget-view+json": {
       "model_id": "d50cdbd77eaf4c92b583edc62922d9bd",
       "version_major": 2,
       "version_minor": 0
      },
      "text/plain": [
       "HBox(children=(VBox(children=(Button(description='Equipment', layout=Layout(height='120px', width='100px'), st…"
      ]
     },
     "metadata": {},
     "output_type": "display_data"
    },
    {
     "data": {
      "application/vnd.jupyter.widget-view+json": {
       "model_id": "9b5483be4e1a4b7ba0e82d603408ea4e",
       "version_major": 2,
       "version_minor": 0
      },
      "text/plain": [
       "Output()"
      ]
     },
     "metadata": {},
     "output_type": "display_data"
    }
   ],
   "source": [
    "\n",
    "\n",
    "display(Main_Title, Main_Menu,output)\n",
    "\n",
    "    "
   ]
  },
  {
   "cell_type": "code",
   "execution_count": 337,
   "id": "dabcb7c7-3ef7-4a3f-a1c0-d851a78e6638",
   "metadata": {},
   "outputs": [],
   "source": [
    "eq.on_click(Equipment)"
   ]
  },
  {
   "cell_type": "code",
   "execution_count": 338,
   "id": "edb5f22f-883d-4d04-a8f4-d92d3a1e57d4",
   "metadata": {},
   "outputs": [],
   "source": [
    "equipclar.on_click(Eq_Clear)"
   ]
  },
  {
   "cell_type": "code",
   "execution_count": 339,
   "id": "a80b873c-8823-402a-bf9f-3a0e26b9b6e0",
   "metadata": {},
   "outputs": [],
   "source": [
    "ss.on_click(SampleSize)"
   ]
  },
  {
   "cell_type": "code",
   "execution_count": 340,
   "id": "8bf19980-6be0-4b3d-84f8-39724806c805",
   "metadata": {},
   "outputs": [],
   "source": [
    "ba.on_click(BodyArea)"
   ]
  },
  {
   "cell_type": "code",
   "execution_count": 341,
   "id": "6a1a34bf-2ab5-47c9-80ab-aab085804663",
   "metadata": {},
   "outputs": [],
   "source": [
    "ec.on_click(ExCat)"
   ]
  },
  {
   "cell_type": "code",
   "execution_count": 342,
   "id": "068a4a50-9504-4a8f-a81f-6d61a6728242",
   "metadata": {},
   "outputs": [],
   "source": [
    "ecatclar.on_click(Ecat_Clear)"
   ]
  },
  {
   "cell_type": "code",
   "execution_count": 343,
   "id": "9ea33ffc-4962-4bf4-9ee2-14809a846479",
   "metadata": {},
   "outputs": [],
   "source": [
    "ru.on_click(Execute)"
   ]
  },
  {
   "cell_type": "code",
   "execution_count": 344,
   "id": "c286e233-5d2e-419c-8e60-50dff435fd5f",
   "metadata": {
    "editable": true,
    "slideshow": {
     "slide_type": ""
    },
    "tags": []
   },
   "outputs": [],
   "source": [
    "equipcl.on_click(Spec_Close)"
   ]
  },
  {
   "cell_type": "code",
   "execution_count": 345,
   "id": "1991cb26-7cf5-4f96-a424-2648d609e9ee",
   "metadata": {},
   "outputs": [],
   "source": [
    "sscl.on_click(Close)"
   ]
  },
  {
   "cell_type": "code",
   "execution_count": 346,
   "id": "cb40a7d3-df4a-4c85-99b9-6fb1b21da1bb",
   "metadata": {},
   "outputs": [],
   "source": [
    "bacl.on_click(Close)"
   ]
  },
  {
   "cell_type": "code",
   "execution_count": 347,
   "id": "326f067d-bab1-4f08-9682-e8dc1254517f",
   "metadata": {},
   "outputs": [],
   "source": [
    "rsltcl.on_click(Close)"
   ]
  },
  {
   "cell_type": "code",
   "execution_count": 348,
   "id": "8ed08dfd-d353-47a8-910b-974dcbfead0b",
   "metadata": {},
   "outputs": [],
   "source": [
    "ecatcl.on_click(Spec_Close)"
   ]
  },
  {
   "cell_type": "code",
   "execution_count": 349,
   "id": "9d83e309-034a-4f44-81dd-aa1ed0b136a2",
   "metadata": {},
   "outputs": [],
   "source": [
    "descl.on_click(Des_Close)"
   ]
  },
  {
   "cell_type": "code",
   "execution_count": 350,
   "id": "d9468060-8556-493e-9cec-5c9d84f4a75b",
   "metadata": {},
   "outputs": [],
   "source": [
    "for x in range(2):\n",
    "    desbtn[x].on_click(Get_Description)"
   ]
  },
  {
   "cell_type": "code",
   "execution_count": null,
   "id": "bf85e10d-dd20-4540-9fb5-2707e44e54c5",
   "metadata": {},
   "outputs": [],
   "source": []
  }
 ],
 "metadata": {
  "kernelspec": {
   "display_name": "Python 3 (ipykernel)",
   "language": "python",
   "name": "python3"
  },
  "language_info": {
   "codemirror_mode": {
    "name": "ipython",
    "version": 3
   },
   "file_extension": ".py",
   "mimetype": "text/x-python",
   "name": "python",
   "nbconvert_exporter": "python",
   "pygments_lexer": "ipython3",
   "version": "3.8.2"
  },
  "widgets": {
   "application/vnd.jupyter.widget-state+json": {
    "state": {
     "0034cb59b4444511945da952198f44ed": {
      "model_module": "@jupyter-widgets/controls",
      "model_module_version": "2.0.0",
      "model_name": "CheckboxStyleModel",
      "state": {
       "description_width": ""
      }
     },
     "0062dc2042ba4a5d94fcb6bf700151ac": {
      "model_module": "@jupyter-widgets/controls",
      "model_module_version": "2.0.0",
      "model_name": "VBoxModel",
      "state": {
       "children": [
        "IPY_MODEL_823f6a5d0e0c454d99c9a7a9debc8f70",
        "IPY_MODEL_8da33011de254a0cb8d52b05211154d2"
       ],
       "layout": "IPY_MODEL_0ff1a03a5e4d443eab23c68526565541"
      }
     },
     "00c145265e3a4a60bd48931a4e8970c1": {
      "model_module": "@jupyter-widgets/controls",
      "model_module_version": "2.0.0",
      "model_name": "CheckboxModel",
      "state": {
       "description": "plyometrics",
       "disabled": false,
       "indent": false,
       "layout": "IPY_MODEL_3d42fe8213064536bf763513b4ea4ad9",
       "style": "IPY_MODEL_24ae7531a42a472ca6b24b2857db5ac7",
       "value": true
      }
     },
     "00e73898504446f5932ccfaea1d6501e": {
      "model_module": "@jupyter-widgets/base",
      "model_module_version": "2.0.0",
      "model_name": "LayoutModel",
      "state": {}
     },
     "00f0a897680b415fb77418745bf7975d": {
      "model_module": "@jupyter-widgets/controls",
      "model_module_version": "2.0.0",
      "model_name": "HTMLModel",
      "state": {
       "layout": "IPY_MODEL_b0903d8e8e084d2e86e5d1072ee63a13",
       "style": "IPY_MODEL_1f1d843259b141069c219b24982c4895",
       "value": "<h5>\"Close Tab to Exit\"</h5>"
      }
     },
     "00f562bcb34345609ac18e2fd2f7f200": {
      "model_module": "@jupyter-widgets/controls",
      "model_module_version": "2.0.0",
      "model_name": "VBoxModel",
      "state": {
       "children": [
        "IPY_MODEL_86c50c750f9c459aa193f8b01b9e8057"
       ],
       "layout": "IPY_MODEL_290adbb3e2cd4507875f907d6f6a9b28"
      }
     },
     "010312cdb06f485fb748b34e37c51bb2": {
      "model_module": "@jupyter-widgets/controls",
      "model_module_version": "2.0.0",
      "model_name": "CheckboxModel",
      "state": {
       "description": "lowerBody",
       "disabled": false,
       "indent": false,
       "layout": "IPY_MODEL_696fd78f175f4d38a55352a238cd4fb9",
       "style": "IPY_MODEL_522413728d27487688c88e3bb8bdf8fb",
       "value": true
      }
     },
     "0108ec6bd74148be82bf68cf3fbd4076": {
      "model_module": "@jupyter-widgets/base",
      "model_module_version": "2.0.0",
      "model_name": "LayoutModel",
      "state": {
       "height": "40px",
       "width": "160px"
      }
     },
     "011e1e96a1d04c10aeea25b756ee28b5": {
      "model_module": "@jupyter-widgets/base",
      "model_module_version": "2.0.0",
      "model_name": "LayoutModel",
      "state": {}
     },
     "0166edc05cad4623a632a4d86c4aab48": {
      "model_module": "@jupyter-widgets/controls",
      "model_module_version": "2.0.0",
      "model_name": "HBoxModel",
      "state": {
       "children": [
        "IPY_MODEL_54758ec7eac14ec09e47c98628ab9535",
        "IPY_MODEL_90b5cd918578407cb3dea6524eeb3feb",
        "IPY_MODEL_0f0b1582725f41af98549ef31629f3b4",
        "IPY_MODEL_9dfc8663d1ed469fb10c4acb454ea565"
       ],
       "layout": "IPY_MODEL_735919f7523f49f3920142beba36a25b"
      }
     },
     "0174a39d3eb643e193a9a199ae162a9f": {
      "model_module": "@jupyter-widgets/base",
      "model_module_version": "2.0.0",
      "model_name": "LayoutModel",
      "state": {}
     },
     "01ad925c878a4a02a056a67d7790434d": {
      "model_module": "@jupyter-widgets/base",
      "model_module_version": "2.0.0",
      "model_name": "LayoutModel",
      "state": {}
     },
     "01c0d4babcec490b8e830be43cb9d961": {
      "model_module": "@jupyter-widgets/base",
      "model_module_version": "2.0.0",
      "model_name": "LayoutModel",
      "state": {
       "height": "40px",
       "width": "160px"
      }
     },
     "02566cd71a1842f595bc99cb0694439b": {
      "model_module": "@jupyter-widgets/controls",
      "model_module_version": "2.0.0",
      "model_name": "ButtonStyleModel",
      "state": {
       "font_family": null,
       "font_size": null,
       "font_style": null,
       "font_variant": null,
       "font_weight": null,
       "text_color": null,
       "text_decoration": null
      }
     },
     "028637d65f7a4a069ea6e09a2a40ee1b": {
      "model_module": "@jupyter-widgets/base",
      "model_module_version": "2.0.0",
      "model_name": "LayoutModel",
      "state": {}
     },
     "028f8524c2264a6a947583c6cbf9c374": {
      "model_module": "@jupyter-widgets/base",
      "model_module_version": "2.0.0",
      "model_name": "LayoutModel",
      "state": {
       "height": "40px",
       "width": "160px"
      }
     },
     "02d3533ccfef48368b155a47fb4b3d87": {
      "model_module": "@jupyter-widgets/controls",
      "model_module_version": "2.0.0",
      "model_name": "CheckboxStyleModel",
      "state": {
       "description_width": ""
      }
     },
     "02d4e6a991494c30aac01b2bced8be4c": {
      "model_module": "@jupyter-widgets/controls",
      "model_module_version": "2.0.0",
      "model_name": "ButtonModel",
      "state": {
       "description": "Instruction",
       "icon": "comment",
       "layout": "IPY_MODEL_f0144e9741254c86b39c183c6eada8ee",
       "style": "IPY_MODEL_990157359a0a4a669a9a92e610395d4c",
       "tooltip": "640"
      }
     },
     "030c106a010a4b5bbe9bcb0a7700ce8d": {
      "model_module": "@jupyter-widgets/controls",
      "model_module_version": "2.0.0",
      "model_name": "HTMLModel",
      "state": {
       "layout": "IPY_MODEL_89756981e9e048289f73fbe23765e8e2",
       "style": "IPY_MODEL_e663b96aff7440eb88e78f2f6d5e92da",
       "value": "<h3>Core</h3>"
      }
     },
     "036d66c8316e48e49b83d4d1b1b0ee5e": {
      "model_module": "@jupyter-widgets/base",
      "model_module_version": "2.0.0",
      "model_name": "LayoutModel",
      "state": {
       "height": "55px",
       "width": "80px"
      }
     },
     "03ac11edd9da4e53bea144284499b82a": {
      "model_module": "@jupyter-widgets/base",
      "model_module_version": "2.0.0",
      "model_name": "LayoutModel",
      "state": {}
     },
     "03c81d55c4e94839b12a1b0eef6948a6": {
      "model_module": "@jupyter-widgets/controls",
      "model_module_version": "2.0.0",
      "model_name": "VBoxModel",
      "state": {
       "children": [
        "IPY_MODEL_ccd480afaedd4f9cae2e2adaf8e52760",
        "IPY_MODEL_3b8f594995044c559bd89efa88f05d62"
       ],
       "layout": "IPY_MODEL_e8bff540bb5347ee85c2561032491f5f"
      }
     },
     "03d6d79871e446538dc04081f5bed8db": {
      "model_module": "@jupyter-widgets/controls",
      "model_module_version": "2.0.0",
      "model_name": "CheckboxModel",
      "state": {
       "description": "lowerBody",
       "disabled": false,
       "indent": false,
       "layout": "IPY_MODEL_d2eb9b14321f46a080174836d3f04da3",
       "style": "IPY_MODEL_fdc39d126bff4de5b63c46bd05147264",
       "value": true
      }
     },
     "03ea67a2fae34c59a6443bafb45cf0a5": {
      "model_module": "@jupyter-widgets/base",
      "model_module_version": "2.0.0",
      "model_name": "LayoutModel",
      "state": {
       "height": "55px",
       "width": "80px"
      }
     },
     "044f2958879a41b7afd564616ee32695": {
      "model_module": "@jupyter-widgets/controls",
      "model_module_version": "2.0.0",
      "model_name": "HBoxModel",
      "state": {
       "children": [
        "IPY_MODEL_65bd8849e2c3481d8c93f3a8df277958"
       ],
       "layout": "IPY_MODEL_a5fce496a4034de7bc312ec71b91cae7"
      }
     },
     "046ebb5367f6492ca0f9308e10006e22": {
      "model_module": "@jupyter-widgets/base",
      "model_module_version": "2.0.0",
      "model_name": "LayoutModel",
      "state": {
       "height": "55px",
       "width": "120px"
      }
     },
     "0482bf861908442c9e9822c45f85d76f": {
      "model_module": "@jupyter-widgets/base",
      "model_module_version": "2.0.0",
      "model_name": "LayoutModel",
      "state": {
       "align_items": "stretch",
       "display": "flex",
       "flex_flow": "row",
       "justify_content": "space-around",
       "width": "70%"
      }
     },
     "04fc744dada54de48c2e26fc36545a4e": {
      "model_module": "@jupyter-widgets/controls",
      "model_module_version": "2.0.0",
      "model_name": "VBoxModel",
      "state": {
       "layout": "IPY_MODEL_c587568361304ec6b43e52b39b7450fb"
      }
     },
     "04fd4dc0404140398eff9ee115601806": {
      "model_module": "@jupyter-widgets/controls",
      "model_module_version": "2.0.0",
      "model_name": "ButtonStyleModel",
      "state": {
       "font_family": null,
       "font_size": null,
       "font_style": null,
       "font_variant": null,
       "font_weight": null,
       "text_color": null,
       "text_decoration": null
      }
     },
     "050c84d98b0a467eb52eb68575cba8df": {
      "model_module": "@jupyter-widgets/base",
      "model_module_version": "2.0.0",
      "model_name": "LayoutModel",
      "state": {}
     },
     "0542fed2615247218a1fca7cf7a94e79": {
      "model_module": "@jupyter-widgets/controls",
      "model_module_version": "2.0.0",
      "model_name": "ButtonModel",
      "state": {
       "description": "Clear",
       "layout": "IPY_MODEL_dbdb54c0fcd34ad290ba0a3a312ea145",
       "style": "IPY_MODEL_e7ff832ca8704876ad7c9595e02f07f5",
       "tooltip": null
      }
     },
     "0582283b293a4f3ebb61a2a57bbd5f1d": {
      "model_module": "@jupyter-widgets/controls",
      "model_module_version": "2.0.0",
      "model_name": "ButtonModel",
      "state": {
       "description": "Instruction",
       "icon": "comment",
       "layout": "IPY_MODEL_e156f416b8ee4a0a946596f3528521a7",
       "style": "IPY_MODEL_b506c14564f84337935aae521e19bfea",
       "tooltip": "1"
      }
     },
     "05a90033095941049ef862988e108678": {
      "model_module": "@jupyter-widgets/base",
      "model_module_version": "2.0.0",
      "model_name": "LayoutModel",
      "state": {}
     },
     "05bec373760a405ba2237eb1072f74c1": {
      "model_module": "@jupyter-widgets/base",
      "model_module_version": "2.0.0",
      "model_name": "LayoutModel",
      "state": {}
     },
     "063811e616514239b8e6b5ef133da908": {
      "model_module": "@jupyter-widgets/base",
      "model_module_version": "2.0.0",
      "model_name": "LayoutModel",
      "state": {}
     },
     "06c4e0c8643b4183b1fbe3ddbfd9b4a0": {
      "model_module": "@jupyter-widgets/base",
      "model_module_version": "2.0.0",
      "model_name": "LayoutModel",
      "state": {}
     },
     "06d8e559da6543258ef31877afc74fcc": {
      "model_module": "@jupyter-widgets/controls",
      "model_module_version": "2.0.0",
      "model_name": "VBoxModel",
      "state": {
       "layout": "IPY_MODEL_3391601af382484d963d7f73437dc333"
      }
     },
     "07011b551fda418795f11fc2b505f509": {
      "model_module": "@jupyter-widgets/controls",
      "model_module_version": "2.0.0",
      "model_name": "ButtonModel",
      "state": {
       "description": "Clear",
       "layout": "IPY_MODEL_72ebcca769df4176b09e025238a63f1e",
       "style": "IPY_MODEL_91913e4c70704e218edb1b91caa231f7",
       "tooltip": null
      }
     },
     "070ba7bbb671412b952ab56450cbbdd1": {
      "model_module": "@jupyter-widgets/base",
      "model_module_version": "2.0.0",
      "model_name": "LayoutModel",
      "state": {}
     },
     "071d74d8f67f498d8ad7ef08ee4c9129": {
      "model_module": "@jupyter-widgets/controls",
      "model_module_version": "2.0.0",
      "model_name": "VBoxModel",
      "state": {
       "children": [
        "IPY_MODEL_158b79df680e42f0a7381f81f639346b",
        "IPY_MODEL_cb5ae8bc53e84f96b25208c1c45bc3c5"
       ],
       "layout": "IPY_MODEL_856ee5cf8e434205b714d33635927e15"
      }
     },
     "071f19b9a13f483d8a754163fef63763": {
      "model_module": "@jupyter-widgets/controls",
      "model_module_version": "2.0.0",
      "model_name": "ButtonStyleModel",
      "state": {
       "font_family": null,
       "font_size": null,
       "font_style": null,
       "font_variant": null,
       "font_weight": null,
       "text_color": null,
       "text_decoration": null
      }
     },
     "075addae6c0645b88a608d3a8ebc7290": {
      "model_module": "@jupyter-widgets/controls",
      "model_module_version": "2.0.0",
      "model_name": "ButtonModel",
      "state": {
       "description": "Instruction",
       "icon": "comment",
       "layout": "IPY_MODEL_a33cc0d3ceef41c79114db05b447bf8b",
       "style": "IPY_MODEL_2def17c6deeb4492902fa383d8cd1229",
       "tooltip": "460"
      }
     },
     "07ee5ba3e2bd4e6b8a2c3805ca461101": {
      "model_module": "@jupyter-widgets/base",
      "model_module_version": "2.0.0",
      "model_name": "LayoutModel",
      "state": {}
     },
     "08152606a870410bbab0fa92a4678d99": {
      "model_module": "@jupyter-widgets/base",
      "model_module_version": "2.0.0",
      "model_name": "LayoutModel",
      "state": {
       "height": "40px",
       "width": "160px"
      }
     },
     "085d550761d74ce08939a47aeb9f10aa": {
      "model_module": "@jupyter-widgets/base",
      "model_module_version": "2.0.0",
      "model_name": "LayoutModel",
      "state": {}
     },
     "08969465a2db4ec2ac99b827d624fefb": {
      "model_module": "@jupyter-widgets/base",
      "model_module_version": "2.0.0",
      "model_name": "LayoutModel",
      "state": {
       "height": "55px",
       "width": "120px"
      }
     },
     "08aa3d33aea04d85aa528b61ff182bf7": {
      "model_module": "@jupyter-widgets/base",
      "model_module_version": "2.0.0",
      "model_name": "LayoutModel",
      "state": {}
     },
     "08ad3692ff714d498b65bbd4f609ae9a": {
      "model_module": "@jupyter-widgets/controls",
      "model_module_version": "2.0.0",
      "model_name": "VBoxModel",
      "state": {
       "children": [
        "IPY_MODEL_a19e05f265884e5ea1117b2e6b6e2e12",
        "IPY_MODEL_5f08c8405102481bbf980cf3a716598c"
       ],
       "layout": "IPY_MODEL_5ad1a911408545a7b0b77d05d0851498"
      }
     },
     "08c9def870a34f439b53137677738bfa": {
      "model_module": "@jupyter-widgets/base",
      "model_module_version": "2.0.0",
      "model_name": "LayoutModel",
      "state": {}
     },
     "08cd7d627e6f44449d67ea72225dab1e": {
      "model_module": "@jupyter-widgets/controls",
      "model_module_version": "2.0.0",
      "model_name": "HTMLStyleModel",
      "state": {
       "description_width": "",
       "font_size": null,
       "text_color": null
      }
     },
     "090788ea85ad4f4ba5f1d0385944d716": {
      "model_module": "@jupyter-widgets/controls",
      "model_module_version": "2.0.0",
      "model_name": "VBoxModel",
      "state": {
       "children": [
        "IPY_MODEL_4badc697378d42af816eaebca1be6394",
        "IPY_MODEL_a3de14bd5a7a4692ae0bf49ecffffd45"
       ],
       "layout": "IPY_MODEL_29347ad71724486f97d7fce2289a7097"
      }
     },
     "093f63415b3b4658b8fb340cbfe42865": {
      "model_module": "@jupyter-widgets/base",
      "model_module_version": "2.0.0",
      "model_name": "LayoutModel",
      "state": {
       "height": "55px",
       "width": "120px"
      }
     },
     "0975b6b013c346858102d4f2129d0396": {
      "model_module": "@jupyter-widgets/base",
      "model_module_version": "2.0.0",
      "model_name": "LayoutModel",
      "state": {}
     },
     "09a74745f11a4352b6193511f2a05062": {
      "model_module": "@jupyter-widgets/base",
      "model_module_version": "2.0.0",
      "model_name": "LayoutModel",
      "state": {
       "align_items": "stretch",
       "display": "flex",
       "flex_flow": "row",
       "justify_content": "space-around",
       "width": "70%"
      }
     },
     "09b4d34e24954d3f998953fdf3b52a5a": {
      "model_module": "@jupyter-widgets/controls",
      "model_module_version": "2.0.0",
      "model_name": "ButtonModel",
      "state": {
       "description": "Close",
       "layout": "IPY_MODEL_7fc1a38ec437475986882574f7134dd8",
       "style": "IPY_MODEL_89878ff481ab42a599807bfe14f1d796",
       "tooltip": null
      }
     },
     "09b57a6ae5954716aa592af816db1dfa": {
      "model_module": "@jupyter-widgets/controls",
      "model_module_version": "2.0.0",
      "model_name": "HTMLModel",
      "state": {
       "layout": "IPY_MODEL_6b0c36c0bd46446fb832b45e3a002909",
       "style": "IPY_MODEL_6a69046d9a444705bdf9349a6181b210",
       "value": "Medicine Ball Chest Pass"
      }
     },
     "09eed237c8254981aa04f8109521b126": {
      "model_module": "@jupyter-widgets/controls",
      "model_module_version": "2.0.0",
      "model_name": "CheckboxStyleModel",
      "state": {
       "description_width": ""
      }
     },
     "09f8e005ef754a219bfde29c1b4cb56c": {
      "model_module": "@jupyter-widgets/controls",
      "model_module_version": "2.0.0",
      "model_name": "CheckboxModel",
      "state": {
       "description": "strongman",
       "disabled": false,
       "indent": false,
       "layout": "IPY_MODEL_64c69ef1ee15460d95a9472635f3b7a4",
       "style": "IPY_MODEL_b8f03195f3444f7aaa9e57f409ebacad",
       "value": true
      }
     },
     "0a0cb58ef43c4ef4ae0eecfd7e7a923c": {
      "model_module": "@jupyter-widgets/base",
      "model_module_version": "2.0.0",
      "model_name": "LayoutModel",
      "state": {
       "height": "40px",
       "width": "160px"
      }
     },
     "0a2ed5b96d764975ad893928ac655622": {
      "model_module": "@jupyter-widgets/base",
      "model_module_version": "2.0.0",
      "model_name": "LayoutModel",
      "state": {}
     },
     "0a432f3d0aa643b2827953c706bf4c41": {
      "model_module": "@jupyter-widgets/controls",
      "model_module_version": "2.0.0",
      "model_name": "VBoxModel",
      "state": {
       "children": [
        "IPY_MODEL_17fe22c8e1e4410ba2412ca8621737ad",
        "IPY_MODEL_90843b7af2e94b6cb065a161f2241525"
       ],
       "layout": "IPY_MODEL_d45c145567b2474eadad051438c24165"
      }
     },
     "0a97e46cff6e4a8ea90f68c654fb883c": {
      "model_module": "@jupyter-widgets/controls",
      "model_module_version": "2.0.0",
      "model_name": "HBoxModel",
      "state": {
       "children": [
        "IPY_MODEL_734e9abe6edf4d7ab48b9ac4f6a3f0c3"
       ],
       "layout": "IPY_MODEL_0975b6b013c346858102d4f2129d0396"
      }
     },
     "0ac7fe11be2e4aa4b5e72628eba0dc35": {
      "model_module": "@jupyter-widgets/controls",
      "model_module_version": "2.0.0",
      "model_name": "HBoxModel",
      "state": {
       "children": [
        "IPY_MODEL_13677950757e4b049d2269ebcb61ee5b"
       ],
       "layout": "IPY_MODEL_c5fed6fb85b74e428fe4120c8a810a7f"
      }
     },
     "0b084da982314055bcd00bed01fb86cf": {
      "model_module": "@jupyter-widgets/controls",
      "model_module_version": "2.0.0",
      "model_name": "CheckboxModel",
      "state": {
       "description": "body only",
       "disabled": false,
       "indent": false,
       "layout": "IPY_MODEL_369223b537f44f50976c636fcbef924d",
       "style": "IPY_MODEL_664035b25ad14128ae616d375dc02af9",
       "value": false
      }
     },
     "0b61ebce859b45d58aa841a000d8132d": {
      "model_module": "@jupyter-widgets/controls",
      "model_module_version": "2.0.0",
      "model_name": "HBoxModel",
      "state": {
       "children": [
        "IPY_MODEL_83ca049a27c043fbad3019db6bb9822e"
       ],
       "layout": "IPY_MODEL_f6c60831ab78479786fa22fc0fa062a9"
      }
     },
     "0b8a9b023d854eedb1cd5587150fb0b7": {
      "model_module": "@jupyter-widgets/controls",
      "model_module_version": "2.0.0",
      "model_name": "ButtonModel",
      "state": {
       "description": "Clear",
       "layout": "IPY_MODEL_4ad28178e2244fa8983b8ac012ae250c",
       "style": "IPY_MODEL_b255b6ee4eaa400ca26ce3ace5c31f81",
       "tooltip": null
      }
     },
     "0ba133bd14594cbc94a3cc589694d6ca": {
      "model_module": "@jupyter-widgets/base",
      "model_module_version": "2.0.0",
      "model_name": "LayoutModel",
      "state": {
       "height": "55px",
       "width": "80px"
      }
     },
     "0bb271c615814073a02ff9bde5008e3e": {
      "model_module": "@jupyter-widgets/controls",
      "model_module_version": "2.0.0",
      "model_name": "CheckboxModel",
      "state": {
       "description": "stretching",
       "disabled": false,
       "indent": false,
       "layout": "IPY_MODEL_0108ec6bd74148be82bf68cf3fbd4076",
       "style": "IPY_MODEL_fbbafdea47604a09a19bf1219436897d",
       "value": true
      }
     },
     "0bbb5ca610cd47d2a245f024a8b14171": {
      "model_module": "@jupyter-widgets/base",
      "model_module_version": "2.0.0",
      "model_name": "LayoutModel",
      "state": {
       "height": "55px",
       "width": "80px"
      }
     },
     "0bc507c700b442c3a2daabde8aae4ed7": {
      "model_module": "@jupyter-widgets/controls",
      "model_module_version": "2.0.0",
      "model_name": "VBoxModel",
      "state": {
       "layout": "IPY_MODEL_54ec420b8d0b4126875825e8f28d3aea"
      }
     },
     "0bc83a210f244f58aaa3265c60f2192f": {
      "model_module": "@jupyter-widgets/base",
      "model_module_version": "2.0.0",
      "model_name": "LayoutModel",
      "state": {
       "height": "120px",
       "width": "100px"
      }
     },
     "0be62a134267499da998435832f403b0": {
      "model_module": "@jupyter-widgets/controls",
      "model_module_version": "2.0.0",
      "model_name": "HTMLStyleModel",
      "state": {
       "description_width": "",
       "font_size": null,
       "text_color": null
      }
     },
     "0c068f79574542f9a9988d47c88caa03": {
      "model_module": "@jupyter-widgets/controls",
      "model_module_version": "2.0.0",
      "model_name": "VBoxModel",
      "state": {
       "children": [
        "IPY_MODEL_af02f49865354cfe9a4bc77e92943edc",
        "IPY_MODEL_a4bd44b130dd482ca08f6badf5e729c6"
       ],
       "layout": "IPY_MODEL_7e926d8f305d48f58d4e5f5157fd004a"
      }
     },
     "0c07be8172df4d9e81c3e1d46954eafc": {
      "model_module": "@jupyter-widgets/base",
      "model_module_version": "2.0.0",
      "model_name": "LayoutModel",
      "state": {}
     },
     "0c3aab30dc27402894c7636256443936": {
      "model_module": "@jupyter-widgets/controls",
      "model_module_version": "2.0.0",
      "model_name": "HTMLModel",
      "state": {
       "layout": "IPY_MODEL_d8cfe62cf9884d1c9d332e51f0dc56f5",
       "style": "IPY_MODEL_99fe2d118ecd475da088470106786c44",
       "value": "Pelvic Tilt Into Bridge"
      }
     },
     "0c7293d7fda24c0bab2be5141bf4540d": {
      "model_module": "@jupyter-widgets/controls",
      "model_module_version": "2.0.0",
      "model_name": "ButtonStyleModel",
      "state": {
       "font_family": null,
       "font_size": null,
       "font_style": null,
       "font_variant": null,
       "font_weight": null,
       "text_color": null,
       "text_decoration": null
      }
     },
     "0c77733cfd1d4ca4ac9fa3bb81b5e45f": {
      "model_module": "@jupyter-widgets/controls",
      "model_module_version": "2.0.0",
      "model_name": "ButtonModel",
      "state": {
       "description": "Instruction",
       "icon": "comment",
       "layout": "IPY_MODEL_7e00ba0852074c4aa95416ad3a318678",
       "style": "IPY_MODEL_df62c20821ad494d8abce14d0f3a7137",
       "tooltip": "39"
      }
     },
     "0c8982c099604032ab61eba89a0a53e1": {
      "model_module": "@jupyter-widgets/base",
      "model_module_version": "2.0.0",
      "model_name": "LayoutModel",
      "state": {}
     },
     "0ca6342e74dd40d6b7e78932ecf35e6c": {
      "model_module": "@jupyter-widgets/base",
      "model_module_version": "2.0.0",
      "model_name": "LayoutModel",
      "state": {}
     },
     "0d19e53dbf5e4b209ac6fc574eb46818": {
      "model_module": "@jupyter-widgets/controls",
      "model_module_version": "2.0.0",
      "model_name": "CheckboxStyleModel",
      "state": {
       "description_width": ""
      }
     },
     "0d2163e4a9ed4011a587a87eda74f29d": {
      "model_module": "@jupyter-widgets/controls",
      "model_module_version": "2.0.0",
      "model_name": "ButtonStyleModel",
      "state": {
       "font_family": null,
       "font_size": null,
       "font_style": null,
       "font_variant": null,
       "font_weight": null,
       "text_color": null,
       "text_decoration": null
      }
     },
     "0d681fc08745493982a1e1c1f342f46d": {
      "model_module": "@jupyter-widgets/controls",
      "model_module_version": "2.0.0",
      "model_name": "ButtonStyleModel",
      "state": {
       "font_family": null,
       "font_size": null,
       "font_style": null,
       "font_variant": null,
       "font_weight": null,
       "text_color": null,
       "text_decoration": null
      }
     },
     "0d7bbeb6ac814338935769e7462a971f": {
      "model_module": "@jupyter-widgets/base",
      "model_module_version": "2.0.0",
      "model_name": "LayoutModel",
      "state": {
       "height": "200px"
      }
     },
     "0dc610f6e64f42afb31b83e8f56623d5": {
      "model_module": "@jupyter-widgets/controls",
      "model_module_version": "2.0.0",
      "model_name": "ButtonModel",
      "state": {
       "description": "Close",
       "layout": "IPY_MODEL_aa16ad613e7c485695dfac1beba30981",
       "style": "IPY_MODEL_2e51066d2c474ebd81c97baef8929d07",
       "tooltip": null
      }
     },
     "0e35c2012ab146b2be51b7bb9098b038": {
      "model_module": "@jupyter-widgets/base",
      "model_module_version": "2.0.0",
      "model_name": "LayoutModel",
      "state": {
       "height": "120px",
       "width": "100px"
      }
     },
     "0e37b65b888f4ecdab4be86f4daf03cd": {
      "model_module": "@jupyter-widgets/controls",
      "model_module_version": "2.0.0",
      "model_name": "CheckboxModel",
      "state": {
       "description": "strongman",
       "disabled": false,
       "indent": false,
       "layout": "IPY_MODEL_b9944135d2544d33901251d389a3c228",
       "style": "IPY_MODEL_9fc6a659771f4e1294652404dc3cd7fd",
       "value": true
      }
     },
     "0e4e4b93a2604091ba3f75862f4e458f": {
      "model_module": "@jupyter-widgets/base",
      "model_module_version": "2.0.0",
      "model_name": "LayoutModel",
      "state": {}
     },
     "0e77bf4c3de34ffa9459a5fdcbc56421": {
      "model_module": "@jupyter-widgets/base",
      "model_module_version": "2.0.0",
      "model_name": "LayoutModel",
      "state": {}
     },
     "0e975b3363554055a7069925cdaab7de": {
      "model_module": "@jupyter-widgets/base",
      "model_module_version": "2.0.0",
      "model_name": "LayoutModel",
      "state": {
       "height": "200px"
      }
     },
     "0ea59168fce54d27ae9a15a7db1dac51": {
      "model_module": "@jupyter-widgets/base",
      "model_module_version": "2.0.0",
      "model_name": "LayoutModel",
      "state": {}
     },
     "0ead5af731294a14886484cb0f8664b2": {
      "model_module": "@jupyter-widgets/controls",
      "model_module_version": "2.0.0",
      "model_name": "ButtonModel",
      "state": {
       "description": "Instruction",
       "icon": "comment",
       "layout": "IPY_MODEL_893ec588331f4abab684dc63b857af1b",
       "style": "IPY_MODEL_553c24bad34a460b91ab6c94754cff20",
       "tooltip": "744"
      }
     },
     "0ee4249209414c4cba3b589fd6730277": {
      "model_module": "@jupyter-widgets/controls",
      "model_module_version": "2.0.0",
      "model_name": "VBoxModel",
      "state": {
       "children": [
        "IPY_MODEL_c123dc3e72fc43e49a38f3451765ed61",
        "IPY_MODEL_6e475bb932234e44aa313f41a29384ae"
       ],
       "layout": "IPY_MODEL_e5f7fc51a4c84050aa7114907a5d0427"
      }
     },
     "0f0b1582725f41af98549ef31629f3b4": {
      "model_module": "@jupyter-widgets/controls",
      "model_module_version": "2.0.0",
      "model_name": "VBoxModel",
      "state": {
       "children": [
        "IPY_MODEL_0b084da982314055bcd00bed01fb86cf",
        "IPY_MODEL_6309a1fa81814e54b87491a9cb48680e",
        "IPY_MODEL_e60641ce7b784f038ed0ec515999a7f4",
        "IPY_MODEL_15477a16bd8c4a139f961568db4ffafb"
       ],
       "layout": "IPY_MODEL_25bedf6e315b4407b32b6c201f280564"
      }
     },
     "0f18a9ba09794dcc91ab68e9468ec61a": {
      "model_module": "@jupyter-widgets/controls",
      "model_module_version": "2.0.0",
      "model_name": "HTMLModel",
      "state": {
       "layout": "IPY_MODEL_085d550761d74ce08939a47aeb9f10aa",
       "style": "IPY_MODEL_965de2b08d6343cc8ee529e7aadcd0ad",
       "value": "<h2>Sample Size</h2>"
      }
     },
     "0f343524be574c808a522ccc264210bd": {
      "model_module": "@jupyter-widgets/controls",
      "model_module_version": "2.0.0",
      "model_name": "CheckboxModel",
      "state": {
       "description": "e-z curl bar",
       "disabled": false,
       "indent": false,
       "layout": "IPY_MODEL_fc334c7ddd56470a9252a50fecf303b9",
       "style": "IPY_MODEL_aaa36b4c53cd4fa98f57f960be03a5ea",
       "value": false
      }
     },
     "0f459f9448414686a9dc73f76adb053a": {
      "model_module": "@jupyter-widgets/controls",
      "model_module_version": "2.0.0",
      "model_name": "VBoxModel",
      "state": {
       "children": [
        "IPY_MODEL_9537e138f18e45f5b4709858bacd164a",
        "IPY_MODEL_b7e6a3e88b864fe29dd96da43a906e3e",
        "IPY_MODEL_aa1b3c7acb6d4ef7b750ba254c12d296",
        "IPY_MODEL_9b492b8d0f944d6189d0ee12602ee0d1"
       ],
       "layout": "IPY_MODEL_91f5b1abe1c14e6a9dd079de94c95c57"
      }
     },
     "0f5ffe34cc77472f880125863c5b8a1f": {
      "model_module": "@jupyter-widgets/controls",
      "model_module_version": "2.0.0",
      "model_name": "ButtonModel",
      "state": {
       "description": "Sample Size",
       "layout": "IPY_MODEL_fc4902011c4e48adb18e86ce12932b18",
       "style": "IPY_MODEL_60fddaaa1dc947468d9779eb3131d5d0",
       "tooltip": null
      }
     },
     "0fbc649a055c40249b578687fda81bdd": {
      "model_module": "@jupyter-widgets/base",
      "model_module_version": "2.0.0",
      "model_name": "LayoutModel",
      "state": {
       "height": "40px",
       "width": "160px"
      }
     },
     "0fbe3d4eade147f18367d8dbd703b251": {
      "model_module": "@jupyter-widgets/controls",
      "model_module_version": "2.0.0",
      "model_name": "HTMLStyleModel",
      "state": {
       "description_width": "",
       "font_size": null,
       "text_color": null
      }
     },
     "0fd9f483e39142a48f42f9f88b246aba": {
      "model_module": "@jupyter-widgets/base",
      "model_module_version": "2.0.0",
      "model_name": "LayoutModel",
      "state": {}
     },
     "0fdbcbdbc31642cbb7d443fe97480f0b": {
      "model_module": "@jupyter-widgets/controls",
      "model_module_version": "2.0.0",
      "model_name": "VBoxModel",
      "state": {
       "children": [
        "IPY_MODEL_68920c0f49d94e30a908bc37c942f9c5"
       ],
       "layout": "IPY_MODEL_daf46f48940f46e3924331b9371d9f54"
      }
     },
     "0ff1a03a5e4d443eab23c68526565541": {
      "model_module": "@jupyter-widgets/base",
      "model_module_version": "2.0.0",
      "model_name": "LayoutModel",
      "state": {}
     },
     "10325b0a3ec3409694c64a3822bed784": {
      "model_module": "@jupyter-widgets/controls",
      "model_module_version": "2.0.0",
      "model_name": "CheckboxStyleModel",
      "state": {
       "description_width": ""
      }
     },
     "103b5416bb8f4ed29f903af9ed009d37": {
      "model_module": "@jupyter-widgets/base",
      "model_module_version": "2.0.0",
      "model_name": "LayoutModel",
      "state": {}
     },
     "1061cf3787cd47dd8ef16d306e3dabbb": {
      "model_module": "@jupyter-widgets/base",
      "model_module_version": "2.0.0",
      "model_name": "LayoutModel",
      "state": {}
     },
     "106ea6b5f67e4ac2aec5a503fe0d9053": {
      "model_module": "@jupyter-widgets/controls",
      "model_module_version": "2.0.0",
      "model_name": "ButtonStyleModel",
      "state": {
       "font_family": null,
       "font_size": null,
       "font_style": null,
       "font_variant": null,
       "font_weight": null,
       "text_color": null,
       "text_decoration": null
      }
     },
     "1078b1c7681a47cfadbb14ac5c4b68e5": {
      "model_module": "@jupyter-widgets/base",
      "model_module_version": "2.0.0",
      "model_name": "LayoutModel",
      "state": {
       "height": "40px",
       "width": "160px"
      }
     },
     "10aa066f34bc4a679fbae0126e22710e": {
      "model_module": "@jupyter-widgets/base",
      "model_module_version": "2.0.0",
      "model_name": "LayoutModel",
      "state": {
       "height": "40px",
       "width": "160px"
      }
     },
     "10c7128fea894f69aa6618baf408a6dd": {
      "model_module": "@jupyter-widgets/controls",
      "model_module_version": "2.0.0",
      "model_name": "DropdownModel",
      "state": {
       "_options_labels": [
        "One",
        "Two",
        "Three",
        "Four",
        "Five"
       ],
       "index": 1,
       "layout": "IPY_MODEL_4f8c102cf454417bb8a53edf943043f1",
       "style": "IPY_MODEL_66dadbdc6b54416e8ff38b2042060bdb"
      }
     },
     "10db71e05d2047cca75f0100f583e050": {
      "model_module": "@jupyter-widgets/controls",
      "model_module_version": "2.0.0",
      "model_name": "HBoxModel",
      "state": {
       "children": [
        "IPY_MODEL_ec44e14aa6224604b2c2052be3fce675"
       ],
       "layout": "IPY_MODEL_9141d8955d5c4646b3d9135b6e81aa3d"
      }
     },
     "111bcdeb8c3c46b59dc465e78b83006d": {
      "model_module": "@jupyter-widgets/controls",
      "model_module_version": "2.0.0",
      "model_name": "ButtonStyleModel",
      "state": {
       "font_family": null,
       "font_size": null,
       "font_style": null,
       "font_variant": null,
       "font_weight": null,
       "text_color": null,
       "text_decoration": null
      }
     },
     "111e169cb0bc46189e3a05388dd092ea": {
      "model_module": "@jupyter-widgets/base",
      "model_module_version": "2.0.0",
      "model_name": "LayoutModel",
      "state": {
       "height": "55px",
       "width": "120px"
      }
     },
     "1131f500d2f5449e838e553f44579185": {
      "model_module": "@jupyter-widgets/controls",
      "model_module_version": "2.0.0",
      "model_name": "HTMLStyleModel",
      "state": {
       "description_width": "",
       "font_size": null,
       "text_color": null
      }
     },
     "114d0f767505428987df4e7f08e88de7": {
      "model_module": "@jupyter-widgets/controls",
      "model_module_version": "2.0.0",
      "model_name": "CheckboxStyleModel",
      "state": {
       "description_width": ""
      }
     },
     "11963df8a27a4a54a8343c1205eef4e4": {
      "model_module": "@jupyter-widgets/base",
      "model_module_version": "2.0.0",
      "model_name": "LayoutModel",
      "state": {
       "height": "55px",
       "width": "120px"
      }
     },
     "11a6b0ee5f6c458e8713674e3a625de9": {
      "model_module": "@jupyter-widgets/controls",
      "model_module_version": "2.0.0",
      "model_name": "ButtonStyleModel",
      "state": {
       "font_family": null,
       "font_size": null,
       "font_style": null,
       "font_variant": null,
       "font_weight": null,
       "text_color": null,
       "text_decoration": null
      }
     },
     "11afb9cbb3204c7db2dc4d437ef28530": {
      "model_module": "@jupyter-widgets/controls",
      "model_module_version": "2.0.0",
      "model_name": "ButtonModel",
      "state": {
       "description": "Close",
       "layout": "IPY_MODEL_cb04c98ad22143a5b84352eedbcc0a08",
       "style": "IPY_MODEL_ec68db6a79fc45ca8cfdb6b7eec88b15",
       "tooltip": null
      }
     },
     "121f82b4474043b28b44913ec2d987c3": {
      "model_module": "@jupyter-widgets/base",
      "model_module_version": "2.0.0",
      "model_name": "LayoutModel",
      "state": {
       "height": "55px",
       "width": "120px"
      }
     },
     "1250ae7f4abc45c9a829b2a585f4e963": {
      "model_module": "@jupyter-widgets/controls",
      "model_module_version": "2.0.0",
      "model_name": "CheckboxModel",
      "state": {
       "description": "cardio",
       "disabled": false,
       "indent": false,
       "layout": "IPY_MODEL_0fbc649a055c40249b578687fda81bdd",
       "style": "IPY_MODEL_d279c484e01749e3958d699417ffef1d",
       "value": true
      }
     },
     "128c4c65b40a4139b7e08c647e409608": {
      "model_module": "@jupyter-widgets/controls",
      "model_module_version": "2.0.0",
      "model_name": "ButtonStyleModel",
      "state": {
       "font_family": null,
       "font_size": null,
       "font_style": null,
       "font_variant": null,
       "font_weight": null,
       "text_color": null,
       "text_decoration": null
      }
     },
     "12be827c0e2047b4ad7b4b4f164fde07": {
      "model_module": "@jupyter-widgets/controls",
      "model_module_version": "2.0.0",
      "model_name": "VBoxModel",
      "state": {
       "children": [
        "IPY_MODEL_1f2ab640567641aea5bf318947c09a1f",
        "IPY_MODEL_f0ee26b8f951444a8595b0a206040960"
       ],
       "layout": "IPY_MODEL_f684cb984210485892836c4c7648193c"
      }
     },
     "12c5cb97e7e748789b380da9fa1b448e": {
      "model_module": "@jupyter-widgets/base",
      "model_module_version": "2.0.0",
      "model_name": "LayoutModel",
      "state": {}
     },
     "12cc9bc0329049abad5f81e3f9c73940": {
      "model_module": "@jupyter-widgets/controls",
      "model_module_version": "2.0.0",
      "model_name": "CheckboxModel",
      "state": {
       "description": "Core",
       "disabled": false,
       "indent": false,
       "layout": "IPY_MODEL_485a4051de634a8c80f36d47314bf67d",
       "style": "IPY_MODEL_d11988de2ee5480ba7b419af6c10fe2c",
       "value": true
      }
     },
     "12d2096f14c944659842e5305daa973b": {
      "model_module": "@jupyter-widgets/base",
      "model_module_version": "2.0.0",
      "model_name": "LayoutModel",
      "state": {
       "height": "120px",
       "width": "100px"
      }
     },
     "13677950757e4b049d2269ebcb61ee5b": {
      "model_module": "@jupyter-widgets/controls",
      "model_module_version": "2.0.0",
      "model_name": "HTMLModel",
      "state": {
       "layout": "IPY_MODEL_8a394ca409fa43dc9a7d6c43b325f5a5",
       "style": "IPY_MODEL_68cedb0fa3454f9191b2d7eaa6f58b61",
       "value": "<h2>Body Area</h2>"
      }
     },
     "136a87f0598e4705b2aaff4677c70bca": {
      "model_module": "@jupyter-widgets/controls",
      "model_module_version": "2.0.0",
      "model_name": "HTMLStyleModel",
      "state": {
       "description_width": "",
       "font_size": null,
       "text_color": null
      }
     },
     "1378dae0a65f4c7890a95992c09bcde5": {
      "model_module": "@jupyter-widgets/controls",
      "model_module_version": "2.0.0",
      "model_name": "CheckboxStyleModel",
      "state": {
       "description_width": ""
      }
     },
     "138fdbb8aae5410da5a95f0f4f58633b": {
      "model_module": "@jupyter-widgets/base",
      "model_module_version": "2.0.0",
      "model_name": "LayoutModel",
      "state": {
       "height": "40px",
       "width": "160px"
      }
     },
     "13e57b62f6ae4e80b7183a2c82e4e2aa": {
      "model_module": "@jupyter-widgets/controls",
      "model_module_version": "2.0.0",
      "model_name": "HTMLModel",
      "state": {
       "layout": "IPY_MODEL_25b4e085a4b34875a4a6caa99a394cb4",
       "style": "IPY_MODEL_f5a368a12fdd4a24a95b5e744d7a46f7",
       "value": "<h2>Exercise Category</h2>"
      }
     },
     "13f9c67c505d4c02a01672cdbef471ef": {
      "model_module": "@jupyter-widgets/controls",
      "model_module_version": "2.0.0",
      "model_name": "HTMLModel",
      "state": {
       "layout": "IPY_MODEL_64db3849dd994cb2954504cfd75df603",
       "style": "IPY_MODEL_490721ed498a48478bcbebbd883b52a1",
       "value": "<h2>Body Area</h2>"
      }
     },
     "141321a099af4ba4bd0965c9ebeb2fad": {
      "model_module": "@jupyter-widgets/controls",
      "model_module_version": "2.0.0",
      "model_name": "ButtonStyleModel",
      "state": {
       "font_family": null,
       "font_size": null,
       "font_style": null,
       "font_variant": null,
       "font_weight": null,
       "text_color": null,
       "text_decoration": null
      }
     },
     "141bf740520440579f964ef9b8220f70": {
      "model_module": "@jupyter-widgets/base",
      "model_module_version": "2.0.0",
      "model_name": "LayoutModel",
      "state": {
       "height": "40px",
       "width": "160px"
      }
     },
     "142fa4f6c5e44f3fa641de9bd19021c8": {
      "model_module": "@jupyter-widgets/controls",
      "model_module_version": "2.0.0",
      "model_name": "CheckboxModel",
      "state": {
       "description": "kettlebells",
       "disabled": false,
       "indent": false,
       "layout": "IPY_MODEL_cee2f20660ba4c48915eed9da4cc5409",
       "style": "IPY_MODEL_cc9ca65c323e45e6a457f97090497681",
       "value": false
      }
     },
     "14529f465b1e4f41991d912d3c7773f0": {
      "model_module": "@jupyter-widgets/base",
      "model_module_version": "2.0.0",
      "model_name": "LayoutModel",
      "state": {}
     },
     "149e8fa0ff694c119ee8c6fc3108a294": {
      "model_module": "@jupyter-widgets/controls",
      "model_module_version": "2.0.0",
      "model_name": "ButtonStyleModel",
      "state": {
       "font_family": null,
       "font_size": null,
       "font_style": null,
       "font_variant": null,
       "font_weight": null,
       "text_color": null,
       "text_decoration": null
      }
     },
     "14be0822d1b64d1da7e9a6fce29c8a11": {
      "model_module": "@jupyter-widgets/controls",
      "model_module_version": "2.0.0",
      "model_name": "HBoxModel",
      "state": {
       "children": [
        "IPY_MODEL_2deac4a4971445f4855738bb818dc3d9"
       ],
       "layout": "IPY_MODEL_c63ef2371e5b4074874f05b5dd00f452"
      }
     },
     "14f994c1f5314bb0988347b1b2108ba9": {
      "model_module": "@jupyter-widgets/base",
      "model_module_version": "2.0.0",
      "model_name": "LayoutModel",
      "state": {}
     },
     "151a6d83c6494efbb18c2730cd7d91f8": {
      "model_module": "@jupyter-widgets/controls",
      "model_module_version": "2.0.0",
      "model_name": "ButtonStyleModel",
      "state": {
       "font_family": null,
       "font_size": null,
       "font_style": null,
       "font_variant": null,
       "font_weight": null,
       "text_color": null,
       "text_decoration": null
      }
     },
     "15477a16bd8c4a139f961568db4ffafb": {
      "model_module": "@jupyter-widgets/controls",
      "model_module_version": "2.0.0",
      "model_name": "CheckboxModel",
      "state": {
       "description": "other",
       "disabled": false,
       "indent": false,
       "layout": "IPY_MODEL_c6ff647de2784162a591d49c7775cc49",
       "style": "IPY_MODEL_2def57b0eb7444088629a4147d9c890a",
       "value": false
      }
     },
     "15779eea390a40218fb43fc8c4b7f181": {
      "model_module": "@jupyter-widgets/controls",
      "model_module_version": "2.0.0",
      "model_name": "HTMLStyleModel",
      "state": {
       "description_width": "",
       "font_size": null,
       "text_color": null
      }
     },
     "158b79df680e42f0a7381f81f639346b": {
      "model_module": "@jupyter-widgets/controls",
      "model_module_version": "2.0.0",
      "model_name": "HTMLModel",
      "state": {
       "layout": "IPY_MODEL_17548731204b47da9c32d9b3e24126ca",
       "style": "IPY_MODEL_788f4a9980724773abb799fa5ad166ce",
       "value": "Smith Machine Decline Press"
      }
     },
     "159d4300d61343858ed1c46be163a307": {
      "model_module": "@jupyter-widgets/controls",
      "model_module_version": "2.0.0",
      "model_name": "ButtonModel",
      "state": {
       "description": "Equipment",
       "layout": "IPY_MODEL_5e8d48293e7c4800985b0c3aad8005af",
       "style": "IPY_MODEL_918317a9bdc146c1a6a63a037c69a9ac",
       "tooltip": null
      }
     },
     "15a3e78833d54551aefcb6104d46ff29": {
      "model_module": "@jupyter-widgets/base",
      "model_module_version": "2.0.0",
      "model_name": "LayoutModel",
      "state": {}
     },
     "15eb953cd6594c6ab92c6d486c0d3f7b": {
      "model_module": "@jupyter-widgets/controls",
      "model_module_version": "2.0.0",
      "model_name": "VBoxModel",
      "state": {
       "children": [
        "IPY_MODEL_912a6c7ac0364d7caf6821fb61345742",
        "IPY_MODEL_5f5b53fb2d2f4b79ae720affd9b24bee",
        "IPY_MODEL_3a8b4e831b24435c83948adc49b0d444",
        "IPY_MODEL_7a00df1e8c6a4e9885cc5cb1f4d7f4c0"
       ],
       "layout": "IPY_MODEL_677c50eee8984feeb70a5925055d38bb"
      }
     },
     "161d7b2c7a3f4a9d8e2e31fe0fa17a66": {
      "model_module": "@jupyter-widgets/base",
      "model_module_version": "2.0.0",
      "model_name": "LayoutModel",
      "state": {
       "height": "40px",
       "width": "160px"
      }
     },
     "161dd4119e3047d8a0bd752029b61ef4": {
      "model_module": "@jupyter-widgets/controls",
      "model_module_version": "2.0.0",
      "model_name": "VBoxModel",
      "state": {
       "children": [
        "IPY_MODEL_67a0c44780e34c67b7ad61487c2c7032",
        "IPY_MODEL_852f155ae947472d86ebd1a7390aaaf0"
       ],
       "layout": "IPY_MODEL_37dd32988e4b461da34e11ccb758971d"
      }
     },
     "1656e18021414b78ab16ce4f93ad0638": {
      "model_module": "@jupyter-widgets/base",
      "model_module_version": "2.0.0",
      "model_name": "LayoutModel",
      "state": {
       "height": "55px",
       "width": "120px"
      }
     },
     "16aecfd2c3a148489387e3bfd1a774db": {
      "model_module": "@jupyter-widgets/base",
      "model_module_version": "2.0.0",
      "model_name": "LayoutModel",
      "state": {}
     },
     "170f3bdc30c6429989283ebbc47bb004": {
      "model_module": "@jupyter-widgets/controls",
      "model_module_version": "2.0.0",
      "model_name": "CheckboxStyleModel",
      "state": {
       "description_width": ""
      }
     },
     "1744a783cd1540fcb0a731593cf2f7f0": {
      "model_module": "@jupyter-widgets/controls",
      "model_module_version": "2.0.0",
      "model_name": "VBoxModel",
      "state": {
       "children": [
        "IPY_MODEL_f165e0be763147479e2bed6132a49988",
        "IPY_MODEL_00f562bcb34345609ac18e2fd2f7f200"
       ],
       "layout": "IPY_MODEL_69ced0cc2d08401f8ca7870c198e9a2b"
      }
     },
     "17548731204b47da9c32d9b3e24126ca": {
      "model_module": "@jupyter-widgets/base",
      "model_module_version": "2.0.0",
      "model_name": "LayoutModel",
      "state": {}
     },
     "1755565ac7e24a2fa9220e0e654721c1": {
      "model_module": "@jupyter-widgets/controls",
      "model_module_version": "2.0.0",
      "model_name": "HBoxModel",
      "state": {
       "children": [
        "IPY_MODEL_030c106a010a4b5bbe9bcb0a7700ce8d"
       ],
       "layout": "IPY_MODEL_3f8d6c7635854fd9a7e9a0df44634e53"
      }
     },
     "17aadfb299394dbc9b8e568f4f78c039": {
      "model_module": "@jupyter-widgets/controls",
      "model_module_version": "2.0.0",
      "model_name": "ButtonModel",
      "state": {
       "description": "Sample Size",
       "layout": "IPY_MODEL_2e6d27bf95ea413baa7731479298ba4f",
       "style": "IPY_MODEL_d89d1852d3c44834a259eed97bd13ea0",
       "tooltip": null
      }
     },
     "17bc7cab1b6b4c08ae0cfa1b47975e44": {
      "model_module": "@jupyter-widgets/controls",
      "model_module_version": "2.0.0",
      "model_name": "VBoxModel",
      "state": {
       "children": [
        "IPY_MODEL_1c063efe67a84074bd388991ffc46297",
        "IPY_MODEL_44d5da6d9dc541c59bc9b668978070bd"
       ],
       "layout": "IPY_MODEL_76ea70fa3f0b4073a0a352603ac01391"
      }
     },
     "17c88b6116294c1ead9e90da58959e03": {
      "model_module": "@jupyter-widgets/controls",
      "model_module_version": "2.0.0",
      "model_name": "HTMLModel",
      "state": {
       "layout": "IPY_MODEL_e1d672d1d3514fb5bda0aea0e40feafc",
       "style": "IPY_MODEL_7f6457a0999e439c837aad799e78ecca",
       "value": "Seated Hamstring"
      }
     },
     "17e10f310d974fe080d958448ee1da38": {
      "model_module": "@jupyter-widgets/base",
      "model_module_version": "2.0.0",
      "model_name": "LayoutModel",
      "state": {}
     },
     "17e438a5ec3b46d995ba22dd9310d2c3": {
      "model_module": "@jupyter-widgets/base",
      "model_module_version": "2.0.0",
      "model_name": "LayoutModel",
      "state": {}
     },
     "17e8f8c9faef41fdb52325b03c42352d": {
      "model_module": "@jupyter-widgets/controls",
      "model_module_version": "2.0.0",
      "model_name": "CheckboxStyleModel",
      "state": {
       "description_width": ""
      }
     },
     "17ef6941ce534739922c9b93f07772f0": {
      "model_module": "@jupyter-widgets/controls",
      "model_module_version": "2.0.0",
      "model_name": "ButtonModel",
      "state": {
       "description": "Instruction",
       "icon": "comment",
       "layout": "IPY_MODEL_678470d0e58a46f48d34fa30c739acba",
       "style": "IPY_MODEL_9a87b8fda1d14a6282d6434057e28da5",
       "tooltip": "0"
      }
     },
     "17fe22c8e1e4410ba2412ca8621737ad": {
      "model_module": "@jupyter-widgets/controls",
      "model_module_version": "2.0.0",
      "model_name": "HTMLModel",
      "state": {
       "layout": "IPY_MODEL_fe69708a1e33498493fec0d3af9479b7",
       "style": "IPY_MODEL_2d3913a55fed49b69edb78951b919bad",
       "value": "Bottoms Up"
      }
     },
     "18047ae1e102455e81a8536c6d23ba44": {
      "model_module": "@jupyter-widgets/controls",
      "model_module_version": "2.0.0",
      "model_name": "HTMLStyleModel",
      "state": {
       "description_width": "",
       "font_size": null,
       "text_color": null
      }
     },
     "18206ac1cdb346f49a64bf8655f6e39c": {
      "model_module": "@jupyter-widgets/controls",
      "model_module_version": "2.0.0",
      "model_name": "ButtonModel",
      "state": {
       "description": "Close",
       "layout": "IPY_MODEL_231373fc711549d98bd8465a3a7f2a00",
       "style": "IPY_MODEL_441f2a47749c4328bc73352d16a18a49",
       "tooltip": null
      }
     },
     "18252f28087f4b77a596fae5368f9ccc": {
      "model_module": "@jupyter-widgets/controls",
      "model_module_version": "2.0.0",
      "model_name": "CheckboxStyleModel",
      "state": {
       "description_width": ""
      }
     },
     "1827e479f5a54de0b1064942bc9f4b53": {
      "model_module": "@jupyter-widgets/controls",
      "model_module_version": "2.0.0",
      "model_name": "ButtonModel",
      "state": {
       "description": "Instruction",
       "icon": "comment",
       "layout": "IPY_MODEL_4ca2fa95b5bc482f9ee30ba5e5cde571",
       "style": "IPY_MODEL_565b93d897284a25882c6b9a6b433066",
       "tooltip": "848"
      }
     },
     "18311c0883ef4b9b9ef8593fb3474358": {
      "model_module": "@jupyter-widgets/controls",
      "model_module_version": "2.0.0",
      "model_name": "VBoxModel",
      "state": {
       "children": [
        "IPY_MODEL_aaf7298f2db24f2b9c2e2f001dcbb20e",
        "IPY_MODEL_3a830350c6dd4d96a44043867b575ffd"
       ],
       "layout": "IPY_MODEL_ea88ee4963974fc0b869071686b309b1"
      }
     },
     "18795e6b0f5d4adfa931faa91c3408d5": {
      "model_module": "@jupyter-widgets/controls",
      "model_module_version": "2.0.0",
      "model_name": "ButtonStyleModel",
      "state": {
       "font_family": null,
       "font_size": null,
       "font_style": null,
       "font_variant": null,
       "font_weight": null,
       "text_color": null,
       "text_decoration": null
      }
     },
     "18c25d24e6814110a25c697bcb3a172e": {
      "model_module": "@jupyter-widgets/controls",
      "model_module_version": "2.0.0",
      "model_name": "CheckboxStyleModel",
      "state": {
       "description_width": ""
      }
     },
     "18cc7b3a12ad4d46a200dcc9f246aa5c": {
      "model_module": "@jupyter-widgets/controls",
      "model_module_version": "2.0.0",
      "model_name": "VBoxModel",
      "state": {
       "layout": "IPY_MODEL_d2f287136b624d528cefdc9156cf4a33"
      }
     },
     "1903ff079d9a46a5821c2690b809539c": {
      "model_module": "@jupyter-widgets/controls",
      "model_module_version": "2.0.0",
      "model_name": "HTMLStyleModel",
      "state": {
       "description_width": "",
       "font_size": null,
       "text_color": null
      }
     },
     "191391fe4ee94bd49add96c667319af2": {
      "model_module": "@jupyter-widgets/controls",
      "model_module_version": "2.0.0",
      "model_name": "HBoxModel",
      "state": {
       "children": [
        "IPY_MODEL_c14931b1585c4d20a2825fc2d208f5bd"
       ],
       "layout": "IPY_MODEL_07ee5ba3e2bd4e6b8a2c3805ca461101"
      }
     },
     "1923341227af461a9c3c508423749c00": {
      "model_module": "@jupyter-widgets/controls",
      "model_module_version": "2.0.0",
      "model_name": "ButtonStyleModel",
      "state": {
       "font_family": null,
       "font_size": null,
       "font_style": null,
       "font_variant": null,
       "font_weight": null,
       "text_color": null,
       "text_decoration": null
      }
     },
     "198175319e294403b32c49866920c2e1": {
      "model_module": "@jupyter-widgets/controls",
      "model_module_version": "2.0.0",
      "model_name": "DropdownModel",
      "state": {
       "_options_labels": [
        "One",
        "Two",
        "Three",
        "Four",
        "Five"
       ],
       "index": 1,
       "layout": "IPY_MODEL_e418b3faf8b64c0b95cf321304ce4e1f",
       "style": "IPY_MODEL_937e4b72cc334b509d8af0d91fb98c3f"
      }
     },
     "199a9ce0908743ebba595b3fe56ae8a7": {
      "model_module": "@jupyter-widgets/controls",
      "model_module_version": "2.0.0",
      "model_name": "ButtonModel",
      "state": {
       "description": "Sample Size",
       "layout": "IPY_MODEL_4cbc439e1e794832aff6d541efd6339e",
       "style": "IPY_MODEL_c054b7f2aa5b47d092d1019156266192",
       "tooltip": null
      }
     },
     "19e3a23c14c14aa3be85777e87a16472": {
      "model_module": "@jupyter-widgets/base",
      "model_module_version": "2.0.0",
      "model_name": "LayoutModel",
      "state": {
       "height": "40px",
       "width": "160px"
      }
     },
     "19ec69ac99c44e49a9f9d7ee47079fa2": {
      "model_module": "@jupyter-widgets/base",
      "model_module_version": "2.0.0",
      "model_name": "LayoutModel",
      "state": {
       "align_items": "stretch",
       "display": "flex",
       "flex_flow": "row",
       "justify_content": "space-around",
       "width": "70%"
      }
     },
     "19f9c088d58b4a05a7645424588a9a92": {
      "model_module": "@jupyter-widgets/controls",
      "model_module_version": "2.0.0",
      "model_name": "ButtonStyleModel",
      "state": {
       "font_family": null,
       "font_size": null,
       "font_style": null,
       "font_variant": null,
       "font_weight": null,
       "text_color": null,
       "text_decoration": null
      }
     },
     "1a126d8074204818b9e02966505c4d5c": {
      "model_module": "@jupyter-widgets/controls",
      "model_module_version": "2.0.0",
      "model_name": "ButtonStyleModel",
      "state": {
       "font_family": null,
       "font_size": null,
       "font_style": null,
       "font_variant": null,
       "font_weight": null,
       "text_color": null,
       "text_decoration": null
      }
     },
     "1a1302dce3354b2ea4bc5acb74ba6e79": {
      "model_module": "@jupyter-widgets/controls",
      "model_module_version": "2.0.0",
      "model_name": "BoxModel",
      "state": {
       "children": [
        "IPY_MODEL_c9acaae46e474091a6344c1932679ec9",
        "IPY_MODEL_ebbcd82e8106462dab6d80364cf5e22d"
       ],
       "layout": "IPY_MODEL_aaf71d72b7554462b5740000d30746b0"
      }
     },
     "1a1de325b5a94cce8a89609bdead4725": {
      "model_module": "@jupyter-widgets/controls",
      "model_module_version": "2.0.0",
      "model_name": "VBoxModel",
      "state": {
       "children": [
        "IPY_MODEL_158b79df680e42f0a7381f81f639346b",
        "IPY_MODEL_cb5ae8bc53e84f96b25208c1c45bc3c5"
       ],
       "layout": "IPY_MODEL_9b7fc4a6018d49d88747963d27041d4f"
      }
     },
     "1a62f355d2e944c7a2fdf2c821a1ad6d": {
      "model_module": "@jupyter-widgets/base",
      "model_module_version": "2.0.0",
      "model_name": "LayoutModel",
      "state": {}
     },
     "1a81f0baa64e41c3a1e356f059ac1bfa": {
      "model_module": "@jupyter-widgets/base",
      "model_module_version": "2.0.0",
      "model_name": "LayoutModel",
      "state": {}
     },
     "1a96b85cee3b462eab130bdcf66e5d78": {
      "model_module": "@jupyter-widgets/controls",
      "model_module_version": "2.0.0",
      "model_name": "ButtonStyleModel",
      "state": {
       "font_family": null,
       "font_size": null,
       "font_style": null,
       "font_variant": null,
       "font_weight": null,
       "text_color": null,
       "text_decoration": null
      }
     },
     "1ad50a790bd042ce8df5a02f31a9a749": {
      "model_module": "@jupyter-widgets/base",
      "model_module_version": "2.0.0",
      "model_name": "LayoutModel",
      "state": {
       "height": "40px",
       "width": "160px"
      }
     },
     "1aee2acb688f45bebc29e71fca253bcd": {
      "model_module": "@jupyter-widgets/controls",
      "model_module_version": "2.0.0",
      "model_name": "BoxModel",
      "state": {
       "children": [
        "IPY_MODEL_db91c690cba6485d9d353dea455357c3",
        "IPY_MODEL_217de5ba0c154db0b1ecc9f9ab7cba5f"
       ],
       "layout": "IPY_MODEL_c0311c99dbfc4a47800b2e0acf9cedc1"
      }
     },
     "1af04194cc2b4f49b2f8d3c8c2fc9826": {
      "model_module": "@jupyter-widgets/controls",
      "model_module_version": "2.0.0",
      "model_name": "CheckboxStyleModel",
      "state": {
       "description_width": ""
      }
     },
     "1b0540cc92de473db48ec37e5d244fb3": {
      "model_module": "@jupyter-widgets/base",
      "model_module_version": "2.0.0",
      "model_name": "LayoutModel",
      "state": {}
     },
     "1b08503b853a4eb592912f68cd076a55": {
      "model_module": "@jupyter-widgets/base",
      "model_module_version": "2.0.0",
      "model_name": "LayoutModel",
      "state": {
       "height": "55px",
       "width": "80px"
      }
     },
     "1b200451b79f4c3fb8ce8479c2b6e30a": {
      "model_module": "@jupyter-widgets/base",
      "model_module_version": "2.0.0",
      "model_name": "LayoutModel",
      "state": {}
     },
     "1b2a8c4c9c674a3cb0aac8151dcc6573": {
      "model_module": "@jupyter-widgets/controls",
      "model_module_version": "2.0.0",
      "model_name": "BoxModel",
      "state": {
       "children": [
        "IPY_MODEL_03c81d55c4e94839b12a1b0eef6948a6",
        "IPY_MODEL_743f7f336ec1403f8ce8bae55ca5fa26"
       ],
       "layout": "IPY_MODEL_558e0cb8982243c68e54044240ad2028"
      }
     },
     "1b3d965891614e08bad93f6b2c5cc182": {
      "model_module": "@jupyter-widgets/controls",
      "model_module_version": "2.0.0",
      "model_name": "HBoxModel",
      "state": {
       "children": [
        "IPY_MODEL_bf212262d87246668115a98452f284ac"
       ],
       "layout": "IPY_MODEL_eaa9747551ac4cb1956590ca553091ab"
      }
     },
     "1b4e04af5e80406c98d4f5dfda47898c": {
      "model_module": "@jupyter-widgets/base",
      "model_module_version": "2.0.0",
      "model_name": "LayoutModel",
      "state": {
       "height": "120px",
       "width": "100px"
      }
     },
     "1b4eec0f4bc54e99b7e382b3208198e0": {
      "model_module": "@jupyter-widgets/controls",
      "model_module_version": "2.0.0",
      "model_name": "ButtonStyleModel",
      "state": {
       "font_family": null,
       "font_size": null,
       "font_style": null,
       "font_variant": null,
       "font_weight": null,
       "text_color": null,
       "text_decoration": null
      }
     },
     "1b97495d262b44cbbdcb3401412afdc7": {
      "model_module": "@jupyter-widgets/controls",
      "model_module_version": "2.0.0",
      "model_name": "VBoxModel",
      "state": {
       "children": [
        "IPY_MODEL_a0011a11eab1406dbf3a9827ba4e6459",
        "IPY_MODEL_51c9dacf776241fcb0f54767b9d27704",
        "IPY_MODEL_e3f7bee657db48d78135f5081b7f3670",
        "IPY_MODEL_fd8d4d4a3fa64ced8f13996af6bc54ed"
       ],
       "layout": "IPY_MODEL_7c2d5412c592485cbf893591960bc9a5"
      }
     },
     "1bc696a007c64e239169f15877860fe3": {
      "model_module": "@jupyter-widgets/base",
      "model_module_version": "2.0.0",
      "model_name": "LayoutModel",
      "state": {
       "height": "40px",
       "width": "160px"
      }
     },
     "1bd0eab078fc4fd2b2113e0118f2b031": {
      "model_module": "@jupyter-widgets/controls",
      "model_module_version": "2.0.0",
      "model_name": "HTMLModel",
      "state": {
       "layout": "IPY_MODEL_97c340ba83bb4824a4cb563f4fcd4277",
       "style": "IPY_MODEL_e2f2ffbe66104397b4ef2f5521c7efac",
       "value": "Weighted Crunches"
      }
     },
     "1c063efe67a84074bd388991ffc46297": {
      "model_module": "@jupyter-widgets/controls",
      "model_module_version": "2.0.0",
      "model_name": "HBoxModel",
      "state": {
       "children": [
        "IPY_MODEL_0a97e46cff6e4a8ea90f68c654fb883c"
       ],
       "layout": "IPY_MODEL_823b45c88bcc4dda8581d96e9218fb45"
      }
     },
     "1c42ebed2b57488385dafb45ad8cea93": {
      "model_module": "@jupyter-widgets/controls",
      "model_module_version": "2.0.0",
      "model_name": "ButtonStyleModel",
      "state": {
       "font_family": null,
       "font_size": null,
       "font_style": null,
       "font_variant": null,
       "font_weight": null,
       "text_color": null,
       "text_decoration": null
      }
     },
     "1c88283da6ba48fb800d7a367c64da6e": {
      "model_module": "@jupyter-widgets/controls",
      "model_module_version": "2.0.0",
      "model_name": "ButtonModel",
      "state": {
       "description": "Close",
       "layout": "IPY_MODEL_3ba099ff3da44d8ea888f1a30ff9bf94",
       "style": "IPY_MODEL_bb7db8d7a0344473ab766647098e5f8b",
       "tooltip": null
      }
     },
     "1c88caad56ce44289b105353b26aeda9": {
      "model_module": "@jupyter-widgets/controls",
      "model_module_version": "2.0.0",
      "model_name": "BoxModel",
      "state": {
       "children": [
        "IPY_MODEL_15eb953cd6594c6ab92c6d486c0d3f7b",
        "IPY_MODEL_b561508dad2d4923aefbaa925c62a93b",
        "IPY_MODEL_ede06ac8182246d09a006cb333932870"
       ],
       "layout": "IPY_MODEL_3a435b9031984a3eb6a137f59d6290bc"
      }
     },
     "1d452738bf5c44039465ce81f92f13b8": {
      "model_module": "@jupyter-widgets/controls",
      "model_module_version": "2.0.0",
      "model_name": "ButtonModel",
      "state": {
       "description": "Equipment",
       "layout": "IPY_MODEL_f0aa520440564f9caec73c8137fec1cf",
       "style": "IPY_MODEL_421043192fc24dc0b3ce2b45acd115e7",
       "tooltip": null
      }
     },
     "1db6ce9fc840423997080ae2d877b25e": {
      "model_module": "@jupyter-widgets/base",
      "model_module_version": "2.0.0",
      "model_name": "LayoutModel",
      "state": {
       "height": "40px",
       "width": "160px"
      }
     },
     "1dba3b5206374c598359a60eb7fcf99f": {
      "model_module": "@jupyter-widgets/controls",
      "model_module_version": "2.0.0",
      "model_name": "ButtonModel",
      "state": {
       "description": "Close",
       "layout": "IPY_MODEL_8c8d36c073f043d28b3bcecd5503bede",
       "style": "IPY_MODEL_ed23e2f0d4974230b75f537f6518f063",
       "tooltip": null
      }
     },
     "1dd0ece77712415eaf9a3d683afcb1ca": {
      "model_module": "@jupyter-widgets/base",
      "model_module_version": "2.0.0",
      "model_name": "LayoutModel",
      "state": {
       "height": "120px",
       "width": "100px"
      }
     },
     "1e235eb0ac044f3bb7f78adaaf2d0b5f": {
      "model_module": "@jupyter-widgets/base",
      "model_module_version": "2.0.0",
      "model_name": "LayoutModel",
      "state": {
       "height": "40px",
       "width": "160px"
      }
     },
     "1e23a22dc9ff41da89571ab1fa2650a0": {
      "model_module": "@jupyter-widgets/base",
      "model_module_version": "2.0.0",
      "model_name": "LayoutModel",
      "state": {}
     },
     "1f011d0bf0b24c3ab849fe0d7c018f0c": {
      "model_module": "@jupyter-widgets/controls",
      "model_module_version": "2.0.0",
      "model_name": "ButtonStyleModel",
      "state": {
       "font_family": null,
       "font_size": null,
       "font_style": null,
       "font_variant": null,
       "font_weight": null,
       "text_color": null,
       "text_decoration": null
      }
     },
     "1f1d843259b141069c219b24982c4895": {
      "model_module": "@jupyter-widgets/controls",
      "model_module_version": "2.0.0",
      "model_name": "HTMLStyleModel",
      "state": {
       "description_width": "",
       "font_size": null,
       "text_color": null
      }
     },
     "1f2ab640567641aea5bf318947c09a1f": {
      "model_module": "@jupyter-widgets/controls",
      "model_module_version": "2.0.0",
      "model_name": "HTMLModel",
      "state": {
       "layout": "IPY_MODEL_93dacd737c0f46f6a264752e44fe85e7",
       "style": "IPY_MODEL_5219fb87c2f749d1af6cde0db331daff",
       "value": "Bent Over Low-Pulley Side Lateral"
      }
     },
     "1f9f73b927484e169b3b55a2228741d1": {
      "model_module": "@jupyter-widgets/base",
      "model_module_version": "2.0.0",
      "model_name": "LayoutModel",
      "state": {}
     },
     "1fc75be90ec94dc6bf2c89b365b9407e": {
      "model_module": "@jupyter-widgets/controls",
      "model_module_version": "2.0.0",
      "model_name": "HTMLModel",
      "state": {
       "layout": "IPY_MODEL_16aecfd2c3a148489387e3bfd1a774db",
       "style": "IPY_MODEL_ed149c10a9ed41ff915c7561b79f3b6f",
       "value": "<h2>Sample Size</h2>"
      }
     },
     "1fcd6926edf84693bf4c44c62f5230ad": {
      "model_module": "@jupyter-widgets/base",
      "model_module_version": "2.0.0",
      "model_name": "LayoutModel",
      "state": {}
     },
     "1fe5ea6e4209414bacdf7a550d7eb777": {
      "model_module": "@jupyter-widgets/controls",
      "model_module_version": "2.0.0",
      "model_name": "ButtonModel",
      "state": {
       "description": "Instruction",
       "icon": "comment",
       "layout": "IPY_MODEL_57f36a6ee4a643a68a555e6eeb0d268c",
       "style": "IPY_MODEL_d29d3275dba64cc1addf5ec82a2f99b4",
       "tooltip": "1"
      }
     },
     "201393840bf343e9ba571149072dc13d": {
      "model_module": "@jupyter-widgets/controls",
      "model_module_version": "2.0.0",
      "model_name": "CheckboxStyleModel",
      "state": {
       "description_width": ""
      }
     },
     "2013c864b9db43d3be4d21076b824fe3": {
      "model_module": "@jupyter-widgets/base",
      "model_module_version": "2.0.0",
      "model_name": "LayoutModel",
      "state": {
       "height": "40px",
       "width": "160px"
      }
     },
     "2024576f2aa04b60a6c89feece7b9f95": {
      "model_module": "@jupyter-widgets/base",
      "model_module_version": "2.0.0",
      "model_name": "LayoutModel",
      "state": {
       "height": "40px",
       "width": "160px"
      }
     },
     "2081c50410dc46b6aa4b780086fb811e": {
      "model_module": "@jupyter-widgets/controls",
      "model_module_version": "2.0.0",
      "model_name": "HTMLStyleModel",
      "state": {
       "description_width": "",
       "font_size": null,
       "text_color": null
      }
     },
     "208e77a8f42a49b7987e18f126411e57": {
      "model_module": "@jupyter-widgets/base",
      "model_module_version": "2.0.0",
      "model_name": "LayoutModel",
      "state": {
       "align_items": "stretch",
       "display": "flex",
       "flex_flow": "row",
       "justify_content": "space-around",
       "width": "70%"
      }
     },
     "20cbdd6aa4b04e74b24c90533d2e9ffc": {
      "model_module": "@jupyter-widgets/controls",
      "model_module_version": "2.0.0",
      "model_name": "HBoxModel",
      "state": {
       "children": [
        "IPY_MODEL_2deac4a4971445f4855738bb818dc3d9"
       ],
       "layout": "IPY_MODEL_b20990059d444390a9e1d826057a05dc"
      }
     },
     "20d8582da6974d46bd85f01531a36286": {
      "model_module": "@jupyter-widgets/controls",
      "model_module_version": "2.0.0",
      "model_name": "HBoxModel",
      "state": {
       "children": [
        "IPY_MODEL_e68204cb33b04c7d8c484df6d1863c8b"
       ],
       "layout": "IPY_MODEL_eefbe53d498a41059290cb6f722e1571"
      }
     },
     "20fd738a98ac4b628f3479963621ebe1": {
      "model_module": "@jupyter-widgets/controls",
      "model_module_version": "2.0.0",
      "model_name": "CheckboxStyleModel",
      "state": {
       "description_width": ""
      }
     },
     "211959e2613045088bf810ba59021931": {
      "model_module": "@jupyter-widgets/controls",
      "model_module_version": "2.0.0",
      "model_name": "ButtonModel",
      "state": {
       "description": "Close",
       "layout": "IPY_MODEL_50303c04a4074ff3af112e1332f2a670",
       "style": "IPY_MODEL_f5424721651f4d6fadd165dc8fad27e0",
       "tooltip": null
      }
     },
     "213c3e034989438f95b68d06274ba337": {
      "model_module": "@jupyter-widgets/base",
      "model_module_version": "2.0.0",
      "model_name": "LayoutModel",
      "state": {
       "height": "40px",
       "width": "160px"
      }
     },
     "213d4e7a8b474abfbd699ef5e5b0b291": {
      "model_module": "@jupyter-widgets/controls",
      "model_module_version": "2.0.0",
      "model_name": "ButtonStyleModel",
      "state": {
       "font_family": null,
       "font_size": null,
       "font_style": null,
       "font_variant": null,
       "font_weight": null,
       "text_color": null,
       "text_decoration": null
      }
     },
     "215e363d7c6b4239b3c630d1b46eea45": {
      "model_module": "@jupyter-widgets/base",
      "model_module_version": "2.0.0",
      "model_name": "LayoutModel",
      "state": {
       "height": "120px",
       "width": "100px"
      }
     },
     "216c3af4d89e4964b7736db0c7fb68db": {
      "model_module": "@jupyter-widgets/controls",
      "model_module_version": "2.0.0",
      "model_name": "ButtonStyleModel",
      "state": {
       "font_family": null,
       "font_size": null,
       "font_style": null,
       "font_variant": null,
       "font_weight": null,
       "text_color": null,
       "text_decoration": null
      }
     },
     "217de5ba0c154db0b1ecc9f9ab7cba5f": {
      "model_module": "@jupyter-widgets/controls",
      "model_module_version": "2.0.0",
      "model_name": "ButtonModel",
      "state": {
       "description": "Close",
       "layout": "IPY_MODEL_ccebf07729994d3285eb11c1d672105e",
       "style": "IPY_MODEL_61d733fb219b40ee8a9b15c852a83549",
       "tooltip": null
      }
     },
     "217df78228b14362a18b9141a85599ba": {
      "model_module": "@jupyter-widgets/controls",
      "model_module_version": "2.0.0",
      "model_name": "VBoxModel",
      "state": {
       "children": [
        "IPY_MODEL_bdaebd5355da42fa8256a39dc232864f",
        "IPY_MODEL_142fa4f6c5e44f3fa641de9bd19021c8",
        "IPY_MODEL_3547478cab9743b1965af441cb386f37",
        "IPY_MODEL_668f5a860693432399b72d89a1e8dfb0"
       ],
       "layout": "IPY_MODEL_44d645b870394f00ba7c5dff886a01ed"
      }
     },
     "218a10b6aa6d482f95cea3169ba75945": {
      "model_module": "@jupyter-widgets/controls",
      "model_module_version": "2.0.0",
      "model_name": "VBoxModel",
      "state": {
       "children": [
        "IPY_MODEL_c10ffcec263b4299b1429e54e839ba7b",
        "IPY_MODEL_7253ac032b344509adb0855db374cb3c"
       ],
       "layout": "IPY_MODEL_55d43f4e232d46ceb36773302ee72550"
      }
     },
     "2208524a13d24221beeaa9a9a53e37c5": {
      "model_module": "@jupyter-widgets/base",
      "model_module_version": "2.0.0",
      "model_name": "LayoutModel",
      "state": {}
     },
     "2249d0ff7f304f74aadec5b584f12d1d": {
      "model_module": "@jupyter-widgets/controls",
      "model_module_version": "2.0.0",
      "model_name": "ButtonStyleModel",
      "state": {
       "font_family": null,
       "font_size": null,
       "font_style": null,
       "font_variant": null,
       "font_weight": null,
       "text_color": null,
       "text_decoration": null
      }
     },
     "227b52314e68475eada4b0f9e7aed7b9": {
      "model_module": "@jupyter-widgets/base",
      "model_module_version": "2.0.0",
      "model_name": "LayoutModel",
      "state": {
       "height": "55px",
       "width": "80px"
      }
     },
     "228c00afe1ab408ea9d01195858cdbaa": {
      "model_module": "@jupyter-widgets/controls",
      "model_module_version": "2.0.0",
      "model_name": "CheckboxStyleModel",
      "state": {
       "description_width": ""
      }
     },
     "231373fc711549d98bd8465a3a7f2a00": {
      "model_module": "@jupyter-widgets/base",
      "model_module_version": "2.0.0",
      "model_name": "LayoutModel",
      "state": {
       "height": "55px",
       "width": "80px"
      }
     },
     "232dea850efb469cae1de14764b34a52": {
      "model_module": "@jupyter-widgets/controls",
      "model_module_version": "2.0.0",
      "model_name": "ButtonStyleModel",
      "state": {
       "font_family": null,
       "font_size": null,
       "font_style": null,
       "font_variant": null,
       "font_weight": null,
       "text_color": null,
       "text_decoration": null
      }
     },
     "233a5047727d4e748ffdc621351366ef": {
      "model_module": "@jupyter-widgets/controls",
      "model_module_version": "2.0.0",
      "model_name": "CheckboxModel",
      "state": {
       "description": "cardio",
       "disabled": false,
       "indent": false,
       "layout": "IPY_MODEL_d44a158bd8fd4ca3913fbf213b1ab2ee",
       "style": "IPY_MODEL_ba685509666142139dbfe9e6714f4db4",
       "value": true
      }
     },
     "23c9efd6c2554e60a495152beac7247b": {
      "model_module": "@jupyter-widgets/output",
      "model_module_version": "1.0.0",
      "model_name": "OutputModel",
      "state": {
       "layout": "IPY_MODEL_36f4a097ab2545fa80e6e57ab160066d"
      }
     },
     "23f9cbff9c064deab69926110b55bb87": {
      "model_module": "@jupyter-widgets/controls",
      "model_module_version": "2.0.0",
      "model_name": "ButtonModel",
      "state": {
       "description": "Close",
       "layout": "IPY_MODEL_79a63a3ec69b4d96b986ff7197102893",
       "style": "IPY_MODEL_d8d2276f0a00449bb2143356dfb4cef5",
       "tooltip": null
      }
     },
     "2428d264dc7e4dc5af0aefa114f7eb19": {
      "model_module": "@jupyter-widgets/controls",
      "model_module_version": "2.0.0",
      "model_name": "HBoxModel",
      "state": {
       "children": [
        "IPY_MODEL_9e0bcf6a6f7340b6a51fdbb36d2a1bb1"
       ],
       "layout": "IPY_MODEL_0c8982c099604032ab61eba89a0a53e1"
      }
     },
     "242e916a6ef845a98282efe81e39cd41": {
      "model_module": "@jupyter-widgets/base",
      "model_module_version": "2.0.0",
      "model_name": "LayoutModel",
      "state": {
       "height": "40px",
       "width": "160px"
      }
     },
     "245870bb17f3417b9b99e8e6c978e321": {
      "model_module": "@jupyter-widgets/controls",
      "model_module_version": "2.0.0",
      "model_name": "HBoxModel",
      "state": {
       "children": [
        "IPY_MODEL_b53f137188c945168dfdefeb2c51c386"
       ],
       "layout": "IPY_MODEL_e0b35b0b07b440209c8a8c01a02c0ba9"
      }
     },
     "24705acf496a4683b5aeac6604ce7e9f": {
      "model_module": "@jupyter-widgets/controls",
      "model_module_version": "2.0.0",
      "model_name": "CheckboxModel",
      "state": {
       "description": "barbell",
       "disabled": false,
       "indent": false,
       "layout": "IPY_MODEL_d860d5c651fc41cc8248d530e0dfeb46",
       "style": "IPY_MODEL_09eed237c8254981aa04f8109521b126",
       "value": false
      }
     },
     "2481f557e8144ae988573da50082513a": {
      "model_module": "@jupyter-widgets/base",
      "model_module_version": "2.0.0",
      "model_name": "LayoutModel",
      "state": {
       "height": "55px",
       "width": "120px"
      }
     },
     "24ae7531a42a472ca6b24b2857db5ac7": {
      "model_module": "@jupyter-widgets/controls",
      "model_module_version": "2.0.0",
      "model_name": "CheckboxStyleModel",
      "state": {
       "description_width": ""
      }
     },
     "2548c94520c149f1b8a8f254e577e4b7": {
      "model_module": "@jupyter-widgets/controls",
      "model_module_version": "2.0.0",
      "model_name": "BoxModel",
      "state": {
       "children": [
        "IPY_MODEL_9c1157a567994d11a2458ca70e44a65f",
        "IPY_MODEL_0a432f3d0aa643b2827953c706bf4c41"
       ],
       "layout": "IPY_MODEL_d551f4cc2fae493c87be4957d3f9c0db"
      }
     },
     "2576ae72f9014432b7009d3496d535b4": {
      "model_module": "@jupyter-widgets/controls",
      "model_module_version": "2.0.0",
      "model_name": "HTMLStyleModel",
      "state": {
       "description_width": "",
       "font_size": null,
       "text_color": null
      }
     },
     "257d213bd05645b8976c1a5bdb092cf7": {
      "model_module": "@jupyter-widgets/base",
      "model_module_version": "2.0.0",
      "model_name": "LayoutModel",
      "state": {
       "height": "40px",
       "width": "160px"
      }
     },
     "258247bd5e1f45178f52edce0fa7d2d0": {
      "model_module": "@jupyter-widgets/base",
      "model_module_version": "2.0.0",
      "model_name": "LayoutModel",
      "state": {
       "height": "55px",
       "width": "120px"
      }
     },
     "25893042c8814002a9810691c14a66bb": {
      "model_module": "@jupyter-widgets/controls",
      "model_module_version": "2.0.0",
      "model_name": "ButtonModel",
      "state": {
       "description": "Close",
       "layout": "IPY_MODEL_b450bbcca3034a09a01d0dd394b8a867",
       "style": "IPY_MODEL_e1532c88c6bb484aba10542bdaebe352",
       "tooltip": null
      }
     },
     "25b4e085a4b34875a4a6caa99a394cb4": {
      "model_module": "@jupyter-widgets/base",
      "model_module_version": "2.0.0",
      "model_name": "LayoutModel",
      "state": {}
     },
     "25bedf6e315b4407b32b6c201f280564": {
      "model_module": "@jupyter-widgets/base",
      "model_module_version": "2.0.0",
      "model_name": "LayoutModel",
      "state": {}
     },
     "25d80f54ac8d48889c0460e40a8ea1d9": {
      "model_module": "@jupyter-widgets/controls",
      "model_module_version": "2.0.0",
      "model_name": "BoxModel",
      "state": {
       "children": [
        "IPY_MODEL_9e953ac6df9541d99c0d611b92d1314f",
        "IPY_MODEL_e0a3425b44334a268bb17598ec244aa7"
       ],
       "layout": "IPY_MODEL_558e0cb8982243c68e54044240ad2028"
      }
     },
     "2612f5b9dd7f4100b9c3786f576bf587": {
      "model_module": "@jupyter-widgets/controls",
      "model_module_version": "2.0.0",
      "model_name": "HTMLStyleModel",
      "state": {
       "description_width": "",
       "font_size": null,
       "text_color": null
      }
     },
     "26203175f2b44b28a1fddbf06d29982c": {
      "model_module": "@jupyter-widgets/controls",
      "model_module_version": "2.0.0",
      "model_name": "CheckboxModel",
      "state": {
       "description": "e-z curl bar",
       "disabled": false,
       "indent": false,
       "layout": "IPY_MODEL_5bc40b9fba7d4040a2d905d76d7921b1",
       "style": "IPY_MODEL_5d345759cf1342e1809d1191728023c1",
       "value": true
      }
     },
     "2647dcd57b824fdb93f2fa4f28d5494d": {
      "model_module": "@jupyter-widgets/controls",
      "model_module_version": "2.0.0",
      "model_name": "HBoxModel",
      "state": {
       "children": [
        "IPY_MODEL_2df2dc5623244466989f3d24ed1ef6ce"
       ],
       "layout": "IPY_MODEL_b0f6aa599bab4e6e8efd23f1c9018cb3"
      }
     },
     "26b9f47c5547459192b581577ca8e3bf": {
      "model_module": "@jupyter-widgets/controls",
      "model_module_version": "2.0.0",
      "model_name": "CheckboxModel",
      "state": {
       "description": "exercise ball",
       "disabled": false,
       "indent": false,
       "layout": "IPY_MODEL_dfd158ed6ebd4bf58300c629d8f7ee1f",
       "style": "IPY_MODEL_2e67918fe8b44417a0a7c64cfac2ad54",
       "value": false
      }
     },
     "26c464fd1e9242a2b43a90b75858f1c9": {
      "model_module": "@jupyter-widgets/controls",
      "model_module_version": "2.0.0",
      "model_name": "CheckboxStyleModel",
      "state": {
       "description_width": ""
      }
     },
     "27084f2209204210bcb801e76df1c737": {
      "model_module": "@jupyter-widgets/controls",
      "model_module_version": "2.0.0",
      "model_name": "CheckboxModel",
      "state": {
       "description": "cable",
       "disabled": false,
       "indent": false,
       "layout": "IPY_MODEL_08152606a870410bbab0fa92a4678d99",
       "style": "IPY_MODEL_c3400fb765534df38252cc27cbf605ef",
       "value": false
      }
     },
     "2798082575a7412dbb3832caae5b650c": {
      "model_module": "@jupyter-widgets/controls",
      "model_module_version": "2.0.0",
      "model_name": "BoxModel",
      "state": {
       "children": [
        "IPY_MODEL_d0c4ccb5b2604b739de747ac2225e45a",
        "IPY_MODEL_558066414d95401db3253521e9530142"
       ],
       "layout": "IPY_MODEL_5951d2627c74480f8ecb33374460884a"
      }
     },
     "27b2b40a809246c68871e1249b68981b": {
      "model_module": "@jupyter-widgets/base",
      "model_module_version": "2.0.0",
      "model_name": "LayoutModel",
      "state": {}
     },
     "27c42e24e3c94cd39e474ee1531371c4": {
      "model_module": "@jupyter-widgets/controls",
      "model_module_version": "2.0.0",
      "model_name": "CheckboxStyleModel",
      "state": {
       "description_width": ""
      }
     },
     "2801085a90c0422f84ca089efef248f0": {
      "model_module": "@jupyter-widgets/base",
      "model_module_version": "2.0.0",
      "model_name": "LayoutModel",
      "state": {}
     },
     "2845ef76c7b640a587860827caef87cd": {
      "model_module": "@jupyter-widgets/base",
      "model_module_version": "2.0.0",
      "model_name": "LayoutModel",
      "state": {}
     },
     "2850ef028ac0411ca47ef3b160ce0906": {
      "model_module": "@jupyter-widgets/controls",
      "model_module_version": "2.0.0",
      "model_name": "HBoxModel",
      "state": {
       "children": [
        "IPY_MODEL_2deac4a4971445f4855738bb818dc3d9"
       ],
       "layout": "IPY_MODEL_1f9f73b927484e169b3b55a2228741d1"
      }
     },
     "28733d85bc2140eab0f945b8e05878e7": {
      "model_module": "@jupyter-widgets/controls",
      "model_module_version": "2.0.0",
      "model_name": "ButtonModel",
      "state": {
       "description": "Close",
       "layout": "IPY_MODEL_227b52314e68475eada4b0f9e7aed7b9",
       "style": "IPY_MODEL_b977eda1f3334ff1bc27f764fa4c578b",
       "tooltip": null
      }
     },
     "288b8e582bea4a0ab83ef3c7df2210e6": {
      "model_module": "@jupyter-widgets/controls",
      "model_module_version": "2.0.0",
      "model_name": "HTMLModel",
      "state": {
       "layout": "IPY_MODEL_14f994c1f5314bb0988347b1b2108ba9",
       "style": "IPY_MODEL_fe4f9b7deec54142baf3f6f7b613eeab",
       "value": "<h3>Upper Body</h3>"
      }
     },
     "289a369bd4dd4925b62e5039c889d5d9": {
      "model_module": "@jupyter-widgets/base",
      "model_module_version": "2.0.0",
      "model_name": "LayoutModel",
      "state": {
       "align_items": "stretch",
       "display": "flex",
       "flex_flow": "row",
       "justify_content": "space-around",
       "width": "70%"
      }
     },
     "289a3f405a97461faebb23ffb97ab46e": {
      "model_module": "@jupyter-widgets/controls",
      "model_module_version": "2.0.0",
      "model_name": "VBoxModel",
      "state": {
       "children": [
        "IPY_MODEL_d4571331c25c461bbd2304365ff338fa",
        "IPY_MODEL_e96dae38b59e499e82b53333a10912d0"
       ],
       "layout": "IPY_MODEL_419ffef826064aa79b138ff5e446d0a9"
      }
     },
     "28c354841e5f4ea5bf93e97ac678696d": {
      "model_module": "@jupyter-widgets/controls",
      "model_module_version": "2.0.0",
      "model_name": "HBoxModel",
      "state": {
       "children": [
        "IPY_MODEL_9e56f2374e3a4fa08fc58534fc62520d"
       ],
       "layout": "IPY_MODEL_ee18448b386d48e6a7c8540f80bf4687"
      }
     },
     "28e982014958443fa61f93eaefedc2e3": {
      "model_module": "@jupyter-widgets/controls",
      "model_module_version": "2.0.0",
      "model_name": "VBoxModel",
      "state": {
       "children": [
        "IPY_MODEL_7dcd76b9a2e74f4f9c600a32e112531a",
        "IPY_MODEL_e40ba3b80f9941159448ca9f37fbd03b",
        "IPY_MODEL_d69d7b22d6c6469baf6907175e5d7842"
       ],
       "layout": "IPY_MODEL_2845ef76c7b640a587860827caef87cd"
      }
     },
     "2901fac29d6641b8b33244e518b5f737": {
      "model_module": "@jupyter-widgets/base",
      "model_module_version": "2.0.0",
      "model_name": "LayoutModel",
      "state": {}
     },
     "290adbb3e2cd4507875f907d6f6a9b28": {
      "model_module": "@jupyter-widgets/base",
      "model_module_version": "2.0.0",
      "model_name": "LayoutModel",
      "state": {}
     },
     "29313b37f51e43058ef73b9ce1df371e": {
      "model_module": "@jupyter-widgets/controls",
      "model_module_version": "2.0.0",
      "model_name": "ButtonModel",
      "state": {
       "description": "Instruction",
       "icon": "comment",
       "layout": "IPY_MODEL_77b31ad5197843b088bc545ee171b27d",
       "style": "IPY_MODEL_e11c71b42afb41108c9061c016e97cd1",
       "tooltip": "124"
      }
     },
     "29347ad71724486f97d7fce2289a7097": {
      "model_module": "@jupyter-widgets/base",
      "model_module_version": "2.0.0",
      "model_name": "LayoutModel",
      "state": {}
     },
     "2944f6c6bd0549b1ae8bcef72e0e6e2f": {
      "model_module": "@jupyter-widgets/controls",
      "model_module_version": "2.0.0",
      "model_name": "CheckboxStyleModel",
      "state": {
       "description_width": ""
      }
     },
     "29794097231d4dfa82bdf742141a7ea2": {
      "model_module": "@jupyter-widgets/base",
      "model_module_version": "2.0.0",
      "model_name": "LayoutModel",
      "state": {
       "height": "55px",
       "width": "120px"
      }
     },
     "298df749c58a4a7dbd6251bcd3b08bfb": {
      "model_module": "@jupyter-widgets/controls",
      "model_module_version": "2.0.0",
      "model_name": "VBoxModel",
      "state": {
       "children": [
        "IPY_MODEL_d4571331c25c461bbd2304365ff338fa",
        "IPY_MODEL_e96dae38b59e499e82b53333a10912d0"
       ],
       "layout": "IPY_MODEL_8a787e8835f14545acf6882fc4f8efae"
      }
     },
     "29b24f797b4241a9a260be8531465ce7": {
      "model_module": "@jupyter-widgets/controls",
      "model_module_version": "2.0.0",
      "model_name": "CheckboxModel",
      "state": {
       "description": "cable",
       "disabled": false,
       "indent": false,
       "layout": "IPY_MODEL_ceca99e2541741a3b53c8b0f95154641",
       "style": "IPY_MODEL_b51816880c464c84a08fc1e1f1551e6f",
       "value": true
      }
     },
     "29f58cb417ae47b8916686edd8b75cab": {
      "model_module": "@jupyter-widgets/output",
      "model_module_version": "1.0.0",
      "model_name": "OutputModel",
      "state": {
       "layout": "IPY_MODEL_6cf334e6eab34f54b38c08aafd82b948"
      }
     },
     "2a719430b7864552b1d8c15679020e60": {
      "model_module": "@jupyter-widgets/base",
      "model_module_version": "2.0.0",
      "model_name": "LayoutModel",
      "state": {}
     },
     "2a830583ab0c47fcad2ddb15d98fad03": {
      "model_module": "@jupyter-widgets/controls",
      "model_module_version": "2.0.0",
      "model_name": "CheckboxModel",
      "state": {
       "description": "foam roll",
       "disabled": false,
       "indent": false,
       "layout": "IPY_MODEL_257d213bd05645b8976c1a5bdb092cf7",
       "style": "IPY_MODEL_c4d42ff4c12345298c3e8ae565a7b392",
       "value": false
      }
     },
     "2b38139aa32f416e8dd1ebe5f900c7a1": {
      "model_module": "@jupyter-widgets/controls",
      "model_module_version": "2.0.0",
      "model_name": "ButtonStyleModel",
      "state": {
       "font_family": null,
       "font_size": null,
       "font_style": null,
       "font_variant": null,
       "font_weight": null,
       "text_color": null,
       "text_decoration": null
      }
     },
     "2b475888e8df4505991ace828330b5bb": {
      "model_module": "@jupyter-widgets/base",
      "model_module_version": "2.0.0",
      "model_name": "LayoutModel",
      "state": {
       "height": "55px",
       "width": "120px"
      }
     },
     "2b586c88a85d4411a999f0a4a6599c81": {
      "model_module": "@jupyter-widgets/base",
      "model_module_version": "2.0.0",
      "model_name": "LayoutModel",
      "state": {}
     },
     "2bdbbb8c8c554fab9f1935e96371e30f": {
      "model_module": "@jupyter-widgets/base",
      "model_module_version": "2.0.0",
      "model_name": "LayoutModel",
      "state": {}
     },
     "2beca53915df43ce9c372299f497fab0": {
      "model_module": "@jupyter-widgets/controls",
      "model_module_version": "2.0.0",
      "model_name": "VBoxModel",
      "state": {
       "children": [
        "IPY_MODEL_4decee9f8cfb47d98bf2d83143bb8785",
        "IPY_MODEL_7432d5e909a244918fe3d9ab378e2aac"
       ],
       "layout": "IPY_MODEL_9e4acd74f2214b4397dc2eafe912c415"
      }
     },
     "2c00a75f698d4890af209ff2cb5b72a1": {
      "model_module": "@jupyter-widgets/base",
      "model_module_version": "2.0.0",
      "model_name": "LayoutModel",
      "state": {
       "height": "40px",
       "width": "160px"
      }
     },
     "2c12472e0d694cf895a4c7b6123a76d3": {
      "model_module": "@jupyter-widgets/controls",
      "model_module_version": "2.0.0",
      "model_name": "HTMLStyleModel",
      "state": {
       "description_width": "",
       "font_size": null,
       "text_color": null
      }
     },
     "2c1bcfa68e684b139af7a37581b42985": {
      "model_module": "@jupyter-widgets/controls",
      "model_module_version": "2.0.0",
      "model_name": "ButtonModel",
      "state": {
       "description": "Clear",
       "layout": "IPY_MODEL_d07cd317d04142bf9abd3ee1cae9b533",
       "style": "IPY_MODEL_587445deb625425d9c8178625605b124",
       "tooltip": null
      }
     },
     "2c1cb109f81046049c85ce2bc71136f8": {
      "model_module": "@jupyter-widgets/controls",
      "model_module_version": "2.0.0",
      "model_name": "HTMLStyleModel",
      "state": {
       "description_width": "",
       "font_size": null,
       "text_color": null
      }
     },
     "2c5224481319470380fbe1c620f3a699": {
      "model_module": "@jupyter-widgets/base",
      "model_module_version": "2.0.0",
      "model_name": "LayoutModel",
      "state": {}
     },
     "2c826d00b9094f288ae6bf7425c91895": {
      "model_module": "@jupyter-widgets/controls",
      "model_module_version": "2.0.0",
      "model_name": "ButtonModel",
      "state": {
       "description": "Instruction",
       "icon": "comment",
       "layout": "IPY_MODEL_2481f557e8144ae988573da50082513a",
       "style": "IPY_MODEL_c6e052102fb74f76860dfd9dde368a53",
       "tooltip": "863"
      }
     },
     "2c9c401c1a674f32b17bef68a0e1fdd3": {
      "model_module": "@jupyter-widgets/controls",
      "model_module_version": "2.0.0",
      "model_name": "VBoxModel",
      "state": {
       "children": [
        "IPY_MODEL_7849216418ae4162988f57c9ef0ec7ba",
        "IPY_MODEL_eb2ce44bc9274851871a9c2cfa29d168"
       ],
       "layout": "IPY_MODEL_4f9d518a9d914fe79b601e8790905cdc"
      }
     },
     "2c9f1b4d2c4d493eaad56f07205a9495": {
      "model_module": "@jupyter-widgets/base",
      "model_module_version": "2.0.0",
      "model_name": "LayoutModel",
      "state": {}
     },
     "2d2670c0dcc14e63a701854014d21233": {
      "model_module": "@jupyter-widgets/controls",
      "model_module_version": "2.0.0",
      "model_name": "ButtonStyleModel",
      "state": {
       "font_family": null,
       "font_size": null,
       "font_style": null,
       "font_variant": null,
       "font_weight": null,
       "text_color": null,
       "text_decoration": null
      }
     },
     "2d3913a55fed49b69edb78951b919bad": {
      "model_module": "@jupyter-widgets/controls",
      "model_module_version": "2.0.0",
      "model_name": "HTMLStyleModel",
      "state": {
       "description_width": "",
       "font_size": null,
       "text_color": null
      }
     },
     "2d409978fd664d399360e45ebf2867d2": {
      "model_module": "@jupyter-widgets/controls",
      "model_module_version": "2.0.0",
      "model_name": "ButtonModel",
      "state": {
       "description": "Instruction",
       "icon": "comment",
       "layout": "IPY_MODEL_e4045e8a7f2d4d78b7ac2246eeff3098",
       "style": "IPY_MODEL_7f52367221d64497b847ba30084b115d",
       "tooltip": "803"
      }
     },
     "2d418d57080847f2b5402257f27c5f0e": {
      "model_module": "@jupyter-widgets/controls",
      "model_module_version": "2.0.0",
      "model_name": "ButtonStyleModel",
      "state": {
       "font_family": null,
       "font_size": null,
       "font_style": null,
       "font_variant": null,
       "font_weight": null,
       "text_color": null,
       "text_decoration": null
      }
     },
     "2d7f7cd62f43405db965817e53f31151": {
      "model_module": "@jupyter-widgets/controls",
      "model_module_version": "2.0.0",
      "model_name": "ButtonStyleModel",
      "state": {
       "font_family": null,
       "font_size": null,
       "font_style": null,
       "font_variant": null,
       "font_weight": null,
       "text_color": null,
       "text_decoration": null
      }
     },
     "2d9084552bac47bbba5c5ad2fe813b02": {
      "model_module": "@jupyter-widgets/base",
      "model_module_version": "2.0.0",
      "model_name": "LayoutModel",
      "state": {
       "height": "40px",
       "width": "160px"
      }
     },
     "2d9dae6cb242443fb85e54474d892643": {
      "model_module": "@jupyter-widgets/controls",
      "model_module_version": "2.0.0",
      "model_name": "VBoxModel",
      "state": {
       "children": [
        "IPY_MODEL_e806f86b3f5a40df813e0511a6ddf635",
        "IPY_MODEL_d50243cf457340fc969e7ad111e74d06"
       ],
       "layout": "IPY_MODEL_fd12b8ec29a44e42a38a680e45a5f5b7"
      }
     },
     "2dc44741b0854938a9ad26ec76a0f81d": {
      "model_module": "@jupyter-widgets/base",
      "model_module_version": "2.0.0",
      "model_name": "LayoutModel",
      "state": {
       "height": "55px",
       "width": "120px"
      }
     },
     "2dd5c677423a4dca911be900f58e92aa": {
      "model_module": "@jupyter-widgets/controls",
      "model_module_version": "2.0.0",
      "model_name": "VBoxModel",
      "state": {
       "children": [
        "IPY_MODEL_6be647aaf59d46cbba1468960e619d8e"
       ],
       "layout": "IPY_MODEL_0e4e4b93a2604091ba3f75862f4e458f"
      }
     },
     "2de6af8786d94a04831f8d2c711802a5": {
      "model_module": "@jupyter-widgets/base",
      "model_module_version": "2.0.0",
      "model_name": "LayoutModel",
      "state": {
       "height": "40px",
       "width": "160px"
      }
     },
     "2deac4a4971445f4855738bb818dc3d9": {
      "model_module": "@jupyter-widgets/controls",
      "model_module_version": "2.0.0",
      "model_name": "HBoxModel",
      "state": {
       "children": [
        "IPY_MODEL_288b8e582bea4a0ab83ef3c7df2210e6"
       ],
       "layout": "IPY_MODEL_00e73898504446f5932ccfaea1d6501e"
      }
     },
     "2def17c6deeb4492902fa383d8cd1229": {
      "model_module": "@jupyter-widgets/controls",
      "model_module_version": "2.0.0",
      "model_name": "ButtonStyleModel",
      "state": {
       "font_family": null,
       "font_size": null,
       "font_style": null,
       "font_variant": null,
       "font_weight": null,
       "text_color": null,
       "text_decoration": null
      }
     },
     "2def57b0eb7444088629a4147d9c890a": {
      "model_module": "@jupyter-widgets/controls",
      "model_module_version": "2.0.0",
      "model_name": "CheckboxStyleModel",
      "state": {
       "description_width": ""
      }
     },
     "2df2dc5623244466989f3d24ed1ef6ce": {
      "model_module": "@jupyter-widgets/controls",
      "model_module_version": "2.0.0",
      "model_name": "HBoxModel",
      "state": {
       "children": [
        "IPY_MODEL_3c1cbc5f81e1465393d8e1ef3de741a4"
       ],
       "layout": "IPY_MODEL_7581cfefdb7043c9b793d2af65d2f739"
      }
     },
     "2e51066d2c474ebd81c97baef8929d07": {
      "model_module": "@jupyter-widgets/controls",
      "model_module_version": "2.0.0",
      "model_name": "ButtonStyleModel",
      "state": {
       "font_family": null,
       "font_size": null,
       "font_style": null,
       "font_variant": null,
       "font_weight": null,
       "text_color": null,
       "text_decoration": null
      }
     },
     "2e67918fe8b44417a0a7c64cfac2ad54": {
      "model_module": "@jupyter-widgets/controls",
      "model_module_version": "2.0.0",
      "model_name": "CheckboxStyleModel",
      "state": {
       "description_width": ""
      }
     },
     "2e6d27bf95ea413baa7731479298ba4f": {
      "model_module": "@jupyter-widgets/base",
      "model_module_version": "2.0.0",
      "model_name": "LayoutModel",
      "state": {
       "height": "120px",
       "width": "100px"
      }
     },
     "2eec4b1947b74af197cfd60007dae5a4": {
      "model_module": "@jupyter-widgets/base",
      "model_module_version": "2.0.0",
      "model_name": "LayoutModel",
      "state": {}
     },
     "2efa27f8ed0440c8b37b15e5563fa35e": {
      "model_module": "@jupyter-widgets/controls",
      "model_module_version": "2.0.0",
      "model_name": "ButtonStyleModel",
      "state": {
       "font_family": null,
       "font_size": null,
       "font_style": null,
       "font_variant": null,
       "font_weight": null,
       "text_color": null,
       "text_decoration": null
      }
     },
     "2f149ea304c248ee8b3f6078740caaf7": {
      "model_module": "@jupyter-widgets/controls",
      "model_module_version": "2.0.0",
      "model_name": "HTMLModel",
      "state": {
       "layout": "IPY_MODEL_f1af40014f7a4e0cb51a1e6ddebe3594",
       "style": "IPY_MODEL_cb3783b3b8d643149941431308880b13",
       "value": "<h3>Lower_Body</h3>"
      }
     },
     "2f17778f237e40a1b27929a62a617537": {
      "model_module": "@jupyter-widgets/controls",
      "model_module_version": "2.0.0",
      "model_name": "HTMLStyleModel",
      "state": {
       "description_width": "",
       "font_size": null,
       "text_color": null
      }
     },
     "2f2ce21f1b7d445bb48f63d92974c758": {
      "model_module": "@jupyter-widgets/controls",
      "model_module_version": "2.0.0",
      "model_name": "HBoxModel",
      "state": {
       "children": [
        "IPY_MODEL_a3aab89922ba452db6b6076398206141"
       ],
       "layout": "IPY_MODEL_458d6cdda6954ed2afba5d95344aa566"
      }
     },
     "2f452728837b4374af0d8086e2686fbb": {
      "model_module": "@jupyter-widgets/base",
      "model_module_version": "2.0.0",
      "model_name": "LayoutModel",
      "state": {
       "align_items": "stretch",
       "display": "flex",
       "flex_flow": "row",
       "justify_content": "space-around",
       "width": "40%"
      }
     },
     "2f78ef4058c548de9760e8aedb6bdf2d": {
      "model_module": "@jupyter-widgets/controls",
      "model_module_version": "2.0.0",
      "model_name": "VBoxModel",
      "state": {
       "children": [
        "IPY_MODEL_a213a970b0ff4200861b6372e25b7f53",
        "IPY_MODEL_e439071cec7a41f38bd40599e4fb11f2",
        "IPY_MODEL_5c9308f965de4f098a497f6e7027b12c",
        "IPY_MODEL_54f77723b1d94a1ca5d07ad192776dc1"
       ],
       "layout": "IPY_MODEL_2b586c88a85d4411a999f0a4a6599c81"
      }
     },
     "2f95146a18204868990610429be0f3ec": {
      "model_module": "@jupyter-widgets/controls",
      "model_module_version": "2.0.0",
      "model_name": "VBoxModel",
      "state": {
       "children": [
        "IPY_MODEL_bfb6f19aeead405a81c09a0bc2f6196c",
        "IPY_MODEL_d01c89c68c0d4e1cb6b0597e62fdd5f9"
       ],
       "layout": "IPY_MODEL_5f5f494de20a4eb59024e4adabb0f7db"
      }
     },
     "2fb38b34a82649b7a338b756abfbb800": {
      "model_module": "@jupyter-widgets/controls",
      "model_module_version": "2.0.0",
      "model_name": "VBoxModel",
      "state": {
       "children": [
        "IPY_MODEL_3482b5c03f0f4879929d58b4b655dd5c",
        "IPY_MODEL_abcd54d8538742c3b7816c5a00e1d672"
       ],
       "layout": "IPY_MODEL_dd5ee18a0d384fb1a931ded97999f56e"
      }
     },
     "301d298de0344af4b2352b95cab6047a": {
      "model_module": "@jupyter-widgets/base",
      "model_module_version": "2.0.0",
      "model_name": "LayoutModel",
      "state": {
       "height": "40px",
       "width": "160px"
      }
     },
     "30afbca1f19b4d54bb8e871d34102548": {
      "model_module": "@jupyter-widgets/controls",
      "model_module_version": "2.0.0",
      "model_name": "ButtonStyleModel",
      "state": {
       "font_family": null,
       "font_size": null,
       "font_style": null,
       "font_variant": null,
       "font_weight": null,
       "text_color": null,
       "text_decoration": null
      }
     },
     "30e24e427c694519b14796721baf3e59": {
      "model_module": "@jupyter-widgets/controls",
      "model_module_version": "2.0.0",
      "model_name": "CheckboxModel",
      "state": {
       "description": "powerlifting",
       "disabled": false,
       "indent": false,
       "layout": "IPY_MODEL_242e916a6ef845a98282efe81e39cd41",
       "style": "IPY_MODEL_95f4a7334d9d4b06a6b67f8bd5363c90",
       "value": true
      }
     },
     "310baba5b3e6472ab37db947962975aa": {
      "model_module": "@jupyter-widgets/controls",
      "model_module_version": "2.0.0",
      "model_name": "ButtonModel",
      "state": {
       "description": "Exit",
       "layout": "IPY_MODEL_38b4fa19d4394504bf6ada380fb99565",
       "style": "IPY_MODEL_403ca557863443bb85dfe88c3f5436d2",
       "tooltip": null
      }
     },
     "31275b05abb24ae8bf0ee71a74bf52b5": {
      "model_module": "@jupyter-widgets/controls",
      "model_module_version": "2.0.0",
      "model_name": "ButtonStyleModel",
      "state": {
       "font_family": null,
       "font_size": null,
       "font_style": null,
       "font_variant": null,
       "font_weight": null,
       "text_color": null,
       "text_decoration": null
      }
     },
     "316db072d9a74beca45834defb599e67": {
      "model_module": "@jupyter-widgets/base",
      "model_module_version": "2.0.0",
      "model_name": "LayoutModel",
      "state": {
       "height": "40px",
       "width": "160px"
      }
     },
     "319e2a4ef94f45ac9f285ae64fbf182f": {
      "model_module": "@jupyter-widgets/controls",
      "model_module_version": "2.0.0",
      "model_name": "VBoxModel",
      "state": {
       "children": [
        "IPY_MODEL_3c1e4a6bd38e414d9396aa39c9a751b0",
        "IPY_MODEL_377ce9f38c694e2ba61eaa159e426131",
        "IPY_MODEL_0e37b65b888f4ecdab4be86f4daf03cd"
       ],
       "layout": "IPY_MODEL_7d6d77f9616640f8b6fc37d930ed30d0"
      }
     },
     "31a9507c96b74c7abcd3c7d2cc93416a": {
      "model_module": "@jupyter-widgets/base",
      "model_module_version": "2.0.0",
      "model_name": "LayoutModel",
      "state": {}
     },
     "31cd3bdc0c594d1f8e416c48c4fd4b19": {
      "model_module": "@jupyter-widgets/base",
      "model_module_version": "2.0.0",
      "model_name": "LayoutModel",
      "state": {}
     },
     "3215b84088104fce90d1c8a7a987bfd5": {
      "model_module": "@jupyter-widgets/controls",
      "model_module_version": "2.0.0",
      "model_name": "BoxModel",
      "state": {
       "children": [
        "IPY_MODEL_e51f615b4e1c4aaaad26769c69a2f666",
        "IPY_MODEL_d54ed84e74664b81ae8278817bbd930b"
       ],
       "layout": "IPY_MODEL_aaf71d72b7554462b5740000d30746b0"
      }
     },
     "324eb61fcd0b4840b9da9a995c7ceddd": {
      "model_module": "@jupyter-widgets/controls",
      "model_module_version": "2.0.0",
      "model_name": "VBoxModel",
      "state": {
       "children": [
        "IPY_MODEL_3996979445ff4413a687ea416ceb623f",
        "IPY_MODEL_d7ae85b84def4cd28fc04eb7bdad0649",
        "IPY_MODEL_5ee18c4b71d2489bb6b8bf60e94899c8",
        "IPY_MODEL_9bb8020ef63941fe865f66c69334a6e3"
       ],
       "layout": "IPY_MODEL_5149c013de7c403ebf8ca3e3afcaaa81"
      }
     },
     "3253f502288d43e592727b186181dc32": {
      "model_module": "@jupyter-widgets/controls",
      "model_module_version": "2.0.0",
      "model_name": "ButtonModel",
      "state": {
       "description": "Ex Category",
       "layout": "IPY_MODEL_96fe556edf274bc9b8f099b4f683ad64",
       "style": "IPY_MODEL_a3df80c6c9d64291a8e384fbd3c3c753",
       "tooltip": null
      }
     },
     "32aa5bba8b4942728fc523420d2d976f": {
      "model_module": "@jupyter-widgets/controls",
      "model_module_version": "2.0.0",
      "model_name": "ButtonStyleModel",
      "state": {
       "font_family": null,
       "font_size": null,
       "font_style": null,
       "font_variant": null,
       "font_weight": null,
       "text_color": null,
       "text_decoration": null
      }
     },
     "3328365e8ac445c5ae85db5ae2892f3c": {
      "model_module": "@jupyter-widgets/controls",
      "model_module_version": "2.0.0",
      "model_name": "BoxModel",
      "state": {
       "children": [
        "IPY_MODEL_bbc7f84f216d4222a81e9343ef5378b7",
        "IPY_MODEL_b69c4ce461404e16ab8915c0e63d3739"
       ],
       "layout": "IPY_MODEL_66e06e9d1013495fbcec7b27e4165ae2"
      }
     },
     "332f859139734ef5b1c034044f5e5d6a": {
      "model_module": "@jupyter-widgets/controls",
      "model_module_version": "2.0.0",
      "model_name": "ButtonStyleModel",
      "state": {
       "font_family": null,
       "font_size": null,
       "font_style": null,
       "font_variant": null,
       "font_weight": null,
       "text_color": null,
       "text_decoration": null
      }
     },
     "333a0dcade9c4ac7afbb1a3c4c1a57a5": {
      "model_module": "@jupyter-widgets/controls",
      "model_module_version": "2.0.0",
      "model_name": "CheckboxStyleModel",
      "state": {
       "description_width": ""
      }
     },
     "33442af9b52f47a684cf8b3327bb4a99": {
      "model_module": "@jupyter-widgets/base",
      "model_module_version": "2.0.0",
      "model_name": "LayoutModel",
      "state": {}
     },
     "33511fe6cd604e36996748d002aa0ad2": {
      "model_module": "@jupyter-widgets/base",
      "model_module_version": "2.0.0",
      "model_name": "LayoutModel",
      "state": {}
     },
     "3391601af382484d963d7f73437dc333": {
      "model_module": "@jupyter-widgets/base",
      "model_module_version": "2.0.0",
      "model_name": "LayoutModel",
      "state": {}
     },
     "33b6c5b0d3e947638c0b8115206e680d": {
      "model_module": "@jupyter-widgets/base",
      "model_module_version": "2.0.0",
      "model_name": "LayoutModel",
      "state": {}
     },
     "33cff3f57add4233a045786b007fd442": {
      "model_module": "@jupyter-widgets/controls",
      "model_module_version": "2.0.0",
      "model_name": "VBoxModel",
      "state": {
       "children": [
        "IPY_MODEL_56ec4291ceae46c7be0fc1f1d154ac8f",
        "IPY_MODEL_73f5678b8d84422984576964ed366f79"
       ],
       "layout": "IPY_MODEL_ab9809902144403daa7cacc77e211b68"
      }
     },
     "3405f6aca7724f58911d50f317778840": {
      "model_module": "@jupyter-widgets/controls",
      "model_module_version": "2.0.0",
      "model_name": "ButtonModel",
      "state": {
       "description": "Close",
       "layout": "IPY_MODEL_bfea842ea77d49bbb4d5e5ecd6eaeef8",
       "style": "IPY_MODEL_8fcc1a3ad37e44dea9290bb5941917d6",
       "tooltip": null
      }
     },
     "340ee7136a194a53839a91af9cea7eed": {
      "model_module": "@jupyter-widgets/controls",
      "model_module_version": "2.0.0",
      "model_name": "HBoxModel",
      "state": {
       "children": [
        "IPY_MODEL_db773482617b4379859d89a5d03b00b8"
       ],
       "layout": "IPY_MODEL_756231cbea2f486b8d9fe1f96d63afa3"
      }
     },
     "343c2b2737ba490c8894336b050177d6": {
      "model_module": "@jupyter-widgets/base",
      "model_module_version": "2.0.0",
      "model_name": "LayoutModel",
      "state": {}
     },
     "3482b5c03f0f4879929d58b4b655dd5c": {
      "model_module": "@jupyter-widgets/controls",
      "model_module_version": "2.0.0",
      "model_name": "HTMLModel",
      "state": {
       "layout": "IPY_MODEL_0174a39d3eb643e193a9a199ae162a9f",
       "style": "IPY_MODEL_fc44e3e11fcc4c16827c346d4320dcbe",
       "value": "One-Arm Medicine Ball Slam"
      }
     },
     "34e0595c63dc4a96aa598624dc179477": {
      "model_module": "@jupyter-widgets/base",
      "model_module_version": "2.0.0",
      "model_name": "LayoutModel",
      "state": {
       "height": "55px",
       "width": "80px"
      }
     },
     "352db89efbc24601954007843cd88ea1": {
      "model_module": "@jupyter-widgets/controls",
      "model_module_version": "2.0.0",
      "model_name": "VBoxModel",
      "state": {
       "children": [
        "IPY_MODEL_7944a9b34c0243298cc8dc999ddf6280",
        "IPY_MODEL_4e64b99da5b64c2f9cb673b0051182d3",
        "IPY_MODEL_03d6d79871e446538dc04081f5bed8db"
       ],
       "layout": "IPY_MODEL_1061cf3787cd47dd8ef16d306e3dabbb"
      }
     },
     "3547478cab9743b1965af441cb386f37": {
      "model_module": "@jupyter-widgets/controls",
      "model_module_version": "2.0.0",
      "model_name": "CheckboxModel",
      "state": {
       "description": "machine",
       "disabled": false,
       "indent": false,
       "layout": "IPY_MODEL_38a658d6f64b4ea5b91fb5ce9837fcea",
       "style": "IPY_MODEL_9df188b245a4438eaedad133871ea56a",
       "value": false
      }
     },
     "3547c09d23a6490db87ff733448f26e0": {
      "model_module": "@jupyter-widgets/controls",
      "model_module_version": "2.0.0",
      "model_name": "HBoxModel",
      "state": {
       "children": [
        "IPY_MODEL_13e57b62f6ae4e80b7183a2c82e4e2aa"
       ],
       "layout": "IPY_MODEL_8bffb38724aa4efa81df966e8ff159e9"
      }
     },
     "35563471330e4d08b92105d83240c4ed": {
      "model_module": "@jupyter-widgets/controls",
      "model_module_version": "2.0.0",
      "model_name": "ButtonStyleModel",
      "state": {
       "font_family": null,
       "font_size": null,
       "font_style": null,
       "font_variant": null,
       "font_weight": null,
       "text_color": null,
       "text_decoration": null
      }
     },
     "356ee50ca8be43899560836f22632e92": {
      "model_module": "@jupyter-widgets/base",
      "model_module_version": "2.0.0",
      "model_name": "LayoutModel",
      "state": {
       "height": "40px",
       "width": "160px"
      }
     },
     "35971a0b2c2347f0900b3f7fe68c5b78": {
      "model_module": "@jupyter-widgets/controls",
      "model_module_version": "2.0.0",
      "model_name": "CheckboxModel",
      "state": {
       "description": "strength",
       "disabled": false,
       "indent": false,
       "layout": "IPY_MODEL_b492a46dfc654a61b483d0c47b88fa9b",
       "style": "IPY_MODEL_a5e66d42748545aaaa668114960d7af6",
       "value": true
      }
     },
     "35f17fff6877478abe5db12f07ecb49a": {
      "model_module": "@jupyter-widgets/base",
      "model_module_version": "2.0.0",
      "model_name": "LayoutModel",
      "state": {
       "height": "120px",
       "width": "100px"
      }
     },
     "35fde9aa780a4b218871bd270262bdcf": {
      "model_module": "@jupyter-widgets/controls",
      "model_module_version": "2.0.0",
      "model_name": "VBoxModel",
      "state": {
       "children": [
        "IPY_MODEL_823f6a5d0e0c454d99c9a7a9debc8f70",
        "IPY_MODEL_8da33011de254a0cb8d52b05211154d2"
       ],
       "layout": "IPY_MODEL_4febeec7295d47b98bca98712f7d2f27"
      }
     },
     "3627e3898bef461a976dab524efe448c": {
      "model_module": "@jupyter-widgets/controls",
      "model_module_version": "2.0.0",
      "model_name": "ButtonModel",
      "state": {
       "description": "Instruction",
       "icon": "comment",
       "layout": "IPY_MODEL_452acb994dc944818ac29b2c31aae0a0",
       "style": "IPY_MODEL_59c3bafad067448883be1e34279240af",
       "tooltip": "618"
      }
     },
     "3660f5e6b65e442d8b603b3b60f9c66a": {
      "model_module": "@jupyter-widgets/controls",
      "model_module_version": "2.0.0",
      "model_name": "HTMLStyleModel",
      "state": {
       "description_width": "",
       "font_size": null,
       "text_color": null
      }
     },
     "3689fe586ded4127b24754232a76fb44": {
      "model_module": "@jupyter-widgets/controls",
      "model_module_version": "2.0.0",
      "model_name": "ButtonModel",
      "state": {
       "description": "Instruction",
       "icon": "comment",
       "layout": "IPY_MODEL_b2c2924322354ca0a6e9ee0c936a4664",
       "style": "IPY_MODEL_6682e2f6d94b4f6499f381b037058030",
       "tooltip": "154"
      }
     },
     "369223b537f44f50976c636fcbef924d": {
      "model_module": "@jupyter-widgets/base",
      "model_module_version": "2.0.0",
      "model_name": "LayoutModel",
      "state": {
       "height": "40px",
       "width": "160px"
      }
     },
     "36c6143b4cdd4635a8e9bcdb40c7f5ac": {
      "model_module": "@jupyter-widgets/base",
      "model_module_version": "2.0.0",
      "model_name": "LayoutModel",
      "state": {
       "align_items": "stretch",
       "display": "flex",
       "flex_flow": "row",
       "justify_content": "space-around",
       "width": "70%"
      }
     },
     "36f4a097ab2545fa80e6e57ab160066d": {
      "model_module": "@jupyter-widgets/base",
      "model_module_version": "2.0.0",
      "model_name": "LayoutModel",
      "state": {}
     },
     "37124c742017491599627119de295b19": {
      "model_module": "@jupyter-widgets/base",
      "model_module_version": "2.0.0",
      "model_name": "LayoutModel",
      "state": {
       "height": "55px",
       "width": "80px"
      }
     },
     "374309dfcbc044ffb0904222ebf3508b": {
      "model_module": "@jupyter-widgets/controls",
      "model_module_version": "2.0.0",
      "model_name": "ButtonModel",
      "state": {
       "description": "Instruction",
       "icon": "comment",
       "layout": "IPY_MODEL_4d39d5a778e5422dbe8633568a5a51b7",
       "style": "IPY_MODEL_56d273652f7c44d381a04325c22cbedf",
       "tooltip": "155"
      }
     },
     "377ce9f38c694e2ba61eaa159e426131": {
      "model_module": "@jupyter-widgets/controls",
      "model_module_version": "2.0.0",
      "model_name": "CheckboxModel",
      "state": {
       "description": "cardio",
       "disabled": false,
       "indent": false,
       "layout": "IPY_MODEL_dddc96991fd64677b03e53e78da08410",
       "style": "IPY_MODEL_921c6dac597a4562a42e27b2acac6ab2",
       "value": true
      }
     },
     "379600861a704195a9f48cd7d0944365": {
      "model_module": "@jupyter-widgets/controls",
      "model_module_version": "2.0.0",
      "model_name": "VBoxModel",
      "state": {
       "children": [
        "IPY_MODEL_ce78d7f121974c67baab249f74f70285",
        "IPY_MODEL_d01c89c68c0d4e1cb6b0597e62fdd5f9"
       ],
       "layout": "IPY_MODEL_ce86f97c3c654efdad1368e1194c2a3e"
      }
     },
     "37cb8d9ff9fb41e1bb19e5bda0ddda2f": {
      "model_module": "@jupyter-widgets/base",
      "model_module_version": "2.0.0",
      "model_name": "LayoutModel",
      "state": {}
     },
     "37d745e95e3a400d8605211566243e28": {
      "model_module": "@jupyter-widgets/base",
      "model_module_version": "2.0.0",
      "model_name": "LayoutModel",
      "state": {}
     },
     "37dd32988e4b461da34e11ccb758971d": {
      "model_module": "@jupyter-widgets/base",
      "model_module_version": "2.0.0",
      "model_name": "LayoutModel",
      "state": {}
     },
     "37e24fdf1d7d472fa11096d0572faa97": {
      "model_module": "@jupyter-widgets/output",
      "model_module_version": "1.0.0",
      "model_name": "OutputModel",
      "state": {
       "layout": "IPY_MODEL_4c3b76875f1e401b8ebab004cca0aaec",
       "outputs": [
        {
         "data": {
          "application/vnd.jupyter.widget-view+json": {
           "model_id": "a0a8c64d9d8b46bf8ae0a980ebc11b3f",
           "version_major": 2,
           "version_minor": 0
          },
          "text/plain": "VBox(children=(Box(children=(HBox(children=(HTML(value='<h1>Results</h1>'),)), Button(description='Close', lay…"
         },
         "metadata": {},
         "output_type": "display_data"
        }
       ]
      }
     },
     "37ee8695132d424faf10bbf08d8382a8": {
      "model_module": "@jupyter-widgets/controls",
      "model_module_version": "2.0.0",
      "model_name": "VBoxModel",
      "state": {
       "children": [
        "IPY_MODEL_0c3aab30dc27402894c7636256443936",
        "IPY_MODEL_863745cde71a4b86ab1e56883481f55c"
       ],
       "layout": "IPY_MODEL_d3baba3b23f94aa2823d8e2cc1291d4a"
      }
     },
     "381888f562f442d5aea5412fa1cf6160": {
      "model_module": "@jupyter-widgets/controls",
      "model_module_version": "2.0.0",
      "model_name": "VBoxModel",
      "state": {
       "children": [
        "IPY_MODEL_85011c82aba64027b49cccebf75c0da8",
        "IPY_MODEL_fbf6b78648d94a7da3d87975484b7c3d"
       ],
       "layout": "IPY_MODEL_850750b581f04d38993deb54f409793c"
      }
     },
     "3823d0448df84c9eae8ea69a064c7960": {
      "model_module": "@jupyter-widgets/base",
      "model_module_version": "2.0.0",
      "model_name": "LayoutModel",
      "state": {
       "height": "40px",
       "width": "160px"
      }
     },
     "383c5586d7294276874cf8df101454fb": {
      "model_module": "@jupyter-widgets/controls",
      "model_module_version": "2.0.0",
      "model_name": "HTMLStyleModel",
      "state": {
       "description_width": "",
       "font_size": null,
       "text_color": null
      }
     },
     "387c75c416be4267a68a40e4de67c7aa": {
      "model_module": "@jupyter-widgets/base",
      "model_module_version": "2.0.0",
      "model_name": "LayoutModel",
      "state": {
       "height": "40px",
       "width": "160px"
      }
     },
     "38800836a67e421f8f44e30f791e3a46": {
      "model_module": "@jupyter-widgets/controls",
      "model_module_version": "2.0.0",
      "model_name": "HTMLModel",
      "state": {
       "layout": "IPY_MODEL_a0f4ab0428b74cad8758bfef1654408b",
       "style": "IPY_MODEL_a3a18c15cbbd4a44a2007485f6cb962b",
       "value": "Supine One-Arm Overhead Throw"
      }
     },
     "388e81c46cbb43faabfd7c7d3922fa16": {
      "model_module": "@jupyter-widgets/controls",
      "model_module_version": "2.0.0",
      "model_name": "HTMLStyleModel",
      "state": {
       "description_width": "",
       "font_size": null,
       "text_color": null
      }
     },
     "38a658d6f64b4ea5b91fb5ce9837fcea": {
      "model_module": "@jupyter-widgets/base",
      "model_module_version": "2.0.0",
      "model_name": "LayoutModel",
      "state": {
       "height": "40px",
       "width": "160px"
      }
     },
     "38a7864a93c345a286d3c6c0a989ff11": {
      "model_module": "@jupyter-widgets/controls",
      "model_module_version": "2.0.0",
      "model_name": "ButtonStyleModel",
      "state": {
       "font_family": null,
       "font_size": null,
       "font_style": null,
       "font_variant": null,
       "font_weight": null,
       "text_color": null,
       "text_decoration": null
      }
     },
     "38b4fa19d4394504bf6ada380fb99565": {
      "model_module": "@jupyter-widgets/base",
      "model_module_version": "2.0.0",
      "model_name": "LayoutModel",
      "state": {
       "height": "120px",
       "width": "100px"
      }
     },
     "38ec51ab967c4efab2c4e194325dd21a": {
      "model_module": "@jupyter-widgets/base",
      "model_module_version": "2.0.0",
      "model_name": "LayoutModel",
      "state": {}
     },
     "3949372749dd427387c82862da6988dd": {
      "model_module": "@jupyter-widgets/base",
      "model_module_version": "2.0.0",
      "model_name": "LayoutModel",
      "state": {
       "height": "40px",
       "width": "160px"
      }
     },
     "394cd2b85519467fb34f4c7504430597": {
      "model_module": "@jupyter-widgets/base",
      "model_module_version": "2.0.0",
      "model_name": "LayoutModel",
      "state": {
       "height": "40px",
       "width": "160px"
      }
     },
     "3996979445ff4413a687ea416ceb623f": {
      "model_module": "@jupyter-widgets/controls",
      "model_module_version": "2.0.0",
      "model_name": "CheckboxModel",
      "state": {
       "description": "powerlifting",
       "disabled": false,
       "indent": false,
       "layout": "IPY_MODEL_a722b043faf14415832b94b65cacddda",
       "style": "IPY_MODEL_4cb3f978ee7741848d04e3218f04a338",
       "value": true
      }
     },
     "39af0a00f000407c92b3db653a9ea321": {
      "model_module": "@jupyter-widgets/controls",
      "model_module_version": "2.0.0",
      "model_name": "ButtonStyleModel",
      "state": {
       "font_family": null,
       "font_size": null,
       "font_style": null,
       "font_variant": null,
       "font_weight": null,
       "text_color": null,
       "text_decoration": null
      }
     },
     "3a435b9031984a3eb6a137f59d6290bc": {
      "model_module": "@jupyter-widgets/base",
      "model_module_version": "2.0.0",
      "model_name": "LayoutModel",
      "state": {
       "align_items": "stretch",
       "display": "flex",
       "flex_flow": "row",
       "justify_content": "space-around",
       "width": "40%"
      }
     },
     "3a55a18984c64f51b2508e6e063c41a0": {
      "model_module": "@jupyter-widgets/base",
      "model_module_version": "2.0.0",
      "model_name": "LayoutModel",
      "state": {}
     },
     "3a728211f1f644e6ab1d8048f0786a92": {
      "model_module": "@jupyter-widgets/base",
      "model_module_version": "2.0.0",
      "model_name": "LayoutModel",
      "state": {}
     },
     "3a7cef6073c84426a40bd88c9417db9f": {
      "model_module": "@jupyter-widgets/base",
      "model_module_version": "2.0.0",
      "model_name": "LayoutModel",
      "state": {}
     },
     "3a830350c6dd4d96a44043867b575ffd": {
      "model_module": "@jupyter-widgets/controls",
      "model_module_version": "2.0.0",
      "model_name": "BoxModel",
      "state": {
       "children": [
        "IPY_MODEL_41757abeaa7f4905bfdbdf9a5d254e6c",
        "IPY_MODEL_dd5e51b2662f42db92e559db5bc24d74"
       ],
       "layout": "IPY_MODEL_19ec69ac99c44e49a9f9d7ee47079fa2"
      }
     },
     "3a8b4e831b24435c83948adc49b0d444": {
      "model_module": "@jupyter-widgets/controls",
      "model_module_version": "2.0.0",
      "model_name": "CheckboxModel",
      "state": {
       "description": "olympic weightlifting",
       "disabled": false,
       "indent": false,
       "layout": "IPY_MODEL_2de6af8786d94a04831f8d2c711802a5",
       "style": "IPY_MODEL_c600e1fb7346425ab14fcec7c39eb1ed",
       "value": true
      }
     },
     "3a95835e093a45d6a9ec7c9aab80b4ef": {
      "model_module": "@jupyter-widgets/controls",
      "model_module_version": "2.0.0",
      "model_name": "CheckboxModel",
      "state": {
       "description": "barbell",
       "disabled": false,
       "indent": false,
       "layout": "IPY_MODEL_b394fa4223fe4bb8905b5512743f1d61",
       "style": "IPY_MODEL_8efe24d5cb654b38835f3a7e734233d0",
       "value": true
      }
     },
     "3ab6bbdc4db54a4eaed1ad45aca5e15a": {
      "model_module": "@jupyter-widgets/controls",
      "model_module_version": "2.0.0",
      "model_name": "CheckboxStyleModel",
      "state": {
       "description_width": ""
      }
     },
     "3b4abc1f0f0e496ca5164e965462b311": {
      "model_module": "@jupyter-widgets/controls",
      "model_module_version": "2.0.0",
      "model_name": "ButtonModel",
      "state": {
       "description": "Clear",
       "layout": "IPY_MODEL_9ad597df895b4fcc9802a9aba36223b1",
       "style": "IPY_MODEL_6a9b439e28b94ce69ae511ade60a8592",
       "tooltip": null
      }
     },
     "3b53bf2dcadc45de9009c13d643a3b8f": {
      "model_module": "@jupyter-widgets/base",
      "model_module_version": "2.0.0",
      "model_name": "LayoutModel",
      "state": {
       "height": "55px",
       "width": "120px"
      }
     },
     "3b7a3b00c78340b6bd0f6b48b7b83bf1": {
      "model_module": "@jupyter-widgets/base",
      "model_module_version": "2.0.0",
      "model_name": "LayoutModel",
      "state": {
       "height": "55px",
       "width": "80px"
      }
     },
     "3b7af6c808bc483599fe1eff43a97c7e": {
      "model_module": "@jupyter-widgets/base",
      "model_module_version": "2.0.0",
      "model_name": "LayoutModel",
      "state": {
       "height": "40px",
       "width": "160px"
      }
     },
     "3b8f594995044c559bd89efa88f05d62": {
      "model_module": "@jupyter-widgets/controls",
      "model_module_version": "2.0.0",
      "model_name": "ButtonModel",
      "state": {
       "description": "Instruction",
       "icon": "comment",
       "layout": "IPY_MODEL_6aeee58c8c684a7b8190e15cb5560367",
       "style": "IPY_MODEL_0d2163e4a9ed4011a587a87eda74f29d",
       "tooltip": "178"
      }
     },
     "3ba099ff3da44d8ea888f1a30ff9bf94": {
      "model_module": "@jupyter-widgets/base",
      "model_module_version": "2.0.0",
      "model_name": "LayoutModel",
      "state": {
       "height": "55px",
       "width": "80px"
      }
     },
     "3baca76349fa4cbdbe27fab4985d1845": {
      "model_module": "@jupyter-widgets/controls",
      "model_module_version": "2.0.0",
      "model_name": "VBoxModel",
      "state": {
       "children": [
        "IPY_MODEL_ebf61aa1eb9b454a8039095946745c16",
        "IPY_MODEL_be86bfa4639a456fb8b88ed685b8dd86",
        "IPY_MODEL_489069580f8b4ca584f5ebfabf50a5a8",
        "IPY_MODEL_6e46116ef6984c7cbf2b5852f58e0f4c"
       ],
       "layout": "IPY_MODEL_b730a053d77b4c2883713a179def472d"
      }
     },
     "3bf9f883198a422ea87601638f564ef2": {
      "model_module": "@jupyter-widgets/base",
      "model_module_version": "2.0.0",
      "model_name": "LayoutModel",
      "state": {}
     },
     "3c1cbc5f81e1465393d8e1ef3de741a4": {
      "model_module": "@jupyter-widgets/controls",
      "model_module_version": "2.0.0",
      "model_name": "HTMLModel",
      "state": {
       "layout": "IPY_MODEL_050c84d98b0a467eb52eb68575cba8df",
       "style": "IPY_MODEL_e2142d2a3c30410ab9f217b7e8390ace",
       "value": "<h3>Lower_Body</h3>"
      }
     },
     "3c1e4a6bd38e414d9396aa39c9a751b0": {
      "model_module": "@jupyter-widgets/controls",
      "model_module_version": "2.0.0",
      "model_name": "CheckboxModel",
      "state": {
       "description": "strength",
       "disabled": false,
       "indent": false,
       "layout": "IPY_MODEL_cd326ad3825a40e38124bdb74d9258b8",
       "style": "IPY_MODEL_2944f6c6bd0549b1ae8bcef72e0e6e2f",
       "value": true
      }
     },
     "3c335804cd6d4dec83fefb39c92a2d1a": {
      "model_module": "@jupyter-widgets/base",
      "model_module_version": "2.0.0",
      "model_name": "LayoutModel",
      "state": {}
     },
     "3c5431b6b7cd4f23bf29dcfd94aa6ac0": {
      "model_module": "@jupyter-widgets/controls",
      "model_module_version": "2.0.0",
      "model_name": "ButtonStyleModel",
      "state": {
       "font_family": null,
       "font_size": null,
       "font_style": null,
       "font_variant": null,
       "font_weight": null,
       "text_color": null,
       "text_decoration": null
      }
     },
     "3c8d0759b3bf4a4db4104b932c657d4b": {
      "model_module": "@jupyter-widgets/controls",
      "model_module_version": "2.0.0",
      "model_name": "ButtonModel",
      "state": {
       "description": "Run",
       "layout": "IPY_MODEL_416539ae24f04af2a170d44aab09c7d7",
       "style": "IPY_MODEL_afbdc3defb704524a922868f13c246ae",
       "tooltip": null
      }
     },
     "3c9be6567a1c47e9924658d8d77feec3": {
      "model_module": "@jupyter-widgets/controls",
      "model_module_version": "2.0.0",
      "model_name": "CheckboxModel",
      "state": {
       "description": "powerlifting",
       "disabled": false,
       "indent": false,
       "layout": "IPY_MODEL_b355e4ba3bd445e3a7118babd2779614",
       "style": "IPY_MODEL_4a54c77a56bb438390a52078963928b5",
       "value": true
      }
     },
     "3cb742353dc949c78309d68992556406": {
      "model_module": "@jupyter-widgets/base",
      "model_module_version": "2.0.0",
      "model_name": "LayoutModel",
      "state": {}
     },
     "3cbbe11b359347949dfa767864009e39": {
      "model_module": "@jupyter-widgets/controls",
      "model_module_version": "2.0.0",
      "model_name": "HTMLModel",
      "state": {
       "layout": "IPY_MODEL_df6b17dc919f47739b347c29147a47c5",
       "style": "IPY_MODEL_521c5e08b04c4e468a89db1894333138",
       "value": "<h3>Upper Body</h3>"
      }
     },
     "3d204e2677464c26b0b83d995a918b20": {
      "model_module": "@jupyter-widgets/base",
      "model_module_version": "2.0.0",
      "model_name": "LayoutModel",
      "state": {}
     },
     "3d42fe8213064536bf763513b4ea4ad9": {
      "model_module": "@jupyter-widgets/base",
      "model_module_version": "2.0.0",
      "model_name": "LayoutModel",
      "state": {
       "height": "40px",
       "width": "160px"
      }
     },
     "3da0380b1f994726a8c30d42294b4bbe": {
      "model_module": "@jupyter-widgets/base",
      "model_module_version": "2.0.0",
      "model_name": "LayoutModel",
      "state": {}
     },
     "3dc52e3fcebd49a2b1a645ec57110b40": {
      "model_module": "@jupyter-widgets/controls",
      "model_module_version": "2.0.0",
      "model_name": "CheckboxModel",
      "state": {
       "description": "kettlebells",
       "disabled": false,
       "indent": false,
       "layout": "IPY_MODEL_4f9627abca7d4d02bba34de1c2eda094",
       "style": "IPY_MODEL_6119c0f6d6cb421681e5aa6e60e8ea23",
       "value": false
      }
     },
     "3e0b337f513449dbaa54decafae7a372": {
      "model_module": "@jupyter-widgets/controls",
      "model_module_version": "2.0.0",
      "model_name": "ButtonModel",
      "state": {
       "description": "Instruction",
       "icon": "comment",
       "layout": "IPY_MODEL_d45cd388a9644db79fb37c570f7a7e10",
       "style": "IPY_MODEL_38a7864a93c345a286d3c6c0a989ff11",
       "tooltip": "1"
      }
     },
     "3e2f5013cd1842009ee40dc7ab74832b": {
      "model_module": "@jupyter-widgets/base",
      "model_module_version": "2.0.0",
      "model_name": "LayoutModel",
      "state": {}
     },
     "3e74d62c5bce4d5e8154db92e23a357a": {
      "model_module": "@jupyter-widgets/controls",
      "model_module_version": "2.0.0",
      "model_name": "CheckboxModel",
      "state": {
       "description": "bands",
       "disabled": false,
       "indent": false,
       "layout": "IPY_MODEL_b90bdef2970c46aaba921e8a0f7fabd6",
       "style": "IPY_MODEL_b687de3ced8a4b119877157897ea1f7e",
       "value": false
      }
     },
     "3e7c9feab5b3478b9ebb56408780bf55": {
      "model_module": "@jupyter-widgets/controls",
      "model_module_version": "2.0.0",
      "model_name": "VBoxModel",
      "state": {
       "children": [
        "IPY_MODEL_b6e5bd2cc76c434596b2780cff7b83ba",
        "IPY_MODEL_3689fe586ded4127b24754232a76fb44"
       ],
       "layout": "IPY_MODEL_ee56b0151ad0453ba205e80172863f54"
      }
     },
     "3e873db425004012802fe2c2909c0c8d": {
      "model_module": "@jupyter-widgets/base",
      "model_module_version": "2.0.0",
      "model_name": "LayoutModel",
      "state": {}
     },
     "3ee26a3200df4e2e9cca5f0239391ac6": {
      "model_module": "@jupyter-widgets/base",
      "model_module_version": "2.0.0",
      "model_name": "LayoutModel",
      "state": {}
     },
     "3f4542eac65448e4a54c5d6a03435021": {
      "model_module": "@jupyter-widgets/base",
      "model_module_version": "2.0.0",
      "model_name": "LayoutModel",
      "state": {
       "height": "40px",
       "width": "160px"
      }
     },
     "3f4bed61e4484e30a2f186687bf13c5f": {
      "model_module": "@jupyter-widgets/base",
      "model_module_version": "2.0.0",
      "model_name": "LayoutModel",
      "state": {}
     },
     "3f5b3137e1d3461abd3cdf9295074b6f": {
      "model_module": "@jupyter-widgets/controls",
      "model_module_version": "2.0.0",
      "model_name": "CheckboxModel",
      "state": {
       "description": "dumbbell",
       "disabled": false,
       "indent": false,
       "layout": "IPY_MODEL_f88497037f7a4067b749f11bef77a4c3",
       "style": "IPY_MODEL_810cb6129b2141eabb09051cdd9dbf30",
       "value": true
      }
     },
     "3f78d04f32fe474c852b5cfa7042d717": {
      "model_module": "@jupyter-widgets/base",
      "model_module_version": "2.0.0",
      "model_name": "LayoutModel",
      "state": {
       "height": "40px",
       "width": "160px"
      }
     },
     "3f811db08a3d49659802891a3e0bc793": {
      "model_module": "@jupyter-widgets/controls",
      "model_module_version": "2.0.0",
      "model_name": "HTMLModel",
      "state": {
       "layout": "IPY_MODEL_9c4c5dd3da3641c9b9e53ca28e914d99",
       "style": "IPY_MODEL_600fec2d1b774c96ae45d9d187c588c0",
       "value": "<h3>Lower_Body</h3>"
      }
     },
     "3f8d6c7635854fd9a7e9a0df44634e53": {
      "model_module": "@jupyter-widgets/base",
      "model_module_version": "2.0.0",
      "model_name": "LayoutModel",
      "state": {}
     },
     "3fc4e2b6996e46efab47feb74c99d450": {
      "model_module": "@jupyter-widgets/controls",
      "model_module_version": "2.0.0",
      "model_name": "BoxModel",
      "state": {
       "children": [
        "IPY_MODEL_35fde9aa780a4b218871bd270262bdcf",
        "IPY_MODEL_be54bebdd67e43b1a3221c66e9bfe0e6"
       ],
       "layout": "IPY_MODEL_7c3a40de0eea4807a4a48556f5f56d11"
      }
     },
     "3fc77c5f1f4b41f2b76f4d39bc25aa80": {
      "model_module": "@jupyter-widgets/controls",
      "model_module_version": "2.0.0",
      "model_name": "CheckboxStyleModel",
      "state": {
       "description_width": ""
      }
     },
     "3fd15fb9bbf34b1995577513f0c0a9c5": {
      "model_module": "@jupyter-widgets/controls",
      "model_module_version": "2.0.0",
      "model_name": "ButtonStyleModel",
      "state": {
       "font_family": null,
       "font_size": null,
       "font_style": null,
       "font_variant": null,
       "font_weight": null,
       "text_color": null,
       "text_decoration": null
      }
     },
     "3fed96c4eb2845848e7543caa758af54": {
      "model_module": "@jupyter-widgets/controls",
      "model_module_version": "2.0.0",
      "model_name": "HTMLModel",
      "state": {
       "layout": "IPY_MODEL_9d9a6cb91b5d486fa710e6622a7ae7c5",
       "style": "IPY_MODEL_2612f5b9dd7f4100b9c3786f576bf587",
       "value": "<h3>Lower_Body</h3>"
      }
     },
     "4016c817d22a44cda46522d632eb065b": {
      "model_module": "@jupyter-widgets/base",
      "model_module_version": "2.0.0",
      "model_name": "LayoutModel",
      "state": {
       "height": "40px",
       "width": "160px"
      }
     },
     "402920aa1dfc484eaa3041e5ad8383fc": {
      "model_module": "@jupyter-widgets/controls",
      "model_module_version": "2.0.0",
      "model_name": "CheckboxStyleModel",
      "state": {
       "description_width": ""
      }
     },
     "40316478c61147d88a51be2541d8a677": {
      "model_module": "@jupyter-widgets/base",
      "model_module_version": "2.0.0",
      "model_name": "LayoutModel",
      "state": {
       "height": "120px",
       "width": "100px"
      }
     },
     "403ca557863443bb85dfe88c3f5436d2": {
      "model_module": "@jupyter-widgets/controls",
      "model_module_version": "2.0.0",
      "model_name": "ButtonStyleModel",
      "state": {
       "font_family": null,
       "font_size": null,
       "font_style": null,
       "font_variant": null,
       "font_weight": null,
       "text_color": null,
       "text_decoration": null
      }
     },
     "405e0cee93564e539e30f7091ac93a34": {
      "model_module": "@jupyter-widgets/base",
      "model_module_version": "2.0.0",
      "model_name": "LayoutModel",
      "state": {
       "height": "55px",
       "width": "80px"
      }
     },
     "40711aac872f4e76b3820d3ae57061a5": {
      "model_module": "@jupyter-widgets/controls",
      "model_module_version": "2.0.0",
      "model_name": "VBoxModel",
      "state": {
       "layout": "IPY_MODEL_91d397b312db420f90095635dc048e31"
      }
     },
     "4081e8b5db5241aa8a6ea97cf3276021": {
      "model_module": "@jupyter-widgets/base",
      "model_module_version": "2.0.0",
      "model_name": "LayoutModel",
      "state": {}
     },
     "40c84a14693c4d1aa29f568012cf2fb4": {
      "model_module": "@jupyter-widgets/controls",
      "model_module_version": "2.0.0",
      "model_name": "HTMLStyleModel",
      "state": {
       "description_width": "",
       "font_size": null,
       "text_color": null
      }
     },
     "40ca150ad6ce446c8232a2624dbdcd96": {
      "model_module": "@jupyter-widgets/controls",
      "model_module_version": "2.0.0",
      "model_name": "VBoxModel",
      "state": {
       "children": [
        "IPY_MODEL_625f085dc0344a209bcb36e62602008f",
        "IPY_MODEL_075addae6c0645b88a608d3a8ebc7290"
       ],
       "layout": "IPY_MODEL_5dcee3d3e2364d8aa330a4398374b652"
      }
     },
     "4120be9585504561b98135be5bfbecf0": {
      "model_module": "@jupyter-widgets/base",
      "model_module_version": "2.0.0",
      "model_name": "LayoutModel",
      "state": {}
     },
     "413711df9fdd4c1a905e250a5e7b0bfc": {
      "model_module": "@jupyter-widgets/controls",
      "model_module_version": "2.0.0",
      "model_name": "HTMLStyleModel",
      "state": {
       "description_width": "",
       "font_size": null,
       "text_color": null
      }
     },
     "416539ae24f04af2a170d44aab09c7d7": {
      "model_module": "@jupyter-widgets/base",
      "model_module_version": "2.0.0",
      "model_name": "LayoutModel",
      "state": {
       "height": "120px",
       "width": "100px"
      }
     },
     "416a9f52e2e241a9b8d5529a69b8b9ae": {
      "model_module": "@jupyter-widgets/base",
      "model_module_version": "2.0.0",
      "model_name": "LayoutModel",
      "state": {
       "align_items": "stretch",
       "display": "flex",
       "flex_flow": "row",
       "justify_content": "space-around",
       "width": "70%"
      }
     },
     "416e0ef934e046ca9e3d2d3dd78c5e23": {
      "model_module": "@jupyter-widgets/base",
      "model_module_version": "2.0.0",
      "model_name": "LayoutModel",
      "state": {
       "height": "55px",
       "width": "80px"
      }
     },
     "41757abeaa7f4905bfdbdf9a5d254e6c": {
      "model_module": "@jupyter-widgets/controls",
      "model_module_version": "2.0.0",
      "model_name": "VBoxModel",
      "state": {
       "children": [
        "IPY_MODEL_09b57a6ae5954716aa592af816db1dfa",
        "IPY_MODEL_dd8729a48eb540f38ffa2c20cbcb1525"
       ],
       "layout": "IPY_MODEL_103b5416bb8f4ed29f903af9ed009d37"
      }
     },
     "4176d5c8fd3546c9bb9b0ccdde882225": {
      "model_module": "@jupyter-widgets/controls",
      "model_module_version": "2.0.0",
      "model_name": "HTMLModel",
      "state": {
       "layout": "IPY_MODEL_56fbb918b5514280b6ae3a450ebc6d2c",
       "style": "IPY_MODEL_8213294c076a4d599a4fa8724be85386",
       "value": "<h3>Upper Body</h3>"
      }
     },
     "419ffef826064aa79b138ff5e446d0a9": {
      "model_module": "@jupyter-widgets/base",
      "model_module_version": "2.0.0",
      "model_name": "LayoutModel",
      "state": {}
     },
     "41ff0dddabc7425ba10fa868852dfa9c": {
      "model_module": "@jupyter-widgets/controls",
      "model_module_version": "2.0.0",
      "model_name": "CheckboxStyleModel",
      "state": {
       "description_width": ""
      }
     },
     "4206d69fd9df43dd8911440744f6834d": {
      "model_module": "@jupyter-widgets/controls",
      "model_module_version": "2.0.0",
      "model_name": "VBoxModel",
      "state": {
       "children": [
        "IPY_MODEL_58231b0afd214945b6466a978777d48c",
        "IPY_MODEL_fae8a7f7cb414b4f96ca30e1cb68fd82"
       ],
       "layout": "IPY_MODEL_e31a711d282b4cf4b42a485318818c76"
      }
     },
     "421043192fc24dc0b3ce2b45acd115e7": {
      "model_module": "@jupyter-widgets/controls",
      "model_module_version": "2.0.0",
      "model_name": "ButtonStyleModel",
      "state": {
       "font_family": null,
       "font_size": null,
       "font_style": null,
       "font_variant": null,
       "font_weight": null,
       "text_color": null,
       "text_decoration": null
      }
     },
     "421347b50af44659b198ba4a2b6a8360": {
      "model_module": "@jupyter-widgets/base",
      "model_module_version": "2.0.0",
      "model_name": "LayoutModel",
      "state": {}
     },
     "42166de9acdd46709e746ac9a9b2675d": {
      "model_module": "@jupyter-widgets/controls",
      "model_module_version": "2.0.0",
      "model_name": "HTMLStyleModel",
      "state": {
       "description_width": "",
       "font_size": null,
       "text_color": null
      }
     },
     "42538d3548e44b8db02cd03bed0ab94e": {
      "model_module": "@jupyter-widgets/base",
      "model_module_version": "2.0.0",
      "model_name": "LayoutModel",
      "state": {
       "height": "40px",
       "width": "160px"
      }
     },
     "425f7df3e21f4d759d08895105f17ae1": {
      "model_module": "@jupyter-widgets/base",
      "model_module_version": "2.0.0",
      "model_name": "LayoutModel",
      "state": {}
     },
     "4268dcb355d64e729e8d22afc60e3e17": {
      "model_module": "@jupyter-widgets/controls",
      "model_module_version": "2.0.0",
      "model_name": "ButtonStyleModel",
      "state": {
       "font_family": null,
       "font_size": null,
       "font_style": null,
       "font_variant": null,
       "font_weight": null,
       "text_color": null,
       "text_decoration": null
      }
     },
     "4272f9c14d934fa88e1f00873e5e0706": {
      "model_module": "@jupyter-widgets/controls",
      "model_module_version": "2.0.0",
      "model_name": "HTMLModel",
      "state": {
       "layout": "IPY_MODEL_c9ef647076904c7393bbfe20686e931b",
       "style": "IPY_MODEL_f61506ad86004c05a4926d1b6e537769",
       "value": "<h2>Equipment List</h2>"
      }
     },
     "427c1f442c174178a7fad7ec6903835a": {
      "model_module": "@jupyter-widgets/controls",
      "model_module_version": "2.0.0",
      "model_name": "VBoxModel",
      "state": {
       "children": [
        "IPY_MODEL_b62e817fa53445caa761504bf4967075",
        "IPY_MODEL_0166edc05cad4623a632a4d86c4aab48"
       ],
       "layout": "IPY_MODEL_a48a7850bfae4725ba0348ee10f652ca"
      }
     },
     "43348da4713945809ec393965c2d3944": {
      "model_module": "@jupyter-widgets/controls",
      "model_module_version": "2.0.0",
      "model_name": "VBoxModel",
      "state": {
       "children": [
        "IPY_MODEL_48e20a80d1a74ff1b77061f5811893f2",
        "IPY_MODEL_2beca53915df43ce9c372299f497fab0"
       ],
       "layout": "IPY_MODEL_ae414b507fe94c1f8f54ace5fb3b44bd"
      }
     },
     "435846ce187d47bd891ed749b51952fd": {
      "model_module": "@jupyter-widgets/controls",
      "model_module_version": "2.0.0",
      "model_name": "HTMLStyleModel",
      "state": {
       "description_width": "",
       "font_size": null,
       "text_color": null
      }
     },
     "4380987089a04c9a92a38241e8413b14": {
      "model_module": "@jupyter-widgets/base",
      "model_module_version": "2.0.0",
      "model_name": "LayoutModel",
      "state": {
       "height": "40px",
       "width": "160px"
      }
     },
     "43984fd90ac44c76bd9ba4f156dbfe1b": {
      "model_module": "@jupyter-widgets/base",
      "model_module_version": "2.0.0",
      "model_name": "LayoutModel",
      "state": {}
     },
     "441f2a47749c4328bc73352d16a18a49": {
      "model_module": "@jupyter-widgets/controls",
      "model_module_version": "2.0.0",
      "model_name": "ButtonStyleModel",
      "state": {
       "font_family": null,
       "font_size": null,
       "font_style": null,
       "font_variant": null,
       "font_weight": null,
       "text_color": null,
       "text_decoration": null
      }
     },
     "4435abf31a2d4c6685d7999789659c15": {
      "model_module": "@jupyter-widgets/base",
      "model_module_version": "2.0.0",
      "model_name": "LayoutModel",
      "state": {}
     },
     "4442a99dea214b778884878fce8a1b5d": {
      "model_module": "@jupyter-widgets/controls",
      "model_module_version": "2.0.0",
      "model_name": "ButtonModel",
      "state": {
       "description": "Instruction",
       "icon": "comment",
       "layout": "IPY_MODEL_dc5fe11a09f8400f9afba924e7513fbb",
       "style": "IPY_MODEL_3fd15fb9bbf34b1995577513f0c0a9c5",
       "tooltip": "0"
      }
     },
     "44895666ba1c4e04b6565b99723a5902": {
      "model_module": "@jupyter-widgets/controls",
      "model_module_version": "2.0.0",
      "model_name": "VBoxModel",
      "state": {
       "children": [
        "IPY_MODEL_669e49648d9b43d5b2e09ee000984e5e",
        "IPY_MODEL_63a371faa9434f968014c31fa530d9e7"
       ],
       "layout": "IPY_MODEL_f9dee091d1cd4edc821762b46fd1bb72"
      }
     },
     "4497a89166fd41c2b86a8fb24174c354": {
      "model_module": "@jupyter-widgets/controls",
      "model_module_version": "2.0.0",
      "model_name": "VBoxModel",
      "state": {
       "layout": "IPY_MODEL_011e1e96a1d04c10aeea25b756ee28b5"
      }
     },
     "44d5da6d9dc541c59bc9b668978070bd": {
      "model_module": "@jupyter-widgets/controls",
      "model_module_version": "2.0.0",
      "model_name": "BoxModel",
      "state": {
       "children": [
        "IPY_MODEL_289a3f405a97461faebb23ffb97ab46e",
        "IPY_MODEL_2d9dae6cb242443fb85e54474d892643"
       ],
       "layout": "IPY_MODEL_7c3a40de0eea4807a4a48556f5f56d11"
      }
     },
     "44d645b870394f00ba7c5dff886a01ed": {
      "model_module": "@jupyter-widgets/base",
      "model_module_version": "2.0.0",
      "model_name": "LayoutModel",
      "state": {}
     },
     "4509a80e34084444812d187e1408ecba": {
      "model_module": "@jupyter-widgets/controls",
      "model_module_version": "2.0.0",
      "model_name": "ButtonStyleModel",
      "state": {
       "font_family": null,
       "font_size": null,
       "font_style": null,
       "font_variant": null,
       "font_weight": null,
       "text_color": null,
       "text_decoration": null
      }
     },
     "4515d3d5af5941758ad56753069639d7": {
      "model_module": "@jupyter-widgets/controls",
      "model_module_version": "2.0.0",
      "model_name": "ButtonStyleModel",
      "state": {
       "font_family": null,
       "font_size": null,
       "font_style": null,
       "font_variant": null,
       "font_weight": null,
       "text_color": null,
       "text_decoration": null
      }
     },
     "452acb994dc944818ac29b2c31aae0a0": {
      "model_module": "@jupyter-widgets/base",
      "model_module_version": "2.0.0",
      "model_name": "LayoutModel",
      "state": {
       "height": "55px",
       "width": "120px"
      }
     },
     "4530acdd1c184ed8b075c8090a27708d": {
      "model_module": "@jupyter-widgets/controls",
      "model_module_version": "2.0.0",
      "model_name": "CheckboxModel",
      "state": {
       "description": "other",
       "disabled": false,
       "indent": false,
       "layout": "IPY_MODEL_961685caffbd459b9caa5eb2de48deac",
       "style": "IPY_MODEL_e03fde1a2265409eb16db2ccfd788d6d",
       "value": true
      }
     },
     "457907595c2d44e6b8f7579334fde094": {
      "model_module": "@jupyter-widgets/base",
      "model_module_version": "2.0.0",
      "model_name": "LayoutModel",
      "state": {
       "height": "55px",
       "width": "120px"
      }
     },
     "458d6cdda6954ed2afba5d95344aa566": {
      "model_module": "@jupyter-widgets/base",
      "model_module_version": "2.0.0",
      "model_name": "LayoutModel",
      "state": {}
     },
     "4599dc8e61ec45b590421ca316b89bc2": {
      "model_module": "@jupyter-widgets/controls",
      "model_module_version": "2.0.0",
      "model_name": "CheckboxStyleModel",
      "state": {
       "description_width": ""
      }
     },
     "45c8755788434421babf9b3753a237a1": {
      "model_module": "@jupyter-widgets/controls",
      "model_module_version": "2.0.0",
      "model_name": "HTMLModel",
      "state": {
       "layout": "IPY_MODEL_7eb9ae9f3eab48eca0ff1f80ee6beddb",
       "style": "IPY_MODEL_b91f88cacd1a485e8a5af780869493ad",
       "value": "One-Arm Medicine Ball Slam"
      }
     },
     "4679e03c65124184baf41a2ac17fb6d5": {
      "model_module": "@jupyter-widgets/controls",
      "model_module_version": "2.0.0",
      "model_name": "HBoxModel",
      "state": {
       "children": [
        "IPY_MODEL_7e53b79efd2446d1b0e2a83a6a53f376"
       ],
       "layout": "IPY_MODEL_9dc1f07eb7fe4aa99876af2c8c6fdfc0"
      }
     },
     "468b5b0bf8f44b90a760e6f0cbff1657": {
      "model_module": "@jupyter-widgets/controls",
      "model_module_version": "2.0.0",
      "model_name": "GridBoxModel",
      "state": {
       "layout": "IPY_MODEL_0e975b3363554055a7069925cdaab7de"
      }
     },
     "4694e646ccd54d378c5e2c117f4df33a": {
      "model_module": "@jupyter-widgets/controls",
      "model_module_version": "2.0.0",
      "model_name": "HTMLStyleModel",
      "state": {
       "description_width": "",
       "font_size": null,
       "text_color": null
      }
     },
     "46ffedea581c415da8cb1275385b5169": {
      "model_module": "@jupyter-widgets/controls",
      "model_module_version": "2.0.0",
      "model_name": "CheckboxStyleModel",
      "state": {
       "description_width": ""
      }
     },
     "477b4eabc71a4fe8957901317d1fae13": {
      "model_module": "@jupyter-widgets/base",
      "model_module_version": "2.0.0",
      "model_name": "LayoutModel",
      "state": {}
     },
     "47ab02a64d464434a431a20e8c24b520": {
      "model_module": "@jupyter-widgets/base",
      "model_module_version": "2.0.0",
      "model_name": "LayoutModel",
      "state": {}
     },
     "47b0179bff1648659a41b7ad1e4a98ae": {
      "model_module": "@jupyter-widgets/base",
      "model_module_version": "2.0.0",
      "model_name": "LayoutModel",
      "state": {
       "height": "40px",
       "width": "160px"
      }
     },
     "4842b35dd85446d2b758fdded6a7b48a": {
      "model_module": "@jupyter-widgets/controls",
      "model_module_version": "2.0.0",
      "model_name": "VBoxModel",
      "state": {
       "children": [
        "IPY_MODEL_8abcd6484eda4574ab2e6deda5f7393f",
        "IPY_MODEL_fcfa8dedbc684cd5bf2324ba5445938c"
       ],
       "layout": "IPY_MODEL_3c335804cd6d4dec83fefb39c92a2d1a"
      }
     },
     "4846654166f348afa256348ddfa96207": {
      "model_module": "@jupyter-widgets/controls",
      "model_module_version": "2.0.0",
      "model_name": "ButtonStyleModel",
      "state": {
       "font_family": null,
       "font_size": null,
       "font_style": null,
       "font_variant": null,
       "font_weight": null,
       "text_color": null,
       "text_decoration": null
      }
     },
     "485321d4a0e74c88ab395192821e7e4f": {
      "model_module": "@jupyter-widgets/controls",
      "model_module_version": "2.0.0",
      "model_name": "BoxModel",
      "state": {
       "children": [
        "IPY_MODEL_10c7128fea894f69aa6618baf408a6dd",
        "IPY_MODEL_a7ddbf88c6754b439d49d96abebb0754"
       ],
       "layout": "IPY_MODEL_cbd860408c99408888fd404947556bf6"
      }
     },
     "485a4051de634a8c80f36d47314bf67d": {
      "model_module": "@jupyter-widgets/base",
      "model_module_version": "2.0.0",
      "model_name": "LayoutModel",
      "state": {
       "height": "40px",
       "width": "160px"
      }
     },
     "486a7884209a4fa9b7570a1d9ab4cfde": {
      "model_module": "@jupyter-widgets/controls",
      "model_module_version": "2.0.0",
      "model_name": "VBoxModel",
      "state": {
       "children": [
        "IPY_MODEL_e5b1ec535f5e4471904c894d663dc715",
        "IPY_MODEL_fae8a7f7cb414b4f96ca30e1cb68fd82"
       ],
       "layout": "IPY_MODEL_91b636b3e85948eab142a61a47001af6"
      }
     },
     "489069580f8b4ca584f5ebfabf50a5a8": {
      "model_module": "@jupyter-widgets/controls",
      "model_module_version": "2.0.0",
      "model_name": "CheckboxModel",
      "state": {
       "description": "cable",
       "disabled": false,
       "indent": false,
       "layout": "IPY_MODEL_6cd1f7b11bb54bdd994c58b06f620b72",
       "style": "IPY_MODEL_e4f37bc239ea470e9bffdb487c96d7fb",
       "value": true
      }
     },
     "48e20a80d1a74ff1b77061f5811893f2": {
      "model_module": "@jupyter-widgets/controls",
      "model_module_version": "2.0.0",
      "model_name": "VBoxModel",
      "state": {
       "children": [
        "IPY_MODEL_20cbdd6aa4b04e74b24c90533d2e9ffc",
        "IPY_MODEL_8bb80e76108f4e988265d721e10052aa"
       ],
       "layout": "IPY_MODEL_ac18a595143f46a789da12685b8c3149"
      }
     },
     "48ed0d37210049f18d90122f3f4707f6": {
      "model_module": "@jupyter-widgets/controls",
      "model_module_version": "2.0.0",
      "model_name": "DescriptionStyleModel",
      "state": {
       "description_width": ""
      }
     },
     "48f7f19716554447963be51671a84259": {
      "model_module": "@jupyter-widgets/base",
      "model_module_version": "2.0.0",
      "model_name": "LayoutModel",
      "state": {
       "height": "40px",
       "width": "160px"
      }
     },
     "490721ed498a48478bcbebbd883b52a1": {
      "model_module": "@jupyter-widgets/controls",
      "model_module_version": "2.0.0",
      "model_name": "HTMLStyleModel",
      "state": {
       "description_width": "",
       "font_size": null,
       "text_color": null
      }
     },
     "493e95fefaa54a898fb480be85a4dc98": {
      "model_module": "@jupyter-widgets/controls",
      "model_module_version": "2.0.0",
      "model_name": "HBoxModel",
      "state": {
       "children": [
        "IPY_MODEL_3cbbe11b359347949dfa767864009e39"
       ],
       "layout": "IPY_MODEL_b9f19f61aebb4d2a9a030e5a80f25422"
      }
     },
     "496363dd94444a8289aa31ce74c2f7a0": {
      "model_module": "@jupyter-widgets/base",
      "model_module_version": "2.0.0",
      "model_name": "LayoutModel",
      "state": {
       "height": "40px",
       "width": "160px"
      }
     },
     "4983f1b76cf043d1b514e8caff51fdda": {
      "model_module": "@jupyter-widgets/base",
      "model_module_version": "2.0.0",
      "model_name": "LayoutModel",
      "state": {}
     },
     "4991133c7016459cbd3025f0dc855c62": {
      "model_module": "@jupyter-widgets/controls",
      "model_module_version": "2.0.0",
      "model_name": "VBoxModel",
      "state": {
       "children": [
        "IPY_MODEL_9f785300ac5c42daaa0cccd9398c75e2",
        "IPY_MODEL_9fe7440cb16f4e5fa67d24a048dc6973",
        "IPY_MODEL_7330ebc29b894611a903a25faff75b25"
       ],
       "layout": "IPY_MODEL_4ad1b95d1add46049f3cfdcd4caebb66"
      }
     },
     "499320f6b8004c03bfb39947d3f6170d": {
      "model_module": "@jupyter-widgets/controls",
      "model_module_version": "2.0.0",
      "model_name": "HTMLModel",
      "state": {
       "layout": "IPY_MODEL_bbd1f669a70e44e5971b8052869fef06",
       "style": "IPY_MODEL_bd64be75df284295bb59c2e03656e169",
       "value": "Band Good Morning (Pull Through)"
      }
     },
     "49f139c86e6f4a4b9317a2967fda9710": {
      "model_module": "@jupyter-widgets/controls",
      "model_module_version": "2.0.0",
      "model_name": "VBoxModel",
      "state": {
       "children": [
        "IPY_MODEL_f74d21e992074df9a3f96c617db635cf",
        "IPY_MODEL_f21a2e24ecb5495e8123160ce7e4c139",
        "IPY_MODEL_9e72f94715b04faeb12c6af5e40fd8b7",
        "IPY_MODEL_f485228747944b5798cd21c54aac3abf"
       ],
       "layout": "IPY_MODEL_31cd3bdc0c594d1f8e416c48c4fd4b19"
      }
     },
     "49f467d753d44c2d83e06a1e6466d998": {
      "model_module": "@jupyter-widgets/controls",
      "model_module_version": "2.0.0",
      "model_name": "BoxModel",
      "state": {
       "children": [
        "IPY_MODEL_c85c2d524f084e3186e10b64b02a5947",
        "IPY_MODEL_bf73c7cb9fbf46068ea252231a12137a"
       ],
       "layout": "IPY_MODEL_66e06e9d1013495fbcec7b27e4165ae2"
      }
     },
     "4a54c77a56bb438390a52078963928b5": {
      "model_module": "@jupyter-widgets/controls",
      "model_module_version": "2.0.0",
      "model_name": "CheckboxStyleModel",
      "state": {
       "description_width": ""
      }
     },
     "4a5c30006cfa44c0aefe95a2fd0c50f2": {
      "model_module": "@jupyter-widgets/base",
      "model_module_version": "2.0.0",
      "model_name": "LayoutModel",
      "state": {}
     },
     "4ad1b95d1add46049f3cfdcd4caebb66": {
      "model_module": "@jupyter-widgets/base",
      "model_module_version": "2.0.0",
      "model_name": "LayoutModel",
      "state": {}
     },
     "4ad28178e2244fa8983b8ac012ae250c": {
      "model_module": "@jupyter-widgets/base",
      "model_module_version": "2.0.0",
      "model_name": "LayoutModel",
      "state": {
       "height": "55px",
       "width": "80px"
      }
     },
     "4ad4efa14ee24916923895ded19821ec": {
      "model_module": "@jupyter-widgets/controls",
      "model_module_version": "2.0.0",
      "model_name": "HTMLStyleModel",
      "state": {
       "description_width": "",
       "font_size": null,
       "text_color": null
      }
     },
     "4aed5a15b66c44788d9dc0165cb9b706": {
      "model_module": "@jupyter-widgets/base",
      "model_module_version": "2.0.0",
      "model_name": "LayoutModel",
      "state": {
       "height": "120px",
       "width": "100px"
      }
     },
     "4aef0329983448f6b470c072edb647f3": {
      "model_module": "@jupyter-widgets/controls",
      "model_module_version": "2.0.0",
      "model_name": "CheckboxModel",
      "state": {
       "description": "olympic weightlifting",
       "disabled": false,
       "indent": false,
       "layout": "IPY_MODEL_834ebc2698e24faf9ddfb3ee1392013d",
       "style": "IPY_MODEL_59bda96811e84da99ff3d2d63c008baa",
       "value": true
      }
     },
     "4b3413429fab4f8da21234072dae970f": {
      "model_module": "@jupyter-widgets/base",
      "model_module_version": "2.0.0",
      "model_name": "LayoutModel",
      "state": {
       "height": "55px",
       "width": "80px"
      }
     },
     "4b5b6dc3940c4928aa619c19ed63d156": {
      "model_module": "@jupyter-widgets/controls",
      "model_module_version": "2.0.0",
      "model_name": "ButtonStyleModel",
      "state": {
       "font_family": null,
       "font_size": null,
       "font_style": null,
       "font_variant": null,
       "font_weight": null,
       "text_color": null,
       "text_decoration": null
      }
     },
     "4b7d8b6e21454980bd5332f7843d36ed": {
      "model_module": "@jupyter-widgets/base",
      "model_module_version": "2.0.0",
      "model_name": "LayoutModel",
      "state": {}
     },
     "4b9ff11cd59a4291a9095d69825735cd": {
      "model_module": "@jupyter-widgets/base",
      "model_module_version": "2.0.0",
      "model_name": "LayoutModel",
      "state": {
       "height": "40px",
       "width": "160px"
      }
     },
     "4badc697378d42af816eaebca1be6394": {
      "model_module": "@jupyter-widgets/controls",
      "model_module_version": "2.0.0",
      "model_name": "HTMLModel",
      "state": {
       "layout": "IPY_MODEL_5d878b77b88b47e1b8f85935ef412c33",
       "style": "IPY_MODEL_15779eea390a40218fb43fc8c4b7f181",
       "value": "Sit Squats"
      }
     },
     "4c3b76875f1e401b8ebab004cca0aaec": {
      "model_module": "@jupyter-widgets/base",
      "model_module_version": "2.0.0",
      "model_name": "LayoutModel",
      "state": {}
     },
     "4ca2fa95b5bc482f9ee30ba5e5cde571": {
      "model_module": "@jupyter-widgets/base",
      "model_module_version": "2.0.0",
      "model_name": "LayoutModel",
      "state": {
       "height": "55px",
       "width": "120px"
      }
     },
     "4cb3f978ee7741848d04e3218f04a338": {
      "model_module": "@jupyter-widgets/controls",
      "model_module_version": "2.0.0",
      "model_name": "CheckboxStyleModel",
      "state": {
       "description_width": ""
      }
     },
     "4cbc439e1e794832aff6d541efd6339e": {
      "model_module": "@jupyter-widgets/base",
      "model_module_version": "2.0.0",
      "model_name": "LayoutModel",
      "state": {
       "height": "120px",
       "width": "100px"
      }
     },
     "4cc673dd46d04e83ae09d188797c8510": {
      "model_module": "@jupyter-widgets/base",
      "model_module_version": "2.0.0",
      "model_name": "LayoutModel",
      "state": {
       "align_items": "stretch",
       "display": "flex",
       "flex_flow": "row",
       "justify_content": "space-around",
       "width": "70%"
      }
     },
     "4cd468ede3574d5a963253cac8005ee4": {
      "model_module": "@jupyter-widgets/controls",
      "model_module_version": "2.0.0",
      "model_name": "VBoxModel",
      "state": {
       "children": [
        "IPY_MODEL_14be0822d1b64d1da7e9a6fce29c8a11",
        "IPY_MODEL_25d80f54ac8d48889c0460e40a8ea1d9"
       ],
       "layout": "IPY_MODEL_9583a8c1dcc947feab2fa3c6f76fb7ac"
      }
     },
     "4cdf3063f35c40faa54c9004f2e8e909": {
      "model_module": "@jupyter-widgets/base",
      "model_module_version": "2.0.0",
      "model_name": "LayoutModel",
      "state": {
       "height": "40px",
       "width": "160px"
      }
     },
     "4d1db458d9e9430b9ef4c103158e585b": {
      "model_module": "@jupyter-widgets/controls",
      "model_module_version": "2.0.0",
      "model_name": "CheckboxStyleModel",
      "state": {
       "description_width": ""
      }
     },
     "4d2ebd8d5b8e420fa0cf1a0f47907811": {
      "model_module": "@jupyter-widgets/controls",
      "model_module_version": "2.0.0",
      "model_name": "CheckboxStyleModel",
      "state": {
       "description_width": ""
      }
     },
     "4d39d5a778e5422dbe8633568a5a51b7": {
      "model_module": "@jupyter-widgets/base",
      "model_module_version": "2.0.0",
      "model_name": "LayoutModel",
      "state": {
       "height": "55px",
       "width": "120px"
      }
     },
     "4d4bb655b9344a00bd1d80dbfa4bf35b": {
      "model_module": "@jupyter-widgets/base",
      "model_module_version": "2.0.0",
      "model_name": "LayoutModel",
      "state": {
       "height": "55px",
       "width": "80px"
      }
     },
     "4d7d5e5657e1476886aee55d461258a4": {
      "model_module": "@jupyter-widgets/controls",
      "model_module_version": "2.0.0",
      "model_name": "HTMLStyleModel",
      "state": {
       "description_width": "",
       "font_size": null,
       "text_color": null
      }
     },
     "4dbbad7d2e274fe48d4453883c302461": {
      "model_module": "@jupyter-widgets/base",
      "model_module_version": "2.0.0",
      "model_name": "LayoutModel",
      "state": {}
     },
     "4dd1091642bd4cd38707333bb6d46b13": {
      "model_module": "@jupyter-widgets/controls",
      "model_module_version": "2.0.0",
      "model_name": "VBoxModel",
      "state": {
       "children": [
        "IPY_MODEL_c123dc3e72fc43e49a38f3451765ed61",
        "IPY_MODEL_6e475bb932234e44aa313f41a29384ae"
       ],
       "layout": "IPY_MODEL_05bec373760a405ba2237eb1072f74c1"
      }
     },
     "4decee9f8cfb47d98bf2d83143bb8785": {
      "model_module": "@jupyter-widgets/controls",
      "model_module_version": "2.0.0",
      "model_name": "HBoxModel",
      "state": {
       "children": [
        "IPY_MODEL_e68204cb33b04c7d8c484df6d1863c8b"
       ],
       "layout": "IPY_MODEL_b6612e5ead464a36a5fb9ab0edfbabfe"
      }
     },
     "4e14883717b2407a8e09dabcf26dc1b3": {
      "model_module": "@jupyter-widgets/controls",
      "model_module_version": "2.0.0",
      "model_name": "VBoxModel",
      "state": {
       "children": [
        "IPY_MODEL_50e98e6fca1f49fb97dcf2c70e899b3a",
        "IPY_MODEL_2a830583ab0c47fcad2ddb15d98fad03",
        "IPY_MODEL_24705acf496a4683b5aeac6604ce7e9f",
        "IPY_MODEL_c47ca8adaa8844cea629067cad92e86c"
       ],
       "layout": "IPY_MODEL_81d52c83c20944968619f4a86bd3ac5b"
      }
     },
     "4e64b99da5b64c2f9cb673b0051182d3": {
      "model_module": "@jupyter-widgets/controls",
      "model_module_version": "2.0.0",
      "model_name": "CheckboxModel",
      "state": {
       "description": "Core",
       "disabled": false,
       "indent": false,
       "layout": "IPY_MODEL_f77e44bb539545039285dcbae4d5d0ea",
       "style": "IPY_MODEL_20fd738a98ac4b628f3479963621ebe1",
       "value": true
      }
     },
     "4e9d357893954dcbb2ccac8b3efc30d7": {
      "model_module": "@jupyter-widgets/controls",
      "model_module_version": "2.0.0",
      "model_name": "VBoxModel",
      "state": {
       "children": [
        "IPY_MODEL_864294e422a84f3bb34d370fa423f59e",
        "IPY_MODEL_c7e03016558e41a78e395efd986d5e32"
       ],
       "layout": "IPY_MODEL_4081e8b5db5241aa8a6ea97cf3276021"
      }
     },
     "4ed5592ce1ac46e4a89ebbeca43f9ed6": {
      "model_module": "@jupyter-widgets/controls",
      "model_module_version": "2.0.0",
      "model_name": "VBoxModel",
      "state": {
       "children": [
        "IPY_MODEL_6312bbd02c624f64912a9be7396dc9ed",
        "IPY_MODEL_3fc4e2b6996e46efab47feb74c99d450"
       ],
       "layout": "IPY_MODEL_1e23a22dc9ff41da89571ab1fa2650a0"
      }
     },
     "4ee142c69fd54518a7c323922ef7853b": {
      "model_module": "@jupyter-widgets/controls",
      "model_module_version": "2.0.0",
      "model_name": "HTMLStyleModel",
      "state": {
       "description_width": "",
       "font_size": null,
       "text_color": null
      }
     },
     "4ee9ec8f7c4745288abc7cb68999655c": {
      "model_module": "@jupyter-widgets/controls",
      "model_module_version": "2.0.0",
      "model_name": "VBoxModel",
      "state": {
       "children": [
        "IPY_MODEL_98ad2e3b6cd8447d91934b2461c70c88",
        "IPY_MODEL_604ea7f3d8844fee91c029a7b1531e0c"
       ],
       "layout": "IPY_MODEL_01ad925c878a4a02a056a67d7790434d"
      }
     },
     "4f25f793f5b54527afa3a2f69ceee987": {
      "model_module": "@jupyter-widgets/controls",
      "model_module_version": "2.0.0",
      "model_name": "VBoxModel",
      "state": {
       "layout": "IPY_MODEL_b10957128f6c4d67b2efe6d7449685b0"
      }
     },
     "4f82f6d1acac46ddbb80ecbe1020155a": {
      "model_module": "@jupyter-widgets/controls",
      "model_module_version": "2.0.0",
      "model_name": "ButtonStyleModel",
      "state": {
       "font_family": null,
       "font_size": null,
       "font_style": null,
       "font_variant": null,
       "font_weight": null,
       "text_color": null,
       "text_decoration": null
      }
     },
     "4f8c102cf454417bb8a53edf943043f1": {
      "model_module": "@jupyter-widgets/base",
      "model_module_version": "2.0.0",
      "model_name": "LayoutModel",
      "state": {}
     },
     "4f9627abca7d4d02bba34de1c2eda094": {
      "model_module": "@jupyter-widgets/base",
      "model_module_version": "2.0.0",
      "model_name": "LayoutModel",
      "state": {
       "height": "40px",
       "width": "160px"
      }
     },
     "4f9c2d8b69314db4a2274d7182bf25d6": {
      "model_module": "@jupyter-widgets/controls",
      "model_module_version": "2.0.0",
      "model_name": "VBoxModel",
      "state": {
       "children": [
        "IPY_MODEL_cdee133f2c1e4ba298fed8ff4c378716",
        "IPY_MODEL_921b43fcface4924b710130880cce5a6",
        "IPY_MODEL_83c102d5b4b448b682ee83a4da808289",
        "IPY_MODEL_c9ffcf2914004978bb6349d449086d85"
       ],
       "layout": "IPY_MODEL_c8781a3e630b4b9aa73c53be8a6552c2"
      }
     },
     "4f9d518a9d914fe79b601e8790905cdc": {
      "model_module": "@jupyter-widgets/base",
      "model_module_version": "2.0.0",
      "model_name": "LayoutModel",
      "state": {}
     },
     "4fb090b816074b12bfbf7d8079d269a7": {
      "model_module": "@jupyter-widgets/controls",
      "model_module_version": "2.0.0",
      "model_name": "VBoxModel",
      "state": {
       "children": [
        "IPY_MODEL_5190245c2454424c9dfd5f5e1f629d5c",
        "IPY_MODEL_b61a432be3484a55a46367eac28e8ad9"
       ],
       "layout": "IPY_MODEL_5ff45264ea9e48598dc910c695338826"
      }
     },
     "4fb9c9689b404756ab0d5c3899004b89": {
      "model_module": "@jupyter-widgets/controls",
      "model_module_version": "2.0.0",
      "model_name": "VBoxModel",
      "state": {
       "children": [
        "IPY_MODEL_f3e07f8e0c864c358f08c655ac4becf4",
        "IPY_MODEL_71472af9ff2a439f92356177ffc39b96"
       ],
       "layout": "IPY_MODEL_477b4eabc71a4fe8957901317d1fae13"
      }
     },
     "4fccd7b0aea64c259681dd8c9a311bef": {
      "model_module": "@jupyter-widgets/base",
      "model_module_version": "2.0.0",
      "model_name": "LayoutModel",
      "state": {}
     },
     "4febeec7295d47b98bca98712f7d2f27": {
      "model_module": "@jupyter-widgets/base",
      "model_module_version": "2.0.0",
      "model_name": "LayoutModel",
      "state": {}
     },
     "4ff219a12672410eae2fdfd14e41fa2c": {
      "model_module": "@jupyter-widgets/base",
      "model_module_version": "2.0.0",
      "model_name": "LayoutModel",
      "state": {}
     },
     "500238508f7e42b394a149d1a3694ea7": {
      "model_module": "@jupyter-widgets/base",
      "model_module_version": "2.0.0",
      "model_name": "LayoutModel",
      "state": {
       "height": "40px",
       "width": "160px"
      }
     },
     "5010718805f249ac902f93e6db1f446b": {
      "model_module": "@jupyter-widgets/controls",
      "model_module_version": "2.0.0",
      "model_name": "ButtonModel",
      "state": {
       "description": "Close",
       "layout": "IPY_MODEL_913e4391f8b34b56a51a1b31b52ad1a7",
       "style": "IPY_MODEL_111bcdeb8c3c46b59dc465e78b83006d",
       "tooltip": null
      }
     },
     "5024e0c7991d4cf7aa483716910a2228": {
      "model_module": "@jupyter-widgets/controls",
      "model_module_version": "2.0.0",
      "model_name": "HBoxModel",
      "state": {
       "children": [
        "IPY_MODEL_97738c8c975947b1a03931922fd4c6b8"
       ],
       "layout": "IPY_MODEL_e740111fa9f149168620d05e027db5b3"
      }
     },
     "50268156a6084a92b031d08691b84906": {
      "model_module": "@jupyter-widgets/controls",
      "model_module_version": "2.0.0",
      "model_name": "VBoxModel",
      "state": {
       "children": [
        "IPY_MODEL_74b86e71992643e086cc0ab9435b0370",
        "IPY_MODEL_12cc9bc0329049abad5f81e3f9c73940",
        "IPY_MODEL_010312cdb06f485fb748b34e37c51bb2"
       ],
       "layout": "IPY_MODEL_5dbaaaeeabbf4cf080615aee7f6df2c2"
      }
     },
     "5028ee349748416cbd5b961eba29fe56": {
      "model_module": "@jupyter-widgets/base",
      "model_module_version": "2.0.0",
      "model_name": "LayoutModel",
      "state": {}
     },
     "50303c04a4074ff3af112e1332f2a670": {
      "model_module": "@jupyter-widgets/base",
      "model_module_version": "2.0.0",
      "model_name": "LayoutModel",
      "state": {
       "height": "55px",
       "width": "80px"
      }
     },
     "5044f6cc8b2b447bb403582f92895731": {
      "model_module": "@jupyter-widgets/controls",
      "model_module_version": "2.0.0",
      "model_name": "HBoxModel",
      "state": {
       "children": [
        "IPY_MODEL_d476cee74f9a4d12b549f16c80f16792"
       ],
       "layout": "IPY_MODEL_56b9a98a32024962bcae8c133ff5c351"
      }
     },
     "507a065aaa144feb9ffaa406c2c8fddd": {
      "model_module": "@jupyter-widgets/controls",
      "model_module_version": "2.0.0",
      "model_name": "CheckboxStyleModel",
      "state": {
       "description_width": ""
      }
     },
     "50bf047613b143fe8e2e740491eef518": {
      "model_module": "@jupyter-widgets/base",
      "model_module_version": "2.0.0",
      "model_name": "LayoutModel",
      "state": {}
     },
     "50dc79a969fd4a45b2cda035845be2ac": {
      "model_module": "@jupyter-widgets/controls",
      "model_module_version": "2.0.0",
      "model_name": "ButtonModel",
      "state": {
       "description": "Run",
       "layout": "IPY_MODEL_bb1861936834461588d16f2e99229bc9",
       "style": "IPY_MODEL_4515d3d5af5941758ad56753069639d7",
       "tooltip": null
      }
     },
     "50e98e6fca1f49fb97dcf2c70e899b3a": {
      "model_module": "@jupyter-widgets/controls",
      "model_module_version": "2.0.0",
      "model_name": "CheckboxModel",
      "state": {
       "description": "body only",
       "disabled": false,
       "indent": false,
       "layout": "IPY_MODEL_63ddedf022a44fe787bf909cfeee9aa9",
       "style": "IPY_MODEL_1378dae0a65f4c7890a95992c09bcde5",
       "value": false
      }
     },
     "513f4824e6554113874bc96f6613e22b": {
      "model_module": "@jupyter-widgets/controls",
      "model_module_version": "2.0.0",
      "model_name": "VBoxModel",
      "state": {
       "children": [
        "IPY_MODEL_4cd468ede3574d5a963253cac8005ee4",
        "IPY_MODEL_556f248c19c441c39b9837114662e687",
        "IPY_MODEL_664b05b442554ee285ccaac6efa97c51"
       ],
       "layout": "IPY_MODEL_b7e44a77a6e2443786a5fc75227baad5"
      }
     },
     "5149c013de7c403ebf8ca3e3afcaaa81": {
      "model_module": "@jupyter-widgets/base",
      "model_module_version": "2.0.0",
      "model_name": "LayoutModel",
      "state": {}
     },
     "518f350014af47498deb9ae6408c9dd1": {
      "model_module": "@jupyter-widgets/controls",
      "model_module_version": "2.0.0",
      "model_name": "CheckboxStyleModel",
      "state": {
       "description_width": ""
      }
     },
     "5190245c2454424c9dfd5f5e1f629d5c": {
      "model_module": "@jupyter-widgets/controls",
      "model_module_version": "2.0.0",
      "model_name": "HTMLModel",
      "state": {
       "layout": "IPY_MODEL_2a719430b7864552b1d8c15679020e60",
       "style": "IPY_MODEL_c43f39ec4255499baef526ea38f280eb",
       "value": "Dumbbell Tricep Extension -Pronated Grip"
      }
     },
     "5195b7eeeb6741aba4f479fae0b15b1e": {
      "model_module": "@jupyter-widgets/base",
      "model_module_version": "2.0.0",
      "model_name": "LayoutModel",
      "state": {}
     },
     "519ae0879317414cac1dc0ecc5ef0928": {
      "model_module": "@jupyter-widgets/controls",
      "model_module_version": "2.0.0",
      "model_name": "ButtonModel",
      "state": {
       "description": "Close",
       "layout": "IPY_MODEL_4d4bb655b9344a00bd1d80dbfa4bf35b",
       "style": "IPY_MODEL_4f82f6d1acac46ddbb80ecbe1020155a",
       "tooltip": null
      }
     },
     "519ff61dd48f4a6188dc5d757affbe08": {
      "model_module": "@jupyter-widgets/controls",
      "model_module_version": "2.0.0",
      "model_name": "CheckboxStyleModel",
      "state": {
       "description_width": ""
      }
     },
     "51c9dacf776241fcb0f54767b9d27704": {
      "model_module": "@jupyter-widgets/controls",
      "model_module_version": "2.0.0",
      "model_name": "CheckboxModel",
      "state": {
       "description": "foam roll",
       "disabled": false,
       "indent": false,
       "layout": "IPY_MODEL_93d94fbe54204bf4b1ccc44b3c3f943e",
       "style": "IPY_MODEL_9dbe4e0d20cc45f38353fdb370104796",
       "value": true
      }
     },
     "51e365e1a2da475382e215a1d65d036f": {
      "model_module": "@jupyter-widgets/base",
      "model_module_version": "2.0.0",
      "model_name": "LayoutModel",
      "state": {
       "height": "55px",
       "width": "80px"
      }
     },
     "51f9b2cbf2ca4486949b810497be684a": {
      "model_module": "@jupyter-widgets/controls",
      "model_module_version": "2.0.0",
      "model_name": "ButtonModel",
      "state": {
       "description": "Instruction",
       "icon": "comment",
       "layout": "IPY_MODEL_7534196c4cee4635b3344608f5ab0492",
       "style": "IPY_MODEL_cb19ec3679c24d0184608a63e150a812",
       "tooltip": "803"
      }
     },
     "5219fb87c2f749d1af6cde0db331daff": {
      "model_module": "@jupyter-widgets/controls",
      "model_module_version": "2.0.0",
      "model_name": "HTMLStyleModel",
      "state": {
       "description_width": "",
       "font_size": null,
       "text_color": null
      }
     },
     "521c5e08b04c4e468a89db1894333138": {
      "model_module": "@jupyter-widgets/controls",
      "model_module_version": "2.0.0",
      "model_name": "HTMLStyleModel",
      "state": {
       "description_width": "",
       "font_size": null,
       "text_color": null
      }
     },
     "522413728d27487688c88e3bb8bdf8fb": {
      "model_module": "@jupyter-widgets/controls",
      "model_module_version": "2.0.0",
      "model_name": "CheckboxStyleModel",
      "state": {
       "description_width": ""
      }
     },
     "52289e18ccad4654b46166b5a35c0ad7": {
      "model_module": "@jupyter-widgets/controls",
      "model_module_version": "2.0.0",
      "model_name": "ButtonStyleModel",
      "state": {
       "font_family": null,
       "font_size": null,
       "font_style": null,
       "font_variant": null,
       "font_weight": null,
       "text_color": null,
       "text_decoration": null
      }
     },
     "52617852634c4edc8369aab2f6005158": {
      "model_module": "@jupyter-widgets/base",
      "model_module_version": "2.0.0",
      "model_name": "LayoutModel",
      "state": {
       "height": "55px",
       "width": "120px"
      }
     },
     "52669b5e349a4cd0a87dfae1229ab270": {
      "model_module": "@jupyter-widgets/controls",
      "model_module_version": "2.0.0",
      "model_name": "HTMLModel",
      "state": {
       "layout": "IPY_MODEL_cbd7c959640e49319a0d6bb7457a7c32",
       "style": "IPY_MODEL_fc51be63ef274464b88338ab6fbeab26",
       "value": "Rhomboids-SMR"
      }
     },
     "5270b058c5064d4893447e57c343f762": {
      "model_module": "@jupyter-widgets/controls",
      "model_module_version": "2.0.0",
      "model_name": "HBoxModel",
      "state": {
       "children": [
        "IPY_MODEL_5798e2f9b20949069ddf6fdc27aa089e"
       ],
       "layout": "IPY_MODEL_8af2507fb2fb40229d3c01e6c4dc1fa4"
      }
     },
     "52857593b6874044a14a9c3f644082da": {
      "model_module": "@jupyter-widgets/controls",
      "model_module_version": "2.0.0",
      "model_name": "CheckboxStyleModel",
      "state": {
       "description_width": ""
      }
     },
     "528c030c4c7945f6b186021d866d2477": {
      "model_module": "@jupyter-widgets/controls",
      "model_module_version": "2.0.0",
      "model_name": "CheckboxModel",
      "state": {
       "description": "dumbbell",
       "disabled": false,
       "indent": false,
       "layout": "IPY_MODEL_3b7af6c808bc483599fe1eff43a97c7e",
       "style": "IPY_MODEL_e349fe621d9e4ea3ac78fe5ab713e6e9",
       "value": true
      }
     },
     "52a72b1cf2954150b46d240309c2e4f3": {
      "model_module": "@jupyter-widgets/controls",
      "model_module_version": "2.0.0",
      "model_name": "HBoxModel",
      "state": {
       "children": [
        "IPY_MODEL_d0f0f6a4ddce48d28804e89e04101784"
       ],
       "layout": "IPY_MODEL_aa453fbfa8f244f5a1f78ce5f56cc63d"
      }
     },
     "533291732b374056a73276ba88e29acc": {
      "model_module": "@jupyter-widgets/controls",
      "model_module_version": "2.0.0",
      "model_name": "HTMLStyleModel",
      "state": {
       "description_width": "",
       "font_size": null,
       "text_color": null
      }
     },
     "534c03d3c9504bb6bcab9be6430ecc35": {
      "model_module": "@jupyter-widgets/base",
      "model_module_version": "2.0.0",
      "model_name": "LayoutModel",
      "state": {}
     },
     "53a16641403046a29945bce7ccecf661": {
      "model_module": "@jupyter-widgets/controls",
      "model_module_version": "2.0.0",
      "model_name": "CheckboxModel",
      "state": {
       "description": "cardio",
       "disabled": false,
       "indent": false,
       "layout": "IPY_MODEL_1ad50a790bd042ce8df5a02f31a9a749",
       "style": "IPY_MODEL_c77dc082343f4d9cb491a9c49138c9c4",
       "value": true
      }
     },
     "53aefe974aa1448f9645393b33630781": {
      "model_module": "@jupyter-widgets/controls",
      "model_module_version": "2.0.0",
      "model_name": "HTMLStyleModel",
      "state": {
       "description_width": "",
       "font_size": null,
       "text_color": null
      }
     },
     "53bb44b99ffe4cb4a14bb49ee799611f": {
      "model_module": "@jupyter-widgets/controls",
      "model_module_version": "2.0.0",
      "model_name": "ButtonStyleModel",
      "state": {
       "font_family": null,
       "font_size": null,
       "font_style": null,
       "font_variant": null,
       "font_weight": null,
       "text_color": null,
       "text_decoration": null
      }
     },
     "542cfde766e94d2b97b9ea3ad33fe61f": {
      "model_module": "@jupyter-widgets/controls",
      "model_module_version": "2.0.0",
      "model_name": "HTMLStyleModel",
      "state": {
       "description_width": "",
       "font_size": null,
       "text_color": null
      }
     },
     "544beba2b38249658a614b1e19e89c55": {
      "model_module": "@jupyter-widgets/controls",
      "model_module_version": "2.0.0",
      "model_name": "CheckboxStyleModel",
      "state": {
       "description_width": ""
      }
     },
     "54758ec7eac14ec09e47c98628ab9535": {
      "model_module": "@jupyter-widgets/controls",
      "model_module_version": "2.0.0",
      "model_name": "VBoxModel",
      "state": {
       "children": [
        "IPY_MODEL_edf80d0ccc8d4afca6d110509c0c092d",
        "IPY_MODEL_3e74d62c5bce4d5e8154db92e23a357a",
        "IPY_MODEL_27084f2209204210bcb801e76df1c737",
        "IPY_MODEL_26b9f47c5547459192b581577ca8e3bf"
       ],
       "layout": "IPY_MODEL_08aa3d33aea04d85aa528b61ff182bf7"
      }
     },
     "5476e150934e4c24b289b55a0b645f6a": {
      "model_module": "@jupyter-widgets/base",
      "model_module_version": "2.0.0",
      "model_name": "LayoutModel",
      "state": {}
     },
     "54a210f0fa0e464aa04ee6890eb1a03b": {
      "model_module": "@jupyter-widgets/controls",
      "model_module_version": "2.0.0",
      "model_name": "HBoxModel",
      "state": {
       "children": [
        "IPY_MODEL_6ee3e927bcd6407d84eea070ed8bfc08"
       ],
       "layout": "IPY_MODEL_c9632f54459347eeaa21a0163ca032cc"
      }
     },
     "54c5baecca6346d291fa6c35dc3d384b": {
      "model_module": "@jupyter-widgets/controls",
      "model_module_version": "2.0.0",
      "model_name": "VBoxModel",
      "state": {
       "children": [
        "IPY_MODEL_c73d70777ab24be0900749055638aff5",
        "IPY_MODEL_49f467d753d44c2d83e06a1e6466d998"
       ],
       "layout": "IPY_MODEL_96970c2edd194be9b9b66123d7c3b047"
      }
     },
     "54ec420b8d0b4126875825e8f28d3aea": {
      "model_module": "@jupyter-widgets/base",
      "model_module_version": "2.0.0",
      "model_name": "LayoutModel",
      "state": {}
     },
     "54f77723b1d94a1ca5d07ad192776dc1": {
      "model_module": "@jupyter-widgets/controls",
      "model_module_version": "2.0.0",
      "model_name": "CheckboxModel",
      "state": {
       "description": "exercise ball",
       "disabled": false,
       "indent": false,
       "layout": "IPY_MODEL_3823d0448df84c9eae8ea69a064c7960",
       "style": "IPY_MODEL_41ff0dddabc7425ba10fa868852dfa9c",
       "value": false
      }
     },
     "553bc30bb24c43e4b1eb31349b937f6a": {
      "model_module": "@jupyter-widgets/base",
      "model_module_version": "2.0.0",
      "model_name": "LayoutModel",
      "state": {}
     },
     "553c24bad34a460b91ab6c94754cff20": {
      "model_module": "@jupyter-widgets/controls",
      "model_module_version": "2.0.0",
      "model_name": "ButtonStyleModel",
      "state": {
       "font_family": null,
       "font_size": null,
       "font_style": null,
       "font_variant": null,
       "font_weight": null,
       "text_color": null,
       "text_decoration": null
      }
     },
     "554a63ca58cc4ac7bf5779323c4d363c": {
      "model_module": "@jupyter-widgets/controls",
      "model_module_version": "2.0.0",
      "model_name": "ButtonStyleModel",
      "state": {
       "font_family": null,
       "font_size": null,
       "font_style": null,
       "font_variant": null,
       "font_weight": null,
       "text_color": null,
       "text_decoration": null
      }
     },
     "556f248c19c441c39b9837114662e687": {
      "model_module": "@jupyter-widgets/controls",
      "model_module_version": "2.0.0",
      "model_name": "VBoxModel",
      "state": {
       "children": [
        "IPY_MODEL_f349c5e104554be9b1b5c0cd69895a41",
        "IPY_MODEL_1b2a8c4c9c674a3cb0aac8151dcc6573"
       ],
       "layout": "IPY_MODEL_87e0ce86e6b7493dbbc3eabb2fbb5a26"
      }
     },
     "558066414d95401db3253521e9530142": {
      "model_module": "@jupyter-widgets/controls",
      "model_module_version": "2.0.0",
      "model_name": "VBoxModel",
      "state": {
       "children": [
        "IPY_MODEL_81370fa176c64637b2fde6af8e009c37",
        "IPY_MODEL_0c77733cfd1d4ca4ac9fa3bb81b5e45f"
       ],
       "layout": "IPY_MODEL_08c9def870a34f439b53137677738bfa"
      }
     },
     "558e0cb8982243c68e54044240ad2028": {
      "model_module": "@jupyter-widgets/base",
      "model_module_version": "2.0.0",
      "model_name": "LayoutModel",
      "state": {
       "align_items": "stretch",
       "display": "flex",
       "flex_flow": "row",
       "justify_content": "space-around",
       "width": "70%"
      }
     },
     "55a8d2e63ae34f8b91e5b1aa8b8bd696": {
      "model_module": "@jupyter-widgets/controls",
      "model_module_version": "2.0.0",
      "model_name": "HBoxModel",
      "state": {
       "children": [
        "IPY_MODEL_ef842c7a379b4a9ca059064a60a2928b"
       ],
       "layout": "IPY_MODEL_ed9a9819b6ad4e95bb742161024e9218"
      }
     },
     "55bf636a162a460ba05f10387c69018d": {
      "model_module": "@jupyter-widgets/controls",
      "model_module_version": "2.0.0",
      "model_name": "HTMLModel",
      "state": {
       "layout": "IPY_MODEL_842626a9d12c4c2db95ea737450dfbbd",
       "style": "IPY_MODEL_d3a0a353e9ca41fd875eb6c73f5436b2",
       "value": "<h2>Sample Size</h2>"
      }
     },
     "55d43f4e232d46ceb36773302ee72550": {
      "model_module": "@jupyter-widgets/base",
      "model_module_version": "2.0.0",
      "model_name": "LayoutModel",
      "state": {}
     },
     "560f752e63fb4b408a3eb77a34f11ba5": {
      "model_module": "@jupyter-widgets/controls",
      "model_module_version": "2.0.0",
      "model_name": "ButtonModel",
      "state": {
       "description": "Close",
       "layout": "IPY_MODEL_3b7a3b00c78340b6bd0f6b48b7b83bf1",
       "style": "IPY_MODEL_332f859139734ef5b1c034044f5e5d6a",
       "tooltip": null
      }
     },
     "565b93d897284a25882c6b9a6b433066": {
      "model_module": "@jupyter-widgets/controls",
      "model_module_version": "2.0.0",
      "model_name": "ButtonStyleModel",
      "state": {
       "font_family": null,
       "font_size": null,
       "font_style": null,
       "font_variant": null,
       "font_weight": null,
       "text_color": null,
       "text_decoration": null
      }
     },
     "5664d842aeda4ddc993faa5ebfa5009e": {
      "model_module": "@jupyter-widgets/base",
      "model_module_version": "2.0.0",
      "model_name": "LayoutModel",
      "state": {
       "height": "40px",
       "width": "160px"
      }
     },
     "5666649682204b91987b370235b7a0fa": {
      "model_module": "@jupyter-widgets/controls",
      "model_module_version": "2.0.0",
      "model_name": "HTMLStyleModel",
      "state": {
       "description_width": "",
       "font_size": null,
       "text_color": null
      }
     },
     "567d1ed222854a2eb25d57b2c56bf794": {
      "model_module": "@jupyter-widgets/base",
      "model_module_version": "2.0.0",
      "model_name": "LayoutModel",
      "state": {
       "align_items": "stretch",
       "display": "flex",
       "flex_flow": "row",
       "justify_content": "space-around",
       "width": "70%"
      }
     },
     "56b9a98a32024962bcae8c133ff5c351": {
      "model_module": "@jupyter-widgets/base",
      "model_module_version": "2.0.0",
      "model_name": "LayoutModel",
      "state": {}
     },
     "56ba697952734210b43498612d62c040": {
      "model_module": "@jupyter-widgets/controls",
      "model_module_version": "2.0.0",
      "model_name": "HTMLStyleModel",
      "state": {
       "description_width": "",
       "font_size": null,
       "text_color": null
      }
     },
     "56c4c12bc36b48fd90da05c02d23dcbe": {
      "model_module": "@jupyter-widgets/base",
      "model_module_version": "2.0.0",
      "model_name": "LayoutModel",
      "state": {
       "height": "200px"
      }
     },
     "56d273652f7c44d381a04325c22cbedf": {
      "model_module": "@jupyter-widgets/controls",
      "model_module_version": "2.0.0",
      "model_name": "ButtonStyleModel",
      "state": {
       "font_family": null,
       "font_size": null,
       "font_style": null,
       "font_variant": null,
       "font_weight": null,
       "text_color": null,
       "text_decoration": null
      }
     },
     "56e5fb85388b4c3685d7db2388a0195c": {
      "model_module": "@jupyter-widgets/controls",
      "model_module_version": "2.0.0",
      "model_name": "CheckboxModel",
      "state": {
       "description": "machine",
       "disabled": false,
       "indent": false,
       "layout": "IPY_MODEL_a2c44ddddb59473e9cf2f1e15b103042",
       "style": "IPY_MODEL_6779c92ffbac4c60988bec249cc630fe",
       "value": true
      }
     },
     "56ec4291ceae46c7be0fc1f1d154ac8f": {
      "model_module": "@jupyter-widgets/controls",
      "model_module_version": "2.0.0",
      "model_name": "HTMLModel",
      "state": {
       "layout": "IPY_MODEL_71c99af724b64531ac587447c1f5d525",
       "style": "IPY_MODEL_eaace5cf539d4d00864537862aad38d7",
       "value": "Standing Low-Pulley Deltoid Raise"
      }
     },
     "56fbb918b5514280b6ae3a450ebc6d2c": {
      "model_module": "@jupyter-widgets/base",
      "model_module_version": "2.0.0",
      "model_name": "LayoutModel",
      "state": {}
     },
     "573bf110d25245719af499ae4d5c5cd6": {
      "model_module": "@jupyter-widgets/base",
      "model_module_version": "2.0.0",
      "model_name": "LayoutModel",
      "state": {}
     },
     "579642cd3e84402aa02835d3924efc0b": {
      "model_module": "@jupyter-widgets/controls",
      "model_module_version": "2.0.0",
      "model_name": "HTMLModel",
      "state": {
       "layout": "IPY_MODEL_31a9507c96b74c7abcd3c7d2cc93416a",
       "style": "IPY_MODEL_40c84a14693c4d1aa29f568012cf2fb4",
       "value": "<h5>\"Close Tab to Exit\"</h5>"
      }
     },
     "5798e2f9b20949069ddf6fdc27aa089e": {
      "model_module": "@jupyter-widgets/controls",
      "model_module_version": "2.0.0",
      "model_name": "ButtonModel",
      "state": {
       "description": "Clear",
       "layout": "IPY_MODEL_fd8a11baf3ca4012994486cdbe78c27c",
       "style": "IPY_MODEL_11a6b0ee5f6c458e8713674e3a625de9",
       "tooltip": null
      }
     },
     "57b521016de7487894ea5f19f2c9ca0e": {
      "model_module": "@jupyter-widgets/base",
      "model_module_version": "2.0.0",
      "model_name": "LayoutModel",
      "state": {
       "height": "55px",
       "width": "80px"
      }
     },
     "57b88eb63405409698d6ff11030ef4c5": {
      "model_module": "@jupyter-widgets/controls",
      "model_module_version": "2.0.0",
      "model_name": "ButtonModel",
      "state": {
       "description": "Close",
       "layout": "IPY_MODEL_64b2b47685034d3ca590b976a9c3bf66",
       "style": "IPY_MODEL_6de7e8bf9a1347c48d0212846646a9a4",
       "tooltip": null
      }
     },
     "57b97de5db3e414ba1e9fa87f8f87131": {
      "model_module": "@jupyter-widgets/controls",
      "model_module_version": "2.0.0",
      "model_name": "BoxModel",
      "state": {
       "children": [
        "IPY_MODEL_12be827c0e2047b4ad7b4b4f164fde07",
        "IPY_MODEL_33cff3f57add4233a045786b007fd442"
       ],
       "layout": "IPY_MODEL_66e06e9d1013495fbcec7b27e4165ae2"
      }
     },
     "57c8ab26c7064b969d289c36eba4daa9": {
      "model_module": "@jupyter-widgets/controls",
      "model_module_version": "2.0.0",
      "model_name": "VBoxModel",
      "state": {
       "children": [
        "IPY_MODEL_e79701b9904b4074b6ae6c8ee526458d"
       ],
       "layout": "IPY_MODEL_05a90033095941049ef862988e108678"
      }
     },
     "57ef2d4bd1a44b219d729cc6853ab70f": {
      "model_module": "@jupyter-widgets/base",
      "model_module_version": "2.0.0",
      "model_name": "LayoutModel",
      "state": {}
     },
     "57f36a6ee4a643a68a555e6eeb0d268c": {
      "model_module": "@jupyter-widgets/base",
      "model_module_version": "2.0.0",
      "model_name": "LayoutModel",
      "state": {
       "height": "55px",
       "width": "120px"
      }
     },
     "580d97e6b971443dbbef3d0593158dfa": {
      "model_module": "@jupyter-widgets/base",
      "model_module_version": "2.0.0",
      "model_name": "LayoutModel",
      "state": {
       "align_items": "stretch",
       "display": "flex",
       "flex_flow": "row",
       "justify_content": "space-around",
       "width": "70%"
      }
     },
     "58231b0afd214945b6466a978777d48c": {
      "model_module": "@jupyter-widgets/controls",
      "model_module_version": "2.0.0",
      "model_name": "BoxModel",
      "state": {
       "children": [
        "IPY_MODEL_f98ab53a2b9341bf9121ac62cf701326",
        "IPY_MODEL_ab5cfab4fab547b2808d17eaf1fd35e8"
       ],
       "layout": "IPY_MODEL_fc48207269ae4499a29f89c4e07e029e"
      }
     },
     "583b33c12a524ad485655378fb38c8b7": {
      "model_module": "@jupyter-widgets/base",
      "model_module_version": "2.0.0",
      "model_name": "LayoutModel",
      "state": {
       "height": "40px",
       "width": "160px"
      }
     },
     "5867a4bc85de42ca8e88f0a8b582898a": {
      "model_module": "@jupyter-widgets/controls",
      "model_module_version": "2.0.0",
      "model_name": "ButtonModel",
      "state": {
       "description": "Close",
       "layout": "IPY_MODEL_702827a6f14c4c988ab87dc5fe50f632",
       "style": "IPY_MODEL_71909a7443b940eda13e0c8044fe895b",
       "tooltip": null
      }
     },
     "587445deb625425d9c8178625605b124": {
      "model_module": "@jupyter-widgets/controls",
      "model_module_version": "2.0.0",
      "model_name": "ButtonStyleModel",
      "state": {
       "font_family": null,
       "font_size": null,
       "font_style": null,
       "font_variant": null,
       "font_weight": null,
       "text_color": null,
       "text_decoration": null
      }
     },
     "58b499cd56124e2386444a35e464ce9a": {
      "model_module": "@jupyter-widgets/controls",
      "model_module_version": "2.0.0",
      "model_name": "HBoxModel",
      "state": {
       "children": [
        "IPY_MODEL_2deac4a4971445f4855738bb818dc3d9"
       ],
       "layout": "IPY_MODEL_9134426480934557b5fbd6a354616966"
      }
     },
     "58e7fab3741640b1874008385f2ea8f7": {
      "model_module": "@jupyter-widgets/base",
      "model_module_version": "2.0.0",
      "model_name": "LayoutModel",
      "state": {}
     },
     "59101674b95f428bac5c7993aa25df4c": {
      "model_module": "@jupyter-widgets/base",
      "model_module_version": "2.0.0",
      "model_name": "LayoutModel",
      "state": {}
     },
     "591c146772464fe79cc3743f42b6abc6": {
      "model_module": "@jupyter-widgets/base",
      "model_module_version": "2.0.0",
      "model_name": "LayoutModel",
      "state": {
       "height": "55px",
       "width": "120px"
      }
     },
     "5951d2627c74480f8ecb33374460884a": {
      "model_module": "@jupyter-widgets/base",
      "model_module_version": "2.0.0",
      "model_name": "LayoutModel",
      "state": {
       "align_items": "stretch",
       "display": "flex",
       "flex_flow": "row",
       "justify_content": "space-around",
       "width": "70%"
      }
     },
     "597bd202f263439e93131c457038d90b": {
      "model_module": "@jupyter-widgets/controls",
      "model_module_version": "2.0.0",
      "model_name": "VBoxModel",
      "state": {
       "layout": "IPY_MODEL_8c9821a4083449e69ff6614c4ad33c5d"
      }
     },
     "59bda96811e84da99ff3d2d63c008baa": {
      "model_module": "@jupyter-widgets/controls",
      "model_module_version": "2.0.0",
      "model_name": "CheckboxStyleModel",
      "state": {
       "description_width": ""
      }
     },
     "59c3bafad067448883be1e34279240af": {
      "model_module": "@jupyter-widgets/controls",
      "model_module_version": "2.0.0",
      "model_name": "ButtonStyleModel",
      "state": {
       "font_family": null,
       "font_size": null,
       "font_style": null,
       "font_variant": null,
       "font_weight": null,
       "text_color": null,
       "text_decoration": null
      }
     },
     "59f154867de14a4bae6b9b79e0cfbbc1": {
      "model_module": "@jupyter-widgets/base",
      "model_module_version": "2.0.0",
      "model_name": "LayoutModel",
      "state": {
       "height": "120px",
       "width": "100px"
      }
     },
     "59f2a877d6c247db962e4821a5e2ede9": {
      "model_module": "@jupyter-widgets/controls",
      "model_module_version": "2.0.0",
      "model_name": "HBoxModel",
      "state": {
       "children": [
        "IPY_MODEL_89783e5b3191455ea19a65557f4a777e"
       ],
       "layout": "IPY_MODEL_0a2ed5b96d764975ad893928ac655622"
      }
     },
     "5a09cdca142b48b7b558475d87796e0a": {
      "model_module": "@jupyter-widgets/controls",
      "model_module_version": "2.0.0",
      "model_name": "HBoxModel",
      "state": {
       "children": [
        "IPY_MODEL_954e961c56814c48a13b2db031f8899d"
       ],
       "layout": "IPY_MODEL_65edffa7a81e4609b98ad660fe83492b"
      }
     },
     "5a5d5209e3a4493bb204ec9015d8d5f9": {
      "model_module": "@jupyter-widgets/controls",
      "model_module_version": "2.0.0",
      "model_name": "CheckboxStyleModel",
      "state": {
       "description_width": ""
      }
     },
     "5a9381c3bd3443b38a2980236df9858f": {
      "model_module": "@jupyter-widgets/controls",
      "model_module_version": "2.0.0",
      "model_name": "CheckboxStyleModel",
      "state": {
       "description_width": ""
      }
     },
     "5abd6990e65545a3b4cbe810dbb19d44": {
      "model_module": "@jupyter-widgets/base",
      "model_module_version": "2.0.0",
      "model_name": "LayoutModel",
      "state": {
       "height": "55px",
       "width": "80px"
      }
     },
     "5ad1a911408545a7b0b77d05d0851498": {
      "model_module": "@jupyter-widgets/base",
      "model_module_version": "2.0.0",
      "model_name": "LayoutModel",
      "state": {}
     },
     "5b2212bfc7804ed7af63f7faaf5be597": {
      "model_module": "@jupyter-widgets/controls",
      "model_module_version": "2.0.0",
      "model_name": "VBoxModel",
      "state": {
       "children": [
        "IPY_MODEL_1bd0eab078fc4fd2b2113e0118f2b031",
        "IPY_MODEL_1827e479f5a54de0b1064942bc9f4b53"
       ],
       "layout": "IPY_MODEL_c3cd8f3e6be54d03b392b8e61fffc030"
      }
     },
     "5bb829d25c6e4bbf88f8c4f7fbefc23e": {
      "model_module": "@jupyter-widgets/controls",
      "model_module_version": "2.0.0",
      "model_name": "VBoxModel",
      "state": {
       "children": [
        "IPY_MODEL_e14750aeafec4ce998098479d2067427",
        "IPY_MODEL_53a16641403046a29945bce7ccecf661",
        "IPY_MODEL_e4d0fe855e324bcca0d1580c23718042"
       ],
       "layout": "IPY_MODEL_6f268ec0b5934cb5a59827ebd1ee4828"
      }
     },
     "5bc40b9fba7d4040a2d905d76d7921b1": {
      "model_module": "@jupyter-widgets/base",
      "model_module_version": "2.0.0",
      "model_name": "LayoutModel",
      "state": {
       "height": "40px",
       "width": "160px"
      }
     },
     "5bf6470b1097467bad4b4e15110f64eb": {
      "model_module": "@jupyter-widgets/base",
      "model_module_version": "2.0.0",
      "model_name": "LayoutModel",
      "state": {}
     },
     "5c12d4a84bcd442a85e8b934917705ed": {
      "model_module": "@jupyter-widgets/controls",
      "model_module_version": "2.0.0",
      "model_name": "HTMLModel",
      "state": {
       "layout": "IPY_MODEL_3a7cef6073c84426a40bd88c9417db9f",
       "style": "IPY_MODEL_fd725945c81a49d8bd64b46bb61919f6",
       "value": "<h2>Equipment List</h2>"
      }
     },
     "5c25657aa9514256904547d502e6faf2": {
      "model_module": "@jupyter-widgets/controls",
      "model_module_version": "2.0.0",
      "model_name": "ButtonModel",
      "state": {
       "description": "Instruction",
       "icon": "comment",
       "layout": "IPY_MODEL_af3e981cc7b34be0b581eb9c96b822b9",
       "style": "IPY_MODEL_a078ecd2fe0e4beb8d25daa8e85f3152",
       "tooltip": "0"
      }
     },
     "5c3f026c088d4c9f93edea5708bdb885": {
      "model_module": "@jupyter-widgets/controls",
      "model_module_version": "2.0.0",
      "model_name": "HTMLStyleModel",
      "state": {
       "description_width": "",
       "font_size": null,
       "text_color": null
      }
     },
     "5c9308f965de4f098a497f6e7027b12c": {
      "model_module": "@jupyter-widgets/controls",
      "model_module_version": "2.0.0",
      "model_name": "CheckboxModel",
      "state": {
       "description": "cable",
       "disabled": false,
       "indent": false,
       "layout": "IPY_MODEL_973312e6a4c44d1d8782c4ac4f5df4a3",
       "style": "IPY_MODEL_b2b63956b5064400b540208886788995",
       "value": false
      }
     },
     "5cdffd3485fe4f9fa6624b7a1cdf8bee": {
      "model_module": "@jupyter-widgets/controls",
      "model_module_version": "2.0.0",
      "model_name": "ButtonModel",
      "state": {
       "description": "Close",
       "layout": "IPY_MODEL_036d66c8316e48e49b83d4d1b1b0ee5e",
       "style": "IPY_MODEL_c6b8e8a03c29440098133e80f6a9b74e",
       "tooltip": null
      }
     },
     "5d345759cf1342e1809d1191728023c1": {
      "model_module": "@jupyter-widgets/controls",
      "model_module_version": "2.0.0",
      "model_name": "CheckboxStyleModel",
      "state": {
       "description_width": ""
      }
     },
     "5d3c4e5cd0b040d1a76441627cbf674c": {
      "model_module": "@jupyter-widgets/controls",
      "model_module_version": "2.0.0",
      "model_name": "ButtonStyleModel",
      "state": {
       "font_family": null,
       "font_size": null,
       "font_style": null,
       "font_variant": null,
       "font_weight": null,
       "text_color": null,
       "text_decoration": null
      }
     },
     "5d878b77b88b47e1b8f85935ef412c33": {
      "model_module": "@jupyter-widgets/base",
      "model_module_version": "2.0.0",
      "model_name": "LayoutModel",
      "state": {}
     },
     "5d9b00209c6b4f93991e6ff79c134d45": {
      "model_module": "@jupyter-widgets/base",
      "model_module_version": "2.0.0",
      "model_name": "LayoutModel",
      "state": {}
     },
     "5dbaaaeeabbf4cf080615aee7f6df2c2": {
      "model_module": "@jupyter-widgets/base",
      "model_module_version": "2.0.0",
      "model_name": "LayoutModel",
      "state": {}
     },
     "5dc32137db3743fa9842359d4daf8aa2": {
      "model_module": "@jupyter-widgets/base",
      "model_module_version": "2.0.0",
      "model_name": "LayoutModel",
      "state": {}
     },
     "5dcee3d3e2364d8aa330a4398374b652": {
      "model_module": "@jupyter-widgets/base",
      "model_module_version": "2.0.0",
      "model_name": "LayoutModel",
      "state": {}
     },
     "5e3b5470b4dc4f6ab090d80e68a0e365": {
      "model_module": "@jupyter-widgets/controls",
      "model_module_version": "2.0.0",
      "model_name": "HBoxModel",
      "state": {
       "children": [
        "IPY_MODEL_b19eb249e5c3424d86b864e923c93910"
       ],
       "layout": "IPY_MODEL_0fd9f483e39142a48f42f9f88b246aba"
      }
     },
     "5e4ef265e5df4020bd89a9e9dd3782d3": {
      "model_module": "@jupyter-widgets/controls",
      "model_module_version": "2.0.0",
      "model_name": "GridBoxModel",
      "state": {
       "layout": "IPY_MODEL_d52499ad1ac94e95a0544110c380847e"
      }
     },
     "5e65c972531f44b6b57afdadec349f80": {
      "model_module": "@jupyter-widgets/base",
      "model_module_version": "2.0.0",
      "model_name": "LayoutModel",
      "state": {}
     },
     "5e8d48293e7c4800985b0c3aad8005af": {
      "model_module": "@jupyter-widgets/base",
      "model_module_version": "2.0.0",
      "model_name": "LayoutModel",
      "state": {
       "height": "120px",
       "width": "100px"
      }
     },
     "5eb806eda5054ffcba0998d704d33520": {
      "model_module": "@jupyter-widgets/controls",
      "model_module_version": "2.0.0",
      "model_name": "CheckboxModel",
      "state": {
       "description": "plyometrics",
       "disabled": false,
       "indent": false,
       "layout": "IPY_MODEL_cb88924a58e04c919c657f21283a0330",
       "style": "IPY_MODEL_d088b78abc8c4abf8fb9c22e2474e6de",
       "value": true
      }
     },
     "5ec8d0896a4843beb06bdec57226c65f": {
      "model_module": "@jupyter-widgets/controls",
      "model_module_version": "2.0.0",
      "model_name": "ButtonModel",
      "state": {
       "description": "Close",
       "layout": "IPY_MODEL_416e0ef934e046ca9e3d2d3dd78c5e23",
       "style": "IPY_MODEL_e00f136739d24d5882f7b3a0db81ccf5",
       "tooltip": null
      }
     },
     "5ee18c4b71d2489bb6b8bf60e94899c8": {
      "model_module": "@jupyter-widgets/controls",
      "model_module_version": "2.0.0",
      "model_name": "CheckboxModel",
      "state": {
       "description": "olympic weightlifting",
       "disabled": false,
       "indent": false,
       "layout": "IPY_MODEL_ff89208897304e34b313761f99c08617",
       "style": "IPY_MODEL_c351212a303848bea6ac231e063f8c97",
       "value": true
      }
     },
     "5f067fad3a4b4a489b0365e6f4b252a7": {
      "model_module": "@jupyter-widgets/controls",
      "model_module_version": "2.0.0",
      "model_name": "VBoxModel",
      "state": {
       "children": [
        "IPY_MODEL_80255425f83e41018cc371871d85b4ce",
        "IPY_MODEL_dc65abab050e45979eb3768ed78f3d41"
       ],
       "layout": "IPY_MODEL_ba7412959aad4a0ea79be78261025946"
      }
     },
     "5f08c8405102481bbf980cf3a716598c": {
      "model_module": "@jupyter-widgets/controls",
      "model_module_version": "2.0.0",
      "model_name": "ButtonModel",
      "state": {
       "description": "Instruction",
       "icon": "comment",
       "layout": "IPY_MODEL_2dc44741b0854938a9ad26ec76a0f81d",
       "style": "IPY_MODEL_730f4df59ea74f1ab7214f3f5ca44756",
       "tooltip": "870"
      }
     },
     "5f5b53fb2d2f4b79ae720affd9b24bee": {
      "model_module": "@jupyter-widgets/controls",
      "model_module_version": "2.0.0",
      "model_name": "CheckboxModel",
      "state": {
       "description": "stretching",
       "disabled": false,
       "indent": false,
       "layout": "IPY_MODEL_3f4542eac65448e4a54c5d6a03435021",
       "style": "IPY_MODEL_4599dc8e61ec45b590421ca316b89bc2",
       "value": true
      }
     },
     "5f5f02ec1bb14950926f1ca5d67d543f": {
      "model_module": "@jupyter-widgets/base",
      "model_module_version": "2.0.0",
      "model_name": "LayoutModel",
      "state": {}
     },
     "5f5f494de20a4eb59024e4adabb0f7db": {
      "model_module": "@jupyter-widgets/base",
      "model_module_version": "2.0.0",
      "model_name": "LayoutModel",
      "state": {}
     },
     "5f6124c3b663475a9f1181abf6aaa2f8": {
      "model_module": "@jupyter-widgets/base",
      "model_module_version": "2.0.0",
      "model_name": "LayoutModel",
      "state": {}
     },
     "5f86efae14d64addbf05181072e2b5a7": {
      "model_module": "@jupyter-widgets/controls",
      "model_module_version": "2.0.0",
      "model_name": "ButtonStyleModel",
      "state": {
       "font_family": null,
       "font_size": null,
       "font_style": null,
       "font_variant": null,
       "font_weight": null,
       "text_color": null,
       "text_decoration": null
      }
     },
     "5fe590b9fb344e998be6821c7fa53459": {
      "model_module": "@jupyter-widgets/controls",
      "model_module_version": "2.0.0",
      "model_name": "VBoxModel",
      "state": {
       "children": [
        "IPY_MODEL_17c88b6116294c1ead9e90da58959e03",
        "IPY_MODEL_02d4e6a991494c30aac01b2bced8be4c"
       ],
       "layout": "IPY_MODEL_12c5cb97e7e748789b380da9fa1b448e"
      }
     },
     "5fe64d3cb80344ba8dc89201c1abcc3e": {
      "model_module": "@jupyter-widgets/base",
      "model_module_version": "2.0.0",
      "model_name": "LayoutModel",
      "state": {}
     },
     "5ff45264ea9e48598dc910c695338826": {
      "model_module": "@jupyter-widgets/base",
      "model_module_version": "2.0.0",
      "model_name": "LayoutModel",
      "state": {}
     },
     "5ff5f6e2c21e429cafa0022e212159aa": {
      "model_module": "@jupyter-widgets/controls",
      "model_module_version": "2.0.0",
      "model_name": "DescriptionStyleModel",
      "state": {
       "description_width": ""
      }
     },
     "600fec2d1b774c96ae45d9d187c588c0": {
      "model_module": "@jupyter-widgets/controls",
      "model_module_version": "2.0.0",
      "model_name": "HTMLStyleModel",
      "state": {
       "description_width": "",
       "font_size": null,
       "text_color": null
      }
     },
     "602dc6a826ae4f6ca16fad8db2780656": {
      "model_module": "@jupyter-widgets/controls",
      "model_module_version": "2.0.0",
      "model_name": "HTMLModel",
      "state": {
       "layout": "IPY_MODEL_9eead1a9d5fa41b9aad3195321b8c7e6",
       "style": "IPY_MODEL_a374ca7344c844058a22b5f4c885fa0a",
       "value": "Standing Bent-Over Two-Arm Dumbbell Triceps Extension"
      }
     },
     "60483799d3764c59a7248891b876addc": {
      "model_module": "@jupyter-widgets/controls",
      "model_module_version": "2.0.0",
      "model_name": "ButtonStyleModel",
      "state": {
       "font_family": null,
       "font_size": null,
       "font_style": null,
       "font_variant": null,
       "font_weight": null,
       "text_color": null,
       "text_decoration": null
      }
     },
     "604ea7f3d8844fee91c029a7b1531e0c": {
      "model_module": "@jupyter-widgets/controls",
      "model_module_version": "2.0.0",
      "model_name": "VBoxModel",
      "state": {
       "children": [
        "IPY_MODEL_947ed054557045aca2cef9be243406d0",
        "IPY_MODEL_6e4692798d4d4e92aff2c39e84b6cb55",
        "IPY_MODEL_54c5baecca6346d291fa6c35dc3d384b"
       ],
       "layout": "IPY_MODEL_17e10f310d974fe080d958448ee1da38"
      }
     },
     "6055dcceee2f44f68a903aaea3d182a0": {
      "model_module": "@jupyter-widgets/controls",
      "model_module_version": "2.0.0",
      "model_name": "HBoxModel",
      "state": {
       "children": [
        "IPY_MODEL_00f0a897680b415fb77418745bf7975d"
       ],
       "layout": "IPY_MODEL_4ff219a12672410eae2fdfd14e41fa2c"
      }
     },
     "60a8f75d2ee942a0be8bc6d1664cd511": {
      "model_module": "@jupyter-widgets/controls",
      "model_module_version": "2.0.0",
      "model_name": "HTMLModel",
      "state": {
       "layout": "IPY_MODEL_2801085a90c0422f84ca089efef248f0",
       "style": "IPY_MODEL_4694e646ccd54d378c5e2c117f4df33a",
       "value": "Pull Through"
      }
     },
     "60c59d06114f40d2ba736b782c53ccd4": {
      "model_module": "@jupyter-widgets/controls",
      "model_module_version": "2.0.0",
      "model_name": "HTMLModel",
      "state": {
       "layout": "IPY_MODEL_726b253119904229bccbaf4431173af7",
       "style": "IPY_MODEL_4ee142c69fd54518a7c323922ef7853b",
       "value": "Cross Body Hammer Curl"
      }
     },
     "60c653e995af4b169856216ee28bb7d3": {
      "model_module": "@jupyter-widgets/controls",
      "model_module_version": "2.0.0",
      "model_name": "CheckboxModel",
      "state": {
       "description": "kettlebells",
       "disabled": false,
       "indent": false,
       "layout": "IPY_MODEL_2c00a75f698d4890af209ff2cb5b72a1",
       "style": "IPY_MODEL_f0dbc9195bd04ad0b95a78bfaeb0acf5",
       "value": false
      }
     },
     "60fddaaa1dc947468d9779eb3131d5d0": {
      "model_module": "@jupyter-widgets/controls",
      "model_module_version": "2.0.0",
      "model_name": "ButtonStyleModel",
      "state": {
       "font_family": null,
       "font_size": null,
       "font_style": null,
       "font_variant": null,
       "font_weight": null,
       "text_color": null,
       "text_decoration": null
      }
     },
     "6102843db76e4bbca6561679aa9d55ad": {
      "model_module": "@jupyter-widgets/base",
      "model_module_version": "2.0.0",
      "model_name": "LayoutModel",
      "state": {
       "height": "55px",
       "width": "80px"
      }
     },
     "6119c0f6d6cb421681e5aa6e60e8ea23": {
      "model_module": "@jupyter-widgets/controls",
      "model_module_version": "2.0.0",
      "model_name": "CheckboxStyleModel",
      "state": {
       "description_width": ""
      }
     },
     "6133dcc88963498ca005544241c691fb": {
      "model_module": "@jupyter-widgets/controls",
      "model_module_version": "2.0.0",
      "model_name": "ButtonModel",
      "state": {
       "description": "Exit",
       "layout": "IPY_MODEL_9dde11f375e241be9f2ed0c02df7ba29",
       "style": "IPY_MODEL_32aa5bba8b4942728fc523420d2d976f",
       "tooltip": null
      }
     },
     "61c38747bb6a45348129125347120dd9": {
      "model_module": "@jupyter-widgets/controls",
      "model_module_version": "2.0.0",
      "model_name": "CheckboxStyleModel",
      "state": {
       "description_width": ""
      }
     },
     "61d733fb219b40ee8a9b15c852a83549": {
      "model_module": "@jupyter-widgets/controls",
      "model_module_version": "2.0.0",
      "model_name": "ButtonStyleModel",
      "state": {
       "font_family": null,
       "font_size": null,
       "font_style": null,
       "font_variant": null,
       "font_weight": null,
       "text_color": null,
       "text_decoration": null
      }
     },
     "61f1dce1b9eb4f5780ce0914a5bcb500": {
      "model_module": "@jupyter-widgets/controls",
      "model_module_version": "2.0.0",
      "model_name": "VBoxModel",
      "state": {
       "children": [
        "IPY_MODEL_9db5efd04b5046bf87a8b2eee413016a",
        "IPY_MODEL_0166edc05cad4623a632a4d86c4aab48"
       ],
       "layout": "IPY_MODEL_b5791cdfb6374b6b9d812e8d0c0f56e4"
      }
     },
     "6202037853f740a28456a06f8a3d7936": {
      "model_module": "@jupyter-widgets/controls",
      "model_module_version": "2.0.0",
      "model_name": "HBoxModel",
      "state": {
       "children": [
        "IPY_MODEL_e5db6813df834ac49a8191cc309383a9"
       ],
       "layout": "IPY_MODEL_7e19f1da8fcc4bd9934368e2d2762c50"
      }
     },
     "625f085dc0344a209bcb36e62602008f": {
      "model_module": "@jupyter-widgets/controls",
      "model_module_version": "2.0.0",
      "model_name": "HTMLModel",
      "state": {
       "layout": "IPY_MODEL_1a81f0baa64e41c3a1e356f059ac1bfa",
       "style": "IPY_MODEL_0be62a134267499da998435832f403b0",
       "value": "Medicine Ball Chest Pass"
      }
     },
     "627e4a50cb4643b5a0f0be97975f3f37": {
      "model_module": "@jupyter-widgets/controls",
      "model_module_version": "2.0.0",
      "model_name": "BoxModel",
      "state": {
       "children": [
        "IPY_MODEL_6ff108b3ae224034998c12d945c8b519",
        "IPY_MODEL_1c88283da6ba48fb800d7a367c64da6e"
       ],
       "layout": "IPY_MODEL_73bebe69184c488aa08bc88928b57501"
      }
     },
     "62b094147a324819a7babb32d17fe649": {
      "model_module": "@jupyter-widgets/base",
      "model_module_version": "2.0.0",
      "model_name": "LayoutModel",
      "state": {}
     },
     "62b17623830b46dab88698bdcbd1c590": {
      "model_module": "@jupyter-widgets/controls",
      "model_module_version": "2.0.0",
      "model_name": "CheckboxStyleModel",
      "state": {
       "description_width": ""
      }
     },
     "62e47489e52e401cb933da078a74077c": {
      "model_module": "@jupyter-widgets/controls",
      "model_module_version": "2.0.0",
      "model_name": "VBoxModel",
      "state": {
       "children": [
        "IPY_MODEL_20d8582da6974d46bd85f01531a36286",
        "IPY_MODEL_2548c94520c149f1b8a8f254e577e4b7"
       ],
       "layout": "IPY_MODEL_faf1763bf9e14918a9120c4a421555e2"
      }
     },
     "6309a1fa81814e54b87491a9cb48680e": {
      "model_module": "@jupyter-widgets/controls",
      "model_module_version": "2.0.0",
      "model_name": "CheckboxModel",
      "state": {
       "description": "foam roll",
       "disabled": false,
       "indent": false,
       "layout": "IPY_MODEL_316db072d9a74beca45834defb599e67",
       "style": "IPY_MODEL_69ffa32fa43948c6b1d68353cc501531",
       "value": false
      }
     },
     "6312bbd02c624f64912a9be7396dc9ed": {
      "model_module": "@jupyter-widgets/controls",
      "model_module_version": "2.0.0",
      "model_name": "HBoxModel",
      "state": {
       "children": [
        "IPY_MODEL_6202037853f740a28456a06f8a3d7936"
       ],
       "layout": "IPY_MODEL_a2433aaebee4404fa934d9be4ef82bfd"
      }
     },
     "63443fde6af94de98464e2e5b2c4f25a": {
      "model_module": "@jupyter-widgets/base",
      "model_module_version": "2.0.0",
      "model_name": "LayoutModel",
      "state": {}
     },
     "634957e88a864a29a37a08f6c3120bcf": {
      "model_module": "@jupyter-widgets/base",
      "model_module_version": "2.0.0",
      "model_name": "LayoutModel",
      "state": {
       "height": "40px",
       "width": "160px"
      }
     },
     "636c6445bd4a4175ab1cbb92be4d5d9e": {
      "model_module": "@jupyter-widgets/base",
      "model_module_version": "2.0.0",
      "model_name": "LayoutModel",
      "state": {
       "height": "40px",
       "width": "160px"
      }
     },
     "637dbae57eb84e7dac5d3fd514102f35": {
      "model_module": "@jupyter-widgets/base",
      "model_module_version": "2.0.0",
      "model_name": "LayoutModel",
      "state": {
       "height": "40px",
       "width": "160px"
      }
     },
     "63a371faa9434f968014c31fa530d9e7": {
      "model_module": "@jupyter-widgets/controls",
      "model_module_version": "2.0.0",
      "model_name": "ButtonModel",
      "state": {
       "description": "Instruction",
       "icon": "comment",
       "layout": "IPY_MODEL_cb1b5ba9c08849ce9427ae435d1be55e",
       "style": "IPY_MODEL_6d2a2d9e8cea4ec08e91ea1c23f634f0",
       "tooltip": "786"
      }
     },
     "63a71f422f424ea1aabf736971eab007": {
      "model_module": "@jupyter-widgets/controls",
      "model_module_version": "2.0.0",
      "model_name": "VBoxModel",
      "state": {
       "children": [
        "IPY_MODEL_199a9ce0908743ebba595b3fe56ae8a7"
       ],
       "layout": "IPY_MODEL_81922542c2134439bd9aac818e78dafa"
      }
     },
     "63bbc98005e34e55a2623061fbe3c13f": {
      "model_module": "@jupyter-widgets/base",
      "model_module_version": "2.0.0",
      "model_name": "LayoutModel",
      "state": {}
     },
     "63c588779a284204af3f0d427f665eba": {
      "model_module": "@jupyter-widgets/base",
      "model_module_version": "2.0.0",
      "model_name": "LayoutModel",
      "state": {}
     },
     "63ddedf022a44fe787bf909cfeee9aa9": {
      "model_module": "@jupyter-widgets/base",
      "model_module_version": "2.0.0",
      "model_name": "LayoutModel",
      "state": {
       "height": "40px",
       "width": "160px"
      }
     },
     "63eef8bbcd5e4fc9b82d886cc3b08c39": {
      "model_module": "@jupyter-widgets/controls",
      "model_module_version": "2.0.0",
      "model_name": "BoxModel",
      "state": {
       "children": [
        "IPY_MODEL_bd2c3d91bdda42419f85838fe1d2adc4",
        "IPY_MODEL_23f9cbff9c064deab69926110b55bb87"
       ],
       "layout": "IPY_MODEL_99dd734a2341482284d3d8c734975bdb"
      }
     },
     "640a530887df4671b713eb8bb3ad5250": {
      "model_module": "@jupyter-widgets/output",
      "model_module_version": "1.0.0",
      "model_name": "OutputModel",
      "state": {
       "layout": "IPY_MODEL_06c4e0c8643b4183b1fbe3ddbfd9b4a0"
      }
     },
     "6441522afaa74164825e33e505e1dd3e": {
      "model_module": "@jupyter-widgets/base",
      "model_module_version": "2.0.0",
      "model_name": "LayoutModel",
      "state": {
       "height": "40px",
       "width": "160px"
      }
     },
     "6447db0525ec49839c4d151faebebcaf": {
      "model_module": "@jupyter-widgets/controls",
      "model_module_version": "2.0.0",
      "model_name": "VBoxModel",
      "state": {
       "children": [
        "IPY_MODEL_67a0c44780e34c67b7ad61487c2c7032",
        "IPY_MODEL_852f155ae947472d86ebd1a7390aaaf0"
       ],
       "layout": "IPY_MODEL_701fb30769f549cbaa301aa744a4aef0"
      }
     },
     "6453dec9b4f940c8a91cef20b0f3d318": {
      "model_module": "@jupyter-widgets/controls",
      "model_module_version": "2.0.0",
      "model_name": "ButtonModel",
      "state": {
       "description": "Close",
       "layout": "IPY_MODEL_700beaff6a57445684f4804fae7847c3",
       "style": "IPY_MODEL_4b5b6dc3940c4928aa619c19ed63d156",
       "tooltip": null
      }
     },
     "648c64d7e79d4547baa268183ac829c8": {
      "model_module": "@jupyter-widgets/controls",
      "model_module_version": "2.0.0",
      "model_name": "ButtonModel",
      "state": {
       "description": "Exit",
       "layout": "IPY_MODEL_905d4374c0794e0e937c7939f903bc15",
       "style": "IPY_MODEL_8bf43b3377ed4d549b1cf5edbc7c063f",
       "tooltip": null
      }
     },
     "64b18628483741119c49dcedabdf37f0": {
      "model_module": "@jupyter-widgets/controls",
      "model_module_version": "2.0.0",
      "model_name": "VBoxModel",
      "state": {
       "layout": "IPY_MODEL_b3a6231a0c4748009e15485cecff0406"
      }
     },
     "64b2b47685034d3ca590b976a9c3bf66": {
      "model_module": "@jupyter-widgets/base",
      "model_module_version": "2.0.0",
      "model_name": "LayoutModel",
      "state": {
       "height": "55px",
       "width": "80px"
      }
     },
     "64c3968bd03440189fc25307cfaebcdd": {
      "model_module": "@jupyter-widgets/controls",
      "model_module_version": "2.0.0",
      "model_name": "ButtonStyleModel",
      "state": {
       "font_family": null,
       "font_size": null,
       "font_style": null,
       "font_variant": null,
       "font_weight": null,
       "text_color": null,
       "text_decoration": null
      }
     },
     "64c69ef1ee15460d95a9472635f3b7a4": {
      "model_module": "@jupyter-widgets/base",
      "model_module_version": "2.0.0",
      "model_name": "LayoutModel",
      "state": {
       "height": "40px",
       "width": "160px"
      }
     },
     "64db3849dd994cb2954504cfd75df603": {
      "model_module": "@jupyter-widgets/base",
      "model_module_version": "2.0.0",
      "model_name": "LayoutModel",
      "state": {}
     },
     "65193f9c5af24190a09ff11eb3db3156": {
      "model_module": "@jupyter-widgets/base",
      "model_module_version": "2.0.0",
      "model_name": "LayoutModel",
      "state": {}
     },
     "655fd2e3b72b4d21baf9248f82b0ff64": {
      "model_module": "@jupyter-widgets/controls",
      "model_module_version": "2.0.0",
      "model_name": "HBoxModel",
      "state": {
       "children": [
        "IPY_MODEL_4991133c7016459cbd3025f0dc855c62"
       ],
       "layout": "IPY_MODEL_17e438a5ec3b46d995ba22dd9310d2c3"
      }
     },
     "6566f6e62edc4c8a9cfbfbd6ee5f3d6e": {
      "model_module": "@jupyter-widgets/base",
      "model_module_version": "2.0.0",
      "model_name": "LayoutModel",
      "state": {}
     },
     "65920b04b62a478095b7dcf382e37e1e": {
      "model_module": "@jupyter-widgets/base",
      "model_module_version": "2.0.0",
      "model_name": "LayoutModel",
      "state": {
       "height": "40px",
       "width": "160px"
      }
     },
     "65b13bce25834631a77f9bc3cb473b24": {
      "model_module": "@jupyter-widgets/controls",
      "model_module_version": "2.0.0",
      "model_name": "HTMLStyleModel",
      "state": {
       "description_width": "",
       "font_size": null,
       "text_color": null
      }
     },
     "65bd8849e2c3481d8c93f3a8df277958": {
      "model_module": "@jupyter-widgets/controls",
      "model_module_version": "2.0.0",
      "model_name": "ButtonModel",
      "state": {
       "description": "Clear",
       "layout": "IPY_MODEL_c8d1cce62bad46dc91a386fd0e32868c",
       "style": "IPY_MODEL_1c42ebed2b57488385dafb45ad8cea93",
       "tooltip": null
      }
     },
     "65bf098002c54671b97e8411949b44f1": {
      "model_module": "@jupyter-widgets/controls",
      "model_module_version": "2.0.0",
      "model_name": "CheckboxModel",
      "state": {
       "description": "foam roll",
       "disabled": false,
       "indent": false,
       "layout": "IPY_MODEL_4016c817d22a44cda46522d632eb065b",
       "style": "IPY_MODEL_6c744b361ed74f4982fad6b46d21a3fa",
       "value": true
      }
     },
     "65edffa7a81e4609b98ad660fe83492b": {
      "model_module": "@jupyter-widgets/base",
      "model_module_version": "2.0.0",
      "model_name": "LayoutModel",
      "state": {}
     },
     "65ee2532d5174f6299c974c589bfb750": {
      "model_module": "@jupyter-widgets/base",
      "model_module_version": "2.0.0",
      "model_name": "LayoutModel",
      "state": {}
     },
     "663ec04c6f1d43e2873d1d15e650127c": {
      "model_module": "@jupyter-widgets/controls",
      "model_module_version": "2.0.0",
      "model_name": "HBoxModel",
      "state": {
       "children": [
        "IPY_MODEL_2deac4a4971445f4855738bb818dc3d9"
       ],
       "layout": "IPY_MODEL_6b1922da8d0644bc900cc80468739794"
      }
     },
     "664035b25ad14128ae616d375dc02af9": {
      "model_module": "@jupyter-widgets/controls",
      "model_module_version": "2.0.0",
      "model_name": "CheckboxStyleModel",
      "state": {
       "description_width": ""
      }
     },
     "664b05b442554ee285ccaac6efa97c51": {
      "model_module": "@jupyter-widgets/controls",
      "model_module_version": "2.0.0",
      "model_name": "VBoxModel",
      "state": {
       "children": [
        "IPY_MODEL_2647dcd57b824fdb93f2fa4f28d5494d",
        "IPY_MODEL_a00dffdbc44748e5a2dfcf4fa09cda2c"
       ],
       "layout": "IPY_MODEL_75ff893de63d405b9fdf1b0bfac815d5"
      }
     },
     "6682e2f6d94b4f6499f381b037058030": {
      "model_module": "@jupyter-widgets/controls",
      "model_module_version": "2.0.0",
      "model_name": "ButtonStyleModel",
      "state": {
       "font_family": null,
       "font_size": null,
       "font_style": null,
       "font_variant": null,
       "font_weight": null,
       "text_color": null,
       "text_decoration": null
      }
     },
     "668f5a860693432399b72d89a1e8dfb0": {
      "model_module": "@jupyter-widgets/controls",
      "model_module_version": "2.0.0",
      "model_name": "CheckboxModel",
      "state": {
       "description": "e-z curl bar",
       "disabled": false,
       "indent": false,
       "layout": "IPY_MODEL_c0fff1eabbc541ff85fca75354287f6c",
       "style": "IPY_MODEL_b8b533cb71134f02b6560ac945fc9d90",
       "value": false
      }
     },
     "669e49648d9b43d5b2e09ee000984e5e": {
      "model_module": "@jupyter-widgets/controls",
      "model_module_version": "2.0.0",
      "model_name": "HTMLModel",
      "state": {
       "layout": "IPY_MODEL_37cb8d9ff9fb41e1bb19e5bda0ddda2f",
       "style": "IPY_MODEL_42166de9acdd46709e746ac9a9b2675d",
       "value": "Star Jump"
      }
     },
     "66a23b49e8884ab887605e4feb88a547": {
      "model_module": "@jupyter-widgets/controls",
      "model_module_version": "2.0.0",
      "model_name": "HBoxModel",
      "state": {
       "children": [
        "IPY_MODEL_1a1302dce3354b2ea4bc5acb74ba6e79"
       ],
       "layout": "IPY_MODEL_a25a5239feff4f999b8b15a3cd5b815e"
      }
     },
     "66dadbdc6b54416e8ff38b2042060bdb": {
      "model_module": "@jupyter-widgets/controls",
      "model_module_version": "2.0.0",
      "model_name": "DescriptionStyleModel",
      "state": {
       "description_width": ""
      }
     },
     "66e06e9d1013495fbcec7b27e4165ae2": {
      "model_module": "@jupyter-widgets/base",
      "model_module_version": "2.0.0",
      "model_name": "LayoutModel",
      "state": {
       "align_items": "stretch",
       "display": "flex",
       "flex_flow": "row",
       "justify_content": "space-around",
       "width": "70%"
      }
     },
     "6723819fa97d4ae9a32137e5763a46ac": {
      "model_module": "@jupyter-widgets/controls",
      "model_module_version": "2.0.0",
      "model_name": "ButtonModel",
      "state": {
       "description": "Body Area",
       "layout": "IPY_MODEL_9931e14e30ba4671afb926028720084c",
       "style": "IPY_MODEL_df162249192445eaa2f766257de3d675",
       "tooltip": null
      }
     },
     "6779c92ffbac4c60988bec249cc630fe": {
      "model_module": "@jupyter-widgets/controls",
      "model_module_version": "2.0.0",
      "model_name": "CheckboxStyleModel",
      "state": {
       "description_width": ""
      }
     },
     "677c50eee8984feeb70a5925055d38bb": {
      "model_module": "@jupyter-widgets/base",
      "model_module_version": "2.0.0",
      "model_name": "LayoutModel",
      "state": {}
     },
     "678470d0e58a46f48d34fa30c739acba": {
      "model_module": "@jupyter-widgets/base",
      "model_module_version": "2.0.0",
      "model_name": "LayoutModel",
      "state": {
       "height": "55px",
       "width": "120px"
      }
     },
     "67a0c44780e34c67b7ad61487c2c7032": {
      "model_module": "@jupyter-widgets/controls",
      "model_module_version": "2.0.0",
      "model_name": "HTMLModel",
      "state": {
       "layout": "IPY_MODEL_3f4bed61e4484e30a2f186687bf13c5f",
       "style": "IPY_MODEL_e0cf9664d3444996b3a273e513287adf",
       "value": "Barbell Squat"
      }
     },
     "67d2294a2402438ab68f5fbd494721fe": {
      "model_module": "@jupyter-widgets/controls",
      "model_module_version": "2.0.0",
      "model_name": "VBoxModel",
      "state": {
       "children": [
        "IPY_MODEL_6962cca8a8d0424e9579fd4e80528d1e",
        "IPY_MODEL_c85f5a8460044e89b9979ea7361b3453",
        "IPY_MODEL_c52b88203d2d44b49295eb7c8594f58a",
        "IPY_MODEL_8581a38cb7464cec9055b70f97e86f73"
       ],
       "layout": "IPY_MODEL_ec9ae92870a349f382347964056133cd"
      }
     },
     "680f9436530648aabd7ba2162cde83fe": {
      "model_module": "@jupyter-widgets/controls",
      "model_module_version": "2.0.0",
      "model_name": "CheckboxStyleModel",
      "state": {
       "description_width": ""
      }
     },
     "68566385c1094ac7b4c0948c39a77d74": {
      "model_module": "@jupyter-widgets/base",
      "model_module_version": "2.0.0",
      "model_name": "LayoutModel",
      "state": {}
     },
     "68920c0f49d94e30a908bc37c942f9c5": {
      "model_module": "@jupyter-widgets/controls",
      "model_module_version": "2.0.0",
      "model_name": "ButtonModel",
      "state": {
       "description": "Body Area",
       "layout": "IPY_MODEL_4aed5a15b66c44788d9dc0165cb9b706",
       "style": "IPY_MODEL_d7e49df549904cdb9f83221be082c464",
       "tooltip": null
      }
     },
     "68cedb0fa3454f9191b2d7eaa6f58b61": {
      "model_module": "@jupyter-widgets/controls",
      "model_module_version": "2.0.0",
      "model_name": "HTMLStyleModel",
      "state": {
       "description_width": "",
       "font_size": null,
       "text_color": null
      }
     },
     "6902689b170f45ee83396d6077bdc7ef": {
      "model_module": "@jupyter-widgets/controls",
      "model_module_version": "2.0.0",
      "model_name": "CheckboxStyleModel",
      "state": {
       "description_width": ""
      }
     },
     "69040a34b4204cde8bee38d1f1d4ccf6": {
      "model_module": "@jupyter-widgets/controls",
      "model_module_version": "2.0.0",
      "model_name": "ButtonModel",
      "state": {
       "description": "Photo",
       "layout": "IPY_MODEL_b6f9750bcc2745b38e71d22e1371a022",
       "style": "IPY_MODEL_0d681fc08745493982a1e1c1f342f46d",
       "tooltip": null
      }
     },
     "691018769c2d4b2e8ad5dcf61e59636e": {
      "model_module": "@jupyter-widgets/controls",
      "model_module_version": "2.0.0",
      "model_name": "VBoxModel",
      "state": {
       "children": [
        "IPY_MODEL_8dd5d80f744f4fdfaa2a6b81069a2f0c"
       ],
       "layout": "IPY_MODEL_c017c78bf63342888625a454b1d1c92b"
      }
     },
     "69173c6dac974b3aaa606aaf53adf72d": {
      "model_module": "@jupyter-widgets/controls",
      "model_module_version": "2.0.0",
      "model_name": "ButtonModel",
      "state": {
       "description": "Photo",
       "layout": "IPY_MODEL_6102843db76e4bbca6561679aa9d55ad",
       "style": "IPY_MODEL_1923341227af461a9c3c508423749c00",
       "tooltip": null
      }
     },
     "693bdf1ff5a04a8bb26f0bad9737aedd": {
      "model_module": "@jupyter-widgets/controls",
      "model_module_version": "2.0.0",
      "model_name": "VBoxModel",
      "state": {
       "children": [
        "IPY_MODEL_d2d3f3ff63b84ec1a1ed8d36185dc026",
        "IPY_MODEL_eb2ce44bc9274851871a9c2cfa29d168"
       ],
       "layout": "IPY_MODEL_9249b1246278448d88e0a5d0e208b3ac"
      }
     },
     "693fc2eb89ee42d4b41c9a89086beac1": {
      "model_module": "@jupyter-widgets/controls",
      "model_module_version": "2.0.0",
      "model_name": "CheckboxStyleModel",
      "state": {
       "description_width": ""
      }
     },
     "6962cca8a8d0424e9579fd4e80528d1e": {
      "model_module": "@jupyter-widgets/controls",
      "model_module_version": "2.0.0",
      "model_name": "CheckboxModel",
      "state": {
       "description": "powerlifting",
       "disabled": false,
       "indent": false,
       "layout": "IPY_MODEL_8a1f9404691c4dac86a6ca2cde47049d",
       "style": "IPY_MODEL_61c38747bb6a45348129125347120dd9",
       "value": true
      }
     },
     "696fd78f175f4d38a55352a238cd4fb9": {
      "model_module": "@jupyter-widgets/base",
      "model_module_version": "2.0.0",
      "model_name": "LayoutModel",
      "state": {
       "height": "40px",
       "width": "160px"
      }
     },
     "6981eb394d5f4424846794ff7fbb3c1c": {
      "model_module": "@jupyter-widgets/controls",
      "model_module_version": "2.0.0",
      "model_name": "HTMLModel",
      "state": {
       "layout": "IPY_MODEL_553bc30bb24c43e4b1eb31349b937f6a",
       "style": "IPY_MODEL_814c910b27484a83a3c757f44f5740e2",
       "value": "Wind Sprints"
      }
     },
     "69ced0cc2d08401f8ca7870c198e9a2b": {
      "model_module": "@jupyter-widgets/base",
      "model_module_version": "2.0.0",
      "model_name": "LayoutModel",
      "state": {}
     },
     "69ffa32fa43948c6b1d68353cc501531": {
      "model_module": "@jupyter-widgets/controls",
      "model_module_version": "2.0.0",
      "model_name": "CheckboxStyleModel",
      "state": {
       "description_width": ""
      }
     },
     "6a00ac95235344e489cbdd9a800c0219": {
      "model_module": "@jupyter-widgets/base",
      "model_module_version": "2.0.0",
      "model_name": "LayoutModel",
      "state": {
       "align_items": "stretch",
       "display": "flex",
       "flex_flow": "row",
       "justify_content": "space-around",
       "width": "70%"
      }
     },
     "6a43eabd17f24b3da66136811e46c2e3": {
      "model_module": "@jupyter-widgets/controls",
      "model_module_version": "2.0.0",
      "model_name": "ButtonStyleModel",
      "state": {
       "font_family": null,
       "font_size": null,
       "font_style": null,
       "font_variant": null,
       "font_weight": null,
       "text_color": null,
       "text_decoration": null
      }
     },
     "6a69046d9a444705bdf9349a6181b210": {
      "model_module": "@jupyter-widgets/controls",
      "model_module_version": "2.0.0",
      "model_name": "HTMLStyleModel",
      "state": {
       "description_width": "",
       "font_size": null,
       "text_color": null
      }
     },
     "6a94dc5bcb394e0e8c51c7139c3c3a51": {
      "model_module": "@jupyter-widgets/base",
      "model_module_version": "2.0.0",
      "model_name": "LayoutModel",
      "state": {
       "height": "40px",
       "width": "160px"
      }
     },
     "6a9b439e28b94ce69ae511ade60a8592": {
      "model_module": "@jupyter-widgets/controls",
      "model_module_version": "2.0.0",
      "model_name": "ButtonStyleModel",
      "state": {
       "font_family": null,
       "font_size": null,
       "font_style": null,
       "font_variant": null,
       "font_weight": null,
       "text_color": null,
       "text_decoration": null
      }
     },
     "6ac101dcf54f496f82f26306f707a216": {
      "model_module": "@jupyter-widgets/controls",
      "model_module_version": "2.0.0",
      "model_name": "HTMLStyleModel",
      "state": {
       "description_width": "",
       "font_size": null,
       "text_color": null
      }
     },
     "6aeee58c8c684a7b8190e15cb5560367": {
      "model_module": "@jupyter-widgets/base",
      "model_module_version": "2.0.0",
      "model_name": "LayoutModel",
      "state": {
       "height": "55px",
       "width": "120px"
      }
     },
     "6aef390f95bf406d8d1562b10ba735ab": {
      "model_module": "@jupyter-widgets/controls",
      "model_module_version": "2.0.0",
      "model_name": "ButtonModel",
      "state": {
       "description": "Photo",
       "layout": "IPY_MODEL_6ec0a86a118045aa97e9b19b6c34d0fa",
       "style": "IPY_MODEL_39af0a00f000407c92b3db653a9ea321",
       "tooltip": null
      }
     },
     "6af026adcdd7460c91b4bd0d50b40c13": {
      "model_module": "@jupyter-widgets/base",
      "model_module_version": "2.0.0",
      "model_name": "LayoutModel",
      "state": {}
     },
     "6af3c2acf1ed4d889149a29766b18954": {
      "model_module": "@jupyter-widgets/controls",
      "model_module_version": "2.0.0",
      "model_name": "VBoxModel",
      "state": {
       "children": [
        "IPY_MODEL_89e9101dec8a454cb9392985bcc26e1c",
        "IPY_MODEL_776c0dc2349a49749ae9ce60cf46c5f7",
        "IPY_MODEL_761b0a1c14ce46e7af1cf3f452f90683",
        "IPY_MODEL_5eb806eda5054ffcba0998d704d33520"
       ],
       "layout": "IPY_MODEL_8fdd4f626ad04e8d9aa95610f210351b"
      }
     },
     "6b0c36c0bd46446fb832b45e3a002909": {
      "model_module": "@jupyter-widgets/base",
      "model_module_version": "2.0.0",
      "model_name": "LayoutModel",
      "state": {}
     },
     "6b1922da8d0644bc900cc80468739794": {
      "model_module": "@jupyter-widgets/base",
      "model_module_version": "2.0.0",
      "model_name": "LayoutModel",
      "state": {}
     },
     "6b6a31e206fe486181c1d69115c1e735": {
      "model_module": "@jupyter-widgets/controls",
      "model_module_version": "2.0.0",
      "model_name": "ButtonStyleModel",
      "state": {
       "font_family": null,
       "font_size": null,
       "font_style": null,
       "font_variant": null,
       "font_weight": null,
       "text_color": null,
       "text_decoration": null
      }
     },
     "6ba3b18f7d3a4c06b9bb3c072be36870": {
      "model_module": "@jupyter-widgets/base",
      "model_module_version": "2.0.0",
      "model_name": "LayoutModel",
      "state": {}
     },
     "6bab02fe963a437d8d32b70fe7078af5": {
      "model_module": "@jupyter-widgets/base",
      "model_module_version": "2.0.0",
      "model_name": "LayoutModel",
      "state": {}
     },
     "6be647aaf59d46cbba1468960e619d8e": {
      "model_module": "@jupyter-widgets/controls",
      "model_module_version": "2.0.0",
      "model_name": "ButtonModel",
      "state": {
       "description": "Sample Size",
       "layout": "IPY_MODEL_d58e48b969ff45e08b1d7e48b41bcfed",
       "style": "IPY_MODEL_da07f9bde0d643ff8f2ec619533e08ad",
       "tooltip": null
      }
     },
     "6c744b361ed74f4982fad6b46d21a3fa": {
      "model_module": "@jupyter-widgets/controls",
      "model_module_version": "2.0.0",
      "model_name": "CheckboxStyleModel",
      "state": {
       "description_width": ""
      }
     },
     "6cc3ac711bbd47399039f9dcaf26669e": {
      "model_module": "@jupyter-widgets/controls",
      "model_module_version": "2.0.0",
      "model_name": "HBoxModel",
      "state": {
       "children": [
        "IPY_MODEL_0f18a9ba09794dcc91ab68e9468ec61a"
       ],
       "layout": "IPY_MODEL_b091910e217d4c78965c10d5bb7c4eb1"
      }
     },
     "6cd1f7b11bb54bdd994c58b06f620b72": {
      "model_module": "@jupyter-widgets/base",
      "model_module_version": "2.0.0",
      "model_name": "LayoutModel",
      "state": {
       "height": "40px",
       "width": "160px"
      }
     },
     "6cf334e6eab34f54b38c08aafd82b948": {
      "model_module": "@jupyter-widgets/base",
      "model_module_version": "2.0.0",
      "model_name": "LayoutModel",
      "state": {}
     },
     "6d2a2d9e8cea4ec08e91ea1c23f634f0": {
      "model_module": "@jupyter-widgets/controls",
      "model_module_version": "2.0.0",
      "model_name": "ButtonStyleModel",
      "state": {
       "font_family": null,
       "font_size": null,
       "font_style": null,
       "font_variant": null,
       "font_weight": null,
       "text_color": null,
       "text_decoration": null
      }
     },
     "6d3a3310dd9046ee8736fb1c5f263f96": {
      "model_module": "@jupyter-widgets/controls",
      "model_module_version": "2.0.0",
      "model_name": "HTMLModel",
      "state": {
       "layout": "IPY_MODEL_0ea59168fce54d27ae9a15a7db1dac51",
       "style": "IPY_MODEL_18047ae1e102455e81a8536c6d23ba44",
       "value": "Supine One-Arm Overhead Throw"
      }
     },
     "6d78e042ba924f71a3ba7bd62a6e061d": {
      "model_module": "@jupyter-widgets/controls",
      "model_module_version": "2.0.0",
      "model_name": "ButtonStyleModel",
      "state": {
       "font_family": null,
       "font_size": null,
       "font_style": null,
       "font_variant": null,
       "font_weight": null,
       "text_color": null,
       "text_decoration": null
      }
     },
     "6dc9901fa7cf479e89b972e6c4efd8f6": {
      "model_module": "@jupyter-widgets/controls",
      "model_module_version": "2.0.0",
      "model_name": "VBoxModel",
      "state": {
       "layout": "IPY_MODEL_90bde43f070349649a8763fd3d4a1ed6"
      }
     },
     "6de7e8bf9a1347c48d0212846646a9a4": {
      "model_module": "@jupyter-widgets/controls",
      "model_module_version": "2.0.0",
      "model_name": "ButtonStyleModel",
      "state": {
       "font_family": null,
       "font_size": null,
       "font_style": null,
       "font_variant": null,
       "font_weight": null,
       "text_color": null,
       "text_decoration": null
      }
     },
     "6e0ce9f01b0846f9b6bf1767c6f32a44": {
      "model_module": "@jupyter-widgets/controls",
      "model_module_version": "2.0.0",
      "model_name": "ButtonModel",
      "state": {
       "description": "Equipment",
       "layout": "IPY_MODEL_0e35c2012ab146b2be51b7bb9098b038",
       "style": "IPY_MODEL_3c5431b6b7cd4f23bf29dcfd94aa6ac0",
       "tooltip": null
      }
     },
     "6e26f3391abe4a77bf05dbc3007a3a38": {
      "model_module": "@jupyter-widgets/controls",
      "model_module_version": "2.0.0",
      "model_name": "VBoxModel",
      "state": {
       "layout": "IPY_MODEL_d2fa15024041466a84a78a34a88a646b"
      }
     },
     "6e34a02c545b4344ba6ff9923f0ee1e4": {
      "model_module": "@jupyter-widgets/base",
      "model_module_version": "2.0.0",
      "model_name": "LayoutModel",
      "state": {
       "height": "40px",
       "width": "160px"
      }
     },
     "6e46116ef6984c7cbf2b5852f58e0f4c": {
      "model_module": "@jupyter-widgets/controls",
      "model_module_version": "2.0.0",
      "model_name": "CheckboxModel",
      "state": {
       "description": "exercise ball",
       "disabled": false,
       "indent": false,
       "layout": "IPY_MODEL_d697a8dab1df4bab92d17f3dc45a6678",
       "style": "IPY_MODEL_10325b0a3ec3409694c64a3822bed784",
       "value": true
      }
     },
     "6e4692798d4d4e92aff2c39e84b6cb55": {
      "model_module": "@jupyter-widgets/controls",
      "model_module_version": "2.0.0",
      "model_name": "VBoxModel",
      "state": {
       "children": [
        "IPY_MODEL_e3a20c43e12a46af84ac8e57a04117d8",
        "IPY_MODEL_3328365e8ac445c5ae85db5ae2892f3c"
       ],
       "layout": "IPY_MODEL_eb9fcc663aa243cd9f96c198216589a6"
      }
     },
     "6e475bb932234e44aa313f41a29384ae": {
      "model_module": "@jupyter-widgets/controls",
      "model_module_version": "2.0.0",
      "model_name": "ButtonModel",
      "state": {
       "description": "Instruction",
       "icon": "comment",
       "layout": "IPY_MODEL_121f82b4474043b28b44913ec2d987c3",
       "style": "IPY_MODEL_2d418d57080847f2b5402257f27c5f0e",
       "tooltip": "325"
      }
     },
     "6e78c18566f44f58bc220ad92406efac": {
      "model_module": "@jupyter-widgets/controls",
      "model_module_version": "2.0.0",
      "model_name": "BoxModel",
      "state": {
       "children": [
        "IPY_MODEL_bc91c600d43b4df4918089c26770fede",
        "IPY_MODEL_75b7c0229fe84710926c5a3afc9c240b"
       ],
       "layout": "IPY_MODEL_4cc673dd46d04e83ae09d188797c8510"
      }
     },
     "6ec0a86a118045aa97e9b19b6c34d0fa": {
      "model_module": "@jupyter-widgets/base",
      "model_module_version": "2.0.0",
      "model_name": "LayoutModel",
      "state": {
       "height": "55px",
       "width": "80px"
      }
     },
     "6ee3e927bcd6407d84eea070ed8bfc08": {
      "model_module": "@jupyter-widgets/controls",
      "model_module_version": "2.0.0",
      "model_name": "HTMLModel",
      "state": {
       "layout": "IPY_MODEL_ab964a755a624da38e34060992d79f0b",
       "style": "IPY_MODEL_08cd7d627e6f44449d67ea72225dab1e",
       "value": "<h1>Results</h1>"
      }
     },
     "6f05740e1f414fc9947a23bdf4902d1f": {
      "model_module": "@jupyter-widgets/controls",
      "model_module_version": "2.0.0",
      "model_name": "ButtonModel",
      "state": {
       "description": "Run",
       "layout": "IPY_MODEL_9a0036112676479f8994b1ac25fbb004",
       "style": "IPY_MODEL_2efa27f8ed0440c8b37b15e5563fa35e",
       "tooltip": null
      }
     },
     "6f268ec0b5934cb5a59827ebd1ee4828": {
      "model_module": "@jupyter-widgets/base",
      "model_module_version": "2.0.0",
      "model_name": "LayoutModel",
      "state": {}
     },
     "6f46420b8d80440583d0d32e4cd97eb7": {
      "model_module": "@jupyter-widgets/controls",
      "model_module_version": "2.0.0",
      "model_name": "HBoxModel",
      "state": {
       "children": [
        "IPY_MODEL_c92a09771e1a4ccd90b05593813d48b5",
        "IPY_MODEL_976a448feb514d9a8e8e73769c7ff9ee",
        "IPY_MODEL_e077a95104684f6b92bbbf452409b879",
        "IPY_MODEL_f0cd538136594b8fbdcd2d97ffe53bc8"
       ],
       "layout": "IPY_MODEL_b706a8d1470745f58664a9c432c0a94c"
      }
     },
     "6f48e05970274ae3930ea023e084deb4": {
      "model_module": "@jupyter-widgets/base",
      "model_module_version": "2.0.0",
      "model_name": "LayoutModel",
      "state": {}
     },
     "6fa247c5899c4e639648a726136bfc6f": {
      "model_module": "@jupyter-widgets/base",
      "model_module_version": "2.0.0",
      "model_name": "LayoutModel",
      "state": {}
     },
     "6ff108b3ae224034998c12d945c8b519": {
      "model_module": "@jupyter-widgets/controls",
      "model_module_version": "2.0.0",
      "model_name": "DropdownModel",
      "state": {
       "_options_labels": [
        "One",
        "Two",
        "Three",
        "Four",
        "Five"
       ],
       "index": 1,
       "layout": "IPY_MODEL_94e8941c09c04b678820f0ecdc744ea1",
       "style": "IPY_MODEL_7565abee8da44e188bc78d49e5938855"
      }
     },
     "6ff5b2423d2d4bc091e8669badb57664": {
      "model_module": "@jupyter-widgets/controls",
      "model_module_version": "2.0.0",
      "model_name": "BoxModel",
      "state": {
       "children": [
        "IPY_MODEL_324eb61fcd0b4840b9da9a995c7ceddd",
        "IPY_MODEL_5bb829d25c6e4bbf88f8c4f7fbefc23e",
        "IPY_MODEL_0542fed2615247218a1fca7cf7a94e79"
       ],
       "layout": "IPY_MODEL_2f452728837b4374af0d8086e2686fbb"
      }
     },
     "700beaff6a57445684f4804fae7847c3": {
      "model_module": "@jupyter-widgets/base",
      "model_module_version": "2.0.0",
      "model_name": "LayoutModel",
      "state": {
       "height": "55px",
       "width": "80px"
      }
     },
     "701fb30769f549cbaa301aa744a4aef0": {
      "model_module": "@jupyter-widgets/base",
      "model_module_version": "2.0.0",
      "model_name": "LayoutModel",
      "state": {}
     },
     "702827a6f14c4c988ab87dc5fe50f632": {
      "model_module": "@jupyter-widgets/base",
      "model_module_version": "2.0.0",
      "model_name": "LayoutModel",
      "state": {
       "height": "55px",
       "width": "80px"
      }
     },
     "707c84b7f91a4fecbeadaa3f85c37455": {
      "model_module": "@jupyter-widgets/controls",
      "model_module_version": "2.0.0",
      "model_name": "ButtonModel",
      "state": {
       "description": "Instruction",
       "icon": "comment",
       "layout": "IPY_MODEL_c0944342f8ed4c07ae2736530b64a346",
       "style": "IPY_MODEL_071f19b9a13f483d8a754163fef63763",
       "tooltip": "439"
      }
     },
     "70c38d1f621d47e2b01a92125ffe6688": {
      "model_module": "@jupyter-widgets/base",
      "model_module_version": "2.0.0",
      "model_name": "LayoutModel",
      "state": {}
     },
     "71472af9ff2a439f92356177ffc39b96": {
      "model_module": "@jupyter-widgets/controls",
      "model_module_version": "2.0.0",
      "model_name": "BoxModel",
      "state": {
       "children": [
        "IPY_MODEL_5f067fad3a4b4a489b0365e6f4b252a7",
        "IPY_MODEL_fc44ae0c9d674ee88ff483f9491a43cb"
       ],
       "layout": "IPY_MODEL_d551f4cc2fae493c87be4957d3f9c0db"
      }
     },
     "715998f16daf4c5fa052d3f37a73cfdb": {
      "model_module": "@jupyter-widgets/controls",
      "model_module_version": "2.0.0",
      "model_name": "VBoxModel",
      "state": {
       "layout": "IPY_MODEL_b3f38434e974420daa18dfde253db5df"
      }
     },
     "718ad2f6a14d4928a038b8081a3fc7d7": {
      "model_module": "@jupyter-widgets/controls",
      "model_module_version": "2.0.0",
      "model_name": "DropdownModel",
      "state": {
       "_options_labels": [
        "One",
        "Two",
        "Three",
        "Four",
        "Five"
       ],
       "index": 1,
       "layout": "IPY_MODEL_33511fe6cd604e36996748d002aa0ad2",
       "style": "IPY_MODEL_48ed0d37210049f18d90122f3f4707f6"
      }
     },
     "71909a7443b940eda13e0c8044fe895b": {
      "model_module": "@jupyter-widgets/controls",
      "model_module_version": "2.0.0",
      "model_name": "ButtonStyleModel",
      "state": {
       "font_family": null,
       "font_size": null,
       "font_style": null,
       "font_variant": null,
       "font_weight": null,
       "text_color": null,
       "text_decoration": null
      }
     },
     "71a54daa6a50419ab99c36fc480be2cc": {
      "model_module": "@jupyter-widgets/base",
      "model_module_version": "2.0.0",
      "model_name": "LayoutModel",
      "state": {
       "height": "55px",
       "width": "120px"
      }
     },
     "71a9531e6862497d8b22614a3a058486": {
      "model_module": "@jupyter-widgets/base",
      "model_module_version": "2.0.0",
      "model_name": "LayoutModel",
      "state": {
       "align_items": "stretch",
       "display": "flex",
       "flex_flow": "row",
       "justify_content": "space-around",
       "width": "70%"
      }
     },
     "71c99af724b64531ac587447c1f5d525": {
      "model_module": "@jupyter-widgets/base",
      "model_module_version": "2.0.0",
      "model_name": "LayoutModel",
      "state": {}
     },
     "71de5521cc8c4ec6bac7688c9bc037db": {
      "model_module": "@jupyter-widgets/base",
      "model_module_version": "2.0.0",
      "model_name": "LayoutModel",
      "state": {}
     },
     "724e66876f2a40dc8a39e3dc2e58a547": {
      "model_module": "@jupyter-widgets/controls",
      "model_module_version": "2.0.0",
      "model_name": "HTMLModel",
      "state": {
       "layout": "IPY_MODEL_5f6124c3b663475a9f1181abf6aaa2f8",
       "style": "IPY_MODEL_5c3f026c088d4c9f93edea5708bdb885",
       "value": "Lying Close-Grip Barbell Triceps Press To Chin"
      }
     },
     "724f7c4df020493590c2d745d4a496d8": {
      "model_module": "@jupyter-widgets/controls",
      "model_module_version": "2.0.0",
      "model_name": "CheckboxModel",
      "state": {
       "description": "e-z curl bar",
       "disabled": false,
       "indent": false,
       "layout": "IPY_MODEL_5664d842aeda4ddc993faa5ebfa5009e",
       "style": "IPY_MODEL_333a0dcade9c4ac7afbb1a3c4c1a57a5",
       "value": true
      }
     },
     "7253ac032b344509adb0855db374cb3c": {
      "model_module": "@jupyter-widgets/controls",
      "model_module_version": "2.0.0",
      "model_name": "ButtonModel",
      "state": {
       "description": "Run",
       "layout": "IPY_MODEL_cb8c1a09681245b1a74c91a680484410",
       "style": "IPY_MODEL_1a96b85cee3b462eab130bdcf66e5d78",
       "tooltip": null
      }
     },
     "726b253119904229bccbaf4431173af7": {
      "model_module": "@jupyter-widgets/base",
      "model_module_version": "2.0.0",
      "model_name": "LayoutModel",
      "state": {}
     },
     "726ee5e6123d4a35b6f5531253a9a958": {
      "model_module": "@jupyter-widgets/base",
      "model_module_version": "2.0.0",
      "model_name": "LayoutModel",
      "state": {}
     },
     "727dcb76d7624e1cbbd755154f619253": {
      "model_module": "@jupyter-widgets/base",
      "model_module_version": "2.0.0",
      "model_name": "LayoutModel",
      "state": {
       "align_items": "stretch",
       "display": "flex",
       "flex_flow": "row",
       "justify_content": "space-around",
       "width": "70%"
      }
     },
     "72a97c2a6fa9448e836fe92b29914169": {
      "model_module": "@jupyter-widgets/controls",
      "model_module_version": "2.0.0",
      "model_name": "CheckboxModel",
      "state": {
       "description": "exercise ball",
       "disabled": false,
       "indent": false,
       "layout": "IPY_MODEL_8c5f17d13d19407c868d2c0fe1787089",
       "style": "IPY_MODEL_7f2d85b4060245449cf2980c9c1082ea",
       "value": true
      }
     },
     "72e1912b34ff48d0af60553bff16a580": {
      "model_module": "@jupyter-widgets/base",
      "model_module_version": "2.0.0",
      "model_name": "LayoutModel",
      "state": {}
     },
     "72ebcca769df4176b09e025238a63f1e": {
      "model_module": "@jupyter-widgets/base",
      "model_module_version": "2.0.0",
      "model_name": "LayoutModel",
      "state": {
       "height": "55px",
       "width": "80px"
      }
     },
     "730f4df59ea74f1ab7214f3f5ca44756": {
      "model_module": "@jupyter-widgets/controls",
      "model_module_version": "2.0.0",
      "model_name": "ButtonStyleModel",
      "state": {
       "font_family": null,
       "font_size": null,
       "font_style": null,
       "font_variant": null,
       "font_weight": null,
       "text_color": null,
       "text_decoration": null
      }
     },
     "7330ebc29b894611a903a25faff75b25": {
      "model_module": "@jupyter-widgets/controls",
      "model_module_version": "2.0.0",
      "model_name": "CheckboxModel",
      "state": {
       "description": "lowerBody",
       "disabled": false,
       "indent": false,
       "layout": "IPY_MODEL_a190f00ffcb0425b9e7ac7a31c9cadd4",
       "style": "IPY_MODEL_a7eda299eaa24c76b9d35c6deee6a697",
       "value": true
      }
     },
     "7337a7d5761541b28915df95c3c2fb06": {
      "model_module": "@jupyter-widgets/controls",
      "model_module_version": "2.0.0",
      "model_name": "HBoxModel",
      "state": {
       "children": [
        "IPY_MODEL_4176d5c8fd3546c9bb9b0ccdde882225"
       ],
       "layout": "IPY_MODEL_71de5521cc8c4ec6bac7688c9bc037db"
      }
     },
     "734e9abe6edf4d7ab48b9ac4f6a3f0c3": {
      "model_module": "@jupyter-widgets/controls",
      "model_module_version": "2.0.0",
      "model_name": "HTMLModel",
      "state": {
       "layout": "IPY_MODEL_d21b2dd191bc4aa2a818e3f7fb6c6aaf",
       "style": "IPY_MODEL_e2e47568b0e74c8290a63d542426008e",
       "value": "<h3>Upper Body</h3>"
      }
     },
     "735919f7523f49f3920142beba36a25b": {
      "model_module": "@jupyter-widgets/base",
      "model_module_version": "2.0.0",
      "model_name": "LayoutModel",
      "state": {}
     },
     "737296f3f44d4d4baa061303fa32dfcf": {
      "model_module": "@jupyter-widgets/controls",
      "model_module_version": "2.0.0",
      "model_name": "ButtonModel",
      "state": {
       "description": "Exit",
       "layout": "IPY_MODEL_98db45f5043643f98aaa9e116828aaff",
       "style": "IPY_MODEL_fcc5840998cf44258e7eb92a039c898a",
       "tooltip": null
      }
     },
     "73a2314a14234560af8db7af3e9fffc9": {
      "model_module": "@jupyter-widgets/base",
      "model_module_version": "2.0.0",
      "model_name": "LayoutModel",
      "state": {
       "height": "55px",
       "width": "80px"
      }
     },
     "73b4a5e9405d499694102aac9d5102fa": {
      "model_module": "@jupyter-widgets/base",
      "model_module_version": "2.0.0",
      "model_name": "LayoutModel",
      "state": {}
     },
     "73bebe69184c488aa08bc88928b57501": {
      "model_module": "@jupyter-widgets/base",
      "model_module_version": "2.0.0",
      "model_name": "LayoutModel",
      "state": {
       "align_items": "stretch",
       "display": "flex",
       "flex_flow": "row",
       "justify_content": "space-around",
       "width": "70%"
      }
     },
     "73c7780e5b8b4b048462996ea15095d8": {
      "model_module": "@jupyter-widgets/base",
      "model_module_version": "2.0.0",
      "model_name": "LayoutModel",
      "state": {}
     },
     "73d27bbf22584a74ae7ac3e3fc2f5722": {
      "model_module": "@jupyter-widgets/controls",
      "model_module_version": "2.0.0",
      "model_name": "CheckboxModel",
      "state": {
       "description": "kettlebells",
       "disabled": false,
       "indent": false,
       "layout": "IPY_MODEL_3f78d04f32fe474c852b5cfa7042d717",
       "style": "IPY_MODEL_402920aa1dfc484eaa3041e5ad8383fc",
       "value": true
      }
     },
     "73f4483b953241e08afe93d66b6eaafe": {
      "model_module": "@jupyter-widgets/controls",
      "model_module_version": "2.0.0",
      "model_name": "ButtonModel",
      "state": {
       "description": "Instruction",
       "icon": "comment",
       "layout": "IPY_MODEL_111e169cb0bc46189e3a05388dd092ea",
       "style": "IPY_MODEL_53bb44b99ffe4cb4a14bb49ee799611f",
       "tooltip": "499"
      }
     },
     "73f5678b8d84422984576964ed366f79": {
      "model_module": "@jupyter-widgets/controls",
      "model_module_version": "2.0.0",
      "model_name": "ButtonModel",
      "state": {
       "description": "Instruction",
       "icon": "comment",
       "layout": "IPY_MODEL_1656e18021414b78ab16ce4f93ad0638",
       "style": "IPY_MODEL_ee41773e32074617a3ddb29f5a7935a8",
       "tooltip": "769"
      }
     },
     "7432d5e909a244918fe3d9ab378e2aac": {
      "model_module": "@jupyter-widgets/controls",
      "model_module_version": "2.0.0",
      "model_name": "BoxModel",
      "state": {
       "children": [
        "IPY_MODEL_bfb522013c4d4e21bb74e0db141e4aa4",
        "IPY_MODEL_c45760281cbd454980fd1955d4a17e73"
       ],
       "layout": "IPY_MODEL_a7e3b03c62f742068bcd6b95c0ace51d"
      }
     },
     "743f7f336ec1403f8ce8bae55ca5fa26": {
      "model_module": "@jupyter-widgets/controls",
      "model_module_version": "2.0.0",
      "model_name": "VBoxModel",
      "state": {
       "children": [
        "IPY_MODEL_6981eb394d5f4424846794ff7fbb3c1c",
        "IPY_MODEL_2c826d00b9094f288ae6bf7425c91895"
       ],
       "layout": "IPY_MODEL_ee26b3a8a37649318ab234a95baa960c"
      }
     },
     "747ab87c6e3542f0a20c01616169b02b": {
      "model_module": "@jupyter-widgets/controls",
      "model_module_version": "2.0.0",
      "model_name": "CheckboxStyleModel",
      "state": {
       "description_width": ""
      }
     },
     "7497364dcc70493380f5863ae55c7492": {
      "model_module": "@jupyter-widgets/controls",
      "model_module_version": "2.0.0",
      "model_name": "VBoxModel",
      "state": {
       "children": [
        "IPY_MODEL_fec2bd24ad1b45a8a615923b62315eeb"
       ],
       "layout": "IPY_MODEL_c50fa98ea2a24fd282dfeefcf4b34d77"
      }
     },
     "74b86e71992643e086cc0ab9435b0370": {
      "model_module": "@jupyter-widgets/controls",
      "model_module_version": "2.0.0",
      "model_name": "CheckboxModel",
      "state": {
       "description": "upperBody",
       "disabled": false,
       "indent": false,
       "layout": "IPY_MODEL_028f8524c2264a6a947583c6cbf9c374",
       "style": "IPY_MODEL_fa2a6d8e9d814e51859c3a43958f7d07",
       "value": true
      }
     },
     "74f0fa8af179417bb2990474543a57fe": {
      "model_module": "@jupyter-widgets/controls",
      "model_module_version": "2.0.0",
      "model_name": "CheckboxStyleModel",
      "state": {
       "description_width": ""
      }
     },
     "7534196c4cee4635b3344608f5ab0492": {
      "model_module": "@jupyter-widgets/base",
      "model_module_version": "2.0.0",
      "model_name": "LayoutModel",
      "state": {
       "height": "55px",
       "width": "120px"
      }
     },
     "75534f6b9c6e453080ef22ec515c14be": {
      "model_module": "@jupyter-widgets/controls",
      "model_module_version": "2.0.0",
      "model_name": "ButtonModel",
      "state": {
       "description": "Instruction",
       "icon": "comment",
       "layout": "IPY_MODEL_9231408fac9e40e8b6be246953677024",
       "style": "IPY_MODEL_911cd591a7694ce1a519588233ba8a4d",
       "tooltip": "0"
      }
     },
     "756231cbea2f486b8d9fe1f96d63afa3": {
      "model_module": "@jupyter-widgets/base",
      "model_module_version": "2.0.0",
      "model_name": "LayoutModel",
      "state": {}
     },
     "7565abee8da44e188bc78d49e5938855": {
      "model_module": "@jupyter-widgets/controls",
      "model_module_version": "2.0.0",
      "model_name": "DescriptionStyleModel",
      "state": {
       "description_width": ""
      }
     },
     "756d93db4b884196a6809cc858e68d44": {
      "model_module": "@jupyter-widgets/controls",
      "model_module_version": "2.0.0",
      "model_name": "HTMLStyleModel",
      "state": {
       "description_width": "",
       "font_size": null,
       "text_color": null
      }
     },
     "7581cfefdb7043c9b793d2af65d2f739": {
      "model_module": "@jupyter-widgets/base",
      "model_module_version": "2.0.0",
      "model_name": "LayoutModel",
      "state": {}
     },
     "759d18c56b174ad5ae2e947d4321d21b": {
      "model_module": "@jupyter-widgets/controls",
      "model_module_version": "2.0.0",
      "model_name": "CheckboxStyleModel",
      "state": {
       "description_width": ""
      }
     },
     "75b7c0229fe84710926c5a3afc9c240b": {
      "model_module": "@jupyter-widgets/controls",
      "model_module_version": "2.0.0",
      "model_name": "ButtonModel",
      "state": {
       "description": "Close",
       "layout": "IPY_MODEL_1b08503b853a4eb592912f68cd076a55",
       "style": "IPY_MODEL_2d2670c0dcc14e63a701854014d21233",
       "tooltip": null
      }
     },
     "75ff893de63d405b9fdf1b0bfac815d5": {
      "model_module": "@jupyter-widgets/base",
      "model_module_version": "2.0.0",
      "model_name": "LayoutModel",
      "state": {}
     },
     "761b0a1c14ce46e7af1cf3f452f90683": {
      "model_module": "@jupyter-widgets/controls",
      "model_module_version": "2.0.0",
      "model_name": "CheckboxModel",
      "state": {
       "description": "olympic weightlifting",
       "disabled": false,
       "indent": false,
       "layout": "IPY_MODEL_b2f6fa633fda40efaf11c13838ebd536",
       "style": "IPY_MODEL_02d3533ccfef48368b155a47fb4b3d87",
       "value": true
      }
     },
     "76923f975bcc436598b371eb1e0451d4": {
      "model_module": "@jupyter-widgets/controls",
      "model_module_version": "2.0.0",
      "model_name": "ButtonModel",
      "state": {
       "description": "Instruction",
       "icon": "comment",
       "layout": "IPY_MODEL_ccea3cdb2dd4484c9171a309c8de9fe1",
       "style": "IPY_MODEL_141321a099af4ba4bd0965c9ebeb2fad",
       "tooltip": "128"
      }
     },
     "76999887f6a54d16876bf6c4bf59771a": {
      "model_module": "@jupyter-widgets/controls",
      "model_module_version": "2.0.0",
      "model_name": "VBoxModel",
      "state": {
       "children": [
        "IPY_MODEL_17bc7cab1b6b4c08ae0cfa1b47975e44",
        "IPY_MODEL_4ed5592ce1ac46e4a89ebbeca43f9ed6",
        "IPY_MODEL_381888f562f442d5aea5412fa1cf6160"
       ],
       "layout": "IPY_MODEL_b84b12d5f64745f2a6af87d1b3cd3c1d"
      }
     },
     "76ea70fa3f0b4073a0a352603ac01391": {
      "model_module": "@jupyter-widgets/base",
      "model_module_version": "2.0.0",
      "model_name": "LayoutModel",
      "state": {}
     },
     "773f95faed5446ca8cbcca40784c49b6": {
      "model_module": "@jupyter-widgets/base",
      "model_module_version": "2.0.0",
      "model_name": "LayoutModel",
      "state": {}
     },
     "77603b086ae1404b8549b3b7f12d5527": {
      "model_module": "@jupyter-widgets/controls",
      "model_module_version": "2.0.0",
      "model_name": "ButtonStyleModel",
      "state": {
       "font_family": null,
       "font_size": null,
       "font_style": null,
       "font_variant": null,
       "font_weight": null,
       "text_color": null,
       "text_decoration": null
      }
     },
     "776c0dc2349a49749ae9ce60cf46c5f7": {
      "model_module": "@jupyter-widgets/controls",
      "model_module_version": "2.0.0",
      "model_name": "CheckboxModel",
      "state": {
       "description": "stretching",
       "disabled": false,
       "indent": false,
       "layout": "IPY_MODEL_e089c868106c4c0da97daa5a698cb301",
       "style": "IPY_MODEL_c0b8a392e45a4c01b66f8c58cff1a92a",
       "value": true
      }
     },
     "777cf8988e114ac7a63b5f172b8874d5": {
      "model_module": "@jupyter-widgets/controls",
      "model_module_version": "2.0.0",
      "model_name": "BoxModel",
      "state": {
       "children": [
        "IPY_MODEL_67d2294a2402438ab68f5fbd494721fe",
        "IPY_MODEL_8d6e3f0cc359407ab49210d50d96727f",
        "IPY_MODEL_ac11560dd0e44d64bc89783c6a8c415b"
       ],
       "layout": "IPY_MODEL_dfba9533b9c2498b9508c7e24a6922dd"
      }
     },
     "77b31ad5197843b088bc545ee171b27d": {
      "model_module": "@jupyter-widgets/base",
      "model_module_version": "2.0.0",
      "model_name": "LayoutModel",
      "state": {
       "height": "55px",
       "width": "120px"
      }
     },
     "781a1f5fb2ed48f1bff3007d6cc65480": {
      "model_module": "@jupyter-widgets/base",
      "model_module_version": "2.0.0",
      "model_name": "LayoutModel",
      "state": {
       "height": "40px",
       "width": "160px"
      }
     },
     "782122409a2948d9a5bee8da87f98161": {
      "model_module": "@jupyter-widgets/controls",
      "model_module_version": "2.0.0",
      "model_name": "CheckboxStyleModel",
      "state": {
       "description_width": ""
      }
     },
     "7849216418ae4162988f57c9ef0ec7ba": {
      "model_module": "@jupyter-widgets/controls",
      "model_module_version": "2.0.0",
      "model_name": "BoxModel",
      "state": {
       "children": [
        "IPY_MODEL_e04dd6b7bb4d48b0b89659eebc229bf7",
        "IPY_MODEL_fb2ecc700e274f7d86089b5602171494"
       ],
       "layout": "IPY_MODEL_36c6143b4cdd4635a8e9bcdb40c7f5ac"
      }
     },
     "786f58df7ba146f7badefe351f530aa8": {
      "model_module": "@jupyter-widgets/controls",
      "model_module_version": "2.0.0",
      "model_name": "VBoxModel",
      "state": {
       "children": [
        "IPY_MODEL_78a3e750e61047fe9f78ab67a55e187b",
        "IPY_MODEL_d01c89c68c0d4e1cb6b0597e62fdd5f9"
       ],
       "layout": "IPY_MODEL_ac3a38c085ad4121bcaa3e0d4a1651f3"
      }
     },
     "78841915757649ac8179877c080a2528": {
      "model_module": "@jupyter-widgets/controls",
      "model_module_version": "2.0.0",
      "model_name": "VBoxModel",
      "state": {
       "children": [
        "IPY_MODEL_80a2c91831c84b4da32bb4b8b5d3470d",
        "IPY_MODEL_e076d646194449408875579f521c462e"
       ],
       "layout": "IPY_MODEL_8d529f132370450d8d17dbe0dd72b30c"
      }
     },
     "788f4a9980724773abb799fa5ad166ce": {
      "model_module": "@jupyter-widgets/controls",
      "model_module_version": "2.0.0",
      "model_name": "HTMLStyleModel",
      "state": {
       "description_width": "",
       "font_size": null,
       "text_color": null
      }
     },
     "78a3e750e61047fe9f78ab67a55e187b": {
      "model_module": "@jupyter-widgets/controls",
      "model_module_version": "2.0.0",
      "model_name": "BoxModel",
      "state": {
       "children": [
        "IPY_MODEL_db91c690cba6485d9d353dea455357c3",
        "IPY_MODEL_217de5ba0c154db0b1ecc9f9ab7cba5f"
       ],
       "layout": "IPY_MODEL_c15f753c3eb7427dbf08cbbd702e96f6"
      }
     },
     "79367142b5064e25aa53d28656c1f8fc": {
      "model_module": "@jupyter-widgets/controls",
      "model_module_version": "2.0.0",
      "model_name": "VBoxModel",
      "state": {
       "children": [
        "IPY_MODEL_45c8755788434421babf9b3753a237a1",
        "IPY_MODEL_73f4483b953241e08afe93d66b6eaafe"
       ],
       "layout": "IPY_MODEL_4120be9585504561b98135be5bfbecf0"
      }
     },
     "7944a9b34c0243298cc8dc999ddf6280": {
      "model_module": "@jupyter-widgets/controls",
      "model_module_version": "2.0.0",
      "model_name": "CheckboxModel",
      "state": {
       "description": "upperBody",
       "disabled": false,
       "indent": false,
       "layout": "IPY_MODEL_e17add2e0261415da473b8606362442c",
       "style": "IPY_MODEL_4d1db458d9e9430b9ef4c103158e585b",
       "value": true
      }
     },
     "795ea5c40ccf475e9099cb8e99af8cfc": {
      "model_module": "@jupyter-widgets/base",
      "model_module_version": "2.0.0",
      "model_name": "LayoutModel",
      "state": {}
     },
     "79759a7747d64d1abbef103f5eb093f4": {
      "model_module": "@jupyter-widgets/controls",
      "model_module_version": "2.0.0",
      "model_name": "VBoxModel",
      "state": {
       "children": [
        "IPY_MODEL_4fb9c9689b404756ab0d5c3899004b89",
        "IPY_MODEL_62e47489e52e401cb933da078a74077c",
        "IPY_MODEL_a05d8fe4b6df4344806a472813d07942"
       ],
       "layout": "IPY_MODEL_0c07be8172df4d9e81c3e1d46954eafc"
      }
     },
     "7996342414d94e4da8c80b5b5fedd313": {
      "model_module": "@jupyter-widgets/controls",
      "model_module_version": "2.0.0",
      "model_name": "VBoxModel",
      "state": {
       "children": [
        "IPY_MODEL_a1875b20568d4874afc58469db979906",
        "IPY_MODEL_b9a3b58d3fca491b97da87f0d207b601",
        "IPY_MODEL_966941a57b294f548ad81ba1610300ff"
       ],
       "layout": "IPY_MODEL_c119066165f84acdb65a3a83a2ca5bbd"
      }
     },
     "79a63a3ec69b4d96b986ff7197102893": {
      "model_module": "@jupyter-widgets/base",
      "model_module_version": "2.0.0",
      "model_name": "LayoutModel",
      "state": {
       "height": "55px",
       "width": "80px"
      }
     },
     "79bc4c41e9a64796be1818a07b34fae9": {
      "model_module": "@jupyter-widgets/base",
      "model_module_version": "2.0.0",
      "model_name": "LayoutModel",
      "state": {
       "height": "120px",
       "width": "100px"
      }
     },
     "7a00df1e8c6a4e9885cc5cb1f4d7f4c0": {
      "model_module": "@jupyter-widgets/controls",
      "model_module_version": "2.0.0",
      "model_name": "CheckboxModel",
      "state": {
       "description": "plyometrics",
       "disabled": false,
       "indent": false,
       "layout": "IPY_MODEL_65920b04b62a478095b7dcf382e37e1e",
       "style": "IPY_MODEL_26c464fd1e9242a2b43a90b75858f1c9",
       "value": true
      }
     },
     "7a18f0b9e9a044d989601e72e7b8e76e": {
      "model_module": "@jupyter-widgets/base",
      "model_module_version": "2.0.0",
      "model_name": "LayoutModel",
      "state": {}
     },
     "7a51cbdee65547d0a721d8d3dfcc5cc9": {
      "model_module": "@jupyter-widgets/controls",
      "model_module_version": "2.0.0",
      "model_name": "CheckboxStyleModel",
      "state": {
       "description_width": ""
      }
     },
     "7a6d641809b0471d925d772a073bba8e": {
      "model_module": "@jupyter-widgets/base",
      "model_module_version": "2.0.0",
      "model_name": "LayoutModel",
      "state": {}
     },
     "7ace7aa9a723406b9ff870748c670a4b": {
      "model_module": "@jupyter-widgets/controls",
      "model_module_version": "2.0.0",
      "model_name": "GridBoxModel",
      "state": {
       "layout": "IPY_MODEL_bd38888923414b3ea9b0419d79b5a443"
      }
     },
     "7ad87a01fcdb4d17894efb3571b07c96": {
      "model_module": "@jupyter-widgets/controls",
      "model_module_version": "2.0.0",
      "model_name": "ButtonModel",
      "state": {
       "description": "Ex Category",
       "layout": "IPY_MODEL_c4a6e2c973704017845ffdae877c6378",
       "style": "IPY_MODEL_ff1c07fd6b694b60ab0747158cd1db2a",
       "tooltip": null
      }
     },
     "7af71b7863d342bf9e3651377367dfba": {
      "model_module": "@jupyter-widgets/controls",
      "model_module_version": "2.0.0",
      "model_name": "ButtonModel",
      "state": {
       "description": "Clear",
       "layout": "IPY_MODEL_9e42496b79a34ed9963c7e926fe32fa8",
       "style": "IPY_MODEL_4509a80e34084444812d187e1408ecba",
       "tooltip": null
      }
     },
     "7b177d318ba44e479888328fa36366ed": {
      "model_module": "@jupyter-widgets/controls",
      "model_module_version": "2.0.0",
      "model_name": "VBoxModel",
      "state": {
       "children": [
        "IPY_MODEL_a19e05f265884e5ea1117b2e6b6e2e12",
        "IPY_MODEL_5f08c8405102481bbf980cf3a716598c"
       ],
       "layout": "IPY_MODEL_7d3b2368252545dd97ec057ca7c1c7e5"
      }
     },
     "7b3f3e5b78bd43eca6de13409f81637b": {
      "model_module": "@jupyter-widgets/controls",
      "model_module_version": "2.0.0",
      "model_name": "VBoxModel",
      "state": {
       "children": [
        "IPY_MODEL_8c5a634f91a143ae875f849eb0528c14",
        "IPY_MODEL_60c653e995af4b169856216ee28bb7d3",
        "IPY_MODEL_cc77d1432fc240b48b352da52c3654f1",
        "IPY_MODEL_0f343524be574c808a522ccc264210bd"
       ],
       "layout": "IPY_MODEL_855ea4b9764a47ac9befb1f9797b127c"
      }
     },
     "7b45dda1e3a144e28a79f3b4cdd8b361": {
      "model_module": "@jupyter-widgets/controls",
      "model_module_version": "2.0.0",
      "model_name": "HTMLModel",
      "state": {
       "layout": "IPY_MODEL_62b094147a324819a7babb32d17fe649",
       "style": "IPY_MODEL_383c5586d7294276874cf8df101454fb",
       "value": "<h1>Random Excercise Generator</h1>"
      }
     },
     "7b6073afbca3436ab851a49ab8137823": {
      "model_module": "@jupyter-widgets/controls",
      "model_module_version": "2.0.0",
      "model_name": "ButtonStyleModel",
      "state": {
       "font_family": null,
       "font_size": null,
       "font_style": null,
       "font_variant": null,
       "font_weight": null,
       "text_color": null,
       "text_decoration": null
      }
     },
     "7b6e4e71001140128c8830fb3be3872d": {
      "model_module": "@jupyter-widgets/controls",
      "model_module_version": "2.0.0",
      "model_name": "HTMLModel",
      "state": {
       "layout": "IPY_MODEL_fa02c9aafbc144348230961b9d346425",
       "style": "IPY_MODEL_a58ff90b2dc14c6898b85a1211c721eb",
       "value": "<h2>Exercise Category</h2>"
      }
     },
     "7b8cf15c91854b62a552eb4b26e576cc": {
      "model_module": "@jupyter-widgets/controls",
      "model_module_version": "2.0.0",
      "model_name": "CheckboxModel",
      "state": {
       "description": "dumbbell",
       "disabled": false,
       "indent": false,
       "layout": "IPY_MODEL_3949372749dd427387c82862da6988dd",
       "style": "IPY_MODEL_9f17c67073b44abab16dd6864cbe7c9f",
       "value": true
      }
     },
     "7c23abeebabb4965941081256c00ee2b": {
      "model_module": "@jupyter-widgets/controls",
      "model_module_version": "2.0.0",
      "model_name": "CheckboxModel",
      "state": {
       "description": "e-z curl bar",
       "disabled": false,
       "indent": false,
       "layout": "IPY_MODEL_2013c864b9db43d3be4d21076b824fe3",
       "style": "IPY_MODEL_62b17623830b46dab88698bdcbd1c590",
       "value": true
      }
     },
     "7c2d5412c592485cbf893591960bc9a5": {
      "model_module": "@jupyter-widgets/base",
      "model_module_version": "2.0.0",
      "model_name": "LayoutModel",
      "state": {}
     },
     "7c3a40de0eea4807a4a48556f5f56d11": {
      "model_module": "@jupyter-widgets/base",
      "model_module_version": "2.0.0",
      "model_name": "LayoutModel",
      "state": {
       "align_items": "stretch",
       "display": "flex",
       "flex_flow": "row",
       "justify_content": "space-around",
       "width": "70%"
      }
     },
     "7c5f11aaea374b8cbebb62bf0cf2fbd0": {
      "model_module": "@jupyter-widgets/controls",
      "model_module_version": "2.0.0",
      "model_name": "HTMLModel",
      "state": {
       "layout": "IPY_MODEL_aaced1e90d334d9fad9bb0340450d35a",
       "style": "IPY_MODEL_d24a5c6490cf49029bd4b977547b3f2d",
       "value": "<h2>Body Area</h2>"
      }
     },
     "7c7d06c22dee4133bef9939e8e394022": {
      "model_module": "@jupyter-widgets/base",
      "model_module_version": "2.0.0",
      "model_name": "LayoutModel",
      "state": {}
     },
     "7c929a61cf04422f93a0e178f4016cb6": {
      "model_module": "@jupyter-widgets/controls",
      "model_module_version": "2.0.0",
      "model_name": "VBoxModel",
      "state": {
       "children": [
        "IPY_MODEL_959b2616d8424e8594009bc6a9f5ae5a",
        "IPY_MODEL_79759a7747d64d1abbef103f5eb093f4"
       ],
       "layout": "IPY_MODEL_d37dcbc15d264a0986d36b0225ba993b"
      }
     },
     "7c9cb58dbae64f44ba654da3604f3c22": {
      "model_module": "@jupyter-widgets/base",
      "model_module_version": "2.0.0",
      "model_name": "LayoutModel",
      "state": {}
     },
     "7cbf4e1d0b474a27962409b2acd968cd": {
      "model_module": "@jupyter-widgets/controls",
      "model_module_version": "2.0.0",
      "model_name": "HBoxModel",
      "state": {
       "children": [
        "IPY_MODEL_a7654b16979a4071bd8fa3ca4d96c15b",
        "IPY_MODEL_2dd5c677423a4dca911be900f58e92aa",
        "IPY_MODEL_8891e4a47e6f4d87905c5ea6e3158f19",
        "IPY_MODEL_a66054f4bb8a49abae5c04b9dec9636a"
       ],
       "layout": "IPY_MODEL_b46c4230e2c54eaaa2218a317828af9f"
      }
     },
     "7d042cbb3bc24c73acf15a72db99b896": {
      "model_module": "@jupyter-widgets/controls",
      "model_module_version": "2.0.0",
      "model_name": "VBoxModel",
      "state": {
       "children": [
        "IPY_MODEL_6d3a3310dd9046ee8736fb1c5f263f96",
        "IPY_MODEL_51f9b2cbf2ca4486949b810497be684a"
       ],
       "layout": "IPY_MODEL_37d745e95e3a400d8605211566243e28"
      }
     },
     "7d3b2368252545dd97ec057ca7c1c7e5": {
      "model_module": "@jupyter-widgets/base",
      "model_module_version": "2.0.0",
      "model_name": "LayoutModel",
      "state": {}
     },
     "7d4f659dcf5f4c9d8820038cce177931": {
      "model_module": "@jupyter-widgets/controls",
      "model_module_version": "2.0.0",
      "model_name": "ButtonStyleModel",
      "state": {
       "font_family": null,
       "font_size": null,
       "font_style": null,
       "font_variant": null,
       "font_weight": null,
       "text_color": null,
       "text_decoration": null
      }
     },
     "7d6d77f9616640f8b6fc37d930ed30d0": {
      "model_module": "@jupyter-widgets/base",
      "model_module_version": "2.0.0",
      "model_name": "LayoutModel",
      "state": {}
     },
     "7d7fcc74c8254207a6c251626fa16a03": {
      "model_module": "@jupyter-widgets/base",
      "model_module_version": "2.0.0",
      "model_name": "LayoutModel",
      "state": {
       "height": "40px",
       "width": "160px"
      }
     },
     "7d9b6d688ac0422caf26a255292d98d9": {
      "model_module": "@jupyter-widgets/base",
      "model_module_version": "2.0.0",
      "model_name": "LayoutModel",
      "state": {
       "height": "55px",
       "width": "80px"
      }
     },
     "7dcd76b9a2e74f4f9c600a32e112531a": {
      "model_module": "@jupyter-widgets/controls",
      "model_module_version": "2.0.0",
      "model_name": "CheckboxModel",
      "state": {
       "description": "strength",
       "disabled": false,
       "indent": false,
       "layout": "IPY_MODEL_19e3a23c14c14aa3be85777e87a16472",
       "style": "IPY_MODEL_5a9381c3bd3443b38a2980236df9858f",
       "value": true
      }
     },
     "7e00ba0852074c4aa95416ad3a318678": {
      "model_module": "@jupyter-widgets/base",
      "model_module_version": "2.0.0",
      "model_name": "LayoutModel",
      "state": {
       "height": "55px",
       "width": "120px"
      }
     },
     "7e19f1da8fcc4bd9934368e2d2762c50": {
      "model_module": "@jupyter-widgets/base",
      "model_module_version": "2.0.0",
      "model_name": "LayoutModel",
      "state": {}
     },
     "7e392b381dd14072978da08e939d29e7": {
      "model_module": "@jupyter-widgets/controls",
      "model_module_version": "2.0.0",
      "model_name": "HBoxModel",
      "state": {
       "children": [
        "IPY_MODEL_4272f9c14d934fa88e1f00873e5e0706"
       ],
       "layout": "IPY_MODEL_5e65c972531f44b6b57afdadec349f80"
      }
     },
     "7e41b36869314e0b9c7aef78fec92f7d": {
      "model_module": "@jupyter-widgets/base",
      "model_module_version": "2.0.0",
      "model_name": "LayoutModel",
      "state": {
       "height": "40px",
       "width": "160px"
      }
     },
     "7e53b79efd2446d1b0e2a83a6a53f376": {
      "model_module": "@jupyter-widgets/controls",
      "model_module_version": "2.0.0",
      "model_name": "HTMLModel",
      "state": {
       "layout": "IPY_MODEL_fc4e66a191344bd9af915d2900b07c9e",
       "style": "IPY_MODEL_1903ff079d9a46a5821c2690b809539c",
       "value": "<h1>Results</h1>"
      }
     },
     "7e926d8f305d48f58d4e5f5157fd004a": {
      "model_module": "@jupyter-widgets/base",
      "model_module_version": "2.0.0",
      "model_name": "LayoutModel",
      "state": {}
     },
     "7eb9ae9f3eab48eca0ff1f80ee6beddb": {
      "model_module": "@jupyter-widgets/base",
      "model_module_version": "2.0.0",
      "model_name": "LayoutModel",
      "state": {}
     },
     "7f2d85b4060245449cf2980c9c1082ea": {
      "model_module": "@jupyter-widgets/controls",
      "model_module_version": "2.0.0",
      "model_name": "CheckboxStyleModel",
      "state": {
       "description_width": ""
      }
     },
     "7f4eeba99f294f6f91e4097c53666579": {
      "model_module": "@jupyter-widgets/controls",
      "model_module_version": "2.0.0",
      "model_name": "CheckboxStyleModel",
      "state": {
       "description_width": ""
      }
     },
     "7f52367221d64497b847ba30084b115d": {
      "model_module": "@jupyter-widgets/controls",
      "model_module_version": "2.0.0",
      "model_name": "ButtonStyleModel",
      "state": {
       "font_family": null,
       "font_size": null,
       "font_style": null,
       "font_variant": null,
       "font_weight": null,
       "text_color": null,
       "text_decoration": null
      }
     },
     "7f5da0d343d141198ccbd440b0b1a8c1": {
      "model_module": "@jupyter-widgets/controls",
      "model_module_version": "2.0.0",
      "model_name": "HBoxModel",
      "state": {
       "children": [
        "IPY_MODEL_e0b0b1fed4ee41d284841521bbe56833"
       ],
       "layout": "IPY_MODEL_f0546e7975054ea9ab94e53f98ecbabf"
      }
     },
     "7f6457a0999e439c837aad799e78ecca": {
      "model_module": "@jupyter-widgets/controls",
      "model_module_version": "2.0.0",
      "model_name": "HTMLStyleModel",
      "state": {
       "description_width": "",
       "font_size": null,
       "text_color": null
      }
     },
     "7f64f50320a542eaaa5f71454f65cbb0": {
      "model_module": "@jupyter-widgets/controls",
      "model_module_version": "2.0.0",
      "model_name": "HTMLStyleModel",
      "state": {
       "description_width": "",
       "font_size": null,
       "text_color": null
      }
     },
     "7f8d6803a92946eca3323b1c3e055d4d": {
      "model_module": "@jupyter-widgets/controls",
      "model_module_version": "2.0.0",
      "model_name": "HBoxModel",
      "state": {
       "children": [
        "IPY_MODEL_4f9c2d8b69314db4a2274d7182bf25d6",
        "IPY_MODEL_9b42a62d08d44c8e8032c48277a98310",
        "IPY_MODEL_92205f9608564e1bb996e2db41f91e0b",
        "IPY_MODEL_f56cfa47e84745f89d0beb5c383cbf56"
       ],
       "layout": "IPY_MODEL_e4c60e9bea04488dae268ff1354143e6"
      }
     },
     "7fa29180368c4ee4a8d4932f9ea68dec": {
      "model_module": "@jupyter-widgets/controls",
      "model_module_version": "2.0.0",
      "model_name": "HTMLModel",
      "state": {
       "layout": "IPY_MODEL_4fccd7b0aea64c259681dd8c9a311bef",
       "style": "IPY_MODEL_e49de412a7d24966b046ec1dd1668a5d",
       "value": "<h2>Body Area</h2>"
      }
     },
     "7fc1a38ec437475986882574f7134dd8": {
      "model_module": "@jupyter-widgets/base",
      "model_module_version": "2.0.0",
      "model_name": "LayoutModel",
      "state": {
       "height": "55px",
       "width": "80px"
      }
     },
     "7fded779c6364ca584c7b27055e07799": {
      "model_module": "@jupyter-widgets/controls",
      "model_module_version": "2.0.0",
      "model_name": "ButtonStyleModel",
      "state": {
       "font_family": null,
       "font_size": null,
       "font_style": null,
       "font_variant": null,
       "font_weight": null,
       "text_color": null,
       "text_decoration": null
      }
     },
     "801314c7de2141f7b06c1f2b7b55b550": {
      "model_module": "@jupyter-widgets/controls",
      "model_module_version": "2.0.0",
      "model_name": "CheckboxStyleModel",
      "state": {
       "description_width": ""
      }
     },
     "80255425f83e41018cc371871d85b4ce": {
      "model_module": "@jupyter-widgets/controls",
      "model_module_version": "2.0.0",
      "model_name": "HTMLModel",
      "state": {
       "layout": "IPY_MODEL_ff96e418543643d6bbc38c9b49c5dc14",
       "style": "IPY_MODEL_c9e39868baa34bf389e767a97d3972e4",
       "value": "Internal Rotation with Band"
      }
     },
     "808a57d7113e4278b6b06625b6b962bc": {
      "model_module": "@jupyter-widgets/controls",
      "model_module_version": "2.0.0",
      "model_name": "VBoxModel",
      "state": {
       "children": [
        "IPY_MODEL_63eef8bbcd5e4fc9b82d886cc3b08c39",
        "IPY_MODEL_ccf71aae82f243f390bbd18fa94e0fdd"
       ],
       "layout": "IPY_MODEL_f7921bf1cea84c1e8adb4a8c89713dea"
      }
     },
     "80a194e3798245439a98fef1c2e3e272": {
      "model_module": "@jupyter-widgets/base",
      "model_module_version": "2.0.0",
      "model_name": "LayoutModel",
      "state": {
       "height": "55px",
       "width": "120px"
      }
     },
     "80a2c91831c84b4da32bb4b8b5d3470d": {
      "model_module": "@jupyter-widgets/controls",
      "model_module_version": "2.0.0",
      "model_name": "HTMLModel",
      "state": {
       "layout": "IPY_MODEL_6fa247c5899c4e639648a726136bfc6f",
       "style": "IPY_MODEL_1131f500d2f5449e838e553f44579185",
       "value": "Lateral Raise - With Bands"
      }
     },
     "80aebbdaa30a45709ef144ca96b73287": {
      "model_module": "@jupyter-widgets/controls",
      "model_module_version": "2.0.0",
      "model_name": "ButtonStyleModel",
      "state": {
       "font_family": null,
       "font_size": null,
       "font_style": null,
       "font_variant": null,
       "font_weight": null,
       "text_color": null,
       "text_decoration": null
      }
     },
     "80b1d06ff70647df887367ce1d1dcf1b": {
      "model_module": "@jupyter-widgets/base",
      "model_module_version": "2.0.0",
      "model_name": "LayoutModel",
      "state": {}
     },
     "80e6ef2de5b64d26883a586ad38780cb": {
      "model_module": "@jupyter-widgets/controls",
      "model_module_version": "2.0.0",
      "model_name": "VBoxModel",
      "state": {
       "layout": "IPY_MODEL_03ac11edd9da4e53bea144284499b82a"
      }
     },
     "810cb6129b2141eabb09051cdd9dbf30": {
      "model_module": "@jupyter-widgets/controls",
      "model_module_version": "2.0.0",
      "model_name": "CheckboxStyleModel",
      "state": {
       "description_width": ""
      }
     },
     "81370fa176c64637b2fde6af8e009c37": {
      "model_module": "@jupyter-widgets/controls",
      "model_module_version": "2.0.0",
      "model_name": "HTMLModel",
      "state": {
       "layout": "IPY_MODEL_cb929e5557334a1283fc275b911a36f2",
       "style": "IPY_MODEL_2c12472e0d694cf895a4c7b6123a76d3",
       "value": "Band Pull Apart"
      }
     },
     "814c910b27484a83a3c757f44f5740e2": {
      "model_module": "@jupyter-widgets/controls",
      "model_module_version": "2.0.0",
      "model_name": "HTMLStyleModel",
      "state": {
       "description_width": "",
       "font_size": null,
       "text_color": null
      }
     },
     "8159baa88174491fbf9c0d58a54fa36b": {
      "model_module": "@jupyter-widgets/controls",
      "model_module_version": "2.0.0",
      "model_name": "VBoxModel",
      "state": {
       "children": [
        "IPY_MODEL_83b3f237ceff4e7fb217efd7ea90a235"
       ],
       "layout": "IPY_MODEL_5d9b00209c6b4f93991e6ff79c134d45"
      }
     },
     "816fcd4a8768406ab89221780136231c": {
      "model_module": "@jupyter-widgets/controls",
      "model_module_version": "2.0.0",
      "model_name": "VBoxModel",
      "state": {
       "children": [
        "IPY_MODEL_f8134dfbfecd4e209c96271e841876f4",
        "IPY_MODEL_83050c898eba40dc9aea3d064b8e25dd"
       ],
       "layout": "IPY_MODEL_063811e616514239b8e6b5ef133da908"
      }
     },
     "81922542c2134439bd9aac818e78dafa": {
      "model_module": "@jupyter-widgets/base",
      "model_module_version": "2.0.0",
      "model_name": "LayoutModel",
      "state": {}
     },
     "81d52c83c20944968619f4a86bd3ac5b": {
      "model_module": "@jupyter-widgets/base",
      "model_module_version": "2.0.0",
      "model_name": "LayoutModel",
      "state": {}
     },
     "8213294c076a4d599a4fa8724be85386": {
      "model_module": "@jupyter-widgets/controls",
      "model_module_version": "2.0.0",
      "model_name": "HTMLStyleModel",
      "state": {
       "description_width": "",
       "font_size": null,
       "text_color": null
      }
     },
     "823b45c88bcc4dda8581d96e9218fb45": {
      "model_module": "@jupyter-widgets/base",
      "model_module_version": "2.0.0",
      "model_name": "LayoutModel",
      "state": {}
     },
     "823f6a5d0e0c454d99c9a7a9debc8f70": {
      "model_module": "@jupyter-widgets/controls",
      "model_module_version": "2.0.0",
      "model_name": "HTMLModel",
      "state": {
       "layout": "IPY_MODEL_2901fac29d6641b8b33244e518b5f737",
       "style": "IPY_MODEL_542cfde766e94d2b97b9ea3ad33fe61f",
       "value": "Weighted Ball Side Bend"
      }
     },
     "825ea46f5eac4d938559fa8094f15e82": {
      "model_module": "@jupyter-widgets/controls",
      "model_module_version": "2.0.0",
      "model_name": "HBoxModel",
      "state": {
       "children": [
        "IPY_MODEL_7c5f11aaea374b8cbebb62bf0cf2fbd0"
       ],
       "layout": "IPY_MODEL_57ef2d4bd1a44b219d729cc6853ab70f"
      }
     },
     "827039263a844ea98414e5c5b02e0b3f": {
      "model_module": "@jupyter-widgets/controls",
      "model_module_version": "2.0.0",
      "model_name": "HBoxModel",
      "state": {
       "children": [
        "IPY_MODEL_7fa29180368c4ee4a8d4932f9ea68dec"
       ],
       "layout": "IPY_MODEL_ae45e3e05d004b6abe6a6a7d4b478339"
      }
     },
     "83050c898eba40dc9aea3d064b8e25dd": {
      "model_module": "@jupyter-widgets/controls",
      "model_module_version": "2.0.0",
      "model_name": "BoxModel",
      "state": {
       "children": [
        "IPY_MODEL_ea3c306e228b4062a43efd4e4bf16ed5",
        "IPY_MODEL_a65f1d7f316349e3b0e78856856af5e5"
       ],
       "layout": "IPY_MODEL_d20306500b884179929f286f0c37c3ae"
      }
     },
     "8318e7dff8a64bbfa0e6bb30397a3d19": {
      "model_module": "@jupyter-widgets/base",
      "model_module_version": "2.0.0",
      "model_name": "LayoutModel",
      "state": {
       "height": "40px",
       "width": "160px"
      }
     },
     "83451da40c334ebaa09f0eac3b957b4c": {
      "model_module": "@jupyter-widgets/base",
      "model_module_version": "2.0.0",
      "model_name": "LayoutModel",
      "state": {}
     },
     "834ebc2698e24faf9ddfb3ee1392013d": {
      "model_module": "@jupyter-widgets/base",
      "model_module_version": "2.0.0",
      "model_name": "LayoutModel",
      "state": {
       "height": "40px",
       "width": "160px"
      }
     },
     "8366e3cfccd146ac9575faf2d5878a81": {
      "model_module": "@jupyter-widgets/controls",
      "model_module_version": "2.0.0",
      "model_name": "HBoxModel",
      "state": {
       "children": [
        "IPY_MODEL_c7c3d3ae38a842b8828d431bda39430d"
       ],
       "layout": "IPY_MODEL_63443fde6af94de98464e2e5b2c4f25a"
      }
     },
     "83b3f237ceff4e7fb217efd7ea90a235": {
      "model_module": "@jupyter-widgets/controls",
      "model_module_version": "2.0.0",
      "model_name": "ButtonModel",
      "state": {
       "description": "Sample Size",
       "layout": "IPY_MODEL_35f17fff6877478abe5db12f07ecb49a",
       "style": "IPY_MODEL_02566cd71a1842f595bc99cb0694439b",
       "tooltip": null
      }
     },
     "83c102d5b4b448b682ee83a4da808289": {
      "model_module": "@jupyter-widgets/controls",
      "model_module_version": "2.0.0",
      "model_name": "CheckboxModel",
      "state": {
       "description": "cable",
       "disabled": false,
       "indent": false,
       "layout": "IPY_MODEL_e31f925a3dd8453db9458df5ea38ca9a",
       "style": "IPY_MODEL_f153f2dd4cc343cf94842ba4b79e2d05",
       "value": true
      }
     },
     "83ca049a27c043fbad3019db6bb9822e": {
      "model_module": "@jupyter-widgets/controls",
      "model_module_version": "2.0.0",
      "model_name": "HTMLModel",
      "state": {
       "layout": "IPY_MODEL_e07ca2cf6ef548218856924b40794387",
       "style": "IPY_MODEL_ad1c4b745fd24247a1e1c798bdc8efa0",
       "value": "<h3>Lower_Body</h3>"
      }
     },
     "83e338aec18b42f8875a7c0d4c5a05aa": {
      "model_module": "@jupyter-widgets/base",
      "model_module_version": "2.0.0",
      "model_name": "LayoutModel",
      "state": {}
     },
     "84077ae8ab3e416aaee083521bdc7a27": {
      "model_module": "@jupyter-widgets/controls",
      "model_module_version": "2.0.0",
      "model_name": "BoxModel",
      "state": {
       "children": [
        "IPY_MODEL_718ad2f6a14d4928a038b8081a3fc7d7",
        "IPY_MODEL_8da1a62f319c43119068b805bebc6522"
       ],
       "layout": "IPY_MODEL_db21abc92eb244a983ecc11f0ea52efc"
      }
     },
     "842626a9d12c4c2db95ea737450dfbbd": {
      "model_module": "@jupyter-widgets/base",
      "model_module_version": "2.0.0",
      "model_name": "LayoutModel",
      "state": {}
     },
     "84352bdd70894b119a0875a4f457c6e2": {
      "model_module": "@jupyter-widgets/controls",
      "model_module_version": "2.0.0",
      "model_name": "VBoxModel",
      "state": {
       "children": [
        "IPY_MODEL_a0a00c7c854b4c87b6321e87e854b8a1",
        "IPY_MODEL_9b79efc0ec18454cb20dde27d9202829",
        "IPY_MODEL_efa48d168db64f6482760bc3bf924d44"
       ],
       "layout": "IPY_MODEL_cdd42bc399df4936bf6a074908d317ca"
      }
     },
     "8466fad0067244f0b4e9358aeabceed3": {
      "model_module": "@jupyter-widgets/controls",
      "model_module_version": "2.0.0",
      "model_name": "BoxModel",
      "state": {
       "children": [
        "IPY_MODEL_5b2212bfc7804ed7af63f7faaf5be597",
        "IPY_MODEL_7d042cbb3bc24c73acf15a72db99b896"
       ],
       "layout": "IPY_MODEL_c66e22b146a24c3f81d97e4919dc48c9"
      }
     },
     "84be212cb6db40e4aca06e5527ac2dca": {
      "model_module": "@jupyter-widgets/base",
      "model_module_version": "2.0.0",
      "model_name": "LayoutModel",
      "state": {}
     },
     "85011c82aba64027b49cccebf75c0da8": {
      "model_module": "@jupyter-widgets/controls",
      "model_module_version": "2.0.0",
      "model_name": "HBoxModel",
      "state": {
       "children": [
        "IPY_MODEL_0b61ebce859b45d58aa841a000d8132d"
       ],
       "layout": "IPY_MODEL_2c9f1b4d2c4d493eaad56f07205a9495"
      }
     },
     "850750b581f04d38993deb54f409793c": {
      "model_module": "@jupyter-widgets/base",
      "model_module_version": "2.0.0",
      "model_name": "LayoutModel",
      "state": {}
     },
     "852f155ae947472d86ebd1a7390aaaf0": {
      "model_module": "@jupyter-widgets/controls",
      "model_module_version": "2.0.0",
      "model_name": "ButtonModel",
      "state": {
       "description": "Instruction",
       "icon": "comment",
       "layout": "IPY_MODEL_11963df8a27a4a54a8343c1205eef4e4",
       "style": "IPY_MODEL_4846654166f348afa256348ddfa96207",
       "tooltip": "63"
      }
     },
     "853b086b892f493fb445f18832948b36": {
      "model_module": "@jupyter-widgets/base",
      "model_module_version": "2.0.0",
      "model_name": "LayoutModel",
      "state": {}
     },
     "855ea4b9764a47ac9befb1f9797b127c": {
      "model_module": "@jupyter-widgets/base",
      "model_module_version": "2.0.0",
      "model_name": "LayoutModel",
      "state": {}
     },
     "856ee5cf8e434205b714d33635927e15": {
      "model_module": "@jupyter-widgets/base",
      "model_module_version": "2.0.0",
      "model_name": "LayoutModel",
      "state": {}
     },
     "8581a38cb7464cec9055b70f97e86f73": {
      "model_module": "@jupyter-widgets/controls",
      "model_module_version": "2.0.0",
      "model_name": "CheckboxModel",
      "state": {
       "description": "plyometrics",
       "disabled": false,
       "indent": false,
       "layout": "IPY_MODEL_394cd2b85519467fb34f4c7504430597",
       "style": "IPY_MODEL_874a857ccf704d5dbe32c4a403c950ec",
       "value": true
      }
     },
     "8592917938cc4117855001437fda6076": {
      "model_module": "@jupyter-widgets/base",
      "model_module_version": "2.0.0",
      "model_name": "LayoutModel",
      "state": {}
     },
     "85e086f6eba64bb1bb11be6524a2d890": {
      "model_module": "@jupyter-widgets/base",
      "model_module_version": "2.0.0",
      "model_name": "LayoutModel",
      "state": {}
     },
     "863745cde71a4b86ab1e56883481f55c": {
      "model_module": "@jupyter-widgets/controls",
      "model_module_version": "2.0.0",
      "model_name": "ButtonModel",
      "state": {
       "description": "Instruction",
       "icon": "comment",
       "layout": "IPY_MODEL_90d2abb6888747a4bebbca219da50b16",
       "style": "IPY_MODEL_7fded779c6364ca584c7b27055e07799",
       "tooltip": "532"
      }
     },
     "864294e422a84f3bb34d370fa423f59e": {
      "model_module": "@jupyter-widgets/controls",
      "model_module_version": "2.0.0",
      "model_name": "HTMLModel",
      "state": {
       "layout": "IPY_MODEL_6566f6e62edc4c8a9cfbfbd6ee5f3d6e",
       "style": "IPY_MODEL_ad46567f2ee7447b80920d74f4d91502",
       "value": "Seated Hamstring and Calf Stretch"
      }
     },
     "866cac00c4a544d291c30c0bf588a31f": {
      "model_module": "@jupyter-widgets/controls",
      "model_module_version": "2.0.0",
      "model_name": "HTMLModel",
      "state": {
       "layout": "IPY_MODEL_ed9e862dd2044bd199ac9854bd1ad0df",
       "style": "IPY_MODEL_a5cd496304584619990b8d23e47f5275",
       "value": "<h1>Random Excercise Generator</h1>"
      }
     },
     "867030bedc424c56a679b6385c7f9ed8": {
      "model_module": "@jupyter-widgets/controls",
      "model_module_version": "2.0.0",
      "model_name": "HBoxModel",
      "state": {
       "children": [
        "IPY_MODEL_a8c049555db44fdd9acd3ba15098cb5a",
        "IPY_MODEL_d0d7aa3c412345c7a84aa6709ba14071",
        "IPY_MODEL_a4399080546f4832acef0f43a492b04a",
        "IPY_MODEL_9712c9a5fd8d44eca1d2c605c4a2878e"
       ],
       "layout": "IPY_MODEL_f5c8b2cab4224e5898e03a9d202cca99"
      }
     },
     "868a325155db459f82d7523d1cec5ad6": {
      "model_module": "@jupyter-widgets/controls",
      "model_module_version": "2.0.0",
      "model_name": "HTMLModel",
      "state": {
       "layout": "IPY_MODEL_14529f465b1e4f41991d912d3c7773f0",
       "style": "IPY_MODEL_a244d65bff474e868f9c03dd8c3a0e22",
       "value": "Toe Touchers"
      }
     },
     "868be1eaed094c66b65b760e5a8d3170": {
      "model_module": "@jupyter-widgets/controls",
      "model_module_version": "2.0.0",
      "model_name": "ButtonStyleModel",
      "state": {
       "font_family": null,
       "font_size": null,
       "font_style": null,
       "font_variant": null,
       "font_weight": null,
       "text_color": null,
       "text_decoration": null
      }
     },
     "8698df275c2d4d9290815c97b0548037": {
      "model_module": "@jupyter-widgets/controls",
      "model_module_version": "2.0.0",
      "model_name": "CheckboxModel",
      "state": {
       "description": "strongman",
       "disabled": false,
       "indent": false,
       "layout": "IPY_MODEL_4380987089a04c9a92a38241e8413b14",
       "style": "IPY_MODEL_6902689b170f45ee83396d6077bdc7ef",
       "value": true
      }
     },
     "86c50c750f9c459aa193f8b01b9e8057": {
      "model_module": "@jupyter-widgets/controls",
      "model_module_version": "2.0.0",
      "model_name": "VBoxModel",
      "state": {
       "children": [
        "IPY_MODEL_59f2a877d6c247db962e4821a5e2ede9",
        "IPY_MODEL_8466fad0067244f0b4e9358aeabceed3"
       ],
       "layout": "IPY_MODEL_f21de033f38b48aeb61849cbce80a4e5"
      }
     },
     "86e5c3c4a5d24b5f9781c2853a9be704": {
      "model_module": "@jupyter-widgets/controls",
      "model_module_version": "2.0.0",
      "model_name": "ButtonModel",
      "state": {
       "description": "Close",
       "layout": "IPY_MODEL_0ba133bd14594cbc94a3cc589694d6ca",
       "style": "IPY_MODEL_ba5edbabb0d54816a7c28a4091b11c1e",
       "tooltip": null
      }
     },
     "86fce804dbe045bd8ee2dcbd9ac014fa": {
      "model_module": "@jupyter-widgets/controls",
      "model_module_version": "2.0.0",
      "model_name": "VBoxModel",
      "state": {
       "children": [
        "IPY_MODEL_09b57a6ae5954716aa592af816db1dfa",
        "IPY_MODEL_dd8729a48eb540f38ffa2c20cbcb1525"
       ],
       "layout": "IPY_MODEL_3a55a18984c64f51b2508e6e063c41a0"
      }
     },
     "872644bed41a4c7d8c8146d314da9f7b": {
      "model_module": "@jupyter-widgets/controls",
      "model_module_version": "2.0.0",
      "model_name": "ButtonStyleModel",
      "state": {
       "font_family": null,
       "font_size": null,
       "font_style": null,
       "font_variant": null,
       "font_weight": null,
       "text_color": null,
       "text_decoration": null
      }
     },
     "874a857ccf704d5dbe32c4a403c950ec": {
      "model_module": "@jupyter-widgets/controls",
      "model_module_version": "2.0.0",
      "model_name": "CheckboxStyleModel",
      "state": {
       "description_width": ""
      }
     },
     "8772db6435bb430c9143c3de0d1ac69b": {
      "model_module": "@jupyter-widgets/controls",
      "model_module_version": "2.0.0",
      "model_name": "VBoxModel",
      "state": {
       "children": [
        "IPY_MODEL_aa0256963a3846d1908f7ba9b1345039",
        "IPY_MODEL_c7cbb1f71bea4b8b8708860b705cc7e7"
       ],
       "layout": "IPY_MODEL_8f4d072dad484eb9b3c52b7b35261380"
      }
     },
     "87a03846fa4b4a4d9a1873b0d4545cf0": {
      "model_module": "@jupyter-widgets/controls",
      "model_module_version": "2.0.0",
      "model_name": "ButtonStyleModel",
      "state": {
       "font_family": null,
       "font_size": null,
       "font_style": null,
       "font_variant": null,
       "font_weight": null,
       "text_color": null,
       "text_decoration": null
      }
     },
     "87e0ce86e6b7493dbbc3eabb2fbb5a26": {
      "model_module": "@jupyter-widgets/base",
      "model_module_version": "2.0.0",
      "model_name": "LayoutModel",
      "state": {}
     },
     "87eff5e7bc6a4e388b18e31a5b93c3b4": {
      "model_module": "@jupyter-widgets/controls",
      "model_module_version": "2.0.0",
      "model_name": "HBoxModel",
      "state": {
       "children": [
        "IPY_MODEL_2df2dc5623244466989f3d24ed1ef6ce"
       ],
       "layout": "IPY_MODEL_bf79f4edc35c44c1ba0a404e2ef1ac8f"
      }
     },
     "87fe69a6acbc4cf7af658a67fcd24e67": {
      "model_module": "@jupyter-widgets/base",
      "model_module_version": "2.0.0",
      "model_name": "LayoutModel",
      "state": {}
     },
     "88353df5fa3b4ebea1651ffb3e055011": {
      "model_module": "@jupyter-widgets/controls",
      "model_module_version": "2.0.0",
      "model_name": "CheckboxStyleModel",
      "state": {
       "description_width": ""
      }
     },
     "8871309800a6406490ab99c2aac15051": {
      "model_module": "@jupyter-widgets/controls",
      "model_module_version": "2.0.0",
      "model_name": "ButtonModel",
      "state": {
       "description": "Instruction",
       "icon": "comment",
       "layout": "IPY_MODEL_a9ad84c2b91f482c884077543bb5a7ed",
       "style": "IPY_MODEL_0c7293d7fda24c0bab2be5141bf4540d",
       "tooltip": "596"
      }
     },
     "88758d59ed5b453c870f8a70a287b177": {
      "model_module": "@jupyter-widgets/controls",
      "model_module_version": "2.0.0",
      "model_name": "CheckboxStyleModel",
      "state": {
       "description_width": ""
      }
     },
     "887f4550e3dc41d7ac943f41e4a21ec7": {
      "model_module": "@jupyter-widgets/controls",
      "model_module_version": "2.0.0",
      "model_name": "VBoxModel",
      "state": {
       "children": [
        "IPY_MODEL_159d4300d61343858ed1c46be163a307",
        "IPY_MODEL_aff06340f7f9490b8aecaad0c709d1d6"
       ],
       "layout": "IPY_MODEL_f9c1444bd2934f81bac6a6494c848b43"
      }
     },
     "8891e4a47e6f4d87905c5ea6e3158f19": {
      "model_module": "@jupyter-widgets/controls",
      "model_module_version": "2.0.0",
      "model_name": "VBoxModel",
      "state": {
       "children": [
        "IPY_MODEL_6723819fa97d4ae9a32137e5763a46ac"
       ],
       "layout": "IPY_MODEL_d9cb5e8ed4ff441cb4f99b3f52f6c35a"
      }
     },
     "88a6b0be38fb47548fb6d5c411cf44f8": {
      "model_module": "@jupyter-widgets/controls",
      "model_module_version": "2.0.0",
      "model_name": "CheckboxStyleModel",
      "state": {
       "description_width": ""
      }
     },
     "88cb7133bd9c46e5a917c47bbfb2f2bd": {
      "model_module": "@jupyter-widgets/controls",
      "model_module_version": "2.0.0",
      "model_name": "HBoxModel",
      "state": {
       "children": [
        "IPY_MODEL_627e4a50cb4643b5a0f0be97975f3f37"
       ],
       "layout": "IPY_MODEL_8592917938cc4117855001437fda6076"
      }
     },
     "88e7add7a15a4cb0a99b204693d7aaf0": {
      "model_module": "@jupyter-widgets/controls",
      "model_module_version": "2.0.0",
      "model_name": "CheckboxModel",
      "state": {
       "description": "strength",
       "disabled": false,
       "indent": false,
       "layout": "IPY_MODEL_10aa066f34bc4a679fbae0126e22710e",
       "style": "IPY_MODEL_801314c7de2141f7b06c1f2b7b55b550",
       "value": true
      }
     },
     "88f3f2625c6340ad8a265620cac7c826": {
      "model_module": "@jupyter-widgets/controls",
      "model_module_version": "2.0.0",
      "model_name": "VBoxModel",
      "state": {
       "layout": "IPY_MODEL_43984fd90ac44c76bd9ba4f156dbfe1b"
      }
     },
     "893ec588331f4abab684dc63b857af1b": {
      "model_module": "@jupyter-widgets/base",
      "model_module_version": "2.0.0",
      "model_name": "LayoutModel",
      "state": {
       "height": "55px",
       "width": "120px"
      }
     },
     "8966e986ff2148f286e012a6a0fa9ca3": {
      "model_module": "@jupyter-widgets/controls",
      "model_module_version": "2.0.0",
      "model_name": "VBoxModel",
      "state": {
       "children": [
        "IPY_MODEL_cf7aea0739de4f7eb74ec15ce9e523a1",
        "IPY_MODEL_513f4824e6554113874bc96f6613e22b"
       ],
       "layout": "IPY_MODEL_573bf110d25245719af499ae4d5c5cd6"
      }
     },
     "896f8c179d9544f6ab6d3b68f1e31b26": {
      "model_module": "@jupyter-widgets/base",
      "model_module_version": "2.0.0",
      "model_name": "LayoutModel",
      "state": {}
     },
     "89756981e9e048289f73fbe23765e8e2": {
      "model_module": "@jupyter-widgets/base",
      "model_module_version": "2.0.0",
      "model_name": "LayoutModel",
      "state": {}
     },
     "89783e5b3191455ea19a65557f4a777e": {
      "model_module": "@jupyter-widgets/controls",
      "model_module_version": "2.0.0",
      "model_name": "HBoxModel",
      "state": {
       "children": [
        "IPY_MODEL_deb1b34bb05c423aa465d96ea31fedb9"
       ],
       "layout": "IPY_MODEL_7c9cb58dbae64f44ba654da3604f3c22"
      }
     },
     "89878ff481ab42a599807bfe14f1d796": {
      "model_module": "@jupyter-widgets/controls",
      "model_module_version": "2.0.0",
      "model_name": "ButtonStyleModel",
      "state": {
       "font_family": null,
       "font_size": null,
       "font_style": null,
       "font_variant": null,
       "font_weight": null,
       "text_color": null,
       "text_decoration": null
      }
     },
     "8993d5d9dfe247a1b6bc7cd5e139b679": {
      "model_module": "@jupyter-widgets/base",
      "model_module_version": "2.0.0",
      "model_name": "LayoutModel",
      "state": {
       "height": "120px",
       "width": "100px"
      }
     },
     "89c340ae268c4fa7b6626d1a81c22689": {
      "model_module": "@jupyter-widgets/controls",
      "model_module_version": "2.0.0",
      "model_name": "ButtonModel",
      "state": {
       "description": "Clear",
       "layout": "IPY_MODEL_916aa29fab354622a44520c1858e777a",
       "style": "IPY_MODEL_8a49475b8eb0498eae5f2c31ad582b3f",
       "tooltip": null
      }
     },
     "89e452535ec44a5a8dbbe86a43994a98": {
      "model_module": "@jupyter-widgets/controls",
      "model_module_version": "2.0.0",
      "model_name": "VBoxModel",
      "state": {
       "children": [
        "IPY_MODEL_daaaedbd1fca490e8d610fd8b5df6b8f",
        "IPY_MODEL_eb2ce44bc9274851871a9c2cfa29d168"
       ],
       "layout": "IPY_MODEL_e6821d1d73aa4ffe8722dba1c6d92d21"
      }
     },
     "89e9101dec8a454cb9392985bcc26e1c": {
      "model_module": "@jupyter-widgets/controls",
      "model_module_version": "2.0.0",
      "model_name": "CheckboxModel",
      "state": {
       "description": "powerlifting",
       "disabled": false,
       "indent": false,
       "layout": "IPY_MODEL_4cdf3063f35c40faa54c9004f2e8e909",
       "style": "IPY_MODEL_544beba2b38249658a614b1e19e89c55",
       "value": true
      }
     },
     "8a08a874a23d422492509d76493d36fc": {
      "model_module": "@jupyter-widgets/controls",
      "model_module_version": "2.0.0",
      "model_name": "BoxModel",
      "state": {
       "children": [
        "IPY_MODEL_6af3c2acf1ed4d889149a29766b18954",
        "IPY_MODEL_aa4ea1b9491d4cd784fe2db691ef1a4e",
        "IPY_MODEL_2c1bcfa68e684b139af7a37581b42985"
       ],
       "layout": "IPY_MODEL_ad4012faf1d741d8b02ee368577c495e"
      }
     },
     "8a18c7df589b4b4baf29d5bea3991f04": {
      "model_module": "@jupyter-widgets/base",
      "model_module_version": "2.0.0",
      "model_name": "LayoutModel",
      "state": {}
     },
     "8a1f9404691c4dac86a6ca2cde47049d": {
      "model_module": "@jupyter-widgets/base",
      "model_module_version": "2.0.0",
      "model_name": "LayoutModel",
      "state": {
       "height": "40px",
       "width": "160px"
      }
     },
     "8a394ca409fa43dc9a7d6c43b325f5a5": {
      "model_module": "@jupyter-widgets/base",
      "model_module_version": "2.0.0",
      "model_name": "LayoutModel",
      "state": {}
     },
     "8a3ef788828a48e884b469911565a741": {
      "model_module": "@jupyter-widgets/base",
      "model_module_version": "2.0.0",
      "model_name": "LayoutModel",
      "state": {}
     },
     "8a49475b8eb0498eae5f2c31ad582b3f": {
      "model_module": "@jupyter-widgets/controls",
      "model_module_version": "2.0.0",
      "model_name": "ButtonStyleModel",
      "state": {
       "font_family": null,
       "font_size": null,
       "font_style": null,
       "font_variant": null,
       "font_weight": null,
       "text_color": null,
       "text_decoration": null
      }
     },
     "8a787e8835f14545acf6882fc4f8efae": {
      "model_module": "@jupyter-widgets/base",
      "model_module_version": "2.0.0",
      "model_name": "LayoutModel",
      "state": {}
     },
     "8abcd6484eda4574ab2e6deda5f7393f": {
      "model_module": "@jupyter-widgets/controls",
      "model_module_version": "2.0.0",
      "model_name": "VBoxModel",
      "state": {
       "children": [
        "IPY_MODEL_2850ef028ac0411ca47ef3b160ce0906",
        "IPY_MODEL_2798082575a7412dbb3832caae5b650c"
       ],
       "layout": "IPY_MODEL_8ddea8f1d8ab4c7db6bc4531cc7b415c"
      }
     },
     "8af2507fb2fb40229d3c01e6c4dc1fa4": {
      "model_module": "@jupyter-widgets/base",
      "model_module_version": "2.0.0",
      "model_name": "LayoutModel",
      "state": {}
     },
     "8b139d4e0a694214ac381d23781f291a": {
      "model_module": "@jupyter-widgets/base",
      "model_module_version": "2.0.0",
      "model_name": "LayoutModel",
      "state": {
       "height": "55px",
       "width": "120px"
      }
     },
     "8ba851e440954a238dab80d728a92557": {
      "model_module": "@jupyter-widgets/controls",
      "model_module_version": "2.0.0",
      "model_name": "CheckboxStyleModel",
      "state": {
       "description_width": ""
      }
     },
     "8bb80e76108f4e988265d721e10052aa": {
      "model_module": "@jupyter-widgets/controls",
      "model_module_version": "2.0.0",
      "model_name": "BoxModel",
      "state": {
       "children": [
        "IPY_MODEL_bf09a96ca1d944988b3a2adf2a84c090",
        "IPY_MODEL_3e7c9feab5b3478b9ebb56408780bf55"
       ],
       "layout": "IPY_MODEL_a7e3b03c62f742068bcd6b95c0ace51d"
      }
     },
     "8bcff0584ee94e8da2f8141e11b602ca": {
      "model_module": "@jupyter-widgets/base",
      "model_module_version": "2.0.0",
      "model_name": "LayoutModel",
      "state": {}
     },
     "8be049bd71e443848a0e52b78503b5dd": {
      "model_module": "@jupyter-widgets/base",
      "model_module_version": "2.0.0",
      "model_name": "LayoutModel",
      "state": {}
     },
     "8bf3a150a45344c48cef8c35c641af46": {
      "model_module": "@jupyter-widgets/base",
      "model_module_version": "2.0.0",
      "model_name": "LayoutModel",
      "state": {
       "align_items": "stretch",
       "display": "flex",
       "flex_flow": "row",
       "justify_content": "space-around",
       "width": "70%"
      }
     },
     "8bf43b3377ed4d549b1cf5edbc7c063f": {
      "model_module": "@jupyter-widgets/controls",
      "model_module_version": "2.0.0",
      "model_name": "ButtonStyleModel",
      "state": {
       "font_family": null,
       "font_size": null,
       "font_style": null,
       "font_variant": null,
       "font_weight": null,
       "text_color": null,
       "text_decoration": null
      }
     },
     "8bffb38724aa4efa81df966e8ff159e9": {
      "model_module": "@jupyter-widgets/base",
      "model_module_version": "2.0.0",
      "model_name": "LayoutModel",
      "state": {}
     },
     "8c10fc0923fa40cfa6b7493d3a641046": {
      "model_module": "@jupyter-widgets/controls",
      "model_module_version": "2.0.0",
      "model_name": "VBoxModel",
      "state": {
       "layout": "IPY_MODEL_b5e806d7e2e449ed8a21746c4773b022"
      }
     },
     "8c5a634f91a143ae875f849eb0528c14": {
      "model_module": "@jupyter-widgets/controls",
      "model_module_version": "2.0.0",
      "model_name": "CheckboxModel",
      "state": {
       "description": "dumbbell",
       "disabled": false,
       "indent": false,
       "layout": "IPY_MODEL_141bf740520440579f964ef9b8220f70",
       "style": "IPY_MODEL_c23db4d931104f4fb6d1b5d1cd176eb4",
       "value": false
      }
     },
     "8c5e528df88849bbab903165a36fc023": {
      "model_module": "@jupyter-widgets/controls",
      "model_module_version": "2.0.0",
      "model_name": "HTMLModel",
      "state": {
       "layout": "IPY_MODEL_bc3fc2ddf01f446d80023ae54b069af9",
       "style": "IPY_MODEL_65b13bce25834631a77f9bc3cb473b24",
       "value": "One-Legged Cable Kickback"
      }
     },
     "8c5f17d13d19407c868d2c0fe1787089": {
      "model_module": "@jupyter-widgets/base",
      "model_module_version": "2.0.0",
      "model_name": "LayoutModel",
      "state": {
       "height": "40px",
       "width": "160px"
      }
     },
     "8c8d36c073f043d28b3bcecd5503bede": {
      "model_module": "@jupyter-widgets/base",
      "model_module_version": "2.0.0",
      "model_name": "LayoutModel",
      "state": {
       "height": "55px",
       "width": "80px"
      }
     },
     "8c9821a4083449e69ff6614c4ad33c5d": {
      "model_module": "@jupyter-widgets/base",
      "model_module_version": "2.0.0",
      "model_name": "LayoutModel",
      "state": {}
     },
     "8c9e0d9236b04a1e94f1464db282d845": {
      "model_module": "@jupyter-widgets/base",
      "model_module_version": "2.0.0",
      "model_name": "LayoutModel",
      "state": {}
     },
     "8ca9c6e8b2b040ccae929cc1bb72718d": {
      "model_module": "@jupyter-widgets/controls",
      "model_module_version": "2.0.0",
      "model_name": "ButtonModel",
      "state": {
       "description": "Close",
       "layout": "IPY_MODEL_ea87f1bdb41e43909171bba0ba7a2fa7",
       "style": "IPY_MODEL_96d5cfbf75134edda0d0952cd0bc8af6",
       "tooltip": null
      }
     },
     "8d18c4d366cd47f88ead76d661476f58": {
      "model_module": "@jupyter-widgets/controls",
      "model_module_version": "2.0.0",
      "model_name": "ButtonModel",
      "state": {
       "description": "Exit",
       "layout": "IPY_MODEL_12d2096f14c944659842e5305daa973b",
       "style": "IPY_MODEL_35563471330e4d08b92105d83240c4ed",
       "tooltip": null
      }
     },
     "8d3ac154697e470ebc3fe43ceeded2e3": {
      "model_module": "@jupyter-widgets/base",
      "model_module_version": "2.0.0",
      "model_name": "LayoutModel",
      "state": {}
     },
     "8d529f132370450d8d17dbe0dd72b30c": {
      "model_module": "@jupyter-widgets/base",
      "model_module_version": "2.0.0",
      "model_name": "LayoutModel",
      "state": {}
     },
     "8d6e3f0cc359407ab49210d50d96727f": {
      "model_module": "@jupyter-widgets/controls",
      "model_module_version": "2.0.0",
      "model_name": "VBoxModel",
      "state": {
       "children": [
        "IPY_MODEL_88e7add7a15a4cb0a99b204693d7aaf0",
        "IPY_MODEL_b14af7b3f9e24dc8b7d79bea1aedf601",
        "IPY_MODEL_09f8e005ef754a219bfde29c1b4cb56c"
       ],
       "layout": "IPY_MODEL_eeddf28bdd05418d83ffe0ab14e1a771"
      }
     },
     "8da1a62f319c43119068b805bebc6522": {
      "model_module": "@jupyter-widgets/controls",
      "model_module_version": "2.0.0",
      "model_name": "ButtonModel",
      "state": {
       "description": "Close",
       "layout": "IPY_MODEL_0bbb5ca610cd47d2a245f024a8b14171",
       "style": "IPY_MODEL_149e8fa0ff694c119ee8c6fc3108a294",
       "tooltip": null
      }
     },
     "8da33011de254a0cb8d52b05211154d2": {
      "model_module": "@jupyter-widgets/controls",
      "model_module_version": "2.0.0",
      "model_name": "ButtonModel",
      "state": {
       "description": "Instruction",
       "icon": "comment",
       "layout": "IPY_MODEL_d740a5e9d44e4b5e8e215f66032bdfe7",
       "style": "IPY_MODEL_c72c8f30e3f74bb1aed2a3ffb5563103",
       "tooltip": "846"
      }
     },
     "8dd5d80f744f4fdfaa2a6b81069a2f0c": {
      "model_module": "@jupyter-widgets/controls",
      "model_module_version": "2.0.0",
      "model_name": "ButtonModel",
      "state": {
       "description": "Body Area",
       "layout": "IPY_MODEL_59f154867de14a4bae6b9b79e0cfbbc1",
       "style": "IPY_MODEL_e643d32715f347b49b5b9eb8d4a1ed44",
       "tooltip": null
      }
     },
     "8dd8fe90365e40f9a8a334c9759edacf": {
      "model_module": "@jupyter-widgets/base",
      "model_module_version": "2.0.0",
      "model_name": "LayoutModel",
      "state": {}
     },
     "8ddea8f1d8ab4c7db6bc4531cc7b415c": {
      "model_module": "@jupyter-widgets/base",
      "model_module_version": "2.0.0",
      "model_name": "LayoutModel",
      "state": {}
     },
     "8df2375f6fc74b80a1b7b92b6436b3d5": {
      "model_module": "@jupyter-widgets/base",
      "model_module_version": "2.0.0",
      "model_name": "LayoutModel",
      "state": {
       "height": "200px"
      }
     },
     "8e0bca0320544cd28a8a5c0e4409f075": {
      "model_module": "@jupyter-widgets/base",
      "model_module_version": "2.0.0",
      "model_name": "LayoutModel",
      "state": {}
     },
     "8e2b34110ee747a992e26bdd74ec923b": {
      "model_module": "@jupyter-widgets/base",
      "model_module_version": "2.0.0",
      "model_name": "LayoutModel",
      "state": {
       "align_items": "stretch",
       "display": "flex",
       "flex_flow": "row",
       "justify_content": "space-around",
       "width": "70%"
      }
     },
     "8e2ed3d66af1497fb9e34fac82f413a2": {
      "model_module": "@jupyter-widgets/controls",
      "model_module_version": "2.0.0",
      "model_name": "HBoxModel",
      "state": {
       "children": [
        "IPY_MODEL_3215b84088104fce90d1c8a7a987bfd5"
       ],
       "layout": "IPY_MODEL_50bf047613b143fe8e2e740491eef518"
      }
     },
     "8e4f1bccc6064360981ac3ae2bb5690c": {
      "model_module": "@jupyter-widgets/base",
      "model_module_version": "2.0.0",
      "model_name": "LayoutModel",
      "state": {
       "align_items": "stretch",
       "display": "flex",
       "flex_flow": "row",
       "justify_content": "space-around",
       "width": "70%"
      }
     },
     "8e77428f492640cea94cf01bf99e9cb8": {
      "model_module": "@jupyter-widgets/controls",
      "model_module_version": "2.0.0",
      "model_name": "HTMLModel",
      "state": {
       "layout": "IPY_MODEL_59101674b95f428bac5c7993aa25df4c",
       "style": "IPY_MODEL_2c1cb109f81046049c85ce2bc71136f8",
       "value": "<h5>\"Close Tab to Exit\"</h5>"
      }
     },
     "8efe24d5cb654b38835f3a7e734233d0": {
      "model_module": "@jupyter-widgets/controls",
      "model_module_version": "2.0.0",
      "model_name": "CheckboxStyleModel",
      "state": {
       "description_width": ""
      }
     },
     "8f31356a16e24b1593bad2c12f75dd8c": {
      "model_module": "@jupyter-widgets/controls",
      "model_module_version": "2.0.0",
      "model_name": "HBoxModel",
      "state": {
       "children": [
        "IPY_MODEL_55bf636a162a460ba05f10387c69018d"
       ],
       "layout": "IPY_MODEL_5f5f02ec1bb14950926f1ca5d67d543f"
      }
     },
     "8f419ea2fe66466fa6800f1ba2ff5f92": {
      "model_module": "@jupyter-widgets/controls",
      "model_module_version": "2.0.0",
      "model_name": "HTMLModel",
      "state": {
       "layout": "IPY_MODEL_a51cea45b07a4a718e71d0f4de4f3f6f",
       "style": "IPY_MODEL_f4f5f5fc3d404dafa8121a25b14a8914",
       "value": "Supine One-Arm Overhead Throw"
      }
     },
     "8f4d072dad484eb9b3c52b7b35261380": {
      "model_module": "@jupyter-widgets/base",
      "model_module_version": "2.0.0",
      "model_name": "LayoutModel",
      "state": {}
     },
     "8f54d44d38f54b9f97b76cb592478dfd": {
      "model_module": "@jupyter-widgets/base",
      "model_module_version": "2.0.0",
      "model_name": "LayoutModel",
      "state": {}
     },
     "8f677ed1eb614caaab2d0c152b3139f5": {
      "model_module": "@jupyter-widgets/controls",
      "model_module_version": "2.0.0",
      "model_name": "ButtonModel",
      "state": {
       "description": "Photo",
       "layout": "IPY_MODEL_c1d6c0aee184403e887b938930edccb0",
       "style": "IPY_MODEL_1b4eec0f4bc54e99b7e382b3208198e0",
       "tooltip": null
      }
     },
     "8fcc1a3ad37e44dea9290bb5941917d6": {
      "model_module": "@jupyter-widgets/controls",
      "model_module_version": "2.0.0",
      "model_name": "ButtonStyleModel",
      "state": {
       "font_family": null,
       "font_size": null,
       "font_style": null,
       "font_variant": null,
       "font_weight": null,
       "text_color": null,
       "text_decoration": null
      }
     },
     "8fdd4f626ad04e8d9aa95610f210351b": {
      "model_module": "@jupyter-widgets/base",
      "model_module_version": "2.0.0",
      "model_name": "LayoutModel",
      "state": {}
     },
     "9031610a1233465383fe33602b97285f": {
      "model_module": "@jupyter-widgets/base",
      "model_module_version": "2.0.0",
      "model_name": "LayoutModel",
      "state": {}
     },
     "905d4374c0794e0e937c7939f903bc15": {
      "model_module": "@jupyter-widgets/base",
      "model_module_version": "2.0.0",
      "model_name": "LayoutModel",
      "state": {
       "height": "120px",
       "width": "100px"
      }
     },
     "90676741d75e4fbbbf9b813ee07ff593": {
      "model_module": "@jupyter-widgets/controls",
      "model_module_version": "2.0.0",
      "model_name": "CheckboxStyleModel",
      "state": {
       "description_width": ""
      }
     },
     "90688481e00e41a895487693d470ac1b": {
      "model_module": "@jupyter-widgets/controls",
      "model_module_version": "2.0.0",
      "model_name": "ButtonModel",
      "state": {
       "description": "Close",
       "layout": "IPY_MODEL_ecfa0337b64f4af58831f7b5d7398948",
       "style": "IPY_MODEL_80aebbdaa30a45709ef144ca96b73287",
       "tooltip": null
      }
     },
     "90740cecf3c443f3b14c7f70edcc4978": {
      "model_module": "@jupyter-widgets/controls",
      "model_module_version": "2.0.0",
      "model_name": "VBoxModel",
      "state": {
       "children": [
        "IPY_MODEL_f4c7545e6ca340eb92490dfa61086b6b",
        "IPY_MODEL_43348da4713945809ec393965c2d3944"
       ],
       "layout": "IPY_MODEL_c97a5ce06e6544fba77715c41b92ca74"
      }
     },
     "90843b7af2e94b6cb065a161f2241525": {
      "model_module": "@jupyter-widgets/controls",
      "model_module_version": "2.0.0",
      "model_name": "ButtonModel",
      "state": {
       "description": "Instruction",
       "icon": "comment",
       "layout": "IPY_MODEL_8b139d4e0a694214ac381d23781f291a",
       "style": "IPY_MODEL_2b38139aa32f416e8dd1ebe5f900c7a1",
       "tooltip": "98"
      }
     },
     "9093f25c235a4025a06bc5fb5b8e353c": {
      "model_module": "@jupyter-widgets/controls",
      "model_module_version": "2.0.0",
      "model_name": "HTMLModel",
      "state": {
       "layout": "IPY_MODEL_f5c33f6109e047c0bab05efa0e39505e",
       "style": "IPY_MODEL_ea15614151784484967455dbbba3bf34",
       "value": "<h1>Random Excercise Generator</h1>"
      }
     },
     "90b5cd918578407cb3dea6524eeb3feb": {
      "model_module": "@jupyter-widgets/controls",
      "model_module_version": "2.0.0",
      "model_name": "VBoxModel",
      "state": {
       "children": [
        "IPY_MODEL_c3f320acb58942d0add9b6e882506715",
        "IPY_MODEL_3dc52e3fcebd49a2b1a645ec57110b40",
        "IPY_MODEL_c3e4d0e87a27482a864c8d66f2b468ea",
        "IPY_MODEL_cba7b861eee64c83969bc40f2438de90"
       ],
       "layout": "IPY_MODEL_65193f9c5af24190a09ff11eb3db3156"
      }
     },
     "90bde43f070349649a8763fd3d4a1ed6": {
      "model_module": "@jupyter-widgets/base",
      "model_module_version": "2.0.0",
      "model_name": "LayoutModel",
      "state": {}
     },
     "90cbe75d896a49e09bd1be143b10f30c": {
      "model_module": "@jupyter-widgets/controls",
      "model_module_version": "2.0.0",
      "model_name": "CheckboxStyleModel",
      "state": {
       "description_width": ""
      }
     },
     "90d2abb6888747a4bebbca219da50b16": {
      "model_module": "@jupyter-widgets/base",
      "model_module_version": "2.0.0",
      "model_name": "LayoutModel",
      "state": {
       "height": "55px",
       "width": "120px"
      }
     },
     "90d53b934c8b47889312d78dee1ba52b": {
      "model_module": "@jupyter-widgets/base",
      "model_module_version": "2.0.0",
      "model_name": "LayoutModel",
      "state": {
       "align_items": "stretch",
       "display": "flex",
       "flex_flow": "row",
       "justify_content": "space-around",
       "width": "70%"
      }
     },
     "911cd591a7694ce1a519588233ba8a4d": {
      "model_module": "@jupyter-widgets/controls",
      "model_module_version": "2.0.0",
      "model_name": "ButtonStyleModel",
      "state": {
       "font_family": null,
       "font_size": null,
       "font_style": null,
       "font_variant": null,
       "font_weight": null,
       "text_color": null,
       "text_decoration": null
      }
     },
     "912a6c7ac0364d7caf6821fb61345742": {
      "model_module": "@jupyter-widgets/controls",
      "model_module_version": "2.0.0",
      "model_name": "CheckboxModel",
      "state": {
       "description": "powerlifting",
       "disabled": false,
       "indent": false,
       "layout": "IPY_MODEL_e994b43e9790483bb13a2962746d38e7",
       "style": "IPY_MODEL_d65daddad6b0489abc0f7c53847b426a",
       "value": true
      }
     },
     "9134426480934557b5fbd6a354616966": {
      "model_module": "@jupyter-widgets/base",
      "model_module_version": "2.0.0",
      "model_name": "LayoutModel",
      "state": {}
     },
     "913e4391f8b34b56a51a1b31b52ad1a7": {
      "model_module": "@jupyter-widgets/base",
      "model_module_version": "2.0.0",
      "model_name": "LayoutModel",
      "state": {
       "height": "55px",
       "width": "80px"
      }
     },
     "9141d8955d5c4646b3d9135b6e81aa3d": {
      "model_module": "@jupyter-widgets/base",
      "model_module_version": "2.0.0",
      "model_name": "LayoutModel",
      "state": {}
     },
     "9162bd6592a144548545d5ac2e4135aa": {
      "model_module": "@jupyter-widgets/base",
      "model_module_version": "2.0.0",
      "model_name": "LayoutModel",
      "state": {}
     },
     "91656385c194409497dae33a3879b7dd": {
      "model_module": "@jupyter-widgets/controls",
      "model_module_version": "2.0.0",
      "model_name": "CheckboxModel",
      "state": {
       "description": "machine",
       "disabled": false,
       "indent": false,
       "layout": "IPY_MODEL_48f7f19716554447963be51671a84259",
       "style": "IPY_MODEL_a4bd64ff628f47798c166c87779d9a8c",
       "value": true
      }
     },
     "916aa29fab354622a44520c1858e777a": {
      "model_module": "@jupyter-widgets/base",
      "model_module_version": "2.0.0",
      "model_name": "LayoutModel",
      "state": {
       "height": "55px",
       "width": "80px"
      }
     },
     "917a2b790a5648c5b335581e222eacd9": {
      "model_module": "@jupyter-widgets/controls",
      "model_module_version": "2.0.0",
      "model_name": "HBoxModel",
      "state": {
       "children": [
        "IPY_MODEL_2f149ea304c248ee8b3f6078740caaf7"
       ],
       "layout": "IPY_MODEL_b73c74866a73449d843839b97a190c07"
      }
     },
     "918317a9bdc146c1a6a63a037c69a9ac": {
      "model_module": "@jupyter-widgets/controls",
      "model_module_version": "2.0.0",
      "model_name": "ButtonStyleModel",
      "state": {
       "font_family": null,
       "font_size": null,
       "font_style": null,
       "font_variant": null,
       "font_weight": null,
       "text_color": null,
       "text_decoration": null
      }
     },
     "91913e4c70704e218edb1b91caa231f7": {
      "model_module": "@jupyter-widgets/controls",
      "model_module_version": "2.0.0",
      "model_name": "ButtonStyleModel",
      "state": {
       "font_family": null,
       "font_size": null,
       "font_style": null,
       "font_variant": null,
       "font_weight": null,
       "text_color": null,
       "text_decoration": null
      }
     },
     "91b636b3e85948eab142a61a47001af6": {
      "model_module": "@jupyter-widgets/base",
      "model_module_version": "2.0.0",
      "model_name": "LayoutModel",
      "state": {}
     },
     "91d397b312db420f90095635dc048e31": {
      "model_module": "@jupyter-widgets/base",
      "model_module_version": "2.0.0",
      "model_name": "LayoutModel",
      "state": {}
     },
     "91f5b1abe1c14e6a9dd079de94c95c57": {
      "model_module": "@jupyter-widgets/base",
      "model_module_version": "2.0.0",
      "model_name": "LayoutModel",
      "state": {}
     },
     "91f8cd53745f4d23af4a72c03397c2bc": {
      "model_module": "@jupyter-widgets/base",
      "model_module_version": "2.0.0",
      "model_name": "LayoutModel",
      "state": {}
     },
     "921b43fcface4924b710130880cce5a6": {
      "model_module": "@jupyter-widgets/controls",
      "model_module_version": "2.0.0",
      "model_name": "CheckboxModel",
      "state": {
       "description": "bands",
       "disabled": false,
       "indent": false,
       "layout": "IPY_MODEL_213c3e034989438f95b68d06274ba337",
       "style": "IPY_MODEL_7f4eeba99f294f6f91e4097c53666579",
       "value": true
      }
     },
     "921c6dac597a4562a42e27b2acac6ab2": {
      "model_module": "@jupyter-widgets/controls",
      "model_module_version": "2.0.0",
      "model_name": "CheckboxStyleModel",
      "state": {
       "description_width": ""
      }
     },
     "92205f9608564e1bb996e2db41f91e0b": {
      "model_module": "@jupyter-widgets/controls",
      "model_module_version": "2.0.0",
      "model_name": "VBoxModel",
      "state": {
       "children": [
        "IPY_MODEL_a4a39d865ea94aa5b87f8c7f3b4c1180",
        "IPY_MODEL_fa19f0f611a54945a3c409465d29cd37",
        "IPY_MODEL_3a95835e093a45d6a9ec7c9aab80b4ef",
        "IPY_MODEL_96b8cf102aec4953b66678515cd6c6ee"
       ],
       "layout": "IPY_MODEL_9912c043f3144148a68768d8c20789b8"
      }
     },
     "9231408fac9e40e8b6be246953677024": {
      "model_module": "@jupyter-widgets/base",
      "model_module_version": "2.0.0",
      "model_name": "LayoutModel",
      "state": {
       "height": "55px",
       "width": "120px"
      }
     },
     "9249b1246278448d88e0a5d0e208b3ac": {
      "model_module": "@jupyter-widgets/base",
      "model_module_version": "2.0.0",
      "model_name": "LayoutModel",
      "state": {}
     },
     "9252cc3dad664bbf9162d3fdbfc4a648": {
      "model_module": "@jupyter-widgets/base",
      "model_module_version": "2.0.0",
      "model_name": "LayoutModel",
      "state": {
       "height": "120px",
       "width": "100px"
      }
     },
     "927c75ff134b420bb406ae85cd3a1e76": {
      "model_module": "@jupyter-widgets/controls",
      "model_module_version": "2.0.0",
      "model_name": "HBoxModel",
      "state": {
       "children": [
        "IPY_MODEL_07011b551fda418795f11fc2b505f509"
       ],
       "layout": "IPY_MODEL_9b596fc10a6245c9b5afa8c51ae0a648"
      }
     },
     "9290282162134533bdd81d8b29b47671": {
      "model_module": "@jupyter-widgets/controls",
      "model_module_version": "2.0.0",
      "model_name": "GridBoxModel",
      "state": {
       "layout": "IPY_MODEL_8df2375f6fc74b80a1b7b92b6436b3d5"
      }
     },
     "92925f4a901d4163a9707e7271ddfba1": {
      "model_module": "@jupyter-widgets/controls",
      "model_module_version": "2.0.0",
      "model_name": "CheckboxStyleModel",
      "state": {
       "description_width": ""
      }
     },
     "92a9a7169d214fbb90603a7e7322ccd5": {
      "model_module": "@jupyter-widgets/base",
      "model_module_version": "2.0.0",
      "model_name": "LayoutModel",
      "state": {
       "height": "55px",
       "width": "120px"
      }
     },
     "92dedfdb6acb42e4b804c51500bceba0": {
      "model_module": "@jupyter-widgets/base",
      "model_module_version": "2.0.0",
      "model_name": "LayoutModel",
      "state": {
       "height": "120px",
       "width": "100px"
      }
     },
     "931302598a2149a4a8d45e355c133ac0": {
      "model_module": "@jupyter-widgets/base",
      "model_module_version": "2.0.0",
      "model_name": "LayoutModel",
      "state": {
       "height": "40px",
       "width": "160px"
      }
     },
     "93479243126e4d25b8ac85fcc13bf12a": {
      "model_module": "@jupyter-widgets/controls",
      "model_module_version": "2.0.0",
      "model_name": "CheckboxStyleModel",
      "state": {
       "description_width": ""
      }
     },
     "93652273ab4645c5a896708057173321": {
      "model_module": "@jupyter-widgets/controls",
      "model_module_version": "2.0.0",
      "model_name": "BoxModel",
      "state": {
       "children": [
        "IPY_MODEL_f98ab53a2b9341bf9121ac62cf701326",
        "IPY_MODEL_ab5cfab4fab547b2808d17eaf1fd35e8"
       ],
       "layout": "IPY_MODEL_0482bf861908442c9e9822c45f85d76f"
      }
     },
     "937e4b72cc334b509d8af0d91fb98c3f": {
      "model_module": "@jupyter-widgets/controls",
      "model_module_version": "2.0.0",
      "model_name": "DescriptionStyleModel",
      "state": {
       "description_width": ""
      }
     },
     "93d94fbe54204bf4b1ccc44b3c3f943e": {
      "model_module": "@jupyter-widgets/base",
      "model_module_version": "2.0.0",
      "model_name": "LayoutModel",
      "state": {
       "height": "40px",
       "width": "160px"
      }
     },
     "93dacd737c0f46f6a264752e44fe85e7": {
      "model_module": "@jupyter-widgets/base",
      "model_module_version": "2.0.0",
      "model_name": "LayoutModel",
      "state": {}
     },
     "940e924f75c84783a80aa5196bfce49e": {
      "model_module": "@jupyter-widgets/controls",
      "model_module_version": "2.0.0",
      "model_name": "HTMLStyleModel",
      "state": {
       "description_width": "",
       "font_size": null,
       "text_color": null
      }
     },
     "947ed054557045aca2cef9be243406d0": {
      "model_module": "@jupyter-widgets/controls",
      "model_module_version": "2.0.0",
      "model_name": "VBoxModel",
      "state": {
       "children": [
        "IPY_MODEL_663ec04c6f1d43e2873d1d15e650127c",
        "IPY_MODEL_57b97de5db3e414ba1e9fa87f8f87131"
       ],
       "layout": "IPY_MODEL_4435abf31a2d4c6685d7999789659c15"
      }
     },
     "94e8941c09c04b678820f0ecdc744ea1": {
      "model_module": "@jupyter-widgets/base",
      "model_module_version": "2.0.0",
      "model_name": "LayoutModel",
      "state": {}
     },
     "9537e138f18e45f5b4709858bacd164a": {
      "model_module": "@jupyter-widgets/controls",
      "model_module_version": "2.0.0",
      "model_name": "CheckboxModel",
      "state": {
       "description": "medicine ball",
       "disabled": false,
       "indent": false,
       "layout": "IPY_MODEL_637dbae57eb84e7dac5d3fd514102f35",
       "style": "IPY_MODEL_18c25d24e6814110a25c697bcb3a172e",
       "value": false
      }
     },
     "954e961c56814c48a13b2db031f8899d": {
      "model_module": "@jupyter-widgets/controls",
      "model_module_version": "2.0.0",
      "model_name": "HTMLModel",
      "state": {
       "layout": "IPY_MODEL_f4cd6f58f0bf41a58edae88a23b98f00",
       "style": "IPY_MODEL_9ae075081e3846a19a38aed3ebb57a61",
       "value": "<h3>Core</h3>"
      }
     },
     "9583a8c1dcc947feab2fa3c6f76fb7ac": {
      "model_module": "@jupyter-widgets/base",
      "model_module_version": "2.0.0",
      "model_name": "LayoutModel",
      "state": {}
     },
     "959b2616d8424e8594009bc6a9f5ae5a": {
      "model_module": "@jupyter-widgets/controls",
      "model_module_version": "2.0.0",
      "model_name": "BoxModel",
      "state": {
       "children": [
        "IPY_MODEL_55a8d2e63ae34f8b91e5b1aa8b8bd696",
        "IPY_MODEL_5010718805f249ac902f93e6db1f446b"
       ],
       "layout": "IPY_MODEL_a6bc40b59528494281c75919d858021b"
      }
     },
     "95f4a7334d9d4b06a6b67f8bd5363c90": {
      "model_module": "@jupyter-widgets/controls",
      "model_module_version": "2.0.0",
      "model_name": "CheckboxStyleModel",
      "state": {
       "description_width": ""
      }
     },
     "960791fc29444a3fa84878f6c5ccc38d": {
      "model_module": "@jupyter-widgets/base",
      "model_module_version": "2.0.0",
      "model_name": "LayoutModel",
      "state": {
       "height": "55px",
       "width": "120px"
      }
     },
     "961685caffbd459b9caa5eb2de48deac": {
      "model_module": "@jupyter-widgets/base",
      "model_module_version": "2.0.0",
      "model_name": "LayoutModel",
      "state": {
       "height": "40px",
       "width": "160px"
      }
     },
     "964969a9d257451eac4d3cc0c86d55c2": {
      "model_module": "@jupyter-widgets/controls",
      "model_module_version": "2.0.0",
      "model_name": "BoxModel",
      "state": {
       "children": [
        "IPY_MODEL_55a8d2e63ae34f8b91e5b1aa8b8bd696",
        "IPY_MODEL_5010718805f249ac902f93e6db1f446b"
       ],
       "layout": "IPY_MODEL_8bf3a150a45344c48cef8c35c641af46"
      }
     },
     "965de2b08d6343cc8ee529e7aadcd0ad": {
      "model_module": "@jupyter-widgets/controls",
      "model_module_version": "2.0.0",
      "model_name": "HTMLStyleModel",
      "state": {
       "description_width": "",
       "font_size": null,
       "text_color": null
      }
     },
     "9667c1403f21487ab1d9dbd37b0bdf60": {
      "model_module": "@jupyter-widgets/controls",
      "model_module_version": "2.0.0",
      "model_name": "ButtonStyleModel",
      "state": {
       "font_family": null,
       "font_size": null,
       "font_style": null,
       "font_variant": null,
       "font_weight": null,
       "text_color": null,
       "text_decoration": null
      }
     },
     "966941a57b294f548ad81ba1610300ff": {
      "model_module": "@jupyter-widgets/controls",
      "model_module_version": "2.0.0",
      "model_name": "CheckboxModel",
      "state": {
       "description": "lowerBody",
       "disabled": false,
       "indent": false,
       "layout": "IPY_MODEL_7d7fcc74c8254207a6c251626fa16a03",
       "style": "IPY_MODEL_9683ad8cc72c4bf1bc773c0a60db6725",
       "value": true
      }
     },
     "96741405a16e4291a3ce435a709e3bfd": {
      "model_module": "@jupyter-widgets/base",
      "model_module_version": "2.0.0",
      "model_name": "LayoutModel",
      "state": {}
     },
     "9683ad8cc72c4bf1bc773c0a60db6725": {
      "model_module": "@jupyter-widgets/controls",
      "model_module_version": "2.0.0",
      "model_name": "CheckboxStyleModel",
      "state": {
       "description_width": ""
      }
     },
     "96970c2edd194be9b9b66123d7c3b047": {
      "model_module": "@jupyter-widgets/base",
      "model_module_version": "2.0.0",
      "model_name": "LayoutModel",
      "state": {}
     },
     "96b71d5a9e9343aea0d09adcae335039": {
      "model_module": "@jupyter-widgets/controls",
      "model_module_version": "2.0.0",
      "model_name": "VBoxModel",
      "state": {
       "children": [
        "IPY_MODEL_17aadfb299394dbc9b8e568f4f78c039"
       ],
       "layout": "IPY_MODEL_99e1a3fb7b5a4f53aed17a16b21b0f57"
      }
     },
     "96b8cf102aec4953b66678515cd6c6ee": {
      "model_module": "@jupyter-widgets/controls",
      "model_module_version": "2.0.0",
      "model_name": "CheckboxModel",
      "state": {
       "description": "other",
       "disabled": false,
       "indent": false,
       "layout": "IPY_MODEL_cdb3dd8b4e6f47e9991d457d8b5355a4",
       "style": "IPY_MODEL_c13e4fb32f4e4f10bdd49cf1cbcb4749",
       "value": true
      }
     },
     "96d5cfbf75134edda0d0952cd0bc8af6": {
      "model_module": "@jupyter-widgets/controls",
      "model_module_version": "2.0.0",
      "model_name": "ButtonStyleModel",
      "state": {
       "font_family": null,
       "font_size": null,
       "font_style": null,
       "font_variant": null,
       "font_weight": null,
       "text_color": null,
       "text_decoration": null
      }
     },
     "96ddd27d5ba14a89a42d665dc314d753": {
      "model_module": "@jupyter-widgets/base",
      "model_module_version": "2.0.0",
      "model_name": "LayoutModel",
      "state": {}
     },
     "96e78998b6cc482f9ebd31f6b169020b": {
      "model_module": "@jupyter-widgets/controls",
      "model_module_version": "2.0.0",
      "model_name": "ButtonModel",
      "state": {
       "description": "Close",
       "layout": "IPY_MODEL_d3e4d63529cd45a78ad9e38652581e19",
       "style": "IPY_MODEL_18795e6b0f5d4adfa931faa91c3408d5",
       "tooltip": null
      }
     },
     "96fe556edf274bc9b8f099b4f683ad64": {
      "model_module": "@jupyter-widgets/base",
      "model_module_version": "2.0.0",
      "model_name": "LayoutModel",
      "state": {
       "height": "120px",
       "width": "100px"
      }
     },
     "9712c9a5fd8d44eca1d2c605c4a2878e": {
      "model_module": "@jupyter-widgets/controls",
      "model_module_version": "2.0.0",
      "model_name": "HBoxModel",
      "state": {
       "children": [
        "IPY_MODEL_3b4abc1f0f0e496ca5164e965462b311"
       ],
       "layout": "IPY_MODEL_b57f30a2b75c42fa992fffe28b07789f"
      }
     },
     "973312e6a4c44d1d8782c4ac4f5df4a3": {
      "model_module": "@jupyter-widgets/base",
      "model_module_version": "2.0.0",
      "model_name": "LayoutModel",
      "state": {
       "height": "40px",
       "width": "160px"
      }
     },
     "975130e46c3549158246f6055700b79f": {
      "model_module": "@jupyter-widgets/controls",
      "model_module_version": "2.0.0",
      "model_name": "ButtonModel",
      "state": {
       "description": "Instruction",
       "icon": "comment",
       "layout": "IPY_MODEL_2b475888e8df4505991ace828330b5bb",
       "style": "IPY_MODEL_1a126d8074204818b9e02966505c4d5c",
       "tooltip": "191"
      }
     },
     "9754851e71f14c448de7d1ea641324af": {
      "model_module": "@jupyter-widgets/controls",
      "model_module_version": "2.0.0",
      "model_name": "ButtonModel",
      "state": {
       "description": "Ex Category",
       "layout": "IPY_MODEL_c8e32c0dc3904a79881c194a187927b8",
       "style": "IPY_MODEL_7d4f659dcf5f4c9d8820038cce177931",
       "tooltip": null
      }
     },
     "976a448feb514d9a8e8e73769c7ff9ee": {
      "model_module": "@jupyter-widgets/controls",
      "model_module_version": "2.0.0",
      "model_name": "VBoxModel",
      "state": {
       "children": [
        "IPY_MODEL_e7d5fdfb730840088a03d127e5187f68"
       ],
       "layout": "IPY_MODEL_a4d61bbf4fdf468b9b9c693a5e4a4a01"
      }
     },
     "97738c8c975947b1a03931922fd4c6b8": {
      "model_module": "@jupyter-widgets/controls",
      "model_module_version": "2.0.0",
      "model_name": "HTMLModel",
      "state": {
       "layout": "IPY_MODEL_9d834e3ae1c84568a9b494c554ec6378",
       "style": "IPY_MODEL_c695062b85494c43ac4ecaeb43da004b",
       "value": "<h2>Exercise Category</h2>"
      }
     },
     "97bb1ce2090d484d86958d6bac524628": {
      "model_module": "@jupyter-widgets/base",
      "model_module_version": "2.0.0",
      "model_name": "LayoutModel",
      "state": {}
     },
     "97c340ba83bb4824a4cb563f4fcd4277": {
      "model_module": "@jupyter-widgets/base",
      "model_module_version": "2.0.0",
      "model_name": "LayoutModel",
      "state": {}
     },
     "98525118a7684c0f9cae21b6bc1290d4": {
      "model_module": "@jupyter-widgets/controls",
      "model_module_version": "2.0.0",
      "model_name": "CheckboxModel",
      "state": {
       "description": "upperBody",
       "disabled": false,
       "indent": false,
       "layout": "IPY_MODEL_99c594c42d9f49d3aca47e45f8a79479",
       "style": "IPY_MODEL_a328f8f164c54ce3ac0458c041fa5016",
       "value": true
      }
     },
     "98644cc410164925b72b6517272fa770": {
      "model_module": "@jupyter-widgets/controls",
      "model_module_version": "2.0.0",
      "model_name": "HBoxModel",
      "state": {
       "children": [
        "IPY_MODEL_579642cd3e84402aa02835d3924efc0b"
       ],
       "layout": "IPY_MODEL_c98d6cd8cf4942efa47f6b207875e90f"
      }
     },
     "98791b5a334744f8a49d0990b14ee784": {
      "model_module": "@jupyter-widgets/base",
      "model_module_version": "2.0.0",
      "model_name": "LayoutModel",
      "state": {}
     },
     "98ad2e3b6cd8447d91934b2461c70c88": {
      "model_module": "@jupyter-widgets/controls",
      "model_module_version": "2.0.0",
      "model_name": "BoxModel",
      "state": {
       "children": [
        "IPY_MODEL_55a8d2e63ae34f8b91e5b1aa8b8bd696",
        "IPY_MODEL_5010718805f249ac902f93e6db1f446b"
       ],
       "layout": "IPY_MODEL_71a9531e6862497d8b22614a3a058486"
      }
     },
     "98db45f5043643f98aaa9e116828aaff": {
      "model_module": "@jupyter-widgets/base",
      "model_module_version": "2.0.0",
      "model_name": "LayoutModel",
      "state": {
       "height": "120px",
       "width": "100px"
      }
     },
     "990059a619ea4d888800c496908d0d2e": {
      "model_module": "@jupyter-widgets/base",
      "model_module_version": "2.0.0",
      "model_name": "LayoutModel",
      "state": {}
     },
     "990157359a0a4a669a9a92e610395d4c": {
      "model_module": "@jupyter-widgets/controls",
      "model_module_version": "2.0.0",
      "model_name": "ButtonStyleModel",
      "state": {
       "font_family": null,
       "font_size": null,
       "font_style": null,
       "font_variant": null,
       "font_weight": null,
       "text_color": null,
       "text_decoration": null
      }
     },
     "9912c043f3144148a68768d8c20789b8": {
      "model_module": "@jupyter-widgets/base",
      "model_module_version": "2.0.0",
      "model_name": "LayoutModel",
      "state": {}
     },
     "9931e14e30ba4671afb926028720084c": {
      "model_module": "@jupyter-widgets/base",
      "model_module_version": "2.0.0",
      "model_name": "LayoutModel",
      "state": {
       "height": "120px",
       "width": "100px"
      }
     },
     "99c594c42d9f49d3aca47e45f8a79479": {
      "model_module": "@jupyter-widgets/base",
      "model_module_version": "2.0.0",
      "model_name": "LayoutModel",
      "state": {
       "height": "40px",
       "width": "160px"
      }
     },
     "99dd734a2341482284d3d8c734975bdb": {
      "model_module": "@jupyter-widgets/base",
      "model_module_version": "2.0.0",
      "model_name": "LayoutModel",
      "state": {
       "align_items": "stretch",
       "display": "flex",
       "flex_flow": "row",
       "justify_content": "space-around",
       "width": "70%"
      }
     },
     "99e1a3fb7b5a4f53aed17a16b21b0f57": {
      "model_module": "@jupyter-widgets/base",
      "model_module_version": "2.0.0",
      "model_name": "LayoutModel",
      "state": {}
     },
     "99fe2d118ecd475da088470106786c44": {
      "model_module": "@jupyter-widgets/controls",
      "model_module_version": "2.0.0",
      "model_name": "HTMLStyleModel",
      "state": {
       "description_width": "",
       "font_size": null,
       "text_color": null
      }
     },
     "9a0036112676479f8994b1ac25fbb004": {
      "model_module": "@jupyter-widgets/base",
      "model_module_version": "2.0.0",
      "model_name": "LayoutModel",
      "state": {
       "height": "120px",
       "width": "100px"
      }
     },
     "9a2a43bf8bba434988c669e9c1028fad": {
      "model_module": "@jupyter-widgets/base",
      "model_module_version": "2.0.0",
      "model_name": "LayoutModel",
      "state": {}
     },
     "9a773daba9414f64b888cff89a64d3eb": {
      "model_module": "@jupyter-widgets/base",
      "model_module_version": "2.0.0",
      "model_name": "LayoutModel",
      "state": {
       "height": "40px",
       "width": "160px"
      }
     },
     "9a87b8fda1d14a6282d6434057e28da5": {
      "model_module": "@jupyter-widgets/controls",
      "model_module_version": "2.0.0",
      "model_name": "ButtonStyleModel",
      "state": {
       "font_family": null,
       "font_size": null,
       "font_style": null,
       "font_variant": null,
       "font_weight": null,
       "text_color": null,
       "text_decoration": null
      }
     },
     "9ad597df895b4fcc9802a9aba36223b1": {
      "model_module": "@jupyter-widgets/base",
      "model_module_version": "2.0.0",
      "model_name": "LayoutModel",
      "state": {
       "height": "55px",
       "width": "80px"
      }
     },
     "9ae075081e3846a19a38aed3ebb57a61": {
      "model_module": "@jupyter-widgets/controls",
      "model_module_version": "2.0.0",
      "model_name": "HTMLStyleModel",
      "state": {
       "description_width": "",
       "font_size": null,
       "text_color": null
      }
     },
     "9b42a62d08d44c8e8032c48277a98310": {
      "model_module": "@jupyter-widgets/controls",
      "model_module_version": "2.0.0",
      "model_name": "VBoxModel",
      "state": {
       "children": [
        "IPY_MODEL_3f5b3137e1d3461abd3cdf9295074b6f",
        "IPY_MODEL_df2276506736489dbb5cb665703edce9",
        "IPY_MODEL_56e5fb85388b4c3685d7db2388a0195c",
        "IPY_MODEL_7c23abeebabb4965941081256c00ee2b"
       ],
       "layout": "IPY_MODEL_c53bbca771dd4dd6a98019aa1aceb9c1"
      }
     },
     "9b4590abd5154d2c8fa2df50a24b72f1": {
      "model_module": "@jupyter-widgets/controls",
      "model_module_version": "2.0.0",
      "model_name": "ButtonStyleModel",
      "state": {
       "font_family": null,
       "font_size": null,
       "font_style": null,
       "font_variant": null,
       "font_weight": null,
       "text_color": null,
       "text_decoration": null
      }
     },
     "9b492b8d0f944d6189d0ee12602ee0d1": {
      "model_module": "@jupyter-widgets/controls",
      "model_module_version": "2.0.0",
      "model_name": "CheckboxModel",
      "state": {
       "description": "exercise ball",
       "disabled": false,
       "indent": false,
       "layout": "IPY_MODEL_a781999cb925477b8deaddac9e08328e",
       "style": "IPY_MODEL_680f9436530648aabd7ba2162cde83fe",
       "value": false
      }
     },
     "9b50bbdbcef547229f4da8a4af860ffb": {
      "model_module": "@jupyter-widgets/controls",
      "model_module_version": "2.0.0",
      "model_name": "CheckboxModel",
      "state": {
       "description": "bands",
       "disabled": false,
       "indent": false,
       "layout": "IPY_MODEL_161d7b2c7a3f4a9d8e2e31fe0fa17a66",
       "style": "IPY_MODEL_e8ca39798d0040fdbb4a9b95968d6067",
       "value": true
      }
     },
     "9b5483be4e1a4b7ba0e82d603408ea4e": {
      "model_module": "@jupyter-widgets/output",
      "model_module_version": "1.0.0",
      "model_name": "OutputModel",
      "state": {
       "layout": "IPY_MODEL_fb99f5ee84ec4f3caa3b8d970eec9e41"
      }
     },
     "9b596fc10a6245c9b5afa8c51ae0a648": {
      "model_module": "@jupyter-widgets/base",
      "model_module_version": "2.0.0",
      "model_name": "LayoutModel",
      "state": {}
     },
     "9b719d856b424ca5bb3fe89a7aa3caf0": {
      "model_module": "@jupyter-widgets/controls",
      "model_module_version": "2.0.0",
      "model_name": "VBoxModel",
      "state": {
       "children": [
        "IPY_MODEL_7b8cf15c91854b62a552eb4b26e576cc",
        "IPY_MODEL_d01ba12ddd604d1e81d3d3109ab496f2",
        "IPY_MODEL_91656385c194409497dae33a3879b7dd",
        "IPY_MODEL_724f7c4df020493590c2d745d4a496d8"
       ],
       "layout": "IPY_MODEL_85e086f6eba64bb1bb11be6524a2d890"
      }
     },
     "9b79efc0ec18454cb20dde27d9202829": {
      "model_module": "@jupyter-widgets/controls",
      "model_module_version": "2.0.0",
      "model_name": "CheckboxModel",
      "state": {
       "description": "Core",
       "disabled": false,
       "indent": false,
       "layout": "IPY_MODEL_b2319048d5574658a9e90708dbb6d818",
       "style": "IPY_MODEL_a5fb604ac4494d4c82f8465b4443ec4f",
       "value": false
      }
     },
     "9b7fc4a6018d49d88747963d27041d4f": {
      "model_module": "@jupyter-widgets/base",
      "model_module_version": "2.0.0",
      "model_name": "LayoutModel",
      "state": {}
     },
     "9bb8020ef63941fe865f66c69334a6e3": {
      "model_module": "@jupyter-widgets/controls",
      "model_module_version": "2.0.0",
      "model_name": "CheckboxModel",
      "state": {
       "description": "plyometrics",
       "disabled": false,
       "indent": false,
       "layout": "IPY_MODEL_fc578c45acd54533ac7f518e85a8e5ed",
       "style": "IPY_MODEL_693fc2eb89ee42d4b41c9a89086beac1",
       "value": true
      }
     },
     "9c0bcd87052e4d8db03a382c0e634c24": {
      "model_module": "@jupyter-widgets/controls",
      "model_module_version": "2.0.0",
      "model_name": "VBoxModel",
      "state": {
       "children": [
        "IPY_MODEL_8f419ea2fe66466fa6800f1ba2ff5f92",
        "IPY_MODEL_2d409978fd664d399360e45ebf2867d2"
       ],
       "layout": "IPY_MODEL_534c03d3c9504bb6bcab9be6430ecc35"
      }
     },
     "9c1157a567994d11a2458ca70e44a65f": {
      "model_module": "@jupyter-widgets/controls",
      "model_module_version": "2.0.0",
      "model_name": "VBoxModel",
      "state": {
       "children": [
        "IPY_MODEL_da3ac4bb6d6c494ea068c551e59cfdb6",
        "IPY_MODEL_975130e46c3549158246f6055700b79f"
       ],
       "layout": "IPY_MODEL_f609631103a8437ab01c46839c39736e"
      }
     },
     "9c4c5dd3da3641c9b9e53ca28e914d99": {
      "model_module": "@jupyter-widgets/base",
      "model_module_version": "2.0.0",
      "model_name": "LayoutModel",
      "state": {}
     },
     "9c54c46fb00b4f0b9e40bac7b0c70e55": {
      "model_module": "@jupyter-widgets/base",
      "model_module_version": "2.0.0",
      "model_name": "LayoutModel",
      "state": {
       "align_items": "stretch",
       "display": "flex",
       "flex_flow": "row",
       "justify_content": "space-around",
       "width": "70%"
      }
     },
     "9c5bf78c212f4cc6854ea036ee51d36b": {
      "model_module": "@jupyter-widgets/controls",
      "model_module_version": "2.0.0",
      "model_name": "ButtonModel",
      "state": {
       "description": "Equipment",
       "layout": "IPY_MODEL_d6cb8f4c6ab94d369f3e0596352d5b81",
       "style": "IPY_MODEL_c5af8505137f427faa60f27178a0699c",
       "tooltip": null
      }
     },
     "9c8f8129a9de4765a3069f138aab4a3f": {
      "model_module": "@jupyter-widgets/controls",
      "model_module_version": "2.0.0",
      "model_name": "VBoxModel",
      "state": {
       "layout": "IPY_MODEL_27b2b40a809246c68871e1249b68981b"
      }
     },
     "9ccb380839d54442adeac6048dc883f2": {
      "model_module": "@jupyter-widgets/base",
      "model_module_version": "2.0.0",
      "model_name": "LayoutModel",
      "state": {}
     },
     "9cf614556f18410fb76d3d61add20ce3": {
      "model_module": "@jupyter-widgets/controls",
      "model_module_version": "2.0.0",
      "model_name": "HTMLModel",
      "state": {
       "layout": "IPY_MODEL_6bab02fe963a437d8d32b70fe7078af5",
       "style": "IPY_MODEL_2f17778f237e40a1b27929a62a617537",
       "value": "Seated Band Hamstring Curl"
      }
     },
     "9d376318853d4885beba44704a111840": {
      "model_module": "@jupyter-widgets/controls",
      "model_module_version": "2.0.0",
      "model_name": "ButtonModel",
      "state": {
       "description": "Body Area",
       "layout": "IPY_MODEL_1dd0ece77712415eaf9a3d683afcb1ca",
       "style": "IPY_MODEL_19f9c088d58b4a05a7645424588a9a92",
       "tooltip": null
      }
     },
     "9d6d603e894f4a86af982e44aa8f6d82": {
      "model_module": "@jupyter-widgets/base",
      "model_module_version": "2.0.0",
      "model_name": "LayoutModel",
      "state": {
       "height": "120px",
       "width": "100px"
      }
     },
     "9d834e3ae1c84568a9b494c554ec6378": {
      "model_module": "@jupyter-widgets/base",
      "model_module_version": "2.0.0",
      "model_name": "LayoutModel",
      "state": {}
     },
     "9d83512582154d44a0f11e9a0a89bda9": {
      "model_module": "@jupyter-widgets/base",
      "model_module_version": "2.0.0",
      "model_name": "LayoutModel",
      "state": {
       "height": "40px",
       "width": "160px"
      }
     },
     "9d9a6cb91b5d486fa710e6622a7ae7c5": {
      "model_module": "@jupyter-widgets/base",
      "model_module_version": "2.0.0",
      "model_name": "LayoutModel",
      "state": {}
     },
     "9dacbf69fe40419783b92b77e03ab53d": {
      "model_module": "@jupyter-widgets/controls",
      "model_module_version": "2.0.0",
      "model_name": "ButtonModel",
      "state": {
       "description": "Ex Category",
       "layout": "IPY_MODEL_c3c005e9b23a416e8e995fbf3f208f52",
       "style": "IPY_MODEL_c76138ee5a68480094f2ccca4b5bd551",
       "tooltip": null
      }
     },
     "9db5efd04b5046bf87a8b2eee413016a": {
      "model_module": "@jupyter-widgets/controls",
      "model_module_version": "2.0.0",
      "model_name": "BoxModel",
      "state": {
       "children": [
        "IPY_MODEL_f33bd10c35ef4782b3d4a58c65fb5ada",
        "IPY_MODEL_28733d85bc2140eab0f945b8e05878e7"
       ],
       "layout": "IPY_MODEL_f0e2473032e640118dbdf3f5e6c3b378"
      }
     },
     "9dbe4e0d20cc45f38353fdb370104796": {
      "model_module": "@jupyter-widgets/controls",
      "model_module_version": "2.0.0",
      "model_name": "CheckboxStyleModel",
      "state": {
       "description_width": ""
      }
     },
     "9dc1f07eb7fe4aa99876af2c8c6fdfc0": {
      "model_module": "@jupyter-widgets/base",
      "model_module_version": "2.0.0",
      "model_name": "LayoutModel",
      "state": {}
     },
     "9dde11f375e241be9f2ed0c02df7ba29": {
      "model_module": "@jupyter-widgets/base",
      "model_module_version": "2.0.0",
      "model_name": "LayoutModel",
      "state": {
       "height": "120px",
       "width": "100px"
      }
     },
     "9df188b245a4438eaedad133871ea56a": {
      "model_module": "@jupyter-widgets/controls",
      "model_module_version": "2.0.0",
      "model_name": "CheckboxStyleModel",
      "state": {
       "description_width": ""
      }
     },
     "9dfc8663d1ed469fb10c4acb454ea565": {
      "model_module": "@jupyter-widgets/controls",
      "model_module_version": "2.0.0",
      "model_name": "HBoxModel",
      "state": {
       "children": [
        "IPY_MODEL_bf3dbd0bbe164a018a10b53b969fe785"
       ],
       "layout": "IPY_MODEL_5028ee349748416cbd5b961eba29fe56"
      }
     },
     "9e0bcf6a6f7340b6a51fdbb36d2a1bb1": {
      "model_module": "@jupyter-widgets/controls",
      "model_module_version": "2.0.0",
      "model_name": "HTMLModel",
      "state": {
       "layout": "IPY_MODEL_421347b50af44659b198ba4a2b6a8360",
       "style": "IPY_MODEL_0fbe3d4eade147f18367d8dbd703b251",
       "value": "<h2>Exercise Category</h2>"
      }
     },
     "9e1e57bc1e2e405da793cd93a7320178": {
      "model_module": "@jupyter-widgets/base",
      "model_module_version": "2.0.0",
      "model_name": "LayoutModel",
      "state": {
       "height": "55px",
       "width": "80px"
      }
     },
     "9e42496b79a34ed9963c7e926fe32fa8": {
      "model_module": "@jupyter-widgets/base",
      "model_module_version": "2.0.0",
      "model_name": "LayoutModel",
      "state": {
       "height": "55px",
       "width": "80px"
      }
     },
     "9e4acd74f2214b4397dc2eafe912c415": {
      "model_module": "@jupyter-widgets/base",
      "model_module_version": "2.0.0",
      "model_name": "LayoutModel",
      "state": {}
     },
     "9e56f2374e3a4fa08fc58534fc62520d": {
      "model_module": "@jupyter-widgets/controls",
      "model_module_version": "2.0.0",
      "model_name": "HTMLModel",
      "state": {
       "layout": "IPY_MODEL_7c7d06c22dee4133bef9939e8e394022",
       "style": "IPY_MODEL_6ac101dcf54f496f82f26306f707a216",
       "value": "<h2>Body Area</h2>"
      }
     },
     "9e72f94715b04faeb12c6af5e40fd8b7": {
      "model_module": "@jupyter-widgets/controls",
      "model_module_version": "2.0.0",
      "model_name": "CheckboxModel",
      "state": {
       "description": "barbell",
       "disabled": false,
       "indent": false,
       "layout": "IPY_MODEL_a4373fdf29cd461588545df63d1c71fa",
       "style": "IPY_MODEL_93479243126e4d25b8ac85fcc13bf12a",
       "value": false
      }
     },
     "9e953ac6df9541d99c0d611b92d1314f": {
      "model_module": "@jupyter-widgets/controls",
      "model_module_version": "2.0.0",
      "model_name": "VBoxModel",
      "state": {
       "children": [
        "IPY_MODEL_60c59d06114f40d2ba736b782c53ccd4",
        "IPY_MODEL_e46db6b604bb4362a23ec78c1eb6640f"
       ],
       "layout": "IPY_MODEL_f4afbf3ff6c54fa6bc2e5fef57df1f29"
      }
     },
     "9ebefe4091b84bab94cfaef5a5169652": {
      "model_module": "@jupyter-widgets/controls",
      "model_module_version": "2.0.0",
      "model_name": "CheckboxModel",
      "state": {
       "description": "stretching",
       "disabled": false,
       "indent": false,
       "layout": "IPY_MODEL_9ec9b4eb527a478280f76037181f7a84",
       "style": "IPY_MODEL_52857593b6874044a14a9c3f644082da",
       "value": true
      }
     },
     "9ec9b4eb527a478280f76037181f7a84": {
      "model_module": "@jupyter-widgets/base",
      "model_module_version": "2.0.0",
      "model_name": "LayoutModel",
      "state": {
       "height": "40px",
       "width": "160px"
      }
     },
     "9eead1a9d5fa41b9aad3195321b8c7e6": {
      "model_module": "@jupyter-widgets/base",
      "model_module_version": "2.0.0",
      "model_name": "LayoutModel",
      "state": {}
     },
     "9f17c67073b44abab16dd6864cbe7c9f": {
      "model_module": "@jupyter-widgets/controls",
      "model_module_version": "2.0.0",
      "model_name": "CheckboxStyleModel",
      "state": {
       "description_width": ""
      }
     },
     "9f785300ac5c42daaa0cccd9398c75e2": {
      "model_module": "@jupyter-widgets/controls",
      "model_module_version": "2.0.0",
      "model_name": "CheckboxModel",
      "state": {
       "description": "upperBody",
       "disabled": false,
       "indent": false,
       "layout": "IPY_MODEL_500238508f7e42b394a149d1a3694ea7",
       "style": "IPY_MODEL_8ba851e440954a238dab80d728a92557",
       "value": true
      }
     },
     "9f8f5f038a1e4c7ba15d102c1d5fceaa": {
      "model_module": "@jupyter-widgets/base",
      "model_module_version": "2.0.0",
      "model_name": "LayoutModel",
      "state": {
       "height": "40px",
       "width": "160px"
      }
     },
     "9fa07779ebe64544910cce872d51d2d3": {
      "model_module": "@jupyter-widgets/controls",
      "model_module_version": "2.0.0",
      "model_name": "CheckboxStyleModel",
      "state": {
       "description_width": ""
      }
     },
     "9fc6a659771f4e1294652404dc3cd7fd": {
      "model_module": "@jupyter-widgets/controls",
      "model_module_version": "2.0.0",
      "model_name": "CheckboxStyleModel",
      "state": {
       "description_width": ""
      }
     },
     "9fda810a6e2b4259b19f4daad46394e7": {
      "model_module": "@jupyter-widgets/base",
      "model_module_version": "2.0.0",
      "model_name": "LayoutModel",
      "state": {}
     },
     "9fe7440cb16f4e5fa67d24a048dc6973": {
      "model_module": "@jupyter-widgets/controls",
      "model_module_version": "2.0.0",
      "model_name": "CheckboxModel",
      "state": {
       "description": "Core",
       "disabled": false,
       "indent": false,
       "layout": "IPY_MODEL_eed3b7cfc8274675b62bdd0d97beef01",
       "style": "IPY_MODEL_f5d5a4fef4cf4eed90024f08752332bb",
       "value": true
      }
     },
     "a0011a11eab1406dbf3a9827ba4e6459": {
      "model_module": "@jupyter-widgets/controls",
      "model_module_version": "2.0.0",
      "model_name": "CheckboxModel",
      "state": {
       "description": "body only",
       "disabled": false,
       "indent": false,
       "layout": "IPY_MODEL_f0bde92e91564670b37a14a704fef72c",
       "style": "IPY_MODEL_d1efddb6df2c47e28e34e60af62c64d6",
       "value": true
      }
     },
     "a00dffdbc44748e5a2dfcf4fa09cda2c": {
      "model_module": "@jupyter-widgets/controls",
      "model_module_version": "2.0.0",
      "model_name": "BoxModel",
      "state": {
       "children": [
        "IPY_MODEL_161dd4119e3047d8a0bd752029b61ef4",
        "IPY_MODEL_090788ea85ad4f4ba5f1d0385944d716"
       ],
       "layout": "IPY_MODEL_558e0cb8982243c68e54044240ad2028"
      }
     },
     "a015216c4fd54c2ea2c3274b12c76a6f": {
      "model_module": "@jupyter-widgets/controls",
      "model_module_version": "2.0.0",
      "model_name": "ButtonModel",
      "state": {
       "description": "Photo",
       "layout": "IPY_MODEL_4b3413429fab4f8da21234072dae970f",
       "style": "IPY_MODEL_6b6a31e206fe486181c1d69115c1e735",
       "tooltip": null
      }
     },
     "a01b1c14c34642bf916c8ec2e5b01c0e": {
      "model_module": "@jupyter-widgets/controls",
      "model_module_version": "2.0.0",
      "model_name": "CheckboxStyleModel",
      "state": {
       "description_width": ""
      }
     },
     "a05d8fe4b6df4344806a472813d07942": {
      "model_module": "@jupyter-widgets/controls",
      "model_module_version": "2.0.0",
      "model_name": "VBoxModel",
      "state": {
       "children": [
        "IPY_MODEL_f672d7a9feb54fa8bedd0a567053c68d",
        "IPY_MODEL_b7b5bad47d334ad388c346ff2fdcaa13"
       ],
       "layout": "IPY_MODEL_bd8df5785dbd434cb9063848c62aa95c"
      }
     },
     "a06b5b83916a415ebe2f05b5c19a209a": {
      "model_module": "@jupyter-widgets/base",
      "model_module_version": "2.0.0",
      "model_name": "LayoutModel",
      "state": {
       "height": "40px",
       "width": "160px"
      }
     },
     "a078ecd2fe0e4beb8d25daa8e85f3152": {
      "model_module": "@jupyter-widgets/controls",
      "model_module_version": "2.0.0",
      "model_name": "ButtonStyleModel",
      "state": {
       "font_family": null,
       "font_size": null,
       "font_style": null,
       "font_variant": null,
       "font_weight": null,
       "text_color": null,
       "text_decoration": null
      }
     },
     "a08102c35c9f492c8313c1cdca66315e": {
      "model_module": "@jupyter-widgets/base",
      "model_module_version": "2.0.0",
      "model_name": "LayoutModel",
      "state": {
       "height": "40px",
       "width": "160px"
      }
     },
     "a081b2ab9f67429b9cad0803f2b508c0": {
      "model_module": "@jupyter-widgets/base",
      "model_module_version": "2.0.0",
      "model_name": "LayoutModel",
      "state": {
       "height": "55px",
       "width": "80px"
      }
     },
     "a0833aeb8f954210902f6f690236f4a3": {
      "model_module": "@jupyter-widgets/controls",
      "model_module_version": "2.0.0",
      "model_name": "VBoxModel",
      "state": {
       "children": [
        "IPY_MODEL_1f2ab640567641aea5bf318947c09a1f",
        "IPY_MODEL_f0ee26b8f951444a8595b0a206040960"
       ],
       "layout": "IPY_MODEL_3d204e2677464c26b0b83d995a918b20"
      }
     },
     "a0a00c7c854b4c87b6321e87e854b8a1": {
      "model_module": "@jupyter-widgets/controls",
      "model_module_version": "2.0.0",
      "model_name": "CheckboxModel",
      "state": {
       "description": "upperBody",
       "disabled": false,
       "indent": false,
       "layout": "IPY_MODEL_1078b1c7681a47cfadbb14ac5c4b68e5",
       "style": "IPY_MODEL_e8936112563248ada1484cff8ee265e4",
       "value": false
      }
     },
     "a0a8c64d9d8b46bf8ae0a980ebc11b3f": {
      "model_module": "@jupyter-widgets/controls",
      "model_module_version": "2.0.0",
      "model_name": "VBoxModel",
      "state": {
       "children": [
        "IPY_MODEL_e9bd5691ecbb4bdf96a009772233918c",
        "IPY_MODEL_76999887f6a54d16876bf6c4bf59771a"
       ],
       "layout": "IPY_MODEL_f0b517bcc3284df087a1cfc6609f5115"
      }
     },
     "a0da8799557648c78ab01ec0de858fde": {
      "model_module": "@jupyter-widgets/controls",
      "model_module_version": "2.0.0",
      "model_name": "HBoxModel",
      "state": {
       "children": [
        "IPY_MODEL_c965f4934a6b44a9b67054d22c6767c1"
       ],
       "layout": "IPY_MODEL_8a18c7df589b4b4baf29d5bea3991f04"
      }
     },
     "a0f4ab0428b74cad8758bfef1654408b": {
      "model_module": "@jupyter-widgets/base",
      "model_module_version": "2.0.0",
      "model_name": "LayoutModel",
      "state": {}
     },
     "a1702794e6de49f199e290cbc68998b6": {
      "model_module": "@jupyter-widgets/controls",
      "model_module_version": "2.0.0",
      "model_name": "VBoxModel",
      "state": {
       "children": [
        "IPY_MODEL_9c5bf78c212f4cc6854ea036ee51d36b",
        "IPY_MODEL_3c8d0759b3bf4a4db4104b932c657d4b"
       ],
       "layout": "IPY_MODEL_9fda810a6e2b4259b19f4daad46394e7"
      }
     },
     "a1875b20568d4874afc58469db979906": {
      "model_module": "@jupyter-widgets/controls",
      "model_module_version": "2.0.0",
      "model_name": "CheckboxModel",
      "state": {
       "description": "upperBody",
       "disabled": false,
       "indent": false,
       "layout": "IPY_MODEL_9f8f5f038a1e4c7ba15d102c1d5fceaa",
       "style": "IPY_MODEL_114d0f767505428987df4e7f08e88de7",
       "value": true
      }
     },
     "a1902090c9f248bbb5ea63086724b27f": {
      "model_module": "@jupyter-widgets/controls",
      "model_module_version": "2.0.0",
      "model_name": "HBoxModel",
      "state": {
       "children": [
        "IPY_MODEL_3f811db08a3d49659802891a3e0bc793"
       ],
       "layout": "IPY_MODEL_e7260c5f3e3a42cd87c7c7e73a376791"
      }
     },
     "a190f00ffcb0425b9e7ac7a31c9cadd4": {
      "model_module": "@jupyter-widgets/base",
      "model_module_version": "2.0.0",
      "model_name": "LayoutModel",
      "state": {
       "height": "40px",
       "width": "160px"
      }
     },
     "a19e05f265884e5ea1117b2e6b6e2e12": {
      "model_module": "@jupyter-widgets/controls",
      "model_module_version": "2.0.0",
      "model_name": "HTMLModel",
      "state": {
       "layout": "IPY_MODEL_96ddd27d5ba14a89a42d665dc314d753",
       "style": "IPY_MODEL_388e81c46cbb43faabfd7c7d3922fa16",
       "value": "Zercher Squats"
      }
     },
     "a213a970b0ff4200861b6372e25b7f53": {
      "model_module": "@jupyter-widgets/controls",
      "model_module_version": "2.0.0",
      "model_name": "CheckboxModel",
      "state": {
       "description": "medicine ball",
       "disabled": false,
       "indent": false,
       "layout": "IPY_MODEL_cab87bb4675f479e960a72347f66b455",
       "style": "IPY_MODEL_228c00afe1ab408ea9d01195858cdbaa",
       "value": true
      }
     },
     "a2433aaebee4404fa934d9be4ef82bfd": {
      "model_module": "@jupyter-widgets/base",
      "model_module_version": "2.0.0",
      "model_name": "LayoutModel",
      "state": {}
     },
     "a243ee937ee94287a2263dd49c5c4589": {
      "model_module": "@jupyter-widgets/base",
      "model_module_version": "2.0.0",
      "model_name": "LayoutModel",
      "state": {}
     },
     "a244d65bff474e868f9c03dd8c3a0e22": {
      "model_module": "@jupyter-widgets/controls",
      "model_module_version": "2.0.0",
      "model_name": "HTMLStyleModel",
      "state": {
       "description_width": "",
       "font_size": null,
       "text_color": null
      }
     },
     "a250962bf2d9449f8c6f2a9c5013ef14": {
      "model_module": "@jupyter-widgets/controls",
      "model_module_version": "2.0.0",
      "model_name": "HBoxModel",
      "state": {
       "children": [
        "IPY_MODEL_7996342414d94e4da8c80b5b5fedd313"
       ],
       "layout": "IPY_MODEL_33442af9b52f47a684cf8b3327bb4a99"
      }
     },
     "a25a5239feff4f999b8b15a3cd5b815e": {
      "model_module": "@jupyter-widgets/base",
      "model_module_version": "2.0.0",
      "model_name": "LayoutModel",
      "state": {}
     },
     "a27eafc2588a4ccdb20c184f1f246d59": {
      "model_module": "@jupyter-widgets/controls",
      "model_module_version": "2.0.0",
      "model_name": "HTMLModel",
      "state": {
       "layout": "IPY_MODEL_3bf9f883198a422ea87601638f564ef2",
       "style": "IPY_MODEL_756d93db4b884196a6809cc858e68d44",
       "value": "<h3>Core</h3>"
      }
     },
     "a294ff5dd02e4c26be89cc6608ceb530": {
      "model_module": "@jupyter-widgets/controls",
      "model_module_version": "2.0.0",
      "model_name": "HBoxModel",
      "state": {
       "children": [
        "IPY_MODEL_50268156a6084a92b031d08691b84906"
       ],
       "layout": "IPY_MODEL_d699c601398c43089f956b535bb396a8"
      }
     },
     "a2c44ddddb59473e9cf2f1e15b103042": {
      "model_module": "@jupyter-widgets/base",
      "model_module_version": "2.0.0",
      "model_name": "LayoutModel",
      "state": {
       "height": "40px",
       "width": "160px"
      }
     },
     "a2dbce27e8284fe8a43e9277dbc5af9c": {
      "model_module": "@jupyter-widgets/controls",
      "model_module_version": "2.0.0",
      "model_name": "HBoxModel",
      "state": {
       "children": [
        "IPY_MODEL_84077ae8ab3e416aaee083521bdc7a27"
       ],
       "layout": "IPY_MODEL_3e873db425004012802fe2c2909c0c8d"
      }
     },
     "a2f902c7be5c4b949dcb5f870b33f7e8": {
      "model_module": "@jupyter-widgets/controls",
      "model_module_version": "2.0.0",
      "model_name": "VBoxModel",
      "state": {
       "children": [
        "IPY_MODEL_bc40107bfcc54b149312bbf69abff7bb",
        "IPY_MODEL_d01c89c68c0d4e1cb6b0597e62fdd5f9"
       ],
       "layout": "IPY_MODEL_ba982eb631814056b8fdf336441a89c4"
      }
     },
     "a328f8f164c54ce3ac0458c041fa5016": {
      "model_module": "@jupyter-widgets/controls",
      "model_module_version": "2.0.0",
      "model_name": "CheckboxStyleModel",
      "state": {
       "description_width": ""
      }
     },
     "a33cc0d3ceef41c79114db05b447bf8b": {
      "model_module": "@jupyter-widgets/base",
      "model_module_version": "2.0.0",
      "model_name": "LayoutModel",
      "state": {
       "height": "55px",
       "width": "120px"
      }
     },
     "a374ca7344c844058a22b5f4c885fa0a": {
      "model_module": "@jupyter-widgets/controls",
      "model_module_version": "2.0.0",
      "model_name": "HTMLStyleModel",
      "state": {
       "description_width": "",
       "font_size": null,
       "text_color": null
      }
     },
     "a39c5b30beed4e209659088083f825be": {
      "model_module": "@jupyter-widgets/base",
      "model_module_version": "2.0.0",
      "model_name": "LayoutModel",
      "state": {}
     },
     "a3a18c15cbbd4a44a2007485f6cb962b": {
      "model_module": "@jupyter-widgets/controls",
      "model_module_version": "2.0.0",
      "model_name": "HTMLStyleModel",
      "state": {
       "description_width": "",
       "font_size": null,
       "text_color": null
      }
     },
     "a3aab89922ba452db6b6076398206141": {
      "model_module": "@jupyter-widgets/controls",
      "model_module_version": "2.0.0",
      "model_name": "HTMLModel",
      "state": {
       "layout": "IPY_MODEL_e7bc6b6bc703432399793ec0c3de9383",
       "style": "IPY_MODEL_aea7087404544913af14e083b40ecfac",
       "value": "<h1>Results</h1>"
      }
     },
     "a3de14bd5a7a4692ae0bf49ecffffd45": {
      "model_module": "@jupyter-widgets/controls",
      "model_module_version": "2.0.0",
      "model_name": "ButtonModel",
      "state": {
       "description": "Instruction",
       "icon": "comment",
       "layout": "IPY_MODEL_80a194e3798245439a98fef1c2e3e272",
       "style": "IPY_MODEL_216c3af4d89e4964b7736db0c7fb68db",
       "tooltip": "687"
      }
     },
     "a3df80c6c9d64291a8e384fbd3c3c753": {
      "model_module": "@jupyter-widgets/controls",
      "model_module_version": "2.0.0",
      "model_name": "ButtonStyleModel",
      "state": {
       "font_family": null,
       "font_size": null,
       "font_style": null,
       "font_variant": null,
       "font_weight": null,
       "text_color": null,
       "text_decoration": null
      }
     },
     "a4373fdf29cd461588545df63d1c71fa": {
      "model_module": "@jupyter-widgets/base",
      "model_module_version": "2.0.0",
      "model_name": "LayoutModel",
      "state": {
       "height": "40px",
       "width": "160px"
      }
     },
     "a4399080546f4832acef0f43a492b04a": {
      "model_module": "@jupyter-widgets/controls",
      "model_module_version": "2.0.0",
      "model_name": "VBoxModel",
      "state": {
       "children": [
        "IPY_MODEL_f5afbe7075294024960a4a333641bd23",
        "IPY_MODEL_65bf098002c54671b97e8411949b44f1",
        "IPY_MODEL_a67e9a35c6e048de996bd5e483d25338",
        "IPY_MODEL_4530acdd1c184ed8b075c8090a27708d"
       ],
       "layout": "IPY_MODEL_3da0380b1f994726a8c30d42294b4bbe"
      }
     },
     "a45086bf15dc40829c2cbec532056f41": {
      "model_module": "@jupyter-widgets/controls",
      "model_module_version": "2.0.0",
      "model_name": "CheckboxModel",
      "state": {
       "description": "strength",
       "disabled": false,
       "indent": false,
       "layout": "IPY_MODEL_a08102c35c9f492c8313c1cdca66315e",
       "style": "IPY_MODEL_cf6117db97e34ac480440b9d7d8aab6d",
       "value": true
      }
     },
     "a48a7850bfae4725ba0348ee10f652ca": {
      "model_module": "@jupyter-widgets/base",
      "model_module_version": "2.0.0",
      "model_name": "LayoutModel",
      "state": {}
     },
     "a4a39d865ea94aa5b87f8c7f3b4c1180": {
      "model_module": "@jupyter-widgets/controls",
      "model_module_version": "2.0.0",
      "model_name": "CheckboxModel",
      "state": {
       "description": "body only",
       "disabled": false,
       "indent": false,
       "layout": "IPY_MODEL_6441522afaa74164825e33e505e1dd3e",
       "style": "IPY_MODEL_5a5d5209e3a4493bb204ec9015d8d5f9",
       "value": true
      }
     },
     "a4bd44b130dd482ca08f6badf5e729c6": {
      "model_module": "@jupyter-widgets/controls",
      "model_module_version": "2.0.0",
      "model_name": "BoxModel",
      "state": {
       "children": [
        "IPY_MODEL_c2130fb38c2145629a459b8d3e6a1149",
        "IPY_MODEL_5fe590b9fb344e998be6821c7fa53459"
       ],
       "layout": "IPY_MODEL_d20306500b884179929f286f0c37c3ae"
      }
     },
     "a4bd64ff628f47798c166c87779d9a8c": {
      "model_module": "@jupyter-widgets/controls",
      "model_module_version": "2.0.0",
      "model_name": "CheckboxStyleModel",
      "state": {
       "description_width": ""
      }
     },
     "a4d61bbf4fdf468b9b9c693a5e4a4a01": {
      "model_module": "@jupyter-widgets/base",
      "model_module_version": "2.0.0",
      "model_name": "LayoutModel",
      "state": {}
     },
     "a4d63b9da3ae4049b92500e8dc6338fb": {
      "model_module": "@jupyter-widgets/controls",
      "model_module_version": "2.0.0",
      "model_name": "CheckboxStyleModel",
      "state": {
       "description_width": ""
      }
     },
     "a4fd9a44f88a479b8b6a15f80b4e6aca": {
      "model_module": "@jupyter-widgets/base",
      "model_module_version": "2.0.0",
      "model_name": "LayoutModel",
      "state": {}
     },
     "a507195fe2684eebabad5bbae0d9d883": {
      "model_module": "@jupyter-widgets/controls",
      "model_module_version": "2.0.0",
      "model_name": "CheckboxStyleModel",
      "state": {
       "description_width": ""
      }
     },
     "a51cea45b07a4a718e71d0f4de4f3f6f": {
      "model_module": "@jupyter-widgets/base",
      "model_module_version": "2.0.0",
      "model_name": "LayoutModel",
      "state": {}
     },
     "a56fb7bcb2c841bba23a56a7cef18958": {
      "model_module": "@jupyter-widgets/base",
      "model_module_version": "2.0.0",
      "model_name": "LayoutModel",
      "state": {
       "height": "40px",
       "width": "160px"
      }
     },
     "a58ff90b2dc14c6898b85a1211c721eb": {
      "model_module": "@jupyter-widgets/controls",
      "model_module_version": "2.0.0",
      "model_name": "HTMLStyleModel",
      "state": {
       "description_width": "",
       "font_size": null,
       "text_color": null
      }
     },
     "a5cd496304584619990b8d23e47f5275": {
      "model_module": "@jupyter-widgets/controls",
      "model_module_version": "2.0.0",
      "model_name": "HTMLStyleModel",
      "state": {
       "description_width": "",
       "font_size": null,
       "text_color": null
      }
     },
     "a5d3634712f04856ab05e42b6dce2131": {
      "model_module": "@jupyter-widgets/controls",
      "model_module_version": "2.0.0",
      "model_name": "HBoxModel",
      "state": {
       "children": [
        "IPY_MODEL_3fed96c4eb2845848e7543caa758af54"
       ],
       "layout": "IPY_MODEL_4a5c30006cfa44c0aefe95a2fd0c50f2"
      }
     },
     "a5e66d42748545aaaa668114960d7af6": {
      "model_module": "@jupyter-widgets/controls",
      "model_module_version": "2.0.0",
      "model_name": "CheckboxStyleModel",
      "state": {
       "description_width": ""
      }
     },
     "a5fb604ac4494d4c82f8465b4443ec4f": {
      "model_module": "@jupyter-widgets/controls",
      "model_module_version": "2.0.0",
      "model_name": "CheckboxStyleModel",
      "state": {
       "description_width": ""
      }
     },
     "a5fce496a4034de7bc312ec71b91cae7": {
      "model_module": "@jupyter-widgets/base",
      "model_module_version": "2.0.0",
      "model_name": "LayoutModel",
      "state": {}
     },
     "a62c8a7ee8f54018a69f2b6781ac1445": {
      "model_module": "@jupyter-widgets/base",
      "model_module_version": "2.0.0",
      "model_name": "LayoutModel",
      "state": {}
     },
     "a65b8af767ea40afa0370759e6e21f49": {
      "model_module": "@jupyter-widgets/controls",
      "model_module_version": "2.0.0",
      "model_name": "ButtonModel",
      "state": {
       "description": "Instruction",
       "icon": "comment",
       "layout": "IPY_MODEL_093f63415b3b4658b8fb340cbfe42865",
       "style": "IPY_MODEL_87a03846fa4b4a4d9a1873b0d4545cf0",
       "tooltip": "795"
      }
     },
     "a65f1d7f316349e3b0e78856856af5e5": {
      "model_module": "@jupyter-widgets/controls",
      "model_module_version": "2.0.0",
      "model_name": "VBoxModel",
      "state": {
       "children": [
        "IPY_MODEL_dd49d92600534360826aea4239b9960c",
        "IPY_MODEL_a65b8af767ea40afa0370759e6e21f49"
       ],
       "layout": "IPY_MODEL_8bcff0584ee94e8da2f8141e11b602ca"
      }
     },
     "a66054f4bb8a49abae5c04b9dec9636a": {
      "model_module": "@jupyter-widgets/controls",
      "model_module_version": "2.0.0",
      "model_name": "VBoxModel",
      "state": {
       "children": [
        "IPY_MODEL_9dacbf69fe40419783b92b77e03ab53d",
        "IPY_MODEL_7f5da0d343d141198ccbd440b0b1a8c1"
       ],
       "layout": "IPY_MODEL_b3d49ad6d2e74a04b8ec67810729028a"
      }
     },
     "a67d39ead8874c1b88b090164b2970d8": {
      "model_module": "@jupyter-widgets/controls",
      "model_module_version": "2.0.0",
      "model_name": "CheckboxStyleModel",
      "state": {
       "description_width": ""
      }
     },
     "a67e9a35c6e048de996bd5e483d25338": {
      "model_module": "@jupyter-widgets/controls",
      "model_module_version": "2.0.0",
      "model_name": "CheckboxModel",
      "state": {
       "description": "barbell",
       "disabled": false,
       "indent": false,
       "layout": "IPY_MODEL_b72cf6bc13284f94bd680d629d2821c5",
       "style": "IPY_MODEL_74f0fa8af179417bb2990474543a57fe",
       "value": true
      }
     },
     "a6bc40b59528494281c75919d858021b": {
      "model_module": "@jupyter-widgets/base",
      "model_module_version": "2.0.0",
      "model_name": "LayoutModel",
      "state": {
       "align_items": "stretch",
       "display": "flex",
       "flex_flow": "row",
       "justify_content": "space-around",
       "width": "70%"
      }
     },
     "a6d80445197a4cc09356dd96328f6818": {
      "model_module": "@jupyter-widgets/base",
      "model_module_version": "2.0.0",
      "model_name": "LayoutModel",
      "state": {}
     },
     "a722b043faf14415832b94b65cacddda": {
      "model_module": "@jupyter-widgets/base",
      "model_module_version": "2.0.0",
      "model_name": "LayoutModel",
      "state": {
       "height": "40px",
       "width": "160px"
      }
     },
     "a7654b16979a4071bd8fa3ca4d96c15b": {
      "model_module": "@jupyter-widgets/controls",
      "model_module_version": "2.0.0",
      "model_name": "VBoxModel",
      "state": {
       "children": [
        "IPY_MODEL_fd6a36c5a84842bdb8eeffe2567f4364",
        "IPY_MODEL_6f05740e1f414fc9947a23bdf4902d1f"
       ],
       "layout": "IPY_MODEL_63bbc98005e34e55a2623061fbe3c13f"
      }
     },
     "a781999cb925477b8deaddac9e08328e": {
      "model_module": "@jupyter-widgets/base",
      "model_module_version": "2.0.0",
      "model_name": "LayoutModel",
      "state": {
       "height": "40px",
       "width": "160px"
      }
     },
     "a7ddbf88c6754b439d49d96abebb0754": {
      "model_module": "@jupyter-widgets/controls",
      "model_module_version": "2.0.0",
      "model_name": "ButtonModel",
      "state": {
       "description": "Close",
       "layout": "IPY_MODEL_a081b2ab9f67429b9cad0803f2b508c0",
       "style": "IPY_MODEL_106ea6b5f67e4ac2aec5a503fe0d9053",
       "tooltip": null
      }
     },
     "a7e3b03c62f742068bcd6b95c0ace51d": {
      "model_module": "@jupyter-widgets/base",
      "model_module_version": "2.0.0",
      "model_name": "LayoutModel",
      "state": {
       "align_items": "stretch",
       "display": "flex",
       "flex_flow": "row",
       "justify_content": "space-around",
       "width": "70%"
      }
     },
     "a7eda299eaa24c76b9d35c6deee6a697": {
      "model_module": "@jupyter-widgets/controls",
      "model_module_version": "2.0.0",
      "model_name": "CheckboxStyleModel",
      "state": {
       "description_width": ""
      }
     },
     "a883505250a8456692a082b0d9010c98": {
      "model_module": "@jupyter-widgets/controls",
      "model_module_version": "2.0.0",
      "model_name": "HTMLStyleModel",
      "state": {
       "description_width": "",
       "font_size": null,
       "text_color": null
      }
     },
     "a8bd3bf4d8784ec7b1573479e6ebd6d7": {
      "model_module": "@jupyter-widgets/controls",
      "model_module_version": "2.0.0",
      "model_name": "ButtonModel",
      "state": {
       "description": "Close",
       "layout": "IPY_MODEL_03ea67a2fae34c59a6443bafb45cf0a5",
       "style": "IPY_MODEL_5f86efae14d64addbf05181072e2b5a7",
       "tooltip": null
      }
     },
     "a8c049555db44fdd9acd3ba15098cb5a": {
      "model_module": "@jupyter-widgets/controls",
      "model_module_version": "2.0.0",
      "model_name": "VBoxModel",
      "state": {
       "children": [
        "IPY_MODEL_ab7b2848cff64775b59143426358f83e",
        "IPY_MODEL_9b50bbdbcef547229f4da8a4af860ffb",
        "IPY_MODEL_29b24f797b4241a9a260be8531465ce7",
        "IPY_MODEL_72a97c2a6fa9448e836fe92b29914169"
       ],
       "layout": "IPY_MODEL_f123b043a02a4cb09d2507b33fe063b4"
      }
     },
     "a929ae98a3a7486eb94c984fc007d60a": {
      "model_module": "@jupyter-widgets/controls",
      "model_module_version": "2.0.0",
      "model_name": "CheckboxStyleModel",
      "state": {
       "description_width": ""
      }
     },
     "a955432d139a48a292bdd969829bf9e4": {
      "model_module": "@jupyter-widgets/controls",
      "model_module_version": "2.0.0",
      "model_name": "ButtonModel",
      "state": {
       "description": "Instruction",
       "icon": "comment",
       "layout": "IPY_MODEL_52617852634c4edc8369aab2f6005158",
       "style": "IPY_MODEL_baf09fa689844f65a4922992341caf6c",
       "tooltip": "817"
      }
     },
     "a96681b368fe447b85f33a86d6cc500e": {
      "model_module": "@jupyter-widgets/base",
      "model_module_version": "2.0.0",
      "model_name": "LayoutModel",
      "state": {}
     },
     "a9ad84c2b91f482c884077543bb5a7ed": {
      "model_module": "@jupyter-widgets/base",
      "model_module_version": "2.0.0",
      "model_name": "LayoutModel",
      "state": {
       "height": "55px",
       "width": "120px"
      }
     },
     "aa0256963a3846d1908f7ba9b1345039": {
      "model_module": "@jupyter-widgets/controls",
      "model_module_version": "2.0.0",
      "model_name": "ButtonModel",
      "state": {
       "description": "Ex Category",
       "layout": "IPY_MODEL_8993d5d9dfe247a1b6bc7cd5e139b679",
       "style": "IPY_MODEL_9b4590abd5154d2c8fa2df50a24b72f1",
       "tooltip": null
      }
     },
     "aa16ad613e7c485695dfac1beba30981": {
      "model_module": "@jupyter-widgets/base",
      "model_module_version": "2.0.0",
      "model_name": "LayoutModel",
      "state": {
       "height": "55px",
       "width": "80px"
      }
     },
     "aa1b3c7acb6d4ef7b750ba254c12d296": {
      "model_module": "@jupyter-widgets/controls",
      "model_module_version": "2.0.0",
      "model_name": "CheckboxModel",
      "state": {
       "description": "cable",
       "disabled": false,
       "indent": false,
       "layout": "IPY_MODEL_f40eb716d5ec471fa9a454d60bf377da",
       "style": "IPY_MODEL_18252f28087f4b77a596fae5368f9ccc",
       "value": true
      }
     },
     "aa29213aee0247c780d7026f426939cc": {
      "model_module": "@jupyter-widgets/base",
      "model_module_version": "2.0.0",
      "model_name": "LayoutModel",
      "state": {}
     },
     "aa453fbfa8f244f5a1f78ce5f56cc63d": {
      "model_module": "@jupyter-widgets/base",
      "model_module_version": "2.0.0",
      "model_name": "LayoutModel",
      "state": {}
     },
     "aa4ea1b9491d4cd784fe2db691ef1a4e": {
      "model_module": "@jupyter-widgets/controls",
      "model_module_version": "2.0.0",
      "model_name": "VBoxModel",
      "state": {
       "children": [
        "IPY_MODEL_a45086bf15dc40829c2cbec532056f41",
        "IPY_MODEL_233a5047727d4e748ffdc621351366ef",
        "IPY_MODEL_f5a7a31686f5475fb79401b68b254b0e"
       ],
       "layout": "IPY_MODEL_84be212cb6db40e4aca06e5527ac2dca"
      }
     },
     "aaa36b4c53cd4fa98f57f960be03a5ea": {
      "model_module": "@jupyter-widgets/controls",
      "model_module_version": "2.0.0",
      "model_name": "CheckboxStyleModel",
      "state": {
       "description_width": ""
      }
     },
     "aab182fbd3674750a8f0c4702d0925af": {
      "model_module": "@jupyter-widgets/controls",
      "model_module_version": "2.0.0",
      "model_name": "ButtonStyleModel",
      "state": {
       "font_family": null,
       "font_size": null,
       "font_style": null,
       "font_variant": null,
       "font_weight": null,
       "text_color": null,
       "text_decoration": null
      }
     },
     "aaced1e90d334d9fad9bb0340450d35a": {
      "model_module": "@jupyter-widgets/base",
      "model_module_version": "2.0.0",
      "model_name": "LayoutModel",
      "state": {}
     },
     "aaf71d72b7554462b5740000d30746b0": {
      "model_module": "@jupyter-widgets/base",
      "model_module_version": "2.0.0",
      "model_name": "LayoutModel",
      "state": {
       "align_items": "stretch",
       "display": "flex",
       "flex_flow": "row",
       "justify_content": "space-around",
       "width": "70%"
      }
     },
     "aaf7298f2db24f2b9c2e2f001dcbb20e": {
      "model_module": "@jupyter-widgets/controls",
      "model_module_version": "2.0.0",
      "model_name": "HBoxModel",
      "state": {
       "children": [
        "IPY_MODEL_7337a7d5761541b28915df95c3c2fb06"
       ],
       "layout": "IPY_MODEL_96741405a16e4291a3ce435a709e3bfd"
      }
     },
     "ab10de457f51471c84c469e9c5639765": {
      "model_module": "@jupyter-widgets/base",
      "model_module_version": "2.0.0",
      "model_name": "LayoutModel",
      "state": {}
     },
     "ab1b37b32d6e42d3af6b4eea42f4ae9a": {
      "model_module": "@jupyter-widgets/controls",
      "model_module_version": "2.0.0",
      "model_name": "VBoxModel",
      "state": {
       "children": [
        "IPY_MODEL_1aee2acb688f45bebc29e71fca253bcd",
        "IPY_MODEL_d01c89c68c0d4e1cb6b0597e62fdd5f9"
       ],
       "layout": "IPY_MODEL_8be049bd71e443848a0e52b78503b5dd"
      }
     },
     "ab5cfab4fab547b2808d17eaf1fd35e8": {
      "model_module": "@jupyter-widgets/controls",
      "model_module_version": "2.0.0",
      "model_name": "ButtonModel",
      "state": {
       "description": "Close",
       "layout": "IPY_MODEL_d754b62f352044f3b0dd4ec94f2e6003",
       "style": "IPY_MODEL_bb8c8593c9624697afa81219b87201b1",
       "tooltip": null
      }
     },
     "ab61904da7ff443989acb7089355eab3": {
      "model_module": "@jupyter-widgets/controls",
      "model_module_version": "2.0.0",
      "model_name": "HTMLStyleModel",
      "state": {
       "description_width": "",
       "font_size": null,
       "text_color": null
      }
     },
     "ab7b2848cff64775b59143426358f83e": {
      "model_module": "@jupyter-widgets/controls",
      "model_module_version": "2.0.0",
      "model_name": "CheckboxModel",
      "state": {
       "description": "medicine ball",
       "disabled": false,
       "indent": false,
       "layout": "IPY_MODEL_ff13b83703bb4b8a837e2c51296c6cd8",
       "style": "IPY_MODEL_0d19e53dbf5e4b209ac6fc574eb46818",
       "value": true
      }
     },
     "ab964a755a624da38e34060992d79f0b": {
      "model_module": "@jupyter-widgets/base",
      "model_module_version": "2.0.0",
      "model_name": "LayoutModel",
      "state": {}
     },
     "ab9809902144403daa7cacc77e211b68": {
      "model_module": "@jupyter-widgets/base",
      "model_module_version": "2.0.0",
      "model_name": "LayoutModel",
      "state": {}
     },
     "aba56d0e08b5496f9d5794661ceefc70": {
      "model_module": "@jupyter-widgets/controls",
      "model_module_version": "2.0.0",
      "model_name": "CheckboxStyleModel",
      "state": {
       "description_width": ""
      }
     },
     "abcd54d8538742c3b7816c5a00e1d672": {
      "model_module": "@jupyter-widgets/controls",
      "model_module_version": "2.0.0",
      "model_name": "ButtonModel",
      "state": {
       "description": "Instruction",
       "icon": "comment",
       "layout": "IPY_MODEL_258247bd5e1f45178f52edce0fa7d2d0",
       "style": "IPY_MODEL_64c3968bd03440189fc25307cfaebcdd",
       "tooltip": "499"
      }
     },
     "abd27172bc574426998d55e64f588e87": {
      "model_module": "@jupyter-widgets/controls",
      "model_module_version": "2.0.0",
      "model_name": "VBoxModel",
      "state": {
       "children": [
        "IPY_MODEL_30e24e427c694519b14796721baf3e59",
        "IPY_MODEL_0bb271c615814073a02ff9bde5008e3e",
        "IPY_MODEL_dccf29abc00c48e5b1b1feea3a78f95b",
        "IPY_MODEL_00c145265e3a4a60bd48931a4e8970c1"
       ],
       "layout": "IPY_MODEL_070ba7bbb671412b952ab56450cbbdd1"
      }
     },
     "abf04ddfc75942d7917d08f221aa3b51": {
      "model_module": "@jupyter-widgets/controls",
      "model_module_version": "2.0.0",
      "model_name": "VBoxModel",
      "state": {
       "children": [
        "IPY_MODEL_58b499cd56124e2386444a35e464ce9a",
        "IPY_MODEL_eded6bf6be2a487e950e8b367488a01a"
       ],
       "layout": "IPY_MODEL_c5ce890c73c340b090b261acf2a19e86"
      }
     },
     "ac0fe6352e514209bf5ad30c5bd01106": {
      "model_module": "@jupyter-widgets/base",
      "model_module_version": "2.0.0",
      "model_name": "LayoutModel",
      "state": {}
     },
     "ac11560dd0e44d64bc89783c6a8c415b": {
      "model_module": "@jupyter-widgets/controls",
      "model_module_version": "2.0.0",
      "model_name": "ButtonModel",
      "state": {
       "description": "Clear",
       "layout": "IPY_MODEL_34e0595c63dc4a96aa598624dc179477",
       "style": "IPY_MODEL_52289e18ccad4654b46166b5a35c0ad7",
       "tooltip": null
      }
     },
     "ac18a595143f46a789da12685b8c3149": {
      "model_module": "@jupyter-widgets/base",
      "model_module_version": "2.0.0",
      "model_name": "LayoutModel",
      "state": {}
     },
     "ac3a38c085ad4121bcaa3e0d4a1651f3": {
      "model_module": "@jupyter-widgets/base",
      "model_module_version": "2.0.0",
      "model_name": "LayoutModel",
      "state": {}
     },
     "aca7af6ef0fb4a4388d0131f738432e6": {
      "model_module": "@jupyter-widgets/controls",
      "model_module_version": "2.0.0",
      "model_name": "ButtonStyleModel",
      "state": {
       "font_family": null,
       "font_size": null,
       "font_style": null,
       "font_variant": null,
       "font_weight": null,
       "text_color": null,
       "text_decoration": null
      }
     },
     "ad1c4b745fd24247a1e1c798bdc8efa0": {
      "model_module": "@jupyter-widgets/controls",
      "model_module_version": "2.0.0",
      "model_name": "HTMLStyleModel",
      "state": {
       "description_width": "",
       "font_size": null,
       "text_color": null
      }
     },
     "ad4012faf1d741d8b02ee368577c495e": {
      "model_module": "@jupyter-widgets/base",
      "model_module_version": "2.0.0",
      "model_name": "LayoutModel",
      "state": {
       "align_items": "stretch",
       "display": "flex",
       "flex_flow": "row",
       "justify_content": "space-around",
       "width": "40%"
      }
     },
     "ad46567f2ee7447b80920d74f4d91502": {
      "model_module": "@jupyter-widgets/controls",
      "model_module_version": "2.0.0",
      "model_name": "HTMLStyleModel",
      "state": {
       "description_width": "",
       "font_size": null,
       "text_color": null
      }
     },
     "ae414b507fe94c1f8f54ace5fb3b44bd": {
      "model_module": "@jupyter-widgets/base",
      "model_module_version": "2.0.0",
      "model_name": "LayoutModel",
      "state": {}
     },
     "ae45e3e05d004b6abe6a6a7d4b478339": {
      "model_module": "@jupyter-widgets/base",
      "model_module_version": "2.0.0",
      "model_name": "LayoutModel",
      "state": {}
     },
     "ae4f35b99a3d46f49a69b7e966f906a4": {
      "model_module": "@jupyter-widgets/controls",
      "model_module_version": "2.0.0",
      "model_name": "HTMLStyleModel",
      "state": {
       "description_width": "",
       "font_size": null,
       "text_color": null
      }
     },
     "aea7087404544913af14e083b40ecfac": {
      "model_module": "@jupyter-widgets/controls",
      "model_module_version": "2.0.0",
      "model_name": "HTMLStyleModel",
      "state": {
       "description_width": "",
       "font_size": null,
       "text_color": null
      }
     },
     "aeb786ae45c24ce99b11beb255d35476": {
      "model_module": "@jupyter-widgets/base",
      "model_module_version": "2.0.0",
      "model_name": "LayoutModel",
      "state": {}
     },
     "af02f49865354cfe9a4bc77e92943edc": {
      "model_module": "@jupyter-widgets/controls",
      "model_module_version": "2.0.0",
      "model_name": "HBoxModel",
      "state": {
       "children": [
        "IPY_MODEL_2df2dc5623244466989f3d24ed1ef6ce"
       ],
       "layout": "IPY_MODEL_deff5f1616214013a5c0edfe0335e259"
      }
     },
     "af3e981cc7b34be0b581eb9c96b822b9": {
      "model_module": "@jupyter-widgets/base",
      "model_module_version": "2.0.0",
      "model_name": "LayoutModel",
      "state": {
       "height": "55px",
       "width": "120px"
      }
     },
     "afbdc3defb704524a922868f13c246ae": {
      "model_module": "@jupyter-widgets/controls",
      "model_module_version": "2.0.0",
      "model_name": "ButtonStyleModel",
      "state": {
       "font_family": null,
       "font_size": null,
       "font_style": null,
       "font_variant": null,
       "font_weight": null,
       "text_color": null,
       "text_decoration": null
      }
     },
     "aff06340f7f9490b8aecaad0c709d1d6": {
      "model_module": "@jupyter-widgets/controls",
      "model_module_version": "2.0.0",
      "model_name": "ButtonModel",
      "state": {
       "description": "Run",
       "layout": "IPY_MODEL_9252cc3dad664bbf9162d3fdbfc4a648",
       "style": "IPY_MODEL_c8d893af6ab34727b86a95d4b1b6abc5",
       "tooltip": null
      }
     },
     "b0203194245d4332914020b21009fb89": {
      "model_module": "@jupyter-widgets/controls",
      "model_module_version": "2.0.0",
      "model_name": "CheckboxStyleModel",
      "state": {
       "description_width": ""
      }
     },
     "b02a3f9ccaba499f8bcb5bd824bfdff2": {
      "model_module": "@jupyter-widgets/controls",
      "model_module_version": "2.0.0",
      "model_name": "VBoxModel",
      "state": {
       "children": [
        "IPY_MODEL_6e78c18566f44f58bc220ad92406efac",
        "IPY_MODEL_777cf8988e114ac7a63b5f172b8874d5"
       ],
       "layout": "IPY_MODEL_47ab02a64d464434a431a20e8c24b520"
      }
     },
     "b03c47cc1cac495692899896d1a2ad6a": {
      "model_module": "@jupyter-widgets/controls",
      "model_module_version": "2.0.0",
      "model_name": "VBoxModel",
      "state": {
       "layout": "IPY_MODEL_8e0bca0320544cd28a8a5c0e4409f075"
      }
     },
     "b0903d8e8e084d2e86e5d1072ee63a13": {
      "model_module": "@jupyter-widgets/base",
      "model_module_version": "2.0.0",
      "model_name": "LayoutModel",
      "state": {}
     },
     "b091910e217d4c78965c10d5bb7c4eb1": {
      "model_module": "@jupyter-widgets/base",
      "model_module_version": "2.0.0",
      "model_name": "LayoutModel",
      "state": {}
     },
     "b09c7200482e437196b46f5d7850d509": {
      "model_module": "@jupyter-widgets/base",
      "model_module_version": "2.0.0",
      "model_name": "LayoutModel",
      "state": {}
     },
     "b0d99c1dec8a48eeb3f96add18e9fdf1": {
      "model_module": "@jupyter-widgets/controls",
      "model_module_version": "2.0.0",
      "model_name": "GridBoxModel",
      "state": {
       "layout": "IPY_MODEL_0d7bbeb6ac814338935769e7462a971f"
      }
     },
     "b0f6aa599bab4e6e8efd23f1c9018cb3": {
      "model_module": "@jupyter-widgets/base",
      "model_module_version": "2.0.0",
      "model_name": "LayoutModel",
      "state": {}
     },
     "b106ccd5a8014b269e920052a5a0f752": {
      "model_module": "@jupyter-widgets/controls",
      "model_module_version": "2.0.0",
      "model_name": "HTMLStyleModel",
      "state": {
       "description_width": "",
       "font_size": null,
       "text_color": null
      }
     },
     "b10957128f6c4d67b2efe6d7449685b0": {
      "model_module": "@jupyter-widgets/base",
      "model_module_version": "2.0.0",
      "model_name": "LayoutModel",
      "state": {}
     },
     "b1283015a11d4b5285609a36e53a9d80": {
      "model_module": "@jupyter-widgets/base",
      "model_module_version": "2.0.0",
      "model_name": "LayoutModel",
      "state": {}
     },
     "b14af7b3f9e24dc8b7d79bea1aedf601": {
      "model_module": "@jupyter-widgets/controls",
      "model_module_version": "2.0.0",
      "model_name": "CheckboxModel",
      "state": {
       "description": "cardio",
       "disabled": false,
       "indent": false,
       "layout": "IPY_MODEL_e7a7dc43a7e14433acadf0b95a9abf79",
       "style": "IPY_MODEL_a67d39ead8874c1b88b090164b2970d8",
       "value": true
      }
     },
     "b15d92b80f7443a68d2fab0362ecc86f": {
      "model_module": "@jupyter-widgets/controls",
      "model_module_version": "2.0.0",
      "model_name": "ButtonModel",
      "state": {
       "description": "Close",
       "layout": "IPY_MODEL_5abd6990e65545a3b4cbe810dbb19d44",
       "style": "IPY_MODEL_868be1eaed094c66b65b760e5a8d3170",
       "tooltip": null
      }
     },
     "b19eb249e5c3424d86b864e923c93910": {
      "model_module": "@jupyter-widgets/controls",
      "model_module_version": "2.0.0",
      "model_name": "HTMLModel",
      "state": {
       "layout": "IPY_MODEL_9162bd6592a144548545d5ac2e4135aa",
       "style": "IPY_MODEL_533291732b374056a73276ba88e29acc",
       "value": "<h3>Upper Body</h3>"
      }
     },
     "b1aae50586534a9894e373f070b3d43e": {
      "model_module": "@jupyter-widgets/controls",
      "model_module_version": "2.0.0",
      "model_name": "HBoxModel",
      "state": {
       "children": [
        "IPY_MODEL_bfae21e452d149918a9881e596f0e64f"
       ],
       "layout": "IPY_MODEL_990059a619ea4d888800c496908d0d2e"
      }
     },
     "b1d72d0347144aaebaa6004939950320": {
      "model_module": "@jupyter-widgets/controls",
      "model_module_version": "2.0.0",
      "model_name": "VBoxModel",
      "state": {
       "children": [
        "IPY_MODEL_60c59d06114f40d2ba736b782c53ccd4",
        "IPY_MODEL_e46db6b604bb4362a23ec78c1eb6640f"
       ],
       "layout": "IPY_MODEL_d2dcd2d8e1ec40ed8354681fcd1e4a69"
      }
     },
     "b20990059d444390a9e1d826057a05dc": {
      "model_module": "@jupyter-widgets/base",
      "model_module_version": "2.0.0",
      "model_name": "LayoutModel",
      "state": {}
     },
     "b2319048d5574658a9e90708dbb6d818": {
      "model_module": "@jupyter-widgets/base",
      "model_module_version": "2.0.0",
      "model_name": "LayoutModel",
      "state": {
       "height": "40px",
       "width": "160px"
      }
     },
     "b253cfe7691d489b8cf110d1072c7edf": {
      "model_module": "@jupyter-widgets/controls",
      "model_module_version": "2.0.0",
      "model_name": "ButtonModel",
      "state": {
       "description": "Instruction",
       "icon": "comment",
       "layout": "IPY_MODEL_3b53bf2dcadc45de9009c13d643a3b8f",
       "style": "IPY_MODEL_aca7af6ef0fb4a4388d0131f738432e6",
       "tooltip": "504"
      }
     },
     "b255b6ee4eaa400ca26ce3ace5c31f81": {
      "model_module": "@jupyter-widgets/controls",
      "model_module_version": "2.0.0",
      "model_name": "ButtonStyleModel",
      "state": {
       "font_family": null,
       "font_size": null,
       "font_style": null,
       "font_variant": null,
       "font_weight": null,
       "text_color": null,
       "text_decoration": null
      }
     },
     "b265f9f2b863420db3e5df0fd3d79b20": {
      "model_module": "@jupyter-widgets/controls",
      "model_module_version": "2.0.0",
      "model_name": "HTMLModel",
      "state": {
       "layout": "IPY_MODEL_d606416ce4aa4c1a92e9f499b02b7688",
       "style": "IPY_MODEL_2081c50410dc46b6aa4b780086fb811e",
       "value": "<h1>Results</h1>"
      }
     },
     "b28177b06d5a4ac49091ee061b69a768": {
      "model_module": "@jupyter-widgets/base",
      "model_module_version": "2.0.0",
      "model_name": "LayoutModel",
      "state": {}
     },
     "b2b63956b5064400b540208886788995": {
      "model_module": "@jupyter-widgets/controls",
      "model_module_version": "2.0.0",
      "model_name": "CheckboxStyleModel",
      "state": {
       "description_width": ""
      }
     },
     "b2c2924322354ca0a6e9ee0c936a4664": {
      "model_module": "@jupyter-widgets/base",
      "model_module_version": "2.0.0",
      "model_name": "LayoutModel",
      "state": {
       "height": "55px",
       "width": "120px"
      }
     },
     "b2f6fa633fda40efaf11c13838ebd536": {
      "model_module": "@jupyter-widgets/base",
      "model_module_version": "2.0.0",
      "model_name": "LayoutModel",
      "state": {
       "height": "40px",
       "width": "160px"
      }
     },
     "b355e4ba3bd445e3a7118babd2779614": {
      "model_module": "@jupyter-widgets/base",
      "model_module_version": "2.0.0",
      "model_name": "LayoutModel",
      "state": {
       "height": "40px",
       "width": "160px"
      }
     },
     "b394fa4223fe4bb8905b5512743f1d61": {
      "model_module": "@jupyter-widgets/base",
      "model_module_version": "2.0.0",
      "model_name": "LayoutModel",
      "state": {
       "height": "40px",
       "width": "160px"
      }
     },
     "b3a6231a0c4748009e15485cecff0406": {
      "model_module": "@jupyter-widgets/base",
      "model_module_version": "2.0.0",
      "model_name": "LayoutModel",
      "state": {}
     },
     "b3b693aaaa924701b44d43780550128b": {
      "model_module": "@jupyter-widgets/base",
      "model_module_version": "2.0.0",
      "model_name": "LayoutModel",
      "state": {}
     },
     "b3d346b80da7449a95e75307fe196ec5": {
      "model_module": "@jupyter-widgets/base",
      "model_module_version": "2.0.0",
      "model_name": "LayoutModel",
      "state": {}
     },
     "b3d49ad6d2e74a04b8ec67810729028a": {
      "model_module": "@jupyter-widgets/base",
      "model_module_version": "2.0.0",
      "model_name": "LayoutModel",
      "state": {}
     },
     "b3ea4a1b479c4d4eb0bb656e1598fbaf": {
      "model_module": "@jupyter-widgets/controls",
      "model_module_version": "2.0.0",
      "model_name": "VBoxModel",
      "state": {
       "children": [
        "IPY_MODEL_499320f6b8004c03bfb39947d3f6170d",
        "IPY_MODEL_b4724ff29a284fc6a5ebd91a84d7061b"
       ],
       "layout": "IPY_MODEL_8f54d44d38f54b9f97b76cb592478dfd"
      }
     },
     "b3f38434e974420daa18dfde253db5df": {
      "model_module": "@jupyter-widgets/base",
      "model_module_version": "2.0.0",
      "model_name": "LayoutModel",
      "state": {}
     },
     "b450bbcca3034a09a01d0dd394b8a867": {
      "model_module": "@jupyter-widgets/base",
      "model_module_version": "2.0.0",
      "model_name": "LayoutModel",
      "state": {
       "height": "55px",
       "width": "80px"
      }
     },
     "b46c4230e2c54eaaa2218a317828af9f": {
      "model_module": "@jupyter-widgets/base",
      "model_module_version": "2.0.0",
      "model_name": "LayoutModel",
      "state": {}
     },
     "b4724ff29a284fc6a5ebd91a84d7061b": {
      "model_module": "@jupyter-widgets/controls",
      "model_module_version": "2.0.0",
      "model_name": "ButtonModel",
      "state": {
       "description": "Instruction",
       "icon": "comment",
       "layout": "IPY_MODEL_29794097231d4dfa82bdf742141a7ea2",
       "style": "IPY_MODEL_77603b086ae1404b8549b3b7f12d5527",
       "tooltip": "37"
      }
     },
     "b492a46dfc654a61b483d0c47b88fa9b": {
      "model_module": "@jupyter-widgets/base",
      "model_module_version": "2.0.0",
      "model_name": "LayoutModel",
      "state": {
       "height": "40px",
       "width": "160px"
      }
     },
     "b49bde2670f5420d88bf9fcf734fbf34": {
      "model_module": "@jupyter-widgets/controls",
      "model_module_version": "2.0.0",
      "model_name": "ButtonModel",
      "state": {
       "description": "Instruction",
       "icon": "comment",
       "layout": "IPY_MODEL_960791fc29444a3fa84878f6c5ccc38d",
       "style": "IPY_MODEL_5d3c4e5cd0b040d1a76441627cbf674c",
       "tooltip": "0"
      }
     },
     "b4c9c73239f94e73956d0d8e38485287": {
      "model_module": "@jupyter-widgets/controls",
      "model_module_version": "2.0.0",
      "model_name": "HTMLStyleModel",
      "state": {
       "description_width": "",
       "font_size": null,
       "text_color": null
      }
     },
     "b506c14564f84337935aae521e19bfea": {
      "model_module": "@jupyter-widgets/controls",
      "model_module_version": "2.0.0",
      "model_name": "ButtonStyleModel",
      "state": {
       "font_family": null,
       "font_size": null,
       "font_style": null,
       "font_variant": null,
       "font_weight": null,
       "text_color": null,
       "text_decoration": null
      }
     },
     "b51816880c464c84a08fc1e1f1551e6f": {
      "model_module": "@jupyter-widgets/controls",
      "model_module_version": "2.0.0",
      "model_name": "CheckboxStyleModel",
      "state": {
       "description_width": ""
      }
     },
     "b53f137188c945168dfdefeb2c51c386": {
      "model_module": "@jupyter-widgets/controls",
      "model_module_version": "2.0.0",
      "model_name": "HTMLModel",
      "state": {
       "layout": "IPY_MODEL_1a62f355d2e944c7a2fdf2c821a1ad6d",
       "style": "IPY_MODEL_2576ae72f9014432b7009d3496d535b4",
       "value": "<h2>Equipment List</h2>"
      }
     },
     "b561508dad2d4923aefbaa925c62a93b": {
      "model_module": "@jupyter-widgets/controls",
      "model_module_version": "2.0.0",
      "model_name": "VBoxModel",
      "state": {
       "children": [
        "IPY_MODEL_35971a0b2c2347f0900b3f7fe68c5b78",
        "IPY_MODEL_1250ae7f4abc45c9a829b2a585f4e963",
        "IPY_MODEL_8698df275c2d4d9290815c97b0548037"
       ],
       "layout": "IPY_MODEL_2eec4b1947b74af197cfd60007dae5a4"
      }
     },
     "b5791cdfb6374b6b9d812e8d0c0f56e4": {
      "model_module": "@jupyter-widgets/base",
      "model_module_version": "2.0.0",
      "model_name": "LayoutModel",
      "state": {}
     },
     "b57f30a2b75c42fa992fffe28b07789f": {
      "model_module": "@jupyter-widgets/base",
      "model_module_version": "2.0.0",
      "model_name": "LayoutModel",
      "state": {}
     },
     "b5e806d7e2e449ed8a21746c4773b022": {
      "model_module": "@jupyter-widgets/base",
      "model_module_version": "2.0.0",
      "model_name": "LayoutModel",
      "state": {}
     },
     "b61a432be3484a55a46367eac28e8ad9": {
      "model_module": "@jupyter-widgets/controls",
      "model_module_version": "2.0.0",
      "model_name": "ButtonModel",
      "state": {
       "description": "Instruction",
       "icon": "comment",
       "layout": "IPY_MODEL_f11dbbc621904c8caf789be82c71f57d",
       "style": "IPY_MODEL_31275b05abb24ae8bf0ee71a74bf52b5",
       "tooltip": "249"
      }
     },
     "b62e817fa53445caa761504bf4967075": {
      "model_module": "@jupyter-widgets/controls",
      "model_module_version": "2.0.0",
      "model_name": "BoxModel",
      "state": {
       "children": [
        "IPY_MODEL_f33bd10c35ef4782b3d4a58c65fb5ada",
        "IPY_MODEL_28733d85bc2140eab0f945b8e05878e7"
       ],
       "layout": "IPY_MODEL_567d1ed222854a2eb25d57b2c56bf794"
      }
     },
     "b63750967cbe4e4dbfc6b3ab83193c4d": {
      "model_module": "@jupyter-widgets/controls",
      "model_module_version": "2.0.0",
      "model_name": "ButtonStyleModel",
      "state": {
       "font_family": null,
       "font_size": null,
       "font_style": null,
       "font_variant": null,
       "font_weight": null,
       "text_color": null,
       "text_decoration": null
      }
     },
     "b6612e5ead464a36a5fb9ab0edfbabfe": {
      "model_module": "@jupyter-widgets/base",
      "model_module_version": "2.0.0",
      "model_name": "LayoutModel",
      "state": {}
     },
     "b687de3ced8a4b119877157897ea1f7e": {
      "model_module": "@jupyter-widgets/controls",
      "model_module_version": "2.0.0",
      "model_name": "CheckboxStyleModel",
      "state": {
       "description_width": ""
      }
     },
     "b69c4ce461404e16ab8915c0e63d3739": {
      "model_module": "@jupyter-widgets/controls",
      "model_module_version": "2.0.0",
      "model_name": "VBoxModel",
      "state": {
       "children": [
        "IPY_MODEL_cded18f0481f432c93c2c8354156a468",
        "IPY_MODEL_76923f975bcc436598b371eb1e0451d4"
       ],
       "layout": "IPY_MODEL_87fe69a6acbc4cf7af658a67fcd24e67"
      }
     },
     "b6a3c0fa8abb493daca059c5f2c72b04": {
      "model_module": "@jupyter-widgets/controls",
      "model_module_version": "2.0.0",
      "model_name": "VBoxModel",
      "state": {
       "children": [
        "IPY_MODEL_93652273ab4645c5a896708057173321",
        "IPY_MODEL_fae8a7f7cb414b4f96ca30e1cb68fd82"
       ],
       "layout": "IPY_MODEL_f3c2254544394dcaa0c9858f3cbca0a9"
      }
     },
     "b6e5bd2cc76c434596b2780cff7b83ba": {
      "model_module": "@jupyter-widgets/controls",
      "model_module_version": "2.0.0",
      "model_name": "HTMLModel",
      "state": {
       "layout": "IPY_MODEL_b3d346b80da7449a95e75307fe196ec5",
       "style": "IPY_MODEL_435846ce187d47bd891ed749b51952fd",
       "value": "Chest Push (multiple response)"
      }
     },
     "b6f9750bcc2745b38e71d22e1371a022": {
      "model_module": "@jupyter-widgets/base",
      "model_module_version": "2.0.0",
      "model_name": "LayoutModel",
      "state": {
       "height": "55px",
       "width": "80px"
      }
     },
     "b706a8d1470745f58664a9c432c0a94c": {
      "model_module": "@jupyter-widgets/base",
      "model_module_version": "2.0.0",
      "model_name": "LayoutModel",
      "state": {}
     },
     "b72cf6bc13284f94bd680d629d2821c5": {
      "model_module": "@jupyter-widgets/base",
      "model_module_version": "2.0.0",
      "model_name": "LayoutModel",
      "state": {
       "height": "40px",
       "width": "160px"
      }
     },
     "b730a053d77b4c2883713a179def472d": {
      "model_module": "@jupyter-widgets/base",
      "model_module_version": "2.0.0",
      "model_name": "LayoutModel",
      "state": {}
     },
     "b73c74866a73449d843839b97a190c07": {
      "model_module": "@jupyter-widgets/base",
      "model_module_version": "2.0.0",
      "model_name": "LayoutModel",
      "state": {}
     },
     "b7627c9d25e74728b6b0ada9abeb042d": {
      "model_module": "@jupyter-widgets/base",
      "model_module_version": "2.0.0",
      "model_name": "LayoutModel",
      "state": {}
     },
     "b7ab89ffe28743e69592d7bf9d0486ef": {
      "model_module": "@jupyter-widgets/base",
      "model_module_version": "2.0.0",
      "model_name": "LayoutModel",
      "state": {
       "height": "40px",
       "width": "160px"
      }
     },
     "b7ac627799cf4c19b40b427877ec9d13": {
      "model_module": "@jupyter-widgets/controls",
      "model_module_version": "2.0.0",
      "model_name": "CheckboxStyleModel",
      "state": {
       "description_width": ""
      }
     },
     "b7b5bad47d334ad388c346ff2fdcaa13": {
      "model_module": "@jupyter-widgets/controls",
      "model_module_version": "2.0.0",
      "model_name": "BoxModel",
      "state": {
       "children": [
        "IPY_MODEL_ce9528be4a5c47c094513971e5d434f0",
        "IPY_MODEL_44895666ba1c4e04b6565b99723a5902"
       ],
       "layout": "IPY_MODEL_d551f4cc2fae493c87be4957d3f9c0db"
      }
     },
     "b7e44a77a6e2443786a5fc75227baad5": {
      "model_module": "@jupyter-widgets/base",
      "model_module_version": "2.0.0",
      "model_name": "LayoutModel",
      "state": {}
     },
     "b7e6a3e88b864fe29dd96da43a906e3e": {
      "model_module": "@jupyter-widgets/controls",
      "model_module_version": "2.0.0",
      "model_name": "CheckboxModel",
      "state": {
       "description": "bands",
       "disabled": false,
       "indent": false,
       "layout": "IPY_MODEL_1bc696a007c64e239169f15877860fe3",
       "style": "IPY_MODEL_1af04194cc2b4f49b2f8d3c8c2fc9826",
       "value": false
      }
     },
     "b83453f189eb4312a1e341e66114c263": {
      "model_module": "@jupyter-widgets/controls",
      "model_module_version": "2.0.0",
      "model_name": "VBoxModel",
      "state": {
       "children": [
        "IPY_MODEL_da3ac4bb6d6c494ea068c551e59cfdb6",
        "IPY_MODEL_975130e46c3549158246f6055700b79f"
       ],
       "layout": "IPY_MODEL_028637d65f7a4a069ea6e09a2a40ee1b"
      }
     },
     "b84b12d5f64745f2a6af87d1b3cd3c1d": {
      "model_module": "@jupyter-widgets/base",
      "model_module_version": "2.0.0",
      "model_name": "LayoutModel",
      "state": {}
     },
     "b87bacc84b144f94b7f49ea43752a373": {
      "model_module": "@jupyter-widgets/controls",
      "model_module_version": "2.0.0",
      "model_name": "ButtonStyleModel",
      "state": {
       "font_family": null,
       "font_size": null,
       "font_style": null,
       "font_variant": null,
       "font_weight": null,
       "text_color": null,
       "text_decoration": null
      }
     },
     "b8b533cb71134f02b6560ac945fc9d90": {
      "model_module": "@jupyter-widgets/controls",
      "model_module_version": "2.0.0",
      "model_name": "CheckboxStyleModel",
      "state": {
       "description_width": ""
      }
     },
     "b8d6c5a3183648668bb888ee0ef076b5": {
      "model_module": "@jupyter-widgets/controls",
      "model_module_version": "2.0.0",
      "model_name": "VBoxModel",
      "state": {
       "children": [
        "IPY_MODEL_964969a9d257451eac4d3cc0c86d55c2",
        "IPY_MODEL_4842b35dd85446d2b758fdded6a7b48a"
       ],
       "layout": "IPY_MODEL_7a6d641809b0471d925d772a073bba8e"
      }
     },
     "b8f03195f3444f7aaa9e57f409ebacad": {
      "model_module": "@jupyter-widgets/controls",
      "model_module_version": "2.0.0",
      "model_name": "CheckboxStyleModel",
      "state": {
       "description_width": ""
      }
     },
     "b90bdef2970c46aaba921e8a0f7fabd6": {
      "model_module": "@jupyter-widgets/base",
      "model_module_version": "2.0.0",
      "model_name": "LayoutModel",
      "state": {
       "height": "40px",
       "width": "160px"
      }
     },
     "b9139663d7884dd28fbe59885287640d": {
      "model_module": "@jupyter-widgets/controls",
      "model_module_version": "2.0.0",
      "model_name": "HBoxModel",
      "state": {
       "children": [
        "IPY_MODEL_a1702794e6de49f199e290cbc68998b6",
        "IPY_MODEL_63a71f422f424ea1aabf736971eab007",
        "IPY_MODEL_691018769c2d4b2e8ad5dcf61e59636e",
        "IPY_MODEL_8772db6435bb430c9143c3de0d1ac69b"
       ],
       "layout": "IPY_MODEL_4dbbad7d2e274fe48d4453883c302461"
      }
     },
     "b91f88cacd1a485e8a5af780869493ad": {
      "model_module": "@jupyter-widgets/controls",
      "model_module_version": "2.0.0",
      "model_name": "HTMLStyleModel",
      "state": {
       "description_width": "",
       "font_size": null,
       "text_color": null
      }
     },
     "b9225fe2cec546bfa82f46fc2dba6a69": {
      "model_module": "@jupyter-widgets/controls",
      "model_module_version": "2.0.0",
      "model_name": "VBoxModel",
      "state": {
       "children": [
        "IPY_MODEL_8c5e528df88849bbab903165a36fc023",
        "IPY_MODEL_b253cfe7691d489b8cf110d1072c7edf"
       ],
       "layout": "IPY_MODEL_aeb786ae45c24ce99b11beb255d35476"
      }
     },
     "b957725d4a3c4ac2996095cd7b151de3": {
      "model_module": "@jupyter-widgets/controls",
      "model_module_version": "2.0.0",
      "model_name": "HBoxModel",
      "state": {
       "children": [
        "IPY_MODEL_c5a60a96baa84b99964fda316eec24fa"
       ],
       "layout": "IPY_MODEL_2c5224481319470380fbe1c620f3a699"
      }
     },
     "b977eda1f3334ff1bc27f764fa4c578b": {
      "model_module": "@jupyter-widgets/controls",
      "model_module_version": "2.0.0",
      "model_name": "ButtonStyleModel",
      "state": {
       "font_family": null,
       "font_size": null,
       "font_style": null,
       "font_variant": null,
       "font_weight": null,
       "text_color": null,
       "text_decoration": null
      }
     },
     "b9894ec1dcc343f09832549878e0adf0": {
      "model_module": "@jupyter-widgets/controls",
      "model_module_version": "2.0.0",
      "model_name": "VBoxModel",
      "state": {
       "children": [
        "IPY_MODEL_45c8755788434421babf9b3753a237a1",
        "IPY_MODEL_73f4483b953241e08afe93d66b6eaafe"
       ],
       "layout": "IPY_MODEL_343c2b2737ba490c8894336b050177d6"
      }
     },
     "b9944135d2544d33901251d389a3c228": {
      "model_module": "@jupyter-widgets/base",
      "model_module_version": "2.0.0",
      "model_name": "LayoutModel",
      "state": {
       "height": "40px",
       "width": "160px"
      }
     },
     "b9a2aa392e9142c48032955a0e9996e4": {
      "model_module": "@jupyter-widgets/controls",
      "model_module_version": "2.0.0",
      "model_name": "ButtonModel",
      "state": {
       "description": "Instruction",
       "icon": "comment",
       "layout": "IPY_MODEL_ffcc0360d7ff4204a95d7349f1f8ef68",
       "style": "IPY_MODEL_2249d0ff7f304f74aadec5b584f12d1d",
       "tooltip": "1"
      }
     },
     "b9a3b58d3fca491b97da87f0d207b601": {
      "model_module": "@jupyter-widgets/controls",
      "model_module_version": "2.0.0",
      "model_name": "CheckboxModel",
      "state": {
       "description": "Core",
       "disabled": false,
       "indent": false,
       "layout": "IPY_MODEL_356ee50ca8be43899560836f22632e92",
       "style": "IPY_MODEL_90cbe75d896a49e09bd1be143b10f30c",
       "value": true
      }
     },
     "b9f19f61aebb4d2a9a030e5a80f25422": {
      "model_module": "@jupyter-widgets/base",
      "model_module_version": "2.0.0",
      "model_name": "LayoutModel",
      "state": {}
     },
     "b9f2db51b56f40c19886079ba90435cb": {
      "model_module": "@jupyter-widgets/controls",
      "model_module_version": "2.0.0",
      "model_name": "CheckboxModel",
      "state": {
       "description": "lowerBody",
       "disabled": false,
       "indent": false,
       "layout": "IPY_MODEL_be5afeb58e42451c8cf93cd901c8ed6c",
       "style": "IPY_MODEL_46ffedea581c415da8cb1275385b5169",
       "value": true
      }
     },
     "ba5edbabb0d54816a7c28a4091b11c1e": {
      "model_module": "@jupyter-widgets/controls",
      "model_module_version": "2.0.0",
      "model_name": "ButtonStyleModel",
      "state": {
       "font_family": null,
       "font_size": null,
       "font_style": null,
       "font_variant": null,
       "font_weight": null,
       "text_color": null,
       "text_decoration": null
      }
     },
     "ba685509666142139dbfe9e6714f4db4": {
      "model_module": "@jupyter-widgets/controls",
      "model_module_version": "2.0.0",
      "model_name": "CheckboxStyleModel",
      "state": {
       "description_width": ""
      }
     },
     "ba7412959aad4a0ea79be78261025946": {
      "model_module": "@jupyter-widgets/base",
      "model_module_version": "2.0.0",
      "model_name": "LayoutModel",
      "state": {}
     },
     "ba982eb631814056b8fdf336441a89c4": {
      "model_module": "@jupyter-widgets/base",
      "model_module_version": "2.0.0",
      "model_name": "LayoutModel",
      "state": {}
     },
     "bad57ca8d01e4ce58bb5523558b46847": {
      "model_module": "@jupyter-widgets/controls",
      "model_module_version": "2.0.0",
      "model_name": "VBoxModel",
      "state": {
       "children": [
        "IPY_MODEL_e930a84efbea434b9fc7e2a62bf2aa4a",
        "IPY_MODEL_29313b37f51e43058ef73b9ce1df371e"
       ],
       "layout": "IPY_MODEL_6f48e05970274ae3930ea023e084deb4"
      }
     },
     "baf09fa689844f65a4922992341caf6c": {
      "model_module": "@jupyter-widgets/controls",
      "model_module_version": "2.0.0",
      "model_name": "ButtonStyleModel",
      "state": {
       "font_family": null,
       "font_size": null,
       "font_style": null,
       "font_variant": null,
       "font_weight": null,
       "text_color": null,
       "text_decoration": null
      }
     },
     "bb1861936834461588d16f2e99229bc9": {
      "model_module": "@jupyter-widgets/base",
      "model_module_version": "2.0.0",
      "model_name": "LayoutModel",
      "state": {
       "height": "120px",
       "width": "100px"
      }
     },
     "bb522c1a8eed45199c25a8d3312b6c9a": {
      "model_module": "@jupyter-widgets/controls",
      "model_module_version": "2.0.0",
      "model_name": "HTMLModel",
      "state": {
       "layout": "IPY_MODEL_b09c7200482e437196b46f5d7850d509",
       "style": "IPY_MODEL_e50ffe8eeb8a48f8af46cfdf3d7f1b75",
       "value": "<h3>Core</h3>"
      }
     },
     "bb7655d5d0ea4a17b79de7b51521cc96": {
      "model_module": "@jupyter-widgets/controls",
      "model_module_version": "2.0.0",
      "model_name": "HTMLModel",
      "state": {
       "layout": "IPY_MODEL_0ca6342e74dd40d6b7e78932ecf35e6c",
       "style": "IPY_MODEL_ae4f35b99a3d46f49a69b7e966f906a4",
       "value": "<h1>Random Excercise Generator</h1>"
      }
     },
     "bb7db8d7a0344473ab766647098e5f8b": {
      "model_module": "@jupyter-widgets/controls",
      "model_module_version": "2.0.0",
      "model_name": "ButtonStyleModel",
      "state": {
       "font_family": null,
       "font_size": null,
       "font_style": null,
       "font_variant": null,
       "font_weight": null,
       "text_color": null,
       "text_decoration": null
      }
     },
     "bb8c8593c9624697afa81219b87201b1": {
      "model_module": "@jupyter-widgets/controls",
      "model_module_version": "2.0.0",
      "model_name": "ButtonStyleModel",
      "state": {
       "font_family": null,
       "font_size": null,
       "font_style": null,
       "font_variant": null,
       "font_weight": null,
       "text_color": null,
       "text_decoration": null
      }
     },
     "bbc7f84f216d4222a81e9343ef5378b7": {
      "model_module": "@jupyter-widgets/controls",
      "model_module_version": "2.0.0",
      "model_name": "VBoxModel",
      "state": {
       "children": [
        "IPY_MODEL_e930a84efbea434b9fc7e2a62bf2aa4a",
        "IPY_MODEL_29313b37f51e43058ef73b9ce1df371e"
       ],
       "layout": "IPY_MODEL_b28177b06d5a4ac49091ee061b69a768"
      }
     },
     "bbd1f669a70e44e5971b8052869fef06": {
      "model_module": "@jupyter-widgets/base",
      "model_module_version": "2.0.0",
      "model_name": "LayoutModel",
      "state": {}
     },
     "bbe396260959483abdc369f72ae365d3": {
      "model_module": "@jupyter-widgets/controls",
      "model_module_version": "2.0.0",
      "model_name": "VBoxModel",
      "state": {
       "children": [
        "IPY_MODEL_3c9be6567a1c47e9924658d8d77feec3",
        "IPY_MODEL_9ebefe4091b84bab94cfaef5a5169652",
        "IPY_MODEL_4aef0329983448f6b470c072edb647f3",
        "IPY_MODEL_dca970d0ab234901a56d29abe9d931aa"
       ],
       "layout": "IPY_MODEL_9ccb380839d54442adeac6048dc883f2"
      }
     },
     "bc3fc2ddf01f446d80023ae54b069af9": {
      "model_module": "@jupyter-widgets/base",
      "model_module_version": "2.0.0",
      "model_name": "LayoutModel",
      "state": {}
     },
     "bc40107bfcc54b149312bbf69abff7bb": {
      "model_module": "@jupyter-widgets/controls",
      "model_module_version": "2.0.0",
      "model_name": "BoxModel",
      "state": {
       "children": [
        "IPY_MODEL_db91c690cba6485d9d353dea455357c3",
        "IPY_MODEL_217de5ba0c154db0b1ecc9f9ab7cba5f"
       ],
       "layout": "IPY_MODEL_289a369bd4dd4925b62e5039c889d5d9"
      }
     },
     "bc784dd79b954d568f47e91fe3dcd0d5": {
      "model_module": "@jupyter-widgets/base",
      "model_module_version": "2.0.0",
      "model_name": "LayoutModel",
      "state": {}
     },
     "bc91c600d43b4df4918089c26770fede": {
      "model_module": "@jupyter-widgets/controls",
      "model_module_version": "2.0.0",
      "model_name": "HBoxModel",
      "state": {
       "children": [
        "IPY_MODEL_7b6e4e71001140128c8830fb3be3872d"
       ],
       "layout": "IPY_MODEL_f9e7f9d1d98c4695a8beb6a16c3caae7"
      }
     },
     "bd2c3d91bdda42419f85838fe1d2adc4": {
      "model_module": "@jupyter-widgets/controls",
      "model_module_version": "2.0.0",
      "model_name": "HBoxModel",
      "state": {
       "children": [
        "IPY_MODEL_b265f9f2b863420db3e5df0fd3d79b20"
       ],
       "layout": "IPY_MODEL_33b6c5b0d3e947638c0b8115206e680d"
      }
     },
     "bd38888923414b3ea9b0419d79b5a443": {
      "model_module": "@jupyter-widgets/base",
      "model_module_version": "2.0.0",
      "model_name": "LayoutModel",
      "state": {
       "height": "200px"
      }
     },
     "bd64be75df284295bb59c2e03656e169": {
      "model_module": "@jupyter-widgets/controls",
      "model_module_version": "2.0.0",
      "model_name": "HTMLStyleModel",
      "state": {
       "description_width": "",
       "font_size": null,
       "text_color": null
      }
     },
     "bd8df5785dbd434cb9063848c62aa95c": {
      "model_module": "@jupyter-widgets/base",
      "model_module_version": "2.0.0",
      "model_name": "LayoutModel",
      "state": {}
     },
     "bdaebd5355da42fa8256a39dc232864f": {
      "model_module": "@jupyter-widgets/controls",
      "model_module_version": "2.0.0",
      "model_name": "CheckboxModel",
      "state": {
       "description": "dumbbell",
       "disabled": false,
       "indent": false,
       "layout": "IPY_MODEL_7e41b36869314e0b9c7aef78fec92f7d",
       "style": "IPY_MODEL_27c42e24e3c94cd39e474ee1531371c4",
       "value": false
      }
     },
     "bdd35eb0a76745afaae200ff90ac669a": {
      "model_module": "@jupyter-widgets/controls",
      "model_module_version": "2.0.0",
      "model_name": "ButtonStyleModel",
      "state": {
       "font_family": null,
       "font_size": null,
       "font_style": null,
       "font_variant": null,
       "font_weight": null,
       "text_color": null,
       "text_decoration": null
      }
     },
     "be050873787c4389b24f477a6dc4f9a9": {
      "model_module": "@jupyter-widgets/controls",
      "model_module_version": "2.0.0",
      "model_name": "CheckboxStyleModel",
      "state": {
       "description_width": ""
      }
     },
     "be418d85c6164ba0af315edf894c62bd": {
      "model_module": "@jupyter-widgets/base",
      "model_module_version": "2.0.0",
      "model_name": "LayoutModel",
      "state": {}
     },
     "be54bebdd67e43b1a3221c66e9bfe0e6": {
      "model_module": "@jupyter-widgets/controls",
      "model_module_version": "2.0.0",
      "model_name": "VBoxModel",
      "state": {
       "children": [
        "IPY_MODEL_52669b5e349a4cd0a87dfae1229ab270",
        "IPY_MODEL_8871309800a6406490ab99c2aac15051"
       ],
       "layout": "IPY_MODEL_a62c8a7ee8f54018a69f2b6781ac1445"
      }
     },
     "be5afeb58e42451c8cf93cd901c8ed6c": {
      "model_module": "@jupyter-widgets/base",
      "model_module_version": "2.0.0",
      "model_name": "LayoutModel",
      "state": {
       "height": "40px",
       "width": "160px"
      }
     },
     "be86bfa4639a456fb8b88ed685b8dd86": {
      "model_module": "@jupyter-widgets/controls",
      "model_module_version": "2.0.0",
      "model_name": "CheckboxModel",
      "state": {
       "description": "bands",
       "disabled": false,
       "indent": false,
       "layout": "IPY_MODEL_b7ab89ffe28743e69592d7bf9d0486ef",
       "style": "IPY_MODEL_9fa07779ebe64544910cce872d51d2d3",
       "value": true
      }
     },
     "bf09a96ca1d944988b3a2adf2a84c090": {
      "model_module": "@jupyter-widgets/controls",
      "model_module_version": "2.0.0",
      "model_name": "VBoxModel",
      "state": {
       "children": [
        "IPY_MODEL_625f085dc0344a209bcb36e62602008f",
        "IPY_MODEL_075addae6c0645b88a608d3a8ebc7290"
       ],
       "layout": "IPY_MODEL_5476e150934e4c24b289b55a0b645f6a"
      }
     },
     "bf212262d87246668115a98452f284ac": {
      "model_module": "@jupyter-widgets/controls",
      "model_module_version": "2.0.0",
      "model_name": "BoxModel",
      "state": {
       "children": [
        "IPY_MODEL_198175319e294403b32c49866920c2e1",
        "IPY_MODEL_86e5c3c4a5d24b5f9781c2853a9be704"
       ],
       "layout": "IPY_MODEL_dc4b319e1c7b48fa8245747771f5971b"
      }
     },
     "bf3dbd0bbe164a018a10b53b969fe785": {
      "model_module": "@jupyter-widgets/controls",
      "model_module_version": "2.0.0",
      "model_name": "ButtonModel",
      "state": {
       "description": "Clear",
       "layout": "IPY_MODEL_51e365e1a2da475382e215a1d65d036f",
       "style": "IPY_MODEL_f9066c6daa944de499a7af930073364f",
       "tooltip": null
      }
     },
     "bf73c7cb9fbf46068ea252231a12137a": {
      "model_module": "@jupyter-widgets/controls",
      "model_module_version": "2.0.0",
      "model_name": "VBoxModel",
      "state": {
       "children": [
        "IPY_MODEL_60a8f75d2ee942a0be8bc6d1664cd511",
        "IPY_MODEL_efb6f0ff20a44ad09d26ed747cf327e2"
       ],
       "layout": "IPY_MODEL_5bf6470b1097467bad4b4e15110f64eb"
      }
     },
     "bf79f4edc35c44c1ba0a404e2ef1ac8f": {
      "model_module": "@jupyter-widgets/base",
      "model_module_version": "2.0.0",
      "model_name": "LayoutModel",
      "state": {}
     },
     "bfac769f617944c4aa055419f8375770": {
      "model_module": "@jupyter-widgets/output",
      "model_module_version": "1.0.0",
      "model_name": "OutputModel",
      "state": {
       "layout": "IPY_MODEL_b7627c9d25e74728b6b0ada9abeb042d"
      }
     },
     "bfae21e452d149918a9881e596f0e64f": {
      "model_module": "@jupyter-widgets/controls",
      "model_module_version": "2.0.0",
      "model_name": "HTMLModel",
      "state": {
       "layout": "IPY_MODEL_b1283015a11d4b5285609a36e53a9d80",
       "style": "IPY_MODEL_3660f5e6b65e442d8b603b3b60f9c66a",
       "value": "<h3>Lower_Body</h3>"
      }
     },
     "bfb3b392960749c1a09fdb0636345986": {
      "model_module": "@jupyter-widgets/controls",
      "model_module_version": "2.0.0",
      "model_name": "ButtonModel",
      "state": {
       "description": "Instruction",
       "icon": "comment",
       "layout": "IPY_MODEL_f0c0642aea644c2ea75aaa9d797c3b02",
       "style": "IPY_MODEL_60483799d3764c59a7248891b876addc",
       "tooltip": "1"
      }
     },
     "bfb522013c4d4e21bb74e0db141e4aa4": {
      "model_module": "@jupyter-widgets/controls",
      "model_module_version": "2.0.0",
      "model_name": "VBoxModel",
      "state": {
       "children": [
        "IPY_MODEL_3482b5c03f0f4879929d58b4b655dd5c",
        "IPY_MODEL_abcd54d8538742c3b7816c5a00e1d672"
       ],
       "layout": "IPY_MODEL_e9a57f1cbaea47008f03d89adbfff741"
      }
     },
     "bfb6f19aeead405a81c09a0bc2f6196c": {
      "model_module": "@jupyter-widgets/controls",
      "model_module_version": "2.0.0",
      "model_name": "BoxModel",
      "state": {
       "children": [
        "IPY_MODEL_db91c690cba6485d9d353dea455357c3",
        "IPY_MODEL_217de5ba0c154db0b1ecc9f9ab7cba5f"
       ],
       "layout": "IPY_MODEL_208e77a8f42a49b7987e18f126411e57"
      }
     },
     "bfea842ea77d49bbb4d5e5ecd6eaeef8": {
      "model_module": "@jupyter-widgets/base",
      "model_module_version": "2.0.0",
      "model_name": "LayoutModel",
      "state": {
       "height": "55px",
       "width": "80px"
      }
     },
     "bfee3c75657c4a1fa80323cff667d5ef": {
      "model_module": "@jupyter-widgets/base",
      "model_module_version": "2.0.0",
      "model_name": "LayoutModel",
      "state": {}
     },
     "c017c78bf63342888625a454b1d1c92b": {
      "model_module": "@jupyter-widgets/base",
      "model_module_version": "2.0.0",
      "model_name": "LayoutModel",
      "state": {}
     },
     "c0311c99dbfc4a47800b2e0acf9cedc1": {
      "model_module": "@jupyter-widgets/base",
      "model_module_version": "2.0.0",
      "model_name": "LayoutModel",
      "state": {
       "align_items": "stretch",
       "display": "flex",
       "flex_flow": "row",
       "justify_content": "space-around",
       "width": "70%"
      }
     },
     "c054b7f2aa5b47d092d1019156266192": {
      "model_module": "@jupyter-widgets/controls",
      "model_module_version": "2.0.0",
      "model_name": "ButtonStyleModel",
      "state": {
       "font_family": null,
       "font_size": null,
       "font_style": null,
       "font_variant": null,
       "font_weight": null,
       "text_color": null,
       "text_decoration": null
      }
     },
     "c080b6f314994c33a20a05dc5ed90f50": {
      "model_module": "@jupyter-widgets/controls",
      "model_module_version": "2.0.0",
      "model_name": "VBoxModel",
      "state": {
       "children": [
        "IPY_MODEL_9754851e71f14c448de7d1ea641324af",
        "IPY_MODEL_c7cbb1f71bea4b8b8708860b705cc7e7"
       ],
       "layout": "IPY_MODEL_bfee3c75657c4a1fa80323cff667d5ef"
      }
     },
     "c0944342f8ed4c07ae2736530b64a346": {
      "model_module": "@jupyter-widgets/base",
      "model_module_version": "2.0.0",
      "model_name": "LayoutModel",
      "state": {
       "height": "55px",
       "width": "120px"
      }
     },
     "c0a523b508c2447cac2b2188ce72e8fa": {
      "model_module": "@jupyter-widgets/controls",
      "model_module_version": "2.0.0",
      "model_name": "CheckboxStyleModel",
      "state": {
       "description_width": ""
      }
     },
     "c0b8a392e45a4c01b66f8c58cff1a92a": {
      "model_module": "@jupyter-widgets/controls",
      "model_module_version": "2.0.0",
      "model_name": "CheckboxStyleModel",
      "state": {
       "description_width": ""
      }
     },
     "c0fff1eabbc541ff85fca75354287f6c": {
      "model_module": "@jupyter-widgets/base",
      "model_module_version": "2.0.0",
      "model_name": "LayoutModel",
      "state": {
       "height": "40px",
       "width": "160px"
      }
     },
     "c108ecf06d424f108339ee165b86594f": {
      "model_module": "@jupyter-widgets/base",
      "model_module_version": "2.0.0",
      "model_name": "LayoutModel",
      "state": {
       "height": "120px",
       "width": "100px"
      }
     },
     "c10ffcec263b4299b1429e54e839ba7b": {
      "model_module": "@jupyter-widgets/controls",
      "model_module_version": "2.0.0",
      "model_name": "ButtonModel",
      "state": {
       "description": "Equipment",
       "layout": "IPY_MODEL_0bc83a210f244f58aaa3265c60f2192f",
       "style": "IPY_MODEL_213d4e7a8b474abfbd699ef5e5b0b291",
       "tooltip": null
      }
     },
     "c119066165f84acdb65a3a83a2ca5bbd": {
      "model_module": "@jupyter-widgets/base",
      "model_module_version": "2.0.0",
      "model_name": "LayoutModel",
      "state": {}
     },
     "c123dc3e72fc43e49a38f3451765ed61": {
      "model_module": "@jupyter-widgets/controls",
      "model_module_version": "2.0.0",
      "model_name": "HTMLModel",
      "state": {
       "layout": "IPY_MODEL_2208524a13d24221beeaa9a9a53e37c5",
       "style": "IPY_MODEL_4d7d5e5657e1476886aee55d461258a4",
       "value": "Hip Flexion with Band"
      }
     },
     "c13e4fb32f4e4f10bdd49cf1cbcb4749": {
      "model_module": "@jupyter-widgets/controls",
      "model_module_version": "2.0.0",
      "model_name": "CheckboxStyleModel",
      "state": {
       "description_width": ""
      }
     },
     "c14931b1585c4d20a2825fc2d208f5bd": {
      "model_module": "@jupyter-widgets/controls",
      "model_module_version": "2.0.0",
      "model_name": "HTMLModel",
      "state": {
       "layout": "IPY_MODEL_9a2a43bf8bba434988c669e9c1028fad",
       "style": "IPY_MODEL_cc12c5c5f25d4b288e64056870b17ee1",
       "value": "<h1>Results</h1>"
      }
     },
     "c15f753c3eb7427dbf08cbbd702e96f6": {
      "model_module": "@jupyter-widgets/base",
      "model_module_version": "2.0.0",
      "model_name": "LayoutModel",
      "state": {
       "align_items": "stretch",
       "display": "flex",
       "flex_flow": "row",
       "justify_content": "space-around",
       "width": "70%"
      }
     },
     "c18a356dee4c4b6999a546b39d730330": {
      "model_module": "@jupyter-widgets/controls",
      "model_module_version": "2.0.0",
      "model_name": "ButtonStyleModel",
      "state": {
       "font_family": null,
       "font_size": null,
       "font_style": null,
       "font_variant": null,
       "font_weight": null,
       "text_color": null,
       "text_decoration": null
      }
     },
     "c18a679f44dc4011ba4100b2c43ad017": {
      "model_module": "@jupyter-widgets/base",
      "model_module_version": "2.0.0",
      "model_name": "LayoutModel",
      "state": {
       "height": "55px",
       "width": "120px"
      }
     },
     "c1d6c0aee184403e887b938930edccb0": {
      "model_module": "@jupyter-widgets/base",
      "model_module_version": "2.0.0",
      "model_name": "LayoutModel",
      "state": {
       "height": "55px",
       "width": "80px"
      }
     },
     "c2130fb38c2145629a459b8d3e6a1149": {
      "model_module": "@jupyter-widgets/controls",
      "model_module_version": "2.0.0",
      "model_name": "VBoxModel",
      "state": {
       "children": [
        "IPY_MODEL_864294e422a84f3bb34d370fa423f59e",
        "IPY_MODEL_c7e03016558e41a78e395efd986d5e32"
       ],
       "layout": "IPY_MODEL_73b4a5e9405d499694102aac9d5102fa"
      }
     },
     "c23db4d931104f4fb6d1b5d1cd176eb4": {
      "model_module": "@jupyter-widgets/controls",
      "model_module_version": "2.0.0",
      "model_name": "CheckboxStyleModel",
      "state": {
       "description_width": ""
      }
     },
     "c29c6919d57746baa79750b6f65ae62f": {
      "model_module": "@jupyter-widgets/controls",
      "model_module_version": "2.0.0",
      "model_name": "HBoxModel",
      "state": {
       "children": [
        "IPY_MODEL_352db89efbc24601954007843cd88ea1"
       ],
       "layout": "IPY_MODEL_726ee5e6123d4a35b6f5531253a9a958"
      }
     },
     "c3400fb765534df38252cc27cbf605ef": {
      "model_module": "@jupyter-widgets/controls",
      "model_module_version": "2.0.0",
      "model_name": "CheckboxStyleModel",
      "state": {
       "description_width": ""
      }
     },
     "c351212a303848bea6ac231e063f8c97": {
      "model_module": "@jupyter-widgets/controls",
      "model_module_version": "2.0.0",
      "model_name": "CheckboxStyleModel",
      "state": {
       "description_width": ""
      }
     },
     "c3c005e9b23a416e8e995fbf3f208f52": {
      "model_module": "@jupyter-widgets/base",
      "model_module_version": "2.0.0",
      "model_name": "LayoutModel",
      "state": {
       "height": "120px",
       "width": "100px"
      }
     },
     "c3cd8f3e6be54d03b392b8e61fffc030": {
      "model_module": "@jupyter-widgets/base",
      "model_module_version": "2.0.0",
      "model_name": "LayoutModel",
      "state": {}
     },
     "c3e4d0e87a27482a864c8d66f2b468ea": {
      "model_module": "@jupyter-widgets/controls",
      "model_module_version": "2.0.0",
      "model_name": "CheckboxModel",
      "state": {
       "description": "machine",
       "disabled": false,
       "indent": false,
       "layout": "IPY_MODEL_cf852fe1cd5f45358caac6438f80a98e",
       "style": "IPY_MODEL_170f3bdc30c6429989283ebbc47bb004",
       "value": false
      }
     },
     "c3f320acb58942d0add9b6e882506715": {
      "model_module": "@jupyter-widgets/controls",
      "model_module_version": "2.0.0",
      "model_name": "CheckboxModel",
      "state": {
       "description": "dumbbell",
       "disabled": false,
       "indent": false,
       "layout": "IPY_MODEL_9d83512582154d44a0f11e9a0a89bda9",
       "style": "IPY_MODEL_ee8105903df14bf1b736042defbdf88a",
       "value": false
      }
     },
     "c437181962934f9a9aca2ebb59829424": {
      "model_module": "@jupyter-widgets/controls",
      "model_module_version": "2.0.0",
      "model_name": "DescriptionStyleModel",
      "state": {
       "description_width": ""
      }
     },
     "c43f39ec4255499baef526ea38f280eb": {
      "model_module": "@jupyter-widgets/controls",
      "model_module_version": "2.0.0",
      "model_name": "HTMLStyleModel",
      "state": {
       "description_width": "",
       "font_size": null,
       "text_color": null
      }
     },
     "c45760281cbd454980fd1955d4a17e73": {
      "model_module": "@jupyter-widgets/controls",
      "model_module_version": "2.0.0",
      "model_name": "VBoxModel",
      "state": {
       "children": [
        "IPY_MODEL_38800836a67e421f8f44e30f791e3a46",
        "IPY_MODEL_ff00e76532fe492a9c6010bfe08021e0"
       ],
       "layout": "IPY_MODEL_15a3e78833d54551aefcb6104d46ff29"
      }
     },
     "c47ca8adaa8844cea629067cad92e86c": {
      "model_module": "@jupyter-widgets/controls",
      "model_module_version": "2.0.0",
      "model_name": "CheckboxModel",
      "state": {
       "description": "other",
       "disabled": false,
       "indent": false,
       "layout": "IPY_MODEL_8318e7dff8a64bbfa0e6bb30397a3d19",
       "style": "IPY_MODEL_b7ac627799cf4c19b40b427877ec9d13",
       "value": false
      }
     },
     "c4a6e2c973704017845ffdae877c6378": {
      "model_module": "@jupyter-widgets/base",
      "model_module_version": "2.0.0",
      "model_name": "LayoutModel",
      "state": {
       "height": "120px",
       "width": "100px"
      }
     },
     "c4c5dacbfa5c43a19b892ebf795b0376": {
      "model_module": "@jupyter-widgets/base",
      "model_module_version": "2.0.0",
      "model_name": "LayoutModel",
      "state": {
       "align_items": "stretch",
       "display": "flex",
       "flex_flow": "row",
       "justify_content": "space-around",
       "width": "40%"
      }
     },
     "c4d42ff4c12345298c3e8ae565a7b392": {
      "model_module": "@jupyter-widgets/controls",
      "model_module_version": "2.0.0",
      "model_name": "CheckboxStyleModel",
      "state": {
       "description_width": ""
      }
     },
     "c4eea21e371c4e64b7e0d6c710650fa6": {
      "model_module": "@jupyter-widgets/base",
      "model_module_version": "2.0.0",
      "model_name": "LayoutModel",
      "state": {}
     },
     "c50fa98ea2a24fd282dfeefcf4b34d77": {
      "model_module": "@jupyter-widgets/base",
      "model_module_version": "2.0.0",
      "model_name": "LayoutModel",
      "state": {}
     },
     "c52210f832e34fb280f292213e341a15": {
      "model_module": "@jupyter-widgets/base",
      "model_module_version": "2.0.0",
      "model_name": "LayoutModel",
      "state": {
       "height": "40px",
       "width": "160px"
      }
     },
     "c52b88203d2d44b49295eb7c8594f58a": {
      "model_module": "@jupyter-widgets/controls",
      "model_module_version": "2.0.0",
      "model_name": "CheckboxModel",
      "state": {
       "description": "olympic weightlifting",
       "disabled": false,
       "indent": false,
       "layout": "IPY_MODEL_47b0179bff1648659a41b7ad1e4a98ae",
       "style": "IPY_MODEL_201393840bf343e9ba571149072dc13d",
       "value": true
      }
     },
     "c53bbca771dd4dd6a98019aa1aceb9c1": {
      "model_module": "@jupyter-widgets/base",
      "model_module_version": "2.0.0",
      "model_name": "LayoutModel",
      "state": {}
     },
     "c587568361304ec6b43e52b39b7450fb": {
      "model_module": "@jupyter-widgets/base",
      "model_module_version": "2.0.0",
      "model_name": "LayoutModel",
      "state": {}
     },
     "c596da9d0b5f4c02a0009d148c24e583": {
      "model_module": "@jupyter-widgets/controls",
      "model_module_version": "2.0.0",
      "model_name": "BoxModel",
      "state": {
       "children": [
        "IPY_MODEL_0ee4249209414c4cba3b589fd6730277",
        "IPY_MODEL_b3ea4a1b479c4d4eb0bb656e1598fbaf"
       ],
       "layout": "IPY_MODEL_5951d2627c74480f8ecb33374460884a"
      }
     },
     "c5a60a96baa84b99964fda316eec24fa": {
      "model_module": "@jupyter-widgets/controls",
      "model_module_version": "2.0.0",
      "model_name": "VBoxModel",
      "state": {
       "children": [
        "IPY_MODEL_98525118a7684c0f9cae21b6bc1290d4",
        "IPY_MODEL_c98cd94a5cb54f0fa32b1e1011c625df",
        "IPY_MODEL_b9f2db51b56f40c19886079ba90435cb"
       ],
       "layout": "IPY_MODEL_8a3ef788828a48e884b469911565a741"
      }
     },
     "c5af8505137f427faa60f27178a0699c": {
      "model_module": "@jupyter-widgets/controls",
      "model_module_version": "2.0.0",
      "model_name": "ButtonStyleModel",
      "state": {
       "font_family": null,
       "font_size": null,
       "font_style": null,
       "font_variant": null,
       "font_weight": null,
       "text_color": null,
       "text_decoration": null
      }
     },
     "c5ce890c73c340b090b261acf2a19e86": {
      "model_module": "@jupyter-widgets/base",
      "model_module_version": "2.0.0",
      "model_name": "LayoutModel",
      "state": {}
     },
     "c5fed6fb85b74e428fe4120c8a810a7f": {
      "model_module": "@jupyter-widgets/base",
      "model_module_version": "2.0.0",
      "model_name": "LayoutModel",
      "state": {}
     },
     "c600e1fb7346425ab14fcec7c39eb1ed": {
      "model_module": "@jupyter-widgets/controls",
      "model_module_version": "2.0.0",
      "model_name": "CheckboxStyleModel",
      "state": {
       "description_width": ""
      }
     },
     "c63ef2371e5b4074874f05b5dd00f452": {
      "model_module": "@jupyter-widgets/base",
      "model_module_version": "2.0.0",
      "model_name": "LayoutModel",
      "state": {}
     },
     "c6402ba003434a9e98950b3172fae709": {
      "model_module": "@jupyter-widgets/base",
      "model_module_version": "2.0.0",
      "model_name": "LayoutModel",
      "state": {
       "height": "55px",
       "width": "120px"
      }
     },
     "c66e22b146a24c3f81d97e4919dc48c9": {
      "model_module": "@jupyter-widgets/base",
      "model_module_version": "2.0.0",
      "model_name": "LayoutModel",
      "state": {
       "align_items": "stretch",
       "display": "flex",
       "flex_flow": "row",
       "justify_content": "space-around",
       "width": "70%"
      }
     },
     "c695062b85494c43ac4ecaeb43da004b": {
      "model_module": "@jupyter-widgets/controls",
      "model_module_version": "2.0.0",
      "model_name": "HTMLStyleModel",
      "state": {
       "description_width": "",
       "font_size": null,
       "text_color": null
      }
     },
     "c6a361c112684a7b8ad8d1eb30224d32": {
      "model_module": "@jupyter-widgets/controls",
      "model_module_version": "2.0.0",
      "model_name": "ButtonStyleModel",
      "state": {
       "font_family": null,
       "font_size": null,
       "font_style": null,
       "font_variant": null,
       "font_weight": null,
       "text_color": null,
       "text_decoration": null
      }
     },
     "c6b8e8a03c29440098133e80f6a9b74e": {
      "model_module": "@jupyter-widgets/controls",
      "model_module_version": "2.0.0",
      "model_name": "ButtonStyleModel",
      "state": {
       "font_family": null,
       "font_size": null,
       "font_style": null,
       "font_variant": null,
       "font_weight": null,
       "text_color": null,
       "text_decoration": null
      }
     },
     "c6bd74cc0c2345908667a26f3e883e9c": {
      "model_module": "@jupyter-widgets/base",
      "model_module_version": "2.0.0",
      "model_name": "LayoutModel",
      "state": {
       "align_items": "stretch",
       "display": "flex",
       "flex_flow": "row",
       "justify_content": "space-around",
       "width": "70%"
      }
     },
     "c6e052102fb74f76860dfd9dde368a53": {
      "model_module": "@jupyter-widgets/controls",
      "model_module_version": "2.0.0",
      "model_name": "ButtonStyleModel",
      "state": {
       "font_family": null,
       "font_size": null,
       "font_style": null,
       "font_variant": null,
       "font_weight": null,
       "text_color": null,
       "text_decoration": null
      }
     },
     "c6e2349a9c814bbb925568303994f12d": {
      "model_module": "@jupyter-widgets/base",
      "model_module_version": "2.0.0",
      "model_name": "LayoutModel",
      "state": {}
     },
     "c6ff647de2784162a591d49c7775cc49": {
      "model_module": "@jupyter-widgets/base",
      "model_module_version": "2.0.0",
      "model_name": "LayoutModel",
      "state": {
       "height": "40px",
       "width": "160px"
      }
     },
     "c72c8f30e3f74bb1aed2a3ffb5563103": {
      "model_module": "@jupyter-widgets/controls",
      "model_module_version": "2.0.0",
      "model_name": "ButtonStyleModel",
      "state": {
       "font_family": null,
       "font_size": null,
       "font_style": null,
       "font_variant": null,
       "font_weight": null,
       "text_color": null,
       "text_decoration": null
      }
     },
     "c73d70777ab24be0900749055638aff5": {
      "model_module": "@jupyter-widgets/controls",
      "model_module_version": "2.0.0",
      "model_name": "HBoxModel",
      "state": {
       "children": [
        "IPY_MODEL_2df2dc5623244466989f3d24ed1ef6ce"
       ],
       "layout": "IPY_MODEL_ca2cb0c2587f487789069011d71d1b4d"
      }
     },
     "c76138ee5a68480094f2ccca4b5bd551": {
      "model_module": "@jupyter-widgets/controls",
      "model_module_version": "2.0.0",
      "model_name": "ButtonStyleModel",
      "state": {
       "font_family": null,
       "font_size": null,
       "font_style": null,
       "font_variant": null,
       "font_weight": null,
       "text_color": null,
       "text_decoration": null
      }
     },
     "c77dc082343f4d9cb491a9c49138c9c4": {
      "model_module": "@jupyter-widgets/controls",
      "model_module_version": "2.0.0",
      "model_name": "CheckboxStyleModel",
      "state": {
       "description_width": ""
      }
     },
     "c7c3d3ae38a842b8828d431bda39430d": {
      "model_module": "@jupyter-widgets/controls",
      "model_module_version": "2.0.0",
      "model_name": "HTMLModel",
      "state": {
       "layout": "IPY_MODEL_97bb1ce2090d484d86958d6bac524628",
       "style": "IPY_MODEL_7f64f50320a542eaaa5f71454f65cbb0",
       "value": "<h5>\"Close Tab to Exit\"</h5>"
      }
     },
     "c7cbb1f71bea4b8b8708860b705cc7e7": {
      "model_module": "@jupyter-widgets/controls",
      "model_module_version": "2.0.0",
      "model_name": "HBoxModel",
      "state": {
       "children": [
        "IPY_MODEL_8e77428f492640cea94cf01bf99e9cb8"
       ],
       "layout": "IPY_MODEL_e28026a386a8419daaf8b014194b1add"
      }
     },
     "c7e03016558e41a78e395efd986d5e32": {
      "model_module": "@jupyter-widgets/controls",
      "model_module_version": "2.0.0",
      "model_name": "ButtonModel",
      "state": {
       "description": "Instruction",
       "icon": "comment",
       "layout": "IPY_MODEL_92a9a7169d214fbb90603a7e7322ccd5",
       "style": "IPY_MODEL_ed746d38297149eab8517d39642a8fbe",
       "tooltip": "641"
      }
     },
     "c85c2d524f084e3186e10b64b02a5947": {
      "model_module": "@jupyter-widgets/controls",
      "model_module_version": "2.0.0",
      "model_name": "VBoxModel",
      "state": {
       "children": [
        "IPY_MODEL_8c5e528df88849bbab903165a36fc023",
        "IPY_MODEL_b253cfe7691d489b8cf110d1072c7edf"
       ],
       "layout": "IPY_MODEL_83e338aec18b42f8875a7c0d4c5a05aa"
      }
     },
     "c85f5a8460044e89b9979ea7361b3453": {
      "model_module": "@jupyter-widgets/controls",
      "model_module_version": "2.0.0",
      "model_name": "CheckboxModel",
      "state": {
       "description": "stretching",
       "disabled": false,
       "indent": false,
       "layout": "IPY_MODEL_0a0cb58ef43c4ef4ae0eecfd7e7a923c",
       "style": "IPY_MODEL_a01b1c14c34642bf916c8ec2e5b01c0e",
       "value": true
      }
     },
     "c8781a3e630b4b9aa73c53be8a6552c2": {
      "model_module": "@jupyter-widgets/base",
      "model_module_version": "2.0.0",
      "model_name": "LayoutModel",
      "state": {}
     },
     "c8bc422ad852462aa243dcdce9fa76fb": {
      "model_module": "@jupyter-widgets/controls",
      "model_module_version": "2.0.0",
      "model_name": "HTMLStyleModel",
      "state": {
       "description_width": "",
       "font_size": null,
       "text_color": null
      }
     },
     "c8d1cce62bad46dc91a386fd0e32868c": {
      "model_module": "@jupyter-widgets/base",
      "model_module_version": "2.0.0",
      "model_name": "LayoutModel",
      "state": {
       "height": "55px",
       "width": "80px"
      }
     },
     "c8d893af6ab34727b86a95d4b1b6abc5": {
      "model_module": "@jupyter-widgets/controls",
      "model_module_version": "2.0.0",
      "model_name": "ButtonStyleModel",
      "state": {
       "font_family": null,
       "font_size": null,
       "font_style": null,
       "font_variant": null,
       "font_weight": null,
       "text_color": null,
       "text_decoration": null
      }
     },
     "c8e32c0dc3904a79881c194a187927b8": {
      "model_module": "@jupyter-widgets/base",
      "model_module_version": "2.0.0",
      "model_name": "LayoutModel",
      "state": {
       "height": "120px",
       "width": "100px"
      }
     },
     "c8f7cfbf02a1406598b86db5f016de43": {
      "model_module": "@jupyter-widgets/controls",
      "model_module_version": "2.0.0",
      "model_name": "ButtonModel",
      "state": {
       "description": "Instruction",
       "icon": "comment",
       "layout": "IPY_MODEL_ca99f4329edb4793a290a22b1ebcf98a",
       "style": "IPY_MODEL_30afbca1f19b4d54bb8e871d34102548",
       "tooltip": "1"
      }
     },
     "c8f8ac0b7db24f6f90fcb0cd54e6a6c1": {
      "model_module": "@jupyter-widgets/controls",
      "model_module_version": "2.0.0",
      "model_name": "ButtonStyleModel",
      "state": {
       "font_family": null,
       "font_size": null,
       "font_style": null,
       "font_variant": null,
       "font_weight": null,
       "text_color": null,
       "text_decoration": null
      }
     },
     "c92a09771e1a4ccd90b05593813d48b5": {
      "model_module": "@jupyter-widgets/controls",
      "model_module_version": "2.0.0",
      "model_name": "VBoxModel",
      "state": {
       "children": [
        "IPY_MODEL_6e0ce9f01b0846f9b6bf1767c6f32a44",
        "IPY_MODEL_50dc79a969fd4a45b2cda035845be2ac"
       ],
       "layout": "IPY_MODEL_a96681b368fe447b85f33a86d6cc500e"
      }
     },
     "c9632f54459347eeaa21a0163ca032cc": {
      "model_module": "@jupyter-widgets/base",
      "model_module_version": "2.0.0",
      "model_name": "LayoutModel",
      "state": {}
     },
     "c965f4934a6b44a9b67054d22c6767c1": {
      "model_module": "@jupyter-widgets/controls",
      "model_module_version": "2.0.0",
      "model_name": "HTMLModel",
      "state": {
       "layout": "IPY_MODEL_5195b7eeeb6741aba4f479fae0b15b1e",
       "style": "IPY_MODEL_56ba697952734210b43498612d62c040",
       "value": "<h2>Sample Size</h2>"
      }
     },
     "c97a5ce06e6544fba77715c41b92ca74": {
      "model_module": "@jupyter-widgets/base",
      "model_module_version": "2.0.0",
      "model_name": "LayoutModel",
      "state": {}
     },
     "c98cd94a5cb54f0fa32b1e1011c625df": {
      "model_module": "@jupyter-widgets/controls",
      "model_module_version": "2.0.0",
      "model_name": "CheckboxModel",
      "state": {
       "description": "Core",
       "disabled": false,
       "indent": false,
       "layout": "IPY_MODEL_6a94dc5bcb394e0e8c51c7139c3c3a51",
       "style": "IPY_MODEL_88353df5fa3b4ebea1651ffb3e055011",
       "value": true
      }
     },
     "c98d6cd8cf4942efa47f6b207875e90f": {
      "model_module": "@jupyter-widgets/base",
      "model_module_version": "2.0.0",
      "model_name": "LayoutModel",
      "state": {}
     },
     "c9a609879daf4e36acedd910dae1aed4": {
      "model_module": "@jupyter-widgets/controls",
      "model_module_version": "2.0.0",
      "model_name": "CheckboxStyleModel",
      "state": {
       "description_width": ""
      }
     },
     "c9acaae46e474091a6344c1932679ec9": {
      "model_module": "@jupyter-widgets/controls",
      "model_module_version": "2.0.0",
      "model_name": "DropdownModel",
      "state": {
       "_options_labels": [
        "One",
        "Two",
        "Three",
        "Four",
        "Five"
       ],
       "index": 1,
       "layout": "IPY_MODEL_df78e8d46a264d6ab30a2da66081352d",
       "style": "IPY_MODEL_5ff5f6e2c21e429cafa0022e212159aa"
      }
     },
     "c9e39868baa34bf389e767a97d3972e4": {
      "model_module": "@jupyter-widgets/controls",
      "model_module_version": "2.0.0",
      "model_name": "HTMLStyleModel",
      "state": {
       "description_width": "",
       "font_size": null,
       "text_color": null
      }
     },
     "c9ef647076904c7393bbfe20686e931b": {
      "model_module": "@jupyter-widgets/base",
      "model_module_version": "2.0.0",
      "model_name": "LayoutModel",
      "state": {}
     },
     "c9ffcf2914004978bb6349d449086d85": {
      "model_module": "@jupyter-widgets/controls",
      "model_module_version": "2.0.0",
      "model_name": "CheckboxModel",
      "state": {
       "description": "exercise ball",
       "disabled": false,
       "indent": false,
       "layout": "IPY_MODEL_931302598a2149a4a8d45e355c133ac0",
       "style": "IPY_MODEL_519ff61dd48f4a6188dc5d757affbe08",
       "value": true
      }
     },
     "ca0f5c4f3eac470b8cb1507283f607a6": {
      "model_module": "@jupyter-widgets/controls",
      "model_module_version": "2.0.0",
      "model_name": "VBoxModel",
      "state": {
       "children": [
        "IPY_MODEL_ccd480afaedd4f9cae2e2adaf8e52760",
        "IPY_MODEL_3b8f594995044c559bd89efa88f05d62"
       ],
       "layout": "IPY_MODEL_68566385c1094ac7b4c0948c39a77d74"
      }
     },
     "ca2cb0c2587f487789069011d71d1b4d": {
      "model_module": "@jupyter-widgets/base",
      "model_module_version": "2.0.0",
      "model_name": "LayoutModel",
      "state": {}
     },
     "ca67ca65ca2d44c486e6aadbdf42ad47": {
      "model_module": "@jupyter-widgets/controls",
      "model_module_version": "2.0.0",
      "model_name": "VBoxModel",
      "state": {
       "layout": "IPY_MODEL_38ec51ab967c4efab2c4e194325dd21a"
      }
     },
     "ca719a1baa244870b6e3aebd321ef686": {
      "model_module": "@jupyter-widgets/base",
      "model_module_version": "2.0.0",
      "model_name": "LayoutModel",
      "state": {}
     },
     "ca99f4329edb4793a290a22b1ebcf98a": {
      "model_module": "@jupyter-widgets/base",
      "model_module_version": "2.0.0",
      "model_name": "LayoutModel",
      "state": {
       "height": "55px",
       "width": "120px"
      }
     },
     "cab87bb4675f479e960a72347f66b455": {
      "model_module": "@jupyter-widgets/base",
      "model_module_version": "2.0.0",
      "model_name": "LayoutModel",
      "state": {
       "height": "40px",
       "width": "160px"
      }
     },
     "cac4cf1939c64f129af9315416c127a2": {
      "model_module": "@jupyter-widgets/base",
      "model_module_version": "2.0.0",
      "model_name": "LayoutModel",
      "state": {
       "align_items": "stretch",
       "display": "flex",
       "flex_flow": "row",
       "justify_content": "space-around",
       "width": "70%"
      }
     },
     "cae1bd3199644583b1385e8b22237c9c": {
      "model_module": "@jupyter-widgets/controls",
      "model_module_version": "2.0.0",
      "model_name": "ButtonStyleModel",
      "state": {
       "font_family": null,
       "font_size": null,
       "font_style": null,
       "font_variant": null,
       "font_weight": null,
       "text_color": null,
       "text_decoration": null
      }
     },
     "cb04c98ad22143a5b84352eedbcc0a08": {
      "model_module": "@jupyter-widgets/base",
      "model_module_version": "2.0.0",
      "model_name": "LayoutModel",
      "state": {
       "height": "55px",
       "width": "80px"
      }
     },
     "cb19ec3679c24d0184608a63e150a812": {
      "model_module": "@jupyter-widgets/controls",
      "model_module_version": "2.0.0",
      "model_name": "ButtonStyleModel",
      "state": {
       "font_family": null,
       "font_size": null,
       "font_style": null,
       "font_variant": null,
       "font_weight": null,
       "text_color": null,
       "text_decoration": null
      }
     },
     "cb1b5ba9c08849ce9427ae435d1be55e": {
      "model_module": "@jupyter-widgets/base",
      "model_module_version": "2.0.0",
      "model_name": "LayoutModel",
      "state": {
       "height": "55px",
       "width": "120px"
      }
     },
     "cb3783b3b8d643149941431308880b13": {
      "model_module": "@jupyter-widgets/controls",
      "model_module_version": "2.0.0",
      "model_name": "HTMLStyleModel",
      "state": {
       "description_width": "",
       "font_size": null,
       "text_color": null
      }
     },
     "cb5ae8bc53e84f96b25208c1c45bc3c5": {
      "model_module": "@jupyter-widgets/controls",
      "model_module_version": "2.0.0",
      "model_name": "ButtonModel",
      "state": {
       "description": "Instruction",
       "icon": "comment",
       "layout": "IPY_MODEL_fc71d2897bd04b6aac09bfbb33e9a41f",
       "style": "IPY_MODEL_cf5b95fd6c2a44b9b4c84db58719b9a9",
       "tooltip": "702"
      }
     },
     "cb88924a58e04c919c657f21283a0330": {
      "model_module": "@jupyter-widgets/base",
      "model_module_version": "2.0.0",
      "model_name": "LayoutModel",
      "state": {
       "height": "40px",
       "width": "160px"
      }
     },
     "cb8c1a09681245b1a74c91a680484410": {
      "model_module": "@jupyter-widgets/base",
      "model_module_version": "2.0.0",
      "model_name": "LayoutModel",
      "state": {
       "height": "120px",
       "width": "100px"
      }
     },
     "cb929e5557334a1283fc275b911a36f2": {
      "model_module": "@jupyter-widgets/base",
      "model_module_version": "2.0.0",
      "model_name": "LayoutModel",
      "state": {}
     },
     "cba7b861eee64c83969bc40f2438de90": {
      "model_module": "@jupyter-widgets/controls",
      "model_module_version": "2.0.0",
      "model_name": "CheckboxModel",
      "state": {
       "description": "e-z curl bar",
       "disabled": false,
       "indent": false,
       "layout": "IPY_MODEL_4b9ff11cd59a4291a9095d69825735cd",
       "style": "IPY_MODEL_d89ac4ff20d84cb9b2e00ef2575d0452",
       "value": false
      }
     },
     "cbd7c959640e49319a0d6bb7457a7c32": {
      "model_module": "@jupyter-widgets/base",
      "model_module_version": "2.0.0",
      "model_name": "LayoutModel",
      "state": {}
     },
     "cbd860408c99408888fd404947556bf6": {
      "model_module": "@jupyter-widgets/base",
      "model_module_version": "2.0.0",
      "model_name": "LayoutModel",
      "state": {
       "align_items": "stretch",
       "display": "flex",
       "flex_flow": "row",
       "justify_content": "space-around",
       "width": "70%"
      }
     },
     "cc12c5c5f25d4b288e64056870b17ee1": {
      "model_module": "@jupyter-widgets/controls",
      "model_module_version": "2.0.0",
      "model_name": "HTMLStyleModel",
      "state": {
       "description_width": "",
       "font_size": null,
       "text_color": null
      }
     },
     "cc77d1432fc240b48b352da52c3654f1": {
      "model_module": "@jupyter-widgets/controls",
      "model_module_version": "2.0.0",
      "model_name": "CheckboxModel",
      "state": {
       "description": "machine",
       "disabled": false,
       "indent": false,
       "layout": "IPY_MODEL_583b33c12a524ad485655378fb38c8b7",
       "style": "IPY_MODEL_b0203194245d4332914020b21009fb89",
       "value": false
      }
     },
     "cc9ca65c323e45e6a457f97090497681": {
      "model_module": "@jupyter-widgets/controls",
      "model_module_version": "2.0.0",
      "model_name": "CheckboxStyleModel",
      "state": {
       "description_width": ""
      }
     },
     "ccb322cd18d24780906830300ef230fb": {
      "model_module": "@jupyter-widgets/controls",
      "model_module_version": "2.0.0",
      "model_name": "ButtonModel",
      "state": {
       "description": "Photo",
       "layout": "IPY_MODEL_dfa03a0bb7d842c78293efa5ca062c01",
       "style": "IPY_MODEL_232dea850efb469cae1de14764b34a52",
       "tooltip": null
      }
     },
     "ccd480afaedd4f9cae2e2adaf8e52760": {
      "model_module": "@jupyter-widgets/controls",
      "model_module_version": "2.0.0",
      "model_name": "HTMLModel",
      "state": {
       "layout": "IPY_MODEL_ce3c2503938440c183757bcf07cd8870",
       "style": "IPY_MODEL_b106ccd5a8014b269e920052a5a0f752",
       "value": "Cocoons"
      }
     },
     "ccea3cdb2dd4484c9171a309c8de9fe1": {
      "model_module": "@jupyter-widgets/base",
      "model_module_version": "2.0.0",
      "model_name": "LayoutModel",
      "state": {
       "height": "55px",
       "width": "120px"
      }
     },
     "ccebf07729994d3285eb11c1d672105e": {
      "model_module": "@jupyter-widgets/base",
      "model_module_version": "2.0.0",
      "model_name": "LayoutModel",
      "state": {
       "height": "55px",
       "width": "80px"
      }
     },
     "ccf71aae82f243f390bbd18fa94e0fdd": {
      "model_module": "@jupyter-widgets/controls",
      "model_module_version": "2.0.0",
      "model_name": "VBoxModel",
      "state": {
       "children": [
        "IPY_MODEL_18311c0883ef4b9b9ef8593fb3474358",
        "IPY_MODEL_df44c4b2a0ef49caa08fb5e2140cbada"
       ],
       "layout": "IPY_MODEL_4983f1b76cf043d1b514e8caff51fdda"
      }
     },
     "cd2caf81dd0d4a449edf3c23aee850d0": {
      "model_module": "@jupyter-widgets/base",
      "model_module_version": "2.0.0",
      "model_name": "LayoutModel",
      "state": {}
     },
     "cd326ad3825a40e38124bdb74d9258b8": {
      "model_module": "@jupyter-widgets/base",
      "model_module_version": "2.0.0",
      "model_name": "LayoutModel",
      "state": {
       "height": "40px",
       "width": "160px"
      }
     },
     "cdb3dd8b4e6f47e9991d457d8b5355a4": {
      "model_module": "@jupyter-widgets/base",
      "model_module_version": "2.0.0",
      "model_name": "LayoutModel",
      "state": {
       "height": "40px",
       "width": "160px"
      }
     },
     "cdd42bc399df4936bf6a074908d317ca": {
      "model_module": "@jupyter-widgets/base",
      "model_module_version": "2.0.0",
      "model_name": "LayoutModel",
      "state": {}
     },
     "cded18f0481f432c93c2c8354156a468": {
      "model_module": "@jupyter-widgets/controls",
      "model_module_version": "2.0.0",
      "model_name": "HTMLModel",
      "state": {
       "layout": "IPY_MODEL_a6d80445197a4cc09356dd96328f6818",
       "style": "IPY_MODEL_f92f8f2573f34f16b1c6aaaed548038a",
       "value": "Cable Seated Crunch"
      }
     },
     "cdee133f2c1e4ba298fed8ff4c378716": {
      "model_module": "@jupyter-widgets/controls",
      "model_module_version": "2.0.0",
      "model_name": "CheckboxModel",
      "state": {
       "description": "medicine ball",
       "disabled": false,
       "indent": false,
       "layout": "IPY_MODEL_e4342c1fda3c4a58825002f03c620845",
       "style": "IPY_MODEL_92925f4a901d4163a9707e7271ddfba1",
       "value": true
      }
     },
     "ce134ccd5d014874bf23d7d2cbfc1563": {
      "model_module": "@jupyter-widgets/base",
      "model_module_version": "2.0.0",
      "model_name": "LayoutModel",
      "state": {}
     },
     "ce3c2503938440c183757bcf07cd8870": {
      "model_module": "@jupyter-widgets/base",
      "model_module_version": "2.0.0",
      "model_name": "LayoutModel",
      "state": {}
     },
     "ce78d7f121974c67baab249f74f70285": {
      "model_module": "@jupyter-widgets/controls",
      "model_module_version": "2.0.0",
      "model_name": "BoxModel",
      "state": {
       "children": [
        "IPY_MODEL_db91c690cba6485d9d353dea455357c3",
        "IPY_MODEL_217de5ba0c154db0b1ecc9f9ab7cba5f"
       ],
       "layout": "IPY_MODEL_eeae7a7f3827423f94ae293fa2453e21"
      }
     },
     "ce86f97c3c654efdad1368e1194c2a3e": {
      "model_module": "@jupyter-widgets/base",
      "model_module_version": "2.0.0",
      "model_name": "LayoutModel",
      "state": {}
     },
     "ce9528be4a5c47c094513971e5d434f0": {
      "model_module": "@jupyter-widgets/controls",
      "model_module_version": "2.0.0",
      "model_name": "VBoxModel",
      "state": {
       "children": [
        "IPY_MODEL_9cf614556f18410fb76d3d61add20ce3",
        "IPY_MODEL_3627e3898bef461a976dab524efe448c"
       ],
       "layout": "IPY_MODEL_cd2caf81dd0d4a449edf3c23aee850d0"
      }
     },
     "ceca99e2541741a3b53c8b0f95154641": {
      "model_module": "@jupyter-widgets/base",
      "model_module_version": "2.0.0",
      "model_name": "LayoutModel",
      "state": {
       "height": "40px",
       "width": "160px"
      }
     },
     "cece2f1ae9df49cfb2465928d6108a9d": {
      "model_module": "@jupyter-widgets/controls",
      "model_module_version": "2.0.0",
      "model_name": "BoxModel",
      "state": {
       "children": [
        "IPY_MODEL_bbe396260959483abdc369f72ae365d3",
        "IPY_MODEL_28e982014958443fa61f93eaefedc2e3",
        "IPY_MODEL_0b8a9b023d854eedb1cd5587150fb0b7"
       ],
       "layout": "IPY_MODEL_c4c5dacbfa5c43a19b892ebf795b0376"
      }
     },
     "cee2f20660ba4c48915eed9da4cc5409": {
      "model_module": "@jupyter-widgets/base",
      "model_module_version": "2.0.0",
      "model_name": "LayoutModel",
      "state": {
       "height": "40px",
       "width": "160px"
      }
     },
     "cf23215d0da44b0f908c5ac0a40c3ea1": {
      "model_module": "@jupyter-widgets/base",
      "model_module_version": "2.0.0",
      "model_name": "LayoutModel",
      "state": {
       "align_items": "stretch",
       "display": "flex",
       "flex_flow": "row",
       "justify_content": "space-around",
       "width": "70%"
      }
     },
     "cf397d5ebb6e4b7e93146f484de9a0e0": {
      "model_module": "@jupyter-widgets/controls",
      "model_module_version": "2.0.0",
      "model_name": "ButtonModel",
      "state": {
       "description": "Close",
       "layout": "IPY_MODEL_405e0cee93564e539e30f7091ac93a34",
       "style": "IPY_MODEL_c18a356dee4c4b6999a546b39d730330",
       "tooltip": null
      }
     },
     "cf5852616bd8457eb33eb7cd0ea0d48f": {
      "model_module": "@jupyter-widgets/controls",
      "model_module_version": "2.0.0",
      "model_name": "HTMLModel",
      "state": {
       "layout": "IPY_MODEL_f52309e986d94795bbc8db59d7a5641c",
       "style": "IPY_MODEL_ab61904da7ff443989acb7089355eab3",
       "value": "Chest Push (single response)"
      }
     },
     "cf5b95fd6c2a44b9b4c84db58719b9a9": {
      "model_module": "@jupyter-widgets/controls",
      "model_module_version": "2.0.0",
      "model_name": "ButtonStyleModel",
      "state": {
       "font_family": null,
       "font_size": null,
       "font_style": null,
       "font_variant": null,
       "font_weight": null,
       "text_color": null,
       "text_decoration": null
      }
     },
     "cf6117db97e34ac480440b9d7d8aab6d": {
      "model_module": "@jupyter-widgets/controls",
      "model_module_version": "2.0.0",
      "model_name": "CheckboxStyleModel",
      "state": {
       "description_width": ""
      }
     },
     "cf7aea0739de4f7eb74ec15ce9e523a1": {
      "model_module": "@jupyter-widgets/controls",
      "model_module_version": "2.0.0",
      "model_name": "BoxModel",
      "state": {
       "children": [
        "IPY_MODEL_55a8d2e63ae34f8b91e5b1aa8b8bd696",
        "IPY_MODEL_5010718805f249ac902f93e6db1f446b"
       ],
       "layout": "IPY_MODEL_e8f7295ed85b49eda8d67e296f224534"
      }
     },
     "cf852fe1cd5f45358caac6438f80a98e": {
      "model_module": "@jupyter-widgets/base",
      "model_module_version": "2.0.0",
      "model_name": "LayoutModel",
      "state": {
       "height": "40px",
       "width": "160px"
      }
     },
     "cfa3d95e68034a2da1c66c847954924c": {
      "model_module": "@jupyter-widgets/base",
      "model_module_version": "2.0.0",
      "model_name": "LayoutModel",
      "state": {}
     },
     "d01ba12ddd604d1e81d3d3109ab496f2": {
      "model_module": "@jupyter-widgets/controls",
      "model_module_version": "2.0.0",
      "model_name": "CheckboxModel",
      "state": {
       "description": "kettlebells",
       "disabled": false,
       "indent": false,
       "layout": "IPY_MODEL_e6105c0a73a7499aab5770ce432e6dde",
       "style": "IPY_MODEL_17e8f8c9faef41fdb52325b03c42352d",
       "value": true
      }
     },
     "d01c89c68c0d4e1cb6b0597e62fdd5f9": {
      "model_module": "@jupyter-widgets/controls",
      "model_module_version": "2.0.0",
      "model_name": "HBoxModel",
      "state": {
       "children": [
        "IPY_MODEL_0f459f9448414686a9dc73f76adb053a",
        "IPY_MODEL_7b3f3e5b78bd43eca6de13409f81637b",
        "IPY_MODEL_4e14883717b2407a8e09dabcf26dc1b3",
        "IPY_MODEL_044f2958879a41b7afd564616ee32695"
       ],
       "layout": "IPY_MODEL_3e2f5013cd1842009ee40dc7ab74832b"
      }
     },
     "d07cd317d04142bf9abd3ee1cae9b533": {
      "model_module": "@jupyter-widgets/base",
      "model_module_version": "2.0.0",
      "model_name": "LayoutModel",
      "state": {
       "height": "55px",
       "width": "80px"
      }
     },
     "d088b78abc8c4abf8fb9c22e2474e6de": {
      "model_module": "@jupyter-widgets/controls",
      "model_module_version": "2.0.0",
      "model_name": "CheckboxStyleModel",
      "state": {
       "description_width": ""
      }
     },
     "d0c4ccb5b2604b739de747ac2225e45a": {
      "model_module": "@jupyter-widgets/controls",
      "model_module_version": "2.0.0",
      "model_name": "VBoxModel",
      "state": {
       "children": [
        "IPY_MODEL_80a2c91831c84b4da32bb4b8b5d3470d",
        "IPY_MODEL_e076d646194449408875579f521c462e"
       ],
       "layout": "IPY_MODEL_5fe64d3cb80344ba8dc89201c1abcc3e"
      }
     },
     "d0cd728d32464b0e88c275f1d42d6acc": {
      "model_module": "@jupyter-widgets/base",
      "model_module_version": "2.0.0",
      "model_name": "LayoutModel",
      "state": {}
     },
     "d0d7aa3c412345c7a84aa6709ba14071": {
      "model_module": "@jupyter-widgets/controls",
      "model_module_version": "2.0.0",
      "model_name": "VBoxModel",
      "state": {
       "children": [
        "IPY_MODEL_528c030c4c7945f6b186021d866d2477",
        "IPY_MODEL_73d27bbf22584a74ae7ac3e3fc2f5722",
        "IPY_MODEL_dc5ff30a2509446aa0ae4d18a81394c0",
        "IPY_MODEL_26203175f2b44b28a1fddbf06d29982c"
       ],
       "layout": "IPY_MODEL_d23c11f7a5ef400f9650bf78fa39b73c"
      }
     },
     "d0f0f6a4ddce48d28804e89e04101784": {
      "model_module": "@jupyter-widgets/controls",
      "model_module_version": "2.0.0",
      "model_name": "HTMLModel",
      "state": {
       "layout": "IPY_MODEL_ab10de457f51471c84c469e9c5639765",
       "style": "IPY_MODEL_e7a84c7f5b7342af8ad60cf9e6b81c44",
       "value": "<h3>Upper Body</h3>"
      }
     },
     "d11988de2ee5480ba7b419af6c10fe2c": {
      "model_module": "@jupyter-widgets/controls",
      "model_module_version": "2.0.0",
      "model_name": "CheckboxStyleModel",
      "state": {
       "description_width": ""
      }
     },
     "d14d30f4946e40448c2d95abdfa9d84e": {
      "model_module": "@jupyter-widgets/controls",
      "model_module_version": "2.0.0",
      "model_name": "HTMLStyleModel",
      "state": {
       "description_width": "",
       "font_size": null,
       "text_color": null
      }
     },
     "d15e3e669718492e862429891263bb89": {
      "model_module": "@jupyter-widgets/controls",
      "model_module_version": "2.0.0",
      "model_name": "VBoxModel",
      "state": {
       "layout": "IPY_MODEL_cfa3d95e68034a2da1c66c847954924c"
      }
     },
     "d186e66d787a41a0ae96f6b941de7c49": {
      "model_module": "@jupyter-widgets/base",
      "model_module_version": "2.0.0",
      "model_name": "LayoutModel",
      "state": {}
     },
     "d1efddb6df2c47e28e34e60af62c64d6": {
      "model_module": "@jupyter-widgets/controls",
      "model_module_version": "2.0.0",
      "model_name": "CheckboxStyleModel",
      "state": {
       "description_width": ""
      }
     },
     "d1fd99f0a85d4a8f80722cdf2bc3a324": {
      "model_module": "@jupyter-widgets/controls",
      "model_module_version": "2.0.0",
      "model_name": "HBoxModel",
      "state": {
       "children": [
        "IPY_MODEL_1fc75be90ec94dc6bf2c89b365b9407e"
       ],
       "layout": "IPY_MODEL_8c9e0d9236b04a1e94f1464db282d845"
      }
     },
     "d20306500b884179929f286f0c37c3ae": {
      "model_module": "@jupyter-widgets/base",
      "model_module_version": "2.0.0",
      "model_name": "LayoutModel",
      "state": {
       "align_items": "stretch",
       "display": "flex",
       "flex_flow": "row",
       "justify_content": "space-around",
       "width": "70%"
      }
     },
     "d2196242b9944dc5a61c017f407a4f6a": {
      "model_module": "@jupyter-widgets/controls",
      "model_module_version": "2.0.0",
      "model_name": "HBoxModel",
      "state": {
       "children": [
        "IPY_MODEL_218a10b6aa6d482f95cea3169ba75945",
        "IPY_MODEL_ef12a1600ddd4da984ba4cd566861c2e",
        "IPY_MODEL_57c8ab26c7064b969d289c36eba4daa9",
        "IPY_MODEL_d8a7106f7bdd4b32a2f7218e7aff4474"
       ],
       "layout": "IPY_MODEL_2bdbbb8c8c554fab9f1935e96371e30f"
      }
     },
     "d21b2dd191bc4aa2a818e3f7fb6c6aaf": {
      "model_module": "@jupyter-widgets/base",
      "model_module_version": "2.0.0",
      "model_name": "LayoutModel",
      "state": {}
     },
     "d22fbc8e1e18483b8d7432c16ba9b145": {
      "model_module": "@jupyter-widgets/base",
      "model_module_version": "2.0.0",
      "model_name": "LayoutModel",
      "state": {}
     },
     "d23c11f7a5ef400f9650bf78fa39b73c": {
      "model_module": "@jupyter-widgets/base",
      "model_module_version": "2.0.0",
      "model_name": "LayoutModel",
      "state": {}
     },
     "d24a5c6490cf49029bd4b977547b3f2d": {
      "model_module": "@jupyter-widgets/controls",
      "model_module_version": "2.0.0",
      "model_name": "HTMLStyleModel",
      "state": {
       "description_width": "",
       "font_size": null,
       "text_color": null
      }
     },
     "d25df2db02f74275a45619ab9fc33449": {
      "model_module": "@jupyter-widgets/base",
      "model_module_version": "2.0.0",
      "model_name": "LayoutModel",
      "state": {
       "height": "55px",
       "width": "80px"
      }
     },
     "d279c484e01749e3958d699417ffef1d": {
      "model_module": "@jupyter-widgets/controls",
      "model_module_version": "2.0.0",
      "model_name": "CheckboxStyleModel",
      "state": {
       "description_width": ""
      }
     },
     "d29d3275dba64cc1addf5ec82a2f99b4": {
      "model_module": "@jupyter-widgets/controls",
      "model_module_version": "2.0.0",
      "model_name": "ButtonStyleModel",
      "state": {
       "font_family": null,
       "font_size": null,
       "font_style": null,
       "font_variant": null,
       "font_weight": null,
       "text_color": null,
       "text_decoration": null
      }
     },
     "d2a194bade364b18b42aa41affde1f9b": {
      "model_module": "@jupyter-widgets/controls",
      "model_module_version": "2.0.0",
      "model_name": "VBoxModel",
      "state": {
       "layout": "IPY_MODEL_dfb0776d8f9f4789bbdc3d76ba2bf463"
      }
     },
     "d2d3f3ff63b84ec1a1ed8d36185dc026": {
      "model_module": "@jupyter-widgets/controls",
      "model_module_version": "2.0.0",
      "model_name": "BoxModel",
      "state": {
       "children": [
        "IPY_MODEL_e04dd6b7bb4d48b0b89659eebc229bf7",
        "IPY_MODEL_fb2ecc700e274f7d86089b5602171494"
       ],
       "layout": "IPY_MODEL_90d53b934c8b47889312d78dee1ba52b"
      }
     },
     "d2dcd2d8e1ec40ed8354681fcd1e4a69": {
      "model_module": "@jupyter-widgets/base",
      "model_module_version": "2.0.0",
      "model_name": "LayoutModel",
      "state": {}
     },
     "d2eb9b14321f46a080174836d3f04da3": {
      "model_module": "@jupyter-widgets/base",
      "model_module_version": "2.0.0",
      "model_name": "LayoutModel",
      "state": {
       "height": "40px",
       "width": "160px"
      }
     },
     "d2f287136b624d528cefdc9156cf4a33": {
      "model_module": "@jupyter-widgets/base",
      "model_module_version": "2.0.0",
      "model_name": "LayoutModel",
      "state": {}
     },
     "d2fa15024041466a84a78a34a88a646b": {
      "model_module": "@jupyter-widgets/base",
      "model_module_version": "2.0.0",
      "model_name": "LayoutModel",
      "state": {}
     },
     "d32a65e03f864addac094e1064b38bcd": {
      "model_module": "@jupyter-widgets/controls",
      "model_module_version": "2.0.0",
      "model_name": "GridBoxModel",
      "state": {
       "layout": "IPY_MODEL_56c4c12bc36b48fd90da05c02d23dcbe"
      }
     },
     "d353f09de7fd4a119124d7d26784a6fe": {
      "model_module": "@jupyter-widgets/controls",
      "model_module_version": "2.0.0",
      "model_name": "ButtonModel",
      "state": {
       "description": "Instruction",
       "icon": "comment",
       "layout": "IPY_MODEL_591c146772464fe79cc3743f42b6abc6",
       "style": "IPY_MODEL_1f011d0bf0b24c3ab849fe0d7c018f0c",
       "tooltip": "0"
      }
     },
     "d36b8b6301e04c19848cdeed21c87c29": {
      "model_module": "@jupyter-widgets/base",
      "model_module_version": "2.0.0",
      "model_name": "LayoutModel",
      "state": {}
     },
     "d37dcbc15d264a0986d36b0225ba993b": {
      "model_module": "@jupyter-widgets/base",
      "model_module_version": "2.0.0",
      "model_name": "LayoutModel",
      "state": {}
     },
     "d3a0a353e9ca41fd875eb6c73f5436b2": {
      "model_module": "@jupyter-widgets/controls",
      "model_module_version": "2.0.0",
      "model_name": "HTMLStyleModel",
      "state": {
       "description_width": "",
       "font_size": null,
       "text_color": null
      }
     },
     "d3baba3b23f94aa2823d8e2cc1291d4a": {
      "model_module": "@jupyter-widgets/base",
      "model_module_version": "2.0.0",
      "model_name": "LayoutModel",
      "state": {}
     },
     "d3e4d63529cd45a78ad9e38652581e19": {
      "model_module": "@jupyter-widgets/base",
      "model_module_version": "2.0.0",
      "model_name": "LayoutModel",
      "state": {
       "height": "55px",
       "width": "80px"
      }
     },
     "d3e7b666c84e4f2cbbce00682b0e9e6b": {
      "model_module": "@jupyter-widgets/controls",
      "model_module_version": "2.0.0",
      "model_name": "VBoxModel",
      "state": {
       "layout": "IPY_MODEL_4b7d8b6e21454980bd5332f7843d36ed"
      }
     },
     "d44a158bd8fd4ca3913fbf213b1ab2ee": {
      "model_module": "@jupyter-widgets/base",
      "model_module_version": "2.0.0",
      "model_name": "LayoutModel",
      "state": {
       "height": "40px",
       "width": "160px"
      }
     },
     "d4571331c25c461bbd2304365ff338fa": {
      "model_module": "@jupyter-widgets/controls",
      "model_module_version": "2.0.0",
      "model_name": "HTMLModel",
      "state": {
       "layout": "IPY_MODEL_9031610a1233465383fe33602b97285f",
       "style": "IPY_MODEL_53aefe974aa1448f9645393b33630781",
       "value": "Push Press - Behind the Neck"
      }
     },
     "d45c145567b2474eadad051438c24165": {
      "model_module": "@jupyter-widgets/base",
      "model_module_version": "2.0.0",
      "model_name": "LayoutModel",
      "state": {}
     },
     "d45cd388a9644db79fb37c570f7a7e10": {
      "model_module": "@jupyter-widgets/base",
      "model_module_version": "2.0.0",
      "model_name": "LayoutModel",
      "state": {
       "height": "55px",
       "width": "120px"
      }
     },
     "d476cee74f9a4d12b549f16c80f16792": {
      "model_module": "@jupyter-widgets/controls",
      "model_module_version": "2.0.0",
      "model_name": "HTMLModel",
      "state": {
       "layout": "IPY_MODEL_f1e0766f932d447ca001b9a0025b2a71",
       "style": "IPY_MODEL_4ad4efa14ee24916923895ded19821ec",
       "value": "<h2>Exercise Category</h2>"
      }
     },
     "d4babe4520b749ceab88bca75dccbfb9": {
      "model_module": "@jupyter-widgets/base",
      "model_module_version": "2.0.0",
      "model_name": "LayoutModel",
      "state": {}
     },
     "d50243cf457340fc969e7ad111e74d06": {
      "model_module": "@jupyter-widgets/controls",
      "model_module_version": "2.0.0",
      "model_name": "ButtonModel",
      "state": {
       "description": "Instruction",
       "icon": "comment",
       "layout": "IPY_MODEL_c6402ba003434a9e98950b3172fae709",
       "style": "IPY_MODEL_128c4c65b40a4139b7e08c647e409608",
       "tooltip": "77"
      }
     },
     "d50cdbd77eaf4c92b583edc62922d9bd": {
      "model_module": "@jupyter-widgets/controls",
      "model_module_version": "2.0.0",
      "model_name": "HBoxModel",
      "state": {
       "children": [
        "IPY_MODEL_ff0b745a5db345a39b12abb6b9c831ab",
        "IPY_MODEL_96b71d5a9e9343aea0d09adcae335039",
        "IPY_MODEL_7497364dcc70493380f5863ae55c7492",
        "IPY_MODEL_dd2f99c9b19e4b76ae6281e95772a7be"
       ],
       "layout": "IPY_MODEL_d4babe4520b749ceab88bca75dccbfb9"
      }
     },
     "d52499ad1ac94e95a0544110c380847e": {
      "model_module": "@jupyter-widgets/base",
      "model_module_version": "2.0.0",
      "model_name": "LayoutModel",
      "state": {
       "height": "200px"
      }
     },
     "d53a5a51efd74e48b86eef9faddb462a": {
      "model_module": "@jupyter-widgets/base",
      "model_module_version": "2.0.0",
      "model_name": "LayoutModel",
      "state": {
       "height": "40px",
       "width": "160px"
      }
     },
     "d54ed84e74664b81ae8278817bbd930b": {
      "model_module": "@jupyter-widgets/controls",
      "model_module_version": "2.0.0",
      "model_name": "ButtonModel",
      "state": {
       "description": "Close",
       "layout": "IPY_MODEL_73a2314a14234560af8db7af3e9fffc9",
       "style": "IPY_MODEL_aab182fbd3674750a8f0c4702d0925af",
       "tooltip": null
      }
     },
     "d551f4cc2fae493c87be4957d3f9c0db": {
      "model_module": "@jupyter-widgets/base",
      "model_module_version": "2.0.0",
      "model_name": "LayoutModel",
      "state": {
       "align_items": "stretch",
       "display": "flex",
       "flex_flow": "row",
       "justify_content": "space-around",
       "width": "70%"
      }
     },
     "d58e48b969ff45e08b1d7e48b41bcfed": {
      "model_module": "@jupyter-widgets/base",
      "model_module_version": "2.0.0",
      "model_name": "LayoutModel",
      "state": {
       "height": "120px",
       "width": "100px"
      }
     },
     "d606416ce4aa4c1a92e9f499b02b7688": {
      "model_module": "@jupyter-widgets/base",
      "model_module_version": "2.0.0",
      "model_name": "LayoutModel",
      "state": {}
     },
     "d65daddad6b0489abc0f7c53847b426a": {
      "model_module": "@jupyter-widgets/controls",
      "model_module_version": "2.0.0",
      "model_name": "CheckboxStyleModel",
      "state": {
       "description_width": ""
      }
     },
     "d66cf0acf7b14bc2bf7783eca63dd912": {
      "model_module": "@jupyter-widgets/controls",
      "model_module_version": "2.0.0",
      "model_name": "CheckboxStyleModel",
      "state": {
       "description_width": ""
      }
     },
     "d697a8dab1df4bab92d17f3dc45a6678": {
      "model_module": "@jupyter-widgets/base",
      "model_module_version": "2.0.0",
      "model_name": "LayoutModel",
      "state": {
       "height": "40px",
       "width": "160px"
      }
     },
     "d699c601398c43089f956b535bb396a8": {
      "model_module": "@jupyter-widgets/base",
      "model_module_version": "2.0.0",
      "model_name": "LayoutModel",
      "state": {}
     },
     "d69d7b22d6c6469baf6907175e5d7842": {
      "model_module": "@jupyter-widgets/controls",
      "model_module_version": "2.0.0",
      "model_name": "CheckboxModel",
      "state": {
       "description": "strongman",
       "disabled": false,
       "indent": false,
       "layout": "IPY_MODEL_f873fe74252d462d80a5d407125cb9f9",
       "style": "IPY_MODEL_aba56d0e08b5496f9d5794661ceefc70",
       "value": true
      }
     },
     "d6cb8f4c6ab94d369f3e0596352d5b81": {
      "model_module": "@jupyter-widgets/base",
      "model_module_version": "2.0.0",
      "model_name": "LayoutModel",
      "state": {
       "height": "120px",
       "width": "100px"
      }
     },
     "d740a5e9d44e4b5e8e215f66032bdfe7": {
      "model_module": "@jupyter-widgets/base",
      "model_module_version": "2.0.0",
      "model_name": "LayoutModel",
      "state": {
       "height": "55px",
       "width": "120px"
      }
     },
     "d754b62f352044f3b0dd4ec94f2e6003": {
      "model_module": "@jupyter-widgets/base",
      "model_module_version": "2.0.0",
      "model_name": "LayoutModel",
      "state": {
       "height": "55px",
       "width": "80px"
      }
     },
     "d75c111811144424ad0ac7ee8902da63": {
      "model_module": "@jupyter-widgets/controls",
      "model_module_version": "2.0.0",
      "model_name": "HTMLModel",
      "state": {
       "layout": "IPY_MODEL_7a18f0b9e9a044d989601e72e7b8e76e",
       "style": "IPY_MODEL_5666649682204b91987b370235b7a0fa",
       "value": "<h2>Equipment List</h2>"
      }
     },
     "d7ae85b84def4cd28fc04eb7bdad0649": {
      "model_module": "@jupyter-widgets/controls",
      "model_module_version": "2.0.0",
      "model_name": "CheckboxModel",
      "state": {
       "description": "stretching",
       "disabled": false,
       "indent": false,
       "layout": "IPY_MODEL_c52210f832e34fb280f292213e341a15",
       "style": "IPY_MODEL_c9a609879daf4e36acedd910dae1aed4",
       "value": true
      }
     },
     "d7e49df549904cdb9f83221be082c464": {
      "model_module": "@jupyter-widgets/controls",
      "model_module_version": "2.0.0",
      "model_name": "ButtonStyleModel",
      "state": {
       "font_family": null,
       "font_size": null,
       "font_style": null,
       "font_variant": null,
       "font_weight": null,
       "text_color": null,
       "text_decoration": null
      }
     },
     "d860d5c651fc41cc8248d530e0dfeb46": {
      "model_module": "@jupyter-widgets/base",
      "model_module_version": "2.0.0",
      "model_name": "LayoutModel",
      "state": {
       "height": "40px",
       "width": "160px"
      }
     },
     "d89ac4ff20d84cb9b2e00ef2575d0452": {
      "model_module": "@jupyter-widgets/controls",
      "model_module_version": "2.0.0",
      "model_name": "CheckboxStyleModel",
      "state": {
       "description_width": ""
      }
     },
     "d89d1852d3c44834a259eed97bd13ea0": {
      "model_module": "@jupyter-widgets/controls",
      "model_module_version": "2.0.0",
      "model_name": "ButtonStyleModel",
      "state": {
       "font_family": null,
       "font_size": null,
       "font_style": null,
       "font_variant": null,
       "font_weight": null,
       "text_color": null,
       "text_decoration": null
      }
     },
     "d8a7106f7bdd4b32a2f7218e7aff4474": {
      "model_module": "@jupyter-widgets/controls",
      "model_module_version": "2.0.0",
      "model_name": "VBoxModel",
      "state": {
       "children": [
        "IPY_MODEL_7ad87a01fcdb4d17894efb3571b07c96",
        "IPY_MODEL_98644cc410164925b72b6517272fa770"
       ],
       "layout": "IPY_MODEL_72e1912b34ff48d0af60553bff16a580"
      }
     },
     "d8cfe62cf9884d1c9d332e51f0dc56f5": {
      "model_module": "@jupyter-widgets/base",
      "model_module_version": "2.0.0",
      "model_name": "LayoutModel",
      "state": {}
     },
     "d8d2276f0a00449bb2143356dfb4cef5": {
      "model_module": "@jupyter-widgets/controls",
      "model_module_version": "2.0.0",
      "model_name": "ButtonStyleModel",
      "state": {
       "font_family": null,
       "font_size": null,
       "font_style": null,
       "font_variant": null,
       "font_weight": null,
       "text_color": null,
       "text_decoration": null
      }
     },
     "d9cb5e8ed4ff441cb4f99b3f52f6c35a": {
      "model_module": "@jupyter-widgets/base",
      "model_module_version": "2.0.0",
      "model_name": "LayoutModel",
      "state": {}
     },
     "da07f9bde0d643ff8f2ec619533e08ad": {
      "model_module": "@jupyter-widgets/controls",
      "model_module_version": "2.0.0",
      "model_name": "ButtonStyleModel",
      "state": {
       "font_family": null,
       "font_size": null,
       "font_style": null,
       "font_variant": null,
       "font_weight": null,
       "text_color": null,
       "text_decoration": null
      }
     },
     "da3ac4bb6d6c494ea068c551e59cfdb6": {
      "model_module": "@jupyter-widgets/controls",
      "model_module_version": "2.0.0",
      "model_name": "HTMLModel",
      "state": {
       "layout": "IPY_MODEL_3cb742353dc949c78309d68992556406",
       "style": "IPY_MODEL_fb3e4a6509bd4bfc88661b819f8fe5c4",
       "value": "Dead Bug"
      }
     },
     "daaaedbd1fca490e8d610fd8b5df6b8f": {
      "model_module": "@jupyter-widgets/controls",
      "model_module_version": "2.0.0",
      "model_name": "BoxModel",
      "state": {
       "children": [
        "IPY_MODEL_e04dd6b7bb4d48b0b89659eebc229bf7",
        "IPY_MODEL_fb2ecc700e274f7d86089b5602171494"
       ],
       "layout": "IPY_MODEL_9c54c46fb00b4f0b9e40bac7b0c70e55"
      }
     },
     "dae121f7e5994c83849bd173540d8df0": {
      "model_module": "@jupyter-widgets/base",
      "model_module_version": "2.0.0",
      "model_name": "LayoutModel",
      "state": {}
     },
     "daf46f48940f46e3924331b9371d9f54": {
      "model_module": "@jupyter-widgets/base",
      "model_module_version": "2.0.0",
      "model_name": "LayoutModel",
      "state": {}
     },
     "db21abc92eb244a983ecc11f0ea52efc": {
      "model_module": "@jupyter-widgets/base",
      "model_module_version": "2.0.0",
      "model_name": "LayoutModel",
      "state": {
       "align_items": "stretch",
       "display": "flex",
       "flex_flow": "row",
       "justify_content": "space-around",
       "width": "70%"
      }
     },
     "db773482617b4379859d89a5d03b00b8": {
      "model_module": "@jupyter-widgets/controls",
      "model_module_version": "2.0.0",
      "model_name": "HTMLModel",
      "state": {
       "layout": "IPY_MODEL_f76b565273484ef0ac76874a4e775626",
       "style": "IPY_MODEL_de1acaa48d2444c48c8bec16cfd9bde5",
       "value": "<h2>Exercise Category</h2>"
      }
     },
     "db91c690cba6485d9d353dea455357c3": {
      "model_module": "@jupyter-widgets/controls",
      "model_module_version": "2.0.0",
      "model_name": "HBoxModel",
      "state": {
       "children": [
        "IPY_MODEL_5c12d4a84bcd442a85e8b934917705ed"
       ],
       "layout": "IPY_MODEL_1b200451b79f4c3fb8ce8479c2b6e30a"
      }
     },
     "dbdb54c0fcd34ad290ba0a3a312ea145": {
      "model_module": "@jupyter-widgets/base",
      "model_module_version": "2.0.0",
      "model_name": "LayoutModel",
      "state": {
       "height": "55px",
       "width": "80px"
      }
     },
     "dc4b319e1c7b48fa8245747771f5971b": {
      "model_module": "@jupyter-widgets/base",
      "model_module_version": "2.0.0",
      "model_name": "LayoutModel",
      "state": {
       "align_items": "stretch",
       "display": "flex",
       "flex_flow": "row",
       "justify_content": "space-around",
       "width": "70%"
      }
     },
     "dc5fe11a09f8400f9afba924e7513fbb": {
      "model_module": "@jupyter-widgets/base",
      "model_module_version": "2.0.0",
      "model_name": "LayoutModel",
      "state": {
       "height": "55px",
       "width": "120px"
      }
     },
     "dc5ff30a2509446aa0ae4d18a81394c0": {
      "model_module": "@jupyter-widgets/controls",
      "model_module_version": "2.0.0",
      "model_name": "CheckboxModel",
      "state": {
       "description": "machine",
       "disabled": false,
       "indent": false,
       "layout": "IPY_MODEL_301d298de0344af4b2352b95cab6047a",
       "style": "IPY_MODEL_c0a523b508c2447cac2b2188ce72e8fa",
       "value": true
      }
     },
     "dc65abab050e45979eb3768ed78f3d41": {
      "model_module": "@jupyter-widgets/controls",
      "model_module_version": "2.0.0",
      "model_name": "ButtonModel",
      "state": {
       "description": "Instruction",
       "icon": "comment",
       "layout": "IPY_MODEL_046ebb5367f6492ca0f9308e10006e22",
       "style": "IPY_MODEL_872644bed41a4c7d8c8146d314da9f7b",
       "tooltip": "354"
      }
     },
     "dca970d0ab234901a56d29abe9d931aa": {
      "model_module": "@jupyter-widgets/controls",
      "model_module_version": "2.0.0",
      "model_name": "CheckboxModel",
      "state": {
       "description": "plyometrics",
       "disabled": false,
       "indent": false,
       "layout": "IPY_MODEL_1e235eb0ac044f3bb7f78adaaf2d0b5f",
       "style": "IPY_MODEL_a4d63b9da3ae4049b92500e8dc6338fb",
       "value": true
      }
     },
     "dccf29abc00c48e5b1b1feea3a78f95b": {
      "model_module": "@jupyter-widgets/controls",
      "model_module_version": "2.0.0",
      "model_name": "CheckboxModel",
      "state": {
       "description": "olympic weightlifting",
       "disabled": false,
       "indent": false,
       "layout": "IPY_MODEL_a56fb7bcb2c841bba23a56a7cef18958",
       "style": "IPY_MODEL_d66cf0acf7b14bc2bf7783eca63dd912",
       "value": true
      }
     },
     "dd10a2540ebe48b29b4cb458d99c9473": {
      "model_module": "@jupyter-widgets/controls",
      "model_module_version": "2.0.0",
      "model_name": "HTMLModel",
      "state": {
       "layout": "IPY_MODEL_dae121f7e5994c83849bd173540d8df0",
       "style": "IPY_MODEL_b4c9c73239f94e73956d0d8e38485287",
       "value": "<h2>Equipment List</h2>"
      }
     },
     "dd2f99c9b19e4b76ae6281e95772a7be": {
      "model_module": "@jupyter-widgets/controls",
      "model_module_version": "2.0.0",
      "model_name": "VBoxModel",
      "state": {
       "children": [
        "IPY_MODEL_f6c22eec729246e3ae3eaf8bd63742f9",
        "IPY_MODEL_6055dcceee2f44f68a903aaea3d182a0"
       ],
       "layout": "IPY_MODEL_80b1d06ff70647df887367ce1d1dcf1b"
      }
     },
     "dd49d92600534360826aea4239b9960c": {
      "model_module": "@jupyter-widgets/controls",
      "model_module_version": "2.0.0",
      "model_name": "HTMLModel",
      "state": {
       "layout": "IPY_MODEL_896f8c179d9544f6ab6d3b68f1e31b26",
       "style": "IPY_MODEL_d14d30f4946e40448c2d95abdfa9d84e",
       "value": "Straight Bar Bench Mid Rows"
      }
     },
     "dd5e51b2662f42db92e559db5bc24d74": {
      "model_module": "@jupyter-widgets/controls",
      "model_module_version": "2.0.0",
      "model_name": "VBoxModel",
      "state": {
       "children": [
        "IPY_MODEL_cf5852616bd8457eb33eb7cd0ea0d48f",
        "IPY_MODEL_374309dfcbc044ffb0904222ebf3508b"
       ],
       "layout": "IPY_MODEL_0e77bf4c3de34ffa9459a5fdcbc56421"
      }
     },
     "dd5ee18a0d384fb1a931ded97999f56e": {
      "model_module": "@jupyter-widgets/base",
      "model_module_version": "2.0.0",
      "model_name": "LayoutModel",
      "state": {}
     },
     "dd8729a48eb540f38ffa2c20cbcb1525": {
      "model_module": "@jupyter-widgets/controls",
      "model_module_version": "2.0.0",
      "model_name": "ButtonModel",
      "state": {
       "description": "Instruction",
       "icon": "comment",
       "layout": "IPY_MODEL_ff2c1f2fe22f4e8da9cb48fd967acbd8",
       "style": "IPY_MODEL_e32bbd97e6fe4d7d9fee8fb9a20b9ca9",
       "tooltip": "460"
      }
     },
     "dddc96991fd64677b03e53e78da08410": {
      "model_module": "@jupyter-widgets/base",
      "model_module_version": "2.0.0",
      "model_name": "LayoutModel",
      "state": {
       "height": "40px",
       "width": "160px"
      }
     },
     "de1acaa48d2444c48c8bec16cfd9bde5": {
      "model_module": "@jupyter-widgets/controls",
      "model_module_version": "2.0.0",
      "model_name": "HTMLStyleModel",
      "state": {
       "description_width": "",
       "font_size": null,
       "text_color": null
      }
     },
     "deb1b34bb05c423aa465d96ea31fedb9": {
      "model_module": "@jupyter-widgets/controls",
      "model_module_version": "2.0.0",
      "model_name": "HTMLModel",
      "state": {
       "layout": "IPY_MODEL_a4fd9a44f88a479b8b6a15f80b4e6aca",
       "style": "IPY_MODEL_f791cd1aab5d40cab3822368a803302c",
       "value": "<h3>Core</h3>"
      }
     },
     "deff5f1616214013a5c0edfe0335e259": {
      "model_module": "@jupyter-widgets/base",
      "model_module_version": "2.0.0",
      "model_name": "LayoutModel",
      "state": {}
     },
     "df162249192445eaa2f766257de3d675": {
      "model_module": "@jupyter-widgets/controls",
      "model_module_version": "2.0.0",
      "model_name": "ButtonStyleModel",
      "state": {
       "font_family": null,
       "font_size": null,
       "font_style": null,
       "font_variant": null,
       "font_weight": null,
       "text_color": null,
       "text_decoration": null
      }
     },
     "df2276506736489dbb5cb665703edce9": {
      "model_module": "@jupyter-widgets/controls",
      "model_module_version": "2.0.0",
      "model_name": "CheckboxModel",
      "state": {
       "description": "kettlebells",
       "disabled": false,
       "indent": false,
       "layout": "IPY_MODEL_f96214cf0b7d41d18024d5d22f901c04",
       "style": "IPY_MODEL_be050873787c4389b24f477a6dc4f9a9",
       "value": true
      }
     },
     "df44c4b2a0ef49caa08fb5e2140cbada": {
      "model_module": "@jupyter-widgets/controls",
      "model_module_version": "2.0.0",
      "model_name": "VBoxModel",
      "state": {
       "children": [
        "IPY_MODEL_e870ab104b52492ead2ac2c373748d40",
        "IPY_MODEL_e65e2d6f596742a2a3c5be4bb2afd854"
       ],
       "layout": "IPY_MODEL_e22857967b1745cf8ef8412abca03fe9"
      }
     },
     "df54c2849f1e4e11a7b33f0310dd7d4d": {
      "model_module": "@jupyter-widgets/controls",
      "model_module_version": "2.0.0",
      "model_name": "ButtonStyleModel",
      "state": {
       "font_family": null,
       "font_size": null,
       "font_style": null,
       "font_variant": null,
       "font_weight": null,
       "text_color": null,
       "text_decoration": null
      }
     },
     "df62c20821ad494d8abce14d0f3a7137": {
      "model_module": "@jupyter-widgets/controls",
      "model_module_version": "2.0.0",
      "model_name": "ButtonStyleModel",
      "state": {
       "font_family": null,
       "font_size": null,
       "font_style": null,
       "font_variant": null,
       "font_weight": null,
       "text_color": null,
       "text_decoration": null
      }
     },
     "df6b17dc919f47739b347c29147a47c5": {
      "model_module": "@jupyter-widgets/base",
      "model_module_version": "2.0.0",
      "model_name": "LayoutModel",
      "state": {}
     },
     "df78e8d46a264d6ab30a2da66081352d": {
      "model_module": "@jupyter-widgets/base",
      "model_module_version": "2.0.0",
      "model_name": "LayoutModel",
      "state": {}
     },
     "dfa03a0bb7d842c78293efa5ca062c01": {
      "model_module": "@jupyter-widgets/base",
      "model_module_version": "2.0.0",
      "model_name": "LayoutModel",
      "state": {
       "height": "55px",
       "width": "80px"
      }
     },
     "dfa27d1ab3da4e98941e263bdfff03db": {
      "model_module": "@jupyter-widgets/base",
      "model_module_version": "2.0.0",
      "model_name": "LayoutModel",
      "state": {}
     },
     "dfb0776d8f9f4789bbdc3d76ba2bf463": {
      "model_module": "@jupyter-widgets/base",
      "model_module_version": "2.0.0",
      "model_name": "LayoutModel",
      "state": {}
     },
     "dfb5ccc9045442688e08ab097962649a": {
      "model_module": "@jupyter-widgets/base",
      "model_module_version": "2.0.0",
      "model_name": "LayoutModel",
      "state": {}
     },
     "dfba9533b9c2498b9508c7e24a6922dd": {
      "model_module": "@jupyter-widgets/base",
      "model_module_version": "2.0.0",
      "model_name": "LayoutModel",
      "state": {
       "align_items": "stretch",
       "display": "flex",
       "flex_flow": "row",
       "justify_content": "space-around",
       "width": "40%"
      }
     },
     "dfd158ed6ebd4bf58300c629d8f7ee1f": {
      "model_module": "@jupyter-widgets/base",
      "model_module_version": "2.0.0",
      "model_name": "LayoutModel",
      "state": {
       "height": "40px",
       "width": "160px"
      }
     },
     "dfe814159ed243c2bdfd49e2b4aa4ad8": {
      "model_module": "@jupyter-widgets/controls",
      "model_module_version": "2.0.0",
      "model_name": "VBoxModel",
      "state": {
       "children": [
        "IPY_MODEL_80255425f83e41018cc371871d85b4ce",
        "IPY_MODEL_dc65abab050e45979eb3768ed78f3d41"
       ],
       "layout": "IPY_MODEL_dfb5ccc9045442688e08ab097962649a"
      }
     },
     "e00f136739d24d5882f7b3a0db81ccf5": {
      "model_module": "@jupyter-widgets/controls",
      "model_module_version": "2.0.0",
      "model_name": "ButtonStyleModel",
      "state": {
       "font_family": null,
       "font_size": null,
       "font_style": null,
       "font_variant": null,
       "font_weight": null,
       "text_color": null,
       "text_decoration": null
      }
     },
     "e03fde1a2265409eb16db2ccfd788d6d": {
      "model_module": "@jupyter-widgets/controls",
      "model_module_version": "2.0.0",
      "model_name": "CheckboxStyleModel",
      "state": {
       "description_width": ""
      }
     },
     "e04dd6b7bb4d48b0b89659eebc229bf7": {
      "model_module": "@jupyter-widgets/controls",
      "model_module_version": "2.0.0",
      "model_name": "HBoxModel",
      "state": {
       "children": [
        "IPY_MODEL_ef18097c6cdd44f8be20a58db452f86c"
       ],
       "layout": "IPY_MODEL_aa29213aee0247c780d7026f426939cc"
      }
     },
     "e076d646194449408875579f521c462e": {
      "model_module": "@jupyter-widgets/controls",
      "model_module_version": "2.0.0",
      "model_name": "ButtonModel",
      "state": {
       "description": "Instruction",
       "icon": "comment",
       "layout": "IPY_MODEL_f6e34b5715784b5eb61e70a8368da623",
       "style": "IPY_MODEL_6d78e042ba924f71a3ba7bd62a6e061d",
       "tooltip": "405"
      }
     },
     "e077a95104684f6b92bbbf452409b879": {
      "model_module": "@jupyter-widgets/controls",
      "model_module_version": "2.0.0",
      "model_name": "VBoxModel",
      "state": {
       "children": [
        "IPY_MODEL_9d376318853d4885beba44704a111840"
       ],
       "layout": "IPY_MODEL_65ee2532d5174f6299c974c589bfb750"
      }
     },
     "e07ca2cf6ef548218856924b40794387": {
      "model_module": "@jupyter-widgets/base",
      "model_module_version": "2.0.0",
      "model_name": "LayoutModel",
      "state": {}
     },
     "e089c868106c4c0da97daa5a698cb301": {
      "model_module": "@jupyter-widgets/base",
      "model_module_version": "2.0.0",
      "model_name": "LayoutModel",
      "state": {
       "height": "40px",
       "width": "160px"
      }
     },
     "e0a3425b44334a268bb17598ec244aa7": {
      "model_module": "@jupyter-widgets/controls",
      "model_module_version": "2.0.0",
      "model_name": "VBoxModel",
      "state": {
       "children": [
        "IPY_MODEL_602dc6a826ae4f6ca16fad8db2780656",
        "IPY_MODEL_0ead5af731294a14886484cb0f8664b2"
       ],
       "layout": "IPY_MODEL_91f8cd53745f4d23af4a72c03397c2bc"
      }
     },
     "e0b0b1fed4ee41d284841521bbe56833": {
      "model_module": "@jupyter-widgets/controls",
      "model_module_version": "2.0.0",
      "model_name": "HTMLModel",
      "state": {
       "layout": "IPY_MODEL_fb496783ba1b4747adb8c94c35342a7b",
       "style": "IPY_MODEL_413711df9fdd4c1a905e250a5e7b0bfc",
       "value": "<h5>\"Close Tab to Exit\"</h5>"
      }
     },
     "e0b35b0b07b440209c8a8c01a02c0ba9": {
      "model_module": "@jupyter-widgets/base",
      "model_module_version": "2.0.0",
      "model_name": "LayoutModel",
      "state": {}
     },
     "e0c135ea4b3d43558ed50e02e3d73ff0": {
      "model_module": "@jupyter-widgets/controls",
      "model_module_version": "2.0.0",
      "model_name": "VBoxModel",
      "state": {
       "layout": "IPY_MODEL_6af026adcdd7460c91b4bd0d50b40c13"
      }
     },
     "e0cf9664d3444996b3a273e513287adf": {
      "model_module": "@jupyter-widgets/controls",
      "model_module_version": "2.0.0",
      "model_name": "HTMLStyleModel",
      "state": {
       "description_width": "",
       "font_size": null,
       "text_color": null
      }
     },
     "e0eb77e13b054c6e8cadfcdf7410dd54": {
      "model_module": "@jupyter-widgets/base",
      "model_module_version": "2.0.0",
      "model_name": "LayoutModel",
      "state": {
       "height": "40px",
       "width": "160px"
      }
     },
     "e11c71b42afb41108c9061c016e97cd1": {
      "model_module": "@jupyter-widgets/controls",
      "model_module_version": "2.0.0",
      "model_name": "ButtonStyleModel",
      "state": {
       "font_family": null,
       "font_size": null,
       "font_style": null,
       "font_variant": null,
       "font_weight": null,
       "text_color": null,
       "text_decoration": null
      }
     },
     "e14750aeafec4ce998098479d2067427": {
      "model_module": "@jupyter-widgets/controls",
      "model_module_version": "2.0.0",
      "model_name": "CheckboxModel",
      "state": {
       "description": "strength",
       "disabled": false,
       "indent": false,
       "layout": "IPY_MODEL_e0eb77e13b054c6e8cadfcdf7410dd54",
       "style": "IPY_MODEL_0034cb59b4444511945da952198f44ed",
       "value": true
      }
     },
     "e1532c88c6bb484aba10542bdaebe352": {
      "model_module": "@jupyter-widgets/controls",
      "model_module_version": "2.0.0",
      "model_name": "ButtonStyleModel",
      "state": {
       "font_family": null,
       "font_size": null,
       "font_style": null,
       "font_variant": null,
       "font_weight": null,
       "text_color": null,
       "text_decoration": null
      }
     },
     "e156f416b8ee4a0a946596f3528521a7": {
      "model_module": "@jupyter-widgets/base",
      "model_module_version": "2.0.0",
      "model_name": "LayoutModel",
      "state": {
       "height": "55px",
       "width": "120px"
      }
     },
     "e17add2e0261415da473b8606362442c": {
      "model_module": "@jupyter-widgets/base",
      "model_module_version": "2.0.0",
      "model_name": "LayoutModel",
      "state": {
       "height": "40px",
       "width": "160px"
      }
     },
     "e1d672d1d3514fb5bda0aea0e40feafc": {
      "model_module": "@jupyter-widgets/base",
      "model_module_version": "2.0.0",
      "model_name": "LayoutModel",
      "state": {}
     },
     "e2142d2a3c30410ab9f217b7e8390ace": {
      "model_module": "@jupyter-widgets/controls",
      "model_module_version": "2.0.0",
      "model_name": "HTMLStyleModel",
      "state": {
       "description_width": "",
       "font_size": null,
       "text_color": null
      }
     },
     "e22857967b1745cf8ef8412abca03fe9": {
      "model_module": "@jupyter-widgets/base",
      "model_module_version": "2.0.0",
      "model_name": "LayoutModel",
      "state": {}
     },
     "e28026a386a8419daaf8b014194b1add": {
      "model_module": "@jupyter-widgets/base",
      "model_module_version": "2.0.0",
      "model_name": "LayoutModel",
      "state": {}
     },
     "e2e47568b0e74c8290a63d542426008e": {
      "model_module": "@jupyter-widgets/controls",
      "model_module_version": "2.0.0",
      "model_name": "HTMLStyleModel",
      "state": {
       "description_width": "",
       "font_size": null,
       "text_color": null
      }
     },
     "e2f2ffbe66104397b4ef2f5521c7efac": {
      "model_module": "@jupyter-widgets/controls",
      "model_module_version": "2.0.0",
      "model_name": "HTMLStyleModel",
      "state": {
       "description_width": "",
       "font_size": null,
       "text_color": null
      }
     },
     "e31a711d282b4cf4b42a485318818c76": {
      "model_module": "@jupyter-widgets/base",
      "model_module_version": "2.0.0",
      "model_name": "LayoutModel",
      "state": {}
     },
     "e31f925a3dd8453db9458df5ea38ca9a": {
      "model_module": "@jupyter-widgets/base",
      "model_module_version": "2.0.0",
      "model_name": "LayoutModel",
      "state": {
       "height": "40px",
       "width": "160px"
      }
     },
     "e32bbd97e6fe4d7d9fee8fb9a20b9ca9": {
      "model_module": "@jupyter-widgets/controls",
      "model_module_version": "2.0.0",
      "model_name": "ButtonStyleModel",
      "state": {
       "font_family": null,
       "font_size": null,
       "font_style": null,
       "font_variant": null,
       "font_weight": null,
       "text_color": null,
       "text_decoration": null
      }
     },
     "e349fe621d9e4ea3ac78fe5ab713e6e9": {
      "model_module": "@jupyter-widgets/controls",
      "model_module_version": "2.0.0",
      "model_name": "CheckboxStyleModel",
      "state": {
       "description_width": ""
      }
     },
     "e3a20c43e12a46af84ac8e57a04117d8": {
      "model_module": "@jupyter-widgets/controls",
      "model_module_version": "2.0.0",
      "model_name": "HBoxModel",
      "state": {
       "children": [
        "IPY_MODEL_e68204cb33b04c7d8c484df6d1863c8b"
       ],
       "layout": "IPY_MODEL_1fcd6926edf84693bf4c44c62f5230ad"
      }
     },
     "e3f7bee657db48d78135f5081b7f3670": {
      "model_module": "@jupyter-widgets/controls",
      "model_module_version": "2.0.0",
      "model_name": "CheckboxModel",
      "state": {
       "description": "barbell",
       "disabled": false,
       "indent": false,
       "layout": "IPY_MODEL_1db6ce9fc840423997080ae2d877b25e",
       "style": "IPY_MODEL_a929ae98a3a7486eb94c984fc007d60a",
       "value": true
      }
     },
     "e4045e8a7f2d4d78b7ac2246eeff3098": {
      "model_module": "@jupyter-widgets/base",
      "model_module_version": "2.0.0",
      "model_name": "LayoutModel",
      "state": {
       "height": "55px",
       "width": "120px"
      }
     },
     "e40ba3b80f9941159448ca9f37fbd03b": {
      "model_module": "@jupyter-widgets/controls",
      "model_module_version": "2.0.0",
      "model_name": "CheckboxModel",
      "state": {
       "description": "cardio",
       "disabled": false,
       "indent": false,
       "layout": "IPY_MODEL_01c0d4babcec490b8e830be43cb9d961",
       "style": "IPY_MODEL_4d2ebd8d5b8e420fa0cf1a0f47907811",
       "value": true
      }
     },
     "e418b3faf8b64c0b95cf321304ce4e1f": {
      "model_module": "@jupyter-widgets/base",
      "model_module_version": "2.0.0",
      "model_name": "LayoutModel",
      "state": {}
     },
     "e4342c1fda3c4a58825002f03c620845": {
      "model_module": "@jupyter-widgets/base",
      "model_module_version": "2.0.0",
      "model_name": "LayoutModel",
      "state": {
       "height": "40px",
       "width": "160px"
      }
     },
     "e439071cec7a41f38bd40599e4fb11f2": {
      "model_module": "@jupyter-widgets/controls",
      "model_module_version": "2.0.0",
      "model_name": "CheckboxModel",
      "state": {
       "description": "bands",
       "disabled": false,
       "indent": false,
       "layout": "IPY_MODEL_42538d3548e44b8db02cd03bed0ab94e",
       "style": "IPY_MODEL_507a065aaa144feb9ffaa406c2c8fddd",
       "value": false
      }
     },
     "e46db6b604bb4362a23ec78c1eb6640f": {
      "model_module": "@jupyter-widgets/controls",
      "model_module_version": "2.0.0",
      "model_name": "ButtonModel",
      "state": {
       "description": "Instruction",
       "icon": "comment",
       "layout": "IPY_MODEL_08969465a2db4ec2ac99b827d624fefb",
       "style": "IPY_MODEL_7b6073afbca3436ab851a49ab8137823",
       "tooltip": "182"
      }
     },
     "e49de412a7d24966b046ec1dd1668a5d": {
      "model_module": "@jupyter-widgets/controls",
      "model_module_version": "2.0.0",
      "model_name": "HTMLStyleModel",
      "state": {
       "description_width": "",
       "font_size": null,
       "text_color": null
      }
     },
     "e4c60e9bea04488dae268ff1354143e6": {
      "model_module": "@jupyter-widgets/base",
      "model_module_version": "2.0.0",
      "model_name": "LayoutModel",
      "state": {}
     },
     "e4d0fe855e324bcca0d1580c23718042": {
      "model_module": "@jupyter-widgets/controls",
      "model_module_version": "2.0.0",
      "model_name": "CheckboxModel",
      "state": {
       "description": "strongman",
       "disabled": false,
       "indent": false,
       "layout": "IPY_MODEL_138fdbb8aae5410da5a95f0f4f58633b",
       "style": "IPY_MODEL_518f350014af47498deb9ae6408c9dd1",
       "value": true
      }
     },
     "e4f37bc239ea470e9bffdb487c96d7fb": {
      "model_module": "@jupyter-widgets/controls",
      "model_module_version": "2.0.0",
      "model_name": "CheckboxStyleModel",
      "state": {
       "description_width": ""
      }
     },
     "e502ba58ac3b4b7897ab5cf523fc2c91": {
      "model_module": "@jupyter-widgets/controls",
      "model_module_version": "2.0.0",
      "model_name": "HBoxModel",
      "state": {
       "children": [
        "IPY_MODEL_485321d4a0e74c88ab395192821e7e4f"
       ],
       "layout": "IPY_MODEL_b3b693aaaa924701b44d43780550128b"
      }
     },
     "e50ffe8eeb8a48f8af46cfdf3d7f1b75": {
      "model_module": "@jupyter-widgets/controls",
      "model_module_version": "2.0.0",
      "model_name": "HTMLStyleModel",
      "state": {
       "description_width": "",
       "font_size": null,
       "text_color": null
      }
     },
     "e51f615b4e1c4aaaad26769c69a2f666": {
      "model_module": "@jupyter-widgets/controls",
      "model_module_version": "2.0.0",
      "model_name": "DropdownModel",
      "state": {
       "_options_labels": [
        "One",
        "Two",
        "Three",
        "Four",
        "Five"
       ],
       "index": 1,
       "layout": "IPY_MODEL_1b0540cc92de473db48ec37e5d244fb3",
       "style": "IPY_MODEL_c437181962934f9a9aca2ebb59829424"
      }
     },
     "e5b1ec535f5e4471904c894d663dc715": {
      "model_module": "@jupyter-widgets/controls",
      "model_module_version": "2.0.0",
      "model_name": "BoxModel",
      "state": {
       "children": [
        "IPY_MODEL_f98ab53a2b9341bf9121ac62cf701326",
        "IPY_MODEL_ab5cfab4fab547b2808d17eaf1fd35e8"
       ],
       "layout": "IPY_MODEL_cac4cf1939c64f129af9315416c127a2"
      }
     },
     "e5cf6f25da3b454696ea708e06cfa7fa": {
      "model_module": "@jupyter-widgets/controls",
      "model_module_version": "2.0.0",
      "model_name": "ButtonStyleModel",
      "state": {
       "font_family": null,
       "font_size": null,
       "font_style": null,
       "font_variant": null,
       "font_weight": null,
       "text_color": null,
       "text_decoration": null
      }
     },
     "e5db6813df834ac49a8191cc309383a9": {
      "model_module": "@jupyter-widgets/controls",
      "model_module_version": "2.0.0",
      "model_name": "HTMLModel",
      "state": {
       "layout": "IPY_MODEL_ff2d941fc1f94b4aa6afa1f116445e3b",
       "style": "IPY_MODEL_a883505250a8456692a082b0d9010c98",
       "value": "<h3>Core</h3>"
      }
     },
     "e5f7fc51a4c84050aa7114907a5d0427": {
      "model_module": "@jupyter-widgets/base",
      "model_module_version": "2.0.0",
      "model_name": "LayoutModel",
      "state": {}
     },
     "e60641ce7b784f038ed0ec515999a7f4": {
      "model_module": "@jupyter-widgets/controls",
      "model_module_version": "2.0.0",
      "model_name": "CheckboxModel",
      "state": {
       "description": "barbell",
       "disabled": false,
       "indent": false,
       "layout": "IPY_MODEL_634957e88a864a29a37a08f6c3120bcf",
       "style": "IPY_MODEL_88a6b0be38fb47548fb6d5c411cf44f8",
       "value": false
      }
     },
     "e6105c0a73a7499aab5770ce432e6dde": {
      "model_module": "@jupyter-widgets/base",
      "model_module_version": "2.0.0",
      "model_name": "LayoutModel",
      "state": {
       "height": "40px",
       "width": "160px"
      }
     },
     "e643d32715f347b49b5b9eb8d4a1ed44": {
      "model_module": "@jupyter-widgets/controls",
      "model_module_version": "2.0.0",
      "model_name": "ButtonStyleModel",
      "state": {
       "font_family": null,
       "font_size": null,
       "font_style": null,
       "font_variant": null,
       "font_weight": null,
       "text_color": null,
       "text_decoration": null
      }
     },
     "e65e2d6f596742a2a3c5be4bb2afd854": {
      "model_module": "@jupyter-widgets/controls",
      "model_module_version": "2.0.0",
      "model_name": "BoxModel",
      "state": {
       "children": [
        "IPY_MODEL_79367142b5064e25aa53d28656c1f8fc",
        "IPY_MODEL_9c0bcd87052e4d8db03a382c0e634c24"
       ],
       "layout": "IPY_MODEL_19ec69ac99c44e49a9f9d7ee47079fa2"
      }
     },
     "e663b96aff7440eb88e78f2f6d5e92da": {
      "model_module": "@jupyter-widgets/controls",
      "model_module_version": "2.0.0",
      "model_name": "HTMLStyleModel",
      "state": {
       "description_width": "",
       "font_size": null,
       "text_color": null
      }
     },
     "e68204cb33b04c7d8c484df6d1863c8b": {
      "model_module": "@jupyter-widgets/controls",
      "model_module_version": "2.0.0",
      "model_name": "HBoxModel",
      "state": {
       "children": [
        "IPY_MODEL_a27eafc2588a4ccdb20c184f1f246d59"
       ],
       "layout": "IPY_MODEL_853b086b892f493fb445f18832948b36"
      }
     },
     "e6821d1d73aa4ffe8722dba1c6d92d21": {
      "model_module": "@jupyter-widgets/base",
      "model_module_version": "2.0.0",
      "model_name": "LayoutModel",
      "state": {}
     },
     "e6b9765561ae49719cf9e51d8cd065ce": {
      "model_module": "@jupyter-widgets/base",
      "model_module_version": "2.0.0",
      "model_name": "LayoutModel",
      "state": {
       "height": "55px",
       "width": "120px"
      }
     },
     "e7260c5f3e3a42cd87c7c7e73a376791": {
      "model_module": "@jupyter-widgets/base",
      "model_module_version": "2.0.0",
      "model_name": "LayoutModel",
      "state": {}
     },
     "e740111fa9f149168620d05e027db5b3": {
      "model_module": "@jupyter-widgets/base",
      "model_module_version": "2.0.0",
      "model_name": "LayoutModel",
      "state": {}
     },
     "e79701b9904b4074b6ae6c8ee526458d": {
      "model_module": "@jupyter-widgets/controls",
      "model_module_version": "2.0.0",
      "model_name": "ButtonModel",
      "state": {
       "description": "Body Area",
       "layout": "IPY_MODEL_79bc4c41e9a64796be1818a07b34fae9",
       "style": "IPY_MODEL_c6a361c112684a7b8ad8d1eb30224d32",
       "tooltip": null
      }
     },
     "e7a7dc43a7e14433acadf0b95a9abf79": {
      "model_module": "@jupyter-widgets/base",
      "model_module_version": "2.0.0",
      "model_name": "LayoutModel",
      "state": {
       "height": "40px",
       "width": "160px"
      }
     },
     "e7a84c7f5b7342af8ad60cf9e6b81c44": {
      "model_module": "@jupyter-widgets/controls",
      "model_module_version": "2.0.0",
      "model_name": "HTMLStyleModel",
      "state": {
       "description_width": "",
       "font_size": null,
       "text_color": null
      }
     },
     "e7bc6b6bc703432399793ec0c3de9383": {
      "model_module": "@jupyter-widgets/base",
      "model_module_version": "2.0.0",
      "model_name": "LayoutModel",
      "state": {}
     },
     "e7d5fdfb730840088a03d127e5187f68": {
      "model_module": "@jupyter-widgets/controls",
      "model_module_version": "2.0.0",
      "model_name": "ButtonModel",
      "state": {
       "description": "Sample Size",
       "layout": "IPY_MODEL_9d6d603e894f4a86af982e44aa8f6d82",
       "style": "IPY_MODEL_b63750967cbe4e4dbfc6b3ab83193c4d",
       "tooltip": null
      }
     },
     "e7ff832ca8704876ad7c9595e02f07f5": {
      "model_module": "@jupyter-widgets/controls",
      "model_module_version": "2.0.0",
      "model_name": "ButtonStyleModel",
      "state": {
       "font_family": null,
       "font_size": null,
       "font_style": null,
       "font_variant": null,
       "font_weight": null,
       "text_color": null,
       "text_decoration": null
      }
     },
     "e806f86b3f5a40df813e0511a6ddf635": {
      "model_module": "@jupyter-widgets/controls",
      "model_module_version": "2.0.0",
      "model_name": "HTMLModel",
      "state": {
       "layout": "IPY_MODEL_bc784dd79b954d568f47e91fe3dcd0d5",
       "style": "IPY_MODEL_c8bc422ad852462aa243dcdce9fa76fb",
       "value": "Bent-Arm Dumbbell Pullover"
      }
     },
     "e870ab104b52492ead2ac2c373748d40": {
      "model_module": "@jupyter-widgets/controls",
      "model_module_version": "2.0.0",
      "model_name": "HBoxModel",
      "state": {
       "children": [
        "IPY_MODEL_89783e5b3191455ea19a65557f4a777e"
       ],
       "layout": "IPY_MODEL_ce134ccd5d014874bf23d7d2cbfc1563"
      }
     },
     "e8936112563248ada1484cff8ee265e4": {
      "model_module": "@jupyter-widgets/controls",
      "model_module_version": "2.0.0",
      "model_name": "CheckboxStyleModel",
      "state": {
       "description_width": ""
      }
     },
     "e8bff540bb5347ee85c2561032491f5f": {
      "model_module": "@jupyter-widgets/base",
      "model_module_version": "2.0.0",
      "model_name": "LayoutModel",
      "state": {}
     },
     "e8ca39798d0040fdbb4a9b95968d6067": {
      "model_module": "@jupyter-widgets/controls",
      "model_module_version": "2.0.0",
      "model_name": "CheckboxStyleModel",
      "state": {
       "description_width": ""
      }
     },
     "e8f7295ed85b49eda8d67e296f224534": {
      "model_module": "@jupyter-widgets/base",
      "model_module_version": "2.0.0",
      "model_name": "LayoutModel",
      "state": {
       "align_items": "stretch",
       "display": "flex",
       "flex_flow": "row",
       "justify_content": "space-around",
       "width": "70%"
      }
     },
     "e8f7ebfdaae043a5ae655dae9a325689": {
      "model_module": "@jupyter-widgets/controls",
      "model_module_version": "2.0.0",
      "model_name": "ButtonModel",
      "state": {
       "description": "Run",
       "layout": "IPY_MODEL_1b4e04af5e80406c98d4f5dfda47898c",
       "style": "IPY_MODEL_554a63ca58cc4ac7bf5779323c4d363c",
       "tooltip": null
      }
     },
     "e930a84efbea434b9fc7e2a62bf2aa4a": {
      "model_module": "@jupyter-widgets/controls",
      "model_module_version": "2.0.0",
      "model_name": "HTMLModel",
      "state": {
       "layout": "IPY_MODEL_c6e2349a9c814bbb925568303994f12d",
       "style": "IPY_MODEL_136a87f0598e4705b2aaff4677c70bca",
       "value": "Cable Reverse Crunch"
      }
     },
     "e96dae38b59e499e82b53333a10912d0": {
      "model_module": "@jupyter-widgets/controls",
      "model_module_version": "2.0.0",
      "model_name": "ButtonModel",
      "state": {
       "description": "Instruction",
       "icon": "comment",
       "layout": "IPY_MODEL_c18a679f44dc4011ba4100b2c43ad017",
       "style": "IPY_MODEL_b87bacc84b144f94b7f49ea43752a373",
       "tooltip": "565"
      }
     },
     "e994b43e9790483bb13a2962746d38e7": {
      "model_module": "@jupyter-widgets/base",
      "model_module_version": "2.0.0",
      "model_name": "LayoutModel",
      "state": {
       "height": "40px",
       "width": "160px"
      }
     },
     "e9a57f1cbaea47008f03d89adbfff741": {
      "model_module": "@jupyter-widgets/base",
      "model_module_version": "2.0.0",
      "model_name": "LayoutModel",
      "state": {}
     },
     "e9bd5691ecbb4bdf96a009772233918c": {
      "model_module": "@jupyter-widgets/controls",
      "model_module_version": "2.0.0",
      "model_name": "BoxModel",
      "state": {
       "children": [
        "IPY_MODEL_4679e03c65124184baf41a2ac17fb6d5",
        "IPY_MODEL_25893042c8814002a9810691c14a66bb"
       ],
       "layout": "IPY_MODEL_cf23215d0da44b0f908c5ac0a40c3ea1"
      }
     },
     "ea15614151784484967455dbbba3bf34": {
      "model_module": "@jupyter-widgets/controls",
      "model_module_version": "2.0.0",
      "model_name": "HTMLStyleModel",
      "state": {
       "description_width": "",
       "font_size": null,
       "text_color": null
      }
     },
     "ea3c306e228b4062a43efd4e4bf16ed5": {
      "model_module": "@jupyter-widgets/controls",
      "model_module_version": "2.0.0",
      "model_name": "VBoxModel",
      "state": {
       "children": [
        "IPY_MODEL_868a325155db459f82d7523d1cec5ad6",
        "IPY_MODEL_a955432d139a48a292bdd969829bf9e4"
       ],
       "layout": "IPY_MODEL_a243ee937ee94287a2263dd49c5c4589"
      }
     },
     "ea87f1bdb41e43909171bba0ba7a2fa7": {
      "model_module": "@jupyter-widgets/base",
      "model_module_version": "2.0.0",
      "model_name": "LayoutModel",
      "state": {
       "height": "55px",
       "width": "80px"
      }
     },
     "ea88ee4963974fc0b869071686b309b1": {
      "model_module": "@jupyter-widgets/base",
      "model_module_version": "2.0.0",
      "model_name": "LayoutModel",
      "state": {}
     },
     "eaa9747551ac4cb1956590ca553091ab": {
      "model_module": "@jupyter-widgets/base",
      "model_module_version": "2.0.0",
      "model_name": "LayoutModel",
      "state": {}
     },
     "eaace5cf539d4d00864537862aad38d7": {
      "model_module": "@jupyter-widgets/controls",
      "model_module_version": "2.0.0",
      "model_name": "HTMLStyleModel",
      "state": {
       "description_width": "",
       "font_size": null,
       "text_color": null
      }
     },
     "eacfd1228f8b4ed395892735af2e2ac7": {
      "model_module": "@jupyter-widgets/controls",
      "model_module_version": "2.0.0",
      "model_name": "VBoxModel",
      "state": {
       "children": [
        "IPY_MODEL_f179e0b07ad847e6864a4a45d228eac6",
        "IPY_MODEL_ec185a4bfa0a440eadfdf7563860dcb0"
       ],
       "layout": "IPY_MODEL_a39c5b30beed4e209659088083f825be"
      }
     },
     "eb2ce44bc9274851871a9c2cfa29d168": {
      "model_module": "@jupyter-widgets/controls",
      "model_module_version": "2.0.0",
      "model_name": "HBoxModel",
      "state": {
       "children": [
        "IPY_MODEL_84352bdd70894b119a0875a4f457c6e2"
       ],
       "layout": "IPY_MODEL_6ba3b18f7d3a4c06b9bb3c072be36870"
      }
     },
     "eb9fcc663aa243cd9f96c198216589a6": {
      "model_module": "@jupyter-widgets/base",
      "model_module_version": "2.0.0",
      "model_name": "LayoutModel",
      "state": {}
     },
     "ebbcd82e8106462dab6d80364cf5e22d": {
      "model_module": "@jupyter-widgets/controls",
      "model_module_version": "2.0.0",
      "model_name": "ButtonModel",
      "state": {
       "description": "Close",
       "layout": "IPY_MODEL_37124c742017491599627119de295b19",
       "style": "IPY_MODEL_e5cf6f25da3b454696ea708e06cfa7fa",
       "tooltip": null
      }
     },
     "ebf61aa1eb9b454a8039095946745c16": {
      "model_module": "@jupyter-widgets/controls",
      "model_module_version": "2.0.0",
      "model_name": "CheckboxModel",
      "state": {
       "description": "medicine ball",
       "disabled": false,
       "indent": false,
       "layout": "IPY_MODEL_d53a5a51efd74e48b86eef9faddb462a",
       "style": "IPY_MODEL_759d18c56b174ad5ae2e947d4321d21b",
       "value": true
      }
     },
     "ec185a4bfa0a440eadfdf7563860dcb0": {
      "model_module": "@jupyter-widgets/controls",
      "model_module_version": "2.0.0",
      "model_name": "VBoxModel",
      "state": {
       "children": [
        "IPY_MODEL_abf04ddfc75942d7917d08f221aa3b51",
        "IPY_MODEL_816fcd4a8768406ab89221780136231c",
        "IPY_MODEL_0c068f79574542f9a9988d47c88caa03"
       ],
       "layout": "IPY_MODEL_8dd8fe90365e40f9a8a334c9759edacf"
      }
     },
     "ec44e14aa6224604b2c2052be3fce675": {
      "model_module": "@jupyter-widgets/controls",
      "model_module_version": "2.0.0",
      "model_name": "HTMLModel",
      "state": {
       "layout": "IPY_MODEL_c4eea21e371c4e64b7e0d6c710650fa6",
       "style": "IPY_MODEL_f5b8d3e7ef2a4b5f937d7c5a82793422",
       "value": "<h2>Sample Size</h2>"
      }
     },
     "ec68db6a79fc45ca8cfdb6b7eec88b15": {
      "model_module": "@jupyter-widgets/controls",
      "model_module_version": "2.0.0",
      "model_name": "ButtonStyleModel",
      "state": {
       "font_family": null,
       "font_size": null,
       "font_style": null,
       "font_variant": null,
       "font_weight": null,
       "text_color": null,
       "text_decoration": null
      }
     },
     "ec9ae92870a349f382347964056133cd": {
      "model_module": "@jupyter-widgets/base",
      "model_module_version": "2.0.0",
      "model_name": "LayoutModel",
      "state": {}
     },
     "ecfa0337b64f4af58831f7b5d7398948": {
      "model_module": "@jupyter-widgets/base",
      "model_module_version": "2.0.0",
      "model_name": "LayoutModel",
      "state": {
       "height": "55px",
       "width": "80px"
      }
     },
     "ed149c10a9ed41ff915c7561b79f3b6f": {
      "model_module": "@jupyter-widgets/controls",
      "model_module_version": "2.0.0",
      "model_name": "HTMLStyleModel",
      "state": {
       "description_width": "",
       "font_size": null,
       "text_color": null
      }
     },
     "ed23e2f0d4974230b75f537f6518f063": {
      "model_module": "@jupyter-widgets/controls",
      "model_module_version": "2.0.0",
      "model_name": "ButtonStyleModel",
      "state": {
       "font_family": null,
       "font_size": null,
       "font_style": null,
       "font_variant": null,
       "font_weight": null,
       "text_color": null,
       "text_decoration": null
      }
     },
     "ed48b443e3fc4c5cb5b5214e3edb4f75": {
      "model_module": "@jupyter-widgets/controls",
      "model_module_version": "2.0.0",
      "model_name": "VBoxModel",
      "state": {
       "children": [
        "IPY_MODEL_9cf614556f18410fb76d3d61add20ce3",
        "IPY_MODEL_3627e3898bef461a976dab524efe448c"
       ],
       "layout": "IPY_MODEL_773f95faed5446ca8cbcca40784c49b6"
      }
     },
     "ed746d38297149eab8517d39642a8fbe": {
      "model_module": "@jupyter-widgets/controls",
      "model_module_version": "2.0.0",
      "model_name": "ButtonStyleModel",
      "state": {
       "font_family": null,
       "font_size": null,
       "font_style": null,
       "font_variant": null,
       "font_weight": null,
       "text_color": null,
       "text_decoration": null
      }
     },
     "ed9a9819b6ad4e95bb742161024e9218": {
      "model_module": "@jupyter-widgets/base",
      "model_module_version": "2.0.0",
      "model_name": "LayoutModel",
      "state": {}
     },
     "ed9e862dd2044bd199ac9854bd1ad0df": {
      "model_module": "@jupyter-widgets/base",
      "model_module_version": "2.0.0",
      "model_name": "LayoutModel",
      "state": {}
     },
     "ede06ac8182246d09a006cb333932870": {
      "model_module": "@jupyter-widgets/controls",
      "model_module_version": "2.0.0",
      "model_name": "ButtonModel",
      "state": {
       "description": "Clear",
       "layout": "IPY_MODEL_7d9b6d688ac0422caf26a255292d98d9",
       "style": "IPY_MODEL_151a6d83c6494efbb18c2730cd7d91f8",
       "tooltip": null
      }
     },
     "eded6bf6be2a487e950e8b367488a01a": {
      "model_module": "@jupyter-widgets/controls",
      "model_module_version": "2.0.0",
      "model_name": "BoxModel",
      "state": {
       "children": [
        "IPY_MODEL_1a1de325b5a94cce8a89609bdead4725",
        "IPY_MODEL_4fb090b816074b12bfbf7d8079d269a7"
       ],
       "layout": "IPY_MODEL_d20306500b884179929f286f0c37c3ae"
      }
     },
     "edf80d0ccc8d4afca6d110509c0c092d": {
      "model_module": "@jupyter-widgets/controls",
      "model_module_version": "2.0.0",
      "model_name": "CheckboxModel",
      "state": {
       "description": "medicine ball",
       "disabled": false,
       "indent": false,
       "layout": "IPY_MODEL_2024576f2aa04b60a6c89feece7b9f95",
       "style": "IPY_MODEL_90676741d75e4fbbbf9b813ee07ff593",
       "value": true
      }
     },
     "ee18448b386d48e6a7c8540f80bf4687": {
      "model_module": "@jupyter-widgets/base",
      "model_module_version": "2.0.0",
      "model_name": "LayoutModel",
      "state": {}
     },
     "ee26b3a8a37649318ab234a95baa960c": {
      "model_module": "@jupyter-widgets/base",
      "model_module_version": "2.0.0",
      "model_name": "LayoutModel",
      "state": {}
     },
     "ee41773e32074617a3ddb29f5a7935a8": {
      "model_module": "@jupyter-widgets/controls",
      "model_module_version": "2.0.0",
      "model_name": "ButtonStyleModel",
      "state": {
       "font_family": null,
       "font_size": null,
       "font_style": null,
       "font_variant": null,
       "font_weight": null,
       "text_color": null,
       "text_decoration": null
      }
     },
     "ee56b0151ad0453ba205e80172863f54": {
      "model_module": "@jupyter-widgets/base",
      "model_module_version": "2.0.0",
      "model_name": "LayoutModel",
      "state": {}
     },
     "ee8105903df14bf1b736042defbdf88a": {
      "model_module": "@jupyter-widgets/controls",
      "model_module_version": "2.0.0",
      "model_name": "CheckboxStyleModel",
      "state": {
       "description_width": ""
      }
     },
     "eeae7a7f3827423f94ae293fa2453e21": {
      "model_module": "@jupyter-widgets/base",
      "model_module_version": "2.0.0",
      "model_name": "LayoutModel",
      "state": {
       "align_items": "stretch",
       "display": "flex",
       "flex_flow": "row",
       "justify_content": "space-around",
       "width": "70%"
      }
     },
     "eebdcefb6c464de0bd15f4c863aef07c": {
      "model_module": "@jupyter-widgets/controls",
      "model_module_version": "2.0.0",
      "model_name": "ButtonModel",
      "state": {
       "description": "Close",
       "layout": "IPY_MODEL_9e1e57bc1e2e405da793cd93a7320178",
       "style": "IPY_MODEL_6a43eabd17f24b3da66136811e46c2e3",
       "tooltip": null
      }
     },
     "eed3b7cfc8274675b62bdd0d97beef01": {
      "model_module": "@jupyter-widgets/base",
      "model_module_version": "2.0.0",
      "model_name": "LayoutModel",
      "state": {
       "height": "40px",
       "width": "160px"
      }
     },
     "eeddf28bdd05418d83ffe0ab14e1a771": {
      "model_module": "@jupyter-widgets/base",
      "model_module_version": "2.0.0",
      "model_name": "LayoutModel",
      "state": {}
     },
     "eefbe53d498a41059290cb6f722e1571": {
      "model_module": "@jupyter-widgets/base",
      "model_module_version": "2.0.0",
      "model_name": "LayoutModel",
      "state": {}
     },
     "ef12a1600ddd4da984ba4cd566861c2e": {
      "model_module": "@jupyter-widgets/controls",
      "model_module_version": "2.0.0",
      "model_name": "VBoxModel",
      "state": {
       "children": [
        "IPY_MODEL_0f5ffe34cc77472f880125863c5b8a1f"
       ],
       "layout": "IPY_MODEL_8d3ac154697e470ebc3fe43ceeded2e3"
      }
     },
     "ef18097c6cdd44f8be20a58db452f86c": {
      "model_module": "@jupyter-widgets/controls",
      "model_module_version": "2.0.0",
      "model_name": "HTMLModel",
      "state": {
       "layout": "IPY_MODEL_3ee26a3200df4e2e9cca5f0239391ac6",
       "style": "IPY_MODEL_f6a7170e7136458cab2e4703a70cf41a",
       "value": "<h2>Body Area</h2>"
      }
     },
     "ef842c7a379b4a9ca059064a60a2928b": {
      "model_module": "@jupyter-widgets/controls",
      "model_module_version": "2.0.0",
      "model_name": "HTMLModel",
      "state": {
       "layout": "IPY_MODEL_be418d85c6164ba0af315edf894c62bd",
       "style": "IPY_MODEL_940e924f75c84783a80aa5196bfce49e",
       "value": "<h1>Results</h1>"
      }
     },
     "efa48d168db64f6482760bc3bf924d44": {
      "model_module": "@jupyter-widgets/controls",
      "model_module_version": "2.0.0",
      "model_name": "CheckboxModel",
      "state": {
       "description": "lowerBody",
       "disabled": false,
       "indent": false,
       "layout": "IPY_MODEL_9a773daba9414f64b888cff89a64d3eb",
       "style": "IPY_MODEL_a507195fe2684eebabad5bbae0d9d883",
       "value": true
      }
     },
     "efb6f0ff20a44ad09d26ed747cf327e2": {
      "model_module": "@jupyter-widgets/controls",
      "model_module_version": "2.0.0",
      "model_name": "ButtonModel",
      "state": {
       "description": "Instruction",
       "icon": "comment",
       "layout": "IPY_MODEL_e6b9765561ae49719cf9e51d8cd065ce",
       "style": "IPY_MODEL_c8f8ac0b7db24f6f90fcb0cd54e6a6c1",
       "tooltip": "558"
      }
     },
     "efebad4e0dba418caac782c3705ecd3f": {
      "model_module": "@jupyter-widgets/controls",
      "model_module_version": "2.0.0",
      "model_name": "HBoxModel",
      "state": {
       "children": [
        "IPY_MODEL_bb522c1a8eed45199c25a8d3312b6c9a"
       ],
       "layout": "IPY_MODEL_d22fbc8e1e18483b8d7432c16ba9b145"
      }
     },
     "f0144e9741254c86b39c183c6eada8ee": {
      "model_module": "@jupyter-widgets/base",
      "model_module_version": "2.0.0",
      "model_name": "LayoutModel",
      "state": {
       "height": "55px",
       "width": "120px"
      }
     },
     "f0546e7975054ea9ab94e53f98ecbabf": {
      "model_module": "@jupyter-widgets/base",
      "model_module_version": "2.0.0",
      "model_name": "LayoutModel",
      "state": {}
     },
     "f0aa520440564f9caec73c8137fec1cf": {
      "model_module": "@jupyter-widgets/base",
      "model_module_version": "2.0.0",
      "model_name": "LayoutModel",
      "state": {
       "height": "120px",
       "width": "100px"
      }
     },
     "f0b517bcc3284df087a1cfc6609f5115": {
      "model_module": "@jupyter-widgets/base",
      "model_module_version": "2.0.0",
      "model_name": "LayoutModel",
      "state": {}
     },
     "f0b64fc8059b49fa9dd9e9f22d4cb74e": {
      "model_module": "@jupyter-widgets/controls",
      "model_module_version": "2.0.0",
      "model_name": "VBoxModel",
      "state": {
       "children": [
        "IPY_MODEL_1bd0eab078fc4fd2b2113e0118f2b031",
        "IPY_MODEL_1827e479f5a54de0b1064942bc9f4b53"
       ],
       "layout": "IPY_MODEL_83451da40c334ebaa09f0eac3b957b4c"
      }
     },
     "f0bde92e91564670b37a14a704fef72c": {
      "model_module": "@jupyter-widgets/base",
      "model_module_version": "2.0.0",
      "model_name": "LayoutModel",
      "state": {
       "height": "40px",
       "width": "160px"
      }
     },
     "f0c0642aea644c2ea75aaa9d797c3b02": {
      "model_module": "@jupyter-widgets/base",
      "model_module_version": "2.0.0",
      "model_name": "LayoutModel",
      "state": {
       "height": "55px",
       "width": "120px"
      }
     },
     "f0cd538136594b8fbdcd2d97ffe53bc8": {
      "model_module": "@jupyter-widgets/controls",
      "model_module_version": "2.0.0",
      "model_name": "VBoxModel",
      "state": {
       "children": [
        "IPY_MODEL_3253f502288d43e592727b186181dc32",
        "IPY_MODEL_8366e3cfccd146ac9575faf2d5878a81"
       ],
       "layout": "IPY_MODEL_d0cd728d32464b0e88c275f1d42d6acc"
      }
     },
     "f0d1f726a5514bd88e55c794d50cf60a": {
      "model_module": "@jupyter-widgets/base",
      "model_module_version": "2.0.0",
      "model_name": "LayoutModel",
      "state": {
       "align_items": "stretch",
       "display": "flex",
       "flex_flow": "row",
       "justify_content": "space-around",
       "width": "70%"
      }
     },
     "f0dbc9195bd04ad0b95a78bfaeb0acf5": {
      "model_module": "@jupyter-widgets/controls",
      "model_module_version": "2.0.0",
      "model_name": "CheckboxStyleModel",
      "state": {
       "description_width": ""
      }
     },
     "f0e2473032e640118dbdf3f5e6c3b378": {
      "model_module": "@jupyter-widgets/base",
      "model_module_version": "2.0.0",
      "model_name": "LayoutModel",
      "state": {
       "align_items": "stretch",
       "display": "flex",
       "flex_flow": "row",
       "justify_content": "space-around",
       "width": "70%"
      }
     },
     "f0ee26b8f951444a8595b0a206040960": {
      "model_module": "@jupyter-widgets/controls",
      "model_module_version": "2.0.0",
      "model_name": "ButtonModel",
      "state": {
       "description": "Instruction",
       "icon": "comment",
       "layout": "IPY_MODEL_457907595c2d44e6b8f7579334fde094",
       "style": "IPY_MODEL_bdd35eb0a76745afaae200ff90ac669a",
       "tooltip": "81"
      }
     },
     "f11dbbc621904c8caf789be82c71f57d": {
      "model_module": "@jupyter-widgets/base",
      "model_module_version": "2.0.0",
      "model_name": "LayoutModel",
      "state": {
       "height": "55px",
       "width": "120px"
      }
     },
     "f123b043a02a4cb09d2507b33fe063b4": {
      "model_module": "@jupyter-widgets/base",
      "model_module_version": "2.0.0",
      "model_name": "LayoutModel",
      "state": {}
     },
     "f153f2dd4cc343cf94842ba4b79e2d05": {
      "model_module": "@jupyter-widgets/controls",
      "model_module_version": "2.0.0",
      "model_name": "CheckboxStyleModel",
      "state": {
       "description_width": ""
      }
     },
     "f165e0be763147479e2bed6132a49988": {
      "model_module": "@jupyter-widgets/controls",
      "model_module_version": "2.0.0",
      "model_name": "BoxModel",
      "state": {
       "children": [
        "IPY_MODEL_bd2c3d91bdda42419f85838fe1d2adc4",
        "IPY_MODEL_23f9cbff9c064deab69926110b55bb87"
       ],
       "layout": "IPY_MODEL_8e4f1bccc6064360981ac3ae2bb5690c"
      }
     },
     "f179e0b07ad847e6864a4a45d228eac6": {
      "model_module": "@jupyter-widgets/controls",
      "model_module_version": "2.0.0",
      "model_name": "BoxModel",
      "state": {
       "children": [
        "IPY_MODEL_55a8d2e63ae34f8b91e5b1aa8b8bd696",
        "IPY_MODEL_5010718805f249ac902f93e6db1f446b"
       ],
       "layout": "IPY_MODEL_c6bd74cc0c2345908667a26f3e883e9c"
      }
     },
     "f1833621fe964604920c12343f70f9e0": {
      "model_module": "@jupyter-widgets/controls",
      "model_module_version": "2.0.0",
      "model_name": "ButtonModel",
      "state": {
       "description": "Close",
       "layout": "IPY_MODEL_d25df2db02f74275a45619ab9fc33449",
       "style": "IPY_MODEL_f61fdaa8ec4e486d8b23b07b3126281d",
       "tooltip": null
      }
     },
     "f1af40014f7a4e0cb51a1e6ddebe3594": {
      "model_module": "@jupyter-widgets/base",
      "model_module_version": "2.0.0",
      "model_name": "LayoutModel",
      "state": {}
     },
     "f1e0766f932d447ca001b9a0025b2a71": {
      "model_module": "@jupyter-widgets/base",
      "model_module_version": "2.0.0",
      "model_name": "LayoutModel",
      "state": {}
     },
     "f21a2e24ecb5495e8123160ce7e4c139": {
      "model_module": "@jupyter-widgets/controls",
      "model_module_version": "2.0.0",
      "model_name": "CheckboxModel",
      "state": {
       "description": "foam roll",
       "disabled": false,
       "indent": false,
       "layout": "IPY_MODEL_387c75c416be4267a68a40e4de67c7aa",
       "style": "IPY_MODEL_782122409a2948d9a5bee8da87f98161",
       "value": false
      }
     },
     "f21de033f38b48aeb61849cbce80a4e5": {
      "model_module": "@jupyter-widgets/base",
      "model_module_version": "2.0.0",
      "model_name": "LayoutModel",
      "state": {}
     },
     "f333caa7bd904eecb7ea21bd37c142ce": {
      "model_module": "@jupyter-widgets/controls",
      "model_module_version": "2.0.0",
      "model_name": "ButtonModel",
      "state": {
       "description": "Exit",
       "layout": "IPY_MODEL_c108ecf06d424f108339ee165b86594f",
       "style": "IPY_MODEL_04fd4dc0404140398eff9ee115601806",
       "tooltip": null
      }
     },
     "f33bd10c35ef4782b3d4a58c65fb5ada": {
      "model_module": "@jupyter-widgets/controls",
      "model_module_version": "2.0.0",
      "model_name": "HBoxModel",
      "state": {
       "children": [
        "IPY_MODEL_d75c111811144424ad0ac7ee8902da63"
       ],
       "layout": "IPY_MODEL_5dc32137db3743fa9842359d4daf8aa2"
      }
     },
     "f349c5e104554be9b1b5c0cd69895a41": {
      "model_module": "@jupyter-widgets/controls",
      "model_module_version": "2.0.0",
      "model_name": "HBoxModel",
      "state": {
       "children": [
        "IPY_MODEL_e68204cb33b04c7d8c484df6d1863c8b"
       ],
       "layout": "IPY_MODEL_d186e66d787a41a0ae96f6b941de7c49"
      }
     },
     "f368b4fc64b3492491ff1ed4a29982bd": {
      "model_module": "@jupyter-widgets/controls",
      "model_module_version": "2.0.0",
      "model_name": "HBoxModel",
      "state": {
       "children": [
        "IPY_MODEL_13f9c67c505d4c02a01672cdbef471ef"
       ],
       "layout": "IPY_MODEL_f443619e671743f9abfd708d99f2f84a"
      }
     },
     "f3c2254544394dcaa0c9858f3cbca0a9": {
      "model_module": "@jupyter-widgets/base",
      "model_module_version": "2.0.0",
      "model_name": "LayoutModel",
      "state": {}
     },
     "f3e07f8e0c864c358f08c655ac4becf4": {
      "model_module": "@jupyter-widgets/controls",
      "model_module_version": "2.0.0",
      "model_name": "HBoxModel",
      "state": {
       "children": [
        "IPY_MODEL_2deac4a4971445f4855738bb818dc3d9"
       ],
       "layout": "IPY_MODEL_795ea5c40ccf475e9099cb8e99af8cfc"
      }
     },
     "f3fb7da3e16847b8aca66f57fb3a9b74": {
      "model_module": "@jupyter-widgets/controls",
      "model_module_version": "2.0.0",
      "model_name": "HBoxModel",
      "state": {
       "children": [
        "IPY_MODEL_887f4550e3dc41d7ac943f41e4a21ec7",
        "IPY_MODEL_8159baa88174491fbf9c0d58a54fa36b",
        "IPY_MODEL_0fdbcbdbc31642cbb7d443fe97480f0b",
        "IPY_MODEL_c080b6f314994c33a20a05dc5ed90f50"
       ],
       "layout": "IPY_MODEL_dfa27d1ab3da4e98941e263bdfff03db"
      }
     },
     "f40eb716d5ec471fa9a454d60bf377da": {
      "model_module": "@jupyter-widgets/base",
      "model_module_version": "2.0.0",
      "model_name": "LayoutModel",
      "state": {
       "height": "40px",
       "width": "160px"
      }
     },
     "f443619e671743f9abfd708d99f2f84a": {
      "model_module": "@jupyter-widgets/base",
      "model_module_version": "2.0.0",
      "model_name": "LayoutModel",
      "state": {}
     },
     "f485228747944b5798cd21c54aac3abf": {
      "model_module": "@jupyter-widgets/controls",
      "model_module_version": "2.0.0",
      "model_name": "CheckboxModel",
      "state": {
       "description": "other",
       "disabled": false,
       "indent": false,
       "layout": "IPY_MODEL_781a1f5fb2ed48f1bff3007d6cc65480",
       "style": "IPY_MODEL_7a51cbdee65547d0a721d8d3dfcc5cc9",
       "value": false
      }
     },
     "f4afbf3ff6c54fa6bc2e5fef57df1f29": {
      "model_module": "@jupyter-widgets/base",
      "model_module_version": "2.0.0",
      "model_name": "LayoutModel",
      "state": {}
     },
     "f4c7545e6ca340eb92490dfa61086b6b": {
      "model_module": "@jupyter-widgets/controls",
      "model_module_version": "2.0.0",
      "model_name": "BoxModel",
      "state": {
       "children": [
        "IPY_MODEL_55a8d2e63ae34f8b91e5b1aa8b8bd696",
        "IPY_MODEL_5010718805f249ac902f93e6db1f446b"
       ],
       "layout": "IPY_MODEL_580d97e6b971443dbbef3d0593158dfa"
      }
     },
     "f4cd6f58f0bf41a58edae88a23b98f00": {
      "model_module": "@jupyter-widgets/base",
      "model_module_version": "2.0.0",
      "model_name": "LayoutModel",
      "state": {}
     },
     "f4f5f5fc3d404dafa8121a25b14a8914": {
      "model_module": "@jupyter-widgets/controls",
      "model_module_version": "2.0.0",
      "model_name": "HTMLStyleModel",
      "state": {
       "description_width": "",
       "font_size": null,
       "text_color": null
      }
     },
     "f52309e986d94795bbc8db59d7a5641c": {
      "model_module": "@jupyter-widgets/base",
      "model_module_version": "2.0.0",
      "model_name": "LayoutModel",
      "state": {}
     },
     "f5424721651f4d6fadd165dc8fad27e0": {
      "model_module": "@jupyter-widgets/controls",
      "model_module_version": "2.0.0",
      "model_name": "ButtonStyleModel",
      "state": {
       "font_family": null,
       "font_size": null,
       "font_style": null,
       "font_variant": null,
       "font_weight": null,
       "text_color": null,
       "text_decoration": null
      }
     },
     "f56cfa47e84745f89d0beb5c383cbf56": {
      "model_module": "@jupyter-widgets/controls",
      "model_module_version": "2.0.0",
      "model_name": "HBoxModel",
      "state": {
       "children": [
        "IPY_MODEL_7af71b7863d342bf9e3651377367dfba"
       ],
       "layout": "IPY_MODEL_ac0fe6352e514209bf5ad30c5bd01106"
      }
     },
     "f5a368a12fdd4a24a95b5e744d7a46f7": {
      "model_module": "@jupyter-widgets/controls",
      "model_module_version": "2.0.0",
      "model_name": "HTMLStyleModel",
      "state": {
       "description_width": "",
       "font_size": null,
       "text_color": null
      }
     },
     "f5a7a31686f5475fb79401b68b254b0e": {
      "model_module": "@jupyter-widgets/controls",
      "model_module_version": "2.0.0",
      "model_name": "CheckboxModel",
      "state": {
       "description": "strongman",
       "disabled": false,
       "indent": false,
       "layout": "IPY_MODEL_2d9084552bac47bbba5c5ad2fe813b02",
       "style": "IPY_MODEL_747ab87c6e3542f0a20c01616169b02b",
       "value": true
      }
     },
     "f5afbe7075294024960a4a333641bd23": {
      "model_module": "@jupyter-widgets/controls",
      "model_module_version": "2.0.0",
      "model_name": "CheckboxModel",
      "state": {
       "description": "body only",
       "disabled": false,
       "indent": false,
       "layout": "IPY_MODEL_a06b5b83916a415ebe2f05b5c19a209a",
       "style": "IPY_MODEL_3fc77c5f1f4b41f2b76f4d39bc25aa80",
       "value": true
      }
     },
     "f5b8d3e7ef2a4b5f937d7c5a82793422": {
      "model_module": "@jupyter-widgets/controls",
      "model_module_version": "2.0.0",
      "model_name": "HTMLStyleModel",
      "state": {
       "description_width": "",
       "font_size": null,
       "text_color": null
      }
     },
     "f5c33f6109e047c0bab05efa0e39505e": {
      "model_module": "@jupyter-widgets/base",
      "model_module_version": "2.0.0",
      "model_name": "LayoutModel",
      "state": {}
     },
     "f5c8b2cab4224e5898e03a9d202cca99": {
      "model_module": "@jupyter-widgets/base",
      "model_module_version": "2.0.0",
      "model_name": "LayoutModel",
      "state": {}
     },
     "f5d5a4fef4cf4eed90024f08752332bb": {
      "model_module": "@jupyter-widgets/controls",
      "model_module_version": "2.0.0",
      "model_name": "CheckboxStyleModel",
      "state": {
       "description_width": ""
      }
     },
     "f609631103a8437ab01c46839c39736e": {
      "model_module": "@jupyter-widgets/base",
      "model_module_version": "2.0.0",
      "model_name": "LayoutModel",
      "state": {}
     },
     "f61506ad86004c05a4926d1b6e537769": {
      "model_module": "@jupyter-widgets/controls",
      "model_module_version": "2.0.0",
      "model_name": "HTMLStyleModel",
      "state": {
       "description_width": "",
       "font_size": null,
       "text_color": null
      }
     },
     "f61fdaa8ec4e486d8b23b07b3126281d": {
      "model_module": "@jupyter-widgets/controls",
      "model_module_version": "2.0.0",
      "model_name": "ButtonStyleModel",
      "state": {
       "font_family": null,
       "font_size": null,
       "font_style": null,
       "font_variant": null,
       "font_weight": null,
       "text_color": null,
       "text_decoration": null
      }
     },
     "f672d7a9feb54fa8bedd0a567053c68d": {
      "model_module": "@jupyter-widgets/controls",
      "model_module_version": "2.0.0",
      "model_name": "HBoxModel",
      "state": {
       "children": [
        "IPY_MODEL_2df2dc5623244466989f3d24ed1ef6ce"
       ],
       "layout": "IPY_MODEL_73c7780e5b8b4b048462996ea15095d8"
      }
     },
     "f684cb984210485892836c4c7648193c": {
      "model_module": "@jupyter-widgets/base",
      "model_module_version": "2.0.0",
      "model_name": "LayoutModel",
      "state": {}
     },
     "f6a7170e7136458cab2e4703a70cf41a": {
      "model_module": "@jupyter-widgets/controls",
      "model_module_version": "2.0.0",
      "model_name": "HTMLStyleModel",
      "state": {
       "description_width": "",
       "font_size": null,
       "text_color": null
      }
     },
     "f6c22eec729246e3ae3eaf8bd63742f9": {
      "model_module": "@jupyter-widgets/controls",
      "model_module_version": "2.0.0",
      "model_name": "ButtonModel",
      "state": {
       "description": "Ex Category",
       "layout": "IPY_MODEL_215e363d7c6b4239b3c630d1b46eea45",
       "style": "IPY_MODEL_4268dcb355d64e729e8d22afc60e3e17",
       "tooltip": null
      }
     },
     "f6c60831ab78479786fa22fc0fa062a9": {
      "model_module": "@jupyter-widgets/base",
      "model_module_version": "2.0.0",
      "model_name": "LayoutModel",
      "state": {}
     },
     "f6e34b5715784b5eb61e70a8368da623": {
      "model_module": "@jupyter-widgets/base",
      "model_module_version": "2.0.0",
      "model_name": "LayoutModel",
      "state": {
       "height": "55px",
       "width": "120px"
      }
     },
     "f74d21e992074df9a3f96c617db635cf": {
      "model_module": "@jupyter-widgets/controls",
      "model_module_version": "2.0.0",
      "model_name": "CheckboxModel",
      "state": {
       "description": "body only",
       "disabled": false,
       "indent": false,
       "layout": "IPY_MODEL_496363dd94444a8289aa31ce74c2f7a0",
       "style": "IPY_MODEL_88758d59ed5b453c870f8a70a287b177",
       "value": false
      }
     },
     "f76b565273484ef0ac76874a4e775626": {
      "model_module": "@jupyter-widgets/base",
      "model_module_version": "2.0.0",
      "model_name": "LayoutModel",
      "state": {}
     },
     "f77e44bb539545039285dcbae4d5d0ea": {
      "model_module": "@jupyter-widgets/base",
      "model_module_version": "2.0.0",
      "model_name": "LayoutModel",
      "state": {
       "height": "40px",
       "width": "160px"
      }
     },
     "f791cd1aab5d40cab3822368a803302c": {
      "model_module": "@jupyter-widgets/controls",
      "model_module_version": "2.0.0",
      "model_name": "HTMLStyleModel",
      "state": {
       "description_width": "",
       "font_size": null,
       "text_color": null
      }
     },
     "f7921bf1cea84c1e8adb4a8c89713dea": {
      "model_module": "@jupyter-widgets/base",
      "model_module_version": "2.0.0",
      "model_name": "LayoutModel",
      "state": {}
     },
     "f8134dfbfecd4e209c96271e841876f4": {
      "model_module": "@jupyter-widgets/controls",
      "model_module_version": "2.0.0",
      "model_name": "HBoxModel",
      "state": {
       "children": [
        "IPY_MODEL_e68204cb33b04c7d8c484df6d1863c8b"
       ],
       "layout": "IPY_MODEL_425f7df3e21f4d759d08895105f17ae1"
      }
     },
     "f8142d29dc394eb4b664f371ee48c45e": {
      "model_module": "@jupyter-widgets/controls",
      "model_module_version": "2.0.0",
      "model_name": "HBoxModel",
      "state": {
       "children": [
        "IPY_MODEL_3baca76349fa4cbdbe27fab4985d1845",
        "IPY_MODEL_9b719d856b424ca5bb3fe89a7aa3caf0",
        "IPY_MODEL_1b97495d262b44cbbdcb3401412afdc7",
        "IPY_MODEL_5270b058c5064d4893447e57c343f762"
       ],
       "layout": "IPY_MODEL_fdd161b1b9cb46d7b9a74b6adf5cdeb1"
      }
     },
     "f873fe74252d462d80a5d407125cb9f9": {
      "model_module": "@jupyter-widgets/base",
      "model_module_version": "2.0.0",
      "model_name": "LayoutModel",
      "state": {
       "height": "40px",
       "width": "160px"
      }
     },
     "f88497037f7a4067b749f11bef77a4c3": {
      "model_module": "@jupyter-widgets/base",
      "model_module_version": "2.0.0",
      "model_name": "LayoutModel",
      "state": {
       "height": "40px",
       "width": "160px"
      }
     },
     "f9066c6daa944de499a7af930073364f": {
      "model_module": "@jupyter-widgets/controls",
      "model_module_version": "2.0.0",
      "model_name": "ButtonStyleModel",
      "state": {
       "font_family": null,
       "font_size": null,
       "font_style": null,
       "font_variant": null,
       "font_weight": null,
       "text_color": null,
       "text_decoration": null
      }
     },
     "f92f8f2573f34f16b1c6aaaed548038a": {
      "model_module": "@jupyter-widgets/controls",
      "model_module_version": "2.0.0",
      "model_name": "HTMLStyleModel",
      "state": {
       "description_width": "",
       "font_size": null,
       "text_color": null
      }
     },
     "f96214cf0b7d41d18024d5d22f901c04": {
      "model_module": "@jupyter-widgets/base",
      "model_module_version": "2.0.0",
      "model_name": "LayoutModel",
      "state": {
       "height": "40px",
       "width": "160px"
      }
     },
     "f98ab53a2b9341bf9121ac62cf701326": {
      "model_module": "@jupyter-widgets/controls",
      "model_module_version": "2.0.0",
      "model_name": "HBoxModel",
      "state": {
       "children": [
        "IPY_MODEL_dd10a2540ebe48b29b4cb458d99c9473"
       ],
       "layout": "IPY_MODEL_70c38d1f621d47e2b01a92125ffe6688"
      }
     },
     "f9c1444bd2934f81bac6a6494c848b43": {
      "model_module": "@jupyter-widgets/base",
      "model_module_version": "2.0.0",
      "model_name": "LayoutModel",
      "state": {}
     },
     "f9dee091d1cd4edc821762b46fd1bb72": {
      "model_module": "@jupyter-widgets/base",
      "model_module_version": "2.0.0",
      "model_name": "LayoutModel",
      "state": {}
     },
     "f9e7f9d1d98c4695a8beb6a16c3caae7": {
      "model_module": "@jupyter-widgets/base",
      "model_module_version": "2.0.0",
      "model_name": "LayoutModel",
      "state": {}
     },
     "fa02c9aafbc144348230961b9d346425": {
      "model_module": "@jupyter-widgets/base",
      "model_module_version": "2.0.0",
      "model_name": "LayoutModel",
      "state": {}
     },
     "fa19f0f611a54945a3c409465d29cd37": {
      "model_module": "@jupyter-widgets/controls",
      "model_module_version": "2.0.0",
      "model_name": "CheckboxModel",
      "state": {
       "description": "foam roll",
       "disabled": false,
       "indent": false,
       "layout": "IPY_MODEL_636c6445bd4a4175ab1cbb92be4d5d9e",
       "style": "IPY_MODEL_fc4ef3b6ee344c269384eb89ddda05bb",
       "value": true
      }
     },
     "fa2a6d8e9d814e51859c3a43958f7d07": {
      "model_module": "@jupyter-widgets/controls",
      "model_module_version": "2.0.0",
      "model_name": "CheckboxStyleModel",
      "state": {
       "description_width": ""
      }
     },
     "fa3865be4cc7469d81a2fb6f62f4a394": {
      "model_module": "@jupyter-widgets/controls",
      "model_module_version": "2.0.0",
      "model_name": "HTMLModel",
      "state": {
       "layout": "IPY_MODEL_98791b5a334744f8a49d0990b14ee784",
       "style": "IPY_MODEL_fb89f79efcb0411693ab6f27ae52bf34",
       "value": "<h1>Random Excercise Generator</h1>"
      }
     },
     "fae8a7f7cb414b4f96ca30e1cb68fd82": {
      "model_module": "@jupyter-widgets/controls",
      "model_module_version": "2.0.0",
      "model_name": "HBoxModel",
      "state": {
       "children": [
        "IPY_MODEL_2f78ef4058c548de9760e8aedb6bdf2d",
        "IPY_MODEL_217df78228b14362a18b9141a85599ba",
        "IPY_MODEL_49f139c86e6f4a4b9317a2967fda9710",
        "IPY_MODEL_927c75ff134b420bb406ae85cd3a1e76"
       ],
       "layout": "IPY_MODEL_63c588779a284204af3f0d427f665eba"
      }
     },
     "faf1763bf9e14918a9120c4a421555e2": {
      "model_module": "@jupyter-widgets/base",
      "model_module_version": "2.0.0",
      "model_name": "LayoutModel",
      "state": {}
     },
     "fb2ecc700e274f7d86089b5602171494": {
      "model_module": "@jupyter-widgets/controls",
      "model_module_version": "2.0.0",
      "model_name": "ButtonModel",
      "state": {
       "description": "Close",
       "layout": "IPY_MODEL_57b521016de7487894ea5f19f2c9ca0e",
       "style": "IPY_MODEL_2d7f7cd62f43405db965817e53f31151",
       "tooltip": null
      }
     },
     "fb3e4a6509bd4bfc88661b819f8fe5c4": {
      "model_module": "@jupyter-widgets/controls",
      "model_module_version": "2.0.0",
      "model_name": "HTMLStyleModel",
      "state": {
       "description_width": "",
       "font_size": null,
       "text_color": null
      }
     },
     "fb496783ba1b4747adb8c94c35342a7b": {
      "model_module": "@jupyter-widgets/base",
      "model_module_version": "2.0.0",
      "model_name": "LayoutModel",
      "state": {}
     },
     "fb89f79efcb0411693ab6f27ae52bf34": {
      "model_module": "@jupyter-widgets/controls",
      "model_module_version": "2.0.0",
      "model_name": "HTMLStyleModel",
      "state": {
       "description_width": "",
       "font_size": null,
       "text_color": null
      }
     },
     "fb99f5ee84ec4f3caa3b8d970eec9e41": {
      "model_module": "@jupyter-widgets/base",
      "model_module_version": "2.0.0",
      "model_name": "LayoutModel",
      "state": {}
     },
     "fbbafdea47604a09a19bf1219436897d": {
      "model_module": "@jupyter-widgets/controls",
      "model_module_version": "2.0.0",
      "model_name": "CheckboxStyleModel",
      "state": {
       "description_width": ""
      }
     },
     "fbf6b78648d94a7da3d87975484b7c3d": {
      "model_module": "@jupyter-widgets/controls",
      "model_module_version": "2.0.0",
      "model_name": "BoxModel",
      "state": {
       "children": [
        "IPY_MODEL_7b177d318ba44e479888328fa36366ed",
        "IPY_MODEL_37ee8695132d424faf10bbf08d8382a8"
       ],
       "layout": "IPY_MODEL_7c3a40de0eea4807a4a48556f5f56d11"
      }
     },
     "fc334c7ddd56470a9252a50fecf303b9": {
      "model_module": "@jupyter-widgets/base",
      "model_module_version": "2.0.0",
      "model_name": "LayoutModel",
      "state": {
       "height": "40px",
       "width": "160px"
      }
     },
     "fc44ae0c9d674ee88ff483f9491a43cb": {
      "model_module": "@jupyter-widgets/controls",
      "model_module_version": "2.0.0",
      "model_name": "VBoxModel",
      "state": {
       "children": [
        "IPY_MODEL_724e66876f2a40dc8a39e3dc2e58a547",
        "IPY_MODEL_707c84b7f91a4fecbeadaa3f85c37455"
       ],
       "layout": "IPY_MODEL_d36b8b6301e04c19848cdeed21c87c29"
      }
     },
     "fc44e3e11fcc4c16827c346d4320dcbe": {
      "model_module": "@jupyter-widgets/controls",
      "model_module_version": "2.0.0",
      "model_name": "HTMLStyleModel",
      "state": {
       "description_width": "",
       "font_size": null,
       "text_color": null
      }
     },
     "fc48207269ae4499a29f89c4e07e029e": {
      "model_module": "@jupyter-widgets/base",
      "model_module_version": "2.0.0",
      "model_name": "LayoutModel",
      "state": {
       "align_items": "stretch",
       "display": "flex",
       "flex_flow": "row",
       "justify_content": "space-around",
       "width": "70%"
      }
     },
     "fc4902011c4e48adb18e86ce12932b18": {
      "model_module": "@jupyter-widgets/base",
      "model_module_version": "2.0.0",
      "model_name": "LayoutModel",
      "state": {
       "height": "120px",
       "width": "100px"
      }
     },
     "fc4e66a191344bd9af915d2900b07c9e": {
      "model_module": "@jupyter-widgets/base",
      "model_module_version": "2.0.0",
      "model_name": "LayoutModel",
      "state": {}
     },
     "fc4ef3b6ee344c269384eb89ddda05bb": {
      "model_module": "@jupyter-widgets/controls",
      "model_module_version": "2.0.0",
      "model_name": "CheckboxStyleModel",
      "state": {
       "description_width": ""
      }
     },
     "fc51be63ef274464b88338ab6fbeab26": {
      "model_module": "@jupyter-widgets/controls",
      "model_module_version": "2.0.0",
      "model_name": "HTMLStyleModel",
      "state": {
       "description_width": "",
       "font_size": null,
       "text_color": null
      }
     },
     "fc578c45acd54533ac7f518e85a8e5ed": {
      "model_module": "@jupyter-widgets/base",
      "model_module_version": "2.0.0",
      "model_name": "LayoutModel",
      "state": {
       "height": "40px",
       "width": "160px"
      }
     },
     "fc71d2897bd04b6aac09bfbb33e9a41f": {
      "model_module": "@jupyter-widgets/base",
      "model_module_version": "2.0.0",
      "model_name": "LayoutModel",
      "state": {
       "height": "55px",
       "width": "120px"
      }
     },
     "fcc5840998cf44258e7eb92a039c898a": {
      "model_module": "@jupyter-widgets/controls",
      "model_module_version": "2.0.0",
      "model_name": "ButtonStyleModel",
      "state": {
       "font_family": null,
       "font_size": null,
       "font_style": null,
       "font_variant": null,
       "font_weight": null,
       "text_color": null,
       "text_decoration": null
      }
     },
     "fcfa8dedbc684cd5bf2324ba5445938c": {
      "model_module": "@jupyter-widgets/controls",
      "model_module_version": "2.0.0",
      "model_name": "VBoxModel",
      "state": {
       "children": [
        "IPY_MODEL_87eff5e7bc6a4e388b18e31a5b93c3b4",
        "IPY_MODEL_c596da9d0b5f4c02a0009d148c24e583"
       ],
       "layout": "IPY_MODEL_ca719a1baa244870b6e3aebd321ef686"
      }
     },
     "fd12b8ec29a44e42a38a680e45a5f5b7": {
      "model_module": "@jupyter-widgets/base",
      "model_module_version": "2.0.0",
      "model_name": "LayoutModel",
      "state": {}
     },
     "fd6a36c5a84842bdb8eeffe2567f4364": {
      "model_module": "@jupyter-widgets/controls",
      "model_module_version": "2.0.0",
      "model_name": "ButtonModel",
      "state": {
       "description": "Equipment",
       "layout": "IPY_MODEL_92dedfdb6acb42e4b804c51500bceba0",
       "style": "IPY_MODEL_cae1bd3199644583b1385e8b22237c9c",
       "tooltip": null
      }
     },
     "fd72496d496b47d8979900d5e12a5b56": {
      "model_module": "@jupyter-widgets/controls",
      "model_module_version": "2.0.0",
      "model_name": "BoxModel",
      "state": {
       "children": [
        "IPY_MODEL_abd27172bc574426998d55e64f588e87",
        "IPY_MODEL_319e2a4ef94f45ac9f285ae64fbf182f",
        "IPY_MODEL_89c340ae268c4fa7b6626d1a81c22689"
       ],
       "layout": "IPY_MODEL_ad4012faf1d741d8b02ee368577c495e"
      }
     },
     "fd725945c81a49d8bd64b46bb61919f6": {
      "model_module": "@jupyter-widgets/controls",
      "model_module_version": "2.0.0",
      "model_name": "HTMLStyleModel",
      "state": {
       "description_width": "",
       "font_size": null,
       "text_color": null
      }
     },
     "fd8a11baf3ca4012994486cdbe78c27c": {
      "model_module": "@jupyter-widgets/base",
      "model_module_version": "2.0.0",
      "model_name": "LayoutModel",
      "state": {
       "height": "55px",
       "width": "80px"
      }
     },
     "fd8d4d4a3fa64ced8f13996af6bc54ed": {
      "model_module": "@jupyter-widgets/controls",
      "model_module_version": "2.0.0",
      "model_name": "CheckboxModel",
      "state": {
       "description": "other",
       "disabled": false,
       "indent": false,
       "layout": "IPY_MODEL_6e34a02c545b4344ba6ff9923f0ee1e4",
       "style": "IPY_MODEL_3ab6bbdc4db54a4eaed1ad45aca5e15a",
       "value": true
      }
     },
     "fdc39d126bff4de5b63c46bd05147264": {
      "model_module": "@jupyter-widgets/controls",
      "model_module_version": "2.0.0",
      "model_name": "CheckboxStyleModel",
      "state": {
       "description_width": ""
      }
     },
     "fdd161b1b9cb46d7b9a74b6adf5cdeb1": {
      "model_module": "@jupyter-widgets/base",
      "model_module_version": "2.0.0",
      "model_name": "LayoutModel",
      "state": {}
     },
     "fde48361854941d28f30381e3ca5d6f6": {
      "model_module": "@jupyter-widgets/controls",
      "model_module_version": "2.0.0",
      "model_name": "VBoxModel",
      "state": {
       "children": [
        "IPY_MODEL_868a325155db459f82d7523d1cec5ad6",
        "IPY_MODEL_a955432d139a48a292bdd969829bf9e4"
       ],
       "layout": "IPY_MODEL_3a728211f1f644e6ab1d8048f0786a92"
      }
     },
     "fe4f9b7deec54142baf3f6f7b613eeab": {
      "model_module": "@jupyter-widgets/controls",
      "model_module_version": "2.0.0",
      "model_name": "HTMLStyleModel",
      "state": {
       "description_width": "",
       "font_size": null,
       "text_color": null
      }
     },
     "fe69708a1e33498493fec0d3af9479b7": {
      "model_module": "@jupyter-widgets/base",
      "model_module_version": "2.0.0",
      "model_name": "LayoutModel",
      "state": {}
     },
     "fec2bd24ad1b45a8a615923b62315eeb": {
      "model_module": "@jupyter-widgets/controls",
      "model_module_version": "2.0.0",
      "model_name": "ButtonModel",
      "state": {
       "description": "Body Area",
       "layout": "IPY_MODEL_40316478c61147d88a51be2541d8a677",
       "style": "IPY_MODEL_df54c2849f1e4e11a7b33f0310dd7d4d",
       "tooltip": null
      }
     },
     "ff00e76532fe492a9c6010bfe08021e0": {
      "model_module": "@jupyter-widgets/controls",
      "model_module_version": "2.0.0",
      "model_name": "ButtonModel",
      "state": {
       "description": "Instruction",
       "icon": "comment",
       "layout": "IPY_MODEL_71a54daa6a50419ab99c36fc480be2cc",
       "style": "IPY_MODEL_9667c1403f21487ab1d9dbd37b0bdf60",
       "tooltip": "803"
      }
     },
     "ff0b745a5db345a39b12abb6b9c831ab": {
      "model_module": "@jupyter-widgets/controls",
      "model_module_version": "2.0.0",
      "model_name": "VBoxModel",
      "state": {
       "children": [
        "IPY_MODEL_1d452738bf5c44039465ce81f92f13b8",
        "IPY_MODEL_e8f7ebfdaae043a5ae655dae9a325689"
       ],
       "layout": "IPY_MODEL_58e7fab3741640b1874008385f2ea8f7"
      }
     },
     "ff13b83703bb4b8a837e2c51296c6cd8": {
      "model_module": "@jupyter-widgets/base",
      "model_module_version": "2.0.0",
      "model_name": "LayoutModel",
      "state": {
       "height": "40px",
       "width": "160px"
      }
     },
     "ff1c07fd6b694b60ab0747158cd1db2a": {
      "model_module": "@jupyter-widgets/controls",
      "model_module_version": "2.0.0",
      "model_name": "ButtonStyleModel",
      "state": {
       "font_family": null,
       "font_size": null,
       "font_style": null,
       "font_variant": null,
       "font_weight": null,
       "text_color": null,
       "text_decoration": null
      }
     },
     "ff2c1f2fe22f4e8da9cb48fd967acbd8": {
      "model_module": "@jupyter-widgets/base",
      "model_module_version": "2.0.0",
      "model_name": "LayoutModel",
      "state": {
       "height": "55px",
       "width": "120px"
      }
     },
     "ff2d941fc1f94b4aa6afa1f116445e3b": {
      "model_module": "@jupyter-widgets/base",
      "model_module_version": "2.0.0",
      "model_name": "LayoutModel",
      "state": {}
     },
     "ff89208897304e34b313761f99c08617": {
      "model_module": "@jupyter-widgets/base",
      "model_module_version": "2.0.0",
      "model_name": "LayoutModel",
      "state": {
       "height": "40px",
       "width": "160px"
      }
     },
     "ff96e418543643d6bbc38c9b49c5dc14": {
      "model_module": "@jupyter-widgets/base",
      "model_module_version": "2.0.0",
      "model_name": "LayoutModel",
      "state": {}
     },
     "ffcc0360d7ff4204a95d7349f1f8ef68": {
      "model_module": "@jupyter-widgets/base",
      "model_module_version": "2.0.0",
      "model_name": "LayoutModel",
      "state": {
       "height": "55px",
       "width": "120px"
      }
     }
    },
    "version_major": 2,
    "version_minor": 0
   }
  }
 },
 "nbformat": 4,
 "nbformat_minor": 5
}
